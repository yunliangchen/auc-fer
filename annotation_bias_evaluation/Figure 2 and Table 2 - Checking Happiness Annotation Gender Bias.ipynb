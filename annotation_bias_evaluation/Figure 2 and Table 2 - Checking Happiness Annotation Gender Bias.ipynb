{
 "cells": [
  {
   "cell_type": "code",
   "execution_count": 1,
   "metadata": {},
   "outputs": [],
   "source": [
    "import numpy as np\n",
    "import pandas as pd\n",
    "import time\n",
    "import os\n",
    "import re\n",
    "import copy\n",
    "import matplotlib.pyplot as plt\n",
    "import seaborn as sns\n",
    "import scipy.stats as stats\n",
    "import statsmodels.api as sm\n",
    "import statsmodels.formula.api as smf"
   ]
  },
  {
   "cell_type": "markdown",
   "metadata": {},
   "source": [
    "# ExpW"
   ]
  },
  {
   "cell_type": "code",
   "execution_count": 2,
   "metadata": {},
   "outputs": [
    {
     "data": {
      "text/html": [
       "<div>\n",
       "<style scoped>\n",
       "    .dataframe tbody tr th:only-of-type {\n",
       "        vertical-align: middle;\n",
       "    }\n",
       "\n",
       "    .dataframe tbody tr th {\n",
       "        vertical-align: top;\n",
       "    }\n",
       "\n",
       "    .dataframe thead th {\n",
       "        text-align: right;\n",
       "    }\n",
       "</style>\n",
       "<table border=\"1\" class=\"dataframe\">\n",
       "  <thead>\n",
       "    <tr style=\"text-align: right;\">\n",
       "      <th></th>\n",
       "      <th>ImageName</th>\n",
       "      <th>Expression</th>\n",
       "      <th>race_preds</th>\n",
       "      <th>gender_preds</th>\n",
       "      <th>age_preds</th>\n",
       "      <th>race_scores</th>\n",
       "      <th>gender_scores</th>\n",
       "      <th>age_scores</th>\n",
       "      <th>face</th>\n",
       "      <th>confidence</th>\n",
       "      <th>...</th>\n",
       "      <th>AU10_r</th>\n",
       "      <th>AU12_r</th>\n",
       "      <th>AU14_r</th>\n",
       "      <th>AU15_r</th>\n",
       "      <th>AU17_r</th>\n",
       "      <th>AU20_r</th>\n",
       "      <th>AU23_r</th>\n",
       "      <th>AU25_r</th>\n",
       "      <th>AU26_r</th>\n",
       "      <th>AU45_r</th>\n",
       "    </tr>\n",
       "  </thead>\n",
       "  <tbody>\n",
       "    <tr>\n",
       "      <th>0</th>\n",
       "      <td>angry_actor_104_0.jpg</td>\n",
       "      <td>0</td>\n",
       "      <td>Black</td>\n",
       "      <td>Male</td>\n",
       "      <td>20-29</td>\n",
       "      <td>[0.01164725 0.5489195  0.06282789 0.03017501 0...</td>\n",
       "      <td>[0.97893476 0.02106526]</td>\n",
       "      <td>[0.00264865 0.03285832 0.07209051 0.29417548 0...</td>\n",
       "      <td>0.0</td>\n",
       "      <td>0.875</td>\n",
       "      <td>...</td>\n",
       "      <td>0.00</td>\n",
       "      <td>0.41</td>\n",
       "      <td>3.61</td>\n",
       "      <td>0.54</td>\n",
       "      <td>1.10</td>\n",
       "      <td>0.68</td>\n",
       "      <td>0.00</td>\n",
       "      <td>2.23</td>\n",
       "      <td>0.00</td>\n",
       "      <td>0.17</td>\n",
       "    </tr>\n",
       "    <tr>\n",
       "      <th>1</th>\n",
       "      <td>angry_actor_109_0.jpg</td>\n",
       "      <td>0</td>\n",
       "      <td>Middle Eastern</td>\n",
       "      <td>Male</td>\n",
       "      <td>10-19</td>\n",
       "      <td>[0.07172439 0.03716405 0.07634144 0.09301798 0...</td>\n",
       "      <td>[0.9886888  0.01131118]</td>\n",
       "      <td>[5.5791729e-04 2.5763142e-01 4.3460685e-01 2.5...</td>\n",
       "      <td>0.0</td>\n",
       "      <td>0.925</td>\n",
       "      <td>...</td>\n",
       "      <td>1.16</td>\n",
       "      <td>0.76</td>\n",
       "      <td>0.77</td>\n",
       "      <td>1.12</td>\n",
       "      <td>0.04</td>\n",
       "      <td>1.38</td>\n",
       "      <td>0.00</td>\n",
       "      <td>1.20</td>\n",
       "      <td>0.00</td>\n",
       "      <td>0.00</td>\n",
       "    </tr>\n",
       "    <tr>\n",
       "      <th>2</th>\n",
       "      <td>angry_actor_120_1.jpg</td>\n",
       "      <td>2</td>\n",
       "      <td>White</td>\n",
       "      <td>Male</td>\n",
       "      <td>20-29</td>\n",
       "      <td>[0.38725546 0.02379545 0.04428627 0.3587341  0...</td>\n",
       "      <td>[0.7577495  0.24225047]</td>\n",
       "      <td>[0.00361199 0.02466666 0.0458126  0.62581354 0...</td>\n",
       "      <td>1.0</td>\n",
       "      <td>0.925</td>\n",
       "      <td>...</td>\n",
       "      <td>0.06</td>\n",
       "      <td>0.00</td>\n",
       "      <td>1.51</td>\n",
       "      <td>0.00</td>\n",
       "      <td>0.00</td>\n",
       "      <td>0.00</td>\n",
       "      <td>0.00</td>\n",
       "      <td>1.09</td>\n",
       "      <td>0.51</td>\n",
       "      <td>0.10</td>\n",
       "    </tr>\n",
       "    <tr>\n",
       "      <th>3</th>\n",
       "      <td>angry_actor_13_0.jpg</td>\n",
       "      <td>3</td>\n",
       "      <td>East Asian</td>\n",
       "      <td>Female</td>\n",
       "      <td>20-29</td>\n",
       "      <td>[0.05252786 0.06977403 0.0932842  0.40103135 0...</td>\n",
       "      <td>[0.46038443 0.5396156 ]</td>\n",
       "      <td>[0.00304344 0.0880671  0.22934933 0.39468738 0...</td>\n",
       "      <td>0.0</td>\n",
       "      <td>0.975</td>\n",
       "      <td>...</td>\n",
       "      <td>0.99</td>\n",
       "      <td>0.00</td>\n",
       "      <td>0.00</td>\n",
       "      <td>0.36</td>\n",
       "      <td>0.56</td>\n",
       "      <td>0.00</td>\n",
       "      <td>0.13</td>\n",
       "      <td>0.96</td>\n",
       "      <td>1.02</td>\n",
       "      <td>0.00</td>\n",
       "    </tr>\n",
       "    <tr>\n",
       "      <th>4</th>\n",
       "      <td>angry_actor_132_0.jpg</td>\n",
       "      <td>0</td>\n",
       "      <td>White</td>\n",
       "      <td>Female</td>\n",
       "      <td>20-29</td>\n",
       "      <td>[0.29344454 0.09408408 0.14308809 0.2740257  0...</td>\n",
       "      <td>[0.44868255 0.55131745]</td>\n",
       "      <td>[0.00321869 0.0189087  0.0630689  0.40079823 0...</td>\n",
       "      <td>0.0</td>\n",
       "      <td>0.875</td>\n",
       "      <td>...</td>\n",
       "      <td>0.05</td>\n",
       "      <td>0.00</td>\n",
       "      <td>0.13</td>\n",
       "      <td>0.00</td>\n",
       "      <td>0.76</td>\n",
       "      <td>0.00</td>\n",
       "      <td>0.25</td>\n",
       "      <td>0.00</td>\n",
       "      <td>0.06</td>\n",
       "      <td>0.00</td>\n",
       "    </tr>\n",
       "  </tbody>\n",
       "</table>\n",
       "<p>5 rows × 181 columns</p>\n",
       "</div>"
      ],
      "text/plain": [
       "               ImageName  Expression      race_preds gender_preds age_preds  \\\n",
       "0  angry_actor_104_0.jpg           0           Black         Male     20-29   \n",
       "1  angry_actor_109_0.jpg           0  Middle Eastern         Male     10-19   \n",
       "2  angry_actor_120_1.jpg           2           White         Male     20-29   \n",
       "3   angry_actor_13_0.jpg           3      East Asian       Female     20-29   \n",
       "4  angry_actor_132_0.jpg           0           White       Female     20-29   \n",
       "\n",
       "                                         race_scores            gender_scores  \\\n",
       "0  [0.01164725 0.5489195  0.06282789 0.03017501 0...  [0.97893476 0.02106526]   \n",
       "1  [0.07172439 0.03716405 0.07634144 0.09301798 0...  [0.9886888  0.01131118]   \n",
       "2  [0.38725546 0.02379545 0.04428627 0.3587341  0...  [0.7577495  0.24225047]   \n",
       "3  [0.05252786 0.06977403 0.0932842  0.40103135 0...  [0.46038443 0.5396156 ]   \n",
       "4  [0.29344454 0.09408408 0.14308809 0.2740257  0...  [0.44868255 0.55131745]   \n",
       "\n",
       "                                          age_scores  face  confidence  ...  \\\n",
       "0  [0.00264865 0.03285832 0.07209051 0.29417548 0...   0.0       0.875  ...   \n",
       "1  [5.5791729e-04 2.5763142e-01 4.3460685e-01 2.5...   0.0       0.925  ...   \n",
       "2  [0.00361199 0.02466666 0.0458126  0.62581354 0...   1.0       0.925  ...   \n",
       "3  [0.00304344 0.0880671  0.22934933 0.39468738 0...   0.0       0.975  ...   \n",
       "4  [0.00321869 0.0189087  0.0630689  0.40079823 0...   0.0       0.875  ...   \n",
       "\n",
       "   AU10_r  AU12_r  AU14_r  AU15_r  AU17_r  AU20_r  AU23_r  AU25_r  AU26_r  \\\n",
       "0    0.00    0.41    3.61    0.54    1.10    0.68    0.00    2.23    0.00   \n",
       "1    1.16    0.76    0.77    1.12    0.04    1.38    0.00    1.20    0.00   \n",
       "2    0.06    0.00    1.51    0.00    0.00    0.00    0.00    1.09    0.51   \n",
       "3    0.99    0.00    0.00    0.36    0.56    0.00    0.13    0.96    1.02   \n",
       "4    0.05    0.00    0.13    0.00    0.76    0.00    0.25    0.00    0.06   \n",
       "\n",
       "   AU45_r  \n",
       "0    0.17  \n",
       "1    0.00  \n",
       "2    0.10  \n",
       "3    0.00  \n",
       "4    0.00  \n",
       "\n",
       "[5 rows x 181 columns]"
      ]
     },
     "execution_count": 2,
     "metadata": {},
     "output_type": "execute_result"
    }
   ],
   "source": [
    "frame = pd.read_csv('ExpW_OpenFace_result_with_expression_gender_race_age.csv')\n",
    "frame.head()"
   ]
  },
  {
   "cell_type": "code",
   "execution_count": 3,
   "metadata": {
    "scrolled": false
   },
   "outputs": [
    {
     "name": "stdout",
     "output_type": "stream",
     "text": [
      "['ImageName', 'Expression', 'race_preds', 'gender_preds', 'age_preds', 'race_scores', 'gender_scores', 'age_scores', 'face', 'confidence', 'AU01_c', 'AU02_c', 'AU04_c', 'AU05_c', 'AU06_c', 'AU07_c', 'AU09_c', 'AU10_c', 'AU12_c', 'AU14_c', 'AU15_c', 'AU17_c', 'AU20_c', 'AU23_c', 'AU25_c', 'AU26_c', 'AU28_c', 'AU45_c', 'x_0', 'x_1', 'x_2', 'x_3', 'x_4', 'x_5', 'x_6', 'x_7', 'x_8', 'x_9', 'x_10', 'x_11', 'x_12', 'x_13', 'x_14', 'x_15', 'x_16', 'x_17', 'x_18', 'x_19', 'x_20', 'x_21', 'x_22', 'x_23', 'x_24', 'x_25', 'x_26', 'x_27', 'x_28', 'x_29', 'x_30', 'x_31', 'x_32', 'x_33', 'x_34', 'x_35', 'x_36', 'x_37', 'x_38', 'x_39', 'x_40', 'x_41', 'x_42', 'x_43', 'x_44', 'x_45', 'x_46', 'x_47', 'x_48', 'x_49', 'x_50', 'x_51', 'x_52', 'x_53', 'x_54', 'x_55', 'x_56', 'x_57', 'x_58', 'x_59', 'x_60', 'x_61', 'x_62', 'x_63', 'x_64', 'x_65', 'x_66', 'x_67', 'y_0', 'y_1', 'y_2', 'y_3', 'y_4', 'y_5', 'y_6', 'y_7', 'y_8', 'y_9', 'y_10', 'y_11', 'y_12', 'y_13', 'y_14', 'y_15', 'y_16', 'y_17', 'y_18', 'y_19', 'y_20', 'y_21', 'y_22', 'y_23', 'y_24', 'y_25', 'y_26', 'y_27', 'y_28', 'y_29', 'y_30', 'y_31', 'y_32', 'y_33', 'y_34', 'y_35', 'y_36', 'y_37', 'y_38', 'y_39', 'y_40', 'y_41', 'y_42', 'y_43', 'y_44', 'y_45', 'y_46', 'y_47', 'y_48', 'y_49', 'y_50', 'y_51', 'y_52', 'y_53', 'y_54', 'y_55', 'y_56', 'y_57', 'y_58', 'y_59', 'y_60', 'y_61', 'y_62', 'y_63', 'y_64', 'y_65', 'y_66', 'y_67', 'AU01_r', 'AU02_r', 'AU04_r', 'AU05_r', 'AU06_r', 'AU07_r', 'AU09_r', 'AU10_r', 'AU12_r', 'AU14_r', 'AU15_r', 'AU17_r', 'AU20_r', 'AU23_r', 'AU25_r', 'AU26_r', 'AU45_r']\n"
     ]
    }
   ],
   "source": [
    "print(list(frame.columns))"
   ]
  },
  {
   "cell_type": "markdown",
   "metadata": {},
   "source": [
    "# ExpW expression label：\n",
    "- \"0\" \"angry\"\n",
    "- \"1\" \"disgust\"\n",
    "- \"2\" \"fear\"\n",
    "- \"3\" \"happy\"\n",
    "- \"4\" \"sad\"\n",
    "- \"5\" \"surprise\"\n",
    "- \"6\" \"neutral\""
   ]
  },
  {
   "cell_type": "code",
   "execution_count": 4,
   "metadata": {},
   "outputs": [
    {
     "data": {
      "text/plain": [
       "neutral     33927\n",
       "happy       28893\n",
       "sad         10429\n",
       "surprise     6880\n",
       "disgust      3805\n",
       "angry        3602\n",
       "fear         1064\n",
       "Name: Expression, dtype: int64"
      ]
     },
     "execution_count": 4,
     "metadata": {},
     "output_type": "execute_result"
    }
   ],
   "source": [
    "frame.loc[frame['Expression'] == 0, 'Expression'] = 'angry'\n",
    "frame.loc[frame['Expression'] == 1, 'Expression'] = 'disgust'\n",
    "frame.loc[frame['Expression'] == 2, 'Expression'] = 'fear'\n",
    "frame.loc[frame['Expression'] == 3, 'Expression'] = 'happy'\n",
    "frame.loc[frame['Expression'] == 4, 'Expression'] = 'sad'\n",
    "frame.loc[frame['Expression'] == 5, 'Expression'] = 'surprise'\n",
    "frame.loc[frame['Expression'] == 6, 'Expression'] = 'neutral'\n",
    "frame.Expression.value_counts()"
   ]
  },
  {
   "cell_type": "code",
   "execution_count": 5,
   "metadata": {},
   "outputs": [],
   "source": [
    "frame['Angry'] = (frame['Expression'] =='angry').astype(int)\n",
    "frame['Disgust'] = (frame['Expression'] == 'disgust').astype(int)\n",
    "frame['Fear'] = (frame['Expression'] == 'fear').astype(int)\n",
    "frame['Happy'] = (frame['Expression'] =='happy').astype(int)\n",
    "frame['Sad'] = (frame['Expression'] == 'sad').astype(int)\n",
    "frame['Surprise'] = (frame['Expression'] == 'surprise').astype(int)\n",
    "frame['Neutral'] = (frame['Expression'] == 'neutral').astype(int)"
   ]
  },
  {
   "cell_type": "code",
   "execution_count": 6,
   "metadata": {},
   "outputs": [
    {
     "data": {
      "text/plain": [
       "(85355, 188)"
      ]
     },
     "execution_count": 6,
     "metadata": {},
     "output_type": "execute_result"
    }
   ],
   "source": [
    "frame = frame.dropna()\n",
    "frame.shape"
   ]
  },
  {
   "cell_type": "markdown",
   "metadata": {},
   "source": [
    "# Using the optimal threshold to re-create the AU presence"
   ]
  },
  {
   "cell_type": "code",
   "execution_count": 7,
   "metadata": {},
   "outputs": [
    {
     "data": {
      "text/plain": [
       "(85355, 201)"
      ]
     },
     "execution_count": 7,
     "metadata": {},
     "output_type": "execute_result"
    }
   ],
   "source": [
    "AU_intensity_OpenFace_common2 = ['AU01_r', 'AU02_r', 'AU04_r', 'AU05_r', 'AU06_r', 'AU09_r', 'AU10_r', \n",
    "                'AU12_r', 'AU15_r', 'AU17_r', 'AU20_r', 'AU25_r', 'AU26_r']\n",
    "optimal_threshold = np.array([4.4, 4.8, 2.4, 3.7, 1.8, 2.8, 0.2, 1.3, 1.3, 5. , 5. , 0.7, 5. ])\n",
    "for i in range(len(AU_intensity_OpenFace_common2)):\n",
    "    frame[AU_intensity_OpenFace_common2[i] + \"_c\"] = frame[AU_intensity_OpenFace_common2[i]].apply(lambda x: 0 if x <= optimal_threshold[i] else 1)\n",
    "\n",
    "frame.shape"
   ]
  },
  {
   "cell_type": "code",
   "execution_count": 8,
   "metadata": {
    "scrolled": false
   },
   "outputs": [
    {
     "name": "stdout",
     "output_type": "stream",
     "text": [
      "['ImageName', 'Expression', 'race_preds', 'gender_preds', 'age_preds', 'race_scores', 'gender_scores', 'age_scores', 'face', 'confidence', 'AU01_c', 'AU02_c', 'AU04_c', 'AU05_c', 'AU06_c', 'AU07_c', 'AU09_c', 'AU10_c', 'AU12_c', 'AU14_c', 'AU15_c', 'AU17_c', 'AU20_c', 'AU23_c', 'AU25_c', 'AU26_c', 'AU28_c', 'AU45_c', 'x_0', 'x_1', 'x_2', 'x_3', 'x_4', 'x_5', 'x_6', 'x_7', 'x_8', 'x_9', 'x_10', 'x_11', 'x_12', 'x_13', 'x_14', 'x_15', 'x_16', 'x_17', 'x_18', 'x_19', 'x_20', 'x_21', 'x_22', 'x_23', 'x_24', 'x_25', 'x_26', 'x_27', 'x_28', 'x_29', 'x_30', 'x_31', 'x_32', 'x_33', 'x_34', 'x_35', 'x_36', 'x_37', 'x_38', 'x_39', 'x_40', 'x_41', 'x_42', 'x_43', 'x_44', 'x_45', 'x_46', 'x_47', 'x_48', 'x_49', 'x_50', 'x_51', 'x_52', 'x_53', 'x_54', 'x_55', 'x_56', 'x_57', 'x_58', 'x_59', 'x_60', 'x_61', 'x_62', 'x_63', 'x_64', 'x_65', 'x_66', 'x_67', 'y_0', 'y_1', 'y_2', 'y_3', 'y_4', 'y_5', 'y_6', 'y_7', 'y_8', 'y_9', 'y_10', 'y_11', 'y_12', 'y_13', 'y_14', 'y_15', 'y_16', 'y_17', 'y_18', 'y_19', 'y_20', 'y_21', 'y_22', 'y_23', 'y_24', 'y_25', 'y_26', 'y_27', 'y_28', 'y_29', 'y_30', 'y_31', 'y_32', 'y_33', 'y_34', 'y_35', 'y_36', 'y_37', 'y_38', 'y_39', 'y_40', 'y_41', 'y_42', 'y_43', 'y_44', 'y_45', 'y_46', 'y_47', 'y_48', 'y_49', 'y_50', 'y_51', 'y_52', 'y_53', 'y_54', 'y_55', 'y_56', 'y_57', 'y_58', 'y_59', 'y_60', 'y_61', 'y_62', 'y_63', 'y_64', 'y_65', 'y_66', 'y_67', 'AU01_r', 'AU02_r', 'AU04_r', 'AU05_r', 'AU06_r', 'AU07_r', 'AU09_r', 'AU10_r', 'AU12_r', 'AU14_r', 'AU15_r', 'AU17_r', 'AU20_r', 'AU23_r', 'AU25_r', 'AU26_r', 'AU45_r', 'Angry', 'Disgust', 'Fear', 'Happy', 'Sad', 'Surprise', 'Neutral', 'AU01_r_c', 'AU02_r_c', 'AU04_r_c', 'AU05_r_c', 'AU06_r_c', 'AU09_r_c', 'AU10_r_c', 'AU12_r_c', 'AU15_r_c', 'AU17_r_c', 'AU20_r_c', 'AU25_r_c', 'AU26_r_c']\n"
     ]
    }
   ],
   "source": [
    "print(list(frame.columns))"
   ]
  },
  {
   "cell_type": "code",
   "execution_count": 9,
   "metadata": {},
   "outputs": [
    {
     "data": {
      "text/plain": [
       "00    33062\n",
       "11    26450\n",
       "10    15317\n",
       "01    10526\n",
       "Name: AU6and12_c, dtype: int64"
      ]
     },
     "execution_count": 9,
     "metadata": {},
     "output_type": "execute_result"
    }
   ],
   "source": [
    "frame['AU6and12_c'] = frame.AU06_c.apply(int).apply(str) + frame.AU12_c.apply(int).apply(str)\n",
    "frame.AU6and12_c.value_counts()"
   ]
  },
  {
   "cell_type": "code",
   "execution_count": 10,
   "metadata": {},
   "outputs": [
    {
     "data": {
      "text/plain": [
       "00    61183\n",
       "01    13396\n",
       "11     8145\n",
       "10     2631\n",
       "Name: AU6and12_r_c, dtype: int64"
      ]
     },
     "execution_count": 10,
     "metadata": {},
     "output_type": "execute_result"
    }
   ],
   "source": [
    "frame['AU6and12_r_c'] = frame.AU06_r_c.apply(str) + frame.AU12_r_c.apply(str)\n",
    "frame.AU6and12_r_c.value_counts()"
   ]
  },
  {
   "cell_type": "markdown",
   "metadata": {},
   "source": [
    "# P(expression|AU1, male) =? P(expression|AU1, female)"
   ]
  },
  {
   "cell_type": "code",
   "execution_count": 11,
   "metadata": {},
   "outputs": [
    {
     "name": "stdout",
     "output_type": "stream",
     "text": [
      "(58929, 203)\n",
      "(26426, 203)\n"
     ]
    }
   ],
   "source": [
    "male_frame = frame.loc[frame['gender_preds'] == 'Male']\n",
    "female_frame = frame.loc[frame['gender_preds'] == 'Female']\n",
    "print(male_frame.shape)\n",
    "print(female_frame.shape)"
   ]
  },
  {
   "cell_type": "markdown",
   "metadata": {},
   "source": [
    "## Happiness"
   ]
  },
  {
   "cell_type": "markdown",
   "metadata": {},
   "source": [
    "#### First check the simple proportion of male happiness vs female happiness:"
   ]
  },
  {
   "cell_type": "code",
   "execution_count": 12,
   "metadata": {
    "scrolled": false
   },
   "outputs": [
    {
     "name": "stdout",
     "output_type": "stream",
     "text": [
      "0.303076583685452\n",
      "0.39324907288276695\n"
     ]
    }
   ],
   "source": [
    "print(male_frame.Happy.mean())\n",
    "print(female_frame.Happy.mean())"
   ]
  },
  {
   "cell_type": "code",
   "execution_count": 13,
   "metadata": {
    "scrolled": false
   },
   "outputs": [
    {
     "name": "stdout",
     "output_type": "stream",
     "text": [
      "0.12360637377182711\n",
      "0.13214258684628774\n"
     ]
    }
   ],
   "source": [
    "print(male_frame.AU06_r_c.mean())\n",
    "print(female_frame.AU06_r_c.mean())"
   ]
  },
  {
   "cell_type": "code",
   "execution_count": 14,
   "metadata": {
    "scrolled": false
   },
   "outputs": [
    {
     "name": "stdout",
     "output_type": "stream",
     "text": [
      "0.23160073987340699\n",
      "0.298683115113903\n"
     ]
    }
   ],
   "source": [
    "print(male_frame.AU12_r_c.mean())\n",
    "print(female_frame.AU12_r_c.mean())"
   ]
  },
  {
   "cell_type": "code",
   "execution_count": 15,
   "metadata": {
    "scrolled": false
   },
   "outputs": [
    {
     "name": "stdout",
     "output_type": "stream",
     "text": [
      "0.08912420030884624\n",
      "0.10947551653674412\n"
     ]
    }
   ],
   "source": [
    "print((male_frame.AU6and12_r_c=='11').mean())\n",
    "print((female_frame.AU6and12_r_c=='11').mean())"
   ]
  },
  {
   "cell_type": "code",
   "execution_count": 16,
   "metadata": {
    "scrolled": false
   },
   "outputs": [
    {
     "name": "stdout",
     "output_type": "stream",
     "text": [
      "0.2660829133363879\n",
      "0.3213501854234466\n"
     ]
    }
   ],
   "source": [
    "print(1-(male_frame.AU6and12_r_c=='00').mean())\n",
    "print(1-(female_frame.AU6and12_r_c=='00').mean())"
   ]
  },
  {
   "cell_type": "markdown",
   "metadata": {},
   "source": [
    "We see that female are more likely to be happy. Not surprising.\n",
    "\n",
    "#### Now check for conditional probability, controlled by AU:"
   ]
  },
  {
   "cell_type": "code",
   "execution_count": 20,
   "metadata": {},
   "outputs": [
    {
     "name": "stdout",
     "output_type": "stream",
     "text": [
      "519.5116805904581\n",
      "168.37424098372475\n"
     ]
    },
    {
     "data": {
      "text/html": [
       "<div>\n",
       "<style scoped>\n",
       "    .dataframe tbody tr th:only-of-type {\n",
       "        vertical-align: middle;\n",
       "    }\n",
       "\n",
       "    .dataframe tbody tr th {\n",
       "        vertical-align: top;\n",
       "    }\n",
       "\n",
       "    .dataframe thead th {\n",
       "        text-align: right;\n",
       "    }\n",
       "</style>\n",
       "<table border=\"1\" class=\"dataframe\">\n",
       "  <thead>\n",
       "    <tr style=\"text-align: right;\">\n",
       "      <th></th>\n",
       "      <th>male</th>\n",
       "      <th>female</th>\n",
       "      <th>diff</th>\n",
       "      <th>p-value</th>\n",
       "    </tr>\n",
       "    <tr>\n",
       "      <th>AU06_r_c</th>\n",
       "      <th></th>\n",
       "      <th></th>\n",
       "      <th></th>\n",
       "      <th></th>\n",
       "    </tr>\n",
       "  </thead>\n",
       "  <tbody>\n",
       "    <tr>\n",
       "      <th>0</th>\n",
       "      <td>0.254739</td>\n",
       "      <td>0.335920</td>\n",
       "      <td>0.081181</td>\n",
       "      <td>0.0</td>\n",
       "    </tr>\n",
       "    <tr>\n",
       "      <th>1</th>\n",
       "      <td>0.645799</td>\n",
       "      <td>0.769759</td>\n",
       "      <td>0.123960</td>\n",
       "      <td>0.0</td>\n",
       "    </tr>\n",
       "  </tbody>\n",
       "</table>\n",
       "</div>"
      ],
      "text/plain": [
       "              male    female      diff  p-value\n",
       "AU06_r_c                                       \n",
       "0         0.254739  0.335920  0.081181      0.0\n",
       "1         0.645799  0.769759  0.123960      0.0"
      ]
     },
     "execution_count": 20,
     "metadata": {},
     "output_type": "execute_result"
    }
   ],
   "source": [
    "result_df = pd.concat([pd.crosstab(male_frame.AU06_r_c, male_frame.Happy, normalize = 'index')[1], pd.crosstab(female_frame.AU06_r_c, female_frame.Happy, normalize = 'index')[1]], axis=1)\n",
    "result_df.columns = ['male', 'female']\n",
    "result_df['diff'] = result_df.female - result_df.male\n",
    "for index, row in result_df.iterrows():\n",
    "    cross_tab = pd.crosstab(frame[frame.AU06_r_c == index].gender_preds, frame[frame.AU06_r_c == index].Happy, margins = True)\n",
    "\n",
    "    cross_tab.columns = [\"Not Happy\", \"Happy\", \"row_totals\"]\n",
    "    cross_tab.index = [\"Female\", \"Male\", \"col_totals\"]\n",
    "    observed = cross_tab.iloc[0:2,0:2]   # Get table without totals for later use\n",
    "\n",
    "    expected =  np.outer(cross_tab[\"row_totals\"][0:2],\n",
    "                     cross_tab.loc[\"col_totals\"][0:2]) / len(frame[frame.AU06_r_c == index])\n",
    "\n",
    "    expected = pd.DataFrame(expected)\n",
    "    expected.columns = [\"Not Happy\", \"Happy\"]\n",
    "    expected.index = [\"Female\", \"Male\"]\n",
    "\n",
    "    if (expected>=5).sum().sum() == 4:\n",
    "        chi_squared_stat = (((observed-expected)**2)/expected).sum().sum()\n",
    "        p_value = 1 - stats.chi2.cdf(x=chi_squared_stat, df=1)\n",
    "    else:\n",
    "        chi_squared_stat = np.nan\n",
    "        p_value = np.nan\n",
    "\n",
    "    print(chi_squared_stat)\n",
    "    \n",
    "    result_df.loc[index, \"p-value\"] = p_value\n",
    "result_df"
   ]
  },
  {
   "cell_type": "code",
   "execution_count": 21,
   "metadata": {},
   "outputs": [
    {
     "name": "stdout",
     "output_type": "stream",
     "text": [
      "127.39470480221784\n",
      "218.47682397156913\n"
     ]
    },
    {
     "data": {
      "text/html": [
       "<div>\n",
       "<style scoped>\n",
       "    .dataframe tbody tr th:only-of-type {\n",
       "        vertical-align: middle;\n",
       "    }\n",
       "\n",
       "    .dataframe tbody tr th {\n",
       "        vertical-align: top;\n",
       "    }\n",
       "\n",
       "    .dataframe thead th {\n",
       "        text-align: right;\n",
       "    }\n",
       "</style>\n",
       "<table border=\"1\" class=\"dataframe\">\n",
       "  <thead>\n",
       "    <tr style=\"text-align: right;\">\n",
       "      <th></th>\n",
       "      <th>male</th>\n",
       "      <th>female</th>\n",
       "      <th>diff</th>\n",
       "      <th>p-value</th>\n",
       "    </tr>\n",
       "    <tr>\n",
       "      <th>AU12_r_c</th>\n",
       "      <th></th>\n",
       "      <th></th>\n",
       "      <th></th>\n",
       "      <th></th>\n",
       "    </tr>\n",
       "  </thead>\n",
       "  <tbody>\n",
       "    <tr>\n",
       "      <th>0</th>\n",
       "      <td>0.178684</td>\n",
       "      <td>0.217288</td>\n",
       "      <td>0.038604</td>\n",
       "      <td>0.0</td>\n",
       "    </tr>\n",
       "    <tr>\n",
       "      <th>1</th>\n",
       "      <td>0.715783</td>\n",
       "      <td>0.806411</td>\n",
       "      <td>0.090628</td>\n",
       "      <td>0.0</td>\n",
       "    </tr>\n",
       "  </tbody>\n",
       "</table>\n",
       "</div>"
      ],
      "text/plain": [
       "              male    female      diff  p-value\n",
       "AU12_r_c                                       \n",
       "0         0.178684  0.217288  0.038604      0.0\n",
       "1         0.715783  0.806411  0.090628      0.0"
      ]
     },
     "execution_count": 21,
     "metadata": {},
     "output_type": "execute_result"
    }
   ],
   "source": [
    "result_df = pd.concat([pd.crosstab(male_frame.AU12_r_c, male_frame.Happy, normalize = 'index')[1], pd.crosstab(female_frame.AU12_r_c, female_frame.Happy, normalize = 'index')[1]], axis=1)\n",
    "result_df.columns = ['male', 'female']\n",
    "result_df['diff'] = result_df.female - result_df.male\n",
    "for index, row in result_df.iterrows():\n",
    "    cross_tab = pd.crosstab(frame[frame.AU12_r_c == index].gender_preds, frame[frame.AU12_r_c == index].Happy, margins = True)\n",
    "\n",
    "    cross_tab.columns = [\"Not Happy\", \"Happy\", \"row_totals\"]\n",
    "    cross_tab.index = [\"Female\", \"Male\", \"col_totals\"]\n",
    "    observed = cross_tab.iloc[0:2,0:2]   # Get table without totals for later use\n",
    "\n",
    "    expected =  np.outer(cross_tab[\"row_totals\"][0:2],\n",
    "                     cross_tab.loc[\"col_totals\"][0:2]) / len(frame[frame.AU12_r_c == index])\n",
    "\n",
    "    expected = pd.DataFrame(expected)\n",
    "    expected.columns = [\"Not Happy\", \"Happy\"]\n",
    "    expected.index = [\"Female\", \"Male\"]\n",
    "\n",
    "    if (expected>=5).sum().sum() == 4:\n",
    "        chi_squared_stat = (((observed-expected)**2)/expected).sum().sum()\n",
    "        p_value = 1 - stats.chi2.cdf(x=chi_squared_stat, df=1)\n",
    "    else:\n",
    "        chi_squared_stat = np.nan\n",
    "        p_value = np.nan\n",
    "\n",
    "    print(chi_squared_stat)\n",
    "    \n",
    "    result_df.loc[index, \"p-value\"] = p_value\n",
    "result_df"
   ]
  },
  {
   "cell_type": "code",
   "execution_count": 29,
   "metadata": {},
   "outputs": [
    {
     "name": "stdout",
     "output_type": "stream",
     "text": [
      "129.83856321196143\n",
      "171.39572805970025\n",
      "3.881253558653169\n",
      "62.283958646921036\n"
     ]
    },
    {
     "data": {
      "text/html": [
       "<div>\n",
       "<style scoped>\n",
       "    .dataframe tbody tr th:only-of-type {\n",
       "        vertical-align: middle;\n",
       "    }\n",
       "\n",
       "    .dataframe tbody tr th {\n",
       "        vertical-align: top;\n",
       "    }\n",
       "\n",
       "    .dataframe thead th {\n",
       "        text-align: right;\n",
       "    }\n",
       "</style>\n",
       "<table border=\"1\" class=\"dataframe\">\n",
       "  <thead>\n",
       "    <tr style=\"text-align: right;\">\n",
       "      <th></th>\n",
       "      <th>male</th>\n",
       "      <th>female</th>\n",
       "      <th>diff</th>\n",
       "      <th>p-value</th>\n",
       "    </tr>\n",
       "    <tr>\n",
       "      <th>AU6and12_r_c</th>\n",
       "      <th></th>\n",
       "      <th></th>\n",
       "      <th></th>\n",
       "      <th></th>\n",
       "    </tr>\n",
       "  </thead>\n",
       "  <tbody>\n",
       "    <tr>\n",
       "      <th>00</th>\n",
       "      <td>0.175542</td>\n",
       "      <td>0.215011</td>\n",
       "      <td>0.039469</td>\n",
       "      <td>0.000000e+00</td>\n",
       "    </tr>\n",
       "    <tr>\n",
       "      <th>01</th>\n",
       "      <td>0.662697</td>\n",
       "      <td>0.769600</td>\n",
       "      <td>0.106903</td>\n",
       "      <td>0.000000e+00</td>\n",
       "    </tr>\n",
       "    <tr>\n",
       "      <th>10</th>\n",
       "      <td>0.245571</td>\n",
       "      <td>0.285476</td>\n",
       "      <td>0.039905</td>\n",
       "      <td>4.882809e-02</td>\n",
       "    </tr>\n",
       "    <tr>\n",
       "      <th>11</th>\n",
       "      <td>0.800647</td>\n",
       "      <td>0.870031</td>\n",
       "      <td>0.069384</td>\n",
       "      <td>2.997602e-15</td>\n",
       "    </tr>\n",
       "  </tbody>\n",
       "</table>\n",
       "</div>"
      ],
      "text/plain": [
       "                  male    female      diff       p-value\n",
       "AU6and12_r_c                                            \n",
       "00            0.175542  0.215011  0.039469  0.000000e+00\n",
       "01            0.662697  0.769600  0.106903  0.000000e+00\n",
       "10            0.245571  0.285476  0.039905  4.882809e-02\n",
       "11            0.800647  0.870031  0.069384  2.997602e-15"
      ]
     },
     "execution_count": 29,
     "metadata": {},
     "output_type": "execute_result"
    }
   ],
   "source": [
    "result_df = pd.concat([pd.crosstab(male_frame.AU6and12_r_c, male_frame.Happy, normalize = 'index')[1], pd.crosstab(female_frame.AU6and12_r_c, female_frame.Happy, normalize = 'index')[1]], axis=1)\n",
    "result_df.columns = ['male', 'female']\n",
    "result_df['diff'] = result_df.female - result_df.male\n",
    "for index, row in result_df.iterrows():\n",
    "    cross_tab = pd.crosstab(frame[frame.AU6and12_r_c == index].gender_preds, frame[frame.AU6and12_r_c == index].Happy, margins = True)\n",
    "\n",
    "    cross_tab.columns = [\"Not Happy\", \"Happy\", \"row_totals\"]\n",
    "    cross_tab.index = [\"Female\", \"Male\", \"col_totals\"]\n",
    "    observed = cross_tab.iloc[0:2,0:2]   # Get table without totals for later use\n",
    "\n",
    "    expected =  np.outer(cross_tab[\"row_totals\"][0:2],\n",
    "                     cross_tab.loc[\"col_totals\"][0:2]) / len(frame[frame.AU6and12_r_c == index])\n",
    "\n",
    "    expected = pd.DataFrame(expected)\n",
    "    expected.columns = [\"Not Happy\", \"Happy\"]\n",
    "    expected.index = [\"Female\", \"Male\"]\n",
    "\n",
    "    if (expected>=5).sum().sum() == 4:\n",
    "        chi_squared_stat = (((observed-expected)**2)/expected).sum().sum()\n",
    "        p_value = 1 - stats.chi2.cdf(x=chi_squared_stat, df=1)\n",
    "    else:\n",
    "        chi_squared_stat = np.nan\n",
    "        p_value = np.nan\n",
    "\n",
    "    print(chi_squared_stat)\n",
    "    \n",
    "    result_df.loc[index, \"p-value\"] = p_value\n",
    "result_df"
   ]
  },
  {
   "cell_type": "code",
   "execution_count": 17,
   "metadata": {
    "scrolled": true
   },
   "outputs": [
    {
     "data": {
      "image/png": "[encoded data removed]",
      "text/plain": [
       "<Figure size 432x288 with 1 Axes>"
      ]
     },
     "metadata": {
      "needs_background": "light"
     },
     "output_type": "display_data"
    }
   ],
   "source": [
    "#AU_values_male = list(male_frame.AU06_r.unique())\n",
    "fig = plt.figure(figsize=(6,4))\n",
    "ax = fig.gca()\n",
    "\n",
    "AU_values_male = list(male_frame.AU06_r.value_counts()[male_frame.AU06_r.value_counts() >= 25].index)\n",
    "happy_proportion_male = []\n",
    "for AU_value in AU_values_male:\n",
    "    subframe = male_frame.loc[male_frame.AU06_r == AU_value]\n",
    "    happy_proportion_male.append(subframe.Happy.mean())\n",
    "plt.scatter(AU_values_male, happy_proportion_male, label=\"Male\", marker = \"p\", alpha=0.8, s=30, c='r')#,edgecolors='k')\n",
    "\n",
    "#AU_values_female = list(female_frame.AU06_r.unique())\n",
    "AU_values_female = list(female_frame.AU06_r.value_counts()[female_frame.AU06_r.value_counts() >= 25].index)\n",
    "happy_proportion_female = []\n",
    "for AU_value in AU_values_female:\n",
    "    subframe = female_frame.loc[female_frame.AU06_r == AU_value]\n",
    "    happy_proportion_female.append(subframe.Happy.mean())\n",
    "plt.scatter(AU_values_female, happy_proportion_female, label=\"Female\", marker = \"*\", alpha=0.8, s=30, c='#089BDF')#,edgecolors='k')\n",
    "\n",
    "\n",
    "plt.xlabel('AU6 intensity', fontsize = 16)\n",
    "plt.ylabel('Proportion of \"Happy\" Labels', fontsize = 16)\n",
    "plt.title('P(Happy|AU6) for ExpW', fontsize = 18)\n",
    "plt.legend(fontsize = 16)\n",
    "#plt.xlim(-0.1, 3)\n",
    "plt.tight_layout()\n",
    "plt.savefig('gender_bias_plots/ExpW_AU6.pdf')  \n",
    "plt.show()"
   ]
  },
  {
   "cell_type": "code",
   "execution_count": 18,
   "metadata": {},
   "outputs": [
    {
     "data": {
      "image/png": "[encoded data removed]",
      "text/plain": [
       "<Figure size 432x288 with 1 Axes>"
      ]
     },
     "metadata": {
      "needs_background": "light"
     },
     "output_type": "display_data"
    }
   ],
   "source": [
    "#AU_values_male = list(male_frame.AU06_r.unique())\n",
    "fig = plt.figure(figsize=(6,4))\n",
    "ax = fig.gca()\n",
    "\n",
    "AU_values_male = list(male_frame.AU12_r.value_counts()[male_frame.AU12_r.value_counts() >= 25].index)\n",
    "happy_proportion_male = []\n",
    "for AU_value in AU_values_male:\n",
    "    subframe = male_frame.loc[male_frame.AU12_r == AU_value]\n",
    "    happy_proportion_male.append(subframe.Happy.mean())\n",
    "plt.scatter(AU_values_male, happy_proportion_male, label=\"Male\", marker = \"p\", alpha=0.8, s=30, c='r')#,edgecolors='k')\n",
    "\n",
    "#AU_values_female = list(female_frame.AU06_r.unique())\n",
    "AU_values_female = list(female_frame.AU12_r.value_counts()[female_frame.AU12_r.value_counts() >= 25].index)\n",
    "happy_proportion_female = []\n",
    "for AU_value in AU_values_female:\n",
    "    subframe = female_frame.loc[female_frame.AU12_r == AU_value]\n",
    "    happy_proportion_female.append(subframe.Happy.mean())\n",
    "plt.scatter(AU_values_female, happy_proportion_female, label=\"Female\", marker = \"*\", alpha=0.8, s=30, c='#089BDF')#,edgecolors='k')\n",
    "\n",
    "\n",
    "plt.xlabel('AU12 intensity', fontsize = 16)\n",
    "plt.ylabel('Proportion of \"Happy\" Labels', fontsize = 16)\n",
    "plt.title('P(Happy|AU12) for ExpW', fontsize = 18)\n",
    "plt.legend(fontsize = 16)\n",
    "#plt.xlim(-0.1, 3)\n",
    "plt.tight_layout()\n",
    "plt.savefig('gender_bias_plots/ExpW_AU12.pdf') \n",
    "plt.show()"
   ]
  },
  {
   "cell_type": "markdown",
   "metadata": {},
   "source": [
    "To formally show that there is a significant difference between the two logistic lines, we need logistic regression:"
   ]
  },
  {
   "cell_type": "code",
   "execution_count": 494,
   "metadata": {
    "scrolled": false
   },
   "outputs": [
    {
     "name": "stdout",
     "output_type": "stream",
     "text": [
      "                 Generalized Linear Model Regression Results                  \n",
      "==============================================================================\n",
      "Dep. Variable:                  Happy   No. Observations:                85355\n",
      "Model:                            GLM   Df Residuals:                    85351\n",
      "Model Family:                Binomial   Df Model:                            3\n",
      "Link Function:                  logit   Scale:                          1.0000\n",
      "Method:                          IRLS   Log-Likelihood:                -38539.\n",
      "Date:                Sun, 02 Aug 2020   Deviance:                       77079.\n",
      "Time:                        14:56:18   Pearson chi2:                 8.35e+04\n",
      "No. Iterations:                     5                                         \n",
      "Covariance Type:            nonrobust                                         \n",
      "========================================================================================\n",
      "                           coef    std err          z      P>|z|      [0.025      0.975]\n",
      "----------------------------------------------------------------------------------------\n",
      "Intercept               -2.1466      0.020   -107.254      0.000      -2.186      -2.107\n",
      "gender_preds[T.Male]    -0.2962      0.019    -15.287      0.000      -0.334      -0.258\n",
      "AU06_r                   0.0167      0.015      1.131      0.258      -0.012       0.046\n",
      "AU12_r                   1.8012      0.016    112.864      0.000       1.770       1.832\n",
      "========================================================================================\n"
     ]
    }
   ],
   "source": [
    "formula = 'Happy ~ AU06_r + AU12_r + gender_preds'\n",
    "model = smf.glm(formula = formula, data=frame, family=sm.families.Binomial())\n",
    "result = model.fit()\n",
    "print(result.summary())"
   ]
  },
  {
   "cell_type": "code",
   "execution_count": 495,
   "metadata": {
    "scrolled": false
   },
   "outputs": [
    {
     "name": "stdout",
     "output_type": "stream",
     "text": [
      "                 Generalized Linear Model Regression Results                  \n",
      "==============================================================================\n",
      "Dep. Variable:                  Happy   No. Observations:                85355\n",
      "Model:                            GLM   Df Residuals:                    85349\n",
      "Model Family:                Binomial   Df Model:                            5\n",
      "Link Function:                  logit   Scale:                          1.0000\n",
      "Method:                          IRLS   Log-Likelihood:                -38530.\n",
      "Date:                Sun, 02 Aug 2020   Deviance:                       77060.\n",
      "Time:                        14:56:18   Pearson chi2:                 8.34e+04\n",
      "No. Iterations:                     5                                         \n",
      "Covariance Type:            nonrobust                                         \n",
      "===============================================================================================\n",
      "                                  coef    std err          z      P>|z|      [0.025      0.975]\n",
      "-----------------------------------------------------------------------------------------------\n",
      "Intercept                      -2.2001      0.027    -81.918      0.000      -2.253      -2.147\n",
      "gender_preds[T.Male]           -0.2180      0.033     -6.634      0.000      -0.282      -0.154\n",
      "AU06_r                         -0.0356      0.028     -1.292      0.196      -0.090       0.018\n",
      "AU06_r:gender_preds[T.Male]     0.0738      0.033      2.263      0.024       0.010       0.138\n",
      "AU12_r                          1.9024      0.029     65.985      0.000       1.846       1.959\n",
      "AU12_r:gender_preds[T.Male]    -0.1483      0.035     -4.280      0.000      -0.216      -0.080\n",
      "===============================================================================================\n"
     ]
    }
   ],
   "source": [
    "formula = 'Happy ~ (AU06_r + AU12_r) * gender_preds'\n",
    "model = smf.glm(formula = formula, data=frame, family=sm.families.Binomial())\n",
    "result = model.fit()\n",
    "print(result.summary())"
   ]
  },
  {
   "cell_type": "code",
   "execution_count": 496,
   "metadata": {
    "scrolled": true
   },
   "outputs": [
    {
     "name": "stdout",
     "output_type": "stream",
     "text": [
      "                 Generalized Linear Model Regression Results                  \n",
      "==============================================================================\n",
      "Dep. Variable:                  Happy   No. Observations:                85355\n",
      "Model:                            GLM   Df Residuals:                    85351\n",
      "Model Family:                Binomial   Df Model:                            3\n",
      "Link Function:                  logit   Scale:                          1.0000\n",
      "Method:                          IRLS   Log-Likelihood:                -40912.\n",
      "Date:                Sun, 02 Aug 2020   Deviance:                       81825.\n",
      "Time:                        14:56:19   Pearson chi2:                 8.36e+04\n",
      "No. Iterations:                     5                                         \n",
      "Covariance Type:            nonrobust                                         \n",
      "===========================================================================================================\n",
      "                                              coef    std err          z      P>|z|      [0.025      0.975]\n",
      "-----------------------------------------------------------------------------------------------------------\n",
      "Intercept                                  -2.0798      0.026    -81.140      0.000      -2.130      -2.030\n",
      "gender_preds[T.Male]                       -0.2956      0.032     -9.363      0.000      -0.357      -0.234\n",
      "I(AU06_r + AU12_r)                          0.9498      0.012     78.939      0.000       0.926       0.973\n",
      "I(AU06_r + AU12_r):gender_preds[T.Male]    -0.0732      0.015     -5.038      0.000      -0.102      -0.045\n",
      "===========================================================================================================\n"
     ]
    }
   ],
   "source": [
    "formula = 'Happy ~ I(AU06_r + AU12_r) * gender_preds'\n",
    "model = smf.glm(formula = formula, data=frame, family=sm.families.Binomial())\n",
    "result = model.fit()\n",
    "print(result.summary())"
   ]
  },
  {
   "cell_type": "markdown",
   "metadata": {},
   "source": [
    "# RAF-DB"
   ]
  },
  {
   "cell_type": "code",
   "execution_count": 19,
   "metadata": {},
   "outputs": [
    {
     "name": "stdout",
     "output_type": "stream",
     "text": [
      "(12214, 54)\n"
     ]
    },
    {
     "data": {
      "text/html": [
       "<div>\n",
       "<style scoped>\n",
       "    .dataframe tbody tr th:only-of-type {\n",
       "        vertical-align: middle;\n",
       "    }\n",
       "\n",
       "    .dataframe tbody tr th {\n",
       "        vertical-align: top;\n",
       "    }\n",
       "\n",
       "    .dataframe thead th {\n",
       "        text-align: right;\n",
       "    }\n",
       "</style>\n",
       "<table border=\"1\" class=\"dataframe\">\n",
       "  <thead>\n",
       "    <tr style=\"text-align: right;\">\n",
       "      <th></th>\n",
       "      <th>ImageName</th>\n",
       "      <th>face</th>\n",
       "      <th>confidence</th>\n",
       "      <th>Emotion</th>\n",
       "      <th>Happy</th>\n",
       "      <th>Gender</th>\n",
       "      <th>AU01_c</th>\n",
       "      <th>AU02_c</th>\n",
       "      <th>AU04_c</th>\n",
       "      <th>AU05_c</th>\n",
       "      <th>...</th>\n",
       "      <th>AU05_r_c</th>\n",
       "      <th>AU06_r_c</th>\n",
       "      <th>AU09_r_c</th>\n",
       "      <th>AU10_r_c</th>\n",
       "      <th>AU12_r_c</th>\n",
       "      <th>AU15_r_c</th>\n",
       "      <th>AU17_r_c</th>\n",
       "      <th>AU20_r_c</th>\n",
       "      <th>AU25_r_c</th>\n",
       "      <th>AU26_r_c</th>\n",
       "    </tr>\n",
       "  </thead>\n",
       "  <tbody>\n",
       "    <tr>\n",
       "      <th>0</th>\n",
       "      <td>test_0001_aligned.jpg</td>\n",
       "      <td>0</td>\n",
       "      <td>0.925</td>\n",
       "      <td>5</td>\n",
       "      <td>0</td>\n",
       "      <td>1.0</td>\n",
       "      <td>1.0</td>\n",
       "      <td>1.0</td>\n",
       "      <td>0.0</td>\n",
       "      <td>0.0</td>\n",
       "      <td>...</td>\n",
       "      <td>0</td>\n",
       "      <td>0</td>\n",
       "      <td>0</td>\n",
       "      <td>0</td>\n",
       "      <td>0</td>\n",
       "      <td>0</td>\n",
       "      <td>0</td>\n",
       "      <td>0</td>\n",
       "      <td>0</td>\n",
       "      <td>0</td>\n",
       "    </tr>\n",
       "    <tr>\n",
       "      <th>1</th>\n",
       "      <td>test_0002_aligned.jpg</td>\n",
       "      <td>0</td>\n",
       "      <td>0.975</td>\n",
       "      <td>1</td>\n",
       "      <td>0</td>\n",
       "      <td>1.0</td>\n",
       "      <td>1.0</td>\n",
       "      <td>1.0</td>\n",
       "      <td>1.0</td>\n",
       "      <td>1.0</td>\n",
       "      <td>...</td>\n",
       "      <td>0</td>\n",
       "      <td>0</td>\n",
       "      <td>0</td>\n",
       "      <td>0</td>\n",
       "      <td>0</td>\n",
       "      <td>0</td>\n",
       "      <td>0</td>\n",
       "      <td>0</td>\n",
       "      <td>0</td>\n",
       "      <td>0</td>\n",
       "    </tr>\n",
       "    <tr>\n",
       "      <th>2</th>\n",
       "      <td>test_0004_aligned.jpg</td>\n",
       "      <td>0</td>\n",
       "      <td>0.825</td>\n",
       "      <td>1</td>\n",
       "      <td>0</td>\n",
       "      <td>1.0</td>\n",
       "      <td>0.0</td>\n",
       "      <td>1.0</td>\n",
       "      <td>1.0</td>\n",
       "      <td>0.0</td>\n",
       "      <td>...</td>\n",
       "      <td>0</td>\n",
       "      <td>0</td>\n",
       "      <td>0</td>\n",
       "      <td>0</td>\n",
       "      <td>0</td>\n",
       "      <td>0</td>\n",
       "      <td>0</td>\n",
       "      <td>0</td>\n",
       "      <td>0</td>\n",
       "      <td>0</td>\n",
       "    </tr>\n",
       "    <tr>\n",
       "      <th>3</th>\n",
       "      <td>test_0006_aligned.jpg</td>\n",
       "      <td>0</td>\n",
       "      <td>0.875</td>\n",
       "      <td>5</td>\n",
       "      <td>0</td>\n",
       "      <td>1.0</td>\n",
       "      <td>1.0</td>\n",
       "      <td>0.0</td>\n",
       "      <td>1.0</td>\n",
       "      <td>0.0</td>\n",
       "      <td>...</td>\n",
       "      <td>0</td>\n",
       "      <td>0</td>\n",
       "      <td>0</td>\n",
       "      <td>0</td>\n",
       "      <td>0</td>\n",
       "      <td>0</td>\n",
       "      <td>0</td>\n",
       "      <td>0</td>\n",
       "      <td>0</td>\n",
       "      <td>0</td>\n",
       "    </tr>\n",
       "    <tr>\n",
       "      <th>4</th>\n",
       "      <td>test_0007_aligned.jpg</td>\n",
       "      <td>0</td>\n",
       "      <td>0.975</td>\n",
       "      <td>3</td>\n",
       "      <td>0</td>\n",
       "      <td>0.0</td>\n",
       "      <td>0.0</td>\n",
       "      <td>0.0</td>\n",
       "      <td>1.0</td>\n",
       "      <td>0.0</td>\n",
       "      <td>...</td>\n",
       "      <td>0</td>\n",
       "      <td>0</td>\n",
       "      <td>0</td>\n",
       "      <td>1</td>\n",
       "      <td>0</td>\n",
       "      <td>1</td>\n",
       "      <td>0</td>\n",
       "      <td>0</td>\n",
       "      <td>0</td>\n",
       "      <td>0</td>\n",
       "    </tr>\n",
       "  </tbody>\n",
       "</table>\n",
       "<p>5 rows × 54 columns</p>\n",
       "</div>"
      ],
      "text/plain": [
       "               ImageName  face  confidence  Emotion  Happy  Gender  AU01_c  \\\n",
       "0  test_0001_aligned.jpg     0       0.925        5      0     1.0     1.0   \n",
       "1  test_0002_aligned.jpg     0       0.975        1      0     1.0     1.0   \n",
       "2  test_0004_aligned.jpg     0       0.825        1      0     1.0     0.0   \n",
       "3  test_0006_aligned.jpg     0       0.875        5      0     1.0     1.0   \n",
       "4  test_0007_aligned.jpg     0       0.975        3      0     0.0     0.0   \n",
       "\n",
       "   AU02_c  AU04_c  AU05_c  ...  AU05_r_c  AU06_r_c  AU09_r_c  AU10_r_c  \\\n",
       "0     1.0     0.0     0.0  ...         0         0         0         0   \n",
       "1     1.0     1.0     1.0  ...         0         0         0         0   \n",
       "2     1.0     1.0     0.0  ...         0         0         0         0   \n",
       "3     0.0     1.0     0.0  ...         0         0         0         0   \n",
       "4     0.0     1.0     0.0  ...         0         0         0         1   \n",
       "\n",
       "   AU12_r_c  AU15_r_c  AU17_r_c  AU20_r_c  AU25_r_c  AU26_r_c  \n",
       "0         0         0         0         0         0         0  \n",
       "1         0         0         0         0         0         0  \n",
       "2         0         0         0         0         0         0  \n",
       "3         0         0         0         0         0         0  \n",
       "4         0         1         0         0         0         0  \n",
       "\n",
       "[5 rows x 54 columns]"
      ]
     },
     "execution_count": 19,
     "metadata": {},
     "output_type": "execute_result"
    }
   ],
   "source": [
    "frame = pd.read_csv('RAFDB_OpenFace_result_with_Emotion_and_Gender.csv')\n",
    "print(frame.shape)\n",
    "frame.head()"
   ]
  },
  {
   "cell_type": "code",
   "execution_count": 20,
   "metadata": {
    "scrolled": false
   },
   "outputs": [
    {
     "name": "stdout",
     "output_type": "stream",
     "text": [
      "['ImageName', 'face', 'confidence', 'Emotion', 'Happy', 'Gender', 'AU01_c', 'AU02_c', 'AU04_c', 'AU05_c', 'AU06_c', 'AU07_c', 'AU09_c', 'AU10_c', 'AU12_c', 'AU14_c', 'AU15_c', 'AU17_c', 'AU20_c', 'AU23_c', 'AU25_c', 'AU26_c', 'AU28_c', 'AU45_c', 'AU01_r', 'AU02_r', 'AU04_r', 'AU05_r', 'AU06_r', 'AU07_r', 'AU09_r', 'AU10_r', 'AU12_r', 'AU14_r', 'AU15_r', 'AU17_r', 'AU20_r', 'AU23_r', 'AU25_r', 'AU26_r', 'AU45_r', 'AU01_r_c', 'AU02_r_c', 'AU04_r_c', 'AU05_r_c', 'AU06_r_c', 'AU09_r_c', 'AU10_r_c', 'AU12_r_c', 'AU15_r_c', 'AU17_r_c', 'AU20_r_c', 'AU25_r_c', 'AU26_r_c']\n"
     ]
    }
   ],
   "source": [
    "print(list(frame.columns))"
   ]
  },
  {
   "cell_type": "code",
   "execution_count": 21,
   "metadata": {},
   "outputs": [],
   "source": [
    "frame = frame.rename(columns={'Gender': 'gender_preds'})"
   ]
  },
  {
   "cell_type": "code",
   "execution_count": 22,
   "metadata": {},
   "outputs": [
    {
     "data": {
      "text/plain": [
       "(12214, 54)"
      ]
     },
     "execution_count": 22,
     "metadata": {},
     "output_type": "execute_result"
    }
   ],
   "source": [
    "frame = frame.dropna()\n",
    "frame.shape"
   ]
  },
  {
   "cell_type": "code",
   "execution_count": 23,
   "metadata": {},
   "outputs": [
    {
     "data": {
      "text/plain": [
       "11    6766\n",
       "00    2619\n",
       "10    1419\n",
       "01    1410\n",
       "Name: AU6and12_c, dtype: int64"
      ]
     },
     "execution_count": 23,
     "metadata": {},
     "output_type": "execute_result"
    }
   ],
   "source": [
    "frame['AU6and12_c'] = frame.AU06_c.apply(int).apply(str) + frame.AU12_c.apply(int).apply(str)\n",
    "frame.AU6and12_c.value_counts()"
   ]
  },
  {
   "cell_type": "code",
   "execution_count": 24,
   "metadata": {},
   "outputs": [
    {
     "data": {
      "text/plain": [
       "00    8209\n",
       "11    1881\n",
       "01    1545\n",
       "10     579\n",
       "Name: AU6and12_r_c, dtype: int64"
      ]
     },
     "execution_count": 24,
     "metadata": {},
     "output_type": "execute_result"
    }
   ],
   "source": [
    "frame['AU6and12_r_c'] = frame.AU06_r_c.apply(str) + frame.AU12_r_c.apply(str)\n",
    "frame.AU6and12_r_c.value_counts()"
   ]
  },
  {
   "cell_type": "markdown",
   "metadata": {},
   "source": [
    "# P(expression|AU1, male) =? P(expression|AU1, female)"
   ]
  },
  {
   "cell_type": "code",
   "execution_count": 25,
   "metadata": {},
   "outputs": [
    {
     "name": "stdout",
     "output_type": "stream",
     "text": [
      "(4936, 56)\n",
      "(7278, 56)\n"
     ]
    }
   ],
   "source": [
    "frame.gender_preds = frame.gender_preds.apply(lambda x: 'Male' if x == 0 else 'Female')\n",
    "male_frame = frame.loc[frame['gender_preds'] == 'Male']\n",
    "female_frame = frame.loc[frame['gender_preds'] == 'Female']\n",
    "print(male_frame.shape)\n",
    "print(female_frame.shape)"
   ]
  },
  {
   "cell_type": "markdown",
   "metadata": {},
   "source": [
    "## Happiness"
   ]
  },
  {
   "cell_type": "markdown",
   "metadata": {},
   "source": [
    "#### First check the simple proportion of male happiness vs female happiness:"
   ]
  },
  {
   "cell_type": "code",
   "execution_count": 42,
   "metadata": {
    "scrolled": false
   },
   "outputs": [
    {
     "name": "stdout",
     "output_type": "stream",
     "text": [
      "0.3602106969205835\n",
      "0.39914811761472935\n"
     ]
    }
   ],
   "source": [
    "print(male_frame.Happy.mean())\n",
    "print(female_frame.Happy.mean())"
   ]
  },
  {
   "cell_type": "code",
   "execution_count": 43,
   "metadata": {
    "scrolled": false
   },
   "outputs": [
    {
     "name": "stdout",
     "output_type": "stream",
     "text": [
      "0.20846839546191248\n",
      "0.1966199505358615\n"
     ]
    }
   ],
   "source": [
    "print(male_frame.AU06_r_c.mean())\n",
    "print(female_frame.AU06_r_c.mean())"
   ]
  },
  {
   "cell_type": "code",
   "execution_count": 44,
   "metadata": {
    "scrolled": false
   },
   "outputs": [
    {
     "name": "stdout",
     "output_type": "stream",
     "text": [
      "0.26053484602917343\n",
      "0.29403682330310527\n"
     ]
    }
   ],
   "source": [
    "print(male_frame.AU12_r_c.mean())\n",
    "print(female_frame.AU12_r_c.mean())"
   ]
  },
  {
   "cell_type": "code",
   "execution_count": 45,
   "metadata": {
    "scrolled": false
   },
   "outputs": [
    {
     "name": "stdout",
     "output_type": "stream",
     "text": [
      "0.1446515397082658\n",
      "0.16034624896949712\n"
     ]
    }
   ],
   "source": [
    "print((male_frame.AU6and12_r_c=='11').mean())\n",
    "print((female_frame.AU6and12_r_c=='11').mean())"
   ]
  },
  {
   "cell_type": "code",
   "execution_count": 46,
   "metadata": {
    "scrolled": false
   },
   "outputs": [
    {
     "name": "stdout",
     "output_type": "stream",
     "text": [
      "0.32435170178282013\n",
      "0.33031052486946966\n"
     ]
    }
   ],
   "source": [
    "print(1-(male_frame.AU6and12_r_c=='00').mean())\n",
    "print(1-(female_frame.AU6and12_r_c=='00').mean())"
   ]
  },
  {
   "cell_type": "markdown",
   "metadata": {},
   "source": [
    "We see that female are more likely to be happy. Not surprising.\n",
    "\n",
    "#### Now check for conditional probability, controlled by AU:"
   ]
  },
  {
   "cell_type": "code",
   "execution_count": 50,
   "metadata": {},
   "outputs": [
    {
     "name": "stdout",
     "output_type": "stream",
     "text": [
      "2.8853549353009806\n",
      "69.69280704584386\n"
     ]
    },
    {
     "data": {
      "text/html": [
       "<div>\n",
       "<style scoped>\n",
       "    .dataframe tbody tr th:only-of-type {\n",
       "        vertical-align: middle;\n",
       "    }\n",
       "\n",
       "    .dataframe tbody tr th {\n",
       "        vertical-align: top;\n",
       "    }\n",
       "\n",
       "    .dataframe thead th {\n",
       "        text-align: right;\n",
       "    }\n",
       "</style>\n",
       "<table border=\"1\" class=\"dataframe\">\n",
       "  <thead>\n",
       "    <tr style=\"text-align: right;\">\n",
       "      <th></th>\n",
       "      <th>male</th>\n",
       "      <th>female</th>\n",
       "      <th>diff</th>\n",
       "      <th>p-value</th>\n",
       "    </tr>\n",
       "    <tr>\n",
       "      <th>AU06_r_c</th>\n",
       "      <th></th>\n",
       "      <th></th>\n",
       "      <th></th>\n",
       "      <th></th>\n",
       "    </tr>\n",
       "  </thead>\n",
       "  <tbody>\n",
       "    <tr>\n",
       "      <th>0</th>\n",
       "      <td>0.288713</td>\n",
       "      <td>0.304772</td>\n",
       "      <td>0.016059</td>\n",
       "      <td>8.938831e-02</td>\n",
       "    </tr>\n",
       "    <tr>\n",
       "      <th>1</th>\n",
       "      <td>0.631681</td>\n",
       "      <td>0.784766</td>\n",
       "      <td>0.153085</td>\n",
       "      <td>1.110223e-16</td>\n",
       "    </tr>\n",
       "  </tbody>\n",
       "</table>\n",
       "</div>"
      ],
      "text/plain": [
       "              male    female      diff       p-value\n",
       "AU06_r_c                                            \n",
       "0         0.288713  0.304772  0.016059  8.938831e-02\n",
       "1         0.631681  0.784766  0.153085  1.110223e-16"
      ]
     },
     "execution_count": 50,
     "metadata": {},
     "output_type": "execute_result"
    }
   ],
   "source": [
    "result_df = pd.concat([pd.crosstab(male_frame.AU06_r_c, male_frame.Happy, normalize = 'index')[1], pd.crosstab(female_frame.AU06_r_c, female_frame.Happy, normalize = 'index')[1]], axis=1)\n",
    "result_df.columns = ['male', 'female']\n",
    "result_df['diff'] = result_df.female - result_df.male\n",
    "for index, row in result_df.iterrows():\n",
    "    cross_tab = pd.crosstab(frame[frame.AU06_r_c == index].gender_preds, frame[frame.AU06_r_c == index].Happy, margins = True)\n",
    "\n",
    "    cross_tab.columns = [\"Not Happy\", \"Happy\", \"row_totals\"]\n",
    "    cross_tab.index = [\"Female\", \"Male\", \"col_totals\"]\n",
    "    observed = cross_tab.iloc[0:2,0:2]   # Get table without totals for later use\n",
    "\n",
    "    expected =  np.outer(cross_tab[\"row_totals\"][0:2],\n",
    "                     cross_tab.loc[\"col_totals\"][0:2]) / len(frame[frame.AU06_r_c == index])\n",
    "\n",
    "    expected = pd.DataFrame(expected)\n",
    "    expected.columns = [\"Not Happy\", \"Happy\"]\n",
    "    expected.index = [\"Female\", \"Male\"]\n",
    "\n",
    "    if (expected>=5).sum().sum() == 4:\n",
    "        chi_squared_stat = (((observed-expected)**2)/expected).sum().sum()\n",
    "        p_value = 1 - stats.chi2.cdf(x=chi_squared_stat, df=1)\n",
    "    else:\n",
    "        chi_squared_stat = np.nan\n",
    "        p_value = np.nan\n",
    "\n",
    "    print(chi_squared_stat)\n",
    "    \n",
    "    result_df.loc[index, \"p-value\"] = p_value\n",
    "result_df"
   ]
  },
  {
   "cell_type": "code",
   "execution_count": 51,
   "metadata": {},
   "outputs": [
    {
     "name": "stdout",
     "output_type": "stream",
     "text": [
      "0.3190523532318732\n",
      "36.803471380214276\n"
     ]
    },
    {
     "data": {
      "text/html": [
       "<div>\n",
       "<style scoped>\n",
       "    .dataframe tbody tr th:only-of-type {\n",
       "        vertical-align: middle;\n",
       "    }\n",
       "\n",
       "    .dataframe tbody tr th {\n",
       "        vertical-align: top;\n",
       "    }\n",
       "\n",
       "    .dataframe thead th {\n",
       "        text-align: right;\n",
       "    }\n",
       "</style>\n",
       "<table border=\"1\" class=\"dataframe\">\n",
       "  <thead>\n",
       "    <tr style=\"text-align: right;\">\n",
       "      <th></th>\n",
       "      <th>male</th>\n",
       "      <th>female</th>\n",
       "      <th>diff</th>\n",
       "      <th>p-value</th>\n",
       "    </tr>\n",
       "    <tr>\n",
       "      <th>AU12_r_c</th>\n",
       "      <th></th>\n",
       "      <th></th>\n",
       "      <th></th>\n",
       "      <th></th>\n",
       "    </tr>\n",
       "  </thead>\n",
       "  <tbody>\n",
       "    <tr>\n",
       "      <th>0</th>\n",
       "      <td>0.200274</td>\n",
       "      <td>0.195407</td>\n",
       "      <td>-0.004867</td>\n",
       "      <td>5.721777e-01</td>\n",
       "    </tr>\n",
       "    <tr>\n",
       "      <th>1</th>\n",
       "      <td>0.814152</td>\n",
       "      <td>0.888318</td>\n",
       "      <td>0.074165</td>\n",
       "      <td>1.306574e-09</td>\n",
       "    </tr>\n",
       "  </tbody>\n",
       "</table>\n",
       "</div>"
      ],
      "text/plain": [
       "              male    female      diff       p-value\n",
       "AU12_r_c                                            \n",
       "0         0.200274  0.195407 -0.004867  5.721777e-01\n",
       "1         0.814152  0.888318  0.074165  1.306574e-09"
      ]
     },
     "execution_count": 51,
     "metadata": {},
     "output_type": "execute_result"
    }
   ],
   "source": [
    "result_df = pd.concat([pd.crosstab(male_frame.AU12_r_c, male_frame.Happy, normalize = 'index')[1], pd.crosstab(female_frame.AU12_r_c, female_frame.Happy, normalize = 'index')[1]], axis=1)\n",
    "result_df.columns = ['male', 'female']\n",
    "result_df['diff'] = result_df.female - result_df.male\n",
    "for index, row in result_df.iterrows():\n",
    "    cross_tab = pd.crosstab(frame[frame.AU12_r_c == index].gender_preds, frame[frame.AU12_r_c == index].Happy, margins = True)\n",
    "\n",
    "    cross_tab.columns = [\"Not Happy\", \"Happy\", \"row_totals\"]\n",
    "    cross_tab.index = [\"Female\", \"Male\", \"col_totals\"]\n",
    "    observed = cross_tab.iloc[0:2,0:2]   # Get table without totals for later use\n",
    "\n",
    "    expected =  np.outer(cross_tab[\"row_totals\"][0:2],\n",
    "                     cross_tab.loc[\"col_totals\"][0:2]) / len(frame[frame.AU12_r_c == index])\n",
    "\n",
    "    expected = pd.DataFrame(expected)\n",
    "    expected.columns = [\"Not Happy\", \"Happy\"]\n",
    "    expected.index = [\"Female\", \"Male\"]\n",
    "\n",
    "    if (expected>=5).sum().sum() == 4:\n",
    "        chi_squared_stat = (((observed-expected)**2)/expected).sum().sum()\n",
    "        p_value = 1 - stats.chi2.cdf(x=chi_squared_stat, df=1)\n",
    "    else:\n",
    "        chi_squared_stat = np.nan\n",
    "        p_value = np.nan\n",
    "\n",
    "    print(chi_squared_stat)\n",
    "    \n",
    "    result_df.loc[index, \"p-value\"] = p_value\n",
    "result_df"
   ]
  },
  {
   "cell_type": "code",
   "execution_count": 52,
   "metadata": {},
   "outputs": [
    {
     "name": "stdout",
     "output_type": "stream",
     "text": [
      "0.32344165367471417\n",
      "6.218911293354303\n",
      "0.3806242524966086\n",
      "36.23442028718978\n"
     ]
    },
    {
     "data": {
      "text/html": [
       "<div>\n",
       "<style scoped>\n",
       "    .dataframe tbody tr th:only-of-type {\n",
       "        vertical-align: middle;\n",
       "    }\n",
       "\n",
       "    .dataframe tbody tr th {\n",
       "        vertical-align: top;\n",
       "    }\n",
       "\n",
       "    .dataframe thead th {\n",
       "        text-align: right;\n",
       "    }\n",
       "</style>\n",
       "<table border=\"1\" class=\"dataframe\">\n",
       "  <thead>\n",
       "    <tr style=\"text-align: right;\">\n",
       "      <th></th>\n",
       "      <th>male</th>\n",
       "      <th>female</th>\n",
       "      <th>diff</th>\n",
       "      <th>p-value</th>\n",
       "    </tr>\n",
       "    <tr>\n",
       "      <th>AU6and12_r_c</th>\n",
       "      <th></th>\n",
       "      <th></th>\n",
       "      <th></th>\n",
       "      <th></th>\n",
       "    </tr>\n",
       "  </thead>\n",
       "  <tbody>\n",
       "    <tr>\n",
       "      <th>00</th>\n",
       "      <td>0.197301</td>\n",
       "      <td>0.192245</td>\n",
       "      <td>-0.005057</td>\n",
       "      <td>5.695466e-01</td>\n",
       "    </tr>\n",
       "    <tr>\n",
       "      <th>01</th>\n",
       "      <td>0.821678</td>\n",
       "      <td>0.868448</td>\n",
       "      <td>0.046770</td>\n",
       "      <td>1.263928e-02</td>\n",
       "    </tr>\n",
       "    <tr>\n",
       "      <th>10</th>\n",
       "      <td>0.231746</td>\n",
       "      <td>0.253788</td>\n",
       "      <td>0.022042</td>\n",
       "      <td>5.372693e-01</td>\n",
       "    </tr>\n",
       "    <tr>\n",
       "      <th>11</th>\n",
       "      <td>0.808123</td>\n",
       "      <td>0.904884</td>\n",
       "      <td>0.096761</td>\n",
       "      <td>1.749531e-09</td>\n",
       "    </tr>\n",
       "  </tbody>\n",
       "</table>\n",
       "</div>"
      ],
      "text/plain": [
       "                  male    female      diff       p-value\n",
       "AU6and12_r_c                                            \n",
       "00            0.197301  0.192245 -0.005057  5.695466e-01\n",
       "01            0.821678  0.868448  0.046770  1.263928e-02\n",
       "10            0.231746  0.253788  0.022042  5.372693e-01\n",
       "11            0.808123  0.904884  0.096761  1.749531e-09"
      ]
     },
     "execution_count": 52,
     "metadata": {},
     "output_type": "execute_result"
    }
   ],
   "source": [
    "result_df = pd.concat([pd.crosstab(male_frame.AU6and12_r_c, male_frame.Happy, normalize = 'index')[1], pd.crosstab(female_frame.AU6and12_r_c, female_frame.Happy, normalize = 'index')[1]], axis=1)\n",
    "result_df.columns = ['male', 'female']\n",
    "result_df['diff'] = result_df.female - result_df.male\n",
    "for index, row in result_df.iterrows():\n",
    "    cross_tab = pd.crosstab(frame[frame.AU6and12_r_c == index].gender_preds, frame[frame.AU6and12_r_c == index].Happy, margins = True)\n",
    "\n",
    "    cross_tab.columns = [\"Not Happy\", \"Happy\", \"row_totals\"]\n",
    "    cross_tab.index = [\"Female\", \"Male\", \"col_totals\"]\n",
    "    observed = cross_tab.iloc[0:2,0:2]   # Get table without totals for later use\n",
    "\n",
    "    expected =  np.outer(cross_tab[\"row_totals\"][0:2],\n",
    "                     cross_tab.loc[\"col_totals\"][0:2]) / len(frame[frame.AU6and12_r_c == index])\n",
    "\n",
    "    expected = pd.DataFrame(expected)\n",
    "    expected.columns = [\"Not Happy\", \"Happy\"]\n",
    "    expected.index = [\"Female\", \"Male\"]\n",
    "\n",
    "    if (expected>=5).sum().sum() == 4:\n",
    "        chi_squared_stat = (((observed-expected)**2)/expected).sum().sum()\n",
    "        p_value = 1 - stats.chi2.cdf(x=chi_squared_stat, df=1)\n",
    "    else:\n",
    "        chi_squared_stat = np.nan\n",
    "        p_value = np.nan\n",
    "\n",
    "    print(chi_squared_stat)\n",
    "    \n",
    "    result_df.loc[index, \"p-value\"] = p_value\n",
    "result_df"
   ]
  },
  {
   "cell_type": "code",
   "execution_count": 26,
   "metadata": {},
   "outputs": [
    {
     "data": {
      "image/png": "[encoded data removed]",
      "text/plain": [
       "<Figure size 432x288 with 1 Axes>"
      ]
     },
     "metadata": {
      "needs_background": "light"
     },
     "output_type": "display_data"
    }
   ],
   "source": [
    "#AU_values_male = list(male_frame.AU06_r.unique())\n",
    "fig = plt.figure(figsize=(6,4))\n",
    "ax = fig.gca()\n",
    "\n",
    "AU_values_male = list(male_frame.AU06_r.value_counts()[male_frame.AU06_r.value_counts() >= 18].index)\n",
    "happy_proportion_male = []\n",
    "for AU_value in AU_values_male:\n",
    "    subframe = male_frame.loc[male_frame.AU06_r == AU_value]\n",
    "    happy_proportion_male.append(subframe.Happy.mean())\n",
    "plt.scatter(AU_values_male, happy_proportion_male, label=\"Male\", marker = \"p\", alpha=0.8, s=30, c='r')#,edgecolors='k')\n",
    "\n",
    "#AU_values_female = list(female_frame.AU06_r.unique())\n",
    "AU_values_female = list(female_frame.AU06_r.value_counts()[female_frame.AU06_r.value_counts() >= 22].index)\n",
    "happy_proportion_female = []\n",
    "for AU_value in AU_values_female:\n",
    "    subframe = female_frame.loc[female_frame.AU06_r == AU_value]\n",
    "    happy_proportion_female.append(subframe.Happy.mean())\n",
    "plt.scatter(AU_values_female, happy_proportion_female, label=\"Female\", marker = \"*\", alpha=0.8, s=30, c='#089BDF')#,edgecolors='k')\n",
    "\n",
    "\n",
    "plt.xlabel('AU6 intensity', fontsize = 16)\n",
    "plt.ylabel('Proportion of \"Happy\" Labels', fontsize = 16)\n",
    "plt.title('P(Happy|AU6) for RAF-DB', fontsize = 18)\n",
    "plt.legend(fontsize = 16)\n",
    "#plt.xlim(-0.1, 3)\n",
    "plt.tight_layout()\n",
    "plt.savefig('gender_bias_plots/RAFDB_AU6.pdf') \n",
    "plt.show()"
   ]
  },
  {
   "cell_type": "code",
   "execution_count": 27,
   "metadata": {
    "scrolled": true
   },
   "outputs": [
    {
     "data": {
      "image/png": "[encoded data removed]",
      "text/plain": [
       "<Figure size 432x288 with 1 Axes>"
      ]
     },
     "metadata": {
      "needs_background": "light"
     },
     "output_type": "display_data"
    }
   ],
   "source": [
    "#AU_values_male = list(male_frame.AU06_r.unique())\n",
    "fig = plt.figure(figsize=(6,4))\n",
    "ax = fig.gca()\n",
    "\n",
    "AU_values_male = list(male_frame.AU12_r.value_counts()[male_frame.AU12_r.value_counts() >= 18].index)\n",
    "happy_proportion_male = []\n",
    "for AU_value in AU_values_male:\n",
    "    subframe = male_frame.loc[male_frame.AU12_r == AU_value]\n",
    "    happy_proportion_male.append(subframe.Happy.mean())\n",
    "plt.scatter(AU_values_male, happy_proportion_male, label=\"Male\", marker = \"p\", alpha=0.8, s=30, c='r')#,edgecolors='k')\n",
    "\n",
    "#AU_values_female = list(female_frame.AU06_r.unique())\n",
    "AU_values_female = list(female_frame.AU12_r.value_counts()[female_frame.AU12_r.value_counts() >= 22].index)\n",
    "happy_proportion_female = []\n",
    "for AU_value in AU_values_female:\n",
    "    subframe = female_frame.loc[female_frame.AU12_r == AU_value]\n",
    "    happy_proportion_female.append(subframe.Happy.mean())\n",
    "plt.scatter(AU_values_female, happy_proportion_female, label=\"Female\", marker = \"*\", alpha=0.8, s=30, c='#089BDF')#,edgecolors='k')\n",
    "\n",
    "\n",
    "plt.xlabel('AU12 intensity', fontsize = 16)\n",
    "plt.ylabel('Proportion of \"Happy\" Labels', fontsize = 16)\n",
    "plt.title('P(Happy|AU12) for RAF-DB', fontsize = 18)\n",
    "plt.legend(fontsize = 16)\n",
    "#plt.xlim(-0.1, 3)\n",
    "plt.tight_layout()\n",
    "plt.savefig('gender_bias_plots/RAFDB_AU12.pdf') \n",
    "plt.show()"
   ]
  },
  {
   "cell_type": "markdown",
   "metadata": {},
   "source": [
    "To formally show that there is a significant difference between the two logistic lines, we need logistic regression:"
   ]
  },
  {
   "cell_type": "code",
   "execution_count": 269,
   "metadata": {
    "scrolled": false
   },
   "outputs": [
    {
     "name": "stdout",
     "output_type": "stream",
     "text": [
      "                 Generalized Linear Model Regression Results                  \n",
      "==============================================================================\n",
      "Dep. Variable:                  Happy   No. Observations:                12214\n",
      "Model:                            GLM   Df Residuals:                    12210\n",
      "Model Family:                Binomial   Df Model:                            3\n",
      "Link Function:                  logit   Scale:                          1.0000\n",
      "Method:                          IRLS   Log-Likelihood:                -4511.3\n",
      "Date:                Sun, 02 Aug 2020   Deviance:                       9022.6\n",
      "Time:                        13:31:04   Pearson chi2:                 1.17e+04\n",
      "No. Iterations:                     6                                         \n",
      "Covariance Type:            nonrobust                                         \n",
      "========================================================================================\n",
      "                           coef    std err          z      P>|z|      [0.025      0.975]\n",
      "----------------------------------------------------------------------------------------\n",
      "Intercept               -2.4073      0.050    -48.171      0.000      -2.505      -2.309\n",
      "gender_preds[T.Male]    -0.1281      0.055     -2.341      0.019      -0.235      -0.021\n",
      "AU06_r                  -0.6428      0.047    -13.697      0.000      -0.735      -0.551\n",
      "AU12_r                   3.0204      0.061     49.604      0.000       2.901       3.140\n",
      "========================================================================================\n"
     ]
    }
   ],
   "source": [
    "formula = 'Happy ~ AU06_r + AU12_r + gender_preds'\n",
    "model = smf.glm(formula = formula, data=frame, family=sm.families.Binomial())\n",
    "result = model.fit()\n",
    "print(result.summary())"
   ]
  },
  {
   "cell_type": "code",
   "execution_count": 270,
   "metadata": {
    "scrolled": false
   },
   "outputs": [
    {
     "name": "stdout",
     "output_type": "stream",
     "text": [
      "                 Generalized Linear Model Regression Results                  \n",
      "==============================================================================\n",
      "Dep. Variable:                  Happy   No. Observations:                12214\n",
      "Model:                            GLM   Df Residuals:                    12208\n",
      "Model Family:                Binomial   Df Model:                            5\n",
      "Link Function:                  logit   Scale:                          1.0000\n",
      "Method:                          IRLS   Log-Likelihood:                -4502.3\n",
      "Date:                Sun, 02 Aug 2020   Deviance:                       9004.6\n",
      "Time:                        13:31:05   Pearson chi2:                 1.17e+04\n",
      "No. Iterations:                     6                                         \n",
      "Covariance Type:            nonrobust                                         \n",
      "===============================================================================================\n",
      "                                  coef    std err          z      P>|z|      [0.025      0.975]\n",
      "-----------------------------------------------------------------------------------------------\n",
      "Intercept                      -2.5294      0.060    -42.312      0.000      -2.647      -2.412\n",
      "gender_preds[T.Male]            0.1880      0.094      2.004      0.045       0.004       0.372\n",
      "AU06_r                         -0.5472      0.063     -8.623      0.000      -0.672      -0.423\n",
      "AU06_r:gender_preds[T.Male]    -0.2105      0.094     -2.235      0.025      -0.395      -0.026\n",
      "AU12_r                          3.0652      0.082     37.571      0.000       2.905       3.225\n",
      "AU12_r:gender_preds[T.Male]    -0.1260      0.123     -1.028      0.304      -0.366       0.114\n",
      "===============================================================================================\n"
     ]
    }
   ],
   "source": [
    "formula = 'Happy ~ (AU06_r + AU12_r) * gender_preds'\n",
    "model = smf.glm(formula = formula, data=frame, family=sm.families.Binomial())\n",
    "result = model.fit()\n",
    "print(result.summary())"
   ]
  },
  {
   "cell_type": "code",
   "execution_count": 271,
   "metadata": {
    "scrolled": true
   },
   "outputs": [
    {
     "name": "stdout",
     "output_type": "stream",
     "text": [
      "                 Generalized Linear Model Regression Results                  \n",
      "==============================================================================\n",
      "Dep. Variable:                  Happy   No. Observations:                12214\n",
      "Model:                            GLM   Df Residuals:                    12210\n",
      "Model Family:                Binomial   Df Model:                            3\n",
      "Link Function:                  logit   Scale:                          1.0000\n",
      "Method:                          IRLS   Log-Likelihood:                -5449.3\n",
      "Date:                Sun, 02 Aug 2020   Deviance:                       10899.\n",
      "Time:                        13:31:05   Pearson chi2:                 1.15e+04\n",
      "No. Iterations:                     5                                         \n",
      "Covariance Type:            nonrobust                                         \n",
      "===========================================================================================================\n",
      "                                              coef    std err          z      P>|z|      [0.025      0.975]\n",
      "-----------------------------------------------------------------------------------------------------------\n",
      "Intercept                                  -2.5211      0.056    -44.969      0.000      -2.631      -2.411\n",
      "gender_preds[T.Male]                        0.0787      0.088      0.894      0.372      -0.094       0.251\n",
      "I(AU06_r + AU12_r)                          1.1236      0.025     44.794      0.000       1.074       1.173\n",
      "I(AU06_r + AU12_r):gender_preds[T.Male]    -0.2049      0.037     -5.504      0.000      -0.278      -0.132\n",
      "===========================================================================================================\n"
     ]
    }
   ],
   "source": [
    "formula = 'Happy ~ I(AU06_r + AU12_r) * gender_preds'\n",
    "model = smf.glm(formula = formula, data=frame, family=sm.families.Binomial())\n",
    "result = model.fit()\n",
    "print(result.summary())"
   ]
  },
  {
   "cell_type": "markdown",
   "metadata": {},
   "source": [
    "# AffectNet Manual"
   ]
  },
  {
   "cell_type": "code",
   "execution_count": 28,
   "metadata": {},
   "outputs": [
    {
     "name": "stdout",
     "output_type": "stream",
     "text": [
      "(35694, 59)\n"
     ]
    },
    {
     "data": {
      "text/html": [
       "<div>\n",
       "<style scoped>\n",
       "    .dataframe tbody tr th:only-of-type {\n",
       "        vertical-align: middle;\n",
       "    }\n",
       "\n",
       "    .dataframe tbody tr th {\n",
       "        vertical-align: top;\n",
       "    }\n",
       "\n",
       "    .dataframe thead th {\n",
       "        text-align: right;\n",
       "    }\n",
       "</style>\n",
       "<table border=\"1\" class=\"dataframe\">\n",
       "  <thead>\n",
       "    <tr style=\"text-align: right;\">\n",
       "      <th></th>\n",
       "      <th>ImageName</th>\n",
       "      <th>Expression</th>\n",
       "      <th>Happy</th>\n",
       "      <th>race_preds</th>\n",
       "      <th>gender_preds</th>\n",
       "      <th>age_preds</th>\n",
       "      <th>race_scores</th>\n",
       "      <th>gender_scores</th>\n",
       "      <th>age_scores</th>\n",
       "      <th>face</th>\n",
       "      <th>...</th>\n",
       "      <th>AU05_r_c</th>\n",
       "      <th>AU06_r_c</th>\n",
       "      <th>AU09_r_c</th>\n",
       "      <th>AU10_r_c</th>\n",
       "      <th>AU12_r_c</th>\n",
       "      <th>AU15_r_c</th>\n",
       "      <th>AU17_r_c</th>\n",
       "      <th>AU20_r_c</th>\n",
       "      <th>AU25_r_c</th>\n",
       "      <th>AU26_r_c</th>\n",
       "    </tr>\n",
       "  </thead>\n",
       "  <tbody>\n",
       "    <tr>\n",
       "      <th>0</th>\n",
       "      <td>0002074f0d5dafbb7983d509964312d04c612d9d425577...</td>\n",
       "      <td>10</td>\n",
       "      <td>0</td>\n",
       "      <td>White</td>\n",
       "      <td>Female</td>\n",
       "      <td>60-69</td>\n",
       "      <td>[0.425075   0.02112318 0.25978056 0.00382649 0...</td>\n",
       "      <td>[0.09870926 0.9012907 ]</td>\n",
       "      <td>[5.3278323e-05 5.1294203e-04 3.1685282e-03 2.4...</td>\n",
       "      <td>0</td>\n",
       "      <td>...</td>\n",
       "      <td>0</td>\n",
       "      <td>0</td>\n",
       "      <td>0</td>\n",
       "      <td>1</td>\n",
       "      <td>0</td>\n",
       "      <td>0</td>\n",
       "      <td>0</td>\n",
       "      <td>0</td>\n",
       "      <td>1</td>\n",
       "      <td>0</td>\n",
       "    </tr>\n",
       "    <tr>\n",
       "      <th>1</th>\n",
       "      <td>000bdb0a8f54725d1424bb38d626b1d8bf17f001ad2406...</td>\n",
       "      <td>8</td>\n",
       "      <td>0</td>\n",
       "      <td>Black</td>\n",
       "      <td>Male</td>\n",
       "      <td>20-29</td>\n",
       "      <td>[3.52906886e-06 9.99552011e-01 1.59864125e-04 ...</td>\n",
       "      <td>[9.9954259e-01 4.5739944e-04]</td>\n",
       "      <td>[5.6344652e-07 4.1122996e-05 1.3004625e-02 6.6...</td>\n",
       "      <td>0</td>\n",
       "      <td>...</td>\n",
       "      <td>0</td>\n",
       "      <td>1</td>\n",
       "      <td>0</td>\n",
       "      <td>1</td>\n",
       "      <td>1</td>\n",
       "      <td>0</td>\n",
       "      <td>0</td>\n",
       "      <td>0</td>\n",
       "      <td>1</td>\n",
       "      <td>0</td>\n",
       "    </tr>\n",
       "    <tr>\n",
       "      <th>2</th>\n",
       "      <td>000c10a8f6735212d71eb54298bc47ea56dc08e64ed2ca...</td>\n",
       "      <td>0</td>\n",
       "      <td>0</td>\n",
       "      <td>White</td>\n",
       "      <td>Male</td>\n",
       "      <td>40-49</td>\n",
       "      <td>[9.3397456e-01 4.9433287e-04 3.7014667e-02 4.5...</td>\n",
       "      <td>[0.99797386 0.00202617]</td>\n",
       "      <td>[8.6898144e-05 1.5486187e-04 2.0614783e-03 2.4...</td>\n",
       "      <td>0</td>\n",
       "      <td>...</td>\n",
       "      <td>0</td>\n",
       "      <td>0</td>\n",
       "      <td>0</td>\n",
       "      <td>1</td>\n",
       "      <td>0</td>\n",
       "      <td>0</td>\n",
       "      <td>0</td>\n",
       "      <td>0</td>\n",
       "      <td>0</td>\n",
       "      <td>0</td>\n",
       "    </tr>\n",
       "    <tr>\n",
       "      <th>3</th>\n",
       "      <td>000fb19bfc2f4d09e33b30ae5d1be4488297e7ff6f0011...</td>\n",
       "      <td>1</td>\n",
       "      <td>1</td>\n",
       "      <td>White</td>\n",
       "      <td>Male</td>\n",
       "      <td>40-49</td>\n",
       "      <td>[9.3484497e-01 2.3674322e-05 1.4515205e-02 1.9...</td>\n",
       "      <td>[9.9999887e-01 1.1556698e-06]</td>\n",
       "      <td>[3.4171117e-06 7.4146001e-06 5.2725355e-04 4.3...</td>\n",
       "      <td>0</td>\n",
       "      <td>...</td>\n",
       "      <td>0</td>\n",
       "      <td>0</td>\n",
       "      <td>0</td>\n",
       "      <td>1</td>\n",
       "      <td>1</td>\n",
       "      <td>0</td>\n",
       "      <td>0</td>\n",
       "      <td>0</td>\n",
       "      <td>0</td>\n",
       "      <td>0</td>\n",
       "    </tr>\n",
       "    <tr>\n",
       "      <th>4</th>\n",
       "      <td>0010aaaebcdd6bae8f967dc0e471760f7a45e220125be3...</td>\n",
       "      <td>1</td>\n",
       "      <td>1</td>\n",
       "      <td>Middle Eastern</td>\n",
       "      <td>Male</td>\n",
       "      <td>20-29</td>\n",
       "      <td>[4.4076398e-02 7.8236350e-05 4.0029038e-02 3.7...</td>\n",
       "      <td>[9.9999958e-01 3.9027404e-07]</td>\n",
       "      <td>[5.4735474e-06 8.7598469e-03 4.4977888e-01 4.5...</td>\n",
       "      <td>0</td>\n",
       "      <td>...</td>\n",
       "      <td>0</td>\n",
       "      <td>1</td>\n",
       "      <td>0</td>\n",
       "      <td>1</td>\n",
       "      <td>1</td>\n",
       "      <td>0</td>\n",
       "      <td>0</td>\n",
       "      <td>0</td>\n",
       "      <td>1</td>\n",
       "      <td>0</td>\n",
       "    </tr>\n",
       "  </tbody>\n",
       "</table>\n",
       "<p>5 rows × 59 columns</p>\n",
       "</div>"
      ],
      "text/plain": [
       "                                           ImageName  Expression  Happy  \\\n",
       "0  0002074f0d5dafbb7983d509964312d04c612d9d425577...          10      0   \n",
       "1  000bdb0a8f54725d1424bb38d626b1d8bf17f001ad2406...           8      0   \n",
       "2  000c10a8f6735212d71eb54298bc47ea56dc08e64ed2ca...           0      0   \n",
       "3  000fb19bfc2f4d09e33b30ae5d1be4488297e7ff6f0011...           1      1   \n",
       "4  0010aaaebcdd6bae8f967dc0e471760f7a45e220125be3...           1      1   \n",
       "\n",
       "       race_preds gender_preds age_preds  \\\n",
       "0           White       Female     60-69   \n",
       "1           Black         Male     20-29   \n",
       "2           White         Male     40-49   \n",
       "3           White         Male     40-49   \n",
       "4  Middle Eastern         Male     20-29   \n",
       "\n",
       "                                         race_scores  \\\n",
       "0  [0.425075   0.02112318 0.25978056 0.00382649 0...   \n",
       "1  [3.52906886e-06 9.99552011e-01 1.59864125e-04 ...   \n",
       "2  [9.3397456e-01 4.9433287e-04 3.7014667e-02 4.5...   \n",
       "3  [9.3484497e-01 2.3674322e-05 1.4515205e-02 1.9...   \n",
       "4  [4.4076398e-02 7.8236350e-05 4.0029038e-02 3.7...   \n",
       "\n",
       "                   gender_scores  \\\n",
       "0        [0.09870926 0.9012907 ]   \n",
       "1  [9.9954259e-01 4.5739944e-04]   \n",
       "2        [0.99797386 0.00202617]   \n",
       "3  [9.9999887e-01 1.1556698e-06]   \n",
       "4  [9.9999958e-01 3.9027404e-07]   \n",
       "\n",
       "                                          age_scores  face  ...  AU05_r_c  \\\n",
       "0  [5.3278323e-05 5.1294203e-04 3.1685282e-03 2.4...     0  ...         0   \n",
       "1  [5.6344652e-07 4.1122996e-05 1.3004625e-02 6.6...     0  ...         0   \n",
       "2  [8.6898144e-05 1.5486187e-04 2.0614783e-03 2.4...     0  ...         0   \n",
       "3  [3.4171117e-06 7.4146001e-06 5.2725355e-04 4.3...     0  ...         0   \n",
       "4  [5.4735474e-06 8.7598469e-03 4.4977888e-01 4.5...     0  ...         0   \n",
       "\n",
       "   AU06_r_c  AU09_r_c  AU10_r_c  AU12_r_c  AU15_r_c  AU17_r_c  AU20_r_c  \\\n",
       "0         0         0         1         0         0         0         0   \n",
       "1         1         0         1         1         0         0         0   \n",
       "2         0         0         1         0         0         0         0   \n",
       "3         0         0         1         1         0         0         0   \n",
       "4         1         0         1         1         0         0         0   \n",
       "\n",
       "   AU25_r_c  AU26_r_c  \n",
       "0         1         0  \n",
       "1         1         0  \n",
       "2         0         0  \n",
       "3         0         0  \n",
       "4         1         0  \n",
       "\n",
       "[5 rows x 59 columns]"
      ]
     },
     "execution_count": 28,
     "metadata": {},
     "output_type": "execute_result"
    }
   ],
   "source": [
    "frame = pd.read_csv('AffectNet_Manual_OpenFace_result_with_expression_gender_race_age.csv')\n",
    "print(frame.shape)\n",
    "frame.head()"
   ]
  },
  {
   "cell_type": "code",
   "execution_count": 29,
   "metadata": {
    "scrolled": false
   },
   "outputs": [
    {
     "name": "stdout",
     "output_type": "stream",
     "text": [
      "['ImageName', 'Expression', 'Happy', 'race_preds', 'gender_preds', 'age_preds', 'race_scores', 'gender_scores', 'age_scores', 'face', 'confidence', 'AU01_c', 'AU02_c', 'AU04_c', 'AU05_c', 'AU06_c', 'AU07_c', 'AU09_c', 'AU10_c', 'AU12_c', 'AU14_c', 'AU15_c', 'AU17_c', 'AU20_c', 'AU23_c', 'AU25_c', 'AU26_c', 'AU28_c', 'AU45_c', 'AU01_r', 'AU02_r', 'AU04_r', 'AU05_r', 'AU06_r', 'AU07_r', 'AU09_r', 'AU10_r', 'AU12_r', 'AU14_r', 'AU15_r', 'AU17_r', 'AU20_r', 'AU23_r', 'AU25_r', 'AU26_r', 'AU45_r', 'AU01_r_c', 'AU02_r_c', 'AU04_r_c', 'AU05_r_c', 'AU06_r_c', 'AU09_r_c', 'AU10_r_c', 'AU12_r_c', 'AU15_r_c', 'AU17_r_c', 'AU20_r_c', 'AU25_r_c', 'AU26_r_c']\n"
     ]
    }
   ],
   "source": [
    "print(list(frame.columns))"
   ]
  },
  {
   "cell_type": "code",
   "execution_count": 30,
   "metadata": {},
   "outputs": [
    {
     "data": {
      "text/plain": [
       "(35694, 59)"
      ]
     },
     "execution_count": 30,
     "metadata": {},
     "output_type": "execute_result"
    }
   ],
   "source": [
    "frame = frame.dropna()\n",
    "frame.shape"
   ]
  },
  {
   "cell_type": "code",
   "execution_count": 31,
   "metadata": {},
   "outputs": [
    {
     "data": {
      "text/plain": [
       "00    15395\n",
       "11    12018\n",
       "10     4277\n",
       "01     4004\n",
       "Name: AU6and12_c, dtype: int64"
      ]
     },
     "execution_count": 31,
     "metadata": {},
     "output_type": "execute_result"
    }
   ],
   "source": [
    "frame['AU6and12_c'] = frame.AU06_c.apply(int).apply(str) + frame.AU12_c.apply(int).apply(str)\n",
    "frame.AU6and12_c.value_counts()"
   ]
  },
  {
   "cell_type": "code",
   "execution_count": 32,
   "metadata": {},
   "outputs": [
    {
     "data": {
      "text/plain": [
       "00    23289\n",
       "01     6111\n",
       "11     5431\n",
       "10      863\n",
       "Name: AU6and12_r_c, dtype: int64"
      ]
     },
     "execution_count": 32,
     "metadata": {},
     "output_type": "execute_result"
    }
   ],
   "source": [
    "frame['AU6and12_r_c'] = frame.AU06_r_c.apply(str) + frame.AU12_r_c.apply(str)\n",
    "frame.AU6and12_r_c.value_counts()"
   ]
  },
  {
   "cell_type": "markdown",
   "metadata": {},
   "source": [
    "# P(expression|AU1, male) =? P(expression|AU1, female)"
   ]
  },
  {
   "cell_type": "code",
   "execution_count": 33,
   "metadata": {},
   "outputs": [
    {
     "name": "stdout",
     "output_type": "stream",
     "text": [
      "(19926, 61)\n",
      "(15768, 61)\n"
     ]
    }
   ],
   "source": [
    "male_frame = frame.loc[frame['gender_preds'] == 'Male']\n",
    "female_frame = frame.loc[frame['gender_preds'] == 'Female']\n",
    "print(male_frame.shape)\n",
    "print(female_frame.shape)"
   ]
  },
  {
   "cell_type": "markdown",
   "metadata": {},
   "source": [
    "## Happiness"
   ]
  },
  {
   "cell_type": "markdown",
   "metadata": {},
   "source": [
    "#### First check the simple proportion of male happiness vs female happiness:"
   ]
  },
  {
   "cell_type": "code",
   "execution_count": 60,
   "metadata": {
    "scrolled": false
   },
   "outputs": [
    {
     "name": "stdout",
     "output_type": "stream",
     "text": [
      "0.256298303723778\n",
      "0.3835616438356164\n"
     ]
    }
   ],
   "source": [
    "print(male_frame.Happy.mean())\n",
    "print(female_frame.Happy.mean())"
   ]
  },
  {
   "cell_type": "code",
   "execution_count": 61,
   "metadata": {
    "scrolled": false
   },
   "outputs": [
    {
     "name": "stdout",
     "output_type": "stream",
     "text": [
      "0.17891197430492822\n",
      "0.17307204464738712\n"
     ]
    }
   ],
   "source": [
    "print(male_frame.AU06_r_c.mean())\n",
    "print(female_frame.AU06_r_c.mean())"
   ]
  },
  {
   "cell_type": "code",
   "execution_count": 62,
   "metadata": {
    "scrolled": false
   },
   "outputs": [
    {
     "name": "stdout",
     "output_type": "stream",
     "text": [
      "0.268945096858376\n",
      "0.3921232876712329\n"
     ]
    }
   ],
   "source": [
    "print(male_frame.AU12_r_c.mean())\n",
    "print(female_frame.AU12_r_c.mean())"
   ]
  },
  {
   "cell_type": "code",
   "execution_count": 63,
   "metadata": {
    "scrolled": false
   },
   "outputs": [
    {
     "name": "stdout",
     "output_type": "stream",
     "text": [
      "0.1444845929940781\n",
      "0.16184677828513444\n"
     ]
    }
   ],
   "source": [
    "print((male_frame.AU6and12_r_c=='11').mean())\n",
    "print((female_frame.AU6and12_r_c=='11').mean())"
   ]
  },
  {
   "cell_type": "code",
   "execution_count": 64,
   "metadata": {
    "scrolled": false
   },
   "outputs": [
    {
     "name": "stdout",
     "output_type": "stream",
     "text": [
      "0.3033724781692262\n",
      "0.4033485540334856\n"
     ]
    }
   ],
   "source": [
    "print(1-(male_frame.AU6and12_r_c=='00').mean())\n",
    "print(1-(female_frame.AU6and12_r_c=='00').mean())"
   ]
  },
  {
   "cell_type": "markdown",
   "metadata": {},
   "source": [
    "We see that female are more likely to be happy. Not surprising.\n",
    "\n",
    "#### Now check for conditional probability, controlled by AU:"
   ]
  },
  {
   "cell_type": "markdown",
   "metadata": {},
   "source": [
    "## New"
   ]
  },
  {
   "cell_type": "code",
   "execution_count": 68,
   "metadata": {},
   "outputs": [
    {
     "name": "stdout",
     "output_type": "stream",
     "text": [
      "682.14724693928\n",
      "167.3549912287323\n"
     ]
    },
    {
     "data": {
      "text/html": [
       "<div>\n",
       "<style scoped>\n",
       "    .dataframe tbody tr th:only-of-type {\n",
       "        vertical-align: middle;\n",
       "    }\n",
       "\n",
       "    .dataframe tbody tr th {\n",
       "        vertical-align: top;\n",
       "    }\n",
       "\n",
       "    .dataframe thead th {\n",
       "        text-align: right;\n",
       "    }\n",
       "</style>\n",
       "<table border=\"1\" class=\"dataframe\">\n",
       "  <thead>\n",
       "    <tr style=\"text-align: right;\">\n",
       "      <th></th>\n",
       "      <th>male</th>\n",
       "      <th>female</th>\n",
       "      <th>diff</th>\n",
       "      <th>p-value</th>\n",
       "    </tr>\n",
       "    <tr>\n",
       "      <th>AU06_r_c</th>\n",
       "      <th></th>\n",
       "      <th></th>\n",
       "      <th></th>\n",
       "      <th></th>\n",
       "    </tr>\n",
       "  </thead>\n",
       "  <tbody>\n",
       "    <tr>\n",
       "      <th>0</th>\n",
       "      <td>0.164782</td>\n",
       "      <td>0.292047</td>\n",
       "      <td>0.127265</td>\n",
       "      <td>0.0</td>\n",
       "    </tr>\n",
       "    <tr>\n",
       "      <th>1</th>\n",
       "      <td>0.676297</td>\n",
       "      <td>0.820813</td>\n",
       "      <td>0.144516</td>\n",
       "      <td>0.0</td>\n",
       "    </tr>\n",
       "  </tbody>\n",
       "</table>\n",
       "</div>"
      ],
      "text/plain": [
       "              male    female      diff  p-value\n",
       "AU06_r_c                                       \n",
       "0         0.164782  0.292047  0.127265      0.0\n",
       "1         0.676297  0.820813  0.144516      0.0"
      ]
     },
     "execution_count": 68,
     "metadata": {},
     "output_type": "execute_result"
    }
   ],
   "source": [
    "result_df = pd.concat([pd.crosstab(male_frame.AU06_r_c, male_frame.Happy, normalize = 'index')[1], pd.crosstab(female_frame.AU06_r_c, female_frame.Happy, normalize = 'index')[1]], axis=1)\n",
    "result_df.columns = ['male', 'female']\n",
    "result_df['diff'] = result_df.female - result_df.male\n",
    "for index, row in result_df.iterrows():\n",
    "    cross_tab = pd.crosstab(frame[frame.AU06_r_c == index].gender_preds, frame[frame.AU06_r_c == index].Happy, margins = True)\n",
    "\n",
    "    cross_tab.columns = [\"Not Happy\", \"Happy\", \"row_totals\"]\n",
    "    cross_tab.index = [\"Female\", \"Male\", \"col_totals\"]\n",
    "    observed = cross_tab.iloc[0:2,0:2]   # Get table without totals for later use\n",
    "\n",
    "    expected =  np.outer(cross_tab[\"row_totals\"][0:2],\n",
    "                     cross_tab.loc[\"col_totals\"][0:2]) / len(frame[frame.AU06_r_c == index])\n",
    "\n",
    "    expected = pd.DataFrame(expected)\n",
    "    expected.columns = [\"Not Happy\", \"Happy\"]\n",
    "    expected.index = [\"Female\", \"Male\"]\n",
    "\n",
    "    if (expected>=5).sum().sum() == 4:\n",
    "        chi_squared_stat = (((observed-expected)**2)/expected).sum().sum()\n",
    "        p_value = 1 - stats.chi2.cdf(x=chi_squared_stat, df=1)\n",
    "    else:\n",
    "        chi_squared_stat = np.nan\n",
    "        p_value = np.nan\n",
    "\n",
    "    print(chi_squared_stat)\n",
    "    \n",
    "    result_df.loc[index, \"p-value\"] = p_value\n",
    "result_df"
   ]
  },
  {
   "cell_type": "code",
   "execution_count": 69,
   "metadata": {},
   "outputs": [
    {
     "name": "stdout",
     "output_type": "stream",
     "text": [
      "69.61649898464273\n",
      "100.2039476626437\n"
     ]
    },
    {
     "data": {
      "text/html": [
       "<div>\n",
       "<style scoped>\n",
       "    .dataframe tbody tr th:only-of-type {\n",
       "        vertical-align: middle;\n",
       "    }\n",
       "\n",
       "    .dataframe tbody tr th {\n",
       "        vertical-align: top;\n",
       "    }\n",
       "\n",
       "    .dataframe thead th {\n",
       "        text-align: right;\n",
       "    }\n",
       "</style>\n",
       "<table border=\"1\" class=\"dataframe\">\n",
       "  <thead>\n",
       "    <tr style=\"text-align: right;\">\n",
       "      <th></th>\n",
       "      <th>male</th>\n",
       "      <th>female</th>\n",
       "      <th>diff</th>\n",
       "      <th>p-value</th>\n",
       "    </tr>\n",
       "    <tr>\n",
       "      <th>AU12_r_c</th>\n",
       "      <th></th>\n",
       "      <th></th>\n",
       "      <th></th>\n",
       "      <th></th>\n",
       "    </tr>\n",
       "  </thead>\n",
       "  <tbody>\n",
       "    <tr>\n",
       "      <th>0</th>\n",
       "      <td>0.093293</td>\n",
       "      <td>0.127178</td>\n",
       "      <td>0.033885</td>\n",
       "      <td>1.110223e-16</td>\n",
       "    </tr>\n",
       "    <tr>\n",
       "      <th>1</th>\n",
       "      <td>0.699384</td>\n",
       "      <td>0.781012</td>\n",
       "      <td>0.081628</td>\n",
       "      <td>0.000000e+00</td>\n",
       "    </tr>\n",
       "  </tbody>\n",
       "</table>\n",
       "</div>"
      ],
      "text/plain": [
       "              male    female      diff       p-value\n",
       "AU12_r_c                                            \n",
       "0         0.093293  0.127178  0.033885  1.110223e-16\n",
       "1         0.699384  0.781012  0.081628  0.000000e+00"
      ]
     },
     "execution_count": 69,
     "metadata": {},
     "output_type": "execute_result"
    }
   ],
   "source": [
    "result_df = pd.concat([pd.crosstab(male_frame.AU12_r_c, male_frame.Happy, normalize = 'index')[1], pd.crosstab(female_frame.AU12_r_c, female_frame.Happy, normalize = 'index')[1]], axis=1)\n",
    "result_df.columns = ['male', 'female']\n",
    "result_df['diff'] = result_df.female - result_df.male\n",
    "for index, row in result_df.iterrows():\n",
    "    cross_tab = pd.crosstab(frame[frame.AU12_r_c == index].gender_preds, frame[frame.AU12_r_c == index].Happy, margins = True)\n",
    "\n",
    "    cross_tab.columns = [\"Not Happy\", \"Happy\", \"row_totals\"]\n",
    "    cross_tab.index = [\"Female\", \"Male\", \"col_totals\"]\n",
    "    observed = cross_tab.iloc[0:2,0:2]   # Get table without totals for later use\n",
    "\n",
    "    expected =  np.outer(cross_tab[\"row_totals\"][0:2],\n",
    "                     cross_tab.loc[\"col_totals\"][0:2]) / len(frame[frame.AU12_r_c == index])\n",
    "\n",
    "    expected = pd.DataFrame(expected)\n",
    "    expected.columns = [\"Not Happy\", \"Happy\"]\n",
    "    expected.index = [\"Female\", \"Male\"]\n",
    "\n",
    "    if (expected>=5).sum().sum() == 4:\n",
    "        chi_squared_stat = (((observed-expected)**2)/expected).sum().sum()\n",
    "        p_value = 1 - stats.chi2.cdf(x=chi_squared_stat, df=1)\n",
    "    else:\n",
    "        chi_squared_stat = np.nan\n",
    "        p_value = np.nan\n",
    "\n",
    "    print(chi_squared_stat)\n",
    "    \n",
    "    result_df.loc[index, \"p-value\"] = p_value\n",
    "result_df"
   ]
  },
  {
   "cell_type": "code",
   "execution_count": 70,
   "metadata": {},
   "outputs": [
    {
     "name": "stdout",
     "output_type": "stream",
     "text": [
      "94.94544266348461\n",
      "92.31395715618359\n",
      "0.009201112907831936\n",
      "61.30020425886023\n"
     ]
    },
    {
     "data": {
      "text/html": [
       "<div>\n",
       "<style scoped>\n",
       "    .dataframe tbody tr th:only-of-type {\n",
       "        vertical-align: middle;\n",
       "    }\n",
       "\n",
       "    .dataframe tbody tr th {\n",
       "        vertical-align: top;\n",
       "    }\n",
       "\n",
       "    .dataframe thead th {\n",
       "        text-align: right;\n",
       "    }\n",
       "</style>\n",
       "<table border=\"1\" class=\"dataframe\">\n",
       "  <thead>\n",
       "    <tr style=\"text-align: right;\">\n",
       "      <th></th>\n",
       "      <th>male</th>\n",
       "      <th>female</th>\n",
       "      <th>diff</th>\n",
       "      <th>p-value</th>\n",
       "    </tr>\n",
       "    <tr>\n",
       "      <th>AU6and12_r_c</th>\n",
       "      <th></th>\n",
       "      <th></th>\n",
       "      <th></th>\n",
       "      <th></th>\n",
       "    </tr>\n",
       "  </thead>\n",
       "  <tbody>\n",
       "    <tr>\n",
       "      <th>00</th>\n",
       "      <td>0.085513</td>\n",
       "      <td>0.124787</td>\n",
       "      <td>0.039275</td>\n",
       "      <td>0.000000e+00</td>\n",
       "    </tr>\n",
       "    <tr>\n",
       "      <th>01</th>\n",
       "      <td>0.608468</td>\n",
       "      <td>0.725420</td>\n",
       "      <td>0.116952</td>\n",
       "      <td>0.000000e+00</td>\n",
       "    </tr>\n",
       "    <tr>\n",
       "      <th>10</th>\n",
       "      <td>0.250729</td>\n",
       "      <td>0.254237</td>\n",
       "      <td>0.003508</td>\n",
       "      <td>9.235822e-01</td>\n",
       "    </tr>\n",
       "    <tr>\n",
       "      <th>11</th>\n",
       "      <td>0.777701</td>\n",
       "      <td>0.860110</td>\n",
       "      <td>0.082409</td>\n",
       "      <td>4.884981e-15</td>\n",
       "    </tr>\n",
       "  </tbody>\n",
       "</table>\n",
       "</div>"
      ],
      "text/plain": [
       "                  male    female      diff       p-value\n",
       "AU6and12_r_c                                            \n",
       "00            0.085513  0.124787  0.039275  0.000000e+00\n",
       "01            0.608468  0.725420  0.116952  0.000000e+00\n",
       "10            0.250729  0.254237  0.003508  9.235822e-01\n",
       "11            0.777701  0.860110  0.082409  4.884981e-15"
      ]
     },
     "execution_count": 70,
     "metadata": {},
     "output_type": "execute_result"
    }
   ],
   "source": [
    "result_df = pd.concat([pd.crosstab(male_frame.AU6and12_r_c, male_frame.Happy, normalize = 'index')[1], pd.crosstab(female_frame.AU6and12_r_c, female_frame.Happy, normalize = 'index')[1]], axis=1)\n",
    "result_df.columns = ['male', 'female']\n",
    "result_df['diff'] = result_df.female - result_df.male\n",
    "for index, row in result_df.iterrows():\n",
    "    cross_tab = pd.crosstab(frame[frame.AU6and12_r_c == index].gender_preds, frame[frame.AU6and12_r_c == index].Happy, margins = True)\n",
    "\n",
    "    cross_tab.columns = [\"Not Happy\", \"Happy\", \"row_totals\"]\n",
    "    cross_tab.index = [\"Female\", \"Male\", \"col_totals\"]\n",
    "    observed = cross_tab.iloc[0:2,0:2]   # Get table without totals for later use\n",
    "\n",
    "    expected =  np.outer(cross_tab[\"row_totals\"][0:2],\n",
    "                     cross_tab.loc[\"col_totals\"][0:2]) / len(frame[frame.AU6and12_r_c == index])\n",
    "\n",
    "    expected = pd.DataFrame(expected)\n",
    "    expected.columns = [\"Not Happy\", \"Happy\"]\n",
    "    expected.index = [\"Female\", \"Male\"]\n",
    "\n",
    "    if (expected>=5).sum().sum() == 4:\n",
    "        chi_squared_stat = (((observed-expected)**2)/expected).sum().sum()\n",
    "        p_value = 1 - stats.chi2.cdf(x=chi_squared_stat, df=1)\n",
    "    else:\n",
    "        chi_squared_stat = np.nan\n",
    "        p_value = np.nan\n",
    "\n",
    "    print(chi_squared_stat)\n",
    "    \n",
    "    result_df.loc[index, \"p-value\"] = p_value\n",
    "result_df"
   ]
  },
  {
   "cell_type": "code",
   "execution_count": 34,
   "metadata": {},
   "outputs": [
    {
     "data": {
      "image/png": "[encoded data removed]",
      "text/plain": [
       "<Figure size 432x288 with 1 Axes>"
      ]
     },
     "metadata": {
      "needs_background": "light"
     },
     "output_type": "display_data"
    }
   ],
   "source": [
    "#AU_values_male = list(male_frame.AU06_r.unique())\n",
    "fig = plt.figure(figsize=(6,4))\n",
    "ax = fig.gca()\n",
    "\n",
    "AU_values_male = list(male_frame.AU06_r.value_counts()[male_frame.AU06_r.value_counts() >= 25].index)\n",
    "happy_proportion_male = []\n",
    "for AU_value in AU_values_male:\n",
    "    subframe = male_frame.loc[male_frame.AU06_r == AU_value]\n",
    "    happy_proportion_male.append(subframe.Happy.mean())\n",
    "plt.scatter(AU_values_male, happy_proportion_male, label=\"Male\", marker = \"p\", alpha=0.8, s=30, c='r')#,edgecolors='k')\n",
    "\n",
    "#AU_values_female = list(female_frame.AU06_r.unique())\n",
    "AU_values_female = list(female_frame.AU06_r.value_counts()[female_frame.AU06_r.value_counts() >= 25].index)\n",
    "happy_proportion_female = []\n",
    "for AU_value in AU_values_female:\n",
    "    subframe = female_frame.loc[female_frame.AU06_r == AU_value]\n",
    "    happy_proportion_female.append(subframe.Happy.mean())\n",
    "plt.scatter(AU_values_female, happy_proportion_female, label=\"Female\", marker = \"*\", alpha=0.8, s=30, c='#089BDF')#,edgecolors='k')\n",
    "\n",
    "\n",
    "plt.xlabel('AU6 intensity', fontsize = 16)\n",
    "plt.ylabel('Proportion of \"Happy\" Labels', fontsize = 16)\n",
    "plt.title('P(Happy|AU6) for AffectNet-Manual', fontsize = 18)\n",
    "plt.legend(fontsize = 16)\n",
    "#plt.xlim(-0.1, 3)\n",
    "plt.tight_layout()\n",
    "plt.savefig('gender_bias_plots/AffectNet_Manual_AU6.pdf') \n",
    "plt.show()"
   ]
  },
  {
   "cell_type": "code",
   "execution_count": 35,
   "metadata": {
    "scrolled": true
   },
   "outputs": [
    {
     "data": {
      "image/png": "[encoded data removed]",
      "text/plain": [
       "<Figure size 432x288 with 1 Axes>"
      ]
     },
     "metadata": {
      "needs_background": "light"
     },
     "output_type": "display_data"
    }
   ],
   "source": [
    "#AU_values_male = list(male_frame.AU06_r.unique())\n",
    "fig = plt.figure(figsize=(6,4))\n",
    "ax = fig.gca()\n",
    "\n",
    "AU_values_male = list(male_frame.AU12_r.value_counts()[male_frame.AU12_r.value_counts() >= 25].index)\n",
    "happy_proportion_male = []\n",
    "for AU_value in AU_values_male:\n",
    "    subframe = male_frame.loc[male_frame.AU12_r == AU_value]\n",
    "    happy_proportion_male.append(subframe.Happy.mean())\n",
    "plt.scatter(AU_values_male, happy_proportion_male, label=\"Male\", marker = \"p\", alpha=0.8, s=30, c='r')#,edgecolors='k')\n",
    "\n",
    "#AU_values_female = list(female_frame.AU06_r.unique())\n",
    "AU_values_female = list(female_frame.AU12_r.value_counts()[female_frame.AU12_r.value_counts() >= 25].index)\n",
    "happy_proportion_female = []\n",
    "for AU_value in AU_values_female:\n",
    "    subframe = female_frame.loc[female_frame.AU12_r == AU_value]\n",
    "    happy_proportion_female.append(subframe.Happy.mean())\n",
    "plt.scatter(AU_values_female, happy_proportion_female, label=\"Female\", marker = \"*\", alpha=0.8, s=30, c='#089BDF')#,edgecolors='k')\n",
    "\n",
    "\n",
    "plt.xlabel('AU12 intensity', fontsize = 16)\n",
    "plt.ylabel('Proportion of \"Happy\" Labels', fontsize = 16)\n",
    "plt.title('P(Happy|AU12) for AffectNet-Manual', fontsize = 18)\n",
    "plt.legend(fontsize = 16)\n",
    "#plt.xlim(-0.1, 3)\n",
    "plt.tight_layout()\n",
    "plt.savefig('gender_bias_plots/AffectNet_Manual_AU12.pdf') \n",
    "plt.show()"
   ]
  },
  {
   "cell_type": "markdown",
   "metadata": {},
   "source": [
    "To formally show that there is a significant difference between the two logistic lines, we need logistic regression:"
   ]
  },
  {
   "cell_type": "code",
   "execution_count": 527,
   "metadata": {
    "scrolled": false
   },
   "outputs": [
    {
     "name": "stdout",
     "output_type": "stream",
     "text": [
      "                 Generalized Linear Model Regression Results                  \n",
      "==============================================================================\n",
      "Dep. Variable:                  Happy   No. Observations:                35694\n",
      "Model:                            GLM   Df Residuals:                    35690\n",
      "Model Family:                Binomial   Df Model:                            3\n",
      "Link Function:                  logit   Scale:                          1.0000\n",
      "Method:                          IRLS   Log-Likelihood:                -12864.\n",
      "Date:                Sun, 02 Aug 2020   Deviance:                       25727.\n",
      "Time:                        15:15:43   Pearson chi2:                 3.64e+04\n",
      "No. Iterations:                     6                                         \n",
      "Covariance Type:            nonrobust                                         \n",
      "========================================================================================\n",
      "                           coef    std err          z      P>|z|      [0.025      0.975]\n",
      "----------------------------------------------------------------------------------------\n",
      "Intercept               -2.7753      0.033    -84.403      0.000      -2.840      -2.711\n",
      "gender_preds[T.Male]    -0.3517      0.034    -10.489      0.000      -0.417      -0.286\n",
      "AU06_r                   0.1527      0.025      6.108      0.000       0.104       0.202\n",
      "AU12_r                   1.7423      0.025     70.853      0.000       1.694       1.790\n",
      "========================================================================================\n"
     ]
    }
   ],
   "source": [
    "formula = 'Happy ~ AU06_r + AU12_r + gender_preds'\n",
    "model = smf.glm(formula = formula, data=frame, family=sm.families.Binomial())\n",
    "result = model.fit()\n",
    "print(result.summary())"
   ]
  },
  {
   "cell_type": "code",
   "execution_count": 528,
   "metadata": {
    "scrolled": false
   },
   "outputs": [
    {
     "name": "stdout",
     "output_type": "stream",
     "text": [
      "                 Generalized Linear Model Regression Results                  \n",
      "==============================================================================\n",
      "Dep. Variable:                  Happy   No. Observations:                35694\n",
      "Model:                            GLM   Df Residuals:                    35688\n",
      "Model Family:                Binomial   Df Model:                            5\n",
      "Link Function:                  logit   Scale:                          1.0000\n",
      "Method:                          IRLS   Log-Likelihood:                -12850.\n",
      "Date:                Sun, 02 Aug 2020   Deviance:                       25699.\n",
      "Time:                        15:15:43   Pearson chi2:                 3.63e+04\n",
      "No. Iterations:                     6                                         \n",
      "Covariance Type:            nonrobust                                         \n",
      "===============================================================================================\n",
      "                                  coef    std err          z      P>|z|      [0.025      0.975]\n",
      "-----------------------------------------------------------------------------------------------\n",
      "Intercept                      -2.7546      0.041    -67.552      0.000      -2.835      -2.675\n",
      "gender_preds[T.Male]           -0.4318      0.058     -7.494      0.000      -0.545      -0.319\n",
      "AU06_r                          0.0010      0.038      0.027      0.979      -0.074       0.076\n",
      "AU06_r:gender_preds[T.Male]     0.2645      0.051      5.236      0.000       0.165       0.363\n",
      "AU12_r                          1.8247      0.036     50.294      0.000       1.754       1.896\n",
      "AU12_r:gender_preds[T.Male]    -0.1449      0.049     -2.932      0.003      -0.242      -0.048\n",
      "===============================================================================================\n"
     ]
    }
   ],
   "source": [
    "formula = 'Happy ~ (AU06_r + AU12_r) * gender_preds'\n",
    "model = smf.glm(formula = formula, data=frame, family=sm.families.Binomial())\n",
    "result = model.fit()\n",
    "print(result.summary())"
   ]
  },
  {
   "cell_type": "code",
   "execution_count": 529,
   "metadata": {
    "scrolled": false
   },
   "outputs": [
    {
     "name": "stdout",
     "output_type": "stream",
     "text": [
      "                 Generalized Linear Model Regression Results                  \n",
      "==============================================================================\n",
      "Dep. Variable:                  Happy   No. Observations:                35694\n",
      "Model:                            GLM   Df Residuals:                    35690\n",
      "Model Family:                Binomial   Df Model:                            3\n",
      "Link Function:                  logit   Scale:                          1.0000\n",
      "Method:                          IRLS   Log-Likelihood:                -13548.\n",
      "Date:                Sun, 02 Aug 2020   Deviance:                       27096.\n",
      "Time:                        15:15:45   Pearson chi2:                 3.68e+04\n",
      "No. Iterations:                     6                                         \n",
      "Covariance Type:            nonrobust                                         \n",
      "===========================================================================================================\n",
      "                                              coef    std err          z      P>|z|      [0.025      0.975]\n",
      "-----------------------------------------------------------------------------------------------------------\n",
      "Intercept                                  -2.5245      0.037    -67.461      0.000      -2.598      -2.451\n",
      "gender_preds[T.Male]                       -0.7455      0.055    -13.472      0.000      -0.854      -0.637\n",
      "I(AU06_r + AU12_r)                          0.9907      0.015     66.604      0.000       0.962       1.020\n",
      "I(AU06_r + AU12_r):gender_preds[T.Male]     0.0064      0.021      0.312      0.755      -0.034       0.047\n",
      "===========================================================================================================\n"
     ]
    }
   ],
   "source": [
    "formula = 'Happy ~ I(AU06_r + AU12_r) * gender_preds'\n",
    "model = smf.glm(formula = formula, data=frame, family=sm.families.Binomial())\n",
    "result = model.fit()\n",
    "print(result.summary())"
   ]
  },
  {
   "cell_type": "code",
   "execution_count": null,
   "metadata": {},
   "outputs": [],
   "source": []
  },
  {
   "cell_type": "markdown",
   "metadata": {},
   "source": [
    "# AffectNet Automatic"
   ]
  },
  {
   "cell_type": "code",
   "execution_count": 36,
   "metadata": {},
   "outputs": [
    {
     "name": "stdout",
     "output_type": "stream",
     "text": [
      "(42284, 59)\n"
     ]
    },
    {
     "data": {
      "text/html": [
       "<div>\n",
       "<style scoped>\n",
       "    .dataframe tbody tr th:only-of-type {\n",
       "        vertical-align: middle;\n",
       "    }\n",
       "\n",
       "    .dataframe tbody tr th {\n",
       "        vertical-align: top;\n",
       "    }\n",
       "\n",
       "    .dataframe thead th {\n",
       "        text-align: right;\n",
       "    }\n",
       "</style>\n",
       "<table border=\"1\" class=\"dataframe\">\n",
       "  <thead>\n",
       "    <tr style=\"text-align: right;\">\n",
       "      <th></th>\n",
       "      <th>ImageName</th>\n",
       "      <th>Expression</th>\n",
       "      <th>Happy</th>\n",
       "      <th>race_preds</th>\n",
       "      <th>gender_preds</th>\n",
       "      <th>age_preds</th>\n",
       "      <th>race_scores</th>\n",
       "      <th>gender_scores</th>\n",
       "      <th>age_scores</th>\n",
       "      <th>face</th>\n",
       "      <th>...</th>\n",
       "      <th>AU05_r_c</th>\n",
       "      <th>AU06_r_c</th>\n",
       "      <th>AU09_r_c</th>\n",
       "      <th>AU10_r_c</th>\n",
       "      <th>AU12_r_c</th>\n",
       "      <th>AU15_r_c</th>\n",
       "      <th>AU17_r_c</th>\n",
       "      <th>AU20_r_c</th>\n",
       "      <th>AU25_r_c</th>\n",
       "      <th>AU26_r_c</th>\n",
       "    </tr>\n",
       "  </thead>\n",
       "  <tbody>\n",
       "    <tr>\n",
       "      <th>0</th>\n",
       "      <td>0000278c7363d43c42a4db994a51e36aad351f55e77680...</td>\n",
       "      <td>10</td>\n",
       "      <td>0</td>\n",
       "      <td>White</td>\n",
       "      <td>Female</td>\n",
       "      <td>40-49</td>\n",
       "      <td>[9.7449505e-01 5.2814976e-06 5.5093807e-03 4.6...</td>\n",
       "      <td>[7.1670633e-04 9.9928331e-01]</td>\n",
       "      <td>[2.2580596e-07 1.7767234e-06 2.0319392e-04 2.8...</td>\n",
       "      <td>0</td>\n",
       "      <td>...</td>\n",
       "      <td>0</td>\n",
       "      <td>0</td>\n",
       "      <td>0</td>\n",
       "      <td>1</td>\n",
       "      <td>0</td>\n",
       "      <td>0</td>\n",
       "      <td>0</td>\n",
       "      <td>0</td>\n",
       "      <td>1</td>\n",
       "      <td>0</td>\n",
       "    </tr>\n",
       "    <tr>\n",
       "      <th>1</th>\n",
       "      <td>0000fa4e4ffdc2a6042a0eadf8a2d067774705ba17721a...</td>\n",
       "      <td>10</td>\n",
       "      <td>0</td>\n",
       "      <td>East Asian</td>\n",
       "      <td>Female</td>\n",
       "      <td>20-29</td>\n",
       "      <td>[1.9185199e-01 7.3396941e-06 1.9742842e-03 7.8...</td>\n",
       "      <td>[6.5521155e-05 9.9993443e-01]</td>\n",
       "      <td>[1.48235313e-06 3.44420609e-04 2.11575143e-02 ...</td>\n",
       "      <td>0</td>\n",
       "      <td>...</td>\n",
       "      <td>0</td>\n",
       "      <td>0</td>\n",
       "      <td>0</td>\n",
       "      <td>0</td>\n",
       "      <td>0</td>\n",
       "      <td>0</td>\n",
       "      <td>0</td>\n",
       "      <td>0</td>\n",
       "      <td>1</td>\n",
       "      <td>0</td>\n",
       "    </tr>\n",
       "    <tr>\n",
       "      <th>2</th>\n",
       "      <td>00017248a05758584faf54d4ccdb23d5365a5bfc3e3aee...</td>\n",
       "      <td>0</td>\n",
       "      <td>0</td>\n",
       "      <td>Black</td>\n",
       "      <td>Female</td>\n",
       "      <td>30-39</td>\n",
       "      <td>[2.06290515e-05 9.99178529e-01 1.19858145e-04 ...</td>\n",
       "      <td>[0.00982992 0.9901701 ]</td>\n",
       "      <td>[1.80382315e-07 2.75580824e-05 3.95781221e-03 ...</td>\n",
       "      <td>0</td>\n",
       "      <td>...</td>\n",
       "      <td>0</td>\n",
       "      <td>0</td>\n",
       "      <td>0</td>\n",
       "      <td>0</td>\n",
       "      <td>0</td>\n",
       "      <td>0</td>\n",
       "      <td>0</td>\n",
       "      <td>0</td>\n",
       "      <td>0</td>\n",
       "      <td>0</td>\n",
       "    </tr>\n",
       "    <tr>\n",
       "      <th>3</th>\n",
       "      <td>000364dc26143c95e73e8dca30c0f3730db84c295c0b48...</td>\n",
       "      <td>1</td>\n",
       "      <td>1</td>\n",
       "      <td>East Asian</td>\n",
       "      <td>Female</td>\n",
       "      <td>20-29</td>\n",
       "      <td>[9.0016201e-03 2.3799853e-06 2.5050717e-03 9.5...</td>\n",
       "      <td>[6.7393144e-06 9.9999321e-01]</td>\n",
       "      <td>[1.0476051e-07 6.7055156e-04 1.7963018e-01 8.1...</td>\n",
       "      <td>0</td>\n",
       "      <td>...</td>\n",
       "      <td>0</td>\n",
       "      <td>0</td>\n",
       "      <td>0</td>\n",
       "      <td>0</td>\n",
       "      <td>1</td>\n",
       "      <td>0</td>\n",
       "      <td>0</td>\n",
       "      <td>0</td>\n",
       "      <td>0</td>\n",
       "      <td>0</td>\n",
       "    </tr>\n",
       "    <tr>\n",
       "      <th>4</th>\n",
       "      <td>0003a7c1e380e87c864436434115f656c92b695e384f88...</td>\n",
       "      <td>10</td>\n",
       "      <td>0</td>\n",
       "      <td>White</td>\n",
       "      <td>Female</td>\n",
       "      <td>20-29</td>\n",
       "      <td>[0.60690844 0.01389638 0.2529639  0.00064708 0...</td>\n",
       "      <td>[0.00108382 0.9989162 ]</td>\n",
       "      <td>[9.6977169e-07 3.5300865e-04 4.1254394e-02 6.1...</td>\n",
       "      <td>0</td>\n",
       "      <td>...</td>\n",
       "      <td>0</td>\n",
       "      <td>0</td>\n",
       "      <td>0</td>\n",
       "      <td>1</td>\n",
       "      <td>0</td>\n",
       "      <td>1</td>\n",
       "      <td>0</td>\n",
       "      <td>0</td>\n",
       "      <td>0</td>\n",
       "      <td>0</td>\n",
       "    </tr>\n",
       "  </tbody>\n",
       "</table>\n",
       "<p>5 rows × 59 columns</p>\n",
       "</div>"
      ],
      "text/plain": [
       "                                           ImageName  Expression  Happy  \\\n",
       "0  0000278c7363d43c42a4db994a51e36aad351f55e77680...          10      0   \n",
       "1  0000fa4e4ffdc2a6042a0eadf8a2d067774705ba17721a...          10      0   \n",
       "2  00017248a05758584faf54d4ccdb23d5365a5bfc3e3aee...           0      0   \n",
       "3  000364dc26143c95e73e8dca30c0f3730db84c295c0b48...           1      1   \n",
       "4  0003a7c1e380e87c864436434115f656c92b695e384f88...          10      0   \n",
       "\n",
       "   race_preds gender_preds age_preds  \\\n",
       "0       White       Female     40-49   \n",
       "1  East Asian       Female     20-29   \n",
       "2       Black       Female     30-39   \n",
       "3  East Asian       Female     20-29   \n",
       "4       White       Female     20-29   \n",
       "\n",
       "                                         race_scores  \\\n",
       "0  [9.7449505e-01 5.2814976e-06 5.5093807e-03 4.6...   \n",
       "1  [1.9185199e-01 7.3396941e-06 1.9742842e-03 7.8...   \n",
       "2  [2.06290515e-05 9.99178529e-01 1.19858145e-04 ...   \n",
       "3  [9.0016201e-03 2.3799853e-06 2.5050717e-03 9.5...   \n",
       "4  [0.60690844 0.01389638 0.2529639  0.00064708 0...   \n",
       "\n",
       "                   gender_scores  \\\n",
       "0  [7.1670633e-04 9.9928331e-01]   \n",
       "1  [6.5521155e-05 9.9993443e-01]   \n",
       "2        [0.00982992 0.9901701 ]   \n",
       "3  [6.7393144e-06 9.9999321e-01]   \n",
       "4        [0.00108382 0.9989162 ]   \n",
       "\n",
       "                                          age_scores  face  ...  AU05_r_c  \\\n",
       "0  [2.2580596e-07 1.7767234e-06 2.0319392e-04 2.8...     0  ...         0   \n",
       "1  [1.48235313e-06 3.44420609e-04 2.11575143e-02 ...     0  ...         0   \n",
       "2  [1.80382315e-07 2.75580824e-05 3.95781221e-03 ...     0  ...         0   \n",
       "3  [1.0476051e-07 6.7055156e-04 1.7963018e-01 8.1...     0  ...         0   \n",
       "4  [9.6977169e-07 3.5300865e-04 4.1254394e-02 6.1...     0  ...         0   \n",
       "\n",
       "   AU06_r_c  AU09_r_c  AU10_r_c  AU12_r_c  AU15_r_c  AU17_r_c  AU20_r_c  \\\n",
       "0         0         0         1         0         0         0         0   \n",
       "1         0         0         0         0         0         0         0   \n",
       "2         0         0         0         0         0         0         0   \n",
       "3         0         0         0         1         0         0         0   \n",
       "4         0         0         1         0         1         0         0   \n",
       "\n",
       "   AU25_r_c  AU26_r_c  \n",
       "0         1         0  \n",
       "1         1         0  \n",
       "2         0         0  \n",
       "3         0         0  \n",
       "4         0         0  \n",
       "\n",
       "[5 rows x 59 columns]"
      ]
     },
     "execution_count": 36,
     "metadata": {},
     "output_type": "execute_result"
    }
   ],
   "source": [
    "frame = pd.read_csv('AffectNet_Automatic_OpenFace_result_with_expression_gender_race_age.csv')\n",
    "print(frame.shape)\n",
    "frame.head()"
   ]
  },
  {
   "cell_type": "code",
   "execution_count": 37,
   "metadata": {
    "scrolled": false
   },
   "outputs": [
    {
     "name": "stdout",
     "output_type": "stream",
     "text": [
      "['ImageName', 'Expression', 'Happy', 'race_preds', 'gender_preds', 'age_preds', 'race_scores', 'gender_scores', 'age_scores', 'face', 'confidence', 'AU01_c', 'AU02_c', 'AU04_c', 'AU05_c', 'AU06_c', 'AU07_c', 'AU09_c', 'AU10_c', 'AU12_c', 'AU14_c', 'AU15_c', 'AU17_c', 'AU20_c', 'AU23_c', 'AU25_c', 'AU26_c', 'AU28_c', 'AU45_c', 'AU01_r', 'AU02_r', 'AU04_r', 'AU05_r', 'AU06_r', 'AU07_r', 'AU09_r', 'AU10_r', 'AU12_r', 'AU14_r', 'AU15_r', 'AU17_r', 'AU20_r', 'AU23_r', 'AU25_r', 'AU26_r', 'AU45_r', 'AU01_r_c', 'AU02_r_c', 'AU04_r_c', 'AU05_r_c', 'AU06_r_c', 'AU09_r_c', 'AU10_r_c', 'AU12_r_c', 'AU15_r_c', 'AU17_r_c', 'AU20_r_c', 'AU25_r_c', 'AU26_r_c']\n"
     ]
    }
   ],
   "source": [
    "print(list(frame.columns))"
   ]
  },
  {
   "cell_type": "code",
   "execution_count": 38,
   "metadata": {},
   "outputs": [
    {
     "data": {
      "text/plain": [
       "(42284, 59)"
      ]
     },
     "execution_count": 38,
     "metadata": {},
     "output_type": "execute_result"
    }
   ],
   "source": [
    "frame = frame.dropna()\n",
    "frame.shape"
   ]
  },
  {
   "cell_type": "code",
   "execution_count": 39,
   "metadata": {},
   "outputs": [
    {
     "data": {
      "text/plain": [
       "00    18398\n",
       "11    14291\n",
       "01     5093\n",
       "10     4502\n",
       "Name: AU6and12_c, dtype: int64"
      ]
     },
     "execution_count": 39,
     "metadata": {},
     "output_type": "execute_result"
    }
   ],
   "source": [
    "frame['AU6and12_c'] = frame.AU06_c.apply(int).apply(str) + frame.AU12_c.apply(int).apply(str)\n",
    "frame.AU6and12_c.value_counts()"
   ]
  },
  {
   "cell_type": "code",
   "execution_count": 40,
   "metadata": {},
   "outputs": [
    {
     "data": {
      "text/plain": [
       "00    27828\n",
       "01     7198\n",
       "11     6392\n",
       "10      866\n",
       "Name: AU6and12_r_c, dtype: int64"
      ]
     },
     "execution_count": 40,
     "metadata": {},
     "output_type": "execute_result"
    }
   ],
   "source": [
    "frame['AU6and12_r_c'] = frame.AU06_r_c.apply(str) + frame.AU12_r_c.apply(str)\n",
    "frame.AU6and12_r_c.value_counts()"
   ]
  },
  {
   "cell_type": "markdown",
   "metadata": {},
   "source": [
    "# P(expression|AU1, male) =? P(expression|AU1, female)"
   ]
  },
  {
   "cell_type": "code",
   "execution_count": 41,
   "metadata": {},
   "outputs": [
    {
     "name": "stdout",
     "output_type": "stream",
     "text": [
      "(22062, 61)\n",
      "(20222, 61)\n"
     ]
    }
   ],
   "source": [
    "male_frame = frame.loc[frame['gender_preds'] == 'Male']\n",
    "female_frame = frame.loc[frame['gender_preds'] == 'Female']\n",
    "print(male_frame.shape)\n",
    "print(female_frame.shape)"
   ]
  },
  {
   "cell_type": "markdown",
   "metadata": {},
   "source": [
    "## Happiness"
   ]
  },
  {
   "cell_type": "markdown",
   "metadata": {},
   "source": [
    "#### First check the simple proportion of male happiness vs female happiness:"
   ]
  },
  {
   "cell_type": "code",
   "execution_count": 78,
   "metadata": {
    "scrolled": false
   },
   "outputs": [
    {
     "name": "stdout",
     "output_type": "stream",
     "text": [
      "0.33954310579276586\n",
      "0.5007417663930372\n"
     ]
    }
   ],
   "source": [
    "print(male_frame.Happy.mean())\n",
    "print(female_frame.Happy.mean())"
   ]
  },
  {
   "cell_type": "code",
   "execution_count": 79,
   "metadata": {
    "scrolled": false
   },
   "outputs": [
    {
     "name": "stdout",
     "output_type": "stream",
     "text": [
      "0.16249660048952952\n",
      "0.1816338641083968\n"
     ]
    }
   ],
   "source": [
    "print(male_frame.AU06_r_c.mean())\n",
    "print(female_frame.AU06_r_c.mean())"
   ]
  },
  {
   "cell_type": "code",
   "execution_count": 80,
   "metadata": {
    "scrolled": false
   },
   "outputs": [
    {
     "name": "stdout",
     "output_type": "stream",
     "text": [
      "0.254238056386547\n",
      "0.3946691721887054\n"
     ]
    }
   ],
   "source": [
    "print(male_frame.AU12_r_c.mean())\n",
    "print(female_frame.AU12_r_c.mean())"
   ]
  },
  {
   "cell_type": "code",
   "execution_count": 81,
   "metadata": {
    "scrolled": false
   },
   "outputs": [
    {
     "name": "stdout",
     "output_type": "stream",
     "text": [
      "0.13357809808720877\n",
      "0.17035901493423006\n"
     ]
    }
   ],
   "source": [
    "print((male_frame.AU6and12_r_c=='11').mean())\n",
    "print((female_frame.AU6and12_r_c=='11').mean())"
   ]
  },
  {
   "cell_type": "code",
   "execution_count": 82,
   "metadata": {
    "scrolled": false
   },
   "outputs": [
    {
     "name": "stdout",
     "output_type": "stream",
     "text": [
      "0.2831565587888677\n",
      "0.4059440213628721\n"
     ]
    }
   ],
   "source": [
    "print(1-(male_frame.AU6and12_r_c=='00').mean())\n",
    "print(1-(female_frame.AU6and12_r_c=='00').mean())"
   ]
  },
  {
   "cell_type": "markdown",
   "metadata": {},
   "source": [
    "We see that female are more likely to be happy. Not surprising.\n",
    "\n",
    "#### Now check for conditional probability, controlled by AU:"
   ]
  },
  {
   "cell_type": "code",
   "execution_count": 86,
   "metadata": {},
   "outputs": [
    {
     "name": "stdout",
     "output_type": "stream",
     "text": [
      "1078.3414798458045\n",
      "115.30916993595885\n"
     ]
    },
    {
     "data": {
      "text/html": [
       "<div>\n",
       "<style scoped>\n",
       "    .dataframe tbody tr th:only-of-type {\n",
       "        vertical-align: middle;\n",
       "    }\n",
       "\n",
       "    .dataframe tbody tr th {\n",
       "        vertical-align: top;\n",
       "    }\n",
       "\n",
       "    .dataframe thead th {\n",
       "        text-align: right;\n",
       "    }\n",
       "</style>\n",
       "<table border=\"1\" class=\"dataframe\">\n",
       "  <thead>\n",
       "    <tr style=\"text-align: right;\">\n",
       "      <th></th>\n",
       "      <th>male</th>\n",
       "      <th>female</th>\n",
       "      <th>diff</th>\n",
       "      <th>p-value</th>\n",
       "    </tr>\n",
       "    <tr>\n",
       "      <th>AU06_r_c</th>\n",
       "      <th></th>\n",
       "      <th></th>\n",
       "      <th></th>\n",
       "      <th></th>\n",
       "    </tr>\n",
       "  </thead>\n",
       "  <tbody>\n",
       "    <tr>\n",
       "      <th>0</th>\n",
       "      <td>0.245873</td>\n",
       "      <td>0.410297</td>\n",
       "      <td>0.164423</td>\n",
       "      <td>0.0</td>\n",
       "    </tr>\n",
       "    <tr>\n",
       "      <th>1</th>\n",
       "      <td>0.822315</td>\n",
       "      <td>0.908249</td>\n",
       "      <td>0.085934</td>\n",
       "      <td>0.0</td>\n",
       "    </tr>\n",
       "  </tbody>\n",
       "</table>\n",
       "</div>"
      ],
      "text/plain": [
       "              male    female      diff  p-value\n",
       "AU06_r_c                                       \n",
       "0         0.245873  0.410297  0.164423      0.0\n",
       "1         0.822315  0.908249  0.085934      0.0"
      ]
     },
     "execution_count": 86,
     "metadata": {},
     "output_type": "execute_result"
    }
   ],
   "source": [
    "result_df = pd.concat([pd.crosstab(male_frame.AU06_r_c, male_frame.Happy, normalize = 'index')[1], pd.crosstab(female_frame.AU06_r_c, female_frame.Happy, normalize = 'index')[1]], axis=1)\n",
    "result_df.columns = ['male', 'female']\n",
    "result_df['diff'] = result_df.female - result_df.male\n",
    "for index, row in result_df.iterrows():\n",
    "    cross_tab = pd.crosstab(frame[frame.AU06_r_c == index].gender_preds, frame[frame.AU06_r_c == index].Happy, margins = True)\n",
    "\n",
    "    cross_tab.columns = [\"Not Happy\", \"Happy\", \"row_totals\"]\n",
    "    cross_tab.index = [\"Female\", \"Male\", \"col_totals\"]\n",
    "    observed = cross_tab.iloc[0:2,0:2]   # Get table without totals for later use\n",
    "\n",
    "    expected =  np.outer(cross_tab[\"row_totals\"][0:2],\n",
    "                     cross_tab.loc[\"col_totals\"][0:2]) / len(frame[frame.AU06_r_c == index])\n",
    "\n",
    "    expected = pd.DataFrame(expected)\n",
    "    expected.columns = [\"Not Happy\", \"Happy\"]\n",
    "    expected.index = [\"Female\", \"Male\"]\n",
    "\n",
    "    if (expected>=5).sum().sum() == 4:\n",
    "        chi_squared_stat = (((observed-expected)**2)/expected).sum().sum()\n",
    "        p_value = 1 - stats.chi2.cdf(x=chi_squared_stat, df=1)\n",
    "    else:\n",
    "        chi_squared_stat = np.nan\n",
    "        p_value = np.nan\n",
    "\n",
    "    print(chi_squared_stat)\n",
    "    \n",
    "    result_df.loc[index, \"p-value\"] = p_value\n",
    "result_df"
   ]
  },
  {
   "cell_type": "code",
   "execution_count": 87,
   "metadata": {},
   "outputs": [
    {
     "name": "stdout",
     "output_type": "stream",
     "text": [
      "280.77127409974315\n",
      "45.832573988133916\n"
     ]
    },
    {
     "data": {
      "text/html": [
       "<div>\n",
       "<style scoped>\n",
       "    .dataframe tbody tr th:only-of-type {\n",
       "        vertical-align: middle;\n",
       "    }\n",
       "\n",
       "    .dataframe tbody tr th {\n",
       "        vertical-align: top;\n",
       "    }\n",
       "\n",
       "    .dataframe thead th {\n",
       "        text-align: right;\n",
       "    }\n",
       "</style>\n",
       "<table border=\"1\" class=\"dataframe\">\n",
       "  <thead>\n",
       "    <tr style=\"text-align: right;\">\n",
       "      <th></th>\n",
       "      <th>male</th>\n",
       "      <th>female</th>\n",
       "      <th>diff</th>\n",
       "      <th>p-value</th>\n",
       "    </tr>\n",
       "    <tr>\n",
       "      <th>AU12_r_c</th>\n",
       "      <th></th>\n",
       "      <th></th>\n",
       "      <th></th>\n",
       "      <th></th>\n",
       "    </tr>\n",
       "  </thead>\n",
       "  <tbody>\n",
       "    <tr>\n",
       "      <th>0</th>\n",
       "      <td>0.161673</td>\n",
       "      <td>0.240993</td>\n",
       "      <td>0.079321</td>\n",
       "      <td>0.000000e+00</td>\n",
       "    </tr>\n",
       "    <tr>\n",
       "      <th>1</th>\n",
       "      <td>0.861294</td>\n",
       "      <td>0.899135</td>\n",
       "      <td>0.037841</td>\n",
       "      <td>1.288036e-11</td>\n",
       "    </tr>\n",
       "  </tbody>\n",
       "</table>\n",
       "</div>"
      ],
      "text/plain": [
       "              male    female      diff       p-value\n",
       "AU12_r_c                                            \n",
       "0         0.161673  0.240993  0.079321  0.000000e+00\n",
       "1         0.861294  0.899135  0.037841  1.288036e-11"
      ]
     },
     "execution_count": 87,
     "metadata": {},
     "output_type": "execute_result"
    }
   ],
   "source": [
    "result_df = pd.concat([pd.crosstab(male_frame.AU12_r_c, male_frame.Happy, normalize = 'index')[1], pd.crosstab(female_frame.AU12_r_c, female_frame.Happy, normalize = 'index')[1]], axis=1)\n",
    "result_df.columns = ['male', 'female']\n",
    "result_df['diff'] = result_df.female - result_df.male\n",
    "for index, row in result_df.iterrows():\n",
    "    cross_tab = pd.crosstab(frame[frame.AU12_r_c == index].gender_preds, frame[frame.AU12_r_c == index].Happy, margins = True)\n",
    "\n",
    "    cross_tab.columns = [\"Not Happy\", \"Happy\", \"row_totals\"]\n",
    "    cross_tab.index = [\"Female\", \"Male\", \"col_totals\"]\n",
    "    observed = cross_tab.iloc[0:2,0:2]   # Get table without totals for later use\n",
    "\n",
    "    expected =  np.outer(cross_tab[\"row_totals\"][0:2],\n",
    "                     cross_tab.loc[\"col_totals\"][0:2]) / len(frame[frame.AU12_r_c == index])\n",
    "\n",
    "    expected = pd.DataFrame(expected)\n",
    "    expected.columns = [\"Not Happy\", \"Happy\"]\n",
    "    expected.index = [\"Female\", \"Male\"]\n",
    "\n",
    "    if (expected>=5).sum().sum() == 4:\n",
    "        chi_squared_stat = (((observed-expected)**2)/expected).sum().sum()\n",
    "        p_value = 1 - stats.chi2.cdf(x=chi_squared_stat, df=1)\n",
    "    else:\n",
    "        chi_squared_stat = np.nan\n",
    "        p_value = np.nan\n",
    "\n",
    "    print(chi_squared_stat)\n",
    "    \n",
    "    result_df.loc[index, \"p-value\"] = p_value\n",
    "result_df"
   ]
  },
  {
   "cell_type": "code",
   "execution_count": 88,
   "metadata": {},
   "outputs": [
    {
     "name": "stdout",
     "output_type": "stream",
     "text": [
      "323.3481269647484\n",
      "50.33472470360058\n",
      "5.071612860105805\n",
      "16.12808682668661\n"
     ]
    },
    {
     "data": {
      "text/html": [
       "<div>\n",
       "<style scoped>\n",
       "    .dataframe tbody tr th:only-of-type {\n",
       "        vertical-align: middle;\n",
       "    }\n",
       "\n",
       "    .dataframe tbody tr th {\n",
       "        vertical-align: top;\n",
       "    }\n",
       "\n",
       "    .dataframe thead th {\n",
       "        text-align: right;\n",
       "    }\n",
       "</style>\n",
       "<table border=\"1\" class=\"dataframe\">\n",
       "  <thead>\n",
       "    <tr style=\"text-align: right;\">\n",
       "      <th></th>\n",
       "      <th>male</th>\n",
       "      <th>female</th>\n",
       "      <th>diff</th>\n",
       "      <th>p-value</th>\n",
       "    </tr>\n",
       "    <tr>\n",
       "      <th>AU6and12_r_c</th>\n",
       "      <th></th>\n",
       "      <th></th>\n",
       "      <th></th>\n",
       "      <th></th>\n",
       "    </tr>\n",
       "  </thead>\n",
       "  <tbody>\n",
       "    <tr>\n",
       "      <th>00</th>\n",
       "      <td>0.150806</td>\n",
       "      <td>0.235745</td>\n",
       "      <td>0.084938</td>\n",
       "      <td>0.000000e+00</td>\n",
       "    </tr>\n",
       "    <tr>\n",
       "      <th>01</th>\n",
       "      <td>0.810669</td>\n",
       "      <td>0.872575</td>\n",
       "      <td>0.061906</td>\n",
       "      <td>1.296407e-12</td>\n",
       "    </tr>\n",
       "    <tr>\n",
       "      <th>10</th>\n",
       "      <td>0.431034</td>\n",
       "      <td>0.517544</td>\n",
       "      <td>0.086509</td>\n",
       "      <td>2.432074e-02</td>\n",
       "    </tr>\n",
       "    <tr>\n",
       "      <th>11</th>\n",
       "      <td>0.907024</td>\n",
       "      <td>0.934107</td>\n",
       "      <td>0.027083</td>\n",
       "      <td>5.919954e-05</td>\n",
       "    </tr>\n",
       "  </tbody>\n",
       "</table>\n",
       "</div>"
      ],
      "text/plain": [
       "                  male    female      diff       p-value\n",
       "AU6and12_r_c                                            \n",
       "00            0.150806  0.235745  0.084938  0.000000e+00\n",
       "01            0.810669  0.872575  0.061906  1.296407e-12\n",
       "10            0.431034  0.517544  0.086509  2.432074e-02\n",
       "11            0.907024  0.934107  0.027083  5.919954e-05"
      ]
     },
     "execution_count": 88,
     "metadata": {},
     "output_type": "execute_result"
    }
   ],
   "source": [
    "result_df = pd.concat([pd.crosstab(male_frame.AU6and12_r_c, male_frame.Happy, normalize = 'index')[1], pd.crosstab(female_frame.AU6and12_r_c, female_frame.Happy, normalize = 'index')[1]], axis=1)\n",
    "result_df.columns = ['male', 'female']\n",
    "result_df['diff'] = result_df.female - result_df.male\n",
    "for index, row in result_df.iterrows():\n",
    "    cross_tab = pd.crosstab(frame[frame.AU6and12_r_c == index].gender_preds, frame[frame.AU6and12_r_c == index].Happy, margins = True)\n",
    "\n",
    "    cross_tab.columns = [\"Not Happy\", \"Happy\", \"row_totals\"]\n",
    "    cross_tab.index = [\"Female\", \"Male\", \"col_totals\"]\n",
    "    observed = cross_tab.iloc[0:2,0:2]   # Get table without totals for later use\n",
    "\n",
    "    expected =  np.outer(cross_tab[\"row_totals\"][0:2],\n",
    "                     cross_tab.loc[\"col_totals\"][0:2]) / len(frame[frame.AU6and12_r_c == index])\n",
    "\n",
    "    expected = pd.DataFrame(expected)\n",
    "    expected.columns = [\"Not Happy\", \"Happy\"]\n",
    "    expected.index = [\"Female\", \"Male\"]\n",
    "\n",
    "    if (expected>=5).sum().sum() == 4:\n",
    "        chi_squared_stat = (((observed-expected)**2)/expected).sum().sum()\n",
    "        p_value = 1 - stats.chi2.cdf(x=chi_squared_stat, df=1)\n",
    "    else:\n",
    "        chi_squared_stat = np.nan\n",
    "        p_value = np.nan\n",
    "\n",
    "    print(chi_squared_stat)\n",
    "    \n",
    "    result_df.loc[index, \"p-value\"] = p_value\n",
    "result_df"
   ]
  },
  {
   "cell_type": "code",
   "execution_count": 89,
   "metadata": {},
   "outputs": [
    {
     "data": {
      "text/plain": [
       "0.06510934642943594"
      ]
     },
     "execution_count": 89,
     "metadata": {},
     "output_type": "execute_result"
    }
   ],
   "source": [
    "result_df['diff'].mean()"
   ]
  },
  {
   "cell_type": "code",
   "execution_count": 42,
   "metadata": {},
   "outputs": [
    {
     "data": {
      "image/png": "[encoded data removed]",
      "text/plain": [
       "<Figure size 432x288 with 1 Axes>"
      ]
     },
     "metadata": {
      "needs_background": "light"
     },
     "output_type": "display_data"
    }
   ],
   "source": [
    "#AU_values_male = list(male_frame.AU06_r.unique())\n",
    "fig = plt.figure(figsize=(6,4))\n",
    "ax = fig.gca()\n",
    "\n",
    "AU_values_male = list(male_frame.AU06_r.value_counts()[male_frame.AU06_r.value_counts() >= 30].index)\n",
    "happy_proportion_male = []\n",
    "for AU_value in AU_values_male:\n",
    "    subframe = male_frame.loc[male_frame.AU06_r == AU_value]\n",
    "    happy_proportion_male.append(subframe.Happy.mean())\n",
    "plt.scatter(AU_values_male, happy_proportion_male, label=\"Male\", marker = \"p\", alpha=0.8, s=30, c='r')#,edgecolors='k')\n",
    "\n",
    "#AU_values_female = list(female_frame.AU06_r.unique())\n",
    "AU_values_female = list(female_frame.AU06_r.value_counts()[female_frame.AU06_r.value_counts() >= 30].index)\n",
    "happy_proportion_female = []\n",
    "for AU_value in AU_values_female:\n",
    "    subframe = female_frame.loc[female_frame.AU06_r == AU_value]\n",
    "    happy_proportion_female.append(subframe.Happy.mean())\n",
    "plt.scatter(AU_values_female, happy_proportion_female, label=\"Female\", marker = \"*\", alpha=0.8, s=30, c='#089BDF')#,edgecolors='k')\n",
    "\n",
    "\n",
    "plt.xlabel('AU6 intensity', fontsize = 16)\n",
    "plt.ylabel('Proportion of \"Happy\" Labels', fontsize = 16)\n",
    "plt.title('P(Happy|AU6) for AffectNet-Automatic', fontsize = 18)\n",
    "plt.legend(fontsize = 16)\n",
    "#plt.xlim(-0.1, 3)\n",
    "plt.tight_layout()\n",
    "plt.savefig('gender_bias_plots/AffectNet_Automatic_AU6.pdf') \n",
    "plt.show()"
   ]
  },
  {
   "cell_type": "code",
   "execution_count": 43,
   "metadata": {
    "scrolled": true
   },
   "outputs": [
    {
     "data": {
      "image/png": "[encoded data removed]",
      "text/plain": [
       "<Figure size 432x288 with 1 Axes>"
      ]
     },
     "metadata": {
      "needs_background": "light"
     },
     "output_type": "display_data"
    }
   ],
   "source": [
    "#AU_values_male = list(male_frame.AU06_r.unique())\n",
    "fig = plt.figure(figsize=(6,4))\n",
    "ax = fig.gca()\n",
    "\n",
    "AU_values_male = list(male_frame.AU12_r.value_counts()[male_frame.AU12_r.value_counts() >= 30].index)\n",
    "happy_proportion_male = []\n",
    "for AU_value in AU_values_male:\n",
    "    subframe = male_frame.loc[male_frame.AU12_r == AU_value]\n",
    "    happy_proportion_male.append(subframe.Happy.mean())\n",
    "plt.scatter(AU_values_male, happy_proportion_male, label=\"Male\", marker = \"p\", alpha=0.8, s=30, c='r')#,edgecolors='k')\n",
    "\n",
    "#AU_values_female = list(female_frame.AU06_r.unique())\n",
    "AU_values_female = list(female_frame.AU12_r.value_counts()[female_frame.AU12_r.value_counts() >= 30].index)\n",
    "happy_proportion_female = []\n",
    "for AU_value in AU_values_female:\n",
    "    subframe = female_frame.loc[female_frame.AU12_r == AU_value]\n",
    "    happy_proportion_female.append(subframe.Happy.mean())\n",
    "plt.scatter(AU_values_female, happy_proportion_female, label=\"Female\", marker = \"*\", alpha=0.8, s=30, c='#089BDF')#,edgecolors='k')\n",
    "\n",
    "\n",
    "plt.xlabel('AU12 intensity', fontsize = 16)\n",
    "plt.ylabel('Proportion of \"Happy\" Labels', fontsize = 16)\n",
    "plt.title('P(Happy|AU12) for AffectNet-Automatic', fontsize = 18)\n",
    "plt.legend(fontsize = 16)\n",
    "#plt.xlim(-0.1, 3)\n",
    "plt.tight_layout()\n",
    "plt.savefig('gender_bias_plots/AffectNet_Automatic_AU12.pdf') \n",
    "plt.show()"
   ]
  },
  {
   "cell_type": "markdown",
   "metadata": {},
   "source": [
    "To formally show that there is a significant difference between the two logistic lines, we need logistic regression:"
   ]
  },
  {
   "cell_type": "code",
   "execution_count": 313,
   "metadata": {
    "scrolled": false
   },
   "outputs": [
    {
     "name": "stdout",
     "output_type": "stream",
     "text": [
      "                 Generalized Linear Model Regression Results                  \n",
      "==============================================================================\n",
      "Dep. Variable:                  Happy   No. Observations:                42284\n",
      "Model:                            GLM   Df Residuals:                    42280\n",
      "Model Family:                Binomial   Df Model:                            3\n",
      "Link Function:                  logit   Scale:                          1.0000\n",
      "Method:                          IRLS   Log-Likelihood:                -15466.\n",
      "Date:                Sun, 02 Aug 2020   Deviance:                       30933.\n",
      "Time:                        13:32:39   Pearson chi2:                 7.16e+04\n",
      "No. Iterations:                     6                                         \n",
      "Covariance Type:            nonrobust                                         \n",
      "========================================================================================\n",
      "                           coef    std err          z      P>|z|      [0.025      0.975]\n",
      "----------------------------------------------------------------------------------------\n",
      "Intercept               -2.2580      0.027    -83.049      0.000      -2.311      -2.205\n",
      "gender_preds[T.Male]    -0.3612      0.030    -12.066      0.000      -0.420      -0.303\n",
      "AU06_r                   0.1378      0.024      5.648      0.000       0.090       0.186\n",
      "AU12_r                   2.1904      0.026     83.005      0.000       2.139       2.242\n",
      "========================================================================================\n"
     ]
    }
   ],
   "source": [
    "formula = 'Happy ~ AU06_r + AU12_r + gender_preds'\n",
    "model = smf.glm(formula = formula, data=frame, family=sm.families.Binomial())\n",
    "result = model.fit()\n",
    "print(result.summary())"
   ]
  },
  {
   "cell_type": "code",
   "execution_count": 314,
   "metadata": {
    "scrolled": false
   },
   "outputs": [
    {
     "name": "stdout",
     "output_type": "stream",
     "text": [
      "                 Generalized Linear Model Regression Results                  \n",
      "==============================================================================\n",
      "Dep. Variable:                  Happy   No. Observations:                42284\n",
      "Model:                            GLM   Df Residuals:                    42278\n",
      "Model Family:                Binomial   Df Model:                            5\n",
      "Link Function:                  logit   Scale:                          1.0000\n",
      "Method:                          IRLS   Log-Likelihood:                -15436.\n",
      "Date:                Sun, 02 Aug 2020   Deviance:                       30872.\n",
      "Time:                        13:32:39   Pearson chi2:                 6.96e+04\n",
      "No. Iterations:                     6                                         \n",
      "Covariance Type:            nonrobust                                         \n",
      "===============================================================================================\n",
      "                                  coef    std err          z      P>|z|      [0.025      0.975]\n",
      "-----------------------------------------------------------------------------------------------\n",
      "Intercept                      -2.1722      0.032    -68.374      0.000      -2.235      -2.110\n",
      "gender_preds[T.Male]           -0.5645      0.046    -12.156      0.000      -0.655      -0.473\n",
      "AU06_r                         -0.0426      0.036     -1.172      0.241      -0.114       0.029\n",
      "AU06_r:gender_preds[T.Male]     0.3170      0.049      6.465      0.000       0.221       0.413\n",
      "AU12_r                          2.2075      0.037     59.708      0.000       2.135       2.280\n",
      "AU12_r:gender_preds[T.Male]    -0.0119      0.053     -0.225      0.822      -0.116       0.092\n",
      "===============================================================================================\n"
     ]
    }
   ],
   "source": [
    "formula = 'Happy ~ (AU06_r + AU12_r) * gender_preds'\n",
    "model = smf.glm(formula = formula, data=frame, family=sm.families.Binomial())\n",
    "result = model.fit()\n",
    "print(result.summary())"
   ]
  },
  {
   "cell_type": "code",
   "execution_count": 315,
   "metadata": {
    "scrolled": false
   },
   "outputs": [
    {
     "name": "stdout",
     "output_type": "stream",
     "text": [
      "                 Generalized Linear Model Regression Results                  \n",
      "==============================================================================\n",
      "Dep. Variable:                  Happy   No. Observations:                42284\n",
      "Model:                            GLM   Df Residuals:                    42280\n",
      "Model Family:                Binomial   Df Model:                            3\n",
      "Link Function:                  logit   Scale:                          1.0000\n",
      "Method:                          IRLS   Log-Likelihood:                -16636.\n",
      "Date:                Sun, 02 Aug 2020   Deviance:                       33272.\n",
      "Time:                        13:32:39   Pearson chi2:                 5.97e+04\n",
      "No. Iterations:                     6                                         \n",
      "Covariance Type:            nonrobust                                         \n",
      "===========================================================================================================\n",
      "                                              coef    std err          z      P>|z|      [0.025      0.975]\n",
      "-----------------------------------------------------------------------------------------------------------\n",
      "Intercept                                  -1.9423      0.029    -66.702      0.000      -1.999      -1.885\n",
      "gender_preds[T.Male]                       -0.8150      0.044    -18.423      0.000      -0.902      -0.728\n",
      "I(AU06_r + AU12_r)                          1.1584      0.016     72.409      0.000       1.127       1.190\n",
      "I(AU06_r + AU12_r):gender_preds[T.Male]     0.0492      0.023      2.176      0.030       0.005       0.093\n",
      "===========================================================================================================\n"
     ]
    }
   ],
   "source": [
    "formula = 'Happy ~ I(AU06_r + AU12_r) * gender_preds'\n",
    "model = smf.glm(formula = formula, data=frame, family=sm.families.Binomial())\n",
    "result = model.fit()\n",
    "print(result.summary())"
   ]
  },
  {
   "cell_type": "markdown",
   "metadata": {},
   "source": [
    "# KDEF"
   ]
  },
  {
   "cell_type": "code",
   "execution_count": 172,
   "metadata": {},
   "outputs": [
    {
     "name": "stdout",
     "output_type": "stream",
     "text": [
      "(2926, 54)\n"
     ]
    },
    {
     "data": {
      "text/html": [
       "<div>\n",
       "<style scoped>\n",
       "    .dataframe tbody tr th:only-of-type {\n",
       "        vertical-align: middle;\n",
       "    }\n",
       "\n",
       "    .dataframe tbody tr th {\n",
       "        vertical-align: top;\n",
       "    }\n",
       "\n",
       "    .dataframe thead th {\n",
       "        text-align: right;\n",
       "    }\n",
       "</style>\n",
       "<table border=\"1\" class=\"dataframe\">\n",
       "  <thead>\n",
       "    <tr style=\"text-align: right;\">\n",
       "      <th></th>\n",
       "      <th>ImageName</th>\n",
       "      <th>face</th>\n",
       "      <th>confidence</th>\n",
       "      <th>AU01_c</th>\n",
       "      <th>AU02_c</th>\n",
       "      <th>AU04_c</th>\n",
       "      <th>AU05_c</th>\n",
       "      <th>AU06_c</th>\n",
       "      <th>AU07_c</th>\n",
       "      <th>AU09_c</th>\n",
       "      <th>...</th>\n",
       "      <th>AU10_r_c</th>\n",
       "      <th>AU12_r_c</th>\n",
       "      <th>AU15_r_c</th>\n",
       "      <th>AU17_r_c</th>\n",
       "      <th>AU20_r_c</th>\n",
       "      <th>AU25_r_c</th>\n",
       "      <th>AU26_r_c</th>\n",
       "      <th>Emotion</th>\n",
       "      <th>Happy</th>\n",
       "      <th>Gender</th>\n",
       "    </tr>\n",
       "  </thead>\n",
       "  <tbody>\n",
       "    <tr>\n",
       "      <th>0</th>\n",
       "      <td>AF01AFHL.jpg</td>\n",
       "      <td>0</td>\n",
       "      <td>0.475</td>\n",
       "      <td>1.0</td>\n",
       "      <td>1.0</td>\n",
       "      <td>0.0</td>\n",
       "      <td>0.0</td>\n",
       "      <td>1.0</td>\n",
       "      <td>1.0</td>\n",
       "      <td>0.0</td>\n",
       "      <td>...</td>\n",
       "      <td>0</td>\n",
       "      <td>0</td>\n",
       "      <td>1</td>\n",
       "      <td>0</td>\n",
       "      <td>0</td>\n",
       "      <td>0</td>\n",
       "      <td>0</td>\n",
       "      <td>AF</td>\n",
       "      <td>0</td>\n",
       "      <td>F</td>\n",
       "    </tr>\n",
       "    <tr>\n",
       "      <th>1</th>\n",
       "      <td>AF01AFHR.jpg</td>\n",
       "      <td>0</td>\n",
       "      <td>0.975</td>\n",
       "      <td>1.0</td>\n",
       "      <td>1.0</td>\n",
       "      <td>0.0</td>\n",
       "      <td>0.0</td>\n",
       "      <td>0.0</td>\n",
       "      <td>1.0</td>\n",
       "      <td>0.0</td>\n",
       "      <td>...</td>\n",
       "      <td>1</td>\n",
       "      <td>1</td>\n",
       "      <td>0</td>\n",
       "      <td>0</td>\n",
       "      <td>0</td>\n",
       "      <td>1</td>\n",
       "      <td>0</td>\n",
       "      <td>AF</td>\n",
       "      <td>0</td>\n",
       "      <td>F</td>\n",
       "    </tr>\n",
       "    <tr>\n",
       "      <th>2</th>\n",
       "      <td>AF01AFS.jpg</td>\n",
       "      <td>0</td>\n",
       "      <td>0.975</td>\n",
       "      <td>1.0</td>\n",
       "      <td>0.0</td>\n",
       "      <td>0.0</td>\n",
       "      <td>1.0</td>\n",
       "      <td>1.0</td>\n",
       "      <td>1.0</td>\n",
       "      <td>0.0</td>\n",
       "      <td>...</td>\n",
       "      <td>1</td>\n",
       "      <td>1</td>\n",
       "      <td>0</td>\n",
       "      <td>0</td>\n",
       "      <td>0</td>\n",
       "      <td>1</td>\n",
       "      <td>0</td>\n",
       "      <td>AF</td>\n",
       "      <td>0</td>\n",
       "      <td>F</td>\n",
       "    </tr>\n",
       "    <tr>\n",
       "      <th>3</th>\n",
       "      <td>AF01ANHL.jpg</td>\n",
       "      <td>0</td>\n",
       "      <td>0.425</td>\n",
       "      <td>1.0</td>\n",
       "      <td>1.0</td>\n",
       "      <td>0.0</td>\n",
       "      <td>1.0</td>\n",
       "      <td>1.0</td>\n",
       "      <td>1.0</td>\n",
       "      <td>0.0</td>\n",
       "      <td>...</td>\n",
       "      <td>0</td>\n",
       "      <td>0</td>\n",
       "      <td>0</td>\n",
       "      <td>0</td>\n",
       "      <td>0</td>\n",
       "      <td>0</td>\n",
       "      <td>0</td>\n",
       "      <td>AN</td>\n",
       "      <td>0</td>\n",
       "      <td>F</td>\n",
       "    </tr>\n",
       "    <tr>\n",
       "      <th>4</th>\n",
       "      <td>AF01ANHR.jpg</td>\n",
       "      <td>0</td>\n",
       "      <td>0.575</td>\n",
       "      <td>0.0</td>\n",
       "      <td>0.0</td>\n",
       "      <td>0.0</td>\n",
       "      <td>1.0</td>\n",
       "      <td>1.0</td>\n",
       "      <td>1.0</td>\n",
       "      <td>0.0</td>\n",
       "      <td>...</td>\n",
       "      <td>1</td>\n",
       "      <td>0</td>\n",
       "      <td>0</td>\n",
       "      <td>0</td>\n",
       "      <td>0</td>\n",
       "      <td>1</td>\n",
       "      <td>0</td>\n",
       "      <td>AN</td>\n",
       "      <td>0</td>\n",
       "      <td>F</td>\n",
       "    </tr>\n",
       "  </tbody>\n",
       "</table>\n",
       "<p>5 rows × 54 columns</p>\n",
       "</div>"
      ],
      "text/plain": [
       "      ImageName  face  confidence  AU01_c  AU02_c  AU04_c  AU05_c  AU06_c  \\\n",
       "0  AF01AFHL.jpg     0       0.475     1.0     1.0     0.0     0.0     1.0   \n",
       "1  AF01AFHR.jpg     0       0.975     1.0     1.0     0.0     0.0     0.0   \n",
       "2   AF01AFS.jpg     0       0.975     1.0     0.0     0.0     1.0     1.0   \n",
       "3  AF01ANHL.jpg     0       0.425     1.0     1.0     0.0     1.0     1.0   \n",
       "4  AF01ANHR.jpg     0       0.575     0.0     0.0     0.0     1.0     1.0   \n",
       "\n",
       "   AU07_c  AU09_c  ...  AU10_r_c  AU12_r_c  AU15_r_c  AU17_r_c  AU20_r_c  \\\n",
       "0     1.0     0.0  ...         0         0         1         0         0   \n",
       "1     1.0     0.0  ...         1         1         0         0         0   \n",
       "2     1.0     0.0  ...         1         1         0         0         0   \n",
       "3     1.0     0.0  ...         0         0         0         0         0   \n",
       "4     1.0     0.0  ...         1         0         0         0         0   \n",
       "\n",
       "   AU25_r_c  AU26_r_c  Emotion  Happy  Gender  \n",
       "0         0         0       AF      0       F  \n",
       "1         1         0       AF      0       F  \n",
       "2         1         0       AF      0       F  \n",
       "3         0         0       AN      0       F  \n",
       "4         1         0       AN      0       F  \n",
       "\n",
       "[5 rows x 54 columns]"
      ]
     },
     "execution_count": 172,
     "metadata": {},
     "output_type": "execute_result"
    }
   ],
   "source": [
    "frame = pd.read_csv('KDEF_OpenFace_result_with_Emotion_and_Gender.csv')\n",
    "print(frame.shape)\n",
    "frame.head()"
   ]
  },
  {
   "cell_type": "code",
   "execution_count": 173,
   "metadata": {},
   "outputs": [
    {
     "data": {
      "text/plain": [
       "(974, 54)"
      ]
     },
     "execution_count": 173,
     "metadata": {},
     "output_type": "execute_result"
    }
   ],
   "source": [
    "frame = frame[frame.ImageName.apply(lambda x: x[6] == 'S')]\n",
    "frame.shape"
   ]
  },
  {
   "cell_type": "code",
   "execution_count": 174,
   "metadata": {
    "scrolled": false
   },
   "outputs": [
    {
     "name": "stdout",
     "output_type": "stream",
     "text": [
      "['ImageName', 'face', 'confidence', 'AU01_c', 'AU02_c', 'AU04_c', 'AU05_c', 'AU06_c', 'AU07_c', 'AU09_c', 'AU10_c', 'AU12_c', 'AU14_c', 'AU15_c', 'AU17_c', 'AU20_c', 'AU23_c', 'AU25_c', 'AU26_c', 'AU28_c', 'AU45_c', 'AU01_r', 'AU02_r', 'AU04_r', 'AU05_r', 'AU06_r', 'AU07_r', 'AU09_r', 'AU10_r', 'AU12_r', 'AU14_r', 'AU15_r', 'AU17_r', 'AU20_r', 'AU23_r', 'AU25_r', 'AU26_r', 'AU45_r', 'AU01_r_c', 'AU02_r_c', 'AU04_r_c', 'AU05_r_c', 'AU06_r_c', 'AU09_r_c', 'AU10_r_c', 'AU12_r_c', 'AU15_r_c', 'AU17_r_c', 'AU20_r_c', 'AU25_r_c', 'AU26_r_c', 'Emotion', 'Happy', 'Gender']\n"
     ]
    }
   ],
   "source": [
    "print(list(frame.columns))"
   ]
  },
  {
   "cell_type": "code",
   "execution_count": 175,
   "metadata": {},
   "outputs": [],
   "source": [
    "frame = frame.rename(columns={'Gender': 'gender_preds'})"
   ]
  },
  {
   "cell_type": "code",
   "execution_count": 176,
   "metadata": {},
   "outputs": [
    {
     "data": {
      "text/plain": [
       "(974, 54)"
      ]
     },
     "execution_count": 176,
     "metadata": {},
     "output_type": "execute_result"
    }
   ],
   "source": [
    "frame = frame.dropna()\n",
    "frame.shape"
   ]
  },
  {
   "cell_type": "code",
   "execution_count": 177,
   "metadata": {},
   "outputs": [
    {
     "data": {
      "text/plain": [
       "00    541\n",
       "11    191\n",
       "10    188\n",
       "01     54\n",
       "Name: AU6and12_c, dtype: int64"
      ]
     },
     "execution_count": 177,
     "metadata": {},
     "output_type": "execute_result"
    }
   ],
   "source": [
    "frame['AU6and12_c'] = frame.AU06_c.apply(int).apply(str) + frame.AU12_c.apply(int).apply(str)\n",
    "frame.AU6and12_c.value_counts()"
   ]
  },
  {
   "cell_type": "code",
   "execution_count": 178,
   "metadata": {},
   "outputs": [
    {
     "data": {
      "text/plain": [
       "00    696\n",
       "11    151\n",
       "10     86\n",
       "01     41\n",
       "Name: AU6and12_r_c, dtype: int64"
      ]
     },
     "execution_count": 178,
     "metadata": {},
     "output_type": "execute_result"
    }
   ],
   "source": [
    "frame['AU6and12_r_c'] = frame.AU06_r_c.apply(str) + frame.AU12_r_c.apply(str)\n",
    "frame.AU6and12_r_c.value_counts()"
   ]
  },
  {
   "cell_type": "markdown",
   "metadata": {},
   "source": [
    "# P(expression|AU1, male) =? P(expression|AU1, female)"
   ]
  },
  {
   "cell_type": "code",
   "execution_count": 179,
   "metadata": {},
   "outputs": [
    {
     "name": "stdout",
     "output_type": "stream",
     "text": [
      "(485, 56)\n",
      "(489, 56)\n"
     ]
    }
   ],
   "source": [
    "frame.gender_preds = frame.gender_preds.apply(lambda x: 'Male' if x == 'M' else 'Female')\n",
    "male_frame = frame.loc[frame['gender_preds'] == 'Male']\n",
    "female_frame = frame.loc[frame['gender_preds'] == 'Female']\n",
    "print(male_frame.shape)\n",
    "print(female_frame.shape)"
   ]
  },
  {
   "cell_type": "markdown",
   "metadata": {},
   "source": [
    "## Happiness"
   ]
  },
  {
   "cell_type": "markdown",
   "metadata": {},
   "source": [
    "#### First check the simple proportion of male happiness vs female happiness:"
   ]
  },
  {
   "cell_type": "code",
   "execution_count": 180,
   "metadata": {
    "scrolled": false
   },
   "outputs": [
    {
     "name": "stdout",
     "output_type": "stream",
     "text": [
      "0.14432989690721648\n",
      "0.14314928425357873\n"
     ]
    }
   ],
   "source": [
    "print(male_frame.Happy.mean())\n",
    "print(female_frame.Happy.mean())"
   ]
  },
  {
   "cell_type": "code",
   "execution_count": 181,
   "metadata": {
    "scrolled": false
   },
   "outputs": [
    {
     "name": "stdout",
     "output_type": "stream",
     "text": [
      "0.24742268041237114\n",
      "0.2392638036809816\n"
     ]
    }
   ],
   "source": [
    "print(male_frame.AU06_r_c.mean())\n",
    "print(female_frame.AU06_r_c.mean())"
   ]
  },
  {
   "cell_type": "code",
   "execution_count": 182,
   "metadata": {
    "scrolled": false
   },
   "outputs": [
    {
     "name": "stdout",
     "output_type": "stream",
     "text": [
      "0.18762886597938144\n",
      "0.2065439672801636\n"
     ]
    }
   ],
   "source": [
    "print(male_frame.AU12_r_c.mean())\n",
    "print(female_frame.AU12_r_c.mean())"
   ]
  },
  {
   "cell_type": "code",
   "execution_count": 183,
   "metadata": {
    "scrolled": false
   },
   "outputs": [
    {
     "name": "stdout",
     "output_type": "stream",
     "text": [
      "0.1402061855670103\n",
      "0.16973415132924335\n"
     ]
    }
   ],
   "source": [
    "print((male_frame.AU6and12_r_c=='11').mean())\n",
    "print((female_frame.AU6and12_r_c=='11').mean())"
   ]
  },
  {
   "cell_type": "code",
   "execution_count": 184,
   "metadata": {
    "scrolled": false
   },
   "outputs": [
    {
     "name": "stdout",
     "output_type": "stream",
     "text": [
      "0.2948453608247422\n",
      "0.2760736196319018\n"
     ]
    }
   ],
   "source": [
    "print(1-(male_frame.AU6and12_r_c=='00').mean())\n",
    "print(1-(female_frame.AU6and12_r_c=='00').mean())"
   ]
  },
  {
   "cell_type": "markdown",
   "metadata": {},
   "source": [
    "We see that female are more likely to be happy. Not surprising.\n",
    "\n",
    "#### Now check for conditional probability, controlled by AU:"
   ]
  },
  {
   "cell_type": "code",
   "execution_count": 188,
   "metadata": {},
   "outputs": [
    {
     "name": "stdout",
     "output_type": "stream",
     "text": [
      "2.785693417879838\n",
      "1.2292499232742176\n"
     ]
    },
    {
     "data": {
      "text/html": [
       "<div>\n",
       "<style scoped>\n",
       "    .dataframe tbody tr th:only-of-type {\n",
       "        vertical-align: middle;\n",
       "    }\n",
       "\n",
       "    .dataframe tbody tr th {\n",
       "        vertical-align: top;\n",
       "    }\n",
       "\n",
       "    .dataframe thead th {\n",
       "        text-align: right;\n",
       "    }\n",
       "</style>\n",
       "<table border=\"1\" class=\"dataframe\">\n",
       "  <thead>\n",
       "    <tr style=\"text-align: right;\">\n",
       "      <th></th>\n",
       "      <th>male</th>\n",
       "      <th>female</th>\n",
       "      <th>diff</th>\n",
       "      <th>p-value</th>\n",
       "    </tr>\n",
       "    <tr>\n",
       "      <th>AU06_r_c</th>\n",
       "      <th></th>\n",
       "      <th></th>\n",
       "      <th></th>\n",
       "      <th></th>\n",
       "    </tr>\n",
       "  </thead>\n",
       "  <tbody>\n",
       "    <tr>\n",
       "      <th>0</th>\n",
       "      <td>0.035616</td>\n",
       "      <td>0.016129</td>\n",
       "      <td>-0.019487</td>\n",
       "      <td>0.095110</td>\n",
       "    </tr>\n",
       "    <tr>\n",
       "      <th>1</th>\n",
       "      <td>0.475000</td>\n",
       "      <td>0.547009</td>\n",
       "      <td>0.072009</td>\n",
       "      <td>0.267553</td>\n",
       "    </tr>\n",
       "  </tbody>\n",
       "</table>\n",
       "</div>"
      ],
      "text/plain": [
       "              male    female      diff   p-value\n",
       "AU06_r_c                                        \n",
       "0         0.035616  0.016129 -0.019487  0.095110\n",
       "1         0.475000  0.547009  0.072009  0.267553"
      ]
     },
     "execution_count": 188,
     "metadata": {},
     "output_type": "execute_result"
    }
   ],
   "source": [
    "result_df = pd.concat([pd.crosstab(male_frame.AU06_r_c, male_frame.Happy, normalize = 'index')[1], pd.crosstab(female_frame.AU06_r_c, female_frame.Happy, normalize = 'index')[1]], axis=1)\n",
    "result_df.columns = ['male', 'female']\n",
    "result_df['diff'] = result_df.female - result_df.male\n",
    "for index, row in result_df.iterrows():\n",
    "    cross_tab = pd.crosstab(frame[frame.AU06_r_c == index].gender_preds, frame[frame.AU06_r_c == index].Happy, margins = True)\n",
    "\n",
    "    cross_tab.columns = [\"Not Happy\", \"Happy\", \"row_totals\"]\n",
    "    cross_tab.index = [\"Female\", \"Male\", \"col_totals\"]\n",
    "    observed = cross_tab.iloc[0:2,0:2]   # Get table without totals for later use\n",
    "\n",
    "    expected =  np.outer(cross_tab[\"row_totals\"][0:2],\n",
    "                     cross_tab.loc[\"col_totals\"][0:2]) / len(frame[frame.AU06_r_c == index])\n",
    "\n",
    "    expected = pd.DataFrame(expected)\n",
    "    expected.columns = [\"Not Happy\", \"Happy\"]\n",
    "    expected.index = [\"Female\", \"Male\"]\n",
    "\n",
    "    if (expected>=5).sum().sum() == 4:\n",
    "        chi_squared_stat = (((observed-expected)**2)/expected).sum().sum()\n",
    "        p_value = 1 - stats.chi2.cdf(x=chi_squared_stat, df=1)\n",
    "    else:\n",
    "        chi_squared_stat = np.nan\n",
    "        p_value = np.nan\n",
    "\n",
    "    print(chi_squared_stat)\n",
    "    \n",
    "    result_df.loc[index, \"p-value\"] = p_value\n",
    "result_df"
   ]
  },
  {
   "cell_type": "code",
   "execution_count": 189,
   "metadata": {},
   "outputs": [
    {
     "name": "stdout",
     "output_type": "stream",
     "text": [
      "nan\n",
      "2.180734461406007\n"
     ]
    },
    {
     "data": {
      "text/html": [
       "<div>\n",
       "<style scoped>\n",
       "    .dataframe tbody tr th:only-of-type {\n",
       "        vertical-align: middle;\n",
       "    }\n",
       "\n",
       "    .dataframe tbody tr th {\n",
       "        vertical-align: top;\n",
       "    }\n",
       "\n",
       "    .dataframe thead th {\n",
       "        text-align: right;\n",
       "    }\n",
       "</style>\n",
       "<table border=\"1\" class=\"dataframe\">\n",
       "  <thead>\n",
       "    <tr style=\"text-align: right;\">\n",
       "      <th></th>\n",
       "      <th>male</th>\n",
       "      <th>female</th>\n",
       "      <th>diff</th>\n",
       "      <th>p-value</th>\n",
       "    </tr>\n",
       "    <tr>\n",
       "      <th>AU12_r_c</th>\n",
       "      <th></th>\n",
       "      <th></th>\n",
       "      <th></th>\n",
       "      <th></th>\n",
       "    </tr>\n",
       "  </thead>\n",
       "  <tbody>\n",
       "    <tr>\n",
       "      <th>0</th>\n",
       "      <td>0.000000</td>\n",
       "      <td>0.005155</td>\n",
       "      <td>0.005155</td>\n",
       "      <td>NaN</td>\n",
       "    </tr>\n",
       "    <tr>\n",
       "      <th>1</th>\n",
       "      <td>0.769231</td>\n",
       "      <td>0.673267</td>\n",
       "      <td>-0.095963</td>\n",
       "      <td>0.139748</td>\n",
       "    </tr>\n",
       "  </tbody>\n",
       "</table>\n",
       "</div>"
      ],
      "text/plain": [
       "              male    female      diff   p-value\n",
       "AU12_r_c                                        \n",
       "0         0.000000  0.005155  0.005155       NaN\n",
       "1         0.769231  0.673267 -0.095963  0.139748"
      ]
     },
     "execution_count": 189,
     "metadata": {},
     "output_type": "execute_result"
    }
   ],
   "source": [
    "result_df = pd.concat([pd.crosstab(male_frame.AU12_r_c, male_frame.Happy, normalize = 'index')[1], pd.crosstab(female_frame.AU12_r_c, female_frame.Happy, normalize = 'index')[1]], axis=1)\n",
    "result_df.columns = ['male', 'female']\n",
    "result_df['diff'] = result_df.female - result_df.male\n",
    "for index, row in result_df.iterrows():\n",
    "    cross_tab = pd.crosstab(frame[frame.AU12_r_c == index].gender_preds, frame[frame.AU12_r_c == index].Happy, margins = True)\n",
    "\n",
    "    cross_tab.columns = [\"Not Happy\", \"Happy\", \"row_totals\"]\n",
    "    cross_tab.index = [\"Female\", \"Male\", \"col_totals\"]\n",
    "    observed = cross_tab.iloc[0:2,0:2]   # Get table without totals for later use\n",
    "\n",
    "    expected =  np.outer(cross_tab[\"row_totals\"][0:2],\n",
    "                     cross_tab.loc[\"col_totals\"][0:2]) / len(frame[frame.AU12_r_c == index])\n",
    "\n",
    "    expected = pd.DataFrame(expected)\n",
    "    expected.columns = [\"Not Happy\", \"Happy\"]\n",
    "    expected.index = [\"Female\", \"Male\"]\n",
    "\n",
    "    if (expected>=5).sum().sum() == 4:\n",
    "        chi_squared_stat = (((observed-expected)**2)/expected).sum().sum()\n",
    "        p_value = 1 - stats.chi2.cdf(x=chi_squared_stat, df=1)\n",
    "    else:\n",
    "        chi_squared_stat = np.nan\n",
    "        p_value = np.nan\n",
    "\n",
    "    print(chi_squared_stat)\n",
    "    \n",
    "    result_df.loc[index, \"p-value\"] = p_value\n",
    "result_df"
   ]
  },
  {
   "cell_type": "code",
   "execution_count": 190,
   "metadata": {},
   "outputs": [
    {
     "name": "stdout",
     "output_type": "stream",
     "text": [
      "nan\n",
      "nan\n",
      "1.0586727561680846\n"
     ]
    },
    {
     "data": {
      "text/html": [
       "<div>\n",
       "<style scoped>\n",
       "    .dataframe tbody tr th:only-of-type {\n",
       "        vertical-align: middle;\n",
       "    }\n",
       "\n",
       "    .dataframe tbody tr th {\n",
       "        vertical-align: top;\n",
       "    }\n",
       "\n",
       "    .dataframe thead th {\n",
       "        text-align: right;\n",
       "    }\n",
       "</style>\n",
       "<table border=\"1\" class=\"dataframe\">\n",
       "  <thead>\n",
       "    <tr style=\"text-align: right;\">\n",
       "      <th></th>\n",
       "      <th>male</th>\n",
       "      <th>female</th>\n",
       "      <th>diff</th>\n",
       "      <th>p-value</th>\n",
       "    </tr>\n",
       "    <tr>\n",
       "      <th>AU6and12_r_c</th>\n",
       "      <th></th>\n",
       "      <th></th>\n",
       "      <th></th>\n",
       "      <th></th>\n",
       "    </tr>\n",
       "  </thead>\n",
       "  <tbody>\n",
       "    <tr>\n",
       "      <th>00</th>\n",
       "      <td>0.000000</td>\n",
       "      <td>0.005650</td>\n",
       "      <td>0.005650</td>\n",
       "      <td>NaN</td>\n",
       "    </tr>\n",
       "    <tr>\n",
       "      <th>01</th>\n",
       "      <td>0.565217</td>\n",
       "      <td>0.222222</td>\n",
       "      <td>-0.342995</td>\n",
       "      <td>NaN</td>\n",
       "    </tr>\n",
       "    <tr>\n",
       "      <th>10</th>\n",
       "      <td>0.000000</td>\n",
       "      <td>0.000000</td>\n",
       "      <td>0.000000</td>\n",
       "      <td>NaN</td>\n",
       "    </tr>\n",
       "    <tr>\n",
       "      <th>11</th>\n",
       "      <td>0.838235</td>\n",
       "      <td>0.771084</td>\n",
       "      <td>-0.067151</td>\n",
       "      <td>0.303518</td>\n",
       "    </tr>\n",
       "  </tbody>\n",
       "</table>\n",
       "</div>"
      ],
      "text/plain": [
       "                  male    female      diff   p-value\n",
       "AU6and12_r_c                                        \n",
       "00            0.000000  0.005650  0.005650       NaN\n",
       "01            0.565217  0.222222 -0.342995       NaN\n",
       "10            0.000000  0.000000  0.000000       NaN\n",
       "11            0.838235  0.771084 -0.067151  0.303518"
      ]
     },
     "execution_count": 190,
     "metadata": {},
     "output_type": "execute_result"
    }
   ],
   "source": [
    "result_df = pd.concat([pd.crosstab(male_frame.AU6and12_r_c, male_frame.Happy, normalize = 'index')[1], pd.crosstab(female_frame.AU6and12_r_c, female_frame.Happy, normalize = 'index')[1]], axis=1)\n",
    "result_df.columns = ['male', 'female']\n",
    "result_df['diff'] = result_df.female - result_df.male\n",
    "for index, row in result_df.iterrows():\n",
    "    cross_tab = pd.crosstab(frame[frame.AU6and12_r_c == index].gender_preds, frame[frame.AU6and12_r_c == index].Happy, margins = True)\n",
    "    if cross_tab.shape[1] < 3: \n",
    "        result_df.loc[index, \"p-value\"] = np.nan\n",
    "        continue\n",
    "    cross_tab.columns = [\"Not Happy\", \"Happy\", \"row_totals\"]\n",
    "    cross_tab.index = [\"Female\", \"Male\", \"col_totals\"]\n",
    "    observed = cross_tab.iloc[0:2,0:2]   # Get table without totals for later use\n",
    "\n",
    "    expected =  np.outer(cross_tab[\"row_totals\"][0:2],\n",
    "                     cross_tab.loc[\"col_totals\"][0:2]) / len(frame[frame.AU6and12_r_c == index])\n",
    "\n",
    "    expected = pd.DataFrame(expected)\n",
    "    expected.columns = [\"Not Happy\", \"Happy\"]\n",
    "    expected.index = [\"Female\", \"Male\"]\n",
    "\n",
    "    if (expected>=8).sum().sum() == 4:\n",
    "        chi_squared_stat = (((observed-expected)**2)/expected).sum().sum()\n",
    "        p_value = 1 - stats.chi2.cdf(x=chi_squared_stat, df=1)\n",
    "    else:\n",
    "        chi_squared_stat = np.nan\n",
    "        p_value = np.nan\n",
    "\n",
    "    print(chi_squared_stat)\n",
    "    \n",
    "    result_df.loc[index, \"p-value\"] = p_value\n",
    "result_df"
   ]
  },
  {
   "cell_type": "code",
   "execution_count": 192,
   "metadata": {},
   "outputs": [
    {
     "data": {
      "image/png": "[encoded data removed]",
      "text/plain": [
       "<Figure size 432x288 with 1 Axes>"
      ]
     },
     "metadata": {
      "needs_background": "light"
     },
     "output_type": "display_data"
    }
   ],
   "source": [
    "#AU_values_male = list(male_frame.AU06_r.unique())\n",
    "AU_values_male = list(male_frame.AU06_r.value_counts()[male_frame.AU06_r.value_counts() >= 10].index)\n",
    "happy_proportion_male = []\n",
    "for AU_value in AU_values_male:\n",
    "    subframe = male_frame.loc[male_frame.AU06_r == AU_value]\n",
    "    happy_proportion_male.append(subframe.Happy.mean())\n",
    "plt.scatter(AU_values_male, happy_proportion_male, label=\"Male\", marker = \"p\", alpha=0.8, s=25, c='r')#,edgecolors='k')\n",
    "\n",
    "#AU_values_female = list(female_frame.AU06_r.unique())\n",
    "AU_values_female = list(female_frame.AU06_r.value_counts()[female_frame.AU06_r.value_counts() >= 10].index)\n",
    "happy_proportion_female = []\n",
    "for AU_value in AU_values_female:\n",
    "    subframe = female_frame.loc[female_frame.AU06_r == AU_value]\n",
    "    happy_proportion_female.append(subframe.Happy.mean())\n",
    "plt.scatter(AU_values_female, happy_proportion_female, label=\"Female\", marker = \"*\", alpha=0.8, s=25, c='c')#,edgecolors='k')\n",
    "\n",
    "\n",
    "plt.xlabel('AU6 intensity', fontsize = 'large')\n",
    "plt.ylabel('Proportion of \"Happy\" Labels', fontsize = 'large')\n",
    "plt.title('P(Happy|AU6) for KDEF', fontsize = 14)\n",
    "plt.legend()\n",
    "#plt.xlim(-0.1, 3)\n",
    "plt.show()"
   ]
  },
  {
   "cell_type": "code",
   "execution_count": 195,
   "metadata": {
    "scrolled": true
   },
   "outputs": [
    {
     "data": {
      "image/png": "[encoded data removed]",
      "text/plain": [
       "<Figure size 432x288 with 1 Axes>"
      ]
     },
     "metadata": {
      "needs_background": "light"
     },
     "output_type": "display_data"
    }
   ],
   "source": [
    "#AU_values_male = list(male_frame.AU06_r.unique())\n",
    "AU_values_male = list(male_frame.AU12_r.value_counts()[male_frame.AU12_r.value_counts() >= 10].index)\n",
    "happy_proportion_male = []\n",
    "for AU_value in AU_values_male:\n",
    "    subframe = male_frame.loc[male_frame.AU12_r == AU_value]\n",
    "    happy_proportion_male.append(subframe.Happy.mean())\n",
    "plt.scatter(AU_values_male, happy_proportion_male, label=\"Male\", marker = \"p\", alpha=0.8, s=25, c='r')#,edgecolors='k')\n",
    "\n",
    "#AU_values_female = list(female_frame.AU06_r.unique())\n",
    "AU_values_female = list(female_frame.AU12_r.value_counts()[female_frame.AU12_r.value_counts() >= 10].index)\n",
    "happy_proportion_female = []\n",
    "for AU_value in AU_values_female:\n",
    "    subframe = female_frame.loc[female_frame.AU12_r == AU_value]\n",
    "    happy_proportion_female.append(subframe.Happy.mean())\n",
    "plt.scatter(AU_values_female, happy_proportion_female, label=\"Female\", marker = \"*\", alpha=0.8, s=25, c='c')#,edgecolors='k')\n",
    "\n",
    "\n",
    "plt.xlabel('AU12 intensity', fontsize = 'large')\n",
    "plt.ylabel('Proportion of \"Happy\" Labels', fontsize = 'large')\n",
    "plt.title('P(Happy|AU12) for KDEF', fontsize = 14)\n",
    "plt.legend()\n",
    "#plt.xlim(-0.1, 3)\n",
    "plt.show()"
   ]
  },
  {
   "cell_type": "markdown",
   "metadata": {},
   "source": [
    "To formally show that there is a significant difference between the two logistic lines, we need logistic regression:"
   ]
  },
  {
   "cell_type": "code",
   "execution_count": 196,
   "metadata": {
    "scrolled": false
   },
   "outputs": [
    {
     "name": "stdout",
     "output_type": "stream",
     "text": [
      "                 Generalized Linear Model Regression Results                  \n",
      "==============================================================================\n",
      "Dep. Variable:                  Happy   No. Observations:                  974\n",
      "Model:                            GLM   Df Residuals:                      970\n",
      "Model Family:                Binomial   Df Model:                            3\n",
      "Link Function:                  logit   Scale:                          1.0000\n",
      "Method:                          IRLS   Log-Likelihood:                -36.646\n",
      "Date:                Sun, 02 Aug 2020   Deviance:                       73.292\n",
      "Time:                        12:46:10   Pearson chi2:                 1.15e+03\n",
      "No. Iterations:                    10                                         \n",
      "Covariance Type:            nonrobust                                         \n",
      "========================================================================================\n",
      "                           coef    std err          z      P>|z|      [0.025      0.975]\n",
      "----------------------------------------------------------------------------------------\n",
      "Intercept               -9.4043      1.271     -7.397      0.000     -11.896      -6.913\n",
      "gender_preds[T.Male]    -0.5991      0.679     -0.883      0.377      -1.929       0.731\n",
      "AU06_r                  -0.7787      0.437     -1.782      0.075      -1.635       0.078\n",
      "AU12_r                   5.1268      0.759      6.757      0.000       3.640       6.614\n",
      "========================================================================================\n"
     ]
    }
   ],
   "source": [
    "formula = 'Happy ~ AU06_r + AU12_r + gender_preds'\n",
    "model = smf.glm(formula = formula, data=frame, family=sm.families.Binomial())\n",
    "result = model.fit()\n",
    "print(result.summary())"
   ]
  },
  {
   "cell_type": "code",
   "execution_count": 197,
   "metadata": {
    "scrolled": false
   },
   "outputs": [
    {
     "name": "stdout",
     "output_type": "stream",
     "text": [
      "                 Generalized Linear Model Regression Results                  \n",
      "==============================================================================\n",
      "Dep. Variable:                  Happy   No. Observations:                  974\n",
      "Model:                            GLM   Df Residuals:                      968\n",
      "Model Family:                Binomial   Df Model:                            5\n",
      "Link Function:                  logit   Scale:                          1.0000\n",
      "Method:                          IRLS   Log-Likelihood:                -34.196\n",
      "Date:                Sun, 02 Aug 2020   Deviance:                       68.393\n",
      "Time:                        12:46:10   Pearson chi2:                     551.\n",
      "No. Iterations:                    11                                         \n",
      "Covariance Type:            nonrobust                                         \n",
      "===============================================================================================\n",
      "                                  coef    std err          z      P>|z|      [0.025      0.975]\n",
      "-----------------------------------------------------------------------------------------------\n",
      "Intercept                      -8.4588      1.325     -6.382      0.000     -11.056      -5.861\n",
      "gender_preds[T.Male]           -6.8276      4.955     -1.378      0.168     -16.540       2.884\n",
      "AU06_r                         -0.3046      0.489     -0.623      0.533      -1.263       0.654\n",
      "AU06_r:gender_preds[T.Male]    -1.8679      1.167     -1.600      0.110      -4.156       0.420\n",
      "AU12_r                          4.1841      0.739      5.660      0.000       2.735       5.633\n",
      "AU12_r:gender_preds[T.Male]     4.3751      2.708      1.615      0.106      -0.933       9.684\n",
      "===============================================================================================\n"
     ]
    }
   ],
   "source": [
    "formula = 'Happy ~ (AU06_r + AU12_r) * gender_preds'\n",
    "model = smf.glm(formula = formula, data=frame, family=sm.families.Binomial())\n",
    "result = model.fit()\n",
    "print(result.summary())"
   ]
  },
  {
   "cell_type": "code",
   "execution_count": 198,
   "metadata": {
    "scrolled": false
   },
   "outputs": [
    {
     "name": "stdout",
     "output_type": "stream",
     "text": [
      "                 Generalized Linear Model Regression Results                  \n",
      "==============================================================================\n",
      "Dep. Variable:                  Happy   No. Observations:                  974\n",
      "Model:                            GLM   Df Residuals:                      970\n",
      "Model Family:                Binomial   Df Model:                            3\n",
      "Link Function:                  logit   Scale:                          1.0000\n",
      "Method:                          IRLS   Log-Likelihood:                -76.081\n",
      "Date:                Sun, 02 Aug 2020   Deviance:                       152.16\n",
      "Time:                        12:46:10   Pearson chi2:                     605.\n",
      "No. Iterations:                     9                                         \n",
      "Covariance Type:            nonrobust                                         \n",
      "===========================================================================================================\n",
      "                                              coef    std err          z      P>|z|      [0.025      0.975]\n",
      "-----------------------------------------------------------------------------------------------------------\n",
      "Intercept                                  -9.1557      1.268     -7.220      0.000     -11.641      -6.670\n",
      "gender_preds[T.Male]                       -0.5848      1.909     -0.306      0.759      -4.327       3.158\n",
      "I(AU06_r + AU12_r)                          1.9891      0.275      7.228      0.000       1.450       2.528\n",
      "I(AU06_r + AU12_r):gender_preds[T.Male]     0.3485      0.448      0.777      0.437      -0.530       1.227\n",
      "===========================================================================================================\n"
     ]
    }
   ],
   "source": [
    "formula = 'Happy ~ I(AU06_r + AU12_r) * gender_preds'\n",
    "model = smf.glm(formula = formula, data=frame, family=sm.families.Binomial())\n",
    "result = model.fit()\n",
    "print(result.summary())"
   ]
  },
  {
   "cell_type": "markdown",
   "metadata": {},
   "source": [
    "# Chicago Face"
   ]
  },
  {
   "cell_type": "code",
   "execution_count": 199,
   "metadata": {},
   "outputs": [
    {
     "name": "stdout",
     "output_type": "stream",
     "text": [
      "(1207, 54)\n"
     ]
    },
    {
     "data": {
      "text/html": [
       "<div>\n",
       "<style scoped>\n",
       "    .dataframe tbody tr th:only-of-type {\n",
       "        vertical-align: middle;\n",
       "    }\n",
       "\n",
       "    .dataframe tbody tr th {\n",
       "        vertical-align: top;\n",
       "    }\n",
       "\n",
       "    .dataframe thead th {\n",
       "        text-align: right;\n",
       "    }\n",
       "</style>\n",
       "<table border=\"1\" class=\"dataframe\">\n",
       "  <thead>\n",
       "    <tr style=\"text-align: right;\">\n",
       "      <th></th>\n",
       "      <th>ImageName</th>\n",
       "      <th>Gender</th>\n",
       "      <th>Race</th>\n",
       "      <th>Expression</th>\n",
       "      <th>face</th>\n",
       "      <th>confidence</th>\n",
       "      <th>AU01_r</th>\n",
       "      <th>AU02_r</th>\n",
       "      <th>AU04_r</th>\n",
       "      <th>AU05_r</th>\n",
       "      <th>...</th>\n",
       "      <th>AU05_r_c</th>\n",
       "      <th>AU06_r_c</th>\n",
       "      <th>AU09_r_c</th>\n",
       "      <th>AU10_r_c</th>\n",
       "      <th>AU12_r_c</th>\n",
       "      <th>AU15_r_c</th>\n",
       "      <th>AU17_r_c</th>\n",
       "      <th>AU20_r_c</th>\n",
       "      <th>AU25_r_c</th>\n",
       "      <th>AU26_r_c</th>\n",
       "    </tr>\n",
       "  </thead>\n",
       "  <tbody>\n",
       "    <tr>\n",
       "      <th>0</th>\n",
       "      <td>CFD-WM-239-128-N.jpg</td>\n",
       "      <td>M</td>\n",
       "      <td>W</td>\n",
       "      <td>Neutral</td>\n",
       "      <td>0</td>\n",
       "      <td>0.975</td>\n",
       "      <td>0.00</td>\n",
       "      <td>0.00</td>\n",
       "      <td>0.49</td>\n",
       "      <td>0.00</td>\n",
       "      <td>...</td>\n",
       "      <td>0</td>\n",
       "      <td>0</td>\n",
       "      <td>0</td>\n",
       "      <td>1</td>\n",
       "      <td>0</td>\n",
       "      <td>0</td>\n",
       "      <td>0</td>\n",
       "      <td>0</td>\n",
       "      <td>1</td>\n",
       "      <td>0</td>\n",
       "    </tr>\n",
       "    <tr>\n",
       "      <th>1</th>\n",
       "      <td>CFD-BM-219-141-N.jpg</td>\n",
       "      <td>M</td>\n",
       "      <td>B</td>\n",
       "      <td>Neutral</td>\n",
       "      <td>0</td>\n",
       "      <td>0.975</td>\n",
       "      <td>1.69</td>\n",
       "      <td>1.28</td>\n",
       "      <td>0.00</td>\n",
       "      <td>0.36</td>\n",
       "      <td>...</td>\n",
       "      <td>0</td>\n",
       "      <td>0</td>\n",
       "      <td>0</td>\n",
       "      <td>0</td>\n",
       "      <td>0</td>\n",
       "      <td>1</td>\n",
       "      <td>0</td>\n",
       "      <td>0</td>\n",
       "      <td>1</td>\n",
       "      <td>0</td>\n",
       "    </tr>\n",
       "    <tr>\n",
       "      <th>2</th>\n",
       "      <td>CFD-WF-034-016-A.jpg</td>\n",
       "      <td>F</td>\n",
       "      <td>W</td>\n",
       "      <td>Angry</td>\n",
       "      <td>0</td>\n",
       "      <td>0.975</td>\n",
       "      <td>1.30</td>\n",
       "      <td>0.02</td>\n",
       "      <td>1.70</td>\n",
       "      <td>2.03</td>\n",
       "      <td>...</td>\n",
       "      <td>0</td>\n",
       "      <td>0</td>\n",
       "      <td>0</td>\n",
       "      <td>1</td>\n",
       "      <td>0</td>\n",
       "      <td>0</td>\n",
       "      <td>0</td>\n",
       "      <td>0</td>\n",
       "      <td>0</td>\n",
       "      <td>0</td>\n",
       "    </tr>\n",
       "    <tr>\n",
       "      <th>3</th>\n",
       "      <td>CFD-BM-030-065-F.jpg</td>\n",
       "      <td>M</td>\n",
       "      <td>B</td>\n",
       "      <td>Fear</td>\n",
       "      <td>0</td>\n",
       "      <td>0.975</td>\n",
       "      <td>2.90</td>\n",
       "      <td>4.65</td>\n",
       "      <td>0.00</td>\n",
       "      <td>2.64</td>\n",
       "      <td>...</td>\n",
       "      <td>0</td>\n",
       "      <td>0</td>\n",
       "      <td>0</td>\n",
       "      <td>1</td>\n",
       "      <td>1</td>\n",
       "      <td>0</td>\n",
       "      <td>0</td>\n",
       "      <td>0</td>\n",
       "      <td>1</td>\n",
       "      <td>0</td>\n",
       "    </tr>\n",
       "    <tr>\n",
       "      <th>4</th>\n",
       "      <td>CFD-LM-237-264-N.jpg</td>\n",
       "      <td>M</td>\n",
       "      <td>L</td>\n",
       "      <td>Neutral</td>\n",
       "      <td>0</td>\n",
       "      <td>0.975</td>\n",
       "      <td>1.01</td>\n",
       "      <td>0.21</td>\n",
       "      <td>1.05</td>\n",
       "      <td>0.13</td>\n",
       "      <td>...</td>\n",
       "      <td>0</td>\n",
       "      <td>0</td>\n",
       "      <td>0</td>\n",
       "      <td>1</td>\n",
       "      <td>0</td>\n",
       "      <td>0</td>\n",
       "      <td>0</td>\n",
       "      <td>0</td>\n",
       "      <td>0</td>\n",
       "      <td>0</td>\n",
       "    </tr>\n",
       "  </tbody>\n",
       "</table>\n",
       "<p>5 rows × 54 columns</p>\n",
       "</div>"
      ],
      "text/plain": [
       "              ImageName Gender Race Expression  face  confidence  AU01_r  \\\n",
       "0  CFD-WM-239-128-N.jpg      M    W    Neutral     0       0.975    0.00   \n",
       "1  CFD-BM-219-141-N.jpg      M    B    Neutral     0       0.975    1.69   \n",
       "2  CFD-WF-034-016-A.jpg      F    W      Angry     0       0.975    1.30   \n",
       "3  CFD-BM-030-065-F.jpg      M    B       Fear     0       0.975    2.90   \n",
       "4  CFD-LM-237-264-N.jpg      M    L    Neutral     0       0.975    1.01   \n",
       "\n",
       "   AU02_r  AU04_r  AU05_r  ...  AU05_r_c  AU06_r_c  AU09_r_c  AU10_r_c  \\\n",
       "0    0.00    0.49    0.00  ...         0         0         0         1   \n",
       "1    1.28    0.00    0.36  ...         0         0         0         0   \n",
       "2    0.02    1.70    2.03  ...         0         0         0         1   \n",
       "3    4.65    0.00    2.64  ...         0         0         0         1   \n",
       "4    0.21    1.05    0.13  ...         0         0         0         1   \n",
       "\n",
       "   AU12_r_c  AU15_r_c  AU17_r_c  AU20_r_c  AU25_r_c  AU26_r_c  \n",
       "0         0         0         0         0         1         0  \n",
       "1         0         1         0         0         1         0  \n",
       "2         0         0         0         0         0         0  \n",
       "3         1         0         0         0         1         0  \n",
       "4         0         0         0         0         0         0  \n",
       "\n",
       "[5 rows x 54 columns]"
      ]
     },
     "execution_count": 199,
     "metadata": {},
     "output_type": "execute_result"
    }
   ],
   "source": [
    "frame = pd.read_csv('ChicagoFace_with_AU_cleanedup.csv')\n",
    "print(frame.shape)\n",
    "frame.head()"
   ]
  },
  {
   "cell_type": "code",
   "execution_count": 200,
   "metadata": {
    "scrolled": false
   },
   "outputs": [
    {
     "name": "stdout",
     "output_type": "stream",
     "text": [
      "['ImageName', 'Gender', 'Race', 'Expression', 'face', 'confidence', 'AU01_r', 'AU02_r', 'AU04_r', 'AU05_r', 'AU06_r', 'AU07_r', 'AU09_r', 'AU10_r', 'AU12_r', 'AU14_r', 'AU15_r', 'AU17_r', 'AU20_r', 'AU23_r', 'AU25_r', 'AU26_r', 'AU45_r', 'AU01_c', 'AU02_c', 'AU04_c', 'AU05_c', 'AU06_c', 'AU07_c', 'AU09_c', 'AU10_c', 'AU12_c', 'AU14_c', 'AU15_c', 'AU17_c', 'AU20_c', 'AU23_c', 'AU25_c', 'AU26_c', 'AU28_c', 'AU45_c', 'AU01_r_c', 'AU02_r_c', 'AU04_r_c', 'AU05_r_c', 'AU06_r_c', 'AU09_r_c', 'AU10_r_c', 'AU12_r_c', 'AU15_r_c', 'AU17_r_c', 'AU20_r_c', 'AU25_r_c', 'AU26_r_c']\n"
     ]
    }
   ],
   "source": [
    "print(list(frame.columns))"
   ]
  },
  {
   "cell_type": "code",
   "execution_count": 201,
   "metadata": {},
   "outputs": [],
   "source": [
    "frame = frame.rename(columns={'Gender': 'gender_preds'})"
   ]
  },
  {
   "cell_type": "code",
   "execution_count": 202,
   "metadata": {},
   "outputs": [],
   "source": [
    "frame['Angry'] = (frame['Expression'] =='Angry').astype(int)\n",
    "frame['Fear'] = (frame['Expression'] == 'Fear').astype(int)\n",
    "frame['Happy'] = (frame['Expression'] =='Happy').astype(int)\n",
    "frame['Neutral'] = (frame['Expression'] == 'Neutral').astype(int)"
   ]
  },
  {
   "cell_type": "code",
   "execution_count": 203,
   "metadata": {},
   "outputs": [
    {
     "data": {
      "text/plain": [
       "(1207, 58)"
      ]
     },
     "execution_count": 203,
     "metadata": {},
     "output_type": "execute_result"
    }
   ],
   "source": [
    "frame = frame.dropna()\n",
    "frame.shape"
   ]
  },
  {
   "cell_type": "code",
   "execution_count": 204,
   "metadata": {},
   "outputs": [
    {
     "data": {
      "text/plain": [
       "00    650\n",
       "11    345\n",
       "01    158\n",
       "10     54\n",
       "Name: AU6and12_c, dtype: int64"
      ]
     },
     "execution_count": 204,
     "metadata": {},
     "output_type": "execute_result"
    }
   ],
   "source": [
    "frame['AU6and12_c'] = frame.AU06_c.apply(int).apply(str) + frame.AU12_c.apply(int).apply(str)\n",
    "frame.AU6and12_c.value_counts()"
   ]
  },
  {
   "cell_type": "code",
   "execution_count": 205,
   "metadata": {},
   "outputs": [
    {
     "data": {
      "text/plain": [
       "00    784\n",
       "11    274\n",
       "01    136\n",
       "10     13\n",
       "Name: AU6and12_r_c, dtype: int64"
      ]
     },
     "execution_count": 205,
     "metadata": {},
     "output_type": "execute_result"
    }
   ],
   "source": [
    "frame['AU6and12_r_c'] = frame.AU06_r_c.apply(str) + frame.AU12_r_c.apply(str)\n",
    "frame.AU6and12_r_c.value_counts()"
   ]
  },
  {
   "cell_type": "markdown",
   "metadata": {},
   "source": [
    "# P(expression|AU1, male) =? P(expression|AU1, female)"
   ]
  },
  {
   "cell_type": "code",
   "execution_count": 206,
   "metadata": {},
   "outputs": [
    {
     "name": "stdout",
     "output_type": "stream",
     "text": [
      "(563, 60)\n",
      "(644, 60)\n"
     ]
    }
   ],
   "source": [
    "frame.gender_preds = frame.gender_preds.apply(lambda x: 'Male' if x == 'M' else 'Female')\n",
    "male_frame = frame.loc[frame['gender_preds'] == 'Male']\n",
    "female_frame = frame.loc[frame['gender_preds'] == 'Female']\n",
    "print(male_frame.shape)\n",
    "print(female_frame.shape)"
   ]
  },
  {
   "cell_type": "markdown",
   "metadata": {},
   "source": [
    "## Happiness"
   ]
  },
  {
   "cell_type": "markdown",
   "metadata": {},
   "source": [
    "#### First check the simple proportion of male happiness vs female happiness:"
   ]
  },
  {
   "cell_type": "code",
   "execution_count": 207,
   "metadata": {
    "scrolled": false
   },
   "outputs": [
    {
     "name": "stdout",
     "output_type": "stream",
     "text": [
      "0.2468916518650089\n",
      "0.2608695652173913\n"
     ]
    }
   ],
   "source": [
    "print(male_frame.Happy.mean())\n",
    "print(female_frame.Happy.mean())"
   ]
  },
  {
   "cell_type": "code",
   "execution_count": 208,
   "metadata": {
    "scrolled": false
   },
   "outputs": [
    {
     "name": "stdout",
     "output_type": "stream",
     "text": [
      "0.24156305506216696\n",
      "0.234472049689441\n"
     ]
    }
   ],
   "source": [
    "print(male_frame.AU06_r_c.mean())\n",
    "print(female_frame.AU06_r_c.mean())"
   ]
  },
  {
   "cell_type": "code",
   "execution_count": 209,
   "metadata": {
    "scrolled": false
   },
   "outputs": [
    {
     "name": "stdout",
     "output_type": "stream",
     "text": [
      "0.33570159857904086\n",
      "0.34316770186335405\n"
     ]
    }
   ],
   "source": [
    "print(male_frame.AU12_r_c.mean())\n",
    "print(female_frame.AU12_r_c.mean())"
   ]
  },
  {
   "cell_type": "code",
   "execution_count": 210,
   "metadata": {
    "scrolled": false
   },
   "outputs": [
    {
     "name": "stdout",
     "output_type": "stream",
     "text": [
      "0.2291296625222025\n",
      "0.2251552795031056\n"
     ]
    }
   ],
   "source": [
    "print((male_frame.AU6and12_r_c=='11').mean())\n",
    "print((female_frame.AU6and12_r_c=='11').mean())"
   ]
  },
  {
   "cell_type": "code",
   "execution_count": 211,
   "metadata": {
    "scrolled": false
   },
   "outputs": [
    {
     "name": "stdout",
     "output_type": "stream",
     "text": [
      "0.34813499111900537\n",
      "0.35248447204968947\n"
     ]
    }
   ],
   "source": [
    "print(1-(male_frame.AU6and12_r_c=='00').mean())\n",
    "print(1-(female_frame.AU6and12_r_c=='00').mean())"
   ]
  },
  {
   "cell_type": "markdown",
   "metadata": {},
   "source": [
    "We see that female are more likely to be happy. Not surprising.\n",
    "\n",
    "#### Now check for conditional probability, controlled by AU:"
   ]
  },
  {
   "cell_type": "code",
   "execution_count": 215,
   "metadata": {},
   "outputs": [
    {
     "name": "stdout",
     "output_type": "stream",
     "text": [
      "1.4942862443710083\n",
      "0.14234262505590894\n"
     ]
    },
    {
     "data": {
      "text/html": [
       "<div>\n",
       "<style scoped>\n",
       "    .dataframe tbody tr th:only-of-type {\n",
       "        vertical-align: middle;\n",
       "    }\n",
       "\n",
       "    .dataframe tbody tr th {\n",
       "        vertical-align: top;\n",
       "    }\n",
       "\n",
       "    .dataframe thead th {\n",
       "        text-align: right;\n",
       "    }\n",
       "</style>\n",
       "<table border=\"1\" class=\"dataframe\">\n",
       "  <thead>\n",
       "    <tr style=\"text-align: right;\">\n",
       "      <th></th>\n",
       "      <th>male</th>\n",
       "      <th>female</th>\n",
       "      <th>diff</th>\n",
       "      <th>p-value</th>\n",
       "    </tr>\n",
       "    <tr>\n",
       "      <th>AU06_r_c</th>\n",
       "      <th></th>\n",
       "      <th></th>\n",
       "      <th></th>\n",
       "      <th></th>\n",
       "    </tr>\n",
       "  </thead>\n",
       "  <tbody>\n",
       "    <tr>\n",
       "      <th>0</th>\n",
       "      <td>0.058548</td>\n",
       "      <td>0.079108</td>\n",
       "      <td>0.020559</td>\n",
       "      <td>0.221553</td>\n",
       "    </tr>\n",
       "    <tr>\n",
       "      <th>1</th>\n",
       "      <td>0.838235</td>\n",
       "      <td>0.854305</td>\n",
       "      <td>0.016069</td>\n",
       "      <td>0.705963</td>\n",
       "    </tr>\n",
       "  </tbody>\n",
       "</table>\n",
       "</div>"
      ],
      "text/plain": [
       "              male    female      diff   p-value\n",
       "AU06_r_c                                        \n",
       "0         0.058548  0.079108  0.020559  0.221553\n",
       "1         0.838235  0.854305  0.016069  0.705963"
      ]
     },
     "execution_count": 215,
     "metadata": {},
     "output_type": "execute_result"
    }
   ],
   "source": [
    "result_df = pd.concat([pd.crosstab(male_frame.AU06_r_c, male_frame.Happy, normalize = 'index')[1], pd.crosstab(female_frame.AU06_r_c, female_frame.Happy, normalize = 'index')[1]], axis=1)\n",
    "result_df.columns = ['male', 'female']\n",
    "result_df['diff'] = result_df.female - result_df.male\n",
    "for index, row in result_df.iterrows():\n",
    "    cross_tab = pd.crosstab(frame[frame.AU06_r_c == index].gender_preds, frame[frame.AU06_r_c == index].Happy, margins = True)\n",
    "\n",
    "    cross_tab.columns = [\"Not Happy\", \"Happy\", \"row_totals\"]\n",
    "    cross_tab.index = [\"Female\", \"Male\", \"col_totals\"]\n",
    "    observed = cross_tab.iloc[0:2,0:2]   # Get table without totals for later use\n",
    "\n",
    "    expected =  np.outer(cross_tab[\"row_totals\"][0:2],\n",
    "                     cross_tab.loc[\"col_totals\"][0:2]) / len(frame[frame.AU06_r_c == index])\n",
    "\n",
    "    expected = pd.DataFrame(expected)\n",
    "    expected.columns = [\"Not Happy\", \"Happy\"]\n",
    "    expected.index = [\"Female\", \"Male\"]\n",
    "\n",
    "    if (expected>=5).sum().sum() == 4:\n",
    "        chi_squared_stat = (((observed-expected)**2)/expected).sum().sum()\n",
    "        p_value = 1 - stats.chi2.cdf(x=chi_squared_stat, df=1)\n",
    "    else:\n",
    "        chi_squared_stat = np.nan\n",
    "        p_value = np.nan\n",
    "\n",
    "    print(chi_squared_stat)\n",
    "    \n",
    "    result_df.loc[index, \"p-value\"] = p_value\n",
    "result_df"
   ]
  },
  {
   "cell_type": "code",
   "execution_count": 216,
   "metadata": {},
   "outputs": [
    {
     "name": "stdout",
     "output_type": "stream",
     "text": [
      "nan\n",
      "0.3643481995929666\n"
     ]
    },
    {
     "data": {
      "text/html": [
       "<div>\n",
       "<style scoped>\n",
       "    .dataframe tbody tr th:only-of-type {\n",
       "        vertical-align: middle;\n",
       "    }\n",
       "\n",
       "    .dataframe tbody tr th {\n",
       "        vertical-align: top;\n",
       "    }\n",
       "\n",
       "    .dataframe thead th {\n",
       "        text-align: right;\n",
       "    }\n",
       "</style>\n",
       "<table border=\"1\" class=\"dataframe\">\n",
       "  <thead>\n",
       "    <tr style=\"text-align: right;\">\n",
       "      <th></th>\n",
       "      <th>male</th>\n",
       "      <th>female</th>\n",
       "      <th>diff</th>\n",
       "      <th>p-value</th>\n",
       "    </tr>\n",
       "    <tr>\n",
       "      <th>AU12_r_c</th>\n",
       "      <th></th>\n",
       "      <th></th>\n",
       "      <th></th>\n",
       "      <th></th>\n",
       "    </tr>\n",
       "  </thead>\n",
       "  <tbody>\n",
       "    <tr>\n",
       "      <th>0</th>\n",
       "      <td>0.005348</td>\n",
       "      <td>0.004728</td>\n",
       "      <td>-0.000619</td>\n",
       "      <td>NaN</td>\n",
       "    </tr>\n",
       "    <tr>\n",
       "      <th>1</th>\n",
       "      <td>0.724868</td>\n",
       "      <td>0.751131</td>\n",
       "      <td>0.026263</td>\n",
       "      <td>0.546101</td>\n",
       "    </tr>\n",
       "  </tbody>\n",
       "</table>\n",
       "</div>"
      ],
      "text/plain": [
       "              male    female      diff   p-value\n",
       "AU12_r_c                                        \n",
       "0         0.005348  0.004728 -0.000619       NaN\n",
       "1         0.724868  0.751131  0.026263  0.546101"
      ]
     },
     "execution_count": 216,
     "metadata": {},
     "output_type": "execute_result"
    }
   ],
   "source": [
    "result_df = pd.concat([pd.crosstab(male_frame.AU12_r_c, male_frame.Happy, normalize = 'index')[1], pd.crosstab(female_frame.AU12_r_c, female_frame.Happy, normalize = 'index')[1]], axis=1)\n",
    "result_df.columns = ['male', 'female']\n",
    "result_df['diff'] = result_df.female - result_df.male\n",
    "for index, row in result_df.iterrows():\n",
    "    cross_tab = pd.crosstab(frame[frame.AU12_r_c == index].gender_preds, frame[frame.AU12_r_c == index].Happy, margins = True)\n",
    "\n",
    "    cross_tab.columns = [\"Not Happy\", \"Happy\", \"row_totals\"]\n",
    "    cross_tab.index = [\"Female\", \"Male\", \"col_totals\"]\n",
    "    observed = cross_tab.iloc[0:2,0:2]   # Get table without totals for later use\n",
    "\n",
    "    expected =  np.outer(cross_tab[\"row_totals\"][0:2],\n",
    "                     cross_tab.loc[\"col_totals\"][0:2]) / len(frame[frame.AU12_r_c == index])\n",
    "\n",
    "    expected = pd.DataFrame(expected)\n",
    "    expected.columns = [\"Not Happy\", \"Happy\"]\n",
    "    expected.index = [\"Female\", \"Male\"]\n",
    "\n",
    "    if (expected>=5).sum().sum() == 4:\n",
    "        chi_squared_stat = (((observed-expected)**2)/expected).sum().sum()\n",
    "        p_value = 1 - stats.chi2.cdf(x=chi_squared_stat, df=1)\n",
    "    else:\n",
    "        chi_squared_stat = np.nan\n",
    "        p_value = np.nan\n",
    "\n",
    "    print(chi_squared_stat)\n",
    "    \n",
    "    result_df.loc[index, \"p-value\"] = p_value\n",
    "result_df"
   ]
  },
  {
   "cell_type": "code",
   "execution_count": 217,
   "metadata": {},
   "outputs": [
    {
     "name": "stdout",
     "output_type": "stream",
     "text": [
      "nan\n",
      "1.457112957833178\n",
      "0.023959118770752703\n"
     ]
    },
    {
     "data": {
      "text/html": [
       "<div>\n",
       "<style scoped>\n",
       "    .dataframe tbody tr th:only-of-type {\n",
       "        vertical-align: middle;\n",
       "    }\n",
       "\n",
       "    .dataframe tbody tr th {\n",
       "        vertical-align: top;\n",
       "    }\n",
       "\n",
       "    .dataframe thead th {\n",
       "        text-align: right;\n",
       "    }\n",
       "</style>\n",
       "<table border=\"1\" class=\"dataframe\">\n",
       "  <thead>\n",
       "    <tr style=\"text-align: right;\">\n",
       "      <th></th>\n",
       "      <th>male</th>\n",
       "      <th>female</th>\n",
       "      <th>diff</th>\n",
       "      <th>p-value</th>\n",
       "    </tr>\n",
       "    <tr>\n",
       "      <th>AU6and12_r_c</th>\n",
       "      <th></th>\n",
       "      <th></th>\n",
       "      <th></th>\n",
       "      <th></th>\n",
       "    </tr>\n",
       "  </thead>\n",
       "  <tbody>\n",
       "    <tr>\n",
       "      <th>00</th>\n",
       "      <td>0.005450</td>\n",
       "      <td>0.004796</td>\n",
       "      <td>-0.000653</td>\n",
       "      <td>NaN</td>\n",
       "    </tr>\n",
       "    <tr>\n",
       "      <th>01</th>\n",
       "      <td>0.383333</td>\n",
       "      <td>0.486842</td>\n",
       "      <td>0.103509</td>\n",
       "      <td>0.227390</td>\n",
       "    </tr>\n",
       "    <tr>\n",
       "      <th>10</th>\n",
       "      <td>0.000000</td>\n",
       "      <td>0.000000</td>\n",
       "      <td>0.000000</td>\n",
       "      <td>NaN</td>\n",
       "    </tr>\n",
       "    <tr>\n",
       "      <th>11</th>\n",
       "      <td>0.883721</td>\n",
       "      <td>0.889655</td>\n",
       "      <td>0.005934</td>\n",
       "      <td>0.876989</td>\n",
       "    </tr>\n",
       "  </tbody>\n",
       "</table>\n",
       "</div>"
      ],
      "text/plain": [
       "                  male    female      diff   p-value\n",
       "AU6and12_r_c                                        \n",
       "00            0.005450  0.004796 -0.000653       NaN\n",
       "01            0.383333  0.486842  0.103509  0.227390\n",
       "10            0.000000  0.000000  0.000000       NaN\n",
       "11            0.883721  0.889655  0.005934  0.876989"
      ]
     },
     "execution_count": 217,
     "metadata": {},
     "output_type": "execute_result"
    }
   ],
   "source": [
    "result_df = pd.concat([pd.crosstab(male_frame.AU6and12_r_c, male_frame.Happy, normalize = 'index')[1], pd.crosstab(female_frame.AU6and12_r_c, female_frame.Happy, normalize = 'index')[1]], axis=1)\n",
    "result_df.columns = ['male', 'female']\n",
    "result_df['diff'] = result_df.female - result_df.male\n",
    "for index, row in result_df.iterrows():\n",
    "    cross_tab = pd.crosstab(frame[frame.AU6and12_r_c == index].gender_preds, frame[frame.AU6and12_r_c == index].Happy, margins = True)\n",
    "    if cross_tab.shape[1] < 3: \n",
    "        result_df.loc[index, \"p-value\"] = np.nan\n",
    "        continue\n",
    "    cross_tab.columns = [\"Not Happy\", \"Happy\", \"row_totals\"]\n",
    "    cross_tab.index = [\"Female\", \"Male\", \"col_totals\"]\n",
    "    observed = cross_tab.iloc[0:2,0:2]   # Get table without totals for later use\n",
    "\n",
    "    expected =  np.outer(cross_tab[\"row_totals\"][0:2],\n",
    "                     cross_tab.loc[\"col_totals\"][0:2]) / len(frame[frame.AU6and12_r_c == index])\n",
    "\n",
    "    expected = pd.DataFrame(expected)\n",
    "    expected.columns = [\"Not Happy\", \"Happy\"]\n",
    "    expected.index = [\"Female\", \"Male\"]\n",
    "\n",
    "    if (expected>=10).sum().sum() == 4:\n",
    "        chi_squared_stat = (((observed-expected)**2)/expected).sum().sum()\n",
    "        p_value = 1 - stats.chi2.cdf(x=chi_squared_stat, df=1)\n",
    "    else:\n",
    "        chi_squared_stat = np.nan\n",
    "        p_value = np.nan\n",
    "\n",
    "    print(chi_squared_stat)\n",
    "    \n",
    "    result_df.loc[index, \"p-value\"] = p_value\n",
    "result_df"
   ]
  },
  {
   "cell_type": "code",
   "execution_count": 218,
   "metadata": {},
   "outputs": [
    {
     "data": {
      "image/png": "[encoded data removed]",
      "text/plain": [
       "<Figure size 432x288 with 1 Axes>"
      ]
     },
     "metadata": {
      "needs_background": "light"
     },
     "output_type": "display_data"
    }
   ],
   "source": [
    "#AU_values_male = list(male_frame.AU06_r.unique())\n",
    "AU_values_male = list(male_frame.AU06_r.value_counts()[male_frame.AU06_r.value_counts() >= 10].index)\n",
    "happy_proportion_male = []\n",
    "for AU_value in AU_values_male:\n",
    "    subframe = male_frame.loc[male_frame.AU06_r == AU_value]\n",
    "    happy_proportion_male.append(subframe.Happy.mean())\n",
    "plt.scatter(AU_values_male, happy_proportion_male, label=\"Male\", marker = \"p\", alpha=0.8, s=25, c='r')#,edgecolors='k')\n",
    "\n",
    "#AU_values_female = list(female_frame.AU06_r.unique())\n",
    "AU_values_female = list(female_frame.AU06_r.value_counts()[female_frame.AU06_r.value_counts() >= 10].index)\n",
    "happy_proportion_female = []\n",
    "for AU_value in AU_values_female:\n",
    "    subframe = female_frame.loc[female_frame.AU06_r == AU_value]\n",
    "    happy_proportion_female.append(subframe.Happy.mean())\n",
    "plt.scatter(AU_values_female, happy_proportion_female, label=\"Female\", marker = \"*\", alpha=0.8, s=25, c='c')#,edgecolors='k')\n",
    "\n",
    "\n",
    "plt.xlabel('AU6 intensity', fontsize = 'large')\n",
    "plt.ylabel('Proportion of \"Happy\" Labels', fontsize = 'large')\n",
    "plt.title('P(Happy|AU6) for CFD', fontsize = 14)\n",
    "plt.legend()\n",
    "#plt.xlim(-0.1, 3)\n",
    "plt.show()"
   ]
  },
  {
   "cell_type": "code",
   "execution_count": 219,
   "metadata": {
    "scrolled": true
   },
   "outputs": [
    {
     "data": {
      "image/png": "[encoded data removed]",
      "text/plain": [
       "<Figure size 432x288 with 1 Axes>"
      ]
     },
     "metadata": {
      "needs_background": "light"
     },
     "output_type": "display_data"
    }
   ],
   "source": [
    "#AU_values_male = list(male_frame.AU06_r.unique())\n",
    "AU_values_male = list(male_frame.AU12_r.value_counts()[male_frame.AU12_r.value_counts() >= 10].index)\n",
    "happy_proportion_male = []\n",
    "for AU_value in AU_values_male:\n",
    "    subframe = male_frame.loc[male_frame.AU12_r == AU_value]\n",
    "    happy_proportion_male.append(subframe.Happy.mean())\n",
    "plt.scatter(AU_values_male, happy_proportion_male, label=\"Male\", marker = \"p\", alpha=0.8, s=25, c='r')#,edgecolors='k')\n",
    "\n",
    "#AU_values_female = list(female_frame.AU06_r.unique())\n",
    "AU_values_female = list(female_frame.AU12_r.value_counts()[female_frame.AU12_r.value_counts() >= 10].index)\n",
    "happy_proportion_female = []\n",
    "for AU_value in AU_values_female:\n",
    "    subframe = female_frame.loc[female_frame.AU12_r == AU_value]\n",
    "    happy_proportion_female.append(subframe.Happy.mean())\n",
    "plt.scatter(AU_values_female, happy_proportion_female, label=\"Female\", marker = \"*\", alpha=0.8, s=25, c='c')#,edgecolors='k')\n",
    "\n",
    "\n",
    "plt.xlabel('AU12 intensity', fontsize = 'large')\n",
    "plt.ylabel('Proportion of \"Happy\" Labels', fontsize = 'large')\n",
    "plt.title('P(Happy|AU12) for CFD', fontsize = 14)\n",
    "plt.legend()\n",
    "#plt.xlim(-0.1, 3)\n",
    "plt.show()"
   ]
  },
  {
   "cell_type": "markdown",
   "metadata": {},
   "source": [
    "To formally show that there is a significant difference between the two logistic lines, we need logistic regression:"
   ]
  },
  {
   "cell_type": "code",
   "execution_count": 220,
   "metadata": {
    "scrolled": false
   },
   "outputs": [
    {
     "name": "stdout",
     "output_type": "stream",
     "text": [
      "                 Generalized Linear Model Regression Results                  \n",
      "==============================================================================\n",
      "Dep. Variable:                  Happy   No. Observations:                 1207\n",
      "Model:                            GLM   Df Residuals:                     1203\n",
      "Model Family:                Binomial   Df Model:                            3\n",
      "Link Function:                  logit   Scale:                          1.0000\n",
      "Method:                          IRLS   Log-Likelihood:                -166.37\n",
      "Date:                Sun, 02 Aug 2020   Deviance:                       332.75\n",
      "Time:                        12:47:21   Pearson chi2:                     966.\n",
      "No. Iterations:                     7                                         \n",
      "Covariance Type:            nonrobust                                         \n",
      "========================================================================================\n",
      "                           coef    std err          z      P>|z|      [0.025      0.975]\n",
      "----------------------------------------------------------------------------------------\n",
      "Intercept               -6.6486      0.449    -14.809      0.000      -7.529      -5.769\n",
      "gender_preds[T.Male]     0.2449      0.303      0.809      0.418      -0.348       0.838\n",
      "AU06_r                   0.0784      0.248      0.316      0.752      -0.408       0.565\n",
      "AU12_r                   2.8880      0.269     10.721      0.000       2.360       3.416\n",
      "========================================================================================\n"
     ]
    }
   ],
   "source": [
    "formula = 'Happy ~ AU06_r + AU12_r + gender_preds'\n",
    "model = smf.glm(formula = formula, data=frame, family=sm.families.Binomial())\n",
    "result = model.fit()\n",
    "print(result.summary())"
   ]
  },
  {
   "cell_type": "code",
   "execution_count": 221,
   "metadata": {
    "scrolled": false
   },
   "outputs": [
    {
     "name": "stdout",
     "output_type": "stream",
     "text": [
      "                 Generalized Linear Model Regression Results                  \n",
      "==============================================================================\n",
      "Dep. Variable:                  Happy   No. Observations:                 1207\n",
      "Model:                            GLM   Df Residuals:                     1201\n",
      "Model Family:                Binomial   Df Model:                            5\n",
      "Link Function:                  logit   Scale:                          1.0000\n",
      "Method:                          IRLS   Log-Likelihood:                -165.14\n",
      "Date:                Sun, 02 Aug 2020   Deviance:                       330.28\n",
      "Time:                        12:47:21   Pearson chi2:                     864.\n",
      "No. Iterations:                     7                                         \n",
      "Covariance Type:            nonrobust                                         \n",
      "===============================================================================================\n",
      "                                  coef    std err          z      P>|z|      [0.025      0.975]\n",
      "-----------------------------------------------------------------------------------------------\n",
      "Intercept                      -6.1915      0.524    -11.823      0.000      -7.218      -5.165\n",
      "gender_preds[T.Male]           -0.8435      0.833     -1.012      0.312      -2.477       0.790\n",
      "AU06_r                         -0.0761      0.342     -0.223      0.824      -0.747       0.595\n",
      "AU06_r:gender_preds[T.Male]     0.3362      0.508      0.662      0.508      -0.659       1.332\n",
      "AU12_r                          2.7810      0.359      7.754      0.000       2.078       3.484\n",
      "AU12_r:gender_preds[T.Male]     0.2955      0.552      0.536      0.592      -0.786       1.377\n",
      "===============================================================================================\n"
     ]
    }
   ],
   "source": [
    "formula = 'Happy ~ (AU06_r + AU12_r) * gender_preds'\n",
    "model = smf.glm(formula = formula, data=frame, family=sm.families.Binomial())\n",
    "result = model.fit()\n",
    "print(result.summary())"
   ]
  },
  {
   "cell_type": "code",
   "execution_count": 222,
   "metadata": {
    "scrolled": false
   },
   "outputs": [
    {
     "name": "stdout",
     "output_type": "stream",
     "text": [
      "                 Generalized Linear Model Regression Results                  \n",
      "==============================================================================\n",
      "Dep. Variable:                  Happy   No. Observations:                 1207\n",
      "Model:                            GLM   Df Residuals:                     1203\n",
      "Model Family:                Binomial   Df Model:                            3\n",
      "Link Function:                  logit   Scale:                          1.0000\n",
      "Method:                          IRLS   Log-Likelihood:                -184.83\n",
      "Date:                Sun, 02 Aug 2020   Deviance:                       369.65\n",
      "Time:                        12:47:21   Pearson chi2:                     781.\n",
      "No. Iterations:                     7                                         \n",
      "Covariance Type:            nonrobust                                         \n",
      "===========================================================================================================\n",
      "                                              coef    std err          z      P>|z|      [0.025      0.975]\n",
      "-----------------------------------------------------------------------------------------------------------\n",
      "Intercept                                  -5.7306      0.456    -12.576      0.000      -6.624      -4.837\n",
      "gender_preds[T.Male]                       -1.2326      0.767     -1.606      0.108      -2.737       0.271\n",
      "I(AU06_r + AU12_r)                          1.4495      0.119     12.158      0.000       1.216       1.683\n",
      "I(AU06_r + AU12_r):gender_preds[T.Male]     0.3159      0.208      1.520      0.129      -0.091       0.723\n",
      "===========================================================================================================\n"
     ]
    }
   ],
   "source": [
    "formula = 'Happy ~ I(AU06_r + AU12_r) * gender_preds'\n",
    "model = smf.glm(formula = formula, data=frame, family=sm.families.Binomial())\n",
    "result = model.fit()\n",
    "print(result.summary())"
   ]
  },
  {
   "cell_type": "code",
   "execution_count": null,
   "metadata": {},
   "outputs": [],
   "source": []
  },
  {
   "cell_type": "code",
   "execution_count": null,
   "metadata": {},
   "outputs": [],
   "source": []
  }
 ],
 "metadata": {
  "kernelspec": {
   "display_name": "Python 3",
   "language": "python",
   "name": "python3"
  },
  "language_info": {
   "codemirror_mode": {
    "name": "ipython",
    "version": 3
   },
   "file_extension": ".py",
   "mimetype": "text/x-python",
   "name": "python",
   "nbconvert_exporter": "python",
   "pygments_lexer": "ipython3",
   "version": "3.8.5"
  }
 },
 "nbformat": 4,
 "nbformat_minor": 2
}
