{
 "cells": [
  {
   "cell_type": "code",
   "execution_count": 1,
   "metadata": {},
   "outputs": [],
   "source": [
    "import numpy as np\n",
    "import pandas as pd\n",
    "import time\n",
    "import os\n",
    "import re\n",
    "import copy\n",
    "import matplotlib.pyplot as plt\n",
    "import seaborn as sns\n",
    "import scipy.stats as stats\n",
    "import statsmodels.api as sm\n",
    "import statsmodels.formula.api as smf\n",
    "import math"
   ]
  },
  {
   "cell_type": "markdown",
   "metadata": {},
   "source": [
    "# ExpW"
   ]
  },
  {
   "cell_type": "code",
   "execution_count": 2,
   "metadata": {},
   "outputs": [
    {
     "data": {
      "text/html": [
       "<div>\n",
       "<style scoped>\n",
       "    .dataframe tbody tr th:only-of-type {\n",
       "        vertical-align: middle;\n",
       "    }\n",
       "\n",
       "    .dataframe tbody tr th {\n",
       "        vertical-align: top;\n",
       "    }\n",
       "\n",
       "    .dataframe thead th {\n",
       "        text-align: right;\n",
       "    }\n",
       "</style>\n",
       "<table border=\"1\" class=\"dataframe\">\n",
       "  <thead>\n",
       "    <tr style=\"text-align: right;\">\n",
       "      <th></th>\n",
       "      <th>ImageName</th>\n",
       "      <th>Expression</th>\n",
       "      <th>race_preds</th>\n",
       "      <th>gender_preds</th>\n",
       "      <th>age_preds</th>\n",
       "      <th>race_scores</th>\n",
       "      <th>gender_scores</th>\n",
       "      <th>age_scores</th>\n",
       "      <th>face</th>\n",
       "      <th>confidence</th>\n",
       "      <th>...</th>\n",
       "      <th>AU10_r</th>\n",
       "      <th>AU12_r</th>\n",
       "      <th>AU14_r</th>\n",
       "      <th>AU15_r</th>\n",
       "      <th>AU17_r</th>\n",
       "      <th>AU20_r</th>\n",
       "      <th>AU23_r</th>\n",
       "      <th>AU25_r</th>\n",
       "      <th>AU26_r</th>\n",
       "      <th>AU45_r</th>\n",
       "    </tr>\n",
       "  </thead>\n",
       "  <tbody>\n",
       "    <tr>\n",
       "      <th>0</th>\n",
       "      <td>angry_actor_104_0.jpg</td>\n",
       "      <td>0</td>\n",
       "      <td>Black</td>\n",
       "      <td>Male</td>\n",
       "      <td>20-29</td>\n",
       "      <td>[0.01164725 0.5489195  0.06282789 0.03017501 0...</td>\n",
       "      <td>[0.97893476 0.02106526]</td>\n",
       "      <td>[0.00264865 0.03285832 0.07209051 0.29417548 0...</td>\n",
       "      <td>0.0</td>\n",
       "      <td>0.875</td>\n",
       "      <td>...</td>\n",
       "      <td>0.00</td>\n",
       "      <td>0.41</td>\n",
       "      <td>3.61</td>\n",
       "      <td>0.54</td>\n",
       "      <td>1.10</td>\n",
       "      <td>0.68</td>\n",
       "      <td>0.00</td>\n",
       "      <td>2.23</td>\n",
       "      <td>0.00</td>\n",
       "      <td>0.17</td>\n",
       "    </tr>\n",
       "    <tr>\n",
       "      <th>1</th>\n",
       "      <td>angry_actor_109_0.jpg</td>\n",
       "      <td>0</td>\n",
       "      <td>Middle Eastern</td>\n",
       "      <td>Male</td>\n",
       "      <td>10-19</td>\n",
       "      <td>[0.07172439 0.03716405 0.07634144 0.09301798 0...</td>\n",
       "      <td>[0.9886888  0.01131118]</td>\n",
       "      <td>[5.5791729e-04 2.5763142e-01 4.3460685e-01 2.5...</td>\n",
       "      <td>0.0</td>\n",
       "      <td>0.925</td>\n",
       "      <td>...</td>\n",
       "      <td>1.16</td>\n",
       "      <td>0.76</td>\n",
       "      <td>0.77</td>\n",
       "      <td>1.12</td>\n",
       "      <td>0.04</td>\n",
       "      <td>1.38</td>\n",
       "      <td>0.00</td>\n",
       "      <td>1.20</td>\n",
       "      <td>0.00</td>\n",
       "      <td>0.00</td>\n",
       "    </tr>\n",
       "    <tr>\n",
       "      <th>2</th>\n",
       "      <td>angry_actor_120_1.jpg</td>\n",
       "      <td>2</td>\n",
       "      <td>White</td>\n",
       "      <td>Male</td>\n",
       "      <td>20-29</td>\n",
       "      <td>[0.38725546 0.02379545 0.04428627 0.3587341  0...</td>\n",
       "      <td>[0.7577495  0.24225047]</td>\n",
       "      <td>[0.00361199 0.02466666 0.0458126  0.62581354 0...</td>\n",
       "      <td>1.0</td>\n",
       "      <td>0.925</td>\n",
       "      <td>...</td>\n",
       "      <td>0.06</td>\n",
       "      <td>0.00</td>\n",
       "      <td>1.51</td>\n",
       "      <td>0.00</td>\n",
       "      <td>0.00</td>\n",
       "      <td>0.00</td>\n",
       "      <td>0.00</td>\n",
       "      <td>1.09</td>\n",
       "      <td>0.51</td>\n",
       "      <td>0.10</td>\n",
       "    </tr>\n",
       "    <tr>\n",
       "      <th>3</th>\n",
       "      <td>angry_actor_13_0.jpg</td>\n",
       "      <td>3</td>\n",
       "      <td>East Asian</td>\n",
       "      <td>Female</td>\n",
       "      <td>20-29</td>\n",
       "      <td>[0.05252786 0.06977403 0.0932842  0.40103135 0...</td>\n",
       "      <td>[0.46038443 0.5396156 ]</td>\n",
       "      <td>[0.00304344 0.0880671  0.22934933 0.39468738 0...</td>\n",
       "      <td>0.0</td>\n",
       "      <td>0.975</td>\n",
       "      <td>...</td>\n",
       "      <td>0.99</td>\n",
       "      <td>0.00</td>\n",
       "      <td>0.00</td>\n",
       "      <td>0.36</td>\n",
       "      <td>0.56</td>\n",
       "      <td>0.00</td>\n",
       "      <td>0.13</td>\n",
       "      <td>0.96</td>\n",
       "      <td>1.02</td>\n",
       "      <td>0.00</td>\n",
       "    </tr>\n",
       "    <tr>\n",
       "      <th>4</th>\n",
       "      <td>angry_actor_132_0.jpg</td>\n",
       "      <td>0</td>\n",
       "      <td>White</td>\n",
       "      <td>Female</td>\n",
       "      <td>20-29</td>\n",
       "      <td>[0.29344454 0.09408408 0.14308809 0.2740257  0...</td>\n",
       "      <td>[0.44868255 0.55131745]</td>\n",
       "      <td>[0.00321869 0.0189087  0.0630689  0.40079823 0...</td>\n",
       "      <td>0.0</td>\n",
       "      <td>0.875</td>\n",
       "      <td>...</td>\n",
       "      <td>0.05</td>\n",
       "      <td>0.00</td>\n",
       "      <td>0.13</td>\n",
       "      <td>0.00</td>\n",
       "      <td>0.76</td>\n",
       "      <td>0.00</td>\n",
       "      <td>0.25</td>\n",
       "      <td>0.00</td>\n",
       "      <td>0.06</td>\n",
       "      <td>0.00</td>\n",
       "    </tr>\n",
       "  </tbody>\n",
       "</table>\n",
       "<p>5 rows × 181 columns</p>\n",
       "</div>"
      ],
      "text/plain": [
       "               ImageName  Expression      race_preds gender_preds age_preds  \\\n",
       "0  angry_actor_104_0.jpg           0           Black         Male     20-29   \n",
       "1  angry_actor_109_0.jpg           0  Middle Eastern         Male     10-19   \n",
       "2  angry_actor_120_1.jpg           2           White         Male     20-29   \n",
       "3   angry_actor_13_0.jpg           3      East Asian       Female     20-29   \n",
       "4  angry_actor_132_0.jpg           0           White       Female     20-29   \n",
       "\n",
       "                                         race_scores            gender_scores  \\\n",
       "0  [0.01164725 0.5489195  0.06282789 0.03017501 0...  [0.97893476 0.02106526]   \n",
       "1  [0.07172439 0.03716405 0.07634144 0.09301798 0...  [0.9886888  0.01131118]   \n",
       "2  [0.38725546 0.02379545 0.04428627 0.3587341  0...  [0.7577495  0.24225047]   \n",
       "3  [0.05252786 0.06977403 0.0932842  0.40103135 0...  [0.46038443 0.5396156 ]   \n",
       "4  [0.29344454 0.09408408 0.14308809 0.2740257  0...  [0.44868255 0.55131745]   \n",
       "\n",
       "                                          age_scores  face  confidence  ...  \\\n",
       "0  [0.00264865 0.03285832 0.07209051 0.29417548 0...   0.0       0.875  ...   \n",
       "1  [5.5791729e-04 2.5763142e-01 4.3460685e-01 2.5...   0.0       0.925  ...   \n",
       "2  [0.00361199 0.02466666 0.0458126  0.62581354 0...   1.0       0.925  ...   \n",
       "3  [0.00304344 0.0880671  0.22934933 0.39468738 0...   0.0       0.975  ...   \n",
       "4  [0.00321869 0.0189087  0.0630689  0.40079823 0...   0.0       0.875  ...   \n",
       "\n",
       "   AU10_r  AU12_r  AU14_r  AU15_r  AU17_r  AU20_r  AU23_r  AU25_r  AU26_r  \\\n",
       "0    0.00    0.41    3.61    0.54    1.10    0.68    0.00    2.23    0.00   \n",
       "1    1.16    0.76    0.77    1.12    0.04    1.38    0.00    1.20    0.00   \n",
       "2    0.06    0.00    1.51    0.00    0.00    0.00    0.00    1.09    0.51   \n",
       "3    0.99    0.00    0.00    0.36    0.56    0.00    0.13    0.96    1.02   \n",
       "4    0.05    0.00    0.13    0.00    0.76    0.00    0.25    0.00    0.06   \n",
       "\n",
       "   AU45_r  \n",
       "0    0.17  \n",
       "1    0.00  \n",
       "2    0.10  \n",
       "3    0.00  \n",
       "4    0.00  \n",
       "\n",
       "[5 rows x 181 columns]"
      ]
     },
     "execution_count": 2,
     "metadata": {},
     "output_type": "execute_result"
    }
   ],
   "source": [
    "frame = pd.read_csv('ExpW_OpenFace_result_with_expression_gender_race_age.csv')\n",
    "frame.head()"
   ]
  },
  {
   "cell_type": "code",
   "execution_count": 3,
   "metadata": {
    "scrolled": false
   },
   "outputs": [
    {
     "name": "stdout",
     "output_type": "stream",
     "text": [
      "['ImageName', 'Expression', 'race_preds', 'gender_preds', 'age_preds', 'race_scores', 'gender_scores', 'age_scores', 'face', 'confidence', 'AU01_c', 'AU02_c', 'AU04_c', 'AU05_c', 'AU06_c', 'AU07_c', 'AU09_c', 'AU10_c', 'AU12_c', 'AU14_c', 'AU15_c', 'AU17_c', 'AU20_c', 'AU23_c', 'AU25_c', 'AU26_c', 'AU28_c', 'AU45_c', 'x_0', 'x_1', 'x_2', 'x_3', 'x_4', 'x_5', 'x_6', 'x_7', 'x_8', 'x_9', 'x_10', 'x_11', 'x_12', 'x_13', 'x_14', 'x_15', 'x_16', 'x_17', 'x_18', 'x_19', 'x_20', 'x_21', 'x_22', 'x_23', 'x_24', 'x_25', 'x_26', 'x_27', 'x_28', 'x_29', 'x_30', 'x_31', 'x_32', 'x_33', 'x_34', 'x_35', 'x_36', 'x_37', 'x_38', 'x_39', 'x_40', 'x_41', 'x_42', 'x_43', 'x_44', 'x_45', 'x_46', 'x_47', 'x_48', 'x_49', 'x_50', 'x_51', 'x_52', 'x_53', 'x_54', 'x_55', 'x_56', 'x_57', 'x_58', 'x_59', 'x_60', 'x_61', 'x_62', 'x_63', 'x_64', 'x_65', 'x_66', 'x_67', 'y_0', 'y_1', 'y_2', 'y_3', 'y_4', 'y_5', 'y_6', 'y_7', 'y_8', 'y_9', 'y_10', 'y_11', 'y_12', 'y_13', 'y_14', 'y_15', 'y_16', 'y_17', 'y_18', 'y_19', 'y_20', 'y_21', 'y_22', 'y_23', 'y_24', 'y_25', 'y_26', 'y_27', 'y_28', 'y_29', 'y_30', 'y_31', 'y_32', 'y_33', 'y_34', 'y_35', 'y_36', 'y_37', 'y_38', 'y_39', 'y_40', 'y_41', 'y_42', 'y_43', 'y_44', 'y_45', 'y_46', 'y_47', 'y_48', 'y_49', 'y_50', 'y_51', 'y_52', 'y_53', 'y_54', 'y_55', 'y_56', 'y_57', 'y_58', 'y_59', 'y_60', 'y_61', 'y_62', 'y_63', 'y_64', 'y_65', 'y_66', 'y_67', 'AU01_r', 'AU02_r', 'AU04_r', 'AU05_r', 'AU06_r', 'AU07_r', 'AU09_r', 'AU10_r', 'AU12_r', 'AU14_r', 'AU15_r', 'AU17_r', 'AU20_r', 'AU23_r', 'AU25_r', 'AU26_r', 'AU45_r']\n"
     ]
    }
   ],
   "source": [
    "print(list(frame.columns))"
   ]
  },
  {
   "cell_type": "code",
   "execution_count": 4,
   "metadata": {},
   "outputs": [
    {
     "data": {
      "text/html": [
       "<div>\n",
       "<style scoped>\n",
       "    .dataframe tbody tr th:only-of-type {\n",
       "        vertical-align: middle;\n",
       "    }\n",
       "\n",
       "    .dataframe tbody tr th {\n",
       "        vertical-align: top;\n",
       "    }\n",
       "\n",
       "    .dataframe thead th {\n",
       "        text-align: right;\n",
       "    }\n",
       "</style>\n",
       "<table border=\"1\" class=\"dataframe\">\n",
       "  <thead>\n",
       "    <tr style=\"text-align: right;\">\n",
       "      <th></th>\n",
       "      <th>AU04_c</th>\n",
       "      <th>AU05_c</th>\n",
       "      <th>AU07_c</th>\n",
       "      <th>AU23_c</th>\n",
       "    </tr>\n",
       "  </thead>\n",
       "  <tbody>\n",
       "    <tr>\n",
       "      <th>AU04_c</th>\n",
       "      <td>1.000000</td>\n",
       "      <td>-0.113466</td>\n",
       "      <td>0.105905</td>\n",
       "      <td>0.037587</td>\n",
       "    </tr>\n",
       "    <tr>\n",
       "      <th>AU05_c</th>\n",
       "      <td>-0.113466</td>\n",
       "      <td>1.000000</td>\n",
       "      <td>-0.166187</td>\n",
       "      <td>-0.015331</td>\n",
       "    </tr>\n",
       "    <tr>\n",
       "      <th>AU07_c</th>\n",
       "      <td>0.105905</td>\n",
       "      <td>-0.166187</td>\n",
       "      <td>1.000000</td>\n",
       "      <td>0.032415</td>\n",
       "    </tr>\n",
       "    <tr>\n",
       "      <th>AU23_c</th>\n",
       "      <td>0.037587</td>\n",
       "      <td>-0.015331</td>\n",
       "      <td>0.032415</td>\n",
       "      <td>1.000000</td>\n",
       "    </tr>\n",
       "  </tbody>\n",
       "</table>\n",
       "</div>"
      ],
      "text/plain": [
       "          AU04_c    AU05_c    AU07_c    AU23_c\n",
       "AU04_c  1.000000 -0.113466  0.105905  0.037587\n",
       "AU05_c -0.113466  1.000000 -0.166187 -0.015331\n",
       "AU07_c  0.105905 -0.166187  1.000000  0.032415\n",
       "AU23_c  0.037587 -0.015331  0.032415  1.000000"
      ]
     },
     "execution_count": 4,
     "metadata": {},
     "output_type": "execute_result"
    }
   ],
   "source": [
    "frame[['AU04_c', 'AU05_c', 'AU07_c', 'AU23_c']].corr()"
   ]
  },
  {
   "cell_type": "code",
   "execution_count": 5,
   "metadata": {},
   "outputs": [
    {
     "data": {
      "text/html": [
       "<div>\n",
       "<style scoped>\n",
       "    .dataframe tbody tr th:only-of-type {\n",
       "        vertical-align: middle;\n",
       "    }\n",
       "\n",
       "    .dataframe tbody tr th {\n",
       "        vertical-align: top;\n",
       "    }\n",
       "\n",
       "    .dataframe thead th {\n",
       "        text-align: right;\n",
       "    }\n",
       "</style>\n",
       "<table border=\"1\" class=\"dataframe\">\n",
       "  <thead>\n",
       "    <tr style=\"text-align: right;\">\n",
       "      <th></th>\n",
       "      <th>AU04_r</th>\n",
       "      <th>AU05_r</th>\n",
       "      <th>AU07_r</th>\n",
       "      <th>AU23_r</th>\n",
       "    </tr>\n",
       "  </thead>\n",
       "  <tbody>\n",
       "    <tr>\n",
       "      <th>AU04_r</th>\n",
       "      <td>1.000000</td>\n",
       "      <td>-0.024902</td>\n",
       "      <td>0.179037</td>\n",
       "      <td>-0.005776</td>\n",
       "    </tr>\n",
       "    <tr>\n",
       "      <th>AU05_r</th>\n",
       "      <td>-0.024902</td>\n",
       "      <td>1.000000</td>\n",
       "      <td>-0.131142</td>\n",
       "      <td>0.015627</td>\n",
       "    </tr>\n",
       "    <tr>\n",
       "      <th>AU07_r</th>\n",
       "      <td>0.179037</td>\n",
       "      <td>-0.131142</td>\n",
       "      <td>1.000000</td>\n",
       "      <td>0.041884</td>\n",
       "    </tr>\n",
       "    <tr>\n",
       "      <th>AU23_r</th>\n",
       "      <td>-0.005776</td>\n",
       "      <td>0.015627</td>\n",
       "      <td>0.041884</td>\n",
       "      <td>1.000000</td>\n",
       "    </tr>\n",
       "  </tbody>\n",
       "</table>\n",
       "</div>"
      ],
      "text/plain": [
       "          AU04_r    AU05_r    AU07_r    AU23_r\n",
       "AU04_r  1.000000 -0.024902  0.179037 -0.005776\n",
       "AU05_r -0.024902  1.000000 -0.131142  0.015627\n",
       "AU07_r  0.179037 -0.131142  1.000000  0.041884\n",
       "AU23_r -0.005776  0.015627  0.041884  1.000000"
      ]
     },
     "execution_count": 5,
     "metadata": {},
     "output_type": "execute_result"
    }
   ],
   "source": [
    "frame[['AU04_r', 'AU05_r', 'AU07_r', 'AU23_r']].corr()"
   ]
  },
  {
   "cell_type": "markdown",
   "metadata": {},
   "source": [
    "# ExpW expression label：\n",
    "- \"0\" \"angry\"\n",
    "- \"1\" \"disgust\"\n",
    "- \"2\" \"fear\"\n",
    "- \"3\" \"happy\"\n",
    "- \"4\" \"sad\"\n",
    "- \"5\" \"surprise\"\n",
    "- \"6\" \"neutral\""
   ]
  },
  {
   "cell_type": "code",
   "execution_count": 6,
   "metadata": {},
   "outputs": [
    {
     "data": {
      "text/plain": [
       "neutral     33927\n",
       "happy       28893\n",
       "sad         10429\n",
       "surprise     6880\n",
       "disgust      3805\n",
       "angry        3602\n",
       "fear         1064\n",
       "Name: Expression, dtype: int64"
      ]
     },
     "execution_count": 6,
     "metadata": {},
     "output_type": "execute_result"
    }
   ],
   "source": [
    "frame.loc[frame['Expression'] == 0, 'Expression'] = 'angry'\n",
    "frame.loc[frame['Expression'] == 1, 'Expression'] = 'disgust'\n",
    "frame.loc[frame['Expression'] == 2, 'Expression'] = 'fear'\n",
    "frame.loc[frame['Expression'] == 3, 'Expression'] = 'happy'\n",
    "frame.loc[frame['Expression'] == 4, 'Expression'] = 'sad'\n",
    "frame.loc[frame['Expression'] == 5, 'Expression'] = 'surprise'\n",
    "frame.loc[frame['Expression'] == 6, 'Expression'] = 'neutral'\n",
    "frame.Expression.value_counts()"
   ]
  },
  {
   "cell_type": "code",
   "execution_count": 7,
   "metadata": {},
   "outputs": [],
   "source": [
    "frame['Angry'] = (frame['Expression'] =='angry').astype(int)\n",
    "frame['Disgust'] = (frame['Expression'] == 'disgust').astype(int)\n",
    "frame['Fear'] = (frame['Expression'] == 'fear').astype(int)\n",
    "frame['Happy'] = (frame['Expression'] =='happy').astype(int)\n",
    "frame['Sad'] = (frame['Expression'] == 'sad').astype(int)\n",
    "frame['Surprise'] = (frame['Expression'] == 'surprise').astype(int)\n",
    "frame['Neutral'] = (frame['Expression'] == 'neutral').astype(int)"
   ]
  },
  {
   "cell_type": "code",
   "execution_count": 8,
   "metadata": {},
   "outputs": [
    {
     "data": {
      "text/plain": [
       "(85355, 188)"
      ]
     },
     "execution_count": 8,
     "metadata": {},
     "output_type": "execute_result"
    }
   ],
   "source": [
    "frame = frame.dropna()\n",
    "frame.shape"
   ]
  },
  {
   "cell_type": "markdown",
   "metadata": {},
   "source": [
    "# Using the optimal threshold to re-create the AU presence"
   ]
  },
  {
   "cell_type": "code",
   "execution_count": 9,
   "metadata": {},
   "outputs": [
    {
     "data": {
      "text/plain": [
       "(85355, 201)"
      ]
     },
     "execution_count": 9,
     "metadata": {},
     "output_type": "execute_result"
    }
   ],
   "source": [
    "AU_intensity_OpenFace_common2 = ['AU01_r', 'AU02_r', 'AU04_r', 'AU05_r', 'AU06_r', 'AU09_r', 'AU10_r', \n",
    "                'AU12_r', 'AU15_r', 'AU17_r', 'AU20_r', 'AU25_r', 'AU26_r']\n",
    "optimal_threshold = np.array([4.4, 4.8, 2.4, 3.7, 1.8, 2.8, 0.2, 1.3, 1.3, 5. , 5. , 0.7, 5. ])\n",
    "for i in range(len(AU_intensity_OpenFace_common2)):\n",
    "    frame[AU_intensity_OpenFace_common2[i] + \"_c\"] = frame[AU_intensity_OpenFace_common2[i]].apply(lambda x: 0 if x <= optimal_threshold[i] else 1)\n",
    "\n",
    "frame.shape"
   ]
  },
  {
   "cell_type": "code",
   "execution_count": 10,
   "metadata": {
    "scrolled": false
   },
   "outputs": [
    {
     "name": "stdout",
     "output_type": "stream",
     "text": [
      "['ImageName', 'Expression', 'race_preds', 'gender_preds', 'age_preds', 'race_scores', 'gender_scores', 'age_scores', 'face', 'confidence', 'AU01_c', 'AU02_c', 'AU04_c', 'AU05_c', 'AU06_c', 'AU07_c', 'AU09_c', 'AU10_c', 'AU12_c', 'AU14_c', 'AU15_c', 'AU17_c', 'AU20_c', 'AU23_c', 'AU25_c', 'AU26_c', 'AU28_c', 'AU45_c', 'x_0', 'x_1', 'x_2', 'x_3', 'x_4', 'x_5', 'x_6', 'x_7', 'x_8', 'x_9', 'x_10', 'x_11', 'x_12', 'x_13', 'x_14', 'x_15', 'x_16', 'x_17', 'x_18', 'x_19', 'x_20', 'x_21', 'x_22', 'x_23', 'x_24', 'x_25', 'x_26', 'x_27', 'x_28', 'x_29', 'x_30', 'x_31', 'x_32', 'x_33', 'x_34', 'x_35', 'x_36', 'x_37', 'x_38', 'x_39', 'x_40', 'x_41', 'x_42', 'x_43', 'x_44', 'x_45', 'x_46', 'x_47', 'x_48', 'x_49', 'x_50', 'x_51', 'x_52', 'x_53', 'x_54', 'x_55', 'x_56', 'x_57', 'x_58', 'x_59', 'x_60', 'x_61', 'x_62', 'x_63', 'x_64', 'x_65', 'x_66', 'x_67', 'y_0', 'y_1', 'y_2', 'y_3', 'y_4', 'y_5', 'y_6', 'y_7', 'y_8', 'y_9', 'y_10', 'y_11', 'y_12', 'y_13', 'y_14', 'y_15', 'y_16', 'y_17', 'y_18', 'y_19', 'y_20', 'y_21', 'y_22', 'y_23', 'y_24', 'y_25', 'y_26', 'y_27', 'y_28', 'y_29', 'y_30', 'y_31', 'y_32', 'y_33', 'y_34', 'y_35', 'y_36', 'y_37', 'y_38', 'y_39', 'y_40', 'y_41', 'y_42', 'y_43', 'y_44', 'y_45', 'y_46', 'y_47', 'y_48', 'y_49', 'y_50', 'y_51', 'y_52', 'y_53', 'y_54', 'y_55', 'y_56', 'y_57', 'y_58', 'y_59', 'y_60', 'y_61', 'y_62', 'y_63', 'y_64', 'y_65', 'y_66', 'y_67', 'AU01_r', 'AU02_r', 'AU04_r', 'AU05_r', 'AU06_r', 'AU07_r', 'AU09_r', 'AU10_r', 'AU12_r', 'AU14_r', 'AU15_r', 'AU17_r', 'AU20_r', 'AU23_r', 'AU25_r', 'AU26_r', 'AU45_r', 'Angry', 'Disgust', 'Fear', 'Happy', 'Sad', 'Surprise', 'Neutral', 'AU01_r_c', 'AU02_r_c', 'AU04_r_c', 'AU05_r_c', 'AU06_r_c', 'AU09_r_c', 'AU10_r_c', 'AU12_r_c', 'AU15_r_c', 'AU17_r_c', 'AU20_r_c', 'AU25_r_c', 'AU26_r_c']\n"
     ]
    }
   ],
   "source": [
    "print(list(frame.columns))"
   ]
  },
  {
   "cell_type": "code",
   "execution_count": 11,
   "metadata": {},
   "outputs": [
    {
     "data": {
      "text/plain": [
       "0010    11911\n",
       "1010    10619\n",
       "0000    10358\n",
       "0100    10126\n",
       "1000     6786\n",
       "0110     5777\n",
       "1011     4487\n",
       "1100     4176\n",
       "0011     4028\n",
       "1110     3527\n",
       "0001     3325\n",
       "0101     3051\n",
       "1001     2373\n",
       "0111     1981\n",
       "1111     1426\n",
       "1101     1404\n",
       "Name: AU4_5_7_23_c, dtype: int64"
      ]
     },
     "execution_count": 11,
     "metadata": {},
     "output_type": "execute_result"
    }
   ],
   "source": [
    "frame['AU4_5_7_23_c'] = frame.AU04_c.apply(int).apply(str) + frame.AU05_c.apply(int).apply(str) + frame.AU07_c.apply(int).apply(str) + frame.AU23_c.apply(int).apply(str)\n",
    "frame.AU4_5_7_23_c.value_counts()"
   ]
  },
  {
   "cell_type": "code",
   "execution_count": 12,
   "metadata": {},
   "outputs": [
    {
     "data": {
      "text/plain": [
       "0000    30580\n",
       "0010    30516\n",
       "0011    11437\n",
       "0001     9926\n",
       "1010     1220\n",
       "1011      452\n",
       "0100      445\n",
       "1000      419\n",
       "1001      137\n",
       "0110       94\n",
       "0101       89\n",
       "0111       33\n",
       "1110        4\n",
       "1100        2\n",
       "1101        1\n",
       "Name: AU4_5_7_23_r_c, dtype: int64"
      ]
     },
     "execution_count": 12,
     "metadata": {},
     "output_type": "execute_result"
    }
   ],
   "source": [
    "frame['AU4_5_7_23_r_c'] = frame.AU04_r_c.apply(str) + frame.AU05_r_c.apply(str) + frame.AU07_c.apply(int).apply(str) + frame.AU23_c.apply(int).apply(str)\n",
    "frame.AU4_5_7_23_r_c.value_counts()"
   ]
  },
  {
   "cell_type": "markdown",
   "metadata": {},
   "source": [
    "# P(expression|AU1, male) =? P(expression|AU1, female)"
   ]
  },
  {
   "cell_type": "code",
   "execution_count": 13,
   "metadata": {},
   "outputs": [
    {
     "name": "stdout",
     "output_type": "stream",
     "text": [
      "(58929, 203)\n",
      "(26426, 203)\n"
     ]
    }
   ],
   "source": [
    "male_frame = frame.loc[frame['gender_preds'] == 'Male']\n",
    "female_frame = frame.loc[frame['gender_preds'] == 'Female']\n",
    "print(male_frame.shape)\n",
    "print(female_frame.shape)"
   ]
  },
  {
   "cell_type": "markdown",
   "metadata": {},
   "source": [
    "## Anger"
   ]
  },
  {
   "cell_type": "markdown",
   "metadata": {},
   "source": [
    "#### First check the simple proportion of male angry vs female angry:"
   ]
  },
  {
   "cell_type": "code",
   "execution_count": 14,
   "metadata": {
    "scrolled": false
   },
   "outputs": [
    {
     "name": "stdout",
     "output_type": "stream",
     "text": [
      "0.04349301702048228\n",
      "0.03523045485506698\n"
     ]
    }
   ],
   "source": [
    "print(male_frame.Angry.mean())\n",
    "print(female_frame.Angry.mean())"
   ]
  },
  {
   "cell_type": "code",
   "execution_count": 15,
   "metadata": {
    "scrolled": false
   },
   "outputs": [
    {
     "name": "stdout",
     "output_type": "stream",
     "text": [
      "0.026472534745201854\n",
      "0.025543025807916446\n"
     ]
    }
   ],
   "source": [
    "print(male_frame.AU04_r_c.mean())\n",
    "print(female_frame.AU04_r_c.mean())"
   ]
  },
  {
   "cell_type": "code",
   "execution_count": 16,
   "metadata": {
    "scrolled": false
   },
   "outputs": [
    {
     "name": "stdout",
     "output_type": "stream",
     "text": [
      "0.007585399378913608\n",
      "0.00836297585711042\n"
     ]
    }
   ],
   "source": [
    "print(male_frame.AU05_r_c.mean())\n",
    "print(female_frame.AU05_r_c.mean())"
   ]
  },
  {
   "cell_type": "code",
   "execution_count": 17,
   "metadata": {
    "scrolled": false
   },
   "outputs": [
    {
     "name": "stdout",
     "output_type": "stream",
     "text": [
      "0.5117853688336812\n",
      "0.5145311435707258\n"
     ]
    }
   ],
   "source": [
    "print(male_frame.AU07_c.mean())\n",
    "print(female_frame.AU07_c.mean())"
   ]
  },
  {
   "cell_type": "code",
   "execution_count": 18,
   "metadata": {
    "scrolled": false
   },
   "outputs": [
    {
     "name": "stdout",
     "output_type": "stream",
     "text": [
      "0.2773846493237625\n",
      "0.2167940664497086\n"
     ]
    }
   ],
   "source": [
    "print(male_frame.AU23_c.mean())\n",
    "print(female_frame.AU23_c.mean())"
   ]
  },
  {
   "cell_type": "code",
   "execution_count": 19,
   "metadata": {
    "scrolled": false
   },
   "outputs": [
    {
     "name": "stdout",
     "output_type": "stream",
     "text": [
      "0.018191382850548967\n",
      "0.013395897979262847\n"
     ]
    }
   ],
   "source": [
    "print((male_frame.AU4_5_7_23_c=='1111').mean())\n",
    "print((female_frame.AU4_5_7_23_c=='1111').mean())"
   ]
  },
  {
   "cell_type": "code",
   "execution_count": 20,
   "metadata": {
    "scrolled": false
   },
   "outputs": [
    {
     "name": "stdout",
     "output_type": "stream",
     "text": [
      "0.8802457194250708\n",
      "0.8750851434193597\n"
     ]
    }
   ],
   "source": [
    "print(1-(male_frame.AU4_5_7_23_c=='0000').mean())\n",
    "print(1-(female_frame.AU4_5_7_23_c=='0000').mean())"
   ]
  },
  {
   "cell_type": "markdown",
   "metadata": {},
   "source": [
    "#### Now check for conditional probability, controlled by AU:"
   ]
  },
  {
   "cell_type": "code",
   "execution_count": 26,
   "metadata": {},
   "outputs": [
    {
     "name": "stdout",
     "output_type": "stream",
     "text": [
      "29.991401082908745\n",
      "1.4117880437754304\n"
     ]
    },
    {
     "data": {
      "text/html": [
       "<div>\n",
       "<style scoped>\n",
       "    .dataframe tbody tr th:only-of-type {\n",
       "        vertical-align: middle;\n",
       "    }\n",
       "\n",
       "    .dataframe tbody tr th {\n",
       "        vertical-align: top;\n",
       "    }\n",
       "\n",
       "    .dataframe thead th {\n",
       "        text-align: right;\n",
       "    }\n",
       "</style>\n",
       "<table border=\"1\" class=\"dataframe\">\n",
       "  <thead>\n",
       "    <tr style=\"text-align: right;\">\n",
       "      <th></th>\n",
       "      <th>male</th>\n",
       "      <th>female</th>\n",
       "      <th>diff</th>\n",
       "      <th>p-value</th>\n",
       "    </tr>\n",
       "    <tr>\n",
       "      <th>AU04_r_c</th>\n",
       "      <th></th>\n",
       "      <th></th>\n",
       "      <th></th>\n",
       "      <th></th>\n",
       "    </tr>\n",
       "  </thead>\n",
       "  <tbody>\n",
       "    <tr>\n",
       "      <th>0</th>\n",
       "      <td>0.040736</td>\n",
       "      <td>0.032853</td>\n",
       "      <td>-0.007883</td>\n",
       "      <td>4.339665e-08</td>\n",
       "    </tr>\n",
       "    <tr>\n",
       "      <th>1</th>\n",
       "      <td>0.144872</td>\n",
       "      <td>0.125926</td>\n",
       "      <td>-0.018946</td>\n",
       "      <td>2.347598e-01</td>\n",
       "    </tr>\n",
       "  </tbody>\n",
       "</table>\n",
       "</div>"
      ],
      "text/plain": [
       "              male    female      diff       p-value\n",
       "AU04_r_c                                            \n",
       "0         0.040736  0.032853 -0.007883  4.339665e-08\n",
       "1         0.144872  0.125926 -0.018946  2.347598e-01"
      ]
     },
     "execution_count": 26,
     "metadata": {},
     "output_type": "execute_result"
    }
   ],
   "source": [
    "result_df = pd.concat([pd.crosstab(male_frame.AU04_r_c, male_frame.Angry, normalize = 'index')[1], pd.crosstab(female_frame.AU04_r_c, female_frame.Angry, normalize = 'index')[1]], axis=1)\n",
    "result_df.columns = ['male', 'female']\n",
    "result_df['diff'] = result_df.female - result_df.male\n",
    "for index, row in result_df.iterrows():\n",
    "    cross_tab = pd.crosstab(frame[frame.AU04_r_c == index].gender_preds, frame[frame.AU04_r_c == index].Angry, margins = True)\n",
    "\n",
    "    cross_tab.columns = [\"Not Angry\", \"Angry\", \"row_totals\"]\n",
    "    cross_tab.index = [\"Female\", \"Male\", \"col_totals\"]\n",
    "    observed = cross_tab.iloc[0:2,0:2]   # Get table without totals for later use\n",
    "\n",
    "    expected =  np.outer(cross_tab[\"row_totals\"][0:2],\n",
    "                     cross_tab.loc[\"col_totals\"][0:2]) / len(frame[frame.AU04_r_c == index])\n",
    "\n",
    "    expected = pd.DataFrame(expected)\n",
    "    expected.columns = [\"Not Angry\", \"Angry\"]\n",
    "    expected.index = [\"Female\", \"Male\"]\n",
    "\n",
    "    if (expected>=5).sum().sum() == 4:\n",
    "        chi_squared_stat = (((observed-expected)**2)/expected).sum().sum()\n",
    "        p_value = 1 - stats.chi2.cdf(x=chi_squared_stat, df=1)\n",
    "    else:\n",
    "        chi_squared_stat = np.nan\n",
    "        p_value = np.nan\n",
    "\n",
    "    print(chi_squared_stat)\n",
    "    \n",
    "    result_df.loc[index, \"p-value\"] = p_value\n",
    "result_df"
   ]
  },
  {
   "cell_type": "code",
   "execution_count": 27,
   "metadata": {},
   "outputs": [
    {
     "name": "stdout",
     "output_type": "stream",
     "text": [
      "33.59635246701074\n",
      "1.5935926576326376\n"
     ]
    },
    {
     "data": {
      "text/html": [
       "<div>\n",
       "<style scoped>\n",
       "    .dataframe tbody tr th:only-of-type {\n",
       "        vertical-align: middle;\n",
       "    }\n",
       "\n",
       "    .dataframe tbody tr th {\n",
       "        vertical-align: top;\n",
       "    }\n",
       "\n",
       "    .dataframe thead th {\n",
       "        text-align: right;\n",
       "    }\n",
       "</style>\n",
       "<table border=\"1\" class=\"dataframe\">\n",
       "  <thead>\n",
       "    <tr style=\"text-align: right;\">\n",
       "      <th></th>\n",
       "      <th>male</th>\n",
       "      <th>female</th>\n",
       "      <th>diff</th>\n",
       "      <th>p-value</th>\n",
       "    </tr>\n",
       "    <tr>\n",
       "      <th>AU05_r_c</th>\n",
       "      <th></th>\n",
       "      <th></th>\n",
       "      <th></th>\n",
       "      <th></th>\n",
       "    </tr>\n",
       "  </thead>\n",
       "  <tbody>\n",
       "    <tr>\n",
       "      <th>0</th>\n",
       "      <td>0.043483</td>\n",
       "      <td>0.034955</td>\n",
       "      <td>-0.008528</td>\n",
       "      <td>6.781979e-09</td>\n",
       "    </tr>\n",
       "    <tr>\n",
       "      <th>1</th>\n",
       "      <td>0.044743</td>\n",
       "      <td>0.067873</td>\n",
       "      <td>0.023131</td>\n",
       "      <td>2.068136e-01</td>\n",
       "    </tr>\n",
       "  </tbody>\n",
       "</table>\n",
       "</div>"
      ],
      "text/plain": [
       "              male    female      diff       p-value\n",
       "AU05_r_c                                            \n",
       "0         0.043483  0.034955 -0.008528  6.781979e-09\n",
       "1         0.044743  0.067873  0.023131  2.068136e-01"
      ]
     },
     "execution_count": 27,
     "metadata": {},
     "output_type": "execute_result"
    }
   ],
   "source": [
    "result_df = pd.concat([pd.crosstab(male_frame.AU05_r_c, male_frame.Angry, normalize = 'index')[1], pd.crosstab(female_frame.AU05_r_c, female_frame.Angry, normalize = 'index')[1]], axis=1)\n",
    "result_df.columns = ['male', 'female']\n",
    "result_df['diff'] = result_df.female - result_df.male\n",
    "for index, row in result_df.iterrows():\n",
    "    cross_tab = pd.crosstab(frame[frame.AU05_r_c == index].gender_preds, frame[frame.AU05_r_c == index].Angry, margins = True)\n",
    "\n",
    "    cross_tab.columns = [\"Not Angry\", \"Angry\", \"row_totals\"]\n",
    "    cross_tab.index = [\"Female\", \"Male\", \"col_totals\"]\n",
    "    observed = cross_tab.iloc[0:2,0:2]   # Get table without totals for later use\n",
    "\n",
    "    expected =  np.outer(cross_tab[\"row_totals\"][0:2],\n",
    "                     cross_tab.loc[\"col_totals\"][0:2]) / len(frame[frame.AU05_r_c == index])\n",
    "\n",
    "    expected = pd.DataFrame(expected)\n",
    "    expected.columns = [\"Not Angry\", \"Angry\"]\n",
    "    expected.index = [\"Female\", \"Male\"]\n",
    "\n",
    "    if (expected>=5).sum().sum() == 4:\n",
    "        chi_squared_stat = (((observed-expected)**2)/expected).sum().sum()\n",
    "        p_value = 1 - stats.chi2.cdf(x=chi_squared_stat, df=1)\n",
    "    else:\n",
    "        chi_squared_stat = np.nan\n",
    "        p_value = np.nan\n",
    "\n",
    "    print(chi_squared_stat)\n",
    "    \n",
    "    result_df.loc[index, \"p-value\"] = p_value\n",
    "result_df"
   ]
  },
  {
   "cell_type": "code",
   "execution_count": 23,
   "metadata": {},
   "outputs": [
    {
     "name": "stdout",
     "output_type": "stream",
     "text": [
      "20.014363940120067\n",
      "13.738082963530605\n"
     ]
    },
    {
     "data": {
      "text/html": [
       "<div>\n",
       "<style scoped>\n",
       "    .dataframe tbody tr th:only-of-type {\n",
       "        vertical-align: middle;\n",
       "    }\n",
       "\n",
       "    .dataframe tbody tr th {\n",
       "        vertical-align: top;\n",
       "    }\n",
       "\n",
       "    .dataframe thead th {\n",
       "        text-align: right;\n",
       "    }\n",
       "</style>\n",
       "<table border=\"1\" class=\"dataframe\">\n",
       "  <thead>\n",
       "    <tr style=\"text-align: right;\">\n",
       "      <th></th>\n",
       "      <th>male</th>\n",
       "      <th>female</th>\n",
       "      <th>diff</th>\n",
       "      <th>p-value</th>\n",
       "    </tr>\n",
       "    <tr>\n",
       "      <th>AU07_c</th>\n",
       "      <th></th>\n",
       "      <th></th>\n",
       "      <th></th>\n",
       "      <th></th>\n",
       "    </tr>\n",
       "  </thead>\n",
       "  <tbody>\n",
       "    <tr>\n",
       "      <th>0.0</th>\n",
       "      <td>0.033924</td>\n",
       "      <td>0.025645</td>\n",
       "      <td>-0.008279</td>\n",
       "      <td>0.000008</td>\n",
       "    </tr>\n",
       "    <tr>\n",
       "      <th>1.0</th>\n",
       "      <td>0.052621</td>\n",
       "      <td>0.044274</td>\n",
       "      <td>-0.008347</td>\n",
       "      <td>0.000210</td>\n",
       "    </tr>\n",
       "  </tbody>\n",
       "</table>\n",
       "</div>"
      ],
      "text/plain": [
       "            male    female      diff   p-value\n",
       "AU07_c                                        \n",
       "0.0     0.033924  0.025645 -0.008279  0.000008\n",
       "1.0     0.052621  0.044274 -0.008347  0.000210"
      ]
     },
     "execution_count": 23,
     "metadata": {},
     "output_type": "execute_result"
    }
   ],
   "source": [
    "result_df = pd.concat([pd.crosstab(male_frame.AU07_c, male_frame.Angry, normalize = 'index')[1], pd.crosstab(female_frame.AU07_c, female_frame.Angry, normalize = 'index')[1]], axis=1)\n",
    "result_df.columns = ['male', 'female']\n",
    "result_df['diff'] = result_df.female - result_df.male\n",
    "for index, row in result_df.iterrows():\n",
    "    cross_tab = pd.crosstab(frame[frame.AU07_c == index].gender_preds, frame[frame.AU07_c == index].Angry, margins = True)\n",
    "\n",
    "    cross_tab.columns = [\"Not Angry\", \"Angry\", \"row_totals\"]\n",
    "    cross_tab.index = [\"Female\", \"Male\", \"col_totals\"]\n",
    "    observed = cross_tab.iloc[0:2,0:2]   # Get table without totals for later use\n",
    "\n",
    "    expected =  np.outer(cross_tab[\"row_totals\"][0:2],\n",
    "                     cross_tab.loc[\"col_totals\"][0:2]) / len(frame[frame.AU07_c == index])\n",
    "\n",
    "    expected = pd.DataFrame(expected)\n",
    "    expected.columns = [\"Not Angry\", \"Angry\"]\n",
    "    expected.index = [\"Female\", \"Male\"]\n",
    "\n",
    "    if (expected>=5).sum().sum() == 4:\n",
    "        chi_squared_stat = (((observed-expected)**2)/expected).sum().sum()\n",
    "        p_value = 1 - stats.chi2.cdf(x=chi_squared_stat, df=1)\n",
    "    else:\n",
    "        chi_squared_stat = np.nan\n",
    "        p_value = np.nan\n",
    "\n",
    "    print(chi_squared_stat)\n",
    "    \n",
    "    result_df.loc[index, \"p-value\"] = p_value\n",
    "result_df"
   ]
  },
  {
   "cell_type": "code",
   "execution_count": 24,
   "metadata": {},
   "outputs": [
    {
     "name": "stdout",
     "output_type": "stream",
     "text": [
      "26.534034124565164\n",
      "6.636636733021152\n"
     ]
    },
    {
     "data": {
      "text/html": [
       "<div>\n",
       "<style scoped>\n",
       "    .dataframe tbody tr th:only-of-type {\n",
       "        vertical-align: middle;\n",
       "    }\n",
       "\n",
       "    .dataframe tbody tr th {\n",
       "        vertical-align: top;\n",
       "    }\n",
       "\n",
       "    .dataframe thead th {\n",
       "        text-align: right;\n",
       "    }\n",
       "</style>\n",
       "<table border=\"1\" class=\"dataframe\">\n",
       "  <thead>\n",
       "    <tr style=\"text-align: right;\">\n",
       "      <th></th>\n",
       "      <th>male</th>\n",
       "      <th>female</th>\n",
       "      <th>diff</th>\n",
       "      <th>p-value</th>\n",
       "    </tr>\n",
       "    <tr>\n",
       "      <th>AU23_c</th>\n",
       "      <th></th>\n",
       "      <th></th>\n",
       "      <th></th>\n",
       "      <th></th>\n",
       "    </tr>\n",
       "  </thead>\n",
       "  <tbody>\n",
       "    <tr>\n",
       "      <th>0.0</th>\n",
       "      <td>0.044525</td>\n",
       "      <td>0.035802</td>\n",
       "      <td>-0.008723</td>\n",
       "      <td>2.589359e-07</td>\n",
       "    </tr>\n",
       "    <tr>\n",
       "      <th>1.0</th>\n",
       "      <td>0.040805</td>\n",
       "      <td>0.033165</td>\n",
       "      <td>-0.007640</td>\n",
       "      <td>9.990236e-03</td>\n",
       "    </tr>\n",
       "  </tbody>\n",
       "</table>\n",
       "</div>"
      ],
      "text/plain": [
       "            male    female      diff       p-value\n",
       "AU23_c                                            \n",
       "0.0     0.044525  0.035802 -0.008723  2.589359e-07\n",
       "1.0     0.040805  0.033165 -0.007640  9.990236e-03"
      ]
     },
     "execution_count": 24,
     "metadata": {},
     "output_type": "execute_result"
    }
   ],
   "source": [
    "result_df = pd.concat([pd.crosstab(male_frame.AU23_c, male_frame.Angry, normalize = 'index')[1], pd.crosstab(female_frame.AU23_c, female_frame.Angry, normalize = 'index')[1]], axis=1)\n",
    "result_df.columns = ['male', 'female']\n",
    "result_df['diff'] = result_df.female - result_df.male\n",
    "for index, row in result_df.iterrows():\n",
    "    cross_tab = pd.crosstab(frame[frame.AU23_c == index].gender_preds, frame[frame.AU23_c == index].Angry, margins = True)\n",
    "\n",
    "    cross_tab.columns = [\"Not Angry\", \"Angry\", \"row_totals\"]\n",
    "    cross_tab.index = [\"Female\", \"Male\", \"col_totals\"]\n",
    "    observed = cross_tab.iloc[0:2,0:2]   # Get table without totals for later use\n",
    "\n",
    "    expected =  np.outer(cross_tab[\"row_totals\"][0:2],\n",
    "                     cross_tab.loc[\"col_totals\"][0:2]) / len(frame[frame.AU23_c == index])\n",
    "\n",
    "    expected = pd.DataFrame(expected)\n",
    "    expected.columns = [\"Not Angry\", \"Angry\"]\n",
    "    expected.index = [\"Female\", \"Male\"]\n",
    "\n",
    "    if (expected>=5).sum().sum() == 4:\n",
    "        chi_squared_stat = (((observed-expected)**2)/expected).sum().sum()\n",
    "        p_value = 1 - stats.chi2.cdf(x=chi_squared_stat, df=1)\n",
    "    else:\n",
    "        chi_squared_stat = np.nan\n",
    "        p_value = np.nan\n",
    "\n",
    "    print(chi_squared_stat)\n",
    "    \n",
    "    result_df.loc[index, \"p-value\"] = p_value\n",
    "result_df"
   ]
  },
  {
   "cell_type": "code",
   "execution_count": 28,
   "metadata": {
    "scrolled": true
   },
   "outputs": [
    {
     "name": "stdout",
     "output_type": "stream",
     "text": [
      "24.043301211877022\n",
      "1.2499541118669846\n",
      "9.543292502624297\n",
      "3.5582532834630007\n",
      "5.490468620708839\n",
      "nan\n",
      "nan\n",
      "nan\n",
      "0.04143744378821393\n",
      "nan\n",
      "0.5947346598677372\n",
      "1.409746588693957\n"
     ]
    },
    {
     "ename": "ValueError",
     "evalue": "Length mismatch: Expected axis has 2 elements, new values have 3 elements",
     "output_type": "error",
     "traceback": [
      "\u001b[0;31m---------------------------------------------------------------------------\u001b[0m",
      "\u001b[0;31mValueError\u001b[0m                                Traceback (most recent call last)",
      "\u001b[0;32m<ipython-input-28-1de786444efd>\u001b[0m in \u001b[0;36m<module>\u001b[0;34m\u001b[0m\n\u001b[1;32m      5\u001b[0m     \u001b[0mcross_tab\u001b[0m \u001b[0;34m=\u001b[0m \u001b[0mpd\u001b[0m\u001b[0;34m.\u001b[0m\u001b[0mcrosstab\u001b[0m\u001b[0;34m(\u001b[0m\u001b[0mframe\u001b[0m\u001b[0;34m[\u001b[0m\u001b[0mframe\u001b[0m\u001b[0;34m.\u001b[0m\u001b[0mAU4_5_7_23_r_c\u001b[0m \u001b[0;34m==\u001b[0m \u001b[0mindex\u001b[0m\u001b[0;34m]\u001b[0m\u001b[0;34m.\u001b[0m\u001b[0mgender_preds\u001b[0m\u001b[0;34m,\u001b[0m \u001b[0mframe\u001b[0m\u001b[0;34m[\u001b[0m\u001b[0mframe\u001b[0m\u001b[0;34m.\u001b[0m\u001b[0mAU4_5_7_23_r_c\u001b[0m \u001b[0;34m==\u001b[0m \u001b[0mindex\u001b[0m\u001b[0;34m]\u001b[0m\u001b[0;34m.\u001b[0m\u001b[0mAngry\u001b[0m\u001b[0;34m,\u001b[0m \u001b[0mmargins\u001b[0m \u001b[0;34m=\u001b[0m \u001b[0;32mTrue\u001b[0m\u001b[0;34m)\u001b[0m\u001b[0;34m\u001b[0m\u001b[0;34m\u001b[0m\u001b[0m\n\u001b[1;32m      6\u001b[0m \u001b[0;34m\u001b[0m\u001b[0m\n\u001b[0;32m----> 7\u001b[0;31m     \u001b[0mcross_tab\u001b[0m\u001b[0;34m.\u001b[0m\u001b[0mcolumns\u001b[0m \u001b[0;34m=\u001b[0m \u001b[0;34m[\u001b[0m\u001b[0;34m\"Not Angry\"\u001b[0m\u001b[0;34m,\u001b[0m \u001b[0;34m\"Angry\"\u001b[0m\u001b[0;34m,\u001b[0m \u001b[0;34m\"row_totals\"\u001b[0m\u001b[0;34m]\u001b[0m\u001b[0;34m\u001b[0m\u001b[0;34m\u001b[0m\u001b[0m\n\u001b[0m\u001b[1;32m      8\u001b[0m     \u001b[0mcross_tab\u001b[0m\u001b[0;34m.\u001b[0m\u001b[0mindex\u001b[0m \u001b[0;34m=\u001b[0m \u001b[0;34m[\u001b[0m\u001b[0;34m\"Female\"\u001b[0m\u001b[0;34m,\u001b[0m \u001b[0;34m\"Male\"\u001b[0m\u001b[0;34m,\u001b[0m \u001b[0;34m\"col_totals\"\u001b[0m\u001b[0;34m]\u001b[0m\u001b[0;34m\u001b[0m\u001b[0;34m\u001b[0m\u001b[0m\n\u001b[1;32m      9\u001b[0m     \u001b[0mobserved\u001b[0m \u001b[0;34m=\u001b[0m \u001b[0mcross_tab\u001b[0m\u001b[0;34m.\u001b[0m\u001b[0miloc\u001b[0m\u001b[0;34m[\u001b[0m\u001b[0;36m0\u001b[0m\u001b[0;34m:\u001b[0m\u001b[0;36m2\u001b[0m\u001b[0;34m,\u001b[0m\u001b[0;36m0\u001b[0m\u001b[0;34m:\u001b[0m\u001b[0;36m2\u001b[0m\u001b[0;34m]\u001b[0m   \u001b[0;31m# Get table without totals for later use\u001b[0m\u001b[0;34m\u001b[0m\u001b[0;34m\u001b[0m\u001b[0m\n",
      "\u001b[0;32m/usr/local/lib/python3.8/dist-packages/pandas/core/generic.py\u001b[0m in \u001b[0;36m__setattr__\u001b[0;34m(self, name, value)\u001b[0m\n\u001b[1;32m   5285\u001b[0m         \u001b[0;32mtry\u001b[0m\u001b[0;34m:\u001b[0m\u001b[0;34m\u001b[0m\u001b[0;34m\u001b[0m\u001b[0m\n\u001b[1;32m   5286\u001b[0m             \u001b[0mobject\u001b[0m\u001b[0;34m.\u001b[0m\u001b[0m__getattribute__\u001b[0m\u001b[0;34m(\u001b[0m\u001b[0mself\u001b[0m\u001b[0;34m,\u001b[0m \u001b[0mname\u001b[0m\u001b[0;34m)\u001b[0m\u001b[0;34m\u001b[0m\u001b[0;34m\u001b[0m\u001b[0m\n\u001b[0;32m-> 5287\u001b[0;31m             \u001b[0;32mreturn\u001b[0m \u001b[0mobject\u001b[0m\u001b[0;34m.\u001b[0m\u001b[0m__setattr__\u001b[0m\u001b[0;34m(\u001b[0m\u001b[0mself\u001b[0m\u001b[0;34m,\u001b[0m \u001b[0mname\u001b[0m\u001b[0;34m,\u001b[0m \u001b[0mvalue\u001b[0m\u001b[0;34m)\u001b[0m\u001b[0;34m\u001b[0m\u001b[0;34m\u001b[0m\u001b[0m\n\u001b[0m\u001b[1;32m   5288\u001b[0m         \u001b[0;32mexcept\u001b[0m \u001b[0mAttributeError\u001b[0m\u001b[0;34m:\u001b[0m\u001b[0;34m\u001b[0m\u001b[0;34m\u001b[0m\u001b[0m\n\u001b[1;32m   5289\u001b[0m             \u001b[0;32mpass\u001b[0m\u001b[0;34m\u001b[0m\u001b[0;34m\u001b[0m\u001b[0m\n",
      "\u001b[0;32mpandas/_libs/properties.pyx\u001b[0m in \u001b[0;36mpandas._libs.properties.AxisProperty.__set__\u001b[0;34m()\u001b[0m\n",
      "\u001b[0;32m/usr/local/lib/python3.8/dist-packages/pandas/core/generic.py\u001b[0m in \u001b[0;36m_set_axis\u001b[0;34m(self, axis, labels)\u001b[0m\n\u001b[1;32m    659\u001b[0m \u001b[0;34m\u001b[0m\u001b[0m\n\u001b[1;32m    660\u001b[0m     \u001b[0;32mdef\u001b[0m \u001b[0m_set_axis\u001b[0m\u001b[0;34m(\u001b[0m\u001b[0mself\u001b[0m\u001b[0;34m,\u001b[0m \u001b[0maxis\u001b[0m\u001b[0;34m,\u001b[0m \u001b[0mlabels\u001b[0m\u001b[0;34m)\u001b[0m \u001b[0;34m->\u001b[0m \u001b[0;32mNone\u001b[0m\u001b[0;34m:\u001b[0m\u001b[0;34m\u001b[0m\u001b[0;34m\u001b[0m\u001b[0m\n\u001b[0;32m--> 661\u001b[0;31m         \u001b[0mself\u001b[0m\u001b[0;34m.\u001b[0m\u001b[0m_data\u001b[0m\u001b[0;34m.\u001b[0m\u001b[0mset_axis\u001b[0m\u001b[0;34m(\u001b[0m\u001b[0maxis\u001b[0m\u001b[0;34m,\u001b[0m \u001b[0mlabels\u001b[0m\u001b[0;34m)\u001b[0m\u001b[0;34m\u001b[0m\u001b[0;34m\u001b[0m\u001b[0m\n\u001b[0m\u001b[1;32m    662\u001b[0m         \u001b[0mself\u001b[0m\u001b[0;34m.\u001b[0m\u001b[0m_clear_item_cache\u001b[0m\u001b[0;34m(\u001b[0m\u001b[0;34m)\u001b[0m\u001b[0;34m\u001b[0m\u001b[0;34m\u001b[0m\u001b[0m\n\u001b[1;32m    663\u001b[0m \u001b[0;34m\u001b[0m\u001b[0m\n",
      "\u001b[0;32m/usr/local/lib/python3.8/dist-packages/pandas/core/internals/managers.py\u001b[0m in \u001b[0;36mset_axis\u001b[0;34m(self, axis, new_labels)\u001b[0m\n\u001b[1;32m    175\u001b[0m \u001b[0;34m\u001b[0m\u001b[0m\n\u001b[1;32m    176\u001b[0m         \u001b[0;32mif\u001b[0m \u001b[0mnew_len\u001b[0m \u001b[0;34m!=\u001b[0m \u001b[0mold_len\u001b[0m\u001b[0;34m:\u001b[0m\u001b[0;34m\u001b[0m\u001b[0;34m\u001b[0m\u001b[0m\n\u001b[0;32m--> 177\u001b[0;31m             raise ValueError(\n\u001b[0m\u001b[1;32m    178\u001b[0m                 \u001b[0;34mf\"Length mismatch: Expected axis has {old_len} elements, new \"\u001b[0m\u001b[0;34m\u001b[0m\u001b[0;34m\u001b[0m\u001b[0m\n\u001b[1;32m    179\u001b[0m                 \u001b[0;34mf\"values have {new_len} elements\"\u001b[0m\u001b[0;34m\u001b[0m\u001b[0;34m\u001b[0m\u001b[0m\n",
      "\u001b[0;31mValueError\u001b[0m: Length mismatch: Expected axis has 2 elements, new values have 3 elements"
     ]
    }
   ],
   "source": [
    "result_df = pd.concat([pd.crosstab(male_frame.AU4_5_7_23_r_c, male_frame.Angry, normalize = 'index')[1], pd.crosstab(female_frame.AU4_5_7_23_r_c, female_frame.Angry, normalize = 'index')[1]], axis=1)\n",
    "result_df.columns = ['male', 'female']\n",
    "result_df['diff'] = result_df.female - result_df.male\n",
    "for index, row in result_df.iterrows():\n",
    "    cross_tab = pd.crosstab(frame[frame.AU4_5_7_23_r_c == index].gender_preds, frame[frame.AU4_5_7_23_r_c == index].Angry, margins = True)\n",
    "\n",
    "    cross_tab.columns = [\"Not Angry\", \"Angry\", \"row_totals\"]\n",
    "    cross_tab.index = [\"Female\", \"Male\", \"col_totals\"]\n",
    "    observed = cross_tab.iloc[0:2,0:2]   # Get table without totals for later use\n",
    "\n",
    "    expected =  np.outer(cross_tab[\"row_totals\"][0:2],\n",
    "                     cross_tab.loc[\"col_totals\"][0:2]) / len(frame[frame.AU4_5_7_23_r_c == index])\n",
    "\n",
    "    expected = pd.DataFrame(expected)\n",
    "    expected.columns = [\"Not Angry\", \"Angry\"]\n",
    "    expected.index = [\"Female\", \"Male\"]\n",
    "\n",
    "    if (expected>=5).sum().sum() == 4:\n",
    "        chi_squared_stat = (((observed-expected)**2)/expected).sum().sum()\n",
    "        p_value = 1 - stats.chi2.cdf(x=chi_squared_stat, df=1)\n",
    "    else:\n",
    "        chi_squared_stat = np.nan\n",
    "        p_value = np.nan\n",
    "\n",
    "    print(chi_squared_stat)\n",
    "    \n",
    "    result_df.loc[index, \"p-value\"] = p_value\n",
    "result_df"
   ]
  },
  {
   "cell_type": "code",
   "execution_count": 31,
   "metadata": {},
   "outputs": [
    {
     "data": {
      "image/png": "[encoded data removed]",
      "text/plain": [
       "<Figure size 432x288 with 1 Axes>"
      ]
     },
     "metadata": {
      "needs_background": "light"
     },
     "output_type": "display_data"
    }
   ],
   "source": [
    "def proportion_calc(intensity_scores, angry, interval_length = 0.05, threshold = 25):\n",
    "    min_score = min(intensity_scores)\n",
    "    max_score = max(intensity_scores)\n",
    "    multiple = math.ceil(max_score / interval_length)\n",
    "    intensities = []\n",
    "    proportions = []\n",
    "    for k in range(multiple):\n",
    "        interval_floor = k * interval_length\n",
    "        interval_ceil = (k+1) * interval_length\n",
    "        if intensity_scores[(intensity_scores >= interval_floor) & (intensity_scores < interval_ceil)].shape[0] >= threshold:\n",
    "            intensities.append(intensity_scores[(intensity_scores >= interval_floor) & (intensity_scores < interval_ceil)].mean())\n",
    "            proportions.append(angry[(intensity_scores >= interval_floor) & (intensity_scores < interval_ceil)].mean())\n",
    "    return (intensities, proportions)\n",
    "\n",
    "intensities_m, proportions_m = proportion_calc(male_frame.AU04_r, male_frame.Angry, 0.035, 30)\n",
    "plt.scatter(intensities_m, proportions_m, label=\"Male\", marker = \"p\", alpha=0.8, s=30, c='r')#,edgecolors='k')\n",
    "\n",
    "intensities_f, proportions_f = proportion_calc(female_frame.AU04_r, female_frame.Angry, 0.035, 30)\n",
    "plt.scatter(intensities_f, proportions_f, label=\"Female\", marker = \"*\", alpha=0.8, s=30, c='#089BDF')#,edgecolors='k')\n",
    "\n",
    "\n",
    "plt.xlabel('AU4 intensity', fontsize = 16)\n",
    "plt.ylabel('Proportion of \"Angry\" Labels', fontsize = 16)\n",
    "plt.title('P(Angry|AU4) for ExpW', fontsize = 18)\n",
    "plt.legend(fontsize = 16)\n",
    "plt.ylim(0, np.max(proportions_m + proportions_f) + 0.02)\n",
    "plt.savefig('ExpW_AU4.pdf')\n",
    "plt.show()"
   ]
  },
  {
   "cell_type": "code",
   "execution_count": 34,
   "metadata": {},
   "outputs": [
    {
     "data": {
      "image/png": "[encoded data removed]",
      "text/plain": [
       "<Figure size 432x288 with 1 Axes>"
      ]
     },
     "metadata": {
      "needs_background": "light"
     },
     "output_type": "display_data"
    }
   ],
   "source": [
    "intensities_m, proportions_m = proportion_calc(male_frame.AU05_r, male_frame.Angry, 0.05, 140)\n",
    "plt.scatter(intensities_m, proportions_m, label=\"Male\", marker = \"p\", alpha=0.8, s=30, c='r')#,edgecolors='k')\n",
    "\n",
    "intensities_f, proportions_f = proportion_calc(female_frame.AU05_r, female_frame.Angry, 0.05, 140)\n",
    "plt.scatter(intensities_f, proportions_f, label=\"Female\", marker = \"*\", alpha=0.8, s=30, c='#089BDF')#,edgecolors='k')\n",
    "\n",
    "\n",
    "plt.xlabel('AU5 intensity', fontsize = 16)\n",
    "plt.ylabel('Proportion of \"Angry\" Labels', fontsize = 16)\n",
    "plt.title('P(Angry|AU5) for ExpW', fontsize = 18)\n",
    "plt.legend(fontsize = 16)\n",
    "plt.ylim(0, np.max(proportions_m + proportions_f) + 0.02)\n",
    "\n",
    "plt.savefig('ExpW_AU5.pdf') \n",
    "plt.show()"
   ]
  },
  {
   "cell_type": "code",
   "execution_count": 55,
   "metadata": {
    "scrolled": true
   },
   "outputs": [
    {
     "data": {
      "image/png": "[encoded data removed]",
      "text/plain": [
       "<Figure size 432x288 with 1 Axes>"
      ]
     },
     "metadata": {
      "needs_background": "light"
     },
     "output_type": "display_data"
    }
   ],
   "source": [
    "intensities_m, proportions_m = proportion_calc(male_frame.AU07_r, male_frame.Angry, 0.08, 100)\n",
    "plt.scatter(intensities_m, proportions_m, label=\"Male\", marker = \"p\", alpha=0.8, s=30, c='r')#,edgecolors='k')\n",
    "\n",
    "intensities_f, proportions_f = proportion_calc(female_frame.AU07_r, female_frame.Angry, 0.08, 100)\n",
    "plt.scatter(intensities_f, proportions_f, label=\"Female\", marker = \"*\", alpha=0.8, s=30, c='#089BDF')#,edgecolors='k')\n",
    "\n",
    "\n",
    "plt.xlabel('AU7 intensity', fontsize = 16)\n",
    "plt.ylabel('Proportion of \"Angry\" Labels', fontsize = 16)\n",
    "plt.title('P(Angry|AU7) for ExpW', fontsize = 18)\n",
    "plt.legend(fontsize = 16)\n",
    "plt.ylim(0, np.max(proportions_m + proportions_f) + 0.02)\n",
    "plt.savefig('ExpW_AU7.pdf') \n",
    "plt.show()"
   ]
  },
  {
   "cell_type": "code",
   "execution_count": 78,
   "metadata": {},
   "outputs": [
    {
     "data": {
      "image/png": "[encoded data removed]",
      "text/plain": [
       "<Figure size 432x288 with 1 Axes>"
      ]
     },
     "metadata": {
      "needs_background": "light"
     },
     "output_type": "display_data"
    }
   ],
   "source": [
    "intensities_m, proportions_m = proportion_calc(male_frame.AU23_r, male_frame.Angry, 0.02, 110)\n",
    "plt.scatter(intensities_m, proportions_m, label=\"Male\", marker = \"p\", alpha=0.8, s=30, c='r')#,edgecolors='k')\n",
    "\n",
    "intensities_f, proportions_f = proportion_calc(female_frame.AU23_r, female_frame.Angry, 0.02, 110)\n",
    "plt.scatter(intensities_f, proportions_f, label=\"Female\", marker = \"*\", alpha=0.8, s=30, c='#089BDF')#,edgecolors='k')\n",
    "\n",
    "\n",
    "plt.xlabel('AU23 intensity', fontsize = 16)\n",
    "plt.ylabel('Proportion of \"Angry\" Labels', fontsize = 16)\n",
    "plt.title('P(Angry|AU23) for ExpW', fontsize = 18)\n",
    "plt.legend(fontsize = 16)\n",
    "plt.ylim(0 - 0.01, np.max(proportions_m + proportions_f) + 0.02)\n",
    "plt.savefig('ExpW_AU23.pdf') \n",
    "plt.show()"
   ]
  },
  {
   "cell_type": "markdown",
   "metadata": {},
   "source": [
    "To formally show that there is a significant difference between the two logistic lines, we need logistic regression:"
   ]
  },
  {
   "cell_type": "code",
   "execution_count": 79,
   "metadata": {
    "scrolled": false
   },
   "outputs": [
    {
     "name": "stdout",
     "output_type": "stream",
     "text": [
      "                 Generalized Linear Model Regression Results                  \n",
      "==============================================================================\n",
      "Dep. Variable:                  Angry   No. Observations:                85355\n",
      "Model:                            GLM   Df Residuals:                    85349\n",
      "Model Family:                Binomial   Df Model:                            5\n",
      "Link Function:                  logit   Scale:                          1.0000\n",
      "Method:                          IRLS   Log-Likelihood:                -13904.\n",
      "Date:                Fri, 15 Jan 2021   Deviance:                       27807.\n",
      "Time:                        20:50:19   Pearson chi2:                 8.52e+04\n",
      "No. Iterations:                     7                                         \n",
      "Covariance Type:            nonrobust                                         \n",
      "========================================================================================\n",
      "                           coef    std err          z      P>|z|      [0.025      0.975]\n",
      "----------------------------------------------------------------------------------------\n",
      "Intercept               -4.0934      0.044    -92.950      0.000      -4.180      -4.007\n",
      "gender_preds[T.Male]     0.1715      0.040      4.341      0.000       0.094       0.249\n",
      "AU04_r                   0.4920      0.019     25.530      0.000       0.454       0.530\n",
      "AU05_r                   0.2046      0.019     10.912      0.000       0.168       0.241\n",
      "AU07_r                   0.3224      0.015     22.150      0.000       0.294       0.351\n",
      "AU23_r                  -0.1268      0.053     -2.415      0.016      -0.230      -0.024\n",
      "========================================================================================\n"
     ]
    }
   ],
   "source": [
    "formula = 'Angry ~ AU04_r + AU05_r + AU07_r + AU23_r + gender_preds'\n",
    "model = smf.glm(formula = formula, data=frame, family=sm.families.Binomial())\n",
    "result = model.fit()\n",
    "print(result.summary())"
   ]
  },
  {
   "cell_type": "code",
   "execution_count": 80,
   "metadata": {
    "scrolled": false
   },
   "outputs": [
    {
     "name": "stdout",
     "output_type": "stream",
     "text": [
      "                 Generalized Linear Model Regression Results                  \n",
      "==============================================================================\n",
      "Dep. Variable:                  Angry   No. Observations:                85355\n",
      "Model:                            GLM   Df Residuals:                    85345\n",
      "Model Family:                Binomial   Df Model:                            9\n",
      "Link Function:                  logit   Scale:                          1.0000\n",
      "Method:                          IRLS   Log-Likelihood:                -13894.\n",
      "Date:                Fri, 15 Jan 2021   Deviance:                       27788.\n",
      "Time:                        20:50:19   Pearson chi2:                 8.55e+04\n",
      "No. Iterations:                     7                                         \n",
      "Covariance Type:            nonrobust                                         \n",
      "===============================================================================================\n",
      "                                  coef    std err          z      P>|z|      [0.025      0.975]\n",
      "-----------------------------------------------------------------------------------------------\n",
      "Intercept                      -4.2696      0.067    -63.865      0.000      -4.401      -4.139\n",
      "gender_preds[T.Male]            0.4141      0.078      5.297      0.000       0.261       0.567\n",
      "AU04_r                          0.5791      0.036     16.217      0.000       0.509       0.649\n",
      "AU04_r:gender_preds[T.Male]    -0.1219      0.042     -2.873      0.004      -0.205      -0.039\n",
      "AU05_r                          0.2685      0.035      7.661      0.000       0.200       0.337\n",
      "AU05_r:gender_preds[T.Male]    -0.0871      0.041     -2.099      0.036      -0.168      -0.006\n",
      "AU07_r                          0.3733      0.028     13.130      0.000       0.318       0.429\n",
      "AU07_r:gender_preds[T.Male]    -0.0683      0.033     -2.063      0.039      -0.133      -0.003\n",
      "AU23_r                         -0.2225      0.117     -1.898      0.058      -0.452       0.007\n",
      "AU23_r:gender_preds[T.Male]     0.1184      0.131      0.903      0.367      -0.139       0.375\n",
      "===============================================================================================\n"
     ]
    }
   ],
   "source": [
    "formula = 'Angry ~ (AU04_r + AU05_r + AU07_r + AU23_r) * gender_preds'\n",
    "model = smf.glm(formula = formula, data=frame, family=sm.families.Binomial())\n",
    "result = model.fit()\n",
    "print(result.summary())"
   ]
  },
  {
   "cell_type": "code",
   "execution_count": 81,
   "metadata": {
    "scrolled": true
   },
   "outputs": [
    {
     "name": "stdout",
     "output_type": "stream",
     "text": [
      "                 Generalized Linear Model Regression Results                  \n",
      "==============================================================================\n",
      "Dep. Variable:                  Angry   No. Observations:                85355\n",
      "Model:                            GLM   Df Residuals:                    85351\n",
      "Model Family:                Binomial   Df Model:                            3\n",
      "Link Function:                  logit   Scale:                          1.0000\n",
      "Method:                          IRLS   Log-Likelihood:                -14002.\n",
      "Date:                Fri, 15 Jan 2021   Deviance:                       28003.\n",
      "Time:                        20:50:19   Pearson chi2:                 8.55e+04\n",
      "No. Iterations:                     7                                         \n",
      "Covariance Type:            nonrobust                                         \n",
      "=============================================================================================================================\n",
      "                                                                coef    std err          z      P>|z|      [0.025      0.975]\n",
      "-----------------------------------------------------------------------------------------------------------------------------\n",
      "Intercept                                                    -4.3453      0.067    -65.219      0.000      -4.476      -4.215\n",
      "gender_preds[T.Male]                                          0.4257      0.078      5.468      0.000       0.273       0.578\n",
      "I(AU04_r + AU05_r + AU07_r + AU23_r)                          0.3915      0.018     21.660      0.000       0.356       0.427\n",
      "I(AU04_r + AU05_r + AU07_r + AU23_r):gender_preds[T.Male]    -0.0886      0.021     -4.187      0.000      -0.130      -0.047\n",
      "=============================================================================================================================\n"
     ]
    }
   ],
   "source": [
    "formula = 'Angry ~ I(AU04_r + AU05_r + AU07_r + AU23_r) * gender_preds'\n",
    "model = smf.glm(formula = formula, data=frame, family=sm.families.Binomial())\n",
    "result = model.fit()\n",
    "print(result.summary())"
   ]
  },
  {
   "cell_type": "markdown",
   "metadata": {},
   "source": [
    "# RAF-DB"
   ]
  },
  {
   "cell_type": "code",
   "execution_count": 113,
   "metadata": {},
   "outputs": [
    {
     "name": "stdout",
     "output_type": "stream",
     "text": [
      "(12214, 54)\n"
     ]
    },
    {
     "data": {
      "text/html": [
       "<div>\n",
       "<style scoped>\n",
       "    .dataframe tbody tr th:only-of-type {\n",
       "        vertical-align: middle;\n",
       "    }\n",
       "\n",
       "    .dataframe tbody tr th {\n",
       "        vertical-align: top;\n",
       "    }\n",
       "\n",
       "    .dataframe thead th {\n",
       "        text-align: right;\n",
       "    }\n",
       "</style>\n",
       "<table border=\"1\" class=\"dataframe\">\n",
       "  <thead>\n",
       "    <tr style=\"text-align: right;\">\n",
       "      <th></th>\n",
       "      <th>ImageName</th>\n",
       "      <th>face</th>\n",
       "      <th>confidence</th>\n",
       "      <th>Emotion</th>\n",
       "      <th>Happy</th>\n",
       "      <th>Gender</th>\n",
       "      <th>AU01_c</th>\n",
       "      <th>AU02_c</th>\n",
       "      <th>AU04_c</th>\n",
       "      <th>AU05_c</th>\n",
       "      <th>...</th>\n",
       "      <th>AU05_r_c</th>\n",
       "      <th>AU06_r_c</th>\n",
       "      <th>AU09_r_c</th>\n",
       "      <th>AU10_r_c</th>\n",
       "      <th>AU12_r_c</th>\n",
       "      <th>AU15_r_c</th>\n",
       "      <th>AU17_r_c</th>\n",
       "      <th>AU20_r_c</th>\n",
       "      <th>AU25_r_c</th>\n",
       "      <th>AU26_r_c</th>\n",
       "    </tr>\n",
       "  </thead>\n",
       "  <tbody>\n",
       "    <tr>\n",
       "      <th>0</th>\n",
       "      <td>test_0001_aligned.jpg</td>\n",
       "      <td>0</td>\n",
       "      <td>0.925</td>\n",
       "      <td>5</td>\n",
       "      <td>0</td>\n",
       "      <td>1.0</td>\n",
       "      <td>1.0</td>\n",
       "      <td>1.0</td>\n",
       "      <td>0.0</td>\n",
       "      <td>0.0</td>\n",
       "      <td>...</td>\n",
       "      <td>0</td>\n",
       "      <td>0</td>\n",
       "      <td>0</td>\n",
       "      <td>0</td>\n",
       "      <td>0</td>\n",
       "      <td>0</td>\n",
       "      <td>0</td>\n",
       "      <td>0</td>\n",
       "      <td>0</td>\n",
       "      <td>0</td>\n",
       "    </tr>\n",
       "    <tr>\n",
       "      <th>1</th>\n",
       "      <td>test_0002_aligned.jpg</td>\n",
       "      <td>0</td>\n",
       "      <td>0.975</td>\n",
       "      <td>1</td>\n",
       "      <td>0</td>\n",
       "      <td>1.0</td>\n",
       "      <td>1.0</td>\n",
       "      <td>1.0</td>\n",
       "      <td>1.0</td>\n",
       "      <td>1.0</td>\n",
       "      <td>...</td>\n",
       "      <td>0</td>\n",
       "      <td>0</td>\n",
       "      <td>0</td>\n",
       "      <td>0</td>\n",
       "      <td>0</td>\n",
       "      <td>0</td>\n",
       "      <td>0</td>\n",
       "      <td>0</td>\n",
       "      <td>0</td>\n",
       "      <td>0</td>\n",
       "    </tr>\n",
       "    <tr>\n",
       "      <th>2</th>\n",
       "      <td>test_0004_aligned.jpg</td>\n",
       "      <td>0</td>\n",
       "      <td>0.825</td>\n",
       "      <td>1</td>\n",
       "      <td>0</td>\n",
       "      <td>1.0</td>\n",
       "      <td>0.0</td>\n",
       "      <td>1.0</td>\n",
       "      <td>1.0</td>\n",
       "      <td>0.0</td>\n",
       "      <td>...</td>\n",
       "      <td>0</td>\n",
       "      <td>0</td>\n",
       "      <td>0</td>\n",
       "      <td>0</td>\n",
       "      <td>0</td>\n",
       "      <td>0</td>\n",
       "      <td>0</td>\n",
       "      <td>0</td>\n",
       "      <td>0</td>\n",
       "      <td>0</td>\n",
       "    </tr>\n",
       "    <tr>\n",
       "      <th>3</th>\n",
       "      <td>test_0006_aligned.jpg</td>\n",
       "      <td>0</td>\n",
       "      <td>0.875</td>\n",
       "      <td>5</td>\n",
       "      <td>0</td>\n",
       "      <td>1.0</td>\n",
       "      <td>1.0</td>\n",
       "      <td>0.0</td>\n",
       "      <td>1.0</td>\n",
       "      <td>0.0</td>\n",
       "      <td>...</td>\n",
       "      <td>0</td>\n",
       "      <td>0</td>\n",
       "      <td>0</td>\n",
       "      <td>0</td>\n",
       "      <td>0</td>\n",
       "      <td>0</td>\n",
       "      <td>0</td>\n",
       "      <td>0</td>\n",
       "      <td>0</td>\n",
       "      <td>0</td>\n",
       "    </tr>\n",
       "    <tr>\n",
       "      <th>4</th>\n",
       "      <td>test_0007_aligned.jpg</td>\n",
       "      <td>0</td>\n",
       "      <td>0.975</td>\n",
       "      <td>3</td>\n",
       "      <td>0</td>\n",
       "      <td>0.0</td>\n",
       "      <td>0.0</td>\n",
       "      <td>0.0</td>\n",
       "      <td>1.0</td>\n",
       "      <td>0.0</td>\n",
       "      <td>...</td>\n",
       "      <td>0</td>\n",
       "      <td>0</td>\n",
       "      <td>0</td>\n",
       "      <td>1</td>\n",
       "      <td>0</td>\n",
       "      <td>1</td>\n",
       "      <td>0</td>\n",
       "      <td>0</td>\n",
       "      <td>0</td>\n",
       "      <td>0</td>\n",
       "    </tr>\n",
       "  </tbody>\n",
       "</table>\n",
       "<p>5 rows × 54 columns</p>\n",
       "</div>"
      ],
      "text/plain": [
       "               ImageName  face  confidence  Emotion  Happy  Gender  AU01_c  \\\n",
       "0  test_0001_aligned.jpg     0       0.925        5      0     1.0     1.0   \n",
       "1  test_0002_aligned.jpg     0       0.975        1      0     1.0     1.0   \n",
       "2  test_0004_aligned.jpg     0       0.825        1      0     1.0     0.0   \n",
       "3  test_0006_aligned.jpg     0       0.875        5      0     1.0     1.0   \n",
       "4  test_0007_aligned.jpg     0       0.975        3      0     0.0     0.0   \n",
       "\n",
       "   AU02_c  AU04_c  AU05_c  ...  AU05_r_c  AU06_r_c  AU09_r_c  AU10_r_c  \\\n",
       "0     1.0     0.0     0.0  ...         0         0         0         0   \n",
       "1     1.0     1.0     1.0  ...         0         0         0         0   \n",
       "2     1.0     1.0     0.0  ...         0         0         0         0   \n",
       "3     0.0     1.0     0.0  ...         0         0         0         0   \n",
       "4     0.0     1.0     0.0  ...         0         0         0         1   \n",
       "\n",
       "   AU12_r_c  AU15_r_c  AU17_r_c  AU20_r_c  AU25_r_c  AU26_r_c  \n",
       "0         0         0         0         0         0         0  \n",
       "1         0         0         0         0         0         0  \n",
       "2         0         0         0         0         0         0  \n",
       "3         0         0         0         0         0         0  \n",
       "4         0         1         0         0         0         0  \n",
       "\n",
       "[5 rows x 54 columns]"
      ]
     },
     "execution_count": 113,
     "metadata": {},
     "output_type": "execute_result"
    }
   ],
   "source": [
    "frame = pd.read_csv('RAFDB_OpenFace_result_with_Emotion_and_Gender.csv')\n",
    "print(frame.shape)\n",
    "frame.head()"
   ]
  },
  {
   "cell_type": "markdown",
   "metadata": {},
   "source": [
    "1: Surprise\n",
    "2: Fear\n",
    "3: Disgust\n",
    "4: Happiness\n",
    "5: Sadness\n",
    "6: Anger\n",
    "7: Neutral"
   ]
  },
  {
   "cell_type": "code",
   "execution_count": 114,
   "metadata": {},
   "outputs": [
    {
     "data": {
      "text/html": [
       "<div>\n",
       "<style scoped>\n",
       "    .dataframe tbody tr th:only-of-type {\n",
       "        vertical-align: middle;\n",
       "    }\n",
       "\n",
       "    .dataframe tbody tr th {\n",
       "        vertical-align: top;\n",
       "    }\n",
       "\n",
       "    .dataframe thead th {\n",
       "        text-align: right;\n",
       "    }\n",
       "</style>\n",
       "<table border=\"1\" class=\"dataframe\">\n",
       "  <thead>\n",
       "    <tr style=\"text-align: right;\">\n",
       "      <th></th>\n",
       "      <th>ImageName</th>\n",
       "      <th>face</th>\n",
       "      <th>confidence</th>\n",
       "      <th>Emotion</th>\n",
       "      <th>Happy</th>\n",
       "      <th>Gender</th>\n",
       "      <th>AU01_c</th>\n",
       "      <th>AU02_c</th>\n",
       "      <th>AU04_c</th>\n",
       "      <th>AU05_c</th>\n",
       "      <th>...</th>\n",
       "      <th>AU06_r_c</th>\n",
       "      <th>AU09_r_c</th>\n",
       "      <th>AU10_r_c</th>\n",
       "      <th>AU12_r_c</th>\n",
       "      <th>AU15_r_c</th>\n",
       "      <th>AU17_r_c</th>\n",
       "      <th>AU20_r_c</th>\n",
       "      <th>AU25_r_c</th>\n",
       "      <th>AU26_r_c</th>\n",
       "      <th>Angry</th>\n",
       "    </tr>\n",
       "  </thead>\n",
       "  <tbody>\n",
       "    <tr>\n",
       "      <th>0</th>\n",
       "      <td>test_0001_aligned.jpg</td>\n",
       "      <td>0</td>\n",
       "      <td>0.925</td>\n",
       "      <td>5</td>\n",
       "      <td>0</td>\n",
       "      <td>1.0</td>\n",
       "      <td>1.0</td>\n",
       "      <td>1.0</td>\n",
       "      <td>0.0</td>\n",
       "      <td>0.0</td>\n",
       "      <td>...</td>\n",
       "      <td>0</td>\n",
       "      <td>0</td>\n",
       "      <td>0</td>\n",
       "      <td>0</td>\n",
       "      <td>0</td>\n",
       "      <td>0</td>\n",
       "      <td>0</td>\n",
       "      <td>0</td>\n",
       "      <td>0</td>\n",
       "      <td>0</td>\n",
       "    </tr>\n",
       "    <tr>\n",
       "      <th>1</th>\n",
       "      <td>test_0002_aligned.jpg</td>\n",
       "      <td>0</td>\n",
       "      <td>0.975</td>\n",
       "      <td>1</td>\n",
       "      <td>0</td>\n",
       "      <td>1.0</td>\n",
       "      <td>1.0</td>\n",
       "      <td>1.0</td>\n",
       "      <td>1.0</td>\n",
       "      <td>1.0</td>\n",
       "      <td>...</td>\n",
       "      <td>0</td>\n",
       "      <td>0</td>\n",
       "      <td>0</td>\n",
       "      <td>0</td>\n",
       "      <td>0</td>\n",
       "      <td>0</td>\n",
       "      <td>0</td>\n",
       "      <td>0</td>\n",
       "      <td>0</td>\n",
       "      <td>0</td>\n",
       "    </tr>\n",
       "    <tr>\n",
       "      <th>2</th>\n",
       "      <td>test_0004_aligned.jpg</td>\n",
       "      <td>0</td>\n",
       "      <td>0.825</td>\n",
       "      <td>1</td>\n",
       "      <td>0</td>\n",
       "      <td>1.0</td>\n",
       "      <td>0.0</td>\n",
       "      <td>1.0</td>\n",
       "      <td>1.0</td>\n",
       "      <td>0.0</td>\n",
       "      <td>...</td>\n",
       "      <td>0</td>\n",
       "      <td>0</td>\n",
       "      <td>0</td>\n",
       "      <td>0</td>\n",
       "      <td>0</td>\n",
       "      <td>0</td>\n",
       "      <td>0</td>\n",
       "      <td>0</td>\n",
       "      <td>0</td>\n",
       "      <td>0</td>\n",
       "    </tr>\n",
       "    <tr>\n",
       "      <th>3</th>\n",
       "      <td>test_0006_aligned.jpg</td>\n",
       "      <td>0</td>\n",
       "      <td>0.875</td>\n",
       "      <td>5</td>\n",
       "      <td>0</td>\n",
       "      <td>1.0</td>\n",
       "      <td>1.0</td>\n",
       "      <td>0.0</td>\n",
       "      <td>1.0</td>\n",
       "      <td>0.0</td>\n",
       "      <td>...</td>\n",
       "      <td>0</td>\n",
       "      <td>0</td>\n",
       "      <td>0</td>\n",
       "      <td>0</td>\n",
       "      <td>0</td>\n",
       "      <td>0</td>\n",
       "      <td>0</td>\n",
       "      <td>0</td>\n",
       "      <td>0</td>\n",
       "      <td>0</td>\n",
       "    </tr>\n",
       "    <tr>\n",
       "      <th>4</th>\n",
       "      <td>test_0007_aligned.jpg</td>\n",
       "      <td>0</td>\n",
       "      <td>0.975</td>\n",
       "      <td>3</td>\n",
       "      <td>0</td>\n",
       "      <td>0.0</td>\n",
       "      <td>0.0</td>\n",
       "      <td>0.0</td>\n",
       "      <td>1.0</td>\n",
       "      <td>0.0</td>\n",
       "      <td>...</td>\n",
       "      <td>0</td>\n",
       "      <td>0</td>\n",
       "      <td>1</td>\n",
       "      <td>0</td>\n",
       "      <td>1</td>\n",
       "      <td>0</td>\n",
       "      <td>0</td>\n",
       "      <td>0</td>\n",
       "      <td>0</td>\n",
       "      <td>0</td>\n",
       "    </tr>\n",
       "    <tr>\n",
       "      <th>...</th>\n",
       "      <td>...</td>\n",
       "      <td>...</td>\n",
       "      <td>...</td>\n",
       "      <td>...</td>\n",
       "      <td>...</td>\n",
       "      <td>...</td>\n",
       "      <td>...</td>\n",
       "      <td>...</td>\n",
       "      <td>...</td>\n",
       "      <td>...</td>\n",
       "      <td>...</td>\n",
       "      <td>...</td>\n",
       "      <td>...</td>\n",
       "      <td>...</td>\n",
       "      <td>...</td>\n",
       "      <td>...</td>\n",
       "      <td>...</td>\n",
       "      <td>...</td>\n",
       "      <td>...</td>\n",
       "      <td>...</td>\n",
       "      <td>...</td>\n",
       "    </tr>\n",
       "    <tr>\n",
       "      <th>12209</th>\n",
       "      <td>train_12266_aligned.jpg</td>\n",
       "      <td>0</td>\n",
       "      <td>0.925</td>\n",
       "      <td>7</td>\n",
       "      <td>0</td>\n",
       "      <td>1.0</td>\n",
       "      <td>0.0</td>\n",
       "      <td>0.0</td>\n",
       "      <td>1.0</td>\n",
       "      <td>0.0</td>\n",
       "      <td>...</td>\n",
       "      <td>0</td>\n",
       "      <td>0</td>\n",
       "      <td>0</td>\n",
       "      <td>0</td>\n",
       "      <td>0</td>\n",
       "      <td>0</td>\n",
       "      <td>0</td>\n",
       "      <td>0</td>\n",
       "      <td>0</td>\n",
       "      <td>0</td>\n",
       "    </tr>\n",
       "    <tr>\n",
       "      <th>12210</th>\n",
       "      <td>train_12267_aligned.jpg</td>\n",
       "      <td>0</td>\n",
       "      <td>0.975</td>\n",
       "      <td>7</td>\n",
       "      <td>0</td>\n",
       "      <td>0.0</td>\n",
       "      <td>0.0</td>\n",
       "      <td>0.0</td>\n",
       "      <td>1.0</td>\n",
       "      <td>0.0</td>\n",
       "      <td>...</td>\n",
       "      <td>0</td>\n",
       "      <td>0</td>\n",
       "      <td>1</td>\n",
       "      <td>0</td>\n",
       "      <td>0</td>\n",
       "      <td>0</td>\n",
       "      <td>0</td>\n",
       "      <td>0</td>\n",
       "      <td>0</td>\n",
       "      <td>0</td>\n",
       "    </tr>\n",
       "    <tr>\n",
       "      <th>12211</th>\n",
       "      <td>train_12268_aligned.jpg</td>\n",
       "      <td>0</td>\n",
       "      <td>0.875</td>\n",
       "      <td>7</td>\n",
       "      <td>0</td>\n",
       "      <td>0.0</td>\n",
       "      <td>0.0</td>\n",
       "      <td>1.0</td>\n",
       "      <td>1.0</td>\n",
       "      <td>0.0</td>\n",
       "      <td>...</td>\n",
       "      <td>0</td>\n",
       "      <td>0</td>\n",
       "      <td>0</td>\n",
       "      <td>0</td>\n",
       "      <td>1</td>\n",
       "      <td>0</td>\n",
       "      <td>0</td>\n",
       "      <td>0</td>\n",
       "      <td>0</td>\n",
       "      <td>0</td>\n",
       "    </tr>\n",
       "    <tr>\n",
       "      <th>12212</th>\n",
       "      <td>train_12269_aligned.jpg</td>\n",
       "      <td>0</td>\n",
       "      <td>0.975</td>\n",
       "      <td>7</td>\n",
       "      <td>0</td>\n",
       "      <td>1.0</td>\n",
       "      <td>1.0</td>\n",
       "      <td>1.0</td>\n",
       "      <td>0.0</td>\n",
       "      <td>1.0</td>\n",
       "      <td>...</td>\n",
       "      <td>0</td>\n",
       "      <td>0</td>\n",
       "      <td>0</td>\n",
       "      <td>0</td>\n",
       "      <td>0</td>\n",
       "      <td>0</td>\n",
       "      <td>0</td>\n",
       "      <td>0</td>\n",
       "      <td>0</td>\n",
       "      <td>0</td>\n",
       "    </tr>\n",
       "    <tr>\n",
       "      <th>12213</th>\n",
       "      <td>train_12271_aligned.jpg</td>\n",
       "      <td>0</td>\n",
       "      <td>0.975</td>\n",
       "      <td>7</td>\n",
       "      <td>0</td>\n",
       "      <td>1.0</td>\n",
       "      <td>1.0</td>\n",
       "      <td>0.0</td>\n",
       "      <td>1.0</td>\n",
       "      <td>0.0</td>\n",
       "      <td>...</td>\n",
       "      <td>0</td>\n",
       "      <td>0</td>\n",
       "      <td>0</td>\n",
       "      <td>0</td>\n",
       "      <td>0</td>\n",
       "      <td>0</td>\n",
       "      <td>0</td>\n",
       "      <td>0</td>\n",
       "      <td>0</td>\n",
       "      <td>0</td>\n",
       "    </tr>\n",
       "  </tbody>\n",
       "</table>\n",
       "<p>12214 rows × 55 columns</p>\n",
       "</div>"
      ],
      "text/plain": [
       "                     ImageName  face  confidence  Emotion  Happy  Gender  \\\n",
       "0        test_0001_aligned.jpg     0       0.925        5      0     1.0   \n",
       "1        test_0002_aligned.jpg     0       0.975        1      0     1.0   \n",
       "2        test_0004_aligned.jpg     0       0.825        1      0     1.0   \n",
       "3        test_0006_aligned.jpg     0       0.875        5      0     1.0   \n",
       "4        test_0007_aligned.jpg     0       0.975        3      0     0.0   \n",
       "...                        ...   ...         ...      ...    ...     ...   \n",
       "12209  train_12266_aligned.jpg     0       0.925        7      0     1.0   \n",
       "12210  train_12267_aligned.jpg     0       0.975        7      0     0.0   \n",
       "12211  train_12268_aligned.jpg     0       0.875        7      0     0.0   \n",
       "12212  train_12269_aligned.jpg     0       0.975        7      0     1.0   \n",
       "12213  train_12271_aligned.jpg     0       0.975        7      0     1.0   \n",
       "\n",
       "       AU01_c  AU02_c  AU04_c  AU05_c  ...  AU06_r_c  AU09_r_c  AU10_r_c  \\\n",
       "0         1.0     1.0     0.0     0.0  ...         0         0         0   \n",
       "1         1.0     1.0     1.0     1.0  ...         0         0         0   \n",
       "2         0.0     1.0     1.0     0.0  ...         0         0         0   \n",
       "3         1.0     0.0     1.0     0.0  ...         0         0         0   \n",
       "4         0.0     0.0     1.0     0.0  ...         0         0         1   \n",
       "...       ...     ...     ...     ...  ...       ...       ...       ...   \n",
       "12209     0.0     0.0     1.0     0.0  ...         0         0         0   \n",
       "12210     0.0     0.0     1.0     0.0  ...         0         0         1   \n",
       "12211     0.0     1.0     1.0     0.0  ...         0         0         0   \n",
       "12212     1.0     1.0     0.0     1.0  ...         0         0         0   \n",
       "12213     1.0     0.0     1.0     0.0  ...         0         0         0   \n",
       "\n",
       "       AU12_r_c  AU15_r_c  AU17_r_c  AU20_r_c  AU25_r_c  AU26_r_c  Angry  \n",
       "0             0         0         0         0         0         0      0  \n",
       "1             0         0         0         0         0         0      0  \n",
       "2             0         0         0         0         0         0      0  \n",
       "3             0         0         0         0         0         0      0  \n",
       "4             0         1         0         0         0         0      0  \n",
       "...         ...       ...       ...       ...       ...       ...    ...  \n",
       "12209         0         0         0         0         0         0      0  \n",
       "12210         0         0         0         0         0         0      0  \n",
       "12211         0         1         0         0         0         0      0  \n",
       "12212         0         0         0         0         0         0      0  \n",
       "12213         0         0         0         0         0         0      0  \n",
       "\n",
       "[12214 rows x 55 columns]"
      ]
     },
     "execution_count": 114,
     "metadata": {},
     "output_type": "execute_result"
    }
   ],
   "source": [
    "frame['Angry'] = frame.Emotion.apply(lambda x: (x == 6)*1)\n",
    "frame"
   ]
  },
  {
   "cell_type": "code",
   "execution_count": 115,
   "metadata": {
    "scrolled": false
   },
   "outputs": [
    {
     "name": "stdout",
     "output_type": "stream",
     "text": [
      "['ImageName', 'face', 'confidence', 'Emotion', 'Happy', 'Gender', 'AU01_c', 'AU02_c', 'AU04_c', 'AU05_c', 'AU06_c', 'AU07_c', 'AU09_c', 'AU10_c', 'AU12_c', 'AU14_c', 'AU15_c', 'AU17_c', 'AU20_c', 'AU23_c', 'AU25_c', 'AU26_c', 'AU28_c', 'AU45_c', 'AU01_r', 'AU02_r', 'AU04_r', 'AU05_r', 'AU06_r', 'AU07_r', 'AU09_r', 'AU10_r', 'AU12_r', 'AU14_r', 'AU15_r', 'AU17_r', 'AU20_r', 'AU23_r', 'AU25_r', 'AU26_r', 'AU45_r', 'AU01_r_c', 'AU02_r_c', 'AU04_r_c', 'AU05_r_c', 'AU06_r_c', 'AU09_r_c', 'AU10_r_c', 'AU12_r_c', 'AU15_r_c', 'AU17_r_c', 'AU20_r_c', 'AU25_r_c', 'AU26_r_c', 'Angry']\n"
     ]
    }
   ],
   "source": [
    "print(list(frame.columns))"
   ]
  },
  {
   "cell_type": "code",
   "execution_count": 116,
   "metadata": {},
   "outputs": [
    {
     "data": {
      "text/html": [
       "<div>\n",
       "<style scoped>\n",
       "    .dataframe tbody tr th:only-of-type {\n",
       "        vertical-align: middle;\n",
       "    }\n",
       "\n",
       "    .dataframe tbody tr th {\n",
       "        vertical-align: top;\n",
       "    }\n",
       "\n",
       "    .dataframe thead th {\n",
       "        text-align: right;\n",
       "    }\n",
       "</style>\n",
       "<table border=\"1\" class=\"dataframe\">\n",
       "  <thead>\n",
       "    <tr style=\"text-align: right;\">\n",
       "      <th></th>\n",
       "      <th>AU04_c</th>\n",
       "      <th>AU05_c</th>\n",
       "      <th>AU07_c</th>\n",
       "      <th>AU23_c</th>\n",
       "    </tr>\n",
       "  </thead>\n",
       "  <tbody>\n",
       "    <tr>\n",
       "      <th>AU04_c</th>\n",
       "      <td>1.000000</td>\n",
       "      <td>-0.146897</td>\n",
       "      <td>0.105618</td>\n",
       "      <td>0.032439</td>\n",
       "    </tr>\n",
       "    <tr>\n",
       "      <th>AU05_c</th>\n",
       "      <td>-0.146897</td>\n",
       "      <td>1.000000</td>\n",
       "      <td>-0.210382</td>\n",
       "      <td>0.009509</td>\n",
       "    </tr>\n",
       "    <tr>\n",
       "      <th>AU07_c</th>\n",
       "      <td>0.105618</td>\n",
       "      <td>-0.210382</td>\n",
       "      <td>1.000000</td>\n",
       "      <td>-0.006216</td>\n",
       "    </tr>\n",
       "    <tr>\n",
       "      <th>AU23_c</th>\n",
       "      <td>0.032439</td>\n",
       "      <td>0.009509</td>\n",
       "      <td>-0.006216</td>\n",
       "      <td>1.000000</td>\n",
       "    </tr>\n",
       "  </tbody>\n",
       "</table>\n",
       "</div>"
      ],
      "text/plain": [
       "          AU04_c    AU05_c    AU07_c    AU23_c\n",
       "AU04_c  1.000000 -0.146897  0.105618  0.032439\n",
       "AU05_c -0.146897  1.000000 -0.210382  0.009509\n",
       "AU07_c  0.105618 -0.210382  1.000000 -0.006216\n",
       "AU23_c  0.032439  0.009509 -0.006216  1.000000"
      ]
     },
     "execution_count": 116,
     "metadata": {},
     "output_type": "execute_result"
    }
   ],
   "source": [
    "frame[['AU04_c', 'AU05_c', 'AU07_c', 'AU23_c']].corr()"
   ]
  },
  {
   "cell_type": "code",
   "execution_count": 117,
   "metadata": {},
   "outputs": [
    {
     "data": {
      "text/html": [
       "<div>\n",
       "<style scoped>\n",
       "    .dataframe tbody tr th:only-of-type {\n",
       "        vertical-align: middle;\n",
       "    }\n",
       "\n",
       "    .dataframe tbody tr th {\n",
       "        vertical-align: top;\n",
       "    }\n",
       "\n",
       "    .dataframe thead th {\n",
       "        text-align: right;\n",
       "    }\n",
       "</style>\n",
       "<table border=\"1\" class=\"dataframe\">\n",
       "  <thead>\n",
       "    <tr style=\"text-align: right;\">\n",
       "      <th></th>\n",
       "      <th>AU04_r</th>\n",
       "      <th>AU05_r</th>\n",
       "      <th>AU07_r</th>\n",
       "      <th>AU23_r</th>\n",
       "    </tr>\n",
       "  </thead>\n",
       "  <tbody>\n",
       "    <tr>\n",
       "      <th>AU04_r</th>\n",
       "      <td>1.000000</td>\n",
       "      <td>-0.024118</td>\n",
       "      <td>0.173822</td>\n",
       "      <td>0.000237</td>\n",
       "    </tr>\n",
       "    <tr>\n",
       "      <th>AU05_r</th>\n",
       "      <td>-0.024118</td>\n",
       "      <td>1.000000</td>\n",
       "      <td>-0.100290</td>\n",
       "      <td>-0.017668</td>\n",
       "    </tr>\n",
       "    <tr>\n",
       "      <th>AU07_r</th>\n",
       "      <td>0.173822</td>\n",
       "      <td>-0.100290</td>\n",
       "      <td>1.000000</td>\n",
       "      <td>0.028291</td>\n",
       "    </tr>\n",
       "    <tr>\n",
       "      <th>AU23_r</th>\n",
       "      <td>0.000237</td>\n",
       "      <td>-0.017668</td>\n",
       "      <td>0.028291</td>\n",
       "      <td>1.000000</td>\n",
       "    </tr>\n",
       "  </tbody>\n",
       "</table>\n",
       "</div>"
      ],
      "text/plain": [
       "          AU04_r    AU05_r    AU07_r    AU23_r\n",
       "AU04_r  1.000000 -0.024118  0.173822  0.000237\n",
       "AU05_r -0.024118  1.000000 -0.100290 -0.017668\n",
       "AU07_r  0.173822 -0.100290  1.000000  0.028291\n",
       "AU23_r  0.000237 -0.017668  0.028291  1.000000"
      ]
     },
     "execution_count": 117,
     "metadata": {},
     "output_type": "execute_result"
    }
   ],
   "source": [
    "frame[['AU04_r', 'AU05_r', 'AU07_r', 'AU23_r']].corr()"
   ]
  },
  {
   "cell_type": "code",
   "execution_count": 118,
   "metadata": {},
   "outputs": [],
   "source": [
    "frame = frame.rename(columns={'Gender': 'gender_preds'})"
   ]
  },
  {
   "cell_type": "code",
   "execution_count": 119,
   "metadata": {},
   "outputs": [
    {
     "data": {
      "text/plain": [
       "(12214, 55)"
      ]
     },
     "execution_count": 119,
     "metadata": {},
     "output_type": "execute_result"
    }
   ],
   "source": [
    "frame = frame.dropna()\n",
    "frame.shape"
   ]
  },
  {
   "cell_type": "code",
   "execution_count": 120,
   "metadata": {
    "scrolled": true
   },
   "outputs": [
    {
     "data": {
      "text/plain": [
       "1010    1931\n",
       "0010    1703\n",
       "0000    1588\n",
       "1000    1306\n",
       "0100     968\n",
       "1011     876\n",
       "0011     639\n",
       "0001     599\n",
       "1001     583\n",
       "1100     442\n",
       "0101     431\n",
       "0110     419\n",
       "1110     256\n",
       "1101     211\n",
       "0111     159\n",
       "1111     103\n",
       "Name: AU4_5_7_23_c, dtype: int64"
      ]
     },
     "execution_count": 120,
     "metadata": {},
     "output_type": "execute_result"
    }
   ],
   "source": [
    "frame['AU4_5_7_23_c'] = frame.AU04_c.apply(int).apply(str) + frame.AU05_c.apply(int).apply(str) + frame.AU07_c.apply(int).apply(str) + frame.AU23_c.apply(int).apply(str)\n",
    "frame.AU4_5_7_23_c.value_counts()"
   ]
  },
  {
   "cell_type": "code",
   "execution_count": 121,
   "metadata": {},
   "outputs": [
    {
     "data": {
      "text/plain": [
       "0000    4255\n",
       "0010    4202\n",
       "0001    1812\n",
       "0011    1736\n",
       "1010     107\n",
       "1000      49\n",
       "1011      41\n",
       "1001      12\n",
       "Name: AU4_5_7_23_r_c, dtype: int64"
      ]
     },
     "execution_count": 121,
     "metadata": {},
     "output_type": "execute_result"
    }
   ],
   "source": [
    "frame['AU4_5_7_23_r_c'] = frame.AU04_r_c.apply(str) + frame.AU05_r_c.apply(str) + frame.AU07_c.apply(int).apply(str) + frame.AU23_c.apply(int).apply(str)\n",
    "frame.AU4_5_7_23_r_c.value_counts()"
   ]
  },
  {
   "cell_type": "markdown",
   "metadata": {},
   "source": [
    "# P(expression|AU1, male) =? P(expression|AU1, female)"
   ]
  },
  {
   "cell_type": "code",
   "execution_count": 122,
   "metadata": {},
   "outputs": [
    {
     "name": "stdout",
     "output_type": "stream",
     "text": [
      "(4936, 57)\n",
      "(7278, 57)\n"
     ]
    }
   ],
   "source": [
    "frame.gender_preds = frame.gender_preds.apply(lambda x: 'Male' if x == 0 else 'Female')\n",
    "male_frame = frame.loc[frame['gender_preds'] == 'Male']\n",
    "female_frame = frame.loc[frame['gender_preds'] == 'Female']\n",
    "print(male_frame.shape)\n",
    "print(female_frame.shape)"
   ]
  },
  {
   "cell_type": "markdown",
   "metadata": {},
   "source": [
    "## Anger"
   ]
  },
  {
   "cell_type": "markdown",
   "metadata": {},
   "source": [
    "#### First check the simple proportion of male angry vs female angry:"
   ]
  },
  {
   "cell_type": "code",
   "execution_count": 123,
   "metadata": {
    "scrolled": false
   },
   "outputs": [
    {
     "name": "stdout",
     "output_type": "stream",
     "text": [
      "0.09157212317666126\n",
      "0.030915086562242376\n"
     ]
    }
   ],
   "source": [
    "print(male_frame.Angry.mean())\n",
    "print(female_frame.Angry.mean())"
   ]
  },
  {
   "cell_type": "code",
   "execution_count": 124,
   "metadata": {
    "scrolled": false
   },
   "outputs": [
    {
     "name": "stdout",
     "output_type": "stream",
     "text": [
      "0.015802269043760128\n",
      "0.017999450398461115\n"
     ]
    }
   ],
   "source": [
    "print(male_frame.AU04_r_c.mean())\n",
    "print(female_frame.AU04_r_c.mean())"
   ]
  },
  {
   "cell_type": "code",
   "execution_count": 125,
   "metadata": {
    "scrolled": false
   },
   "outputs": [
    {
     "name": "stdout",
     "output_type": "stream",
     "text": [
      "0.0\n",
      "0.0\n"
     ]
    }
   ],
   "source": [
    "print(male_frame.AU05_r_c.mean())\n",
    "print(female_frame.AU05_r_c.mean())"
   ]
  },
  {
   "cell_type": "code",
   "execution_count": 126,
   "metadata": {
    "scrolled": false
   },
   "outputs": [
    {
     "name": "stdout",
     "output_type": "stream",
     "text": [
      "0.523095623987034\n",
      "0.4814509480626546\n"
     ]
    }
   ],
   "source": [
    "print(male_frame.AU07_c.mean())\n",
    "print(female_frame.AU07_c.mean())"
   ]
  },
  {
   "cell_type": "code",
   "execution_count": 127,
   "metadata": {
    "scrolled": false
   },
   "outputs": [
    {
     "name": "stdout",
     "output_type": "stream",
     "text": [
      "0.32678282009724474\n",
      "0.2731519648255015\n"
     ]
    }
   ],
   "source": [
    "print(male_frame.AU23_c.mean())\n",
    "print(female_frame.AU23_c.mean())"
   ]
  },
  {
   "cell_type": "code",
   "execution_count": 128,
   "metadata": {
    "scrolled": false
   },
   "outputs": [
    {
     "name": "stdout",
     "output_type": "stream",
     "text": [
      "0.009521880064829822\n",
      "0.007694421544380325\n"
     ]
    }
   ],
   "source": [
    "print((male_frame.AU4_5_7_23_c=='1111').mean())\n",
    "print((female_frame.AU4_5_7_23_c=='1111').mean())"
   ]
  },
  {
   "cell_type": "code",
   "execution_count": 129,
   "metadata": {
    "scrolled": false
   },
   "outputs": [
    {
     "name": "stdout",
     "output_type": "stream",
     "text": [
      "0.8877633711507293\n",
      "0.8579280021984061\n"
     ]
    }
   ],
   "source": [
    "print(1-(male_frame.AU4_5_7_23_c=='0000').mean())\n",
    "print(1-(female_frame.AU4_5_7_23_c=='0000').mean())"
   ]
  },
  {
   "cell_type": "markdown",
   "metadata": {},
   "source": [
    "#### Now check for conditional probability, controlled by AU:"
   ]
  },
  {
   "cell_type": "code",
   "execution_count": 135,
   "metadata": {},
   "outputs": [
    {
     "name": "stdout",
     "output_type": "stream",
     "text": [
      "190.7265292673058\n",
      "21.155874941852964\n"
     ]
    },
    {
     "data": {
      "text/html": [
       "<div>\n",
       "<style scoped>\n",
       "    .dataframe tbody tr th:only-of-type {\n",
       "        vertical-align: middle;\n",
       "    }\n",
       "\n",
       "    .dataframe tbody tr th {\n",
       "        vertical-align: top;\n",
       "    }\n",
       "\n",
       "    .dataframe thead th {\n",
       "        text-align: right;\n",
       "    }\n",
       "</style>\n",
       "<table border=\"1\" class=\"dataframe\">\n",
       "  <thead>\n",
       "    <tr style=\"text-align: right;\">\n",
       "      <th></th>\n",
       "      <th>male</th>\n",
       "      <th>female</th>\n",
       "      <th>diff</th>\n",
       "      <th>p-value</th>\n",
       "    </tr>\n",
       "    <tr>\n",
       "      <th>AU04_r_c</th>\n",
       "      <th></th>\n",
       "      <th></th>\n",
       "      <th></th>\n",
       "      <th></th>\n",
       "    </tr>\n",
       "  </thead>\n",
       "  <tbody>\n",
       "    <tr>\n",
       "      <th>0</th>\n",
       "      <td>0.088308</td>\n",
       "      <td>0.030362</td>\n",
       "      <td>-0.057946</td>\n",
       "      <td>0.000000</td>\n",
       "    </tr>\n",
       "    <tr>\n",
       "      <th>1</th>\n",
       "      <td>0.294872</td>\n",
       "      <td>0.061069</td>\n",
       "      <td>-0.233803</td>\n",
       "      <td>0.000004</td>\n",
       "    </tr>\n",
       "  </tbody>\n",
       "</table>\n",
       "</div>"
      ],
      "text/plain": [
       "              male    female      diff   p-value\n",
       "AU04_r_c                                        \n",
       "0         0.088308  0.030362 -0.057946  0.000000\n",
       "1         0.294872  0.061069 -0.233803  0.000004"
      ]
     },
     "execution_count": 135,
     "metadata": {},
     "output_type": "execute_result"
    }
   ],
   "source": [
    "result_df = pd.concat([pd.crosstab(male_frame.AU04_r_c, male_frame.Angry, normalize = 'index')[1], pd.crosstab(female_frame.AU04_r_c, female_frame.Angry, normalize = 'index')[1]], axis=1)\n",
    "result_df.columns = ['male', 'female']\n",
    "result_df['diff'] = result_df.female - result_df.male\n",
    "for index, row in result_df.iterrows():\n",
    "    cross_tab = pd.crosstab(frame[frame.AU04_r_c == index].gender_preds, frame[frame.AU04_r_c == index].Angry, margins = True)\n",
    "\n",
    "    cross_tab.columns = [\"Not Angry\", \"Angry\", \"row_totals\"]\n",
    "    cross_tab.index = [\"Female\", \"Male\", \"col_totals\"]\n",
    "    observed = cross_tab.iloc[0:2,0:2]   # Get table without totals for later use\n",
    "\n",
    "    expected =  np.outer(cross_tab[\"row_totals\"][0:2],\n",
    "                     cross_tab.loc[\"col_totals\"][0:2]) / len(frame[frame.AU04_r_c == index])\n",
    "\n",
    "    expected = pd.DataFrame(expected)\n",
    "    expected.columns = [\"Not Angry\", \"Angry\"]\n",
    "    expected.index = [\"Female\", \"Male\"]\n",
    "\n",
    "    if (expected>=5).sum().sum() == 4:\n",
    "        chi_squared_stat = (((observed-expected)**2)/expected).sum().sum()\n",
    "        p_value = 1 - stats.chi2.cdf(x=chi_squared_stat, df=1)\n",
    "    else:\n",
    "        chi_squared_stat = np.nan\n",
    "        p_value = np.nan\n",
    "\n",
    "    print(chi_squared_stat)\n",
    "    \n",
    "    result_df.loc[index, \"p-value\"] = p_value\n",
    "result_df"
   ]
  },
  {
   "cell_type": "code",
   "execution_count": 136,
   "metadata": {},
   "outputs": [
    {
     "name": "stdout",
     "output_type": "stream",
     "text": [
      "206.6930790590879\n"
     ]
    },
    {
     "data": {
      "text/html": [
       "<div>\n",
       "<style scoped>\n",
       "    .dataframe tbody tr th:only-of-type {\n",
       "        vertical-align: middle;\n",
       "    }\n",
       "\n",
       "    .dataframe tbody tr th {\n",
       "        vertical-align: top;\n",
       "    }\n",
       "\n",
       "    .dataframe thead th {\n",
       "        text-align: right;\n",
       "    }\n",
       "</style>\n",
       "<table border=\"1\" class=\"dataframe\">\n",
       "  <thead>\n",
       "    <tr style=\"text-align: right;\">\n",
       "      <th></th>\n",
       "      <th>male</th>\n",
       "      <th>female</th>\n",
       "      <th>diff</th>\n",
       "      <th>p-value</th>\n",
       "    </tr>\n",
       "    <tr>\n",
       "      <th>AU05_r_c</th>\n",
       "      <th></th>\n",
       "      <th></th>\n",
       "      <th></th>\n",
       "      <th></th>\n",
       "    </tr>\n",
       "  </thead>\n",
       "  <tbody>\n",
       "    <tr>\n",
       "      <th>0</th>\n",
       "      <td>0.091572</td>\n",
       "      <td>0.030915</td>\n",
       "      <td>-0.060657</td>\n",
       "      <td>0.0</td>\n",
       "    </tr>\n",
       "  </tbody>\n",
       "</table>\n",
       "</div>"
      ],
      "text/plain": [
       "              male    female      diff  p-value\n",
       "AU05_r_c                                       \n",
       "0         0.091572  0.030915 -0.060657      0.0"
      ]
     },
     "execution_count": 136,
     "metadata": {},
     "output_type": "execute_result"
    }
   ],
   "source": [
    "result_df = pd.concat([pd.crosstab(male_frame.AU05_r_c, male_frame.Angry, normalize = 'index')[1], pd.crosstab(female_frame.AU05_r_c, female_frame.Angry, normalize = 'index')[1]], axis=1)\n",
    "result_df.columns = ['male', 'female']\n",
    "result_df['diff'] = result_df.female - result_df.male\n",
    "for index, row in result_df.iterrows():\n",
    "    cross_tab = pd.crosstab(frame[frame.AU05_r_c == index].gender_preds, frame[frame.AU05_r_c == index].Angry, margins = True)\n",
    "\n",
    "    cross_tab.columns = [\"Not Angry\", \"Angry\", \"row_totals\"]\n",
    "    cross_tab.index = [\"Female\", \"Male\", \"col_totals\"]\n",
    "    observed = cross_tab.iloc[0:2,0:2]   # Get table without totals for later use\n",
    "\n",
    "    expected =  np.outer(cross_tab[\"row_totals\"][0:2],\n",
    "                     cross_tab.loc[\"col_totals\"][0:2]) / len(frame[frame.AU05_r_c == index])\n",
    "\n",
    "    expected = pd.DataFrame(expected)\n",
    "    expected.columns = [\"Not Angry\", \"Angry\"]\n",
    "    expected.index = [\"Female\", \"Male\"]\n",
    "\n",
    "    if (expected>=5).sum().sum() == 4:\n",
    "        chi_squared_stat = (((observed-expected)**2)/expected).sum().sum()\n",
    "        p_value = 1 - stats.chi2.cdf(x=chi_squared_stat, df=1)\n",
    "    else:\n",
    "        chi_squared_stat = np.nan\n",
    "        p_value = np.nan\n",
    "\n",
    "    print(chi_squared_stat)\n",
    "    \n",
    "    result_df.loc[index, \"p-value\"] = p_value\n",
    "result_df"
   ]
  },
  {
   "cell_type": "code",
   "execution_count": 132,
   "metadata": {},
   "outputs": [
    {
     "name": "stdout",
     "output_type": "stream",
     "text": [
      "62.28221686805979\n",
      "132.11479977060264\n"
     ]
    },
    {
     "data": {
      "text/html": [
       "<div>\n",
       "<style scoped>\n",
       "    .dataframe tbody tr th:only-of-type {\n",
       "        vertical-align: middle;\n",
       "    }\n",
       "\n",
       "    .dataframe tbody tr th {\n",
       "        vertical-align: top;\n",
       "    }\n",
       "\n",
       "    .dataframe thead th {\n",
       "        text-align: right;\n",
       "    }\n",
       "</style>\n",
       "<table border=\"1\" class=\"dataframe\">\n",
       "  <thead>\n",
       "    <tr style=\"text-align: right;\">\n",
       "      <th></th>\n",
       "      <th>male</th>\n",
       "      <th>female</th>\n",
       "      <th>diff</th>\n",
       "      <th>p-value</th>\n",
       "    </tr>\n",
       "    <tr>\n",
       "      <th>AU07_c</th>\n",
       "      <th></th>\n",
       "      <th></th>\n",
       "      <th></th>\n",
       "      <th></th>\n",
       "    </tr>\n",
       "  </thead>\n",
       "  <tbody>\n",
       "    <tr>\n",
       "      <th>0.0</th>\n",
       "      <td>0.052251</td>\n",
       "      <td>0.016693</td>\n",
       "      <td>-0.035558</td>\n",
       "      <td>2.997602e-15</td>\n",
       "    </tr>\n",
       "    <tr>\n",
       "      <th>1.0</th>\n",
       "      <td>0.127421</td>\n",
       "      <td>0.046233</td>\n",
       "      <td>-0.081188</td>\n",
       "      <td>0.000000e+00</td>\n",
       "    </tr>\n",
       "  </tbody>\n",
       "</table>\n",
       "</div>"
      ],
      "text/plain": [
       "            male    female      diff       p-value\n",
       "AU07_c                                            \n",
       "0.0     0.052251  0.016693 -0.035558  2.997602e-15\n",
       "1.0     0.127421  0.046233 -0.081188  0.000000e+00"
      ]
     },
     "execution_count": 132,
     "metadata": {},
     "output_type": "execute_result"
    }
   ],
   "source": [
    "result_df = pd.concat([pd.crosstab(male_frame.AU07_c, male_frame.Angry, normalize = 'index')[1], pd.crosstab(female_frame.AU07_c, female_frame.Angry, normalize = 'index')[1]], axis=1)\n",
    "result_df.columns = ['male', 'female']\n",
    "result_df['diff'] = result_df.female - result_df.male\n",
    "for index, row in result_df.iterrows():\n",
    "    cross_tab = pd.crosstab(frame[frame.AU07_c == index].gender_preds, frame[frame.AU07_c == index].Angry, margins = True)\n",
    "\n",
    "    cross_tab.columns = [\"Not Angry\", \"Angry\", \"row_totals\"]\n",
    "    cross_tab.index = [\"Female\", \"Male\", \"col_totals\"]\n",
    "    observed = cross_tab.iloc[0:2,0:2]   # Get table without totals for later use\n",
    "\n",
    "    expected =  np.outer(cross_tab[\"row_totals\"][0:2],\n",
    "                     cross_tab.loc[\"col_totals\"][0:2]) / len(frame[frame.AU07_c == index])\n",
    "\n",
    "    expected = pd.DataFrame(expected)\n",
    "    expected.columns = [\"Not Angry\", \"Angry\"]\n",
    "    expected.index = [\"Female\", \"Male\"]\n",
    "\n",
    "    if (expected>=5).sum().sum() == 4:\n",
    "        chi_squared_stat = (((observed-expected)**2)/expected).sum().sum()\n",
    "        p_value = 1 - stats.chi2.cdf(x=chi_squared_stat, df=1)\n",
    "    else:\n",
    "        chi_squared_stat = np.nan\n",
    "        p_value = np.nan\n",
    "\n",
    "    print(chi_squared_stat)\n",
    "    \n",
    "    result_df.loc[index, \"p-value\"] = p_value\n",
    "result_df"
   ]
  },
  {
   "cell_type": "code",
   "execution_count": 133,
   "metadata": {},
   "outputs": [
    {
     "name": "stdout",
     "output_type": "stream",
     "text": [
      "137.36217635298308\n",
      "66.89541366419873\n"
     ]
    },
    {
     "data": {
      "text/html": [
       "<div>\n",
       "<style scoped>\n",
       "    .dataframe tbody tr th:only-of-type {\n",
       "        vertical-align: middle;\n",
       "    }\n",
       "\n",
       "    .dataframe tbody tr th {\n",
       "        vertical-align: top;\n",
       "    }\n",
       "\n",
       "    .dataframe thead th {\n",
       "        text-align: right;\n",
       "    }\n",
       "</style>\n",
       "<table border=\"1\" class=\"dataframe\">\n",
       "  <thead>\n",
       "    <tr style=\"text-align: right;\">\n",
       "      <th></th>\n",
       "      <th>male</th>\n",
       "      <th>female</th>\n",
       "      <th>diff</th>\n",
       "      <th>p-value</th>\n",
       "    </tr>\n",
       "    <tr>\n",
       "      <th>AU23_c</th>\n",
       "      <th></th>\n",
       "      <th></th>\n",
       "      <th></th>\n",
       "      <th></th>\n",
       "    </tr>\n",
       "  </thead>\n",
       "  <tbody>\n",
       "    <tr>\n",
       "      <th>0.0</th>\n",
       "      <td>0.088775</td>\n",
       "      <td>0.030624</td>\n",
       "      <td>-0.058151</td>\n",
       "      <td>0.000000e+00</td>\n",
       "    </tr>\n",
       "    <tr>\n",
       "      <th>1.0</th>\n",
       "      <td>0.097334</td>\n",
       "      <td>0.031690</td>\n",
       "      <td>-0.065644</td>\n",
       "      <td>3.330669e-16</td>\n",
       "    </tr>\n",
       "  </tbody>\n",
       "</table>\n",
       "</div>"
      ],
      "text/plain": [
       "            male    female      diff       p-value\n",
       "AU23_c                                            \n",
       "0.0     0.088775  0.030624 -0.058151  0.000000e+00\n",
       "1.0     0.097334  0.031690 -0.065644  3.330669e-16"
      ]
     },
     "execution_count": 133,
     "metadata": {},
     "output_type": "execute_result"
    }
   ],
   "source": [
    "result_df = pd.concat([pd.crosstab(male_frame.AU23_c, male_frame.Angry, normalize = 'index')[1], pd.crosstab(female_frame.AU23_c, female_frame.Angry, normalize = 'index')[1]], axis=1)\n",
    "result_df.columns = ['male', 'female']\n",
    "result_df['diff'] = result_df.female - result_df.male\n",
    "for index, row in result_df.iterrows():\n",
    "    cross_tab = pd.crosstab(frame[frame.AU23_c == index].gender_preds, frame[frame.AU23_c == index].Angry, margins = True)\n",
    "\n",
    "    cross_tab.columns = [\"Not Angry\", \"Angry\", \"row_totals\"]\n",
    "    cross_tab.index = [\"Female\", \"Male\", \"col_totals\"]\n",
    "    observed = cross_tab.iloc[0:2,0:2]   # Get table without totals for later use\n",
    "\n",
    "    expected =  np.outer(cross_tab[\"row_totals\"][0:2],\n",
    "                     cross_tab.loc[\"col_totals\"][0:2]) / len(frame[frame.AU23_c == index])\n",
    "\n",
    "    expected = pd.DataFrame(expected)\n",
    "    expected.columns = [\"Not Angry\", \"Angry\"]\n",
    "    expected.index = [\"Female\", \"Male\"]\n",
    "\n",
    "    if (expected>=5).sum().sum() == 4:\n",
    "        chi_squared_stat = (((observed-expected)**2)/expected).sum().sum()\n",
    "        p_value = 1 - stats.chi2.cdf(x=chi_squared_stat, df=1)\n",
    "    else:\n",
    "        chi_squared_stat = np.nan\n",
    "        p_value = np.nan\n",
    "\n",
    "    print(chi_squared_stat)\n",
    "    \n",
    "    result_df.loc[index, \"p-value\"] = p_value\n",
    "result_df"
   ]
  },
  {
   "cell_type": "code",
   "execution_count": 137,
   "metadata": {
    "scrolled": true
   },
   "outputs": [
    {
     "name": "stdout",
     "output_type": "stream",
     "text": [
      "49.80300063588663\n",
      "13.909131072225987\n",
      "70.97251495756615\n",
      "43.5538443428957\n",
      "nan\n"
     ]
    },
    {
     "ename": "ValueError",
     "evalue": "Length mismatch: Expected axis has 2 elements, new values have 3 elements",
     "output_type": "error",
     "traceback": [
      "\u001b[0;31m---------------------------------------------------------------------------\u001b[0m",
      "\u001b[0;31mValueError\u001b[0m                                Traceback (most recent call last)",
      "\u001b[0;32m<ipython-input-137-1de786444efd>\u001b[0m in \u001b[0;36m<module>\u001b[0;34m\u001b[0m\n\u001b[1;32m      5\u001b[0m     \u001b[0mcross_tab\u001b[0m \u001b[0;34m=\u001b[0m \u001b[0mpd\u001b[0m\u001b[0;34m.\u001b[0m\u001b[0mcrosstab\u001b[0m\u001b[0;34m(\u001b[0m\u001b[0mframe\u001b[0m\u001b[0;34m[\u001b[0m\u001b[0mframe\u001b[0m\u001b[0;34m.\u001b[0m\u001b[0mAU4_5_7_23_r_c\u001b[0m \u001b[0;34m==\u001b[0m \u001b[0mindex\u001b[0m\u001b[0;34m]\u001b[0m\u001b[0;34m.\u001b[0m\u001b[0mgender_preds\u001b[0m\u001b[0;34m,\u001b[0m \u001b[0mframe\u001b[0m\u001b[0;34m[\u001b[0m\u001b[0mframe\u001b[0m\u001b[0;34m.\u001b[0m\u001b[0mAU4_5_7_23_r_c\u001b[0m \u001b[0;34m==\u001b[0m \u001b[0mindex\u001b[0m\u001b[0;34m]\u001b[0m\u001b[0;34m.\u001b[0m\u001b[0mAngry\u001b[0m\u001b[0;34m,\u001b[0m \u001b[0mmargins\u001b[0m \u001b[0;34m=\u001b[0m \u001b[0;32mTrue\u001b[0m\u001b[0;34m)\u001b[0m\u001b[0;34m\u001b[0m\u001b[0;34m\u001b[0m\u001b[0m\n\u001b[1;32m      6\u001b[0m \u001b[0;34m\u001b[0m\u001b[0m\n\u001b[0;32m----> 7\u001b[0;31m     \u001b[0mcross_tab\u001b[0m\u001b[0;34m.\u001b[0m\u001b[0mcolumns\u001b[0m \u001b[0;34m=\u001b[0m \u001b[0;34m[\u001b[0m\u001b[0;34m\"Not Angry\"\u001b[0m\u001b[0;34m,\u001b[0m \u001b[0;34m\"Angry\"\u001b[0m\u001b[0;34m,\u001b[0m \u001b[0;34m\"row_totals\"\u001b[0m\u001b[0;34m]\u001b[0m\u001b[0;34m\u001b[0m\u001b[0;34m\u001b[0m\u001b[0m\n\u001b[0m\u001b[1;32m      8\u001b[0m     \u001b[0mcross_tab\u001b[0m\u001b[0;34m.\u001b[0m\u001b[0mindex\u001b[0m \u001b[0;34m=\u001b[0m \u001b[0;34m[\u001b[0m\u001b[0;34m\"Female\"\u001b[0m\u001b[0;34m,\u001b[0m \u001b[0;34m\"Male\"\u001b[0m\u001b[0;34m,\u001b[0m \u001b[0;34m\"col_totals\"\u001b[0m\u001b[0;34m]\u001b[0m\u001b[0;34m\u001b[0m\u001b[0;34m\u001b[0m\u001b[0m\n\u001b[1;32m      9\u001b[0m     \u001b[0mobserved\u001b[0m \u001b[0;34m=\u001b[0m \u001b[0mcross_tab\u001b[0m\u001b[0;34m.\u001b[0m\u001b[0miloc\u001b[0m\u001b[0;34m[\u001b[0m\u001b[0;36m0\u001b[0m\u001b[0;34m:\u001b[0m\u001b[0;36m2\u001b[0m\u001b[0;34m,\u001b[0m\u001b[0;36m0\u001b[0m\u001b[0;34m:\u001b[0m\u001b[0;36m2\u001b[0m\u001b[0;34m]\u001b[0m   \u001b[0;31m# Get table without totals for later use\u001b[0m\u001b[0;34m\u001b[0m\u001b[0;34m\u001b[0m\u001b[0m\n",
      "\u001b[0;32m/usr/local/lib/python3.8/dist-packages/pandas/core/generic.py\u001b[0m in \u001b[0;36m__setattr__\u001b[0;34m(self, name, value)\u001b[0m\n\u001b[1;32m   5285\u001b[0m         \u001b[0;32mtry\u001b[0m\u001b[0;34m:\u001b[0m\u001b[0;34m\u001b[0m\u001b[0;34m\u001b[0m\u001b[0m\n\u001b[1;32m   5286\u001b[0m             \u001b[0mobject\u001b[0m\u001b[0;34m.\u001b[0m\u001b[0m__getattribute__\u001b[0m\u001b[0;34m(\u001b[0m\u001b[0mself\u001b[0m\u001b[0;34m,\u001b[0m \u001b[0mname\u001b[0m\u001b[0;34m)\u001b[0m\u001b[0;34m\u001b[0m\u001b[0;34m\u001b[0m\u001b[0m\n\u001b[0;32m-> 5287\u001b[0;31m             \u001b[0;32mreturn\u001b[0m \u001b[0mobject\u001b[0m\u001b[0;34m.\u001b[0m\u001b[0m__setattr__\u001b[0m\u001b[0;34m(\u001b[0m\u001b[0mself\u001b[0m\u001b[0;34m,\u001b[0m \u001b[0mname\u001b[0m\u001b[0;34m,\u001b[0m \u001b[0mvalue\u001b[0m\u001b[0;34m)\u001b[0m\u001b[0;34m\u001b[0m\u001b[0;34m\u001b[0m\u001b[0m\n\u001b[0m\u001b[1;32m   5288\u001b[0m         \u001b[0;32mexcept\u001b[0m \u001b[0mAttributeError\u001b[0m\u001b[0;34m:\u001b[0m\u001b[0;34m\u001b[0m\u001b[0;34m\u001b[0m\u001b[0m\n\u001b[1;32m   5289\u001b[0m             \u001b[0;32mpass\u001b[0m\u001b[0;34m\u001b[0m\u001b[0;34m\u001b[0m\u001b[0m\n",
      "\u001b[0;32mpandas/_libs/properties.pyx\u001b[0m in \u001b[0;36mpandas._libs.properties.AxisProperty.__set__\u001b[0;34m()\u001b[0m\n",
      "\u001b[0;32m/usr/local/lib/python3.8/dist-packages/pandas/core/generic.py\u001b[0m in \u001b[0;36m_set_axis\u001b[0;34m(self, axis, labels)\u001b[0m\n\u001b[1;32m    659\u001b[0m \u001b[0;34m\u001b[0m\u001b[0m\n\u001b[1;32m    660\u001b[0m     \u001b[0;32mdef\u001b[0m \u001b[0m_set_axis\u001b[0m\u001b[0;34m(\u001b[0m\u001b[0mself\u001b[0m\u001b[0;34m,\u001b[0m \u001b[0maxis\u001b[0m\u001b[0;34m,\u001b[0m \u001b[0mlabels\u001b[0m\u001b[0;34m)\u001b[0m \u001b[0;34m->\u001b[0m \u001b[0;32mNone\u001b[0m\u001b[0;34m:\u001b[0m\u001b[0;34m\u001b[0m\u001b[0;34m\u001b[0m\u001b[0m\n\u001b[0;32m--> 661\u001b[0;31m         \u001b[0mself\u001b[0m\u001b[0;34m.\u001b[0m\u001b[0m_data\u001b[0m\u001b[0;34m.\u001b[0m\u001b[0mset_axis\u001b[0m\u001b[0;34m(\u001b[0m\u001b[0maxis\u001b[0m\u001b[0;34m,\u001b[0m \u001b[0mlabels\u001b[0m\u001b[0;34m)\u001b[0m\u001b[0;34m\u001b[0m\u001b[0;34m\u001b[0m\u001b[0m\n\u001b[0m\u001b[1;32m    662\u001b[0m         \u001b[0mself\u001b[0m\u001b[0;34m.\u001b[0m\u001b[0m_clear_item_cache\u001b[0m\u001b[0;34m(\u001b[0m\u001b[0;34m)\u001b[0m\u001b[0;34m\u001b[0m\u001b[0;34m\u001b[0m\u001b[0m\n\u001b[1;32m    663\u001b[0m \u001b[0;34m\u001b[0m\u001b[0m\n",
      "\u001b[0;32m/usr/local/lib/python3.8/dist-packages/pandas/core/internals/managers.py\u001b[0m in \u001b[0;36mset_axis\u001b[0;34m(self, axis, new_labels)\u001b[0m\n\u001b[1;32m    175\u001b[0m \u001b[0;34m\u001b[0m\u001b[0m\n\u001b[1;32m    176\u001b[0m         \u001b[0;32mif\u001b[0m \u001b[0mnew_len\u001b[0m \u001b[0;34m!=\u001b[0m \u001b[0mold_len\u001b[0m\u001b[0;34m:\u001b[0m\u001b[0;34m\u001b[0m\u001b[0;34m\u001b[0m\u001b[0m\n\u001b[0;32m--> 177\u001b[0;31m             raise ValueError(\n\u001b[0m\u001b[1;32m    178\u001b[0m                 \u001b[0;34mf\"Length mismatch: Expected axis has {old_len} elements, new \"\u001b[0m\u001b[0;34m\u001b[0m\u001b[0;34m\u001b[0m\u001b[0m\n\u001b[1;32m    179\u001b[0m                 \u001b[0;34mf\"values have {new_len} elements\"\u001b[0m\u001b[0;34m\u001b[0m\u001b[0;34m\u001b[0m\u001b[0m\n",
      "\u001b[0;31mValueError\u001b[0m: Length mismatch: Expected axis has 2 elements, new values have 3 elements"
     ]
    }
   ],
   "source": [
    "result_df = pd.concat([pd.crosstab(male_frame.AU4_5_7_23_r_c, male_frame.Angry, normalize = 'index')[1], pd.crosstab(female_frame.AU4_5_7_23_r_c, female_frame.Angry, normalize = 'index')[1]], axis=1)\n",
    "result_df.columns = ['male', 'female']\n",
    "result_df['diff'] = result_df.female - result_df.male\n",
    "for index, row in result_df.iterrows():\n",
    "    cross_tab = pd.crosstab(frame[frame.AU4_5_7_23_r_c == index].gender_preds, frame[frame.AU4_5_7_23_r_c == index].Angry, margins = True)\n",
    "\n",
    "    cross_tab.columns = [\"Not Angry\", \"Angry\", \"row_totals\"]\n",
    "    cross_tab.index = [\"Female\", \"Male\", \"col_totals\"]\n",
    "    observed = cross_tab.iloc[0:2,0:2]   # Get table without totals for later use\n",
    "\n",
    "    expected =  np.outer(cross_tab[\"row_totals\"][0:2],\n",
    "                     cross_tab.loc[\"col_totals\"][0:2]) / len(frame[frame.AU4_5_7_23_r_c == index])\n",
    "\n",
    "    expected = pd.DataFrame(expected)\n",
    "    expected.columns = [\"Not Angry\", \"Angry\"]\n",
    "    expected.index = [\"Female\", \"Male\"]\n",
    "\n",
    "    if (expected>=5).sum().sum() == 4:\n",
    "        chi_squared_stat = (((observed-expected)**2)/expected).sum().sum()\n",
    "        p_value = 1 - stats.chi2.cdf(x=chi_squared_stat, df=1)\n",
    "    else:\n",
    "        chi_squared_stat = np.nan\n",
    "        p_value = np.nan\n",
    "\n",
    "    print(chi_squared_stat)\n",
    "    \n",
    "    result_df.loc[index, \"p-value\"] = p_value\n",
    "result_df"
   ]
  },
  {
   "cell_type": "code",
   "execution_count": 163,
   "metadata": {},
   "outputs": [
    {
     "data": {
      "image/png": "[encoded data removed]",
      "text/plain": [
       "<Figure size 432x288 with 1 Axes>"
      ]
     },
     "metadata": {
      "needs_background": "light"
     },
     "output_type": "display_data"
    }
   ],
   "source": [
    "intensities_m, proportions_m = proportion_calc(male_frame.AU04_r, male_frame.Angry, 0.035, 25)\n",
    "plt.scatter(intensities_m, proportions_m, label=\"Male\", marker = \"p\", alpha=0.8, s=30, c='r')#,edgecolors='k')\n",
    "\n",
    "intensities_f, proportions_f = proportion_calc(female_frame.AU04_r, female_frame.Angry, 0.045, 30)\n",
    "plt.scatter(intensities_f, proportions_f, label=\"Female\", marker = \"*\", alpha=0.8, s=30, c='#089BDF')#,edgecolors='k')\n",
    "\n",
    "\n",
    "plt.xlabel('AU4 intensity', fontsize = 16)\n",
    "plt.ylabel('Proportion of \"Angry\" Labels', fontsize = 16)\n",
    "plt.title('P(Angry|AU4) for RAF-DB', fontsize = 18)\n",
    "plt.legend(fontsize = 16)\n",
    "plt.ylim(0, np.max(proportions_m + proportions_f) + 0.02)\n",
    "plt.savefig('RAFDB_AU4.pdf')\n",
    "plt.show()"
   ]
  },
  {
   "cell_type": "code",
   "execution_count": 250,
   "metadata": {},
   "outputs": [
    {
     "data": {
      "image/png": "[encoded data removed]",
      "text/plain": [
       "<Figure size 432x288 with 1 Axes>"
      ]
     },
     "metadata": {
      "needs_background": "light"
     },
     "output_type": "display_data"
    }
   ],
   "source": [
    "intensities_m, proportions_m = proportion_calc(male_frame.AU05_r, male_frame.Angry, 0.03, 20)\n",
    "plt.scatter(intensities_m, proportions_m, label=\"Male\", marker = \"p\", alpha=0.8, s=30, c='r')#,edgecolors='k')\n",
    "\n",
    "intensities_f, proportions_f = proportion_calc(female_frame.AU05_r, female_frame.Angry, 0.03, 20)\n",
    "plt.scatter(intensities_f, proportions_f, label=\"Female\", marker = \"*\", alpha=0.8, s=30, c='#089BDF')#,edgecolors='k')\n",
    "\n",
    "\n",
    "plt.xlabel('AU5 intensity', fontsize = 16)\n",
    "plt.ylabel('Proportion of \"Angry\" Labels', fontsize = 16)\n",
    "plt.title('P(Angry|AU5) for RAF-DB', fontsize = 18)\n",
    "plt.legend(fontsize = 16)\n",
    "plt.ylim(0.005, 0.16)\n",
    "plt.savefig('RAFDB_AU5.pdf') \n",
    "plt.show()"
   ]
  },
  {
   "cell_type": "code",
   "execution_count": 277,
   "metadata": {
    "scrolled": true
   },
   "outputs": [
    {
     "data": {
      "image/png": "[encoded data removed]",
      "text/plain": [
       "<Figure size 432x288 with 1 Axes>"
      ]
     },
     "metadata": {
      "needs_background": "light"
     },
     "output_type": "display_data"
    }
   ],
   "source": [
    "intensities_m, proportions_m = proportion_calc(male_frame.AU07_r, male_frame.Angry, 0.07, 30)\n",
    "plt.scatter(intensities_m, proportions_m, label=\"Male\", marker = \"p\", alpha=0.8, s=30, c='r')#,edgecolors='k')\n",
    "\n",
    "intensities_f, proportions_f = proportion_calc(female_frame.AU07_r, female_frame.Angry, 0.06, 30)\n",
    "plt.scatter(intensities_f, proportions_f, label=\"Female\", marker = \"*\", alpha=0.8, s=30, c='#089BDF')#,edgecolors='k')\n",
    "\n",
    "\n",
    "plt.xlabel('AU7 intensity', fontsize = 16)\n",
    "plt.ylabel('Proportion of \"Angry\" Labels', fontsize = 16)\n",
    "plt.title('P(Angry|AU7) for RAF-DB', fontsize = 18)\n",
    "plt.legend(fontsize = 16)\n",
    "plt.ylim(-0.01, np.max(proportions_m + proportions_f) + 0.02)\n",
    "plt.savefig('RAFDB_AU7.pdf') \n",
    "plt.show()"
   ]
  },
  {
   "cell_type": "code",
   "execution_count": 312,
   "metadata": {},
   "outputs": [
    {
     "data": {
      "image/png": "[encoded data removed]",
      "text/plain": [
       "<Figure size 432x288 with 1 Axes>"
      ]
     },
     "metadata": {
      "needs_background": "light"
     },
     "output_type": "display_data"
    }
   ],
   "source": [
    "intensities_m, proportions_m = proportion_calc(male_frame.AU23_r, male_frame.Angry, 0.012, 20)\n",
    "plt.scatter(intensities_m, proportions_m, label=\"Male\", marker = \"p\", alpha=0.8, s=30, c='r')#,edgecolors='k')\n",
    "\n",
    "intensities_f, proportions_f = proportion_calc(female_frame.AU23_r, female_frame.Angry, 0.015, 20)\n",
    "plt.scatter(intensities_f, proportions_f, label=\"Female\", marker = \"*\", alpha=0.8, s=30, c='#089BDF')#,edgecolors='k')\n",
    "\n",
    "\n",
    "plt.xlabel('AU23 intensity', fontsize = 16)\n",
    "plt.ylabel('Proportion of \"Angry\" Labels', fontsize = 16)\n",
    "plt.title('P(Angry|AU23) for RAF-DB', fontsize = 18)\n",
    "plt.legend(fontsize = 16)\n",
    "plt.ylim(0.005, np.max(proportions_m + proportions_f) + 0.02)\n",
    "plt.savefig('RAFDB_AU23.pdf') \n",
    "plt.show()"
   ]
  },
  {
   "cell_type": "markdown",
   "metadata": {},
   "source": [
    "To formally show that there is a significant difference between the two logistic lines, we need logistic regression:"
   ]
  },
  {
   "cell_type": "code",
   "execution_count": 313,
   "metadata": {
    "scrolled": false
   },
   "outputs": [
    {
     "name": "stdout",
     "output_type": "stream",
     "text": [
      "                 Generalized Linear Model Regression Results                  \n",
      "==============================================================================\n",
      "Dep. Variable:                  Angry   No. Observations:                12214\n",
      "Model:                            GLM   Df Residuals:                    12208\n",
      "Model Family:                Binomial   Df Model:                            5\n",
      "Link Function:                  logit   Scale:                          1.0000\n",
      "Method:                          IRLS   Log-Likelihood:                -2353.4\n",
      "Date:                Fri, 15 Jan 2021   Deviance:                       4706.8\n",
      "Time:                        21:32:21   Pearson chi2:                 1.27e+04\n",
      "No. Iterations:                     7                                         \n",
      "Covariance Type:            nonrobust                                         \n",
      "========================================================================================\n",
      "                           coef    std err          z      P>|z|      [0.025      0.975]\n",
      "----------------------------------------------------------------------------------------\n",
      "Intercept               -3.9637      0.091    -43.748      0.000      -4.141      -3.786\n",
      "gender_preds[T.Male]     1.1642      0.086     13.544      0.000       0.996       1.333\n",
      "AU04_r                   0.4858      0.050      9.676      0.000       0.387       0.584\n",
      "AU05_r                  -0.8905      0.140     -6.359      0.000      -1.165      -0.616\n",
      "AU07_r                   0.4463      0.038     11.677      0.000       0.371       0.521\n",
      "AU23_r                   0.1107      0.152      0.727      0.467      -0.188       0.409\n",
      "========================================================================================\n"
     ]
    }
   ],
   "source": [
    "formula = 'Angry ~ AU04_r + AU05_r + AU07_r + AU23_r + gender_preds'\n",
    "model = smf.glm(formula = formula, data=frame, family=sm.families.Binomial())\n",
    "result = model.fit()\n",
    "print(result.summary())"
   ]
  },
  {
   "cell_type": "code",
   "execution_count": 314,
   "metadata": {
    "scrolled": false
   },
   "outputs": [
    {
     "name": "stdout",
     "output_type": "stream",
     "text": [
      "                 Generalized Linear Model Regression Results                  \n",
      "==============================================================================\n",
      "Dep. Variable:                  Angry   No. Observations:                12214\n",
      "Model:                            GLM   Df Residuals:                    12204\n",
      "Model Family:                Binomial   Df Model:                            9\n",
      "Link Function:                  logit   Scale:                          1.0000\n",
      "Method:                          IRLS   Log-Likelihood:                -2345.9\n",
      "Date:                Fri, 15 Jan 2021   Deviance:                       4691.9\n",
      "Time:                        21:32:21   Pearson chi2:                 1.20e+04\n",
      "No. Iterations:                     7                                         \n",
      "Covariance Type:            nonrobust                                         \n",
      "===============================================================================================\n",
      "                                  coef    std err          z      P>|z|      [0.025      0.975]\n",
      "-----------------------------------------------------------------------------------------------\n",
      "Intercept                      -3.7847      0.114    -33.130      0.000      -4.009      -3.561\n",
      "gender_preds[T.Male]            0.8794      0.145      6.059      0.000       0.595       1.164\n",
      "AU04_r                          0.2622      0.088      2.988      0.003       0.090       0.434\n",
      "AU04_r:gender_preds[T.Male]     0.3628      0.109      3.342      0.001       0.150       0.576\n",
      "AU05_r                         -0.7816      0.217     -3.603      0.000      -1.207      -0.356\n",
      "AU05_r:gender_preds[T.Male]    -0.2026      0.285     -0.712      0.476      -0.760       0.355\n",
      "AU07_r                          0.4280      0.062      6.919      0.000       0.307       0.549\n",
      "AU07_r:gender_preds[T.Male]     0.0362      0.079      0.458      0.647      -0.119       0.191\n",
      "AU23_r                         -0.2260      0.323     -0.699      0.485      -0.859       0.408\n",
      "AU23_r:gender_preds[T.Male]     0.4491      0.367      1.224      0.221      -0.270       1.168\n",
      "===============================================================================================\n"
     ]
    }
   ],
   "source": [
    "formula = 'Angry ~ (AU04_r + AU05_r + AU07_r + AU23_r) * gender_preds'\n",
    "model = smf.glm(formula = formula, data=frame, family=sm.families.Binomial())\n",
    "result = model.fit()\n",
    "print(result.summary())"
   ]
  },
  {
   "cell_type": "code",
   "execution_count": 315,
   "metadata": {
    "scrolled": true
   },
   "outputs": [
    {
     "name": "stdout",
     "output_type": "stream",
     "text": [
      "                 Generalized Linear Model Regression Results                  \n",
      "==============================================================================\n",
      "Dep. Variable:                  Angry   No. Observations:                12214\n",
      "Model:                            GLM   Df Residuals:                    12210\n",
      "Model Family:                Binomial   Df Model:                            3\n",
      "Link Function:                  logit   Scale:                          1.0000\n",
      "Method:                          IRLS   Log-Likelihood:                -2421.1\n",
      "Date:                Fri, 15 Jan 2021   Deviance:                       4842.1\n",
      "Time:                        21:32:22   Pearson chi2:                 1.20e+04\n",
      "No. Iterations:                     7                                         \n",
      "Covariance Type:            nonrobust                                         \n",
      "=============================================================================================================================\n",
      "                                                                coef    std err          z      P>|z|      [0.025      0.975]\n",
      "-----------------------------------------------------------------------------------------------------------------------------\n",
      "Intercept                                                    -3.9356      0.111    -35.371      0.000      -4.154      -3.718\n",
      "gender_preds[T.Male]                                          0.8831      0.141      6.263      0.000       0.607       1.159\n",
      "I(AU04_r + AU05_r + AU07_r + AU23_r)                          0.2895      0.045      6.458      0.000       0.202       0.377\n",
      "I(AU04_r + AU05_r + AU07_r + AU23_r):gender_preds[T.Male]     0.1400      0.056      2.483      0.013       0.030       0.251\n",
      "=============================================================================================================================\n"
     ]
    }
   ],
   "source": [
    "formula = 'Angry ~ I(AU04_r + AU05_r + AU07_r + AU23_r) * gender_preds'\n",
    "model = smf.glm(formula = formula, data=frame, family=sm.families.Binomial())\n",
    "result = model.fit()\n",
    "print(result.summary())"
   ]
  },
  {
   "cell_type": "markdown",
   "metadata": {},
   "source": [
    "# AffectNet Manual"
   ]
  },
  {
   "cell_type": "raw",
   "metadata": {},
   "source": [
    "Emotion categories:\n",
    "Eleven annotated emotions are provided for images and indexed as follows:\n",
    "0: Neutral, 1: Happiness, 2: Sadness, 3: Surprise, 4: Fear, 5: Disgust, 6: Anger,\n",
    "7: Contempt, 8: None, 9: Uncertain, 10: No-Face"
   ]
  },
  {
   "cell_type": "code",
   "execution_count": 316,
   "metadata": {},
   "outputs": [
    {
     "name": "stdout",
     "output_type": "stream",
     "text": [
      "(35694, 59)\n"
     ]
    },
    {
     "data": {
      "text/html": [
       "<div>\n",
       "<style scoped>\n",
       "    .dataframe tbody tr th:only-of-type {\n",
       "        vertical-align: middle;\n",
       "    }\n",
       "\n",
       "    .dataframe tbody tr th {\n",
       "        vertical-align: top;\n",
       "    }\n",
       "\n",
       "    .dataframe thead th {\n",
       "        text-align: right;\n",
       "    }\n",
       "</style>\n",
       "<table border=\"1\" class=\"dataframe\">\n",
       "  <thead>\n",
       "    <tr style=\"text-align: right;\">\n",
       "      <th></th>\n",
       "      <th>ImageName</th>\n",
       "      <th>Expression</th>\n",
       "      <th>Happy</th>\n",
       "      <th>race_preds</th>\n",
       "      <th>gender_preds</th>\n",
       "      <th>age_preds</th>\n",
       "      <th>race_scores</th>\n",
       "      <th>gender_scores</th>\n",
       "      <th>age_scores</th>\n",
       "      <th>face</th>\n",
       "      <th>...</th>\n",
       "      <th>AU05_r_c</th>\n",
       "      <th>AU06_r_c</th>\n",
       "      <th>AU09_r_c</th>\n",
       "      <th>AU10_r_c</th>\n",
       "      <th>AU12_r_c</th>\n",
       "      <th>AU15_r_c</th>\n",
       "      <th>AU17_r_c</th>\n",
       "      <th>AU20_r_c</th>\n",
       "      <th>AU25_r_c</th>\n",
       "      <th>AU26_r_c</th>\n",
       "    </tr>\n",
       "  </thead>\n",
       "  <tbody>\n",
       "    <tr>\n",
       "      <th>0</th>\n",
       "      <td>0002074f0d5dafbb7983d509964312d04c612d9d425577...</td>\n",
       "      <td>10</td>\n",
       "      <td>0</td>\n",
       "      <td>White</td>\n",
       "      <td>Female</td>\n",
       "      <td>60-69</td>\n",
       "      <td>[0.425075   0.02112318 0.25978056 0.00382649 0...</td>\n",
       "      <td>[0.09870926 0.9012907 ]</td>\n",
       "      <td>[5.3278323e-05 5.1294203e-04 3.1685282e-03 2.4...</td>\n",
       "      <td>0</td>\n",
       "      <td>...</td>\n",
       "      <td>0</td>\n",
       "      <td>0</td>\n",
       "      <td>0</td>\n",
       "      <td>1</td>\n",
       "      <td>0</td>\n",
       "      <td>0</td>\n",
       "      <td>0</td>\n",
       "      <td>0</td>\n",
       "      <td>1</td>\n",
       "      <td>0</td>\n",
       "    </tr>\n",
       "    <tr>\n",
       "      <th>1</th>\n",
       "      <td>000bdb0a8f54725d1424bb38d626b1d8bf17f001ad2406...</td>\n",
       "      <td>8</td>\n",
       "      <td>0</td>\n",
       "      <td>Black</td>\n",
       "      <td>Male</td>\n",
       "      <td>20-29</td>\n",
       "      <td>[3.52906886e-06 9.99552011e-01 1.59864125e-04 ...</td>\n",
       "      <td>[9.9954259e-01 4.5739944e-04]</td>\n",
       "      <td>[5.6344652e-07 4.1122996e-05 1.3004625e-02 6.6...</td>\n",
       "      <td>0</td>\n",
       "      <td>...</td>\n",
       "      <td>0</td>\n",
       "      <td>1</td>\n",
       "      <td>0</td>\n",
       "      <td>1</td>\n",
       "      <td>1</td>\n",
       "      <td>0</td>\n",
       "      <td>0</td>\n",
       "      <td>0</td>\n",
       "      <td>1</td>\n",
       "      <td>0</td>\n",
       "    </tr>\n",
       "    <tr>\n",
       "      <th>2</th>\n",
       "      <td>000c10a8f6735212d71eb54298bc47ea56dc08e64ed2ca...</td>\n",
       "      <td>0</td>\n",
       "      <td>0</td>\n",
       "      <td>White</td>\n",
       "      <td>Male</td>\n",
       "      <td>40-49</td>\n",
       "      <td>[9.3397456e-01 4.9433287e-04 3.7014667e-02 4.5...</td>\n",
       "      <td>[0.99797386 0.00202617]</td>\n",
       "      <td>[8.6898144e-05 1.5486187e-04 2.0614783e-03 2.4...</td>\n",
       "      <td>0</td>\n",
       "      <td>...</td>\n",
       "      <td>0</td>\n",
       "      <td>0</td>\n",
       "      <td>0</td>\n",
       "      <td>1</td>\n",
       "      <td>0</td>\n",
       "      <td>0</td>\n",
       "      <td>0</td>\n",
       "      <td>0</td>\n",
       "      <td>0</td>\n",
       "      <td>0</td>\n",
       "    </tr>\n",
       "    <tr>\n",
       "      <th>3</th>\n",
       "      <td>000fb19bfc2f4d09e33b30ae5d1be4488297e7ff6f0011...</td>\n",
       "      <td>1</td>\n",
       "      <td>1</td>\n",
       "      <td>White</td>\n",
       "      <td>Male</td>\n",
       "      <td>40-49</td>\n",
       "      <td>[9.3484497e-01 2.3674322e-05 1.4515205e-02 1.9...</td>\n",
       "      <td>[9.9999887e-01 1.1556698e-06]</td>\n",
       "      <td>[3.4171117e-06 7.4146001e-06 5.2725355e-04 4.3...</td>\n",
       "      <td>0</td>\n",
       "      <td>...</td>\n",
       "      <td>0</td>\n",
       "      <td>0</td>\n",
       "      <td>0</td>\n",
       "      <td>1</td>\n",
       "      <td>1</td>\n",
       "      <td>0</td>\n",
       "      <td>0</td>\n",
       "      <td>0</td>\n",
       "      <td>0</td>\n",
       "      <td>0</td>\n",
       "    </tr>\n",
       "    <tr>\n",
       "      <th>4</th>\n",
       "      <td>0010aaaebcdd6bae8f967dc0e471760f7a45e220125be3...</td>\n",
       "      <td>1</td>\n",
       "      <td>1</td>\n",
       "      <td>Middle Eastern</td>\n",
       "      <td>Male</td>\n",
       "      <td>20-29</td>\n",
       "      <td>[4.4076398e-02 7.8236350e-05 4.0029038e-02 3.7...</td>\n",
       "      <td>[9.9999958e-01 3.9027404e-07]</td>\n",
       "      <td>[5.4735474e-06 8.7598469e-03 4.4977888e-01 4.5...</td>\n",
       "      <td>0</td>\n",
       "      <td>...</td>\n",
       "      <td>0</td>\n",
       "      <td>1</td>\n",
       "      <td>0</td>\n",
       "      <td>1</td>\n",
       "      <td>1</td>\n",
       "      <td>0</td>\n",
       "      <td>0</td>\n",
       "      <td>0</td>\n",
       "      <td>1</td>\n",
       "      <td>0</td>\n",
       "    </tr>\n",
       "  </tbody>\n",
       "</table>\n",
       "<p>5 rows × 59 columns</p>\n",
       "</div>"
      ],
      "text/plain": [
       "                                           ImageName  Expression  Happy  \\\n",
       "0  0002074f0d5dafbb7983d509964312d04c612d9d425577...          10      0   \n",
       "1  000bdb0a8f54725d1424bb38d626b1d8bf17f001ad2406...           8      0   \n",
       "2  000c10a8f6735212d71eb54298bc47ea56dc08e64ed2ca...           0      0   \n",
       "3  000fb19bfc2f4d09e33b30ae5d1be4488297e7ff6f0011...           1      1   \n",
       "4  0010aaaebcdd6bae8f967dc0e471760f7a45e220125be3...           1      1   \n",
       "\n",
       "       race_preds gender_preds age_preds  \\\n",
       "0           White       Female     60-69   \n",
       "1           Black         Male     20-29   \n",
       "2           White         Male     40-49   \n",
       "3           White         Male     40-49   \n",
       "4  Middle Eastern         Male     20-29   \n",
       "\n",
       "                                         race_scores  \\\n",
       "0  [0.425075   0.02112318 0.25978056 0.00382649 0...   \n",
       "1  [3.52906886e-06 9.99552011e-01 1.59864125e-04 ...   \n",
       "2  [9.3397456e-01 4.9433287e-04 3.7014667e-02 4.5...   \n",
       "3  [9.3484497e-01 2.3674322e-05 1.4515205e-02 1.9...   \n",
       "4  [4.4076398e-02 7.8236350e-05 4.0029038e-02 3.7...   \n",
       "\n",
       "                   gender_scores  \\\n",
       "0        [0.09870926 0.9012907 ]   \n",
       "1  [9.9954259e-01 4.5739944e-04]   \n",
       "2        [0.99797386 0.00202617]   \n",
       "3  [9.9999887e-01 1.1556698e-06]   \n",
       "4  [9.9999958e-01 3.9027404e-07]   \n",
       "\n",
       "                                          age_scores  face  ...  AU05_r_c  \\\n",
       "0  [5.3278323e-05 5.1294203e-04 3.1685282e-03 2.4...     0  ...         0   \n",
       "1  [5.6344652e-07 4.1122996e-05 1.3004625e-02 6.6...     0  ...         0   \n",
       "2  [8.6898144e-05 1.5486187e-04 2.0614783e-03 2.4...     0  ...         0   \n",
       "3  [3.4171117e-06 7.4146001e-06 5.2725355e-04 4.3...     0  ...         0   \n",
       "4  [5.4735474e-06 8.7598469e-03 4.4977888e-01 4.5...     0  ...         0   \n",
       "\n",
       "   AU06_r_c  AU09_r_c  AU10_r_c  AU12_r_c  AU15_r_c  AU17_r_c  AU20_r_c  \\\n",
       "0         0         0         1         0         0         0         0   \n",
       "1         1         0         1         1         0         0         0   \n",
       "2         0         0         1         0         0         0         0   \n",
       "3         0         0         1         1         0         0         0   \n",
       "4         1         0         1         1         0         0         0   \n",
       "\n",
       "   AU25_r_c  AU26_r_c  \n",
       "0         1         0  \n",
       "1         1         0  \n",
       "2         0         0  \n",
       "3         0         0  \n",
       "4         1         0  \n",
       "\n",
       "[5 rows x 59 columns]"
      ]
     },
     "execution_count": 316,
     "metadata": {},
     "output_type": "execute_result"
    }
   ],
   "source": [
    "frame = pd.read_csv('AffectNet_Manual_OpenFace_result_with_expression_gender_race_age.csv')\n",
    "print(frame.shape)\n",
    "frame.head()"
   ]
  },
  {
   "cell_type": "code",
   "execution_count": 317,
   "metadata": {},
   "outputs": [],
   "source": [
    "frame['Angry'] = (frame.Expression == 6).astype(int)"
   ]
  },
  {
   "cell_type": "code",
   "execution_count": 318,
   "metadata": {
    "scrolled": false
   },
   "outputs": [
    {
     "name": "stdout",
     "output_type": "stream",
     "text": [
      "['ImageName', 'Expression', 'Happy', 'race_preds', 'gender_preds', 'age_preds', 'race_scores', 'gender_scores', 'age_scores', 'face', 'confidence', 'AU01_c', 'AU02_c', 'AU04_c', 'AU05_c', 'AU06_c', 'AU07_c', 'AU09_c', 'AU10_c', 'AU12_c', 'AU14_c', 'AU15_c', 'AU17_c', 'AU20_c', 'AU23_c', 'AU25_c', 'AU26_c', 'AU28_c', 'AU45_c', 'AU01_r', 'AU02_r', 'AU04_r', 'AU05_r', 'AU06_r', 'AU07_r', 'AU09_r', 'AU10_r', 'AU12_r', 'AU14_r', 'AU15_r', 'AU17_r', 'AU20_r', 'AU23_r', 'AU25_r', 'AU26_r', 'AU45_r', 'AU01_r_c', 'AU02_r_c', 'AU04_r_c', 'AU05_r_c', 'AU06_r_c', 'AU09_r_c', 'AU10_r_c', 'AU12_r_c', 'AU15_r_c', 'AU17_r_c', 'AU20_r_c', 'AU25_r_c', 'AU26_r_c', 'Angry']\n"
     ]
    }
   ],
   "source": [
    "print(list(frame.columns))"
   ]
  },
  {
   "cell_type": "code",
   "execution_count": 319,
   "metadata": {},
   "outputs": [
    {
     "data": {
      "text/html": [
       "<div>\n",
       "<style scoped>\n",
       "    .dataframe tbody tr th:only-of-type {\n",
       "        vertical-align: middle;\n",
       "    }\n",
       "\n",
       "    .dataframe tbody tr th {\n",
       "        vertical-align: top;\n",
       "    }\n",
       "\n",
       "    .dataframe thead th {\n",
       "        text-align: right;\n",
       "    }\n",
       "</style>\n",
       "<table border=\"1\" class=\"dataframe\">\n",
       "  <thead>\n",
       "    <tr style=\"text-align: right;\">\n",
       "      <th></th>\n",
       "      <th>AU04_c</th>\n",
       "      <th>AU05_c</th>\n",
       "      <th>AU07_c</th>\n",
       "      <th>AU23_c</th>\n",
       "    </tr>\n",
       "  </thead>\n",
       "  <tbody>\n",
       "    <tr>\n",
       "      <th>AU04_c</th>\n",
       "      <td>1.000000</td>\n",
       "      <td>-0.117411</td>\n",
       "      <td>0.093733</td>\n",
       "      <td>0.052718</td>\n",
       "    </tr>\n",
       "    <tr>\n",
       "      <th>AU05_c</th>\n",
       "      <td>-0.117411</td>\n",
       "      <td>1.000000</td>\n",
       "      <td>-0.187858</td>\n",
       "      <td>-0.038041</td>\n",
       "    </tr>\n",
       "    <tr>\n",
       "      <th>AU07_c</th>\n",
       "      <td>0.093733</td>\n",
       "      <td>-0.187858</td>\n",
       "      <td>1.000000</td>\n",
       "      <td>0.060821</td>\n",
       "    </tr>\n",
       "    <tr>\n",
       "      <th>AU23_c</th>\n",
       "      <td>0.052718</td>\n",
       "      <td>-0.038041</td>\n",
       "      <td>0.060821</td>\n",
       "      <td>1.000000</td>\n",
       "    </tr>\n",
       "  </tbody>\n",
       "</table>\n",
       "</div>"
      ],
      "text/plain": [
       "          AU04_c    AU05_c    AU07_c    AU23_c\n",
       "AU04_c  1.000000 -0.117411  0.093733  0.052718\n",
       "AU05_c -0.117411  1.000000 -0.187858 -0.038041\n",
       "AU07_c  0.093733 -0.187858  1.000000  0.060821\n",
       "AU23_c  0.052718 -0.038041  0.060821  1.000000"
      ]
     },
     "execution_count": 319,
     "metadata": {},
     "output_type": "execute_result"
    }
   ],
   "source": [
    "frame[['AU04_c', 'AU05_c', 'AU07_c', 'AU23_c']].corr()"
   ]
  },
  {
   "cell_type": "code",
   "execution_count": 320,
   "metadata": {},
   "outputs": [
    {
     "data": {
      "text/html": [
       "<div>\n",
       "<style scoped>\n",
       "    .dataframe tbody tr th:only-of-type {\n",
       "        vertical-align: middle;\n",
       "    }\n",
       "\n",
       "    .dataframe tbody tr th {\n",
       "        vertical-align: top;\n",
       "    }\n",
       "\n",
       "    .dataframe thead th {\n",
       "        text-align: right;\n",
       "    }\n",
       "</style>\n",
       "<table border=\"1\" class=\"dataframe\">\n",
       "  <thead>\n",
       "    <tr style=\"text-align: right;\">\n",
       "      <th></th>\n",
       "      <th>AU04_r</th>\n",
       "      <th>AU05_r</th>\n",
       "      <th>AU07_r</th>\n",
       "      <th>AU23_r</th>\n",
       "    </tr>\n",
       "  </thead>\n",
       "  <tbody>\n",
       "    <tr>\n",
       "      <th>AU04_r</th>\n",
       "      <td>1.000000</td>\n",
       "      <td>-0.051493</td>\n",
       "      <td>0.169017</td>\n",
       "      <td>0.074674</td>\n",
       "    </tr>\n",
       "    <tr>\n",
       "      <th>AU05_r</th>\n",
       "      <td>-0.051493</td>\n",
       "      <td>1.000000</td>\n",
       "      <td>-0.229670</td>\n",
       "      <td>0.007527</td>\n",
       "    </tr>\n",
       "    <tr>\n",
       "      <th>AU07_r</th>\n",
       "      <td>0.169017</td>\n",
       "      <td>-0.229670</td>\n",
       "      <td>1.000000</td>\n",
       "      <td>0.105698</td>\n",
       "    </tr>\n",
       "    <tr>\n",
       "      <th>AU23_r</th>\n",
       "      <td>0.074674</td>\n",
       "      <td>0.007527</td>\n",
       "      <td>0.105698</td>\n",
       "      <td>1.000000</td>\n",
       "    </tr>\n",
       "  </tbody>\n",
       "</table>\n",
       "</div>"
      ],
      "text/plain": [
       "          AU04_r    AU05_r    AU07_r    AU23_r\n",
       "AU04_r  1.000000 -0.051493  0.169017  0.074674\n",
       "AU05_r -0.051493  1.000000 -0.229670  0.007527\n",
       "AU07_r  0.169017 -0.229670  1.000000  0.105698\n",
       "AU23_r  0.074674  0.007527  0.105698  1.000000"
      ]
     },
     "execution_count": 320,
     "metadata": {},
     "output_type": "execute_result"
    }
   ],
   "source": [
    "frame[['AU04_r', 'AU05_r', 'AU07_r', 'AU23_r']].corr()"
   ]
  },
  {
   "cell_type": "code",
   "execution_count": 321,
   "metadata": {},
   "outputs": [
    {
     "data": {
      "text/plain": [
       "(35694, 60)"
      ]
     },
     "execution_count": 321,
     "metadata": {},
     "output_type": "execute_result"
    }
   ],
   "source": [
    "frame = frame.dropna()\n",
    "frame.shape"
   ]
  },
  {
   "cell_type": "code",
   "execution_count": 322,
   "metadata": {},
   "outputs": [
    {
     "data": {
      "text/plain": [
       "0000    5899\n",
       "0010    5403\n",
       "0100    4992\n",
       "1010    3767\n",
       "1000    3111\n",
       "0110    2124\n",
       "0011    1703\n",
       "1100    1594\n",
       "1011    1486\n",
       "0001    1401\n",
       "0101    1110\n",
       "1110     930\n",
       "1001     897\n",
       "0111     521\n",
       "1101     431\n",
       "1111     325\n",
       "Name: AU4_5_7_23_c, dtype: int64"
      ]
     },
     "execution_count": 322,
     "metadata": {},
     "output_type": "execute_result"
    }
   ],
   "source": [
    "frame['AU4_5_7_23_c'] = frame.AU04_c.apply(int).apply(str) + frame.AU05_c.apply(int).apply(str) + frame.AU07_c.apply(int).apply(str) + frame.AU23_c.apply(int).apply(str)\n",
    "frame.AU4_5_7_23_c.value_counts()"
   ]
  },
  {
   "cell_type": "code",
   "execution_count": 323,
   "metadata": {},
   "outputs": [
    {
     "data": {
      "text/plain": [
       "0000    15201\n",
       "0010    11728\n",
       "0011     3840\n",
       "0001     3727\n",
       "1010      480\n",
       "1000      247\n",
       "1011      190\n",
       "0100      145\n",
       "1001       80\n",
       "0101       32\n",
       "0110       16\n",
       "0111        5\n",
       "1100        3\n",
       "Name: AU4_5_7_23_r_c, dtype: int64"
      ]
     },
     "execution_count": 323,
     "metadata": {},
     "output_type": "execute_result"
    }
   ],
   "source": [
    "frame['AU4_5_7_23_r_c'] = frame.AU04_r_c.apply(str) + frame.AU05_r_c.apply(str) + frame.AU07_c.apply(int).apply(str) + frame.AU23_c.apply(int).apply(str)\n",
    "frame.AU4_5_7_23_r_c.value_counts()"
   ]
  },
  {
   "cell_type": "markdown",
   "metadata": {},
   "source": [
    "# P(expression|AU1, male) =? P(expression|AU1, female)"
   ]
  },
  {
   "cell_type": "code",
   "execution_count": 324,
   "metadata": {},
   "outputs": [
    {
     "name": "stdout",
     "output_type": "stream",
     "text": [
      "(19926, 62)\n",
      "(15768, 62)\n"
     ]
    }
   ],
   "source": [
    "male_frame = frame.loc[frame['gender_preds'] == 'Male']\n",
    "female_frame = frame.loc[frame['gender_preds'] == 'Female']\n",
    "print(male_frame.shape)\n",
    "print(female_frame.shape)"
   ]
  },
  {
   "cell_type": "markdown",
   "metadata": {},
   "source": [
    "## Anger"
   ]
  },
  {
   "cell_type": "markdown",
   "metadata": {},
   "source": [
    "#### First check the simple proportion of male angry vs female angry:"
   ]
  },
  {
   "cell_type": "code",
   "execution_count": 325,
   "metadata": {
    "scrolled": false
   },
   "outputs": [
    {
     "name": "stdout",
     "output_type": "stream",
     "text": [
      "0.09033423667570009\n",
      "0.03748097412480974\n"
     ]
    }
   ],
   "source": [
    "print(male_frame.Angry.mean())\n",
    "print(female_frame.Angry.mean())"
   ]
  },
  {
   "cell_type": "code",
   "execution_count": 326,
   "metadata": {
    "scrolled": false
   },
   "outputs": [
    {
     "name": "stdout",
     "output_type": "stream",
     "text": [
      "0.034076081501555756\n",
      "0.020357686453576863\n"
     ]
    }
   ],
   "source": [
    "print(male_frame.AU04_r_c.mean())\n",
    "print(female_frame.AU04_r_c.mean())"
   ]
  },
  {
   "cell_type": "code",
   "execution_count": 327,
   "metadata": {
    "scrolled": false
   },
   "outputs": [
    {
     "name": "stdout",
     "output_type": "stream",
     "text": [
      "0.005068754391247616\n",
      "0.006341958396752917\n"
     ]
    }
   ],
   "source": [
    "print(male_frame.AU05_r_c.mean())\n",
    "print(female_frame.AU05_r_c.mean())"
   ]
  },
  {
   "cell_type": "code",
   "execution_count": 328,
   "metadata": {
    "scrolled": false
   },
   "outputs": [
    {
     "name": "stdout",
     "output_type": "stream",
     "text": [
      "0.4669778179263274\n",
      "0.4410197869101979\n"
     ]
    }
   ],
   "source": [
    "print(male_frame.AU07_c.mean())\n",
    "print(female_frame.AU07_c.mean())"
   ]
  },
  {
   "cell_type": "code",
   "execution_count": 329,
   "metadata": {
    "scrolled": false
   },
   "outputs": [
    {
     "name": "stdout",
     "output_type": "stream",
     "text": [
      "0.2800361336946703\n",
      "0.14548452562151193\n"
     ]
    }
   ],
   "source": [
    "print(male_frame.AU23_c.mean())\n",
    "print(female_frame.AU23_c.mean())"
   ]
  },
  {
   "cell_type": "code",
   "execution_count": 330,
   "metadata": {
    "scrolled": false
   },
   "outputs": [
    {
     "name": "stdout",
     "output_type": "stream",
     "text": [
      "0.011693265080798956\n",
      "0.005834601725012684\n"
     ]
    }
   ],
   "source": [
    "print((male_frame.AU4_5_7_23_c=='1111').mean())\n",
    "print((female_frame.AU4_5_7_23_c=='1111').mean())"
   ]
  },
  {
   "cell_type": "code",
   "execution_count": 331,
   "metadata": {
    "scrolled": false
   },
   "outputs": [
    {
     "name": "stdout",
     "output_type": "stream",
     "text": [
      "0.853809093646492\n",
      "0.8106291222729579\n"
     ]
    }
   ],
   "source": [
    "print(1-(male_frame.AU4_5_7_23_c=='0000').mean())\n",
    "print(1-(female_frame.AU4_5_7_23_c=='0000').mean())"
   ]
  },
  {
   "cell_type": "markdown",
   "metadata": {},
   "source": [
    "#### Now check for conditional probability, controlled by AU:"
   ]
  },
  {
   "cell_type": "code",
   "execution_count": 337,
   "metadata": {},
   "outputs": [
    {
     "name": "stdout",
     "output_type": "stream",
     "text": [
      "330.6218414959559\n",
      "37.592285092914096\n"
     ]
    },
    {
     "data": {
      "text/html": [
       "<div>\n",
       "<style scoped>\n",
       "    .dataframe tbody tr th:only-of-type {\n",
       "        vertical-align: middle;\n",
       "    }\n",
       "\n",
       "    .dataframe tbody tr th {\n",
       "        vertical-align: top;\n",
       "    }\n",
       "\n",
       "    .dataframe thead th {\n",
       "        text-align: right;\n",
       "    }\n",
       "</style>\n",
       "<table border=\"1\" class=\"dataframe\">\n",
       "  <thead>\n",
       "    <tr style=\"text-align: right;\">\n",
       "      <th></th>\n",
       "      <th>male</th>\n",
       "      <th>female</th>\n",
       "      <th>diff</th>\n",
       "      <th>p-value</th>\n",
       "    </tr>\n",
       "    <tr>\n",
       "      <th>AU04_r_c</th>\n",
       "      <th></th>\n",
       "      <th></th>\n",
       "      <th></th>\n",
       "      <th></th>\n",
       "    </tr>\n",
       "  </thead>\n",
       "  <tbody>\n",
       "    <tr>\n",
       "      <th>0</th>\n",
       "      <td>0.083390</td>\n",
       "      <td>0.035929</td>\n",
       "      <td>-0.047460</td>\n",
       "      <td>0.000000e+00</td>\n",
       "    </tr>\n",
       "    <tr>\n",
       "      <th>1</th>\n",
       "      <td>0.287187</td>\n",
       "      <td>0.112150</td>\n",
       "      <td>-0.175038</td>\n",
       "      <td>8.718865e-10</td>\n",
       "    </tr>\n",
       "  </tbody>\n",
       "</table>\n",
       "</div>"
      ],
      "text/plain": [
       "              male    female      diff       p-value\n",
       "AU04_r_c                                            \n",
       "0         0.083390  0.035929 -0.047460  0.000000e+00\n",
       "1         0.287187  0.112150 -0.175038  8.718865e-10"
      ]
     },
     "execution_count": 337,
     "metadata": {},
     "output_type": "execute_result"
    }
   ],
   "source": [
    "result_df = pd.concat([pd.crosstab(male_frame.AU04_r_c, male_frame.Angry, normalize = 'index')[1], pd.crosstab(female_frame.AU04_r_c, female_frame.Angry, normalize = 'index')[1]], axis=1)\n",
    "result_df.columns = ['male', 'female']\n",
    "result_df['diff'] = result_df.female - result_df.male\n",
    "for index, row in result_df.iterrows():\n",
    "    cross_tab = pd.crosstab(frame[frame.AU04_r_c == index].gender_preds, frame[frame.AU04_r_c == index].Angry, margins = True)\n",
    "\n",
    "    cross_tab.columns = [\"Not Angry\", \"Angry\", \"row_totals\"]\n",
    "    cross_tab.index = [\"Female\", \"Male\", \"col_totals\"]\n",
    "    observed = cross_tab.iloc[0:2,0:2]   # Get table without totals for later use\n",
    "\n",
    "    expected =  np.outer(cross_tab[\"row_totals\"][0:2],\n",
    "                     cross_tab.loc[\"col_totals\"][0:2]) / len(frame[frame.AU04_r_c == index])\n",
    "\n",
    "    expected = pd.DataFrame(expected)\n",
    "    expected.columns = [\"Not Angry\", \"Angry\"]\n",
    "    expected.index = [\"Female\", \"Male\"]\n",
    "\n",
    "    if (expected>=5).sum().sum() == 4:\n",
    "        chi_squared_stat = (((observed-expected)**2)/expected).sum().sum()\n",
    "        p_value = 1 - stats.chi2.cdf(x=chi_squared_stat, df=1)\n",
    "    else:\n",
    "        chi_squared_stat = np.nan\n",
    "        p_value = np.nan\n",
    "\n",
    "    print(chi_squared_stat)\n",
    "    \n",
    "    result_df.loc[index, \"p-value\"] = p_value\n",
    "result_df"
   ]
  },
  {
   "cell_type": "code",
   "execution_count": 338,
   "metadata": {},
   "outputs": [
    {
     "name": "stdout",
     "output_type": "stream",
     "text": [
      "393.29330128646114\n",
      "nan\n"
     ]
    },
    {
     "data": {
      "text/html": [
       "<div>\n",
       "<style scoped>\n",
       "    .dataframe tbody tr th:only-of-type {\n",
       "        vertical-align: middle;\n",
       "    }\n",
       "\n",
       "    .dataframe tbody tr th {\n",
       "        vertical-align: top;\n",
       "    }\n",
       "\n",
       "    .dataframe thead th {\n",
       "        text-align: right;\n",
       "    }\n",
       "</style>\n",
       "<table border=\"1\" class=\"dataframe\">\n",
       "  <thead>\n",
       "    <tr style=\"text-align: right;\">\n",
       "      <th></th>\n",
       "      <th>male</th>\n",
       "      <th>female</th>\n",
       "      <th>diff</th>\n",
       "      <th>p-value</th>\n",
       "    </tr>\n",
       "    <tr>\n",
       "      <th>AU05_r_c</th>\n",
       "      <th></th>\n",
       "      <th></th>\n",
       "      <th></th>\n",
       "      <th></th>\n",
       "    </tr>\n",
       "  </thead>\n",
       "  <tbody>\n",
       "    <tr>\n",
       "      <th>0</th>\n",
       "      <td>0.090593</td>\n",
       "      <td>0.037529</td>\n",
       "      <td>-0.053064</td>\n",
       "      <td>0.0</td>\n",
       "    </tr>\n",
       "    <tr>\n",
       "      <th>1</th>\n",
       "      <td>0.039604</td>\n",
       "      <td>0.030000</td>\n",
       "      <td>-0.009604</td>\n",
       "      <td>NaN</td>\n",
       "    </tr>\n",
       "  </tbody>\n",
       "</table>\n",
       "</div>"
      ],
      "text/plain": [
       "              male    female      diff  p-value\n",
       "AU05_r_c                                       \n",
       "0         0.090593  0.037529 -0.053064      0.0\n",
       "1         0.039604  0.030000 -0.009604      NaN"
      ]
     },
     "execution_count": 338,
     "metadata": {},
     "output_type": "execute_result"
    }
   ],
   "source": [
    "result_df = pd.concat([pd.crosstab(male_frame.AU05_r_c, male_frame.Angry, normalize = 'index')[1], pd.crosstab(female_frame.AU05_r_c, female_frame.Angry, normalize = 'index')[1]], axis=1)\n",
    "result_df.columns = ['male', 'female']\n",
    "result_df['diff'] = result_df.female - result_df.male\n",
    "for index, row in result_df.iterrows():\n",
    "    cross_tab = pd.crosstab(frame[frame.AU05_r_c == index].gender_preds, frame[frame.AU05_r_c == index].Angry, margins = True)\n",
    "\n",
    "    cross_tab.columns = [\"Not Angry\", \"Angry\", \"row_totals\"]\n",
    "    cross_tab.index = [\"Female\", \"Male\", \"col_totals\"]\n",
    "    observed = cross_tab.iloc[0:2,0:2]   # Get table without totals for later use\n",
    "\n",
    "    expected =  np.outer(cross_tab[\"row_totals\"][0:2],\n",
    "                     cross_tab.loc[\"col_totals\"][0:2]) / len(frame[frame.AU05_r_c == index])\n",
    "\n",
    "    expected = pd.DataFrame(expected)\n",
    "    expected.columns = [\"Not Angry\", \"Angry\"]\n",
    "    expected.index = [\"Female\", \"Male\"]\n",
    "\n",
    "    if (expected>=5).sum().sum() == 4:\n",
    "        chi_squared_stat = (((observed-expected)**2)/expected).sum().sum()\n",
    "        p_value = 1 - stats.chi2.cdf(x=chi_squared_stat, df=1)\n",
    "    else:\n",
    "        chi_squared_stat = np.nan\n",
    "        p_value = np.nan\n",
    "\n",
    "    print(chi_squared_stat)\n",
    "    \n",
    "    result_df.loc[index, \"p-value\"] = p_value\n",
    "result_df"
   ]
  },
  {
   "cell_type": "code",
   "execution_count": 334,
   "metadata": {},
   "outputs": [
    {
     "name": "stdout",
     "output_type": "stream",
     "text": [
      "210.71417608965712\n",
      "181.2485676236347\n"
     ]
    },
    {
     "data": {
      "text/html": [
       "<div>\n",
       "<style scoped>\n",
       "    .dataframe tbody tr th:only-of-type {\n",
       "        vertical-align: middle;\n",
       "    }\n",
       "\n",
       "    .dataframe tbody tr th {\n",
       "        vertical-align: top;\n",
       "    }\n",
       "\n",
       "    .dataframe thead th {\n",
       "        text-align: right;\n",
       "    }\n",
       "</style>\n",
       "<table border=\"1\" class=\"dataframe\">\n",
       "  <thead>\n",
       "    <tr style=\"text-align: right;\">\n",
       "      <th></th>\n",
       "      <th>male</th>\n",
       "      <th>female</th>\n",
       "      <th>diff</th>\n",
       "      <th>p-value</th>\n",
       "    </tr>\n",
       "    <tr>\n",
       "      <th>AU07_c</th>\n",
       "      <th></th>\n",
       "      <th></th>\n",
       "      <th></th>\n",
       "      <th></th>\n",
       "    </tr>\n",
       "  </thead>\n",
       "  <tbody>\n",
       "    <tr>\n",
       "      <th>0.0</th>\n",
       "      <td>0.088127</td>\n",
       "      <td>0.036646</td>\n",
       "      <td>-0.051481</td>\n",
       "      <td>0.0</td>\n",
       "    </tr>\n",
       "    <tr>\n",
       "      <th>1.0</th>\n",
       "      <td>0.092853</td>\n",
       "      <td>0.038539</td>\n",
       "      <td>-0.054314</td>\n",
       "      <td>0.0</td>\n",
       "    </tr>\n",
       "  </tbody>\n",
       "</table>\n",
       "</div>"
      ],
      "text/plain": [
       "            male    female      diff  p-value\n",
       "AU07_c                                       \n",
       "0.0     0.088127  0.036646 -0.051481      0.0\n",
       "1.0     0.092853  0.038539 -0.054314      0.0"
      ]
     },
     "execution_count": 334,
     "metadata": {},
     "output_type": "execute_result"
    }
   ],
   "source": [
    "result_df = pd.concat([pd.crosstab(male_frame.AU07_c, male_frame.Angry, normalize = 'index')[1], pd.crosstab(female_frame.AU07_c, female_frame.Angry, normalize = 'index')[1]], axis=1)\n",
    "result_df.columns = ['male', 'female']\n",
    "result_df['diff'] = result_df.female - result_df.male\n",
    "for index, row in result_df.iterrows():\n",
    "    cross_tab = pd.crosstab(frame[frame.AU07_c == index].gender_preds, frame[frame.AU07_c == index].Angry, margins = True)\n",
    "\n",
    "    cross_tab.columns = [\"Not Angry\", \"Angry\", \"row_totals\"]\n",
    "    cross_tab.index = [\"Female\", \"Male\", \"col_totals\"]\n",
    "    observed = cross_tab.iloc[0:2,0:2]   # Get table without totals for later use\n",
    "\n",
    "    expected =  np.outer(cross_tab[\"row_totals\"][0:2],\n",
    "                     cross_tab.loc[\"col_totals\"][0:2]) / len(frame[frame.AU07_c == index])\n",
    "\n",
    "    expected = pd.DataFrame(expected)\n",
    "    expected.columns = [\"Not Angry\", \"Angry\"]\n",
    "    expected.index = [\"Female\", \"Male\"]\n",
    "\n",
    "    if (expected>=5).sum().sum() == 4:\n",
    "        chi_squared_stat = (((observed-expected)**2)/expected).sum().sum()\n",
    "        p_value = 1 - stats.chi2.cdf(x=chi_squared_stat, df=1)\n",
    "    else:\n",
    "        chi_squared_stat = np.nan\n",
    "        p_value = np.nan\n",
    "\n",
    "    print(chi_squared_stat)\n",
    "    \n",
    "    result_df.loc[index, \"p-value\"] = p_value\n",
    "result_df"
   ]
  },
  {
   "cell_type": "code",
   "execution_count": 335,
   "metadata": {},
   "outputs": [
    {
     "name": "stdout",
     "output_type": "stream",
     "text": [
      "336.7921087131107\n",
      "56.93326054563457\n"
     ]
    },
    {
     "data": {
      "text/html": [
       "<div>\n",
       "<style scoped>\n",
       "    .dataframe tbody tr th:only-of-type {\n",
       "        vertical-align: middle;\n",
       "    }\n",
       "\n",
       "    .dataframe tbody tr th {\n",
       "        vertical-align: top;\n",
       "    }\n",
       "\n",
       "    .dataframe thead th {\n",
       "        text-align: right;\n",
       "    }\n",
       "</style>\n",
       "<table border=\"1\" class=\"dataframe\">\n",
       "  <thead>\n",
       "    <tr style=\"text-align: right;\">\n",
       "      <th></th>\n",
       "      <th>male</th>\n",
       "      <th>female</th>\n",
       "      <th>diff</th>\n",
       "      <th>p-value</th>\n",
       "    </tr>\n",
       "    <tr>\n",
       "      <th>AU23_c</th>\n",
       "      <th></th>\n",
       "      <th></th>\n",
       "      <th></th>\n",
       "      <th></th>\n",
       "    </tr>\n",
       "  </thead>\n",
       "  <tbody>\n",
       "    <tr>\n",
       "      <th>0.0</th>\n",
       "      <td>0.091872</td>\n",
       "      <td>0.037405</td>\n",
       "      <td>-0.054467</td>\n",
       "      <td>0.000000e+00</td>\n",
       "    </tr>\n",
       "    <tr>\n",
       "      <th>1.0</th>\n",
       "      <td>0.086380</td>\n",
       "      <td>0.037925</td>\n",
       "      <td>-0.048455</td>\n",
       "      <td>4.507505e-14</td>\n",
       "    </tr>\n",
       "  </tbody>\n",
       "</table>\n",
       "</div>"
      ],
      "text/plain": [
       "            male    female      diff       p-value\n",
       "AU23_c                                            \n",
       "0.0     0.091872  0.037405 -0.054467  0.000000e+00\n",
       "1.0     0.086380  0.037925 -0.048455  4.507505e-14"
      ]
     },
     "execution_count": 335,
     "metadata": {},
     "output_type": "execute_result"
    }
   ],
   "source": [
    "result_df = pd.concat([pd.crosstab(male_frame.AU23_c, male_frame.Angry, normalize = 'index')[1], pd.crosstab(female_frame.AU23_c, female_frame.Angry, normalize = 'index')[1]], axis=1)\n",
    "result_df.columns = ['male', 'female']\n",
    "result_df['diff'] = result_df.female - result_df.male\n",
    "for index, row in result_df.iterrows():\n",
    "    cross_tab = pd.crosstab(frame[frame.AU23_c == index].gender_preds, frame[frame.AU23_c == index].Angry, margins = True)\n",
    "\n",
    "    cross_tab.columns = [\"Not Angry\", \"Angry\", \"row_totals\"]\n",
    "    cross_tab.index = [\"Female\", \"Male\", \"col_totals\"]\n",
    "    observed = cross_tab.iloc[0:2,0:2]   # Get table without totals for later use\n",
    "\n",
    "    expected =  np.outer(cross_tab[\"row_totals\"][0:2],\n",
    "                     cross_tab.loc[\"col_totals\"][0:2]) / len(frame[frame.AU23_c == index])\n",
    "\n",
    "    expected = pd.DataFrame(expected)\n",
    "    expected.columns = [\"Not Angry\", \"Angry\"]\n",
    "    expected.index = [\"Female\", \"Male\"]\n",
    "\n",
    "    if (expected>=5).sum().sum() == 4:\n",
    "        chi_squared_stat = (((observed-expected)**2)/expected).sum().sum()\n",
    "        p_value = 1 - stats.chi2.cdf(x=chi_squared_stat, df=1)\n",
    "    else:\n",
    "        chi_squared_stat = np.nan\n",
    "        p_value = np.nan\n",
    "\n",
    "    print(chi_squared_stat)\n",
    "    \n",
    "    result_df.loc[index, \"p-value\"] = p_value\n",
    "result_df"
   ]
  },
  {
   "cell_type": "code",
   "execution_count": 339,
   "metadata": {
    "scrolled": true
   },
   "outputs": [
    {
     "name": "stdout",
     "output_type": "stream",
     "text": [
      "160.29591499166813\n",
      "35.265231622319995\n",
      "127.82143664263744\n",
      "13.137723410765107\n",
      "nan\n",
      "nan\n"
     ]
    },
    {
     "ename": "ValueError",
     "evalue": "Length mismatch: Expected axis has 2 elements, new values have 3 elements",
     "output_type": "error",
     "traceback": [
      "\u001b[0;31m---------------------------------------------------------------------------\u001b[0m",
      "\u001b[0;31mValueError\u001b[0m                                Traceback (most recent call last)",
      "\u001b[0;32m<ipython-input-339-1de786444efd>\u001b[0m in \u001b[0;36m<module>\u001b[0;34m\u001b[0m\n\u001b[1;32m      5\u001b[0m     \u001b[0mcross_tab\u001b[0m \u001b[0;34m=\u001b[0m \u001b[0mpd\u001b[0m\u001b[0;34m.\u001b[0m\u001b[0mcrosstab\u001b[0m\u001b[0;34m(\u001b[0m\u001b[0mframe\u001b[0m\u001b[0;34m[\u001b[0m\u001b[0mframe\u001b[0m\u001b[0;34m.\u001b[0m\u001b[0mAU4_5_7_23_r_c\u001b[0m \u001b[0;34m==\u001b[0m \u001b[0mindex\u001b[0m\u001b[0;34m]\u001b[0m\u001b[0;34m.\u001b[0m\u001b[0mgender_preds\u001b[0m\u001b[0;34m,\u001b[0m \u001b[0mframe\u001b[0m\u001b[0;34m[\u001b[0m\u001b[0mframe\u001b[0m\u001b[0;34m.\u001b[0m\u001b[0mAU4_5_7_23_r_c\u001b[0m \u001b[0;34m==\u001b[0m \u001b[0mindex\u001b[0m\u001b[0;34m]\u001b[0m\u001b[0;34m.\u001b[0m\u001b[0mAngry\u001b[0m\u001b[0;34m,\u001b[0m \u001b[0mmargins\u001b[0m \u001b[0;34m=\u001b[0m \u001b[0;32mTrue\u001b[0m\u001b[0;34m)\u001b[0m\u001b[0;34m\u001b[0m\u001b[0;34m\u001b[0m\u001b[0m\n\u001b[1;32m      6\u001b[0m \u001b[0;34m\u001b[0m\u001b[0m\n\u001b[0;32m----> 7\u001b[0;31m     \u001b[0mcross_tab\u001b[0m\u001b[0;34m.\u001b[0m\u001b[0mcolumns\u001b[0m \u001b[0;34m=\u001b[0m \u001b[0;34m[\u001b[0m\u001b[0;34m\"Not Angry\"\u001b[0m\u001b[0;34m,\u001b[0m \u001b[0;34m\"Angry\"\u001b[0m\u001b[0;34m,\u001b[0m \u001b[0;34m\"row_totals\"\u001b[0m\u001b[0;34m]\u001b[0m\u001b[0;34m\u001b[0m\u001b[0;34m\u001b[0m\u001b[0m\n\u001b[0m\u001b[1;32m      8\u001b[0m     \u001b[0mcross_tab\u001b[0m\u001b[0;34m.\u001b[0m\u001b[0mindex\u001b[0m \u001b[0;34m=\u001b[0m \u001b[0;34m[\u001b[0m\u001b[0;34m\"Female\"\u001b[0m\u001b[0;34m,\u001b[0m \u001b[0;34m\"Male\"\u001b[0m\u001b[0;34m,\u001b[0m \u001b[0;34m\"col_totals\"\u001b[0m\u001b[0;34m]\u001b[0m\u001b[0;34m\u001b[0m\u001b[0;34m\u001b[0m\u001b[0m\n\u001b[1;32m      9\u001b[0m     \u001b[0mobserved\u001b[0m \u001b[0;34m=\u001b[0m \u001b[0mcross_tab\u001b[0m\u001b[0;34m.\u001b[0m\u001b[0miloc\u001b[0m\u001b[0;34m[\u001b[0m\u001b[0;36m0\u001b[0m\u001b[0;34m:\u001b[0m\u001b[0;36m2\u001b[0m\u001b[0;34m,\u001b[0m\u001b[0;36m0\u001b[0m\u001b[0;34m:\u001b[0m\u001b[0;36m2\u001b[0m\u001b[0;34m]\u001b[0m   \u001b[0;31m# Get table without totals for later use\u001b[0m\u001b[0;34m\u001b[0m\u001b[0;34m\u001b[0m\u001b[0m\n",
      "\u001b[0;32m/usr/local/lib/python3.8/dist-packages/pandas/core/generic.py\u001b[0m in \u001b[0;36m__setattr__\u001b[0;34m(self, name, value)\u001b[0m\n\u001b[1;32m   5285\u001b[0m         \u001b[0;32mtry\u001b[0m\u001b[0;34m:\u001b[0m\u001b[0;34m\u001b[0m\u001b[0;34m\u001b[0m\u001b[0m\n\u001b[1;32m   5286\u001b[0m             \u001b[0mobject\u001b[0m\u001b[0;34m.\u001b[0m\u001b[0m__getattribute__\u001b[0m\u001b[0;34m(\u001b[0m\u001b[0mself\u001b[0m\u001b[0;34m,\u001b[0m \u001b[0mname\u001b[0m\u001b[0;34m)\u001b[0m\u001b[0;34m\u001b[0m\u001b[0;34m\u001b[0m\u001b[0m\n\u001b[0;32m-> 5287\u001b[0;31m             \u001b[0;32mreturn\u001b[0m \u001b[0mobject\u001b[0m\u001b[0;34m.\u001b[0m\u001b[0m__setattr__\u001b[0m\u001b[0;34m(\u001b[0m\u001b[0mself\u001b[0m\u001b[0;34m,\u001b[0m \u001b[0mname\u001b[0m\u001b[0;34m,\u001b[0m \u001b[0mvalue\u001b[0m\u001b[0;34m)\u001b[0m\u001b[0;34m\u001b[0m\u001b[0;34m\u001b[0m\u001b[0m\n\u001b[0m\u001b[1;32m   5288\u001b[0m         \u001b[0;32mexcept\u001b[0m \u001b[0mAttributeError\u001b[0m\u001b[0;34m:\u001b[0m\u001b[0;34m\u001b[0m\u001b[0;34m\u001b[0m\u001b[0m\n\u001b[1;32m   5289\u001b[0m             \u001b[0;32mpass\u001b[0m\u001b[0;34m\u001b[0m\u001b[0;34m\u001b[0m\u001b[0m\n",
      "\u001b[0;32mpandas/_libs/properties.pyx\u001b[0m in \u001b[0;36mpandas._libs.properties.AxisProperty.__set__\u001b[0;34m()\u001b[0m\n",
      "\u001b[0;32m/usr/local/lib/python3.8/dist-packages/pandas/core/generic.py\u001b[0m in \u001b[0;36m_set_axis\u001b[0;34m(self, axis, labels)\u001b[0m\n\u001b[1;32m    659\u001b[0m \u001b[0;34m\u001b[0m\u001b[0m\n\u001b[1;32m    660\u001b[0m     \u001b[0;32mdef\u001b[0m \u001b[0m_set_axis\u001b[0m\u001b[0;34m(\u001b[0m\u001b[0mself\u001b[0m\u001b[0;34m,\u001b[0m \u001b[0maxis\u001b[0m\u001b[0;34m,\u001b[0m \u001b[0mlabels\u001b[0m\u001b[0;34m)\u001b[0m \u001b[0;34m->\u001b[0m \u001b[0;32mNone\u001b[0m\u001b[0;34m:\u001b[0m\u001b[0;34m\u001b[0m\u001b[0;34m\u001b[0m\u001b[0m\n\u001b[0;32m--> 661\u001b[0;31m         \u001b[0mself\u001b[0m\u001b[0;34m.\u001b[0m\u001b[0m_data\u001b[0m\u001b[0;34m.\u001b[0m\u001b[0mset_axis\u001b[0m\u001b[0;34m(\u001b[0m\u001b[0maxis\u001b[0m\u001b[0;34m,\u001b[0m \u001b[0mlabels\u001b[0m\u001b[0;34m)\u001b[0m\u001b[0;34m\u001b[0m\u001b[0;34m\u001b[0m\u001b[0m\n\u001b[0m\u001b[1;32m    662\u001b[0m         \u001b[0mself\u001b[0m\u001b[0;34m.\u001b[0m\u001b[0m_clear_item_cache\u001b[0m\u001b[0;34m(\u001b[0m\u001b[0;34m)\u001b[0m\u001b[0;34m\u001b[0m\u001b[0;34m\u001b[0m\u001b[0m\n\u001b[1;32m    663\u001b[0m \u001b[0;34m\u001b[0m\u001b[0m\n",
      "\u001b[0;32m/usr/local/lib/python3.8/dist-packages/pandas/core/internals/managers.py\u001b[0m in \u001b[0;36mset_axis\u001b[0;34m(self, axis, new_labels)\u001b[0m\n\u001b[1;32m    175\u001b[0m \u001b[0;34m\u001b[0m\u001b[0m\n\u001b[1;32m    176\u001b[0m         \u001b[0;32mif\u001b[0m \u001b[0mnew_len\u001b[0m \u001b[0;34m!=\u001b[0m \u001b[0mold_len\u001b[0m\u001b[0;34m:\u001b[0m\u001b[0;34m\u001b[0m\u001b[0;34m\u001b[0m\u001b[0m\n\u001b[0;32m--> 177\u001b[0;31m             raise ValueError(\n\u001b[0m\u001b[1;32m    178\u001b[0m                 \u001b[0;34mf\"Length mismatch: Expected axis has {old_len} elements, new \"\u001b[0m\u001b[0;34m\u001b[0m\u001b[0;34m\u001b[0m\u001b[0m\n\u001b[1;32m    179\u001b[0m                 \u001b[0;34mf\"values have {new_len} elements\"\u001b[0m\u001b[0;34m\u001b[0m\u001b[0;34m\u001b[0m\u001b[0m\n",
      "\u001b[0;31mValueError\u001b[0m: Length mismatch: Expected axis has 2 elements, new values have 3 elements"
     ]
    }
   ],
   "source": [
    "result_df = pd.concat([pd.crosstab(male_frame.AU4_5_7_23_r_c, male_frame.Angry, normalize = 'index')[1], pd.crosstab(female_frame.AU4_5_7_23_r_c, female_frame.Angry, normalize = 'index')[1]], axis=1)\n",
    "result_df.columns = ['male', 'female']\n",
    "result_df['diff'] = result_df.female - result_df.male\n",
    "for index, row in result_df.iterrows():\n",
    "    cross_tab = pd.crosstab(frame[frame.AU4_5_7_23_r_c == index].gender_preds, frame[frame.AU4_5_7_23_r_c == index].Angry, margins = True)\n",
    "\n",
    "    cross_tab.columns = [\"Not Angry\", \"Angry\", \"row_totals\"]\n",
    "    cross_tab.index = [\"Female\", \"Male\", \"col_totals\"]\n",
    "    observed = cross_tab.iloc[0:2,0:2]   # Get table without totals for later use\n",
    "\n",
    "    expected =  np.outer(cross_tab[\"row_totals\"][0:2],\n",
    "                     cross_tab.loc[\"col_totals\"][0:2]) / len(frame[frame.AU4_5_7_23_r_c == index])\n",
    "\n",
    "    expected = pd.DataFrame(expected)\n",
    "    expected.columns = [\"Not Angry\", \"Angry\"]\n",
    "    expected.index = [\"Female\", \"Male\"]\n",
    "\n",
    "    if (expected>=5).sum().sum() == 4:\n",
    "        chi_squared_stat = (((observed-expected)**2)/expected).sum().sum()\n",
    "        p_value = 1 - stats.chi2.cdf(x=chi_squared_stat, df=1)\n",
    "    else:\n",
    "        chi_squared_stat = np.nan\n",
    "        p_value = np.nan\n",
    "\n",
    "    print(chi_squared_stat)\n",
    "    \n",
    "    result_df.loc[index, \"p-value\"] = p_value\n",
    "result_df"
   ]
  },
  {
   "cell_type": "code",
   "execution_count": 353,
   "metadata": {},
   "outputs": [
    {
     "data": {
      "image/png": "[encoded data removed]",
      "text/plain": [
       "<Figure size 432x288 with 1 Axes>"
      ]
     },
     "metadata": {
      "needs_background": "light"
     },
     "output_type": "display_data"
    }
   ],
   "source": [
    "intensities_m, proportions_m = proportion_calc(male_frame.AU04_r, male_frame.Angry, 0.02, 35)\n",
    "plt.scatter(intensities_m, proportions_m, label=\"Male\", marker = \"p\", alpha=0.8, s=30, c='r')#,edgecolors='k')\n",
    "\n",
    "intensities_f, proportions_f = proportion_calc(female_frame.AU04_r, female_frame.Angry, 0.02, 25)\n",
    "plt.scatter(intensities_f, proportions_f, label=\"Female\", marker = \"*\", alpha=0.8, s=30, c='#089BDF')#,edgecolors='k')\n",
    "\n",
    "\n",
    "plt.xlabel('AU4 intensity', fontsize = 16)\n",
    "plt.ylabel('Proportion of \"Angry\" Labels', fontsize = 16)\n",
    "plt.title('P(Angry|AU4) for AffectNet-Manual', fontsize = 18)\n",
    "plt.legend(fontsize = 16)\n",
    "plt.ylim(0 - 0.01, np.max(proportions_m + proportions_f) + 0.02)\n",
    "plt.savefig('AffectNet_Manual_AU4.pdf') \n",
    "plt.show()"
   ]
  },
  {
   "cell_type": "code",
   "execution_count": 402,
   "metadata": {},
   "outputs": [
    {
     "data": {
      "image/png": "[encoded data removed]",
      "text/plain": [
       "<Figure size 432x288 with 1 Axes>"
      ]
     },
     "metadata": {
      "needs_background": "light"
     },
     "output_type": "display_data"
    }
   ],
   "source": [
    "intensities_m, proportions_m = proportion_calc(male_frame.AU05_r, male_frame.Angry, 0.03, 10)\n",
    "plt.scatter(intensities_m, proportions_m, label=\"Male\", marker = \"p\", alpha=0.8, s=30, c='r')#,edgecolors='k')\n",
    "\n",
    "intensities_f, proportions_f = proportion_calc(female_frame.AU05_r, female_frame.Angry, 0.045, 12)\n",
    "plt.scatter(intensities_f, proportions_f, label=\"Female\", marker = \"*\", alpha=0.8, s=30, c='#089BDF')#,edgecolors='k')\n",
    "\n",
    "\n",
    "plt.xlabel('AU5 intensity', fontsize = 16)\n",
    "plt.ylabel('Proportion of \"Angry\" Labels', fontsize = 16)\n",
    "plt.title('P(Angry|AU5) for AffectNet-Manual', fontsize = 18)\n",
    "plt.legend(fontsize = 16)\n",
    "plt.ylim(0.005, np.max(proportions_m + proportions_f) + 0.02)\n",
    "plt.savefig('AffectNet_Manual_AU5.pdf') \n",
    "plt.show()"
   ]
  },
  {
   "cell_type": "code",
   "execution_count": 472,
   "metadata": {},
   "outputs": [
    {
     "data": {
      "image/png": "[encoded data removed]",
      "text/plain": [
       "<Figure size 432x288 with 1 Axes>"
      ]
     },
     "metadata": {
      "needs_background": "light"
     },
     "output_type": "display_data"
    }
   ],
   "source": [
    "intensities_m, proportions_m = proportion_calc(male_frame.AU07_r, male_frame.Angry, 0.037, 50)\n",
    "plt.scatter(intensities_m, proportions_m, label=\"Male\", marker = \"p\", alpha=0.8, s=30, c='r')#,edgecolors='k')\n",
    "\n",
    "intensities_f, proportions_f = proportion_calc(female_frame.AU07_r, female_frame.Angry, 0.048, 45)\n",
    "plt.scatter(intensities_f, proportions_f, label=\"Female\", marker = \"*\", alpha=0.8, s=30, c='#089BDF')#,edgecolors='k')\n",
    "\n",
    "\n",
    "plt.xlabel('AU7 intensity', fontsize = 16)\n",
    "plt.ylabel('Proportion of \"Angry\" Labels', fontsize = 16)\n",
    "plt.title('P(Angry|AU7) for AffectNet-Manual', fontsize = 18)\n",
    "plt.legend(fontsize = 16)\n",
    "plt.ylim(0.005, np.max(proportions_m + proportions_f) + 0.02)\n",
    "plt.savefig('AffectNet_Manual_AU7.pdf') \n",
    "plt.show()"
   ]
  },
  {
   "cell_type": "code",
   "execution_count": 508,
   "metadata": {},
   "outputs": [
    {
     "data": {
      "image/png": "[encoded data removed]",
      "text/plain": [
       "<Figure size 432x288 with 1 Axes>"
      ]
     },
     "metadata": {
      "needs_background": "light"
     },
     "output_type": "display_data"
    }
   ],
   "source": [
    "intensities_m, proportions_m = proportion_calc(male_frame.AU23_r, male_frame.Angry, 0.04, 30)\n",
    "plt.scatter(intensities_m, proportions_m, label=\"Male\", marker = \"p\", alpha=0.8, s=30, c='r')#,edgecolors='k')\n",
    "\n",
    "intensities_f, proportions_f = proportion_calc(female_frame.AU23_r, female_frame.Angry, 0.03, 15)\n",
    "plt.scatter(intensities_f, proportions_f, label=\"Female\", marker = \"*\", alpha=0.8, s=30, c='#089BDF')#,edgecolors='k')\n",
    "\n",
    "\n",
    "plt.xlabel('AU23 intensity', fontsize = 16)\n",
    "plt.ylabel('Proportion of \"Angry\" Labels', fontsize = 16)\n",
    "plt.title('P(Angry|AU23) for AffectNet-Manual', fontsize = 18)\n",
    "plt.legend(fontsize = 16)\n",
    "plt.ylim(0.005, np.max(proportions_m + proportions_f) + 0.02)\n",
    "plt.savefig('AffectNet_Manual_AU23.pdf') \n",
    "plt.show()"
   ]
  },
  {
   "cell_type": "markdown",
   "metadata": {},
   "source": [
    "##### To formally show that there is a significant difference between the two logistic lines, we need logistic regression:"
   ]
  },
  {
   "cell_type": "code",
   "execution_count": 509,
   "metadata": {
    "scrolled": false
   },
   "outputs": [
    {
     "name": "stdout",
     "output_type": "stream",
     "text": [
      "                 Generalized Linear Model Regression Results                  \n",
      "==============================================================================\n",
      "Dep. Variable:                  Angry   No. Observations:                35694\n",
      "Model:                            GLM   Df Residuals:                    35688\n",
      "Model Family:                Binomial   Df Model:                            5\n",
      "Link Function:                  logit   Scale:                          1.0000\n",
      "Method:                          IRLS   Log-Likelihood:                -8077.4\n",
      "Date:                Sat, 16 Jan 2021   Deviance:                       16155.\n",
      "Time:                        23:58:34   Pearson chi2:                 3.50e+04\n",
      "No. Iterations:                     6                                         \n",
      "Covariance Type:            nonrobust                                         \n",
      "========================================================================================\n",
      "                           coef    std err          z      P>|z|      [0.025      0.975]\n",
      "----------------------------------------------------------------------------------------\n",
      "Intercept               -3.6006      0.053    -67.311      0.000      -3.705      -3.496\n",
      "gender_preds[T.Male]     0.8291      0.050     16.428      0.000       0.730       0.928\n",
      "AU04_r                   0.7429      0.023     32.507      0.000       0.698       0.788\n",
      "AU05_r                  -0.0271      0.029     -0.926      0.355      -0.084       0.030\n",
      "AU07_r                  -0.0319      0.021     -1.486      0.137      -0.074       0.010\n",
      "AU23_r                  -0.1536      0.058     -2.633      0.008      -0.268      -0.039\n",
      "========================================================================================\n"
     ]
    }
   ],
   "source": [
    "formula = 'Angry ~ AU04_r + AU05_r + AU07_r + AU23_r + gender_preds'\n",
    "model = smf.glm(formula = formula, data=frame, family=sm.families.Binomial())\n",
    "result = model.fit()\n",
    "print(result.summary())"
   ]
  },
  {
   "cell_type": "code",
   "execution_count": 510,
   "metadata": {
    "scrolled": false
   },
   "outputs": [
    {
     "name": "stdout",
     "output_type": "stream",
     "text": [
      "                 Generalized Linear Model Regression Results                  \n",
      "==============================================================================\n",
      "Dep. Variable:                  Angry   No. Observations:                35694\n",
      "Model:                            GLM   Df Residuals:                    35684\n",
      "Model Family:                Binomial   Df Model:                            9\n",
      "Link Function:                  logit   Scale:                          1.0000\n",
      "Method:                          IRLS   Log-Likelihood:                -8073.7\n",
      "Date:                Sat, 16 Jan 2021   Deviance:                       16147.\n",
      "Time:                        23:58:37   Pearson chi2:                 3.48e+04\n",
      "No. Iterations:                     7                                         \n",
      "Covariance Type:            nonrobust                                         \n",
      "===============================================================================================\n",
      "                                  coef    std err          z      P>|z|      [0.025      0.975]\n",
      "-----------------------------------------------------------------------------------------------\n",
      "Intercept                      -3.6209      0.077    -46.955      0.000      -3.772      -3.470\n",
      "gender_preds[T.Male]            0.8534      0.091      9.361      0.000       0.675       1.032\n",
      "AU04_r                          0.6914      0.045     15.528      0.000       0.604       0.779\n",
      "AU04_r:gender_preds[T.Male]     0.0710      0.052      1.367      0.172      -0.031       0.173\n",
      "AU05_r                          0.0609      0.050      1.207      0.227      -0.038       0.160\n",
      "AU05_r:gender_preds[T.Male]    -0.1316      0.062     -2.123      0.034      -0.253      -0.010\n",
      "AU07_r                         -0.0403      0.044     -0.916      0.360      -0.127       0.046\n",
      "AU07_r:gender_preds[T.Male]     0.0111      0.050      0.219      0.827      -0.088       0.110\n",
      "AU23_r                         -0.0860      0.160     -0.539      0.590      -0.399       0.227\n",
      "AU23_r:gender_preds[T.Male]    -0.0782      0.172     -0.455      0.649      -0.415       0.258\n",
      "===============================================================================================\n"
     ]
    }
   ],
   "source": [
    "formula = 'Angry ~ (AU04_r + AU05_r + AU07_r + AU23_r) * gender_preds'\n",
    "model = smf.glm(formula = formula, data=frame, family=sm.families.Binomial())\n",
    "result = model.fit()\n",
    "print(result.summary())"
   ]
  },
  {
   "cell_type": "code",
   "execution_count": 511,
   "metadata": {
    "scrolled": true
   },
   "outputs": [
    {
     "name": "stdout",
     "output_type": "stream",
     "text": [
      "                 Generalized Linear Model Regression Results                  \n",
      "==============================================================================\n",
      "Dep. Variable:                  Angry   No. Observations:                35694\n",
      "Model:                            GLM   Df Residuals:                    35690\n",
      "Model Family:                Binomial   Df Model:                            3\n",
      "Link Function:                  logit   Scale:                          1.0000\n",
      "Method:                          IRLS   Log-Likelihood:                -8411.5\n",
      "Date:                Sat, 16 Jan 2021   Deviance:                       16823.\n",
      "Time:                        23:58:39   Pearson chi2:                 3.57e+04\n",
      "No. Iterations:                     6                                         \n",
      "Covariance Type:            nonrobust                                         \n",
      "=============================================================================================================================\n",
      "                                                                coef    std err          z      P>|z|      [0.025      0.975]\n",
      "-----------------------------------------------------------------------------------------------------------------------------\n",
      "Intercept                                                    -3.7677      0.077    -48.770      0.000      -3.919      -3.616\n",
      "gender_preds[T.Male]                                          0.8730      0.091      9.592      0.000       0.695       1.051\n",
      "I(AU04_r + AU05_r + AU07_r + AU23_r)                          0.2357      0.026      8.958      0.000       0.184       0.287\n",
      "I(AU04_r + AU05_r + AU07_r + AU23_r):gender_preds[T.Male]    -0.0110      0.030     -0.367      0.713      -0.070       0.048\n",
      "=============================================================================================================================\n"
     ]
    }
   ],
   "source": [
    "formula = 'Angry ~ I(AU04_r + AU05_r + AU07_r + AU23_r) * gender_preds'\n",
    "model = smf.glm(formula = formula, data=frame, family=sm.families.Binomial())\n",
    "result = model.fit()\n",
    "print(result.summary())"
   ]
  },
  {
   "cell_type": "code",
   "execution_count": null,
   "metadata": {},
   "outputs": [],
   "source": []
  },
  {
   "cell_type": "markdown",
   "metadata": {},
   "source": [
    "# AffectNet Automatic"
   ]
  },
  {
   "cell_type": "code",
   "execution_count": 512,
   "metadata": {
    "scrolled": true
   },
   "outputs": [
    {
     "name": "stdout",
     "output_type": "stream",
     "text": [
      "(42284, 59)\n"
     ]
    },
    {
     "data": {
      "text/html": [
       "<div>\n",
       "<style scoped>\n",
       "    .dataframe tbody tr th:only-of-type {\n",
       "        vertical-align: middle;\n",
       "    }\n",
       "\n",
       "    .dataframe tbody tr th {\n",
       "        vertical-align: top;\n",
       "    }\n",
       "\n",
       "    .dataframe thead th {\n",
       "        text-align: right;\n",
       "    }\n",
       "</style>\n",
       "<table border=\"1\" class=\"dataframe\">\n",
       "  <thead>\n",
       "    <tr style=\"text-align: right;\">\n",
       "      <th></th>\n",
       "      <th>ImageName</th>\n",
       "      <th>Expression</th>\n",
       "      <th>Happy</th>\n",
       "      <th>race_preds</th>\n",
       "      <th>gender_preds</th>\n",
       "      <th>age_preds</th>\n",
       "      <th>race_scores</th>\n",
       "      <th>gender_scores</th>\n",
       "      <th>age_scores</th>\n",
       "      <th>face</th>\n",
       "      <th>...</th>\n",
       "      <th>AU05_r_c</th>\n",
       "      <th>AU06_r_c</th>\n",
       "      <th>AU09_r_c</th>\n",
       "      <th>AU10_r_c</th>\n",
       "      <th>AU12_r_c</th>\n",
       "      <th>AU15_r_c</th>\n",
       "      <th>AU17_r_c</th>\n",
       "      <th>AU20_r_c</th>\n",
       "      <th>AU25_r_c</th>\n",
       "      <th>AU26_r_c</th>\n",
       "    </tr>\n",
       "  </thead>\n",
       "  <tbody>\n",
       "    <tr>\n",
       "      <th>0</th>\n",
       "      <td>0000278c7363d43c42a4db994a51e36aad351f55e77680...</td>\n",
       "      <td>10</td>\n",
       "      <td>0</td>\n",
       "      <td>White</td>\n",
       "      <td>Female</td>\n",
       "      <td>40-49</td>\n",
       "      <td>[9.7449505e-01 5.2814976e-06 5.5093807e-03 4.6...</td>\n",
       "      <td>[7.1670633e-04 9.9928331e-01]</td>\n",
       "      <td>[2.2580596e-07 1.7767234e-06 2.0319392e-04 2.8...</td>\n",
       "      <td>0</td>\n",
       "      <td>...</td>\n",
       "      <td>0</td>\n",
       "      <td>0</td>\n",
       "      <td>0</td>\n",
       "      <td>1</td>\n",
       "      <td>0</td>\n",
       "      <td>0</td>\n",
       "      <td>0</td>\n",
       "      <td>0</td>\n",
       "      <td>1</td>\n",
       "      <td>0</td>\n",
       "    </tr>\n",
       "    <tr>\n",
       "      <th>1</th>\n",
       "      <td>0000fa4e4ffdc2a6042a0eadf8a2d067774705ba17721a...</td>\n",
       "      <td>10</td>\n",
       "      <td>0</td>\n",
       "      <td>East Asian</td>\n",
       "      <td>Female</td>\n",
       "      <td>20-29</td>\n",
       "      <td>[1.9185199e-01 7.3396941e-06 1.9742842e-03 7.8...</td>\n",
       "      <td>[6.5521155e-05 9.9993443e-01]</td>\n",
       "      <td>[1.48235313e-06 3.44420609e-04 2.11575143e-02 ...</td>\n",
       "      <td>0</td>\n",
       "      <td>...</td>\n",
       "      <td>0</td>\n",
       "      <td>0</td>\n",
       "      <td>0</td>\n",
       "      <td>0</td>\n",
       "      <td>0</td>\n",
       "      <td>0</td>\n",
       "      <td>0</td>\n",
       "      <td>0</td>\n",
       "      <td>1</td>\n",
       "      <td>0</td>\n",
       "    </tr>\n",
       "    <tr>\n",
       "      <th>2</th>\n",
       "      <td>00017248a05758584faf54d4ccdb23d5365a5bfc3e3aee...</td>\n",
       "      <td>0</td>\n",
       "      <td>0</td>\n",
       "      <td>Black</td>\n",
       "      <td>Female</td>\n",
       "      <td>30-39</td>\n",
       "      <td>[2.06290515e-05 9.99178529e-01 1.19858145e-04 ...</td>\n",
       "      <td>[0.00982992 0.9901701 ]</td>\n",
       "      <td>[1.80382315e-07 2.75580824e-05 3.95781221e-03 ...</td>\n",
       "      <td>0</td>\n",
       "      <td>...</td>\n",
       "      <td>0</td>\n",
       "      <td>0</td>\n",
       "      <td>0</td>\n",
       "      <td>0</td>\n",
       "      <td>0</td>\n",
       "      <td>0</td>\n",
       "      <td>0</td>\n",
       "      <td>0</td>\n",
       "      <td>0</td>\n",
       "      <td>0</td>\n",
       "    </tr>\n",
       "    <tr>\n",
       "      <th>3</th>\n",
       "      <td>000364dc26143c95e73e8dca30c0f3730db84c295c0b48...</td>\n",
       "      <td>1</td>\n",
       "      <td>1</td>\n",
       "      <td>East Asian</td>\n",
       "      <td>Female</td>\n",
       "      <td>20-29</td>\n",
       "      <td>[9.0016201e-03 2.3799853e-06 2.5050717e-03 9.5...</td>\n",
       "      <td>[6.7393144e-06 9.9999321e-01]</td>\n",
       "      <td>[1.0476051e-07 6.7055156e-04 1.7963018e-01 8.1...</td>\n",
       "      <td>0</td>\n",
       "      <td>...</td>\n",
       "      <td>0</td>\n",
       "      <td>0</td>\n",
       "      <td>0</td>\n",
       "      <td>0</td>\n",
       "      <td>1</td>\n",
       "      <td>0</td>\n",
       "      <td>0</td>\n",
       "      <td>0</td>\n",
       "      <td>0</td>\n",
       "      <td>0</td>\n",
       "    </tr>\n",
       "    <tr>\n",
       "      <th>4</th>\n",
       "      <td>0003a7c1e380e87c864436434115f656c92b695e384f88...</td>\n",
       "      <td>10</td>\n",
       "      <td>0</td>\n",
       "      <td>White</td>\n",
       "      <td>Female</td>\n",
       "      <td>20-29</td>\n",
       "      <td>[0.60690844 0.01389638 0.2529639  0.00064708 0...</td>\n",
       "      <td>[0.00108382 0.9989162 ]</td>\n",
       "      <td>[9.6977169e-07 3.5300865e-04 4.1254394e-02 6.1...</td>\n",
       "      <td>0</td>\n",
       "      <td>...</td>\n",
       "      <td>0</td>\n",
       "      <td>0</td>\n",
       "      <td>0</td>\n",
       "      <td>1</td>\n",
       "      <td>0</td>\n",
       "      <td>1</td>\n",
       "      <td>0</td>\n",
       "      <td>0</td>\n",
       "      <td>0</td>\n",
       "      <td>0</td>\n",
       "    </tr>\n",
       "  </tbody>\n",
       "</table>\n",
       "<p>5 rows × 59 columns</p>\n",
       "</div>"
      ],
      "text/plain": [
       "                                           ImageName  Expression  Happy  \\\n",
       "0  0000278c7363d43c42a4db994a51e36aad351f55e77680...          10      0   \n",
       "1  0000fa4e4ffdc2a6042a0eadf8a2d067774705ba17721a...          10      0   \n",
       "2  00017248a05758584faf54d4ccdb23d5365a5bfc3e3aee...           0      0   \n",
       "3  000364dc26143c95e73e8dca30c0f3730db84c295c0b48...           1      1   \n",
       "4  0003a7c1e380e87c864436434115f656c92b695e384f88...          10      0   \n",
       "\n",
       "   race_preds gender_preds age_preds  \\\n",
       "0       White       Female     40-49   \n",
       "1  East Asian       Female     20-29   \n",
       "2       Black       Female     30-39   \n",
       "3  East Asian       Female     20-29   \n",
       "4       White       Female     20-29   \n",
       "\n",
       "                                         race_scores  \\\n",
       "0  [9.7449505e-01 5.2814976e-06 5.5093807e-03 4.6...   \n",
       "1  [1.9185199e-01 7.3396941e-06 1.9742842e-03 7.8...   \n",
       "2  [2.06290515e-05 9.99178529e-01 1.19858145e-04 ...   \n",
       "3  [9.0016201e-03 2.3799853e-06 2.5050717e-03 9.5...   \n",
       "4  [0.60690844 0.01389638 0.2529639  0.00064708 0...   \n",
       "\n",
       "                   gender_scores  \\\n",
       "0  [7.1670633e-04 9.9928331e-01]   \n",
       "1  [6.5521155e-05 9.9993443e-01]   \n",
       "2        [0.00982992 0.9901701 ]   \n",
       "3  [6.7393144e-06 9.9999321e-01]   \n",
       "4        [0.00108382 0.9989162 ]   \n",
       "\n",
       "                                          age_scores  face  ...  AU05_r_c  \\\n",
       "0  [2.2580596e-07 1.7767234e-06 2.0319392e-04 2.8...     0  ...         0   \n",
       "1  [1.48235313e-06 3.44420609e-04 2.11575143e-02 ...     0  ...         0   \n",
       "2  [1.80382315e-07 2.75580824e-05 3.95781221e-03 ...     0  ...         0   \n",
       "3  [1.0476051e-07 6.7055156e-04 1.7963018e-01 8.1...     0  ...         0   \n",
       "4  [9.6977169e-07 3.5300865e-04 4.1254394e-02 6.1...     0  ...         0   \n",
       "\n",
       "   AU06_r_c  AU09_r_c  AU10_r_c  AU12_r_c  AU15_r_c  AU17_r_c  AU20_r_c  \\\n",
       "0         0         0         1         0         0         0         0   \n",
       "1         0         0         0         0         0         0         0   \n",
       "2         0         0         0         0         0         0         0   \n",
       "3         0         0         0         1         0         0         0   \n",
       "4         0         0         1         0         1         0         0   \n",
       "\n",
       "   AU25_r_c  AU26_r_c  \n",
       "0         1         0  \n",
       "1         1         0  \n",
       "2         0         0  \n",
       "3         0         0  \n",
       "4         0         0  \n",
       "\n",
       "[5 rows x 59 columns]"
      ]
     },
     "execution_count": 512,
     "metadata": {},
     "output_type": "execute_result"
    }
   ],
   "source": [
    "frame = pd.read_csv('AffectNet_Automatic_OpenFace_result_with_expression_gender_race_age.csv')\n",
    "print(frame.shape)\n",
    "frame.head()"
   ]
  },
  {
   "cell_type": "code",
   "execution_count": 513,
   "metadata": {},
   "outputs": [],
   "source": [
    "frame['Angry'] = (frame.Expression == 6).astype(int)"
   ]
  },
  {
   "cell_type": "code",
   "execution_count": 514,
   "metadata": {
    "scrolled": false
   },
   "outputs": [
    {
     "name": "stdout",
     "output_type": "stream",
     "text": [
      "['ImageName', 'Expression', 'Happy', 'race_preds', 'gender_preds', 'age_preds', 'race_scores', 'gender_scores', 'age_scores', 'face', 'confidence', 'AU01_c', 'AU02_c', 'AU04_c', 'AU05_c', 'AU06_c', 'AU07_c', 'AU09_c', 'AU10_c', 'AU12_c', 'AU14_c', 'AU15_c', 'AU17_c', 'AU20_c', 'AU23_c', 'AU25_c', 'AU26_c', 'AU28_c', 'AU45_c', 'AU01_r', 'AU02_r', 'AU04_r', 'AU05_r', 'AU06_r', 'AU07_r', 'AU09_r', 'AU10_r', 'AU12_r', 'AU14_r', 'AU15_r', 'AU17_r', 'AU20_r', 'AU23_r', 'AU25_r', 'AU26_r', 'AU45_r', 'AU01_r_c', 'AU02_r_c', 'AU04_r_c', 'AU05_r_c', 'AU06_r_c', 'AU09_r_c', 'AU10_r_c', 'AU12_r_c', 'AU15_r_c', 'AU17_r_c', 'AU20_r_c', 'AU25_r_c', 'AU26_r_c', 'Angry']\n"
     ]
    }
   ],
   "source": [
    "print(list(frame.columns))"
   ]
  },
  {
   "cell_type": "code",
   "execution_count": 515,
   "metadata": {},
   "outputs": [
    {
     "data": {
      "text/html": [
       "<div>\n",
       "<style scoped>\n",
       "    .dataframe tbody tr th:only-of-type {\n",
       "        vertical-align: middle;\n",
       "    }\n",
       "\n",
       "    .dataframe tbody tr th {\n",
       "        vertical-align: top;\n",
       "    }\n",
       "\n",
       "    .dataframe thead th {\n",
       "        text-align: right;\n",
       "    }\n",
       "</style>\n",
       "<table border=\"1\" class=\"dataframe\">\n",
       "  <thead>\n",
       "    <tr style=\"text-align: right;\">\n",
       "      <th></th>\n",
       "      <th>AU04_c</th>\n",
       "      <th>AU05_c</th>\n",
       "      <th>AU07_c</th>\n",
       "      <th>AU23_c</th>\n",
       "    </tr>\n",
       "  </thead>\n",
       "  <tbody>\n",
       "    <tr>\n",
       "      <th>AU04_c</th>\n",
       "      <td>1.000000</td>\n",
       "      <td>-0.146116</td>\n",
       "      <td>0.102863</td>\n",
       "      <td>0.061244</td>\n",
       "    </tr>\n",
       "    <tr>\n",
       "      <th>AU05_c</th>\n",
       "      <td>-0.146116</td>\n",
       "      <td>1.000000</td>\n",
       "      <td>-0.196551</td>\n",
       "      <td>-0.023305</td>\n",
       "    </tr>\n",
       "    <tr>\n",
       "      <th>AU07_c</th>\n",
       "      <td>0.102863</td>\n",
       "      <td>-0.196551</td>\n",
       "      <td>1.000000</td>\n",
       "      <td>0.039128</td>\n",
       "    </tr>\n",
       "    <tr>\n",
       "      <th>AU23_c</th>\n",
       "      <td>0.061244</td>\n",
       "      <td>-0.023305</td>\n",
       "      <td>0.039128</td>\n",
       "      <td>1.000000</td>\n",
       "    </tr>\n",
       "  </tbody>\n",
       "</table>\n",
       "</div>"
      ],
      "text/plain": [
       "          AU04_c    AU05_c    AU07_c    AU23_c\n",
       "AU04_c  1.000000 -0.146116  0.102863  0.061244\n",
       "AU05_c -0.146116  1.000000 -0.196551 -0.023305\n",
       "AU07_c  0.102863 -0.196551  1.000000  0.039128\n",
       "AU23_c  0.061244 -0.023305  0.039128  1.000000"
      ]
     },
     "execution_count": 515,
     "metadata": {},
     "output_type": "execute_result"
    }
   ],
   "source": [
    "frame[['AU04_c', 'AU05_c', 'AU07_c', 'AU23_c']].corr()"
   ]
  },
  {
   "cell_type": "code",
   "execution_count": 516,
   "metadata": {},
   "outputs": [
    {
     "data": {
      "text/html": [
       "<div>\n",
       "<style scoped>\n",
       "    .dataframe tbody tr th:only-of-type {\n",
       "        vertical-align: middle;\n",
       "    }\n",
       "\n",
       "    .dataframe tbody tr th {\n",
       "        vertical-align: top;\n",
       "    }\n",
       "\n",
       "    .dataframe thead th {\n",
       "        text-align: right;\n",
       "    }\n",
       "</style>\n",
       "<table border=\"1\" class=\"dataframe\">\n",
       "  <thead>\n",
       "    <tr style=\"text-align: right;\">\n",
       "      <th></th>\n",
       "      <th>AU04_r</th>\n",
       "      <th>AU05_r</th>\n",
       "      <th>AU07_r</th>\n",
       "      <th>AU23_r</th>\n",
       "    </tr>\n",
       "  </thead>\n",
       "  <tbody>\n",
       "    <tr>\n",
       "      <th>AU04_r</th>\n",
       "      <td>1.000000</td>\n",
       "      <td>-0.064445</td>\n",
       "      <td>0.195296</td>\n",
       "      <td>0.074951</td>\n",
       "    </tr>\n",
       "    <tr>\n",
       "      <th>AU05_r</th>\n",
       "      <td>-0.064445</td>\n",
       "      <td>1.000000</td>\n",
       "      <td>-0.232259</td>\n",
       "      <td>-0.004323</td>\n",
       "    </tr>\n",
       "    <tr>\n",
       "      <th>AU07_r</th>\n",
       "      <td>0.195296</td>\n",
       "      <td>-0.232259</td>\n",
       "      <td>1.000000</td>\n",
       "      <td>0.103231</td>\n",
       "    </tr>\n",
       "    <tr>\n",
       "      <th>AU23_r</th>\n",
       "      <td>0.074951</td>\n",
       "      <td>-0.004323</td>\n",
       "      <td>0.103231</td>\n",
       "      <td>1.000000</td>\n",
       "    </tr>\n",
       "  </tbody>\n",
       "</table>\n",
       "</div>"
      ],
      "text/plain": [
       "          AU04_r    AU05_r    AU07_r    AU23_r\n",
       "AU04_r  1.000000 -0.064445  0.195296  0.074951\n",
       "AU05_r -0.064445  1.000000 -0.232259 -0.004323\n",
       "AU07_r  0.195296 -0.232259  1.000000  0.103231\n",
       "AU23_r  0.074951 -0.004323  0.103231  1.000000"
      ]
     },
     "execution_count": 516,
     "metadata": {},
     "output_type": "execute_result"
    }
   ],
   "source": [
    "frame[['AU04_r', 'AU05_r', 'AU07_r', 'AU23_r']].corr()"
   ]
  },
  {
   "cell_type": "code",
   "execution_count": 517,
   "metadata": {},
   "outputs": [
    {
     "data": {
      "text/plain": [
       "(42284, 60)"
      ]
     },
     "execution_count": 517,
     "metadata": {},
     "output_type": "execute_result"
    }
   ],
   "source": [
    "frame = frame.dropna()\n",
    "frame.shape"
   ]
  },
  {
   "cell_type": "code",
   "execution_count": 518,
   "metadata": {},
   "outputs": [
    {
     "data": {
      "text/plain": [
       "0000    6754\n",
       "0100    6714\n",
       "0010    6159\n",
       "1010    4198\n",
       "1000    3557\n",
       "0110    2635\n",
       "1100    1846\n",
       "0011    1697\n",
       "0001    1660\n",
       "1011    1650\n",
       "0101    1596\n",
       "1001    1103\n",
       "1110    1084\n",
       "0111     703\n",
       "1101     552\n",
       "1111     376\n",
       "Name: AU4_5_7_23_c, dtype: int64"
      ]
     },
     "execution_count": 518,
     "metadata": {},
     "output_type": "execute_result"
    }
   ],
   "source": [
    "frame['AU4_5_7_23_c'] = frame.AU04_c.apply(int).apply(str) + frame.AU05_c.apply(int).apply(str) + frame.AU07_c.apply(int).apply(str) + frame.AU23_c.apply(int).apply(str)\n",
    "frame.AU4_5_7_23_c.value_counts()"
   ]
  },
  {
   "cell_type": "code",
   "execution_count": 519,
   "metadata": {},
   "outputs": [
    {
     "data": {
      "text/plain": [
       "0000    18407\n",
       "0010    13524\n",
       "0001     4792\n",
       "0011     4220\n",
       "1010      526\n",
       "0100      234\n",
       "1000      228\n",
       "1011      200\n",
       "1001       65\n",
       "0101       54\n",
       "0110       25\n",
       "0111        6\n",
       "1100        2\n",
       "1110        1\n",
       "Name: AU4_5_7_23_r_c, dtype: int64"
      ]
     },
     "execution_count": 519,
     "metadata": {},
     "output_type": "execute_result"
    }
   ],
   "source": [
    "frame['AU4_5_7_23_r_c'] = frame.AU04_r_c.apply(str) + frame.AU05_r_c.apply(str) + frame.AU07_c.apply(int).apply(str) + frame.AU23_c.apply(int).apply(str)\n",
    "frame.AU4_5_7_23_r_c.value_counts()"
   ]
  },
  {
   "cell_type": "markdown",
   "metadata": {},
   "source": [
    "# P(expression|AU1, male) =? P(expression|AU1, female)"
   ]
  },
  {
   "cell_type": "code",
   "execution_count": 520,
   "metadata": {},
   "outputs": [
    {
     "name": "stdout",
     "output_type": "stream",
     "text": [
      "(22062, 62)\n",
      "(20222, 62)\n"
     ]
    }
   ],
   "source": [
    "male_frame = frame.loc[frame['gender_preds'] == 'Male']\n",
    "female_frame = frame.loc[frame['gender_preds'] == 'Female']\n",
    "print(male_frame.shape)\n",
    "print(female_frame.shape)"
   ]
  },
  {
   "cell_type": "markdown",
   "metadata": {},
   "source": [
    "## Anger"
   ]
  },
  {
   "cell_type": "markdown",
   "metadata": {},
   "source": [
    "#### First check the simple proportion of male angry vs female angry:"
   ]
  },
  {
   "cell_type": "code",
   "execution_count": 521,
   "metadata": {
    "scrolled": false
   },
   "outputs": [
    {
     "name": "stdout",
     "output_type": "stream",
     "text": [
      "0.09282929924757502\n",
      "0.020818910097913163\n"
     ]
    }
   ],
   "source": [
    "print(male_frame.Angry.mean())\n",
    "print(female_frame.Angry.mean())"
   ]
  },
  {
   "cell_type": "code",
   "execution_count": 522,
   "metadata": {
    "scrolled": false
   },
   "outputs": [
    {
     "name": "stdout",
     "output_type": "stream",
     "text": [
      "0.028691868370954582\n",
      "0.019236475126100286\n"
     ]
    }
   ],
   "source": [
    "print(male_frame.AU04_r_c.mean())\n",
    "print(female_frame.AU04_r_c.mean())"
   ]
  },
  {
   "cell_type": "code",
   "execution_count": 523,
   "metadata": {
    "scrolled": false
   },
   "outputs": [
    {
     "name": "stdout",
     "output_type": "stream",
     "text": [
      "0.006164445653159279\n",
      "0.009197903273662348\n"
     ]
    }
   ],
   "source": [
    "print(male_frame.AU05_r_c.mean())\n",
    "print(female_frame.AU05_r_c.mean())"
   ]
  },
  {
   "cell_type": "code",
   "execution_count": 524,
   "metadata": {
    "scrolled": false
   },
   "outputs": [
    {
     "name": "stdout",
     "output_type": "stream",
     "text": [
      "0.43232707823406763\n",
      "0.44327959647908216\n"
     ]
    }
   ],
   "source": [
    "print(male_frame.AU07_c.mean())\n",
    "print(female_frame.AU07_c.mean())"
   ]
  },
  {
   "cell_type": "code",
   "execution_count": 525,
   "metadata": {
    "scrolled": false
   },
   "outputs": [
    {
     "name": "stdout",
     "output_type": "stream",
     "text": [
      "0.27381923669658237\n",
      "0.16299080209672634\n"
     ]
    }
   ],
   "source": [
    "print(male_frame.AU23_c.mean())\n",
    "print(female_frame.AU23_c.mean())"
   ]
  },
  {
   "cell_type": "code",
   "execution_count": 526,
   "metadata": {
    "scrolled": false
   },
   "outputs": [
    {
     "name": "stdout",
     "output_type": "stream",
     "text": [
      "0.011331701568307498\n",
      "0.006230837701513204\n"
     ]
    }
   ],
   "source": [
    "print((male_frame.AU4_5_7_23_c=='1111').mean())\n",
    "print((female_frame.AU4_5_7_23_c=='1111').mean())"
   ]
  },
  {
   "cell_type": "code",
   "execution_count": 527,
   "metadata": {
    "scrolled": false
   },
   "outputs": [
    {
     "name": "stdout",
     "output_type": "stream",
     "text": [
      "0.8492883691415103\n",
      "0.8304322025516764\n"
     ]
    }
   ],
   "source": [
    "print(1-(male_frame.AU4_5_7_23_c=='0000').mean())\n",
    "print(1-(female_frame.AU4_5_7_23_c=='0000').mean())"
   ]
  },
  {
   "cell_type": "markdown",
   "metadata": {},
   "source": [
    "#### Now check for conditional probability, controlled by AU:"
   ]
  },
  {
   "cell_type": "code",
   "execution_count": 533,
   "metadata": {},
   "outputs": [
    {
     "name": "stdout",
     "output_type": "stream",
     "text": [
      "883.5636194934368\n",
      "78.95528925292228\n"
     ]
    },
    {
     "data": {
      "text/html": [
       "<div>\n",
       "<style scoped>\n",
       "    .dataframe tbody tr th:only-of-type {\n",
       "        vertical-align: middle;\n",
       "    }\n",
       "\n",
       "    .dataframe tbody tr th {\n",
       "        vertical-align: top;\n",
       "    }\n",
       "\n",
       "    .dataframe thead th {\n",
       "        text-align: right;\n",
       "    }\n",
       "</style>\n",
       "<table border=\"1\" class=\"dataframe\">\n",
       "  <thead>\n",
       "    <tr style=\"text-align: right;\">\n",
       "      <th></th>\n",
       "      <th>male</th>\n",
       "      <th>female</th>\n",
       "      <th>diff</th>\n",
       "      <th>p-value</th>\n",
       "    </tr>\n",
       "    <tr>\n",
       "      <th>AU04_r_c</th>\n",
       "      <th></th>\n",
       "      <th></th>\n",
       "      <th></th>\n",
       "      <th></th>\n",
       "    </tr>\n",
       "  </thead>\n",
       "  <tbody>\n",
       "    <tr>\n",
       "      <th>0</th>\n",
       "      <td>0.084512</td>\n",
       "      <td>0.018908</td>\n",
       "      <td>-0.065604</td>\n",
       "      <td>0.0</td>\n",
       "    </tr>\n",
       "    <tr>\n",
       "      <th>1</th>\n",
       "      <td>0.374408</td>\n",
       "      <td>0.118252</td>\n",
       "      <td>-0.256156</td>\n",
       "      <td>0.0</td>\n",
       "    </tr>\n",
       "  </tbody>\n",
       "</table>\n",
       "</div>"
      ],
      "text/plain": [
       "              male    female      diff  p-value\n",
       "AU04_r_c                                       \n",
       "0         0.084512  0.018908 -0.065604      0.0\n",
       "1         0.374408  0.118252 -0.256156      0.0"
      ]
     },
     "execution_count": 533,
     "metadata": {},
     "output_type": "execute_result"
    }
   ],
   "source": [
    "result_df = pd.concat([pd.crosstab(male_frame.AU04_r_c, male_frame.Angry, normalize = 'index')[1], pd.crosstab(female_frame.AU04_r_c, female_frame.Angry, normalize = 'index')[1]], axis=1)\n",
    "result_df.columns = ['male', 'female']\n",
    "result_df['diff'] = result_df.female - result_df.male\n",
    "for index, row in result_df.iterrows():\n",
    "    cross_tab = pd.crosstab(frame[frame.AU04_r_c == index].gender_preds, frame[frame.AU04_r_c == index].Angry, margins = True)\n",
    "\n",
    "    cross_tab.columns = [\"Not Angry\", \"Angry\", \"row_totals\"]\n",
    "    cross_tab.index = [\"Female\", \"Male\", \"col_totals\"]\n",
    "    observed = cross_tab.iloc[0:2,0:2]   # Get table without totals for later use\n",
    "\n",
    "    expected =  np.outer(cross_tab[\"row_totals\"][0:2],\n",
    "                     cross_tab.loc[\"col_totals\"][0:2]) / len(frame[frame.AU04_r_c == index])\n",
    "\n",
    "    expected = pd.DataFrame(expected)\n",
    "    expected.columns = [\"Not Angry\", \"Angry\"]\n",
    "    expected.index = [\"Female\", \"Male\"]\n",
    "\n",
    "    if (expected>=5).sum().sum() == 4:\n",
    "        chi_squared_stat = (((observed-expected)**2)/expected).sum().sum()\n",
    "        p_value = 1 - stats.chi2.cdf(x=chi_squared_stat, df=1)\n",
    "    else:\n",
    "        chi_squared_stat = np.nan\n",
    "        p_value = np.nan\n",
    "\n",
    "    print(chi_squared_stat)\n",
    "    \n",
    "    result_df.loc[index, \"p-value\"] = p_value\n",
    "result_df"
   ]
  },
  {
   "cell_type": "code",
   "execution_count": 534,
   "metadata": {},
   "outputs": [
    {
     "name": "stdout",
     "output_type": "stream",
     "text": [
      "989.9056063187774\n",
      "nan\n"
     ]
    },
    {
     "data": {
      "text/html": [
       "<div>\n",
       "<style scoped>\n",
       "    .dataframe tbody tr th:only-of-type {\n",
       "        vertical-align: middle;\n",
       "    }\n",
       "\n",
       "    .dataframe tbody tr th {\n",
       "        vertical-align: top;\n",
       "    }\n",
       "\n",
       "    .dataframe thead th {\n",
       "        text-align: right;\n",
       "    }\n",
       "</style>\n",
       "<table border=\"1\" class=\"dataframe\">\n",
       "  <thead>\n",
       "    <tr style=\"text-align: right;\">\n",
       "      <th></th>\n",
       "      <th>male</th>\n",
       "      <th>female</th>\n",
       "      <th>diff</th>\n",
       "      <th>p-value</th>\n",
       "    </tr>\n",
       "    <tr>\n",
       "      <th>AU05_r_c</th>\n",
       "      <th></th>\n",
       "      <th></th>\n",
       "      <th></th>\n",
       "      <th></th>\n",
       "    </tr>\n",
       "  </thead>\n",
       "  <tbody>\n",
       "    <tr>\n",
       "      <th>0</th>\n",
       "      <td>0.093177</td>\n",
       "      <td>0.020912</td>\n",
       "      <td>-0.072265</td>\n",
       "      <td>0.0</td>\n",
       "    </tr>\n",
       "    <tr>\n",
       "      <th>1</th>\n",
       "      <td>0.036765</td>\n",
       "      <td>0.010753</td>\n",
       "      <td>-0.026012</td>\n",
       "      <td>NaN</td>\n",
       "    </tr>\n",
       "  </tbody>\n",
       "</table>\n",
       "</div>"
      ],
      "text/plain": [
       "              male    female      diff  p-value\n",
       "AU05_r_c                                       \n",
       "0         0.093177  0.020912 -0.072265      0.0\n",
       "1         0.036765  0.010753 -0.026012      NaN"
      ]
     },
     "execution_count": 534,
     "metadata": {},
     "output_type": "execute_result"
    }
   ],
   "source": [
    "result_df = pd.concat([pd.crosstab(male_frame.AU05_r_c, male_frame.Angry, normalize = 'index')[1], pd.crosstab(female_frame.AU05_r_c, female_frame.Angry, normalize = 'index')[1]], axis=1)\n",
    "result_df.columns = ['male', 'female']\n",
    "result_df['diff'] = result_df.female - result_df.male\n",
    "for index, row in result_df.iterrows():\n",
    "    cross_tab = pd.crosstab(frame[frame.AU05_r_c == index].gender_preds, frame[frame.AU05_r_c == index].Angry, margins = True)\n",
    "\n",
    "    cross_tab.columns = [\"Not Angry\", \"Angry\", \"row_totals\"]\n",
    "    cross_tab.index = [\"Female\", \"Male\", \"col_totals\"]\n",
    "    observed = cross_tab.iloc[0:2,0:2]   # Get table without totals for later use\n",
    "\n",
    "    expected =  np.outer(cross_tab[\"row_totals\"][0:2],\n",
    "                     cross_tab.loc[\"col_totals\"][0:2]) / len(frame[frame.AU05_r_c == index])\n",
    "\n",
    "    expected = pd.DataFrame(expected)\n",
    "    expected.columns = [\"Not Angry\", \"Angry\"]\n",
    "    expected.index = [\"Female\", \"Male\"]\n",
    "\n",
    "    if (expected>=5).sum().sum() == 4:\n",
    "        chi_squared_stat = (((observed-expected)**2)/expected).sum().sum()\n",
    "        p_value = 1 - stats.chi2.cdf(x=chi_squared_stat, df=1)\n",
    "    else:\n",
    "        chi_squared_stat = np.nan\n",
    "        p_value = np.nan\n",
    "\n",
    "    print(chi_squared_stat)\n",
    "    \n",
    "    result_df.loc[index, \"p-value\"] = p_value\n",
    "result_df"
   ]
  },
  {
   "cell_type": "code",
   "execution_count": 530,
   "metadata": {},
   "outputs": [
    {
     "name": "stdout",
     "output_type": "stream",
     "text": [
      "507.49262384306564\n",
      "494.54798550750127\n"
     ]
    },
    {
     "data": {
      "text/html": [
       "<div>\n",
       "<style scoped>\n",
       "    .dataframe tbody tr th:only-of-type {\n",
       "        vertical-align: middle;\n",
       "    }\n",
       "\n",
       "    .dataframe tbody tr th {\n",
       "        vertical-align: top;\n",
       "    }\n",
       "\n",
       "    .dataframe thead th {\n",
       "        text-align: right;\n",
       "    }\n",
       "</style>\n",
       "<table border=\"1\" class=\"dataframe\">\n",
       "  <thead>\n",
       "    <tr style=\"text-align: right;\">\n",
       "      <th></th>\n",
       "      <th>male</th>\n",
       "      <th>female</th>\n",
       "      <th>diff</th>\n",
       "      <th>p-value</th>\n",
       "    </tr>\n",
       "    <tr>\n",
       "      <th>AU07_c</th>\n",
       "      <th></th>\n",
       "      <th></th>\n",
       "      <th></th>\n",
       "      <th></th>\n",
       "    </tr>\n",
       "  </thead>\n",
       "  <tbody>\n",
       "    <tr>\n",
       "      <th>0.0</th>\n",
       "      <td>0.081044</td>\n",
       "      <td>0.016877</td>\n",
       "      <td>-0.064168</td>\n",
       "      <td>0.0</td>\n",
       "    </tr>\n",
       "    <tr>\n",
       "      <th>1.0</th>\n",
       "      <td>0.108304</td>\n",
       "      <td>0.025770</td>\n",
       "      <td>-0.082534</td>\n",
       "      <td>0.0</td>\n",
       "    </tr>\n",
       "  </tbody>\n",
       "</table>\n",
       "</div>"
      ],
      "text/plain": [
       "            male    female      diff  p-value\n",
       "AU07_c                                       \n",
       "0.0     0.081044  0.016877 -0.064168      0.0\n",
       "1.0     0.108304  0.025770 -0.082534      0.0"
      ]
     },
     "execution_count": 530,
     "metadata": {},
     "output_type": "execute_result"
    }
   ],
   "source": [
    "result_df = pd.concat([pd.crosstab(male_frame.AU07_c, male_frame.Angry, normalize = 'index')[1], pd.crosstab(female_frame.AU07_c, female_frame.Angry, normalize = 'index')[1]], axis=1)\n",
    "result_df.columns = ['male', 'female']\n",
    "result_df['diff'] = result_df.female - result_df.male\n",
    "for index, row in result_df.iterrows():\n",
    "    cross_tab = pd.crosstab(frame[frame.AU07_c == index].gender_preds, frame[frame.AU07_c == index].Angry, margins = True)\n",
    "\n",
    "    cross_tab.columns = [\"Not Angry\", \"Angry\", \"row_totals\"]\n",
    "    cross_tab.index = [\"Female\", \"Male\", \"col_totals\"]\n",
    "    observed = cross_tab.iloc[0:2,0:2]   # Get table without totals for later use\n",
    "\n",
    "    expected =  np.outer(cross_tab[\"row_totals\"][0:2],\n",
    "                     cross_tab.loc[\"col_totals\"][0:2]) / len(frame[frame.AU07_c == index])\n",
    "\n",
    "    expected = pd.DataFrame(expected)\n",
    "    expected.columns = [\"Not Angry\", \"Angry\"]\n",
    "    expected.index = [\"Female\", \"Male\"]\n",
    "\n",
    "    if (expected>=5).sum().sum() == 4:\n",
    "        chi_squared_stat = (((observed-expected)**2)/expected).sum().sum()\n",
    "        p_value = 1 - stats.chi2.cdf(x=chi_squared_stat, df=1)\n",
    "    else:\n",
    "        chi_squared_stat = np.nan\n",
    "        p_value = np.nan\n",
    "\n",
    "    print(chi_squared_stat)\n",
    "    \n",
    "    result_df.loc[index, \"p-value\"] = p_value\n",
    "result_df"
   ]
  },
  {
   "cell_type": "code",
   "execution_count": 531,
   "metadata": {},
   "outputs": [
    {
     "name": "stdout",
     "output_type": "stream",
     "text": [
      "906.0328034305758\n",
      "109.75170801542147\n"
     ]
    },
    {
     "data": {
      "text/html": [
       "<div>\n",
       "<style scoped>\n",
       "    .dataframe tbody tr th:only-of-type {\n",
       "        vertical-align: middle;\n",
       "    }\n",
       "\n",
       "    .dataframe tbody tr th {\n",
       "        vertical-align: top;\n",
       "    }\n",
       "\n",
       "    .dataframe thead th {\n",
       "        text-align: right;\n",
       "    }\n",
       "</style>\n",
       "<table border=\"1\" class=\"dataframe\">\n",
       "  <thead>\n",
       "    <tr style=\"text-align: right;\">\n",
       "      <th></th>\n",
       "      <th>male</th>\n",
       "      <th>female</th>\n",
       "      <th>diff</th>\n",
       "      <th>p-value</th>\n",
       "    </tr>\n",
       "    <tr>\n",
       "      <th>AU23_c</th>\n",
       "      <th></th>\n",
       "      <th></th>\n",
       "      <th></th>\n",
       "      <th></th>\n",
       "    </tr>\n",
       "  </thead>\n",
       "  <tbody>\n",
       "    <tr>\n",
       "      <th>0.0</th>\n",
       "      <td>0.095874</td>\n",
       "      <td>0.019260</td>\n",
       "      <td>-0.076614</td>\n",
       "      <td>0.0</td>\n",
       "    </tr>\n",
       "    <tr>\n",
       "      <th>1.0</th>\n",
       "      <td>0.084754</td>\n",
       "      <td>0.028823</td>\n",
       "      <td>-0.055931</td>\n",
       "      <td>0.0</td>\n",
       "    </tr>\n",
       "  </tbody>\n",
       "</table>\n",
       "</div>"
      ],
      "text/plain": [
       "            male    female      diff  p-value\n",
       "AU23_c                                       \n",
       "0.0     0.095874  0.019260 -0.076614      0.0\n",
       "1.0     0.084754  0.028823 -0.055931      0.0"
      ]
     },
     "execution_count": 531,
     "metadata": {},
     "output_type": "execute_result"
    }
   ],
   "source": [
    "result_df = pd.concat([pd.crosstab(male_frame.AU23_c, male_frame.Angry, normalize = 'index')[1], pd.crosstab(female_frame.AU23_c, female_frame.Angry, normalize = 'index')[1]], axis=1)\n",
    "result_df.columns = ['male', 'female']\n",
    "result_df['diff'] = result_df.female - result_df.male\n",
    "for index, row in result_df.iterrows():\n",
    "    cross_tab = pd.crosstab(frame[frame.AU23_c == index].gender_preds, frame[frame.AU23_c == index].Angry, margins = True)\n",
    "\n",
    "    cross_tab.columns = [\"Not Angry\", \"Angry\", \"row_totals\"]\n",
    "    cross_tab.index = [\"Female\", \"Male\", \"col_totals\"]\n",
    "    observed = cross_tab.iloc[0:2,0:2]   # Get table without totals for later use\n",
    "\n",
    "    expected =  np.outer(cross_tab[\"row_totals\"][0:2],\n",
    "                     cross_tab.loc[\"col_totals\"][0:2]) / len(frame[frame.AU23_c == index])\n",
    "\n",
    "    expected = pd.DataFrame(expected)\n",
    "    expected.columns = [\"Not Angry\", \"Angry\"]\n",
    "    expected.index = [\"Female\", \"Male\"]\n",
    "\n",
    "    if (expected>=5).sum().sum() == 4:\n",
    "        chi_squared_stat = (((observed-expected)**2)/expected).sum().sum()\n",
    "        p_value = 1 - stats.chi2.cdf(x=chi_squared_stat, df=1)\n",
    "    else:\n",
    "        chi_squared_stat = np.nan\n",
    "        p_value = np.nan\n",
    "\n",
    "    print(chi_squared_stat)\n",
    "    \n",
    "    result_df.loc[index, \"p-value\"] = p_value\n",
    "result_df"
   ]
  },
  {
   "cell_type": "code",
   "execution_count": 535,
   "metadata": {
    "scrolled": true
   },
   "outputs": [
    {
     "name": "stdout",
     "output_type": "stream",
     "text": [
      "448.0777621941081\n",
      "50.15641487479886\n",
      "361.2119910112805\n",
      "45.32104912432954\n",
      "nan\n"
     ]
    },
    {
     "ename": "ValueError",
     "evalue": "Length mismatch: Expected axis has 2 elements, new values have 3 elements",
     "output_type": "error",
     "traceback": [
      "\u001b[0;31m---------------------------------------------------------------------------\u001b[0m",
      "\u001b[0;31mValueError\u001b[0m                                Traceback (most recent call last)",
      "\u001b[0;32m<ipython-input-535-1de786444efd>\u001b[0m in \u001b[0;36m<module>\u001b[0;34m\u001b[0m\n\u001b[1;32m      5\u001b[0m     \u001b[0mcross_tab\u001b[0m \u001b[0;34m=\u001b[0m \u001b[0mpd\u001b[0m\u001b[0;34m.\u001b[0m\u001b[0mcrosstab\u001b[0m\u001b[0;34m(\u001b[0m\u001b[0mframe\u001b[0m\u001b[0;34m[\u001b[0m\u001b[0mframe\u001b[0m\u001b[0;34m.\u001b[0m\u001b[0mAU4_5_7_23_r_c\u001b[0m \u001b[0;34m==\u001b[0m \u001b[0mindex\u001b[0m\u001b[0;34m]\u001b[0m\u001b[0;34m.\u001b[0m\u001b[0mgender_preds\u001b[0m\u001b[0;34m,\u001b[0m \u001b[0mframe\u001b[0m\u001b[0;34m[\u001b[0m\u001b[0mframe\u001b[0m\u001b[0;34m.\u001b[0m\u001b[0mAU4_5_7_23_r_c\u001b[0m \u001b[0;34m==\u001b[0m \u001b[0mindex\u001b[0m\u001b[0;34m]\u001b[0m\u001b[0;34m.\u001b[0m\u001b[0mAngry\u001b[0m\u001b[0;34m,\u001b[0m \u001b[0mmargins\u001b[0m \u001b[0;34m=\u001b[0m \u001b[0;32mTrue\u001b[0m\u001b[0;34m)\u001b[0m\u001b[0;34m\u001b[0m\u001b[0;34m\u001b[0m\u001b[0m\n\u001b[1;32m      6\u001b[0m \u001b[0;34m\u001b[0m\u001b[0m\n\u001b[0;32m----> 7\u001b[0;31m     \u001b[0mcross_tab\u001b[0m\u001b[0;34m.\u001b[0m\u001b[0mcolumns\u001b[0m \u001b[0;34m=\u001b[0m \u001b[0;34m[\u001b[0m\u001b[0;34m\"Not Angry\"\u001b[0m\u001b[0;34m,\u001b[0m \u001b[0;34m\"Angry\"\u001b[0m\u001b[0;34m,\u001b[0m \u001b[0;34m\"row_totals\"\u001b[0m\u001b[0;34m]\u001b[0m\u001b[0;34m\u001b[0m\u001b[0;34m\u001b[0m\u001b[0m\n\u001b[0m\u001b[1;32m      8\u001b[0m     \u001b[0mcross_tab\u001b[0m\u001b[0;34m.\u001b[0m\u001b[0mindex\u001b[0m \u001b[0;34m=\u001b[0m \u001b[0;34m[\u001b[0m\u001b[0;34m\"Female\"\u001b[0m\u001b[0;34m,\u001b[0m \u001b[0;34m\"Male\"\u001b[0m\u001b[0;34m,\u001b[0m \u001b[0;34m\"col_totals\"\u001b[0m\u001b[0;34m]\u001b[0m\u001b[0;34m\u001b[0m\u001b[0;34m\u001b[0m\u001b[0m\n\u001b[1;32m      9\u001b[0m     \u001b[0mobserved\u001b[0m \u001b[0;34m=\u001b[0m \u001b[0mcross_tab\u001b[0m\u001b[0;34m.\u001b[0m\u001b[0miloc\u001b[0m\u001b[0;34m[\u001b[0m\u001b[0;36m0\u001b[0m\u001b[0;34m:\u001b[0m\u001b[0;36m2\u001b[0m\u001b[0;34m,\u001b[0m\u001b[0;36m0\u001b[0m\u001b[0;34m:\u001b[0m\u001b[0;36m2\u001b[0m\u001b[0;34m]\u001b[0m   \u001b[0;31m# Get table without totals for later use\u001b[0m\u001b[0;34m\u001b[0m\u001b[0;34m\u001b[0m\u001b[0m\n",
      "\u001b[0;32m/usr/local/lib/python3.8/dist-packages/pandas/core/generic.py\u001b[0m in \u001b[0;36m__setattr__\u001b[0;34m(self, name, value)\u001b[0m\n\u001b[1;32m   5285\u001b[0m         \u001b[0;32mtry\u001b[0m\u001b[0;34m:\u001b[0m\u001b[0;34m\u001b[0m\u001b[0;34m\u001b[0m\u001b[0m\n\u001b[1;32m   5286\u001b[0m             \u001b[0mobject\u001b[0m\u001b[0;34m.\u001b[0m\u001b[0m__getattribute__\u001b[0m\u001b[0;34m(\u001b[0m\u001b[0mself\u001b[0m\u001b[0;34m,\u001b[0m \u001b[0mname\u001b[0m\u001b[0;34m)\u001b[0m\u001b[0;34m\u001b[0m\u001b[0;34m\u001b[0m\u001b[0m\n\u001b[0;32m-> 5287\u001b[0;31m             \u001b[0;32mreturn\u001b[0m \u001b[0mobject\u001b[0m\u001b[0;34m.\u001b[0m\u001b[0m__setattr__\u001b[0m\u001b[0;34m(\u001b[0m\u001b[0mself\u001b[0m\u001b[0;34m,\u001b[0m \u001b[0mname\u001b[0m\u001b[0;34m,\u001b[0m \u001b[0mvalue\u001b[0m\u001b[0;34m)\u001b[0m\u001b[0;34m\u001b[0m\u001b[0;34m\u001b[0m\u001b[0m\n\u001b[0m\u001b[1;32m   5288\u001b[0m         \u001b[0;32mexcept\u001b[0m \u001b[0mAttributeError\u001b[0m\u001b[0;34m:\u001b[0m\u001b[0;34m\u001b[0m\u001b[0;34m\u001b[0m\u001b[0m\n\u001b[1;32m   5289\u001b[0m             \u001b[0;32mpass\u001b[0m\u001b[0;34m\u001b[0m\u001b[0;34m\u001b[0m\u001b[0m\n",
      "\u001b[0;32mpandas/_libs/properties.pyx\u001b[0m in \u001b[0;36mpandas._libs.properties.AxisProperty.__set__\u001b[0;34m()\u001b[0m\n",
      "\u001b[0;32m/usr/local/lib/python3.8/dist-packages/pandas/core/generic.py\u001b[0m in \u001b[0;36m_set_axis\u001b[0;34m(self, axis, labels)\u001b[0m\n\u001b[1;32m    659\u001b[0m \u001b[0;34m\u001b[0m\u001b[0m\n\u001b[1;32m    660\u001b[0m     \u001b[0;32mdef\u001b[0m \u001b[0m_set_axis\u001b[0m\u001b[0;34m(\u001b[0m\u001b[0mself\u001b[0m\u001b[0;34m,\u001b[0m \u001b[0maxis\u001b[0m\u001b[0;34m,\u001b[0m \u001b[0mlabels\u001b[0m\u001b[0;34m)\u001b[0m \u001b[0;34m->\u001b[0m \u001b[0;32mNone\u001b[0m\u001b[0;34m:\u001b[0m\u001b[0;34m\u001b[0m\u001b[0;34m\u001b[0m\u001b[0m\n\u001b[0;32m--> 661\u001b[0;31m         \u001b[0mself\u001b[0m\u001b[0;34m.\u001b[0m\u001b[0m_data\u001b[0m\u001b[0;34m.\u001b[0m\u001b[0mset_axis\u001b[0m\u001b[0;34m(\u001b[0m\u001b[0maxis\u001b[0m\u001b[0;34m,\u001b[0m \u001b[0mlabels\u001b[0m\u001b[0;34m)\u001b[0m\u001b[0;34m\u001b[0m\u001b[0;34m\u001b[0m\u001b[0m\n\u001b[0m\u001b[1;32m    662\u001b[0m         \u001b[0mself\u001b[0m\u001b[0;34m.\u001b[0m\u001b[0m_clear_item_cache\u001b[0m\u001b[0;34m(\u001b[0m\u001b[0;34m)\u001b[0m\u001b[0;34m\u001b[0m\u001b[0;34m\u001b[0m\u001b[0m\n\u001b[1;32m    663\u001b[0m \u001b[0;34m\u001b[0m\u001b[0m\n",
      "\u001b[0;32m/usr/local/lib/python3.8/dist-packages/pandas/core/internals/managers.py\u001b[0m in \u001b[0;36mset_axis\u001b[0;34m(self, axis, new_labels)\u001b[0m\n\u001b[1;32m    175\u001b[0m \u001b[0;34m\u001b[0m\u001b[0m\n\u001b[1;32m    176\u001b[0m         \u001b[0;32mif\u001b[0m \u001b[0mnew_len\u001b[0m \u001b[0;34m!=\u001b[0m \u001b[0mold_len\u001b[0m\u001b[0;34m:\u001b[0m\u001b[0;34m\u001b[0m\u001b[0;34m\u001b[0m\u001b[0m\n\u001b[0;32m--> 177\u001b[0;31m             raise ValueError(\n\u001b[0m\u001b[1;32m    178\u001b[0m                 \u001b[0;34mf\"Length mismatch: Expected axis has {old_len} elements, new \"\u001b[0m\u001b[0;34m\u001b[0m\u001b[0;34m\u001b[0m\u001b[0m\n\u001b[1;32m    179\u001b[0m                 \u001b[0;34mf\"values have {new_len} elements\"\u001b[0m\u001b[0;34m\u001b[0m\u001b[0;34m\u001b[0m\u001b[0m\n",
      "\u001b[0;31mValueError\u001b[0m: Length mismatch: Expected axis has 2 elements, new values have 3 elements"
     ]
    }
   ],
   "source": [
    "result_df = pd.concat([pd.crosstab(male_frame.AU4_5_7_23_r_c, male_frame.Angry, normalize = 'index')[1], pd.crosstab(female_frame.AU4_5_7_23_r_c, female_frame.Angry, normalize = 'index')[1]], axis=1)\n",
    "result_df.columns = ['male', 'female']\n",
    "result_df['diff'] = result_df.female - result_df.male\n",
    "for index, row in result_df.iterrows():\n",
    "    cross_tab = pd.crosstab(frame[frame.AU4_5_7_23_r_c == index].gender_preds, frame[frame.AU4_5_7_23_r_c == index].Angry, margins = True)\n",
    "\n",
    "    cross_tab.columns = [\"Not Angry\", \"Angry\", \"row_totals\"]\n",
    "    cross_tab.index = [\"Female\", \"Male\", \"col_totals\"]\n",
    "    observed = cross_tab.iloc[0:2,0:2]   # Get table without totals for later use\n",
    "\n",
    "    expected =  np.outer(cross_tab[\"row_totals\"][0:2],\n",
    "                     cross_tab.loc[\"col_totals\"][0:2]) / len(frame[frame.AU4_5_7_23_r_c == index])\n",
    "\n",
    "    expected = pd.DataFrame(expected)\n",
    "    expected.columns = [\"Not Angry\", \"Angry\"]\n",
    "    expected.index = [\"Female\", \"Male\"]\n",
    "\n",
    "    if (expected>=5).sum().sum() == 4:\n",
    "        chi_squared_stat = (((observed-expected)**2)/expected).sum().sum()\n",
    "        p_value = 1 - stats.chi2.cdf(x=chi_squared_stat, df=1)\n",
    "    else:\n",
    "        chi_squared_stat = np.nan\n",
    "        p_value = np.nan\n",
    "\n",
    "    print(chi_squared_stat)\n",
    "    \n",
    "    result_df.loc[index, \"p-value\"] = p_value\n",
    "result_df"
   ]
  },
  {
   "cell_type": "code",
   "execution_count": 547,
   "metadata": {},
   "outputs": [
    {
     "data": {
      "image/png": "[encoded data removed]",
      "text/plain": [
       "<Figure size 432x288 with 1 Axes>"
      ]
     },
     "metadata": {
      "needs_background": "light"
     },
     "output_type": "display_data"
    }
   ],
   "source": [
    "intensities_m, proportions_m = proportion_calc(male_frame.AU04_r, male_frame.Angry, 0.02, 35)\n",
    "plt.scatter(intensities_m, proportions_m, label=\"Male\", marker = \"p\", alpha=0.8, s=30, c='r')#,edgecolors='k')\n",
    "\n",
    "intensities_f, proportions_f = proportion_calc(female_frame.AU04_r, female_frame.Angry, 0.02, 28)\n",
    "plt.scatter(intensities_f, proportions_f, label=\"Female\", marker = \"*\", alpha=0.8, s=30, c='#089BDF')#,edgecolors='k')\n",
    "\n",
    "\n",
    "plt.xlabel('AU4 intensity', fontsize = 16)\n",
    "plt.ylabel('Proportion of \"Angry\" Labels', fontsize = 16)\n",
    "plt.title('P(Angry|AU4) for AffectNet-Automatic', fontsize = 18)\n",
    "plt.legend(fontsize = 16)\n",
    "plt.ylim(0 - 0.01, np.max(proportions_m + proportions_f) + 0.02)\n",
    "plt.savefig('AffectNet_Automatic_AU4.pdf') \n",
    "plt.show()"
   ]
  },
  {
   "cell_type": "code",
   "execution_count": 563,
   "metadata": {},
   "outputs": [
    {
     "data": {
      "image/png": "[encoded data removed]",
      "text/plain": [
       "<Figure size 432x288 with 1 Axes>"
      ]
     },
     "metadata": {
      "needs_background": "light"
     },
     "output_type": "display_data"
    }
   ],
   "source": [
    "intensities_m, proportions_m = proportion_calc(male_frame.AU05_r, male_frame.Angry, 0.03, 10)\n",
    "plt.scatter(intensities_m, proportions_m, label=\"Male\", marker = \"p\", alpha=0.8, s=30, c='r')#,edgecolors='k')\n",
    "\n",
    "intensities_f, proportions_f = proportion_calc(female_frame.AU05_r, female_frame.Angry, 0.045, 12)\n",
    "plt.scatter(intensities_f, proportions_f, label=\"Female\", marker = \"*\", alpha=0.8, s=30, c='#089BDF')#,edgecolors='k')\n",
    "\n",
    "\n",
    "plt.xlabel('AU5 intensity', fontsize = 16)\n",
    "plt.ylabel('Proportion of \"Angry\" Labels', fontsize = 16)\n",
    "plt.title('P(Angry|AU5) for AffectNet-Automatic', fontsize = 18)\n",
    "plt.legend(fontsize = 16)\n",
    "plt.xlim(-0.1, 4)\n",
    "plt.ylim(0.005, np.max(proportions_m + proportions_f) + 0.02)\n",
    "plt.savefig('AffectNet_Automatic_AU5.pdf') \n",
    "plt.show()"
   ]
  },
  {
   "cell_type": "code",
   "execution_count": 573,
   "metadata": {},
   "outputs": [
    {
     "data": {
      "image/png": "[encoded data removed]",
      "text/plain": [
       "<Figure size 432x288 with 1 Axes>"
      ]
     },
     "metadata": {
      "needs_background": "light"
     },
     "output_type": "display_data"
    }
   ],
   "source": [
    "intensities_m, proportions_m = proportion_calc(male_frame.AU07_r, male_frame.Angry, 0.04, 57)\n",
    "plt.scatter(intensities_m, proportions_m, label=\"Male\", marker = \"p\", alpha=0.8, s=30, c='r')#,edgecolors='k')\n",
    "\n",
    "intensities_f, proportions_f = proportion_calc(female_frame.AU07_r, female_frame.Angry, 0.04, 50)\n",
    "plt.scatter(intensities_f, proportions_f, label=\"Female\", marker = \"*\", alpha=0.8, s=30, c='#089BDF')#,edgecolors='k')\n",
    "\n",
    "\n",
    "plt.xlabel('AU7 intensity', fontsize = 16)\n",
    "plt.ylabel('Proportion of \"Angry\" Labels', fontsize = 16)\n",
    "plt.title('P(Angry|AU7) for AffectNet-Automatic', fontsize = 18)\n",
    "plt.legend(fontsize = 16)\n",
    "plt.ylim(0.003, np.max(proportions_m + proportions_f) + 0.02)\n",
    "plt.savefig('AffectNet_Automatic_AU7.pdf') \n",
    "plt.show()"
   ]
  },
  {
   "cell_type": "code",
   "execution_count": 586,
   "metadata": {},
   "outputs": [
    {
     "data": {
      "image/png": "[encoded data removed]",
      "text/plain": [
       "<Figure size 432x288 with 1 Axes>"
      ]
     },
     "metadata": {
      "needs_background": "light"
     },
     "output_type": "display_data"
    }
   ],
   "source": [
    "intensities_m, proportions_m = proportion_calc(male_frame.AU23_r, male_frame.Angry, 0.022, 40)\n",
    "plt.scatter(intensities_m, proportions_m, label=\"Male\", marker = \"p\", alpha=0.8, s=30, c='r')#,edgecolors='k')\n",
    "\n",
    "intensities_f, proportions_f = proportion_calc(female_frame.AU23_r, female_frame.Angry, 0.03, 15)\n",
    "plt.scatter(intensities_f, proportions_f, label=\"Female\", marker = \"*\", alpha=0.8, s=30, c='#089BDF')#,edgecolors='k')\n",
    "\n",
    "\n",
    "plt.xlabel('AU23 intensity', fontsize = 16)\n",
    "plt.ylabel('Proportion of \"Angry\" Labels', fontsize = 16)\n",
    "plt.title('P(Angry|AU23) for AffectNet-Automatic', fontsize = 18)\n",
    "plt.legend(fontsize = 16)\n",
    "plt.ylim(0.005, np.max(proportions_m + proportions_f) + 0.02)\n",
    "plt.savefig('AffectNet_Automatic_AU23.pdf') \n",
    "plt.show()"
   ]
  },
  {
   "cell_type": "markdown",
   "metadata": {},
   "source": [
    "To formally show that there is a significant difference between the two logistic lines, we need logistic regression:"
   ]
  },
  {
   "cell_type": "code",
   "execution_count": 587,
   "metadata": {
    "scrolled": false
   },
   "outputs": [
    {
     "name": "stdout",
     "output_type": "stream",
     "text": [
      "                 Generalized Linear Model Regression Results                  \n",
      "==============================================================================\n",
      "Dep. Variable:                  Angry   No. Observations:                42284\n",
      "Model:                            GLM   Df Residuals:                    42278\n",
      "Model Family:                Binomial   Df Model:                            5\n",
      "Link Function:                  logit   Scale:                          1.0000\n",
      "Method:                          IRLS   Log-Likelihood:                -7997.1\n",
      "Date:                Sun, 17 Jan 2021   Deviance:                       15994.\n",
      "Time:                        00:51:46   Pearson chi2:                 3.89e+04\n",
      "No. Iterations:                     7                                         \n",
      "Covariance Type:            nonrobust                                         \n",
      "========================================================================================\n",
      "                           coef    std err          z      P>|z|      [0.025      0.975]\n",
      "----------------------------------------------------------------------------------------\n",
      "Intercept               -4.3608      0.061    -71.298      0.000      -4.481      -4.241\n",
      "gender_preds[T.Male]     1.4888      0.056     26.492      0.000       1.379       1.599\n",
      "AU04_r                   0.9581      0.023     41.279      0.000       0.913       1.004\n",
      "AU05_r                  -0.1544      0.031     -4.942      0.000      -0.216      -0.093\n",
      "AU07_r                   0.0005      0.021      0.024      0.981      -0.040       0.041\n",
      "AU23_r                  -0.1486      0.061     -2.440      0.015      -0.268      -0.029\n",
      "========================================================================================\n"
     ]
    }
   ],
   "source": [
    "formula = 'Angry ~ AU04_r + AU05_r + AU07_r + AU23_r + gender_preds'\n",
    "model = smf.glm(formula = formula, data=frame, family=sm.families.Binomial())\n",
    "result = model.fit()\n",
    "print(result.summary())"
   ]
  },
  {
   "cell_type": "code",
   "execution_count": 588,
   "metadata": {
    "scrolled": false
   },
   "outputs": [
    {
     "name": "stdout",
     "output_type": "stream",
     "text": [
      "                 Generalized Linear Model Regression Results                  \n",
      "==============================================================================\n",
      "Dep. Variable:                  Angry   No. Observations:                42284\n",
      "Model:                            GLM   Df Residuals:                    42274\n",
      "Model Family:                Binomial   Df Model:                            9\n",
      "Link Function:                  logit   Scale:                          1.0000\n",
      "Method:                          IRLS   Log-Likelihood:                -7992.7\n",
      "Date:                Sun, 17 Jan 2021   Deviance:                       15985.\n",
      "Time:                        00:52:01   Pearson chi2:                 3.92e+04\n",
      "No. Iterations:                     7                                         \n",
      "Covariance Type:            nonrobust                                         \n",
      "===============================================================================================\n",
      "                                  coef    std err          z      P>|z|      [0.025      0.975]\n",
      "-----------------------------------------------------------------------------------------------\n",
      "Intercept                      -4.4073      0.094    -46.852      0.000      -4.592      -4.223\n",
      "gender_preds[T.Male]            1.5503      0.105     14.836      0.000       1.346       1.755\n",
      "AU04_r                          1.0316      0.047     21.853      0.000       0.939       1.124\n",
      "AU04_r:gender_preds[T.Male]    -0.0967      0.054     -1.786      0.074      -0.203       0.009\n",
      "AU05_r                         -0.1262      0.065     -1.927      0.054      -0.255       0.002\n",
      "AU05_r:gender_preds[T.Male]    -0.0368      0.075     -0.494      0.621      -0.183       0.109\n",
      "AU07_r                         -0.0816      0.050     -1.645      0.100      -0.179       0.016\n",
      "AU07_r:gender_preds[T.Male]     0.1014      0.055      1.859      0.063      -0.006       0.208\n",
      "AU23_r                          0.0914      0.153      0.597      0.551      -0.209       0.392\n",
      "AU23_r:gender_preds[T.Male]    -0.2818      0.167     -1.690      0.091      -0.609       0.045\n",
      "===============================================================================================\n"
     ]
    }
   ],
   "source": [
    "formula = 'Angry ~ (AU04_r + AU05_r + AU07_r + AU23_r) * gender_preds'\n",
    "model = smf.glm(formula = formula, data=frame, family=sm.families.Binomial())\n",
    "result = model.fit()\n",
    "print(result.summary())"
   ]
  },
  {
   "cell_type": "code",
   "execution_count": 589,
   "metadata": {
    "scrolled": true
   },
   "outputs": [
    {
     "name": "stdout",
     "output_type": "stream",
     "text": [
      "                 Generalized Linear Model Regression Results                  \n",
      "==============================================================================\n",
      "Dep. Variable:                  Angry   No. Observations:                42284\n",
      "Model:                            GLM   Df Residuals:                    42280\n",
      "Model Family:                Binomial   Df Model:                            3\n",
      "Link Function:                  logit   Scale:                          1.0000\n",
      "Method:                          IRLS   Log-Likelihood:                -8569.7\n",
      "Date:                Sun, 17 Jan 2021   Deviance:                       17139.\n",
      "Time:                        00:52:12   Pearson chi2:                 4.15e+04\n",
      "No. Iterations:                     7                                         \n",
      "Covariance Type:            nonrobust                                         \n",
      "=============================================================================================================================\n",
      "                                                                coef    std err          z      P>|z|      [0.025      0.975]\n",
      "-----------------------------------------------------------------------------------------------------------------------------\n",
      "Intercept                                                    -4.6988      0.095    -49.303      0.000      -4.886      -4.512\n",
      "gender_preds[T.Male]                                          1.6809      0.105     15.969      0.000       1.475       1.887\n",
      "I(AU04_r + AU05_r + AU07_r + AU23_r)                          0.3511      0.029     12.270      0.000       0.295       0.407\n",
      "I(AU04_r + AU05_r + AU07_r + AU23_r):gender_preds[T.Male]    -0.0601      0.032     -1.903      0.057      -0.122       0.002\n",
      "=============================================================================================================================\n"
     ]
    }
   ],
   "source": [
    "formula = 'Angry ~ I(AU04_r + AU05_r + AU07_r + AU23_r) * gender_preds'\n",
    "model = smf.glm(formula = formula, data=frame, family=sm.families.Binomial())\n",
    "result = model.fit()\n",
    "print(result.summary())"
   ]
  },
  {
   "cell_type": "markdown",
   "metadata": {},
   "source": [
    "# KDEF"
   ]
  },
  {
   "cell_type": "raw",
   "metadata": {},
   "source": [
    "Codes:\n",
    "Example: AF01ANFL.JPG\n",
    "    Letter 1: Session \n",
    "                A = series one\n",
    "                B = series two\n",
    "    Letter 2: Gender \n",
    "                F = female\n",
    "                M = male\n",
    "    Letter 3 & 4: Identity number\n",
    "                01 - 35\n",
    "    Letter 5 & 6: Expression\n",
    "                AF = afraid\n",
    "                AN = angry\n",
    "                DI = disgusted\n",
    "                HA = happy\n",
    "                NE = neutral\n",
    "                SA = sad\n",
    "                SU = surprised\n",
    "    Letter 7 & 8: Angle\n",
    "                FL = full left profile\n",
    "                HL = half left profile\n",
    "                S = straight\n",
    "                HR = half right profile\n",
    "                FR = full right profile"
   ]
  },
  {
   "cell_type": "code",
   "execution_count": 590,
   "metadata": {},
   "outputs": [
    {
     "name": "stdout",
     "output_type": "stream",
     "text": [
      "(2926, 54)\n"
     ]
    },
    {
     "data": {
      "text/html": [
       "<div>\n",
       "<style scoped>\n",
       "    .dataframe tbody tr th:only-of-type {\n",
       "        vertical-align: middle;\n",
       "    }\n",
       "\n",
       "    .dataframe tbody tr th {\n",
       "        vertical-align: top;\n",
       "    }\n",
       "\n",
       "    .dataframe thead th {\n",
       "        text-align: right;\n",
       "    }\n",
       "</style>\n",
       "<table border=\"1\" class=\"dataframe\">\n",
       "  <thead>\n",
       "    <tr style=\"text-align: right;\">\n",
       "      <th></th>\n",
       "      <th>ImageName</th>\n",
       "      <th>face</th>\n",
       "      <th>confidence</th>\n",
       "      <th>AU01_c</th>\n",
       "      <th>AU02_c</th>\n",
       "      <th>AU04_c</th>\n",
       "      <th>AU05_c</th>\n",
       "      <th>AU06_c</th>\n",
       "      <th>AU07_c</th>\n",
       "      <th>AU09_c</th>\n",
       "      <th>...</th>\n",
       "      <th>AU10_r_c</th>\n",
       "      <th>AU12_r_c</th>\n",
       "      <th>AU15_r_c</th>\n",
       "      <th>AU17_r_c</th>\n",
       "      <th>AU20_r_c</th>\n",
       "      <th>AU25_r_c</th>\n",
       "      <th>AU26_r_c</th>\n",
       "      <th>Emotion</th>\n",
       "      <th>Happy</th>\n",
       "      <th>Gender</th>\n",
       "    </tr>\n",
       "  </thead>\n",
       "  <tbody>\n",
       "    <tr>\n",
       "      <th>0</th>\n",
       "      <td>AF01AFHL.jpg</td>\n",
       "      <td>0</td>\n",
       "      <td>0.475</td>\n",
       "      <td>1.0</td>\n",
       "      <td>1.0</td>\n",
       "      <td>0.0</td>\n",
       "      <td>0.0</td>\n",
       "      <td>1.0</td>\n",
       "      <td>1.0</td>\n",
       "      <td>0.0</td>\n",
       "      <td>...</td>\n",
       "      <td>0</td>\n",
       "      <td>0</td>\n",
       "      <td>1</td>\n",
       "      <td>0</td>\n",
       "      <td>0</td>\n",
       "      <td>0</td>\n",
       "      <td>0</td>\n",
       "      <td>AF</td>\n",
       "      <td>0</td>\n",
       "      <td>F</td>\n",
       "    </tr>\n",
       "    <tr>\n",
       "      <th>1</th>\n",
       "      <td>AF01AFHR.jpg</td>\n",
       "      <td>0</td>\n",
       "      <td>0.975</td>\n",
       "      <td>1.0</td>\n",
       "      <td>1.0</td>\n",
       "      <td>0.0</td>\n",
       "      <td>0.0</td>\n",
       "      <td>0.0</td>\n",
       "      <td>1.0</td>\n",
       "      <td>0.0</td>\n",
       "      <td>...</td>\n",
       "      <td>1</td>\n",
       "      <td>1</td>\n",
       "      <td>0</td>\n",
       "      <td>0</td>\n",
       "      <td>0</td>\n",
       "      <td>1</td>\n",
       "      <td>0</td>\n",
       "      <td>AF</td>\n",
       "      <td>0</td>\n",
       "      <td>F</td>\n",
       "    </tr>\n",
       "    <tr>\n",
       "      <th>2</th>\n",
       "      <td>AF01AFS.jpg</td>\n",
       "      <td>0</td>\n",
       "      <td>0.975</td>\n",
       "      <td>1.0</td>\n",
       "      <td>0.0</td>\n",
       "      <td>0.0</td>\n",
       "      <td>1.0</td>\n",
       "      <td>1.0</td>\n",
       "      <td>1.0</td>\n",
       "      <td>0.0</td>\n",
       "      <td>...</td>\n",
       "      <td>1</td>\n",
       "      <td>1</td>\n",
       "      <td>0</td>\n",
       "      <td>0</td>\n",
       "      <td>0</td>\n",
       "      <td>1</td>\n",
       "      <td>0</td>\n",
       "      <td>AF</td>\n",
       "      <td>0</td>\n",
       "      <td>F</td>\n",
       "    </tr>\n",
       "    <tr>\n",
       "      <th>3</th>\n",
       "      <td>AF01ANHL.jpg</td>\n",
       "      <td>0</td>\n",
       "      <td>0.425</td>\n",
       "      <td>1.0</td>\n",
       "      <td>1.0</td>\n",
       "      <td>0.0</td>\n",
       "      <td>1.0</td>\n",
       "      <td>1.0</td>\n",
       "      <td>1.0</td>\n",
       "      <td>0.0</td>\n",
       "      <td>...</td>\n",
       "      <td>0</td>\n",
       "      <td>0</td>\n",
       "      <td>0</td>\n",
       "      <td>0</td>\n",
       "      <td>0</td>\n",
       "      <td>0</td>\n",
       "      <td>0</td>\n",
       "      <td>AN</td>\n",
       "      <td>0</td>\n",
       "      <td>F</td>\n",
       "    </tr>\n",
       "    <tr>\n",
       "      <th>4</th>\n",
       "      <td>AF01ANHR.jpg</td>\n",
       "      <td>0</td>\n",
       "      <td>0.575</td>\n",
       "      <td>0.0</td>\n",
       "      <td>0.0</td>\n",
       "      <td>0.0</td>\n",
       "      <td>1.0</td>\n",
       "      <td>1.0</td>\n",
       "      <td>1.0</td>\n",
       "      <td>0.0</td>\n",
       "      <td>...</td>\n",
       "      <td>1</td>\n",
       "      <td>0</td>\n",
       "      <td>0</td>\n",
       "      <td>0</td>\n",
       "      <td>0</td>\n",
       "      <td>1</td>\n",
       "      <td>0</td>\n",
       "      <td>AN</td>\n",
       "      <td>0</td>\n",
       "      <td>F</td>\n",
       "    </tr>\n",
       "  </tbody>\n",
       "</table>\n",
       "<p>5 rows × 54 columns</p>\n",
       "</div>"
      ],
      "text/plain": [
       "      ImageName  face  confidence  AU01_c  AU02_c  AU04_c  AU05_c  AU06_c  \\\n",
       "0  AF01AFHL.jpg     0       0.475     1.0     1.0     0.0     0.0     1.0   \n",
       "1  AF01AFHR.jpg     0       0.975     1.0     1.0     0.0     0.0     0.0   \n",
       "2   AF01AFS.jpg     0       0.975     1.0     0.0     0.0     1.0     1.0   \n",
       "3  AF01ANHL.jpg     0       0.425     1.0     1.0     0.0     1.0     1.0   \n",
       "4  AF01ANHR.jpg     0       0.575     0.0     0.0     0.0     1.0     1.0   \n",
       "\n",
       "   AU07_c  AU09_c  ...  AU10_r_c  AU12_r_c  AU15_r_c  AU17_r_c  AU20_r_c  \\\n",
       "0     1.0     0.0  ...         0         0         1         0         0   \n",
       "1     1.0     0.0  ...         1         1         0         0         0   \n",
       "2     1.0     0.0  ...         1         1         0         0         0   \n",
       "3     1.0     0.0  ...         0         0         0         0         0   \n",
       "4     1.0     0.0  ...         1         0         0         0         0   \n",
       "\n",
       "   AU25_r_c  AU26_r_c  Emotion  Happy  Gender  \n",
       "0         0         0       AF      0       F  \n",
       "1         1         0       AF      0       F  \n",
       "2         1         0       AF      0       F  \n",
       "3         0         0       AN      0       F  \n",
       "4         1         0       AN      0       F  \n",
       "\n",
       "[5 rows x 54 columns]"
      ]
     },
     "execution_count": 590,
     "metadata": {},
     "output_type": "execute_result"
    }
   ],
   "source": [
    "frame = pd.read_csv('KDEF_OpenFace_result_with_Emotion_and_Gender.csv')\n",
    "print(frame.shape)\n",
    "frame.head()"
   ]
  },
  {
   "cell_type": "code",
   "execution_count": 591,
   "metadata": {},
   "outputs": [
    {
     "data": {
      "text/html": [
       "<div>\n",
       "<style scoped>\n",
       "    .dataframe tbody tr th:only-of-type {\n",
       "        vertical-align: middle;\n",
       "    }\n",
       "\n",
       "    .dataframe tbody tr th {\n",
       "        vertical-align: top;\n",
       "    }\n",
       "\n",
       "    .dataframe thead th {\n",
       "        text-align: right;\n",
       "    }\n",
       "</style>\n",
       "<table border=\"1\" class=\"dataframe\">\n",
       "  <thead>\n",
       "    <tr style=\"text-align: right;\">\n",
       "      <th></th>\n",
       "      <th>ImageName</th>\n",
       "      <th>face</th>\n",
       "      <th>confidence</th>\n",
       "      <th>AU01_c</th>\n",
       "      <th>AU02_c</th>\n",
       "      <th>AU04_c</th>\n",
       "      <th>AU05_c</th>\n",
       "      <th>AU06_c</th>\n",
       "      <th>AU07_c</th>\n",
       "      <th>AU09_c</th>\n",
       "      <th>...</th>\n",
       "      <th>AU12_r_c</th>\n",
       "      <th>AU15_r_c</th>\n",
       "      <th>AU17_r_c</th>\n",
       "      <th>AU20_r_c</th>\n",
       "      <th>AU25_r_c</th>\n",
       "      <th>AU26_r_c</th>\n",
       "      <th>Emotion</th>\n",
       "      <th>Happy</th>\n",
       "      <th>Gender</th>\n",
       "      <th>Angry</th>\n",
       "    </tr>\n",
       "  </thead>\n",
       "  <tbody>\n",
       "    <tr>\n",
       "      <th>0</th>\n",
       "      <td>AF01AFHL.jpg</td>\n",
       "      <td>0</td>\n",
       "      <td>0.475</td>\n",
       "      <td>1.0</td>\n",
       "      <td>1.0</td>\n",
       "      <td>0.0</td>\n",
       "      <td>0.0</td>\n",
       "      <td>1.0</td>\n",
       "      <td>1.0</td>\n",
       "      <td>0.0</td>\n",
       "      <td>...</td>\n",
       "      <td>0</td>\n",
       "      <td>1</td>\n",
       "      <td>0</td>\n",
       "      <td>0</td>\n",
       "      <td>0</td>\n",
       "      <td>0</td>\n",
       "      <td>AF</td>\n",
       "      <td>0</td>\n",
       "      <td>F</td>\n",
       "      <td>0</td>\n",
       "    </tr>\n",
       "    <tr>\n",
       "      <th>1</th>\n",
       "      <td>AF01AFHR.jpg</td>\n",
       "      <td>0</td>\n",
       "      <td>0.975</td>\n",
       "      <td>1.0</td>\n",
       "      <td>1.0</td>\n",
       "      <td>0.0</td>\n",
       "      <td>0.0</td>\n",
       "      <td>0.0</td>\n",
       "      <td>1.0</td>\n",
       "      <td>0.0</td>\n",
       "      <td>...</td>\n",
       "      <td>1</td>\n",
       "      <td>0</td>\n",
       "      <td>0</td>\n",
       "      <td>0</td>\n",
       "      <td>1</td>\n",
       "      <td>0</td>\n",
       "      <td>AF</td>\n",
       "      <td>0</td>\n",
       "      <td>F</td>\n",
       "      <td>0</td>\n",
       "    </tr>\n",
       "    <tr>\n",
       "      <th>2</th>\n",
       "      <td>AF01AFS.jpg</td>\n",
       "      <td>0</td>\n",
       "      <td>0.975</td>\n",
       "      <td>1.0</td>\n",
       "      <td>0.0</td>\n",
       "      <td>0.0</td>\n",
       "      <td>1.0</td>\n",
       "      <td>1.0</td>\n",
       "      <td>1.0</td>\n",
       "      <td>0.0</td>\n",
       "      <td>...</td>\n",
       "      <td>1</td>\n",
       "      <td>0</td>\n",
       "      <td>0</td>\n",
       "      <td>0</td>\n",
       "      <td>1</td>\n",
       "      <td>0</td>\n",
       "      <td>AF</td>\n",
       "      <td>0</td>\n",
       "      <td>F</td>\n",
       "      <td>0</td>\n",
       "    </tr>\n",
       "    <tr>\n",
       "      <th>3</th>\n",
       "      <td>AF01ANHL.jpg</td>\n",
       "      <td>0</td>\n",
       "      <td>0.425</td>\n",
       "      <td>1.0</td>\n",
       "      <td>1.0</td>\n",
       "      <td>0.0</td>\n",
       "      <td>1.0</td>\n",
       "      <td>1.0</td>\n",
       "      <td>1.0</td>\n",
       "      <td>0.0</td>\n",
       "      <td>...</td>\n",
       "      <td>0</td>\n",
       "      <td>0</td>\n",
       "      <td>0</td>\n",
       "      <td>0</td>\n",
       "      <td>0</td>\n",
       "      <td>0</td>\n",
       "      <td>AN</td>\n",
       "      <td>0</td>\n",
       "      <td>F</td>\n",
       "      <td>1</td>\n",
       "    </tr>\n",
       "    <tr>\n",
       "      <th>4</th>\n",
       "      <td>AF01ANHR.jpg</td>\n",
       "      <td>0</td>\n",
       "      <td>0.575</td>\n",
       "      <td>0.0</td>\n",
       "      <td>0.0</td>\n",
       "      <td>0.0</td>\n",
       "      <td>1.0</td>\n",
       "      <td>1.0</td>\n",
       "      <td>1.0</td>\n",
       "      <td>0.0</td>\n",
       "      <td>...</td>\n",
       "      <td>0</td>\n",
       "      <td>0</td>\n",
       "      <td>0</td>\n",
       "      <td>0</td>\n",
       "      <td>1</td>\n",
       "      <td>0</td>\n",
       "      <td>AN</td>\n",
       "      <td>0</td>\n",
       "      <td>F</td>\n",
       "      <td>1</td>\n",
       "    </tr>\n",
       "    <tr>\n",
       "      <th>...</th>\n",
       "      <td>...</td>\n",
       "      <td>...</td>\n",
       "      <td>...</td>\n",
       "      <td>...</td>\n",
       "      <td>...</td>\n",
       "      <td>...</td>\n",
       "      <td>...</td>\n",
       "      <td>...</td>\n",
       "      <td>...</td>\n",
       "      <td>...</td>\n",
       "      <td>...</td>\n",
       "      <td>...</td>\n",
       "      <td>...</td>\n",
       "      <td>...</td>\n",
       "      <td>...</td>\n",
       "      <td>...</td>\n",
       "      <td>...</td>\n",
       "      <td>...</td>\n",
       "      <td>...</td>\n",
       "      <td>...</td>\n",
       "      <td>...</td>\n",
       "    </tr>\n",
       "    <tr>\n",
       "      <th>2921</th>\n",
       "      <td>BM35SAHR.jpg</td>\n",
       "      <td>0</td>\n",
       "      <td>0.825</td>\n",
       "      <td>1.0</td>\n",
       "      <td>1.0</td>\n",
       "      <td>1.0</td>\n",
       "      <td>0.0</td>\n",
       "      <td>1.0</td>\n",
       "      <td>1.0</td>\n",
       "      <td>0.0</td>\n",
       "      <td>...</td>\n",
       "      <td>0</td>\n",
       "      <td>0</td>\n",
       "      <td>0</td>\n",
       "      <td>0</td>\n",
       "      <td>0</td>\n",
       "      <td>0</td>\n",
       "      <td>SA</td>\n",
       "      <td>0</td>\n",
       "      <td>M</td>\n",
       "      <td>0</td>\n",
       "    </tr>\n",
       "    <tr>\n",
       "      <th>2922</th>\n",
       "      <td>BM35SAS.jpg</td>\n",
       "      <td>0</td>\n",
       "      <td>0.975</td>\n",
       "      <td>1.0</td>\n",
       "      <td>1.0</td>\n",
       "      <td>1.0</td>\n",
       "      <td>0.0</td>\n",
       "      <td>0.0</td>\n",
       "      <td>1.0</td>\n",
       "      <td>0.0</td>\n",
       "      <td>...</td>\n",
       "      <td>0</td>\n",
       "      <td>0</td>\n",
       "      <td>0</td>\n",
       "      <td>0</td>\n",
       "      <td>0</td>\n",
       "      <td>0</td>\n",
       "      <td>SA</td>\n",
       "      <td>0</td>\n",
       "      <td>M</td>\n",
       "      <td>0</td>\n",
       "    </tr>\n",
       "    <tr>\n",
       "      <th>2923</th>\n",
       "      <td>BM35SUHL.jpg</td>\n",
       "      <td>0</td>\n",
       "      <td>0.025</td>\n",
       "      <td>1.0</td>\n",
       "      <td>1.0</td>\n",
       "      <td>0.0</td>\n",
       "      <td>1.0</td>\n",
       "      <td>1.0</td>\n",
       "      <td>1.0</td>\n",
       "      <td>0.0</td>\n",
       "      <td>...</td>\n",
       "      <td>1</td>\n",
       "      <td>1</td>\n",
       "      <td>0</td>\n",
       "      <td>0</td>\n",
       "      <td>0</td>\n",
       "      <td>0</td>\n",
       "      <td>SU</td>\n",
       "      <td>0</td>\n",
       "      <td>M</td>\n",
       "      <td>0</td>\n",
       "    </tr>\n",
       "    <tr>\n",
       "      <th>2924</th>\n",
       "      <td>BM35SUHR.jpg</td>\n",
       "      <td>0</td>\n",
       "      <td>0.475</td>\n",
       "      <td>1.0</td>\n",
       "      <td>1.0</td>\n",
       "      <td>1.0</td>\n",
       "      <td>1.0</td>\n",
       "      <td>0.0</td>\n",
       "      <td>0.0</td>\n",
       "      <td>0.0</td>\n",
       "      <td>...</td>\n",
       "      <td>1</td>\n",
       "      <td>0</td>\n",
       "      <td>0</td>\n",
       "      <td>0</td>\n",
       "      <td>0</td>\n",
       "      <td>0</td>\n",
       "      <td>SU</td>\n",
       "      <td>0</td>\n",
       "      <td>M</td>\n",
       "      <td>0</td>\n",
       "    </tr>\n",
       "    <tr>\n",
       "      <th>2925</th>\n",
       "      <td>BM35SUS.jpg</td>\n",
       "      <td>0</td>\n",
       "      <td>0.975</td>\n",
       "      <td>1.0</td>\n",
       "      <td>1.0</td>\n",
       "      <td>0.0</td>\n",
       "      <td>1.0</td>\n",
       "      <td>0.0</td>\n",
       "      <td>0.0</td>\n",
       "      <td>0.0</td>\n",
       "      <td>...</td>\n",
       "      <td>0</td>\n",
       "      <td>0</td>\n",
       "      <td>0</td>\n",
       "      <td>0</td>\n",
       "      <td>1</td>\n",
       "      <td>0</td>\n",
       "      <td>SU</td>\n",
       "      <td>0</td>\n",
       "      <td>M</td>\n",
       "      <td>0</td>\n",
       "    </tr>\n",
       "  </tbody>\n",
       "</table>\n",
       "<p>2926 rows × 55 columns</p>\n",
       "</div>"
      ],
      "text/plain": [
       "         ImageName  face  confidence  AU01_c  AU02_c  AU04_c  AU05_c  AU06_c  \\\n",
       "0     AF01AFHL.jpg     0       0.475     1.0     1.0     0.0     0.0     1.0   \n",
       "1     AF01AFHR.jpg     0       0.975     1.0     1.0     0.0     0.0     0.0   \n",
       "2      AF01AFS.jpg     0       0.975     1.0     0.0     0.0     1.0     1.0   \n",
       "3     AF01ANHL.jpg     0       0.425     1.0     1.0     0.0     1.0     1.0   \n",
       "4     AF01ANHR.jpg     0       0.575     0.0     0.0     0.0     1.0     1.0   \n",
       "...            ...   ...         ...     ...     ...     ...     ...     ...   \n",
       "2921  BM35SAHR.jpg     0       0.825     1.0     1.0     1.0     0.0     1.0   \n",
       "2922   BM35SAS.jpg     0       0.975     1.0     1.0     1.0     0.0     0.0   \n",
       "2923  BM35SUHL.jpg     0       0.025     1.0     1.0     0.0     1.0     1.0   \n",
       "2924  BM35SUHR.jpg     0       0.475     1.0     1.0     1.0     1.0     0.0   \n",
       "2925   BM35SUS.jpg     0       0.975     1.0     1.0     0.0     1.0     0.0   \n",
       "\n",
       "      AU07_c  AU09_c  ...  AU12_r_c  AU15_r_c  AU17_r_c  AU20_r_c  AU25_r_c  \\\n",
       "0        1.0     0.0  ...         0         1         0         0         0   \n",
       "1        1.0     0.0  ...         1         0         0         0         1   \n",
       "2        1.0     0.0  ...         1         0         0         0         1   \n",
       "3        1.0     0.0  ...         0         0         0         0         0   \n",
       "4        1.0     0.0  ...         0         0         0         0         1   \n",
       "...      ...     ...  ...       ...       ...       ...       ...       ...   \n",
       "2921     1.0     0.0  ...         0         0         0         0         0   \n",
       "2922     1.0     0.0  ...         0         0         0         0         0   \n",
       "2923     1.0     0.0  ...         1         1         0         0         0   \n",
       "2924     0.0     0.0  ...         1         0         0         0         0   \n",
       "2925     0.0     0.0  ...         0         0         0         0         1   \n",
       "\n",
       "      AU26_r_c  Emotion  Happy  Gender  Angry  \n",
       "0            0       AF      0       F      0  \n",
       "1            0       AF      0       F      0  \n",
       "2            0       AF      0       F      0  \n",
       "3            0       AN      0       F      1  \n",
       "4            0       AN      0       F      1  \n",
       "...        ...      ...    ...     ...    ...  \n",
       "2921         0       SA      0       M      0  \n",
       "2922         0       SA      0       M      0  \n",
       "2923         0       SU      0       M      0  \n",
       "2924         0       SU      0       M      0  \n",
       "2925         0       SU      0       M      0  \n",
       "\n",
       "[2926 rows x 55 columns]"
      ]
     },
     "execution_count": 591,
     "metadata": {},
     "output_type": "execute_result"
    }
   ],
   "source": [
    "frame['Angry'] = frame.ImageName.apply(lambda x: x[4:6] == 'AN').astype(int)\n",
    "frame"
   ]
  },
  {
   "cell_type": "code",
   "execution_count": 315,
   "metadata": {},
   "outputs": [
    {
     "data": {
      "text/plain": [
       "(974, 55)"
      ]
     },
     "execution_count": 315,
     "metadata": {},
     "output_type": "execute_result"
    }
   ],
   "source": [
    "frame = frame[frame.ImageName.apply(lambda x: x[6] == 'S')]\n",
    "frame.shape"
   ]
  },
  {
   "cell_type": "code",
   "execution_count": 316,
   "metadata": {
    "scrolled": false
   },
   "outputs": [
    {
     "name": "stdout",
     "output_type": "stream",
     "text": [
      "['ImageName', 'face', 'confidence', 'AU01_c', 'AU02_c', 'AU04_c', 'AU05_c', 'AU06_c', 'AU07_c', 'AU09_c', 'AU10_c', 'AU12_c', 'AU14_c', 'AU15_c', 'AU17_c', 'AU20_c', 'AU23_c', 'AU25_c', 'AU26_c', 'AU28_c', 'AU45_c', 'AU01_r', 'AU02_r', 'AU04_r', 'AU05_r', 'AU06_r', 'AU07_r', 'AU09_r', 'AU10_r', 'AU12_r', 'AU14_r', 'AU15_r', 'AU17_r', 'AU20_r', 'AU23_r', 'AU25_r', 'AU26_r', 'AU45_r', 'AU01_r_c', 'AU02_r_c', 'AU04_r_c', 'AU05_r_c', 'AU06_r_c', 'AU09_r_c', 'AU10_r_c', 'AU12_r_c', 'AU15_r_c', 'AU17_r_c', 'AU20_r_c', 'AU25_r_c', 'AU26_r_c', 'Emotion', 'Happy', 'Gender', 'Angry']\n"
     ]
    }
   ],
   "source": [
    "print(list(frame.columns))"
   ]
  },
  {
   "cell_type": "code",
   "execution_count": 317,
   "metadata": {},
   "outputs": [
    {
     "data": {
      "text/html": [
       "<div>\n",
       "<style scoped>\n",
       "    .dataframe tbody tr th:only-of-type {\n",
       "        vertical-align: middle;\n",
       "    }\n",
       "\n",
       "    .dataframe tbody tr th {\n",
       "        vertical-align: top;\n",
       "    }\n",
       "\n",
       "    .dataframe thead th {\n",
       "        text-align: right;\n",
       "    }\n",
       "</style>\n",
       "<table border=\"1\" class=\"dataframe\">\n",
       "  <thead>\n",
       "    <tr style=\"text-align: right;\">\n",
       "      <th></th>\n",
       "      <th>AU04_c</th>\n",
       "      <th>AU05_c</th>\n",
       "      <th>AU07_c</th>\n",
       "      <th>AU23_c</th>\n",
       "    </tr>\n",
       "  </thead>\n",
       "  <tbody>\n",
       "    <tr>\n",
       "      <th>AU04_c</th>\n",
       "      <td>1.000000</td>\n",
       "      <td>-0.282226</td>\n",
       "      <td>0.370625</td>\n",
       "      <td>0.088153</td>\n",
       "    </tr>\n",
       "    <tr>\n",
       "      <th>AU05_c</th>\n",
       "      <td>-0.282226</td>\n",
       "      <td>1.000000</td>\n",
       "      <td>-0.483285</td>\n",
       "      <td>-0.074027</td>\n",
       "    </tr>\n",
       "    <tr>\n",
       "      <th>AU07_c</th>\n",
       "      <td>0.370625</td>\n",
       "      <td>-0.483285</td>\n",
       "      <td>1.000000</td>\n",
       "      <td>-0.027320</td>\n",
       "    </tr>\n",
       "    <tr>\n",
       "      <th>AU23_c</th>\n",
       "      <td>0.088153</td>\n",
       "      <td>-0.074027</td>\n",
       "      <td>-0.027320</td>\n",
       "      <td>1.000000</td>\n",
       "    </tr>\n",
       "  </tbody>\n",
       "</table>\n",
       "</div>"
      ],
      "text/plain": [
       "          AU04_c    AU05_c    AU07_c    AU23_c\n",
       "AU04_c  1.000000 -0.282226  0.370625  0.088153\n",
       "AU05_c -0.282226  1.000000 -0.483285 -0.074027\n",
       "AU07_c  0.370625 -0.483285  1.000000 -0.027320\n",
       "AU23_c  0.088153 -0.074027 -0.027320  1.000000"
      ]
     },
     "execution_count": 317,
     "metadata": {},
     "output_type": "execute_result"
    }
   ],
   "source": [
    "frame[['AU04_c', 'AU05_c', 'AU07_c', 'AU23_c']].corr()"
   ]
  },
  {
   "cell_type": "code",
   "execution_count": 318,
   "metadata": {},
   "outputs": [
    {
     "data": {
      "text/html": [
       "<div>\n",
       "<style scoped>\n",
       "    .dataframe tbody tr th:only-of-type {\n",
       "        vertical-align: middle;\n",
       "    }\n",
       "\n",
       "    .dataframe tbody tr th {\n",
       "        vertical-align: top;\n",
       "    }\n",
       "\n",
       "    .dataframe thead th {\n",
       "        text-align: right;\n",
       "    }\n",
       "</style>\n",
       "<table border=\"1\" class=\"dataframe\">\n",
       "  <thead>\n",
       "    <tr style=\"text-align: right;\">\n",
       "      <th></th>\n",
       "      <th>AU04_r</th>\n",
       "      <th>AU05_r</th>\n",
       "      <th>AU07_r</th>\n",
       "      <th>AU23_r</th>\n",
       "    </tr>\n",
       "  </thead>\n",
       "  <tbody>\n",
       "    <tr>\n",
       "      <th>AU04_r</th>\n",
       "      <td>1.000000</td>\n",
       "      <td>-0.326677</td>\n",
       "      <td>0.462043</td>\n",
       "      <td>0.164304</td>\n",
       "    </tr>\n",
       "    <tr>\n",
       "      <th>AU05_r</th>\n",
       "      <td>-0.326677</td>\n",
       "      <td>1.000000</td>\n",
       "      <td>-0.449075</td>\n",
       "      <td>-0.167682</td>\n",
       "    </tr>\n",
       "    <tr>\n",
       "      <th>AU07_r</th>\n",
       "      <td>0.462043</td>\n",
       "      <td>-0.449075</td>\n",
       "      <td>1.000000</td>\n",
       "      <td>0.081767</td>\n",
       "    </tr>\n",
       "    <tr>\n",
       "      <th>AU23_r</th>\n",
       "      <td>0.164304</td>\n",
       "      <td>-0.167682</td>\n",
       "      <td>0.081767</td>\n",
       "      <td>1.000000</td>\n",
       "    </tr>\n",
       "  </tbody>\n",
       "</table>\n",
       "</div>"
      ],
      "text/plain": [
       "          AU04_r    AU05_r    AU07_r    AU23_r\n",
       "AU04_r  1.000000 -0.326677  0.462043  0.164304\n",
       "AU05_r -0.326677  1.000000 -0.449075 -0.167682\n",
       "AU07_r  0.462043 -0.449075  1.000000  0.081767\n",
       "AU23_r  0.164304 -0.167682  0.081767  1.000000"
      ]
     },
     "execution_count": 318,
     "metadata": {},
     "output_type": "execute_result"
    }
   ],
   "source": [
    "frame[['AU04_r', 'AU05_r', 'AU07_r', 'AU23_r']].corr()"
   ]
  },
  {
   "cell_type": "code",
   "execution_count": 203,
   "metadata": {},
   "outputs": [],
   "source": [
    "frame = frame.rename(columns={'Gender': 'gender_preds'})"
   ]
  },
  {
   "cell_type": "code",
   "execution_count": 204,
   "metadata": {},
   "outputs": [
    {
     "data": {
      "text/plain": [
       "(974, 55)"
      ]
     },
     "execution_count": 204,
     "metadata": {},
     "output_type": "execute_result"
    }
   ],
   "source": [
    "frame = frame.dropna()\n",
    "frame.shape"
   ]
  },
  {
   "cell_type": "code",
   "execution_count": 205,
   "metadata": {},
   "outputs": [
    {
     "data": {
      "text/plain": [
       "1010    245\n",
       "0100    203\n",
       "0010    119\n",
       "1110     71\n",
       "1100     63\n",
       "0000     59\n",
       "0110     53\n",
       "1011     50\n",
       "1000     31\n",
       "0101     23\n",
       "1001     13\n",
       "1101     13\n",
       "0001     11\n",
       "0011     10\n",
       "0111      6\n",
       "1111      4\n",
       "Name: AU4_5_7_23_c, dtype: int64"
      ]
     },
     "execution_count": 205,
     "metadata": {},
     "output_type": "execute_result"
    }
   ],
   "source": [
    "frame['AU4_5_7_23_c'] = frame.AU04_c.apply(int).apply(str) + frame.AU05_c.apply(int).apply(str) + frame.AU07_c.apply(int).apply(str) + frame.AU23_c.apply(int).apply(str)\n",
    "frame.AU4_5_7_23_c.value_counts()"
   ]
  },
  {
   "cell_type": "code",
   "execution_count": 206,
   "metadata": {},
   "outputs": [
    {
     "data": {
      "text/plain": [
       "0010    362\n",
       "0000    306\n",
       "1010    126\n",
       "0001     47\n",
       "0011     39\n",
       "0100     31\n",
       "1011     30\n",
       "1000     19\n",
       "1001     10\n",
       "0101      3\n",
       "0111      1\n",
       "Name: AU4_5_7_23_r_c, dtype: int64"
      ]
     },
     "execution_count": 206,
     "metadata": {},
     "output_type": "execute_result"
    }
   ],
   "source": [
    "frame['AU4_5_7_23_r_c'] = frame.AU04_r_c.apply(str) + frame.AU05_r_c.apply(str) + frame.AU07_c.apply(int).apply(str) + frame.AU23_c.apply(int).apply(str)\n",
    "frame.AU4_5_7_23_r_c.value_counts()"
   ]
  },
  {
   "cell_type": "markdown",
   "metadata": {},
   "source": [
    "# P(expression|AU1, male) =? P(expression|AU1, female)"
   ]
  },
  {
   "cell_type": "code",
   "execution_count": 207,
   "metadata": {
    "scrolled": true
   },
   "outputs": [
    {
     "name": "stdout",
     "output_type": "stream",
     "text": [
      "(485, 57)\n",
      "(489, 57)\n"
     ]
    }
   ],
   "source": [
    "frame.gender_preds = frame.gender_preds.apply(lambda x: 'Male' if x == 'M' else 'Female')\n",
    "male_frame = frame.loc[frame['gender_preds'] == 'Male']\n",
    "female_frame = frame.loc[frame['gender_preds'] == 'Female']\n",
    "print(male_frame.shape)\n",
    "print(female_frame.shape)"
   ]
  },
  {
   "cell_type": "markdown",
   "metadata": {},
   "source": [
    "## Anger"
   ]
  },
  {
   "cell_type": "markdown",
   "metadata": {},
   "source": [
    "#### First check the simple proportion of male angry vs female angry:"
   ]
  },
  {
   "cell_type": "code",
   "execution_count": 208,
   "metadata": {
    "scrolled": false
   },
   "outputs": [
    {
     "name": "stdout",
     "output_type": "stream",
     "text": [
      "0.14432989690721648\n",
      "0.14314928425357873\n"
     ]
    }
   ],
   "source": [
    "print(male_frame.Angry.mean())\n",
    "print(female_frame.Angry.mean())"
   ]
  },
  {
   "cell_type": "code",
   "execution_count": 209,
   "metadata": {
    "scrolled": false
   },
   "outputs": [
    {
     "name": "stdout",
     "output_type": "stream",
     "text": [
      "0.1731958762886598\n",
      "0.2065439672801636\n"
     ]
    }
   ],
   "source": [
    "print(male_frame.AU04_r_c.mean())\n",
    "print(female_frame.AU04_r_c.mean())"
   ]
  },
  {
   "cell_type": "code",
   "execution_count": 210,
   "metadata": {
    "scrolled": false
   },
   "outputs": [
    {
     "name": "stdout",
     "output_type": "stream",
     "text": [
      "0.03711340206185567\n",
      "0.034764826175869123\n"
     ]
    }
   ],
   "source": [
    "print(male_frame.AU05_r_c.mean())\n",
    "print(female_frame.AU05_r_c.mean())"
   ]
  },
  {
   "cell_type": "code",
   "execution_count": 211,
   "metadata": {
    "scrolled": false
   },
   "outputs": [
    {
     "name": "stdout",
     "output_type": "stream",
     "text": [
      "0.5360824742268041\n",
      "0.6094069529652352\n"
     ]
    }
   ],
   "source": [
    "print(male_frame.AU07_c.mean())\n",
    "print(female_frame.AU07_c.mean())"
   ]
  },
  {
   "cell_type": "code",
   "execution_count": 212,
   "metadata": {
    "scrolled": false
   },
   "outputs": [
    {
     "name": "stdout",
     "output_type": "stream",
     "text": [
      "0.1463917525773196\n",
      "0.12065439672801637\n"
     ]
    }
   ],
   "source": [
    "print(male_frame.AU23_c.mean())\n",
    "print(female_frame.AU23_c.mean())"
   ]
  },
  {
   "cell_type": "code",
   "execution_count": 213,
   "metadata": {
    "scrolled": false
   },
   "outputs": [
    {
     "name": "stdout",
     "output_type": "stream",
     "text": [
      "0.0\n",
      "0.0081799591002045\n"
     ]
    }
   ],
   "source": [
    "print((male_frame.AU4_5_7_23_c=='1111').mean())\n",
    "print((female_frame.AU4_5_7_23_c=='1111').mean())"
   ]
  },
  {
   "cell_type": "code",
   "execution_count": 214,
   "metadata": {
    "scrolled": false
   },
   "outputs": [
    {
     "name": "stdout",
     "output_type": "stream",
     "text": [
      "0.9402061855670103\n",
      "0.9386503067484663\n"
     ]
    }
   ],
   "source": [
    "print(1-(male_frame.AU4_5_7_23_c=='0000').mean())\n",
    "print(1-(female_frame.AU4_5_7_23_c=='0000').mean())"
   ]
  },
  {
   "cell_type": "markdown",
   "metadata": {},
   "source": [
    "#### Now check for conditional probability, controlled by AU:"
   ]
  },
  {
   "cell_type": "code",
   "execution_count": 220,
   "metadata": {},
   "outputs": [
    {
     "name": "stdout",
     "output_type": "stream",
     "text": [
      "2.6509312621817824\n",
      "0.6838784967222806\n"
     ]
    },
    {
     "data": {
      "text/html": [
       "<div>\n",
       "<style scoped>\n",
       "    .dataframe tbody tr th:only-of-type {\n",
       "        vertical-align: middle;\n",
       "    }\n",
       "\n",
       "    .dataframe tbody tr th {\n",
       "        vertical-align: top;\n",
       "    }\n",
       "\n",
       "    .dataframe thead th {\n",
       "        text-align: right;\n",
       "    }\n",
       "</style>\n",
       "<table border=\"1\" class=\"dataframe\">\n",
       "  <thead>\n",
       "    <tr style=\"text-align: right;\">\n",
       "      <th></th>\n",
       "      <th>male</th>\n",
       "      <th>female</th>\n",
       "      <th>diff</th>\n",
       "      <th>p-value</th>\n",
       "    </tr>\n",
       "    <tr>\n",
       "      <th>AU04_r_c</th>\n",
       "      <th></th>\n",
       "      <th></th>\n",
       "      <th></th>\n",
       "      <th></th>\n",
       "    </tr>\n",
       "  </thead>\n",
       "  <tbody>\n",
       "    <tr>\n",
       "      <th>0</th>\n",
       "      <td>0.089776</td>\n",
       "      <td>0.059278</td>\n",
       "      <td>-0.030497</td>\n",
       "      <td>0.103489</td>\n",
       "    </tr>\n",
       "    <tr>\n",
       "      <th>1</th>\n",
       "      <td>0.404762</td>\n",
       "      <td>0.465347</td>\n",
       "      <td>0.060585</td>\n",
       "      <td>0.408254</td>\n",
       "    </tr>\n",
       "  </tbody>\n",
       "</table>\n",
       "</div>"
      ],
      "text/plain": [
       "              male    female      diff   p-value\n",
       "AU04_r_c                                        \n",
       "0         0.089776  0.059278 -0.030497  0.103489\n",
       "1         0.404762  0.465347  0.060585  0.408254"
      ]
     },
     "execution_count": 220,
     "metadata": {},
     "output_type": "execute_result"
    }
   ],
   "source": [
    "result_df = pd.concat([pd.crosstab(male_frame.AU04_r_c, male_frame.Angry, normalize = 'index')[1], pd.crosstab(female_frame.AU04_r_c, female_frame.Angry, normalize = 'index')[1]], axis=1)\n",
    "result_df.columns = ['male', 'female']\n",
    "result_df['diff'] = result_df.female - result_df.male\n",
    "for index, row in result_df.iterrows():\n",
    "    cross_tab = pd.crosstab(frame[frame.AU04_r_c == index].gender_preds, frame[frame.AU04_r_c == index].Angry, margins = True)\n",
    "\n",
    "    cross_tab.columns = [\"Not Angry\", \"Angry\", \"row_totals\"]\n",
    "    cross_tab.index = [\"Female\", \"Male\", \"col_totals\"]\n",
    "    observed = cross_tab.iloc[0:2,0:2]   # Get table without totals for later use\n",
    "\n",
    "    expected =  np.outer(cross_tab[\"row_totals\"][0:2],\n",
    "                     cross_tab.loc[\"col_totals\"][0:2]) / len(frame[frame.AU04_r_c == index])\n",
    "\n",
    "    expected = pd.DataFrame(expected)\n",
    "    expected.columns = [\"Not Angry\", \"Angry\"]\n",
    "    expected.index = [\"Female\", \"Male\"]\n",
    "\n",
    "    if (expected>=5).sum().sum() == 4:\n",
    "        chi_squared_stat = (((observed-expected)**2)/expected).sum().sum()\n",
    "        p_value = 1 - stats.chi2.cdf(x=chi_squared_stat, df=1)\n",
    "    else:\n",
    "        chi_squared_stat = np.nan\n",
    "        p_value = np.nan\n",
    "\n",
    "    print(chi_squared_stat)\n",
    "    \n",
    "    result_df.loc[index, \"p-value\"] = p_value\n",
    "result_df"
   ]
  },
  {
   "cell_type": "code",
   "execution_count": 221,
   "metadata": {},
   "outputs": [
    {
     "name": "stdout",
     "output_type": "stream",
     "text": [
      "0.00466517550632996\n"
     ]
    },
    {
     "ename": "ValueError",
     "evalue": "Length mismatch: Expected axis has 2 elements, new values have 3 elements",
     "output_type": "error",
     "traceback": [
      "\u001b[0;31m---------------------------------------------------------------------------\u001b[0m",
      "\u001b[0;31mValueError\u001b[0m                                Traceback (most recent call last)",
      "\u001b[0;32m<ipython-input-221-fb99dd30a9c9>\u001b[0m in \u001b[0;36m<module>\u001b[0;34m\u001b[0m\n\u001b[1;32m      5\u001b[0m     \u001b[0mcross_tab\u001b[0m \u001b[0;34m=\u001b[0m \u001b[0mpd\u001b[0m\u001b[0;34m.\u001b[0m\u001b[0mcrosstab\u001b[0m\u001b[0;34m(\u001b[0m\u001b[0mframe\u001b[0m\u001b[0;34m[\u001b[0m\u001b[0mframe\u001b[0m\u001b[0;34m.\u001b[0m\u001b[0mAU05_r_c\u001b[0m \u001b[0;34m==\u001b[0m \u001b[0mindex\u001b[0m\u001b[0;34m]\u001b[0m\u001b[0;34m.\u001b[0m\u001b[0mgender_preds\u001b[0m\u001b[0;34m,\u001b[0m \u001b[0mframe\u001b[0m\u001b[0;34m[\u001b[0m\u001b[0mframe\u001b[0m\u001b[0;34m.\u001b[0m\u001b[0mAU05_r_c\u001b[0m \u001b[0;34m==\u001b[0m \u001b[0mindex\u001b[0m\u001b[0;34m]\u001b[0m\u001b[0;34m.\u001b[0m\u001b[0mAngry\u001b[0m\u001b[0;34m,\u001b[0m \u001b[0mmargins\u001b[0m \u001b[0;34m=\u001b[0m \u001b[0;32mTrue\u001b[0m\u001b[0;34m)\u001b[0m\u001b[0;34m\u001b[0m\u001b[0;34m\u001b[0m\u001b[0m\n\u001b[1;32m      6\u001b[0m \u001b[0;34m\u001b[0m\u001b[0m\n\u001b[0;32m----> 7\u001b[0;31m     \u001b[0mcross_tab\u001b[0m\u001b[0;34m.\u001b[0m\u001b[0mcolumns\u001b[0m \u001b[0;34m=\u001b[0m \u001b[0;34m[\u001b[0m\u001b[0;34m\"Not Angry\"\u001b[0m\u001b[0;34m,\u001b[0m \u001b[0;34m\"Angry\"\u001b[0m\u001b[0;34m,\u001b[0m \u001b[0;34m\"row_totals\"\u001b[0m\u001b[0;34m]\u001b[0m\u001b[0;34m\u001b[0m\u001b[0;34m\u001b[0m\u001b[0m\n\u001b[0m\u001b[1;32m      8\u001b[0m     \u001b[0mcross_tab\u001b[0m\u001b[0;34m.\u001b[0m\u001b[0mindex\u001b[0m \u001b[0;34m=\u001b[0m \u001b[0;34m[\u001b[0m\u001b[0;34m\"Female\"\u001b[0m\u001b[0;34m,\u001b[0m \u001b[0;34m\"Male\"\u001b[0m\u001b[0;34m,\u001b[0m \u001b[0;34m\"col_totals\"\u001b[0m\u001b[0;34m]\u001b[0m\u001b[0;34m\u001b[0m\u001b[0;34m\u001b[0m\u001b[0m\n\u001b[1;32m      9\u001b[0m     \u001b[0mobserved\u001b[0m \u001b[0;34m=\u001b[0m \u001b[0mcross_tab\u001b[0m\u001b[0;34m.\u001b[0m\u001b[0miloc\u001b[0m\u001b[0;34m[\u001b[0m\u001b[0;36m0\u001b[0m\u001b[0;34m:\u001b[0m\u001b[0;36m2\u001b[0m\u001b[0;34m,\u001b[0m\u001b[0;36m0\u001b[0m\u001b[0;34m:\u001b[0m\u001b[0;36m2\u001b[0m\u001b[0;34m]\u001b[0m   \u001b[0;31m# Get table without totals for later use\u001b[0m\u001b[0;34m\u001b[0m\u001b[0;34m\u001b[0m\u001b[0m\n",
      "\u001b[0;32m/usr/local/lib/python3.8/dist-packages/pandas/core/generic.py\u001b[0m in \u001b[0;36m__setattr__\u001b[0;34m(self, name, value)\u001b[0m\n\u001b[1;32m   5285\u001b[0m         \u001b[0;32mtry\u001b[0m\u001b[0;34m:\u001b[0m\u001b[0;34m\u001b[0m\u001b[0;34m\u001b[0m\u001b[0m\n\u001b[1;32m   5286\u001b[0m             \u001b[0mobject\u001b[0m\u001b[0;34m.\u001b[0m\u001b[0m__getattribute__\u001b[0m\u001b[0;34m(\u001b[0m\u001b[0mself\u001b[0m\u001b[0;34m,\u001b[0m \u001b[0mname\u001b[0m\u001b[0;34m)\u001b[0m\u001b[0;34m\u001b[0m\u001b[0;34m\u001b[0m\u001b[0m\n\u001b[0;32m-> 5287\u001b[0;31m             \u001b[0;32mreturn\u001b[0m \u001b[0mobject\u001b[0m\u001b[0;34m.\u001b[0m\u001b[0m__setattr__\u001b[0m\u001b[0;34m(\u001b[0m\u001b[0mself\u001b[0m\u001b[0;34m,\u001b[0m \u001b[0mname\u001b[0m\u001b[0;34m,\u001b[0m \u001b[0mvalue\u001b[0m\u001b[0;34m)\u001b[0m\u001b[0;34m\u001b[0m\u001b[0;34m\u001b[0m\u001b[0m\n\u001b[0m\u001b[1;32m   5288\u001b[0m         \u001b[0;32mexcept\u001b[0m \u001b[0mAttributeError\u001b[0m\u001b[0;34m:\u001b[0m\u001b[0;34m\u001b[0m\u001b[0;34m\u001b[0m\u001b[0m\n\u001b[1;32m   5289\u001b[0m             \u001b[0;32mpass\u001b[0m\u001b[0;34m\u001b[0m\u001b[0;34m\u001b[0m\u001b[0m\n",
      "\u001b[0;32mpandas/_libs/properties.pyx\u001b[0m in \u001b[0;36mpandas._libs.properties.AxisProperty.__set__\u001b[0;34m()\u001b[0m\n",
      "\u001b[0;32m/usr/local/lib/python3.8/dist-packages/pandas/core/generic.py\u001b[0m in \u001b[0;36m_set_axis\u001b[0;34m(self, axis, labels)\u001b[0m\n\u001b[1;32m    659\u001b[0m \u001b[0;34m\u001b[0m\u001b[0m\n\u001b[1;32m    660\u001b[0m     \u001b[0;32mdef\u001b[0m \u001b[0m_set_axis\u001b[0m\u001b[0;34m(\u001b[0m\u001b[0mself\u001b[0m\u001b[0;34m,\u001b[0m \u001b[0maxis\u001b[0m\u001b[0;34m,\u001b[0m \u001b[0mlabels\u001b[0m\u001b[0;34m)\u001b[0m \u001b[0;34m->\u001b[0m \u001b[0;32mNone\u001b[0m\u001b[0;34m:\u001b[0m\u001b[0;34m\u001b[0m\u001b[0;34m\u001b[0m\u001b[0m\n\u001b[0;32m--> 661\u001b[0;31m         \u001b[0mself\u001b[0m\u001b[0;34m.\u001b[0m\u001b[0m_data\u001b[0m\u001b[0;34m.\u001b[0m\u001b[0mset_axis\u001b[0m\u001b[0;34m(\u001b[0m\u001b[0maxis\u001b[0m\u001b[0;34m,\u001b[0m \u001b[0mlabels\u001b[0m\u001b[0;34m)\u001b[0m\u001b[0;34m\u001b[0m\u001b[0;34m\u001b[0m\u001b[0m\n\u001b[0m\u001b[1;32m    662\u001b[0m         \u001b[0mself\u001b[0m\u001b[0;34m.\u001b[0m\u001b[0m_clear_item_cache\u001b[0m\u001b[0;34m(\u001b[0m\u001b[0;34m)\u001b[0m\u001b[0;34m\u001b[0m\u001b[0;34m\u001b[0m\u001b[0m\n\u001b[1;32m    663\u001b[0m \u001b[0;34m\u001b[0m\u001b[0m\n",
      "\u001b[0;32m/usr/local/lib/python3.8/dist-packages/pandas/core/internals/managers.py\u001b[0m in \u001b[0;36mset_axis\u001b[0;34m(self, axis, new_labels)\u001b[0m\n\u001b[1;32m    175\u001b[0m \u001b[0;34m\u001b[0m\u001b[0m\n\u001b[1;32m    176\u001b[0m         \u001b[0;32mif\u001b[0m \u001b[0mnew_len\u001b[0m \u001b[0;34m!=\u001b[0m \u001b[0mold_len\u001b[0m\u001b[0;34m:\u001b[0m\u001b[0;34m\u001b[0m\u001b[0;34m\u001b[0m\u001b[0m\n\u001b[0;32m--> 177\u001b[0;31m             raise ValueError(\n\u001b[0m\u001b[1;32m    178\u001b[0m                 \u001b[0;34mf\"Length mismatch: Expected axis has {old_len} elements, new \"\u001b[0m\u001b[0;34m\u001b[0m\u001b[0;34m\u001b[0m\u001b[0m\n\u001b[1;32m    179\u001b[0m                 \u001b[0;34mf\"values have {new_len} elements\"\u001b[0m\u001b[0;34m\u001b[0m\u001b[0;34m\u001b[0m\u001b[0m\n",
      "\u001b[0;31mValueError\u001b[0m: Length mismatch: Expected axis has 2 elements, new values have 3 elements"
     ]
    }
   ],
   "source": [
    "result_df = pd.concat([pd.crosstab(male_frame.AU05_r_c, male_frame.Angry, normalize = 'index')[1], pd.crosstab(female_frame.AU05_r_c, female_frame.Angry, normalize = 'index')[1]], axis=1)\n",
    "result_df.columns = ['male', 'female']\n",
    "result_df['diff'] = result_df.female - result_df.male\n",
    "for index, row in result_df.iterrows():\n",
    "    cross_tab = pd.crosstab(frame[frame.AU05_r_c == index].gender_preds, frame[frame.AU05_r_c == index].Angry, margins = True)\n",
    "\n",
    "    cross_tab.columns = [\"Not Angry\", \"Angry\", \"row_totals\"]\n",
    "    cross_tab.index = [\"Female\", \"Male\", \"col_totals\"]\n",
    "    observed = cross_tab.iloc[0:2,0:2]   # Get table without totals for later use\n",
    "\n",
    "    expected =  np.outer(cross_tab[\"row_totals\"][0:2],\n",
    "                     cross_tab.loc[\"col_totals\"][0:2]) / len(frame[frame.AU05_r_c == index])\n",
    "\n",
    "    expected = pd.DataFrame(expected)\n",
    "    expected.columns = [\"Not Angry\", \"Angry\"]\n",
    "    expected.index = [\"Female\", \"Male\"]\n",
    "\n",
    "    if (expected>=5).sum().sum() == 4:\n",
    "        chi_squared_stat = (((observed-expected)**2)/expected).sum().sum()\n",
    "        p_value = 1 - stats.chi2.cdf(x=chi_squared_stat, df=1)\n",
    "    else:\n",
    "        chi_squared_stat = np.nan\n",
    "        p_value = np.nan\n",
    "\n",
    "    print(chi_squared_stat)\n",
    "    \n",
    "    result_df.loc[index, \"p-value\"] = p_value\n",
    "result_df"
   ]
  },
  {
   "cell_type": "code",
   "execution_count": 216,
   "metadata": {},
   "outputs": [
    {
     "name": "stdout",
     "output_type": "stream",
     "text": [
      "0.9880703915022963\n",
      "1.4322484888622435\n"
     ]
    },
    {
     "data": {
      "text/html": [
       "<div>\n",
       "<style scoped>\n",
       "    .dataframe tbody tr th:only-of-type {\n",
       "        vertical-align: middle;\n",
       "    }\n",
       "\n",
       "    .dataframe tbody tr th {\n",
       "        vertical-align: top;\n",
       "    }\n",
       "\n",
       "    .dataframe thead th {\n",
       "        text-align: right;\n",
       "    }\n",
       "</style>\n",
       "<table border=\"1\" class=\"dataframe\">\n",
       "  <thead>\n",
       "    <tr style=\"text-align: right;\">\n",
       "      <th></th>\n",
       "      <th>male</th>\n",
       "      <th>female</th>\n",
       "      <th>diff</th>\n",
       "      <th>p-value</th>\n",
       "    </tr>\n",
       "    <tr>\n",
       "      <th>AU05_c</th>\n",
       "      <th></th>\n",
       "      <th></th>\n",
       "      <th></th>\n",
       "      <th></th>\n",
       "    </tr>\n",
       "  </thead>\n",
       "  <tbody>\n",
       "    <tr>\n",
       "      <th>0.0</th>\n",
       "      <td>0.206897</td>\n",
       "      <td>0.173285</td>\n",
       "      <td>-0.033611</td>\n",
       "      <td>0.320214</td>\n",
       "    </tr>\n",
       "    <tr>\n",
       "      <th>1.0</th>\n",
       "      <td>0.071429</td>\n",
       "      <td>0.103774</td>\n",
       "      <td>0.032345</td>\n",
       "      <td>0.231398</td>\n",
       "    </tr>\n",
       "  </tbody>\n",
       "</table>\n",
       "</div>"
      ],
      "text/plain": [
       "            male    female      diff   p-value\n",
       "AU05_c                                        \n",
       "0.0     0.206897  0.173285 -0.033611  0.320214\n",
       "1.0     0.071429  0.103774  0.032345  0.231398"
      ]
     },
     "execution_count": 216,
     "metadata": {},
     "output_type": "execute_result"
    }
   ],
   "source": [
    "result_df = pd.concat([pd.crosstab(male_frame.AU05_c, male_frame.Angry, normalize = 'index')[1], pd.crosstab(female_frame.AU05_c, female_frame.Angry, normalize = 'index')[1]], axis=1)\n",
    "result_df.columns = ['male', 'female']\n",
    "result_df['diff'] = result_df.female - result_df.male\n",
    "for index, row in result_df.iterrows():\n",
    "    cross_tab = pd.crosstab(frame[frame.AU05_c == index].gender_preds, frame[frame.AU05_c == index].Angry, margins = True)\n",
    "\n",
    "    cross_tab.columns = [\"Not Angry\", \"Angry\", \"row_totals\"]\n",
    "    cross_tab.index = [\"Female\", \"Male\", \"col_totals\"]\n",
    "    observed = cross_tab.iloc[0:2,0:2]   # Get table without totals for later use\n",
    "\n",
    "    expected =  np.outer(cross_tab[\"row_totals\"][0:2],\n",
    "                     cross_tab.loc[\"col_totals\"][0:2]) / len(frame[frame.AU05_c == index])\n",
    "\n",
    "    expected = pd.DataFrame(expected)\n",
    "    expected.columns = [\"Not Angry\", \"Angry\"]\n",
    "    expected.index = [\"Female\", \"Male\"]\n",
    "\n",
    "    if (expected>=5).sum().sum() == 4:\n",
    "        chi_squared_stat = (((observed-expected)**2)/expected).sum().sum()\n",
    "        p_value = 1 - stats.chi2.cdf(x=chi_squared_stat, df=1)\n",
    "    else:\n",
    "        chi_squared_stat = np.nan\n",
    "        p_value = np.nan\n",
    "\n",
    "    print(chi_squared_stat)\n",
    "    \n",
    "    result_df.loc[index, \"p-value\"] = p_value\n",
    "result_df"
   ]
  },
  {
   "cell_type": "code",
   "execution_count": 217,
   "metadata": {},
   "outputs": [
    {
     "name": "stdout",
     "output_type": "stream",
     "text": [
      "1.3449025856741617\n",
      "0.2615978308182106\n"
     ]
    },
    {
     "data": {
      "text/html": [
       "<div>\n",
       "<style scoped>\n",
       "    .dataframe tbody tr th:only-of-type {\n",
       "        vertical-align: middle;\n",
       "    }\n",
       "\n",
       "    .dataframe tbody tr th {\n",
       "        vertical-align: top;\n",
       "    }\n",
       "\n",
       "    .dataframe thead th {\n",
       "        text-align: right;\n",
       "    }\n",
       "</style>\n",
       "<table border=\"1\" class=\"dataframe\">\n",
       "  <thead>\n",
       "    <tr style=\"text-align: right;\">\n",
       "      <th></th>\n",
       "      <th>male</th>\n",
       "      <th>female</th>\n",
       "      <th>diff</th>\n",
       "      <th>p-value</th>\n",
       "    </tr>\n",
       "    <tr>\n",
       "      <th>AU07_c</th>\n",
       "      <th></th>\n",
       "      <th></th>\n",
       "      <th></th>\n",
       "      <th></th>\n",
       "    </tr>\n",
       "  </thead>\n",
       "  <tbody>\n",
       "    <tr>\n",
       "      <th>0.0</th>\n",
       "      <td>0.124444</td>\n",
       "      <td>0.089005</td>\n",
       "      <td>-0.035439</td>\n",
       "      <td>0.246171</td>\n",
       "    </tr>\n",
       "    <tr>\n",
       "      <th>1.0</th>\n",
       "      <td>0.161538</td>\n",
       "      <td>0.177852</td>\n",
       "      <td>0.016314</td>\n",
       "      <td>0.609025</td>\n",
       "    </tr>\n",
       "  </tbody>\n",
       "</table>\n",
       "</div>"
      ],
      "text/plain": [
       "            male    female      diff   p-value\n",
       "AU07_c                                        \n",
       "0.0     0.124444  0.089005 -0.035439  0.246171\n",
       "1.0     0.161538  0.177852  0.016314  0.609025"
      ]
     },
     "execution_count": 217,
     "metadata": {},
     "output_type": "execute_result"
    }
   ],
   "source": [
    "result_df = pd.concat([pd.crosstab(male_frame.AU07_c, male_frame.Angry, normalize = 'index')[1], pd.crosstab(female_frame.AU07_c, female_frame.Angry, normalize = 'index')[1]], axis=1)\n",
    "result_df.columns = ['male', 'female']\n",
    "result_df['diff'] = result_df.female - result_df.male\n",
    "for index, row in result_df.iterrows():\n",
    "    cross_tab = pd.crosstab(frame[frame.AU07_c == index].gender_preds, frame[frame.AU07_c == index].Angry, margins = True)\n",
    "\n",
    "    cross_tab.columns = [\"Not Angry\", \"Angry\", \"row_totals\"]\n",
    "    cross_tab.index = [\"Female\", \"Male\", \"col_totals\"]\n",
    "    observed = cross_tab.iloc[0:2,0:2]   # Get table without totals for later use\n",
    "\n",
    "    expected =  np.outer(cross_tab[\"row_totals\"][0:2],\n",
    "                     cross_tab.loc[\"col_totals\"][0:2]) / len(frame[frame.AU07_c == index])\n",
    "\n",
    "    expected = pd.DataFrame(expected)\n",
    "    expected.columns = [\"Not Angry\", \"Angry\"]\n",
    "    expected.index = [\"Female\", \"Male\"]\n",
    "\n",
    "    if (expected>=5).sum().sum() == 4:\n",
    "        chi_squared_stat = (((observed-expected)**2)/expected).sum().sum()\n",
    "        p_value = 1 - stats.chi2.cdf(x=chi_squared_stat, df=1)\n",
    "    else:\n",
    "        chi_squared_stat = np.nan\n",
    "        p_value = np.nan\n",
    "\n",
    "    print(chi_squared_stat)\n",
    "    \n",
    "    result_df.loc[index, \"p-value\"] = p_value\n",
    "result_df"
   ]
  },
  {
   "cell_type": "code",
   "execution_count": 218,
   "metadata": {},
   "outputs": [
    {
     "name": "stdout",
     "output_type": "stream",
     "text": [
      "0.16594500048032412\n",
      "0.3879603285573003\n"
     ]
    },
    {
     "data": {
      "text/html": [
       "<div>\n",
       "<style scoped>\n",
       "    .dataframe tbody tr th:only-of-type {\n",
       "        vertical-align: middle;\n",
       "    }\n",
       "\n",
       "    .dataframe tbody tr th {\n",
       "        vertical-align: top;\n",
       "    }\n",
       "\n",
       "    .dataframe thead th {\n",
       "        text-align: right;\n",
       "    }\n",
       "</style>\n",
       "<table border=\"1\" class=\"dataframe\">\n",
       "  <thead>\n",
       "    <tr style=\"text-align: right;\">\n",
       "      <th></th>\n",
       "      <th>male</th>\n",
       "      <th>female</th>\n",
       "      <th>diff</th>\n",
       "      <th>p-value</th>\n",
       "    </tr>\n",
       "    <tr>\n",
       "      <th>AU23_c</th>\n",
       "      <th></th>\n",
       "      <th></th>\n",
       "      <th></th>\n",
       "      <th></th>\n",
       "    </tr>\n",
       "  </thead>\n",
       "  <tbody>\n",
       "    <tr>\n",
       "      <th>0.0</th>\n",
       "      <td>0.123188</td>\n",
       "      <td>0.132558</td>\n",
       "      <td>0.009370</td>\n",
       "      <td>0.683741</td>\n",
       "    </tr>\n",
       "    <tr>\n",
       "      <th>1.0</th>\n",
       "      <td>0.267606</td>\n",
       "      <td>0.220339</td>\n",
       "      <td>-0.047267</td>\n",
       "      <td>0.533373</td>\n",
       "    </tr>\n",
       "  </tbody>\n",
       "</table>\n",
       "</div>"
      ],
      "text/plain": [
       "            male    female      diff   p-value\n",
       "AU23_c                                        \n",
       "0.0     0.123188  0.132558  0.009370  0.683741\n",
       "1.0     0.267606  0.220339 -0.047267  0.533373"
      ]
     },
     "execution_count": 218,
     "metadata": {},
     "output_type": "execute_result"
    }
   ],
   "source": [
    "result_df = pd.concat([pd.crosstab(male_frame.AU23_c, male_frame.Angry, normalize = 'index')[1], pd.crosstab(female_frame.AU23_c, female_frame.Angry, normalize = 'index')[1]], axis=1)\n",
    "result_df.columns = ['male', 'female']\n",
    "result_df['diff'] = result_df.female - result_df.male\n",
    "for index, row in result_df.iterrows():\n",
    "    cross_tab = pd.crosstab(frame[frame.AU23_c == index].gender_preds, frame[frame.AU23_c == index].Angry, margins = True)\n",
    "\n",
    "    cross_tab.columns = [\"Not Angry\", \"Angry\", \"row_totals\"]\n",
    "    cross_tab.index = [\"Female\", \"Male\", \"col_totals\"]\n",
    "    observed = cross_tab.iloc[0:2,0:2]   # Get table without totals for later use\n",
    "\n",
    "    expected =  np.outer(cross_tab[\"row_totals\"][0:2],\n",
    "                     cross_tab.loc[\"col_totals\"][0:2]) / len(frame[frame.AU23_c == index])\n",
    "\n",
    "    expected = pd.DataFrame(expected)\n",
    "    expected.columns = [\"Not Angry\", \"Angry\"]\n",
    "    expected.index = [\"Female\", \"Male\"]\n",
    "\n",
    "    if (expected>=5).sum().sum() == 4:\n",
    "        chi_squared_stat = (((observed-expected)**2)/expected).sum().sum()\n",
    "        p_value = 1 - stats.chi2.cdf(x=chi_squared_stat, df=1)\n",
    "    else:\n",
    "        chi_squared_stat = np.nan\n",
    "        p_value = np.nan\n",
    "\n",
    "    print(chi_squared_stat)\n",
    "    \n",
    "    result_df.loc[index, \"p-value\"] = p_value\n",
    "result_df"
   ]
  },
  {
   "cell_type": "code",
   "execution_count": 222,
   "metadata": {
    "scrolled": true
   },
   "outputs": [
    {
     "name": "stdout",
     "output_type": "stream",
     "text": [
      "0.19952319823950118\n",
      "nan\n",
      "1.9544671391318076\n",
      "nan\n"
     ]
    },
    {
     "ename": "ValueError",
     "evalue": "Length mismatch: Expected axis has 2 elements, new values have 3 elements",
     "output_type": "error",
     "traceback": [
      "\u001b[0;31m---------------------------------------------------------------------------\u001b[0m",
      "\u001b[0;31mValueError\u001b[0m                                Traceback (most recent call last)",
      "\u001b[0;32m<ipython-input-222-1de786444efd>\u001b[0m in \u001b[0;36m<module>\u001b[0;34m\u001b[0m\n\u001b[1;32m      5\u001b[0m     \u001b[0mcross_tab\u001b[0m \u001b[0;34m=\u001b[0m \u001b[0mpd\u001b[0m\u001b[0;34m.\u001b[0m\u001b[0mcrosstab\u001b[0m\u001b[0;34m(\u001b[0m\u001b[0mframe\u001b[0m\u001b[0;34m[\u001b[0m\u001b[0mframe\u001b[0m\u001b[0;34m.\u001b[0m\u001b[0mAU4_5_7_23_r_c\u001b[0m \u001b[0;34m==\u001b[0m \u001b[0mindex\u001b[0m\u001b[0;34m]\u001b[0m\u001b[0;34m.\u001b[0m\u001b[0mgender_preds\u001b[0m\u001b[0;34m,\u001b[0m \u001b[0mframe\u001b[0m\u001b[0;34m[\u001b[0m\u001b[0mframe\u001b[0m\u001b[0;34m.\u001b[0m\u001b[0mAU4_5_7_23_r_c\u001b[0m \u001b[0;34m==\u001b[0m \u001b[0mindex\u001b[0m\u001b[0;34m]\u001b[0m\u001b[0;34m.\u001b[0m\u001b[0mAngry\u001b[0m\u001b[0;34m,\u001b[0m \u001b[0mmargins\u001b[0m \u001b[0;34m=\u001b[0m \u001b[0;32mTrue\u001b[0m\u001b[0;34m)\u001b[0m\u001b[0;34m\u001b[0m\u001b[0;34m\u001b[0m\u001b[0m\n\u001b[1;32m      6\u001b[0m \u001b[0;34m\u001b[0m\u001b[0m\n\u001b[0;32m----> 7\u001b[0;31m     \u001b[0mcross_tab\u001b[0m\u001b[0;34m.\u001b[0m\u001b[0mcolumns\u001b[0m \u001b[0;34m=\u001b[0m \u001b[0;34m[\u001b[0m\u001b[0;34m\"Not Angry\"\u001b[0m\u001b[0;34m,\u001b[0m \u001b[0;34m\"Angry\"\u001b[0m\u001b[0;34m,\u001b[0m \u001b[0;34m\"row_totals\"\u001b[0m\u001b[0;34m]\u001b[0m\u001b[0;34m\u001b[0m\u001b[0;34m\u001b[0m\u001b[0m\n\u001b[0m\u001b[1;32m      8\u001b[0m     \u001b[0mcross_tab\u001b[0m\u001b[0;34m.\u001b[0m\u001b[0mindex\u001b[0m \u001b[0;34m=\u001b[0m \u001b[0;34m[\u001b[0m\u001b[0;34m\"Female\"\u001b[0m\u001b[0;34m,\u001b[0m \u001b[0;34m\"Male\"\u001b[0m\u001b[0;34m,\u001b[0m \u001b[0;34m\"col_totals\"\u001b[0m\u001b[0;34m]\u001b[0m\u001b[0;34m\u001b[0m\u001b[0;34m\u001b[0m\u001b[0m\n\u001b[1;32m      9\u001b[0m     \u001b[0mobserved\u001b[0m \u001b[0;34m=\u001b[0m \u001b[0mcross_tab\u001b[0m\u001b[0;34m.\u001b[0m\u001b[0miloc\u001b[0m\u001b[0;34m[\u001b[0m\u001b[0;36m0\u001b[0m\u001b[0;34m:\u001b[0m\u001b[0;36m2\u001b[0m\u001b[0;34m,\u001b[0m\u001b[0;36m0\u001b[0m\u001b[0;34m:\u001b[0m\u001b[0;36m2\u001b[0m\u001b[0;34m]\u001b[0m   \u001b[0;31m# Get table without totals for later use\u001b[0m\u001b[0;34m\u001b[0m\u001b[0;34m\u001b[0m\u001b[0m\n",
      "\u001b[0;32m/usr/local/lib/python3.8/dist-packages/pandas/core/generic.py\u001b[0m in \u001b[0;36m__setattr__\u001b[0;34m(self, name, value)\u001b[0m\n\u001b[1;32m   5285\u001b[0m         \u001b[0;32mtry\u001b[0m\u001b[0;34m:\u001b[0m\u001b[0;34m\u001b[0m\u001b[0;34m\u001b[0m\u001b[0m\n\u001b[1;32m   5286\u001b[0m             \u001b[0mobject\u001b[0m\u001b[0;34m.\u001b[0m\u001b[0m__getattribute__\u001b[0m\u001b[0;34m(\u001b[0m\u001b[0mself\u001b[0m\u001b[0;34m,\u001b[0m \u001b[0mname\u001b[0m\u001b[0;34m)\u001b[0m\u001b[0;34m\u001b[0m\u001b[0;34m\u001b[0m\u001b[0m\n\u001b[0;32m-> 5287\u001b[0;31m             \u001b[0;32mreturn\u001b[0m \u001b[0mobject\u001b[0m\u001b[0;34m.\u001b[0m\u001b[0m__setattr__\u001b[0m\u001b[0;34m(\u001b[0m\u001b[0mself\u001b[0m\u001b[0;34m,\u001b[0m \u001b[0mname\u001b[0m\u001b[0;34m,\u001b[0m \u001b[0mvalue\u001b[0m\u001b[0;34m)\u001b[0m\u001b[0;34m\u001b[0m\u001b[0;34m\u001b[0m\u001b[0m\n\u001b[0m\u001b[1;32m   5288\u001b[0m         \u001b[0;32mexcept\u001b[0m \u001b[0mAttributeError\u001b[0m\u001b[0;34m:\u001b[0m\u001b[0;34m\u001b[0m\u001b[0;34m\u001b[0m\u001b[0m\n\u001b[1;32m   5289\u001b[0m             \u001b[0;32mpass\u001b[0m\u001b[0;34m\u001b[0m\u001b[0;34m\u001b[0m\u001b[0m\n",
      "\u001b[0;32mpandas/_libs/properties.pyx\u001b[0m in \u001b[0;36mpandas._libs.properties.AxisProperty.__set__\u001b[0;34m()\u001b[0m\n",
      "\u001b[0;32m/usr/local/lib/python3.8/dist-packages/pandas/core/generic.py\u001b[0m in \u001b[0;36m_set_axis\u001b[0;34m(self, axis, labels)\u001b[0m\n\u001b[1;32m    659\u001b[0m \u001b[0;34m\u001b[0m\u001b[0m\n\u001b[1;32m    660\u001b[0m     \u001b[0;32mdef\u001b[0m \u001b[0m_set_axis\u001b[0m\u001b[0;34m(\u001b[0m\u001b[0mself\u001b[0m\u001b[0;34m,\u001b[0m \u001b[0maxis\u001b[0m\u001b[0;34m,\u001b[0m \u001b[0mlabels\u001b[0m\u001b[0;34m)\u001b[0m \u001b[0;34m->\u001b[0m \u001b[0;32mNone\u001b[0m\u001b[0;34m:\u001b[0m\u001b[0;34m\u001b[0m\u001b[0;34m\u001b[0m\u001b[0m\n\u001b[0;32m--> 661\u001b[0;31m         \u001b[0mself\u001b[0m\u001b[0;34m.\u001b[0m\u001b[0m_data\u001b[0m\u001b[0;34m.\u001b[0m\u001b[0mset_axis\u001b[0m\u001b[0;34m(\u001b[0m\u001b[0maxis\u001b[0m\u001b[0;34m,\u001b[0m \u001b[0mlabels\u001b[0m\u001b[0;34m)\u001b[0m\u001b[0;34m\u001b[0m\u001b[0;34m\u001b[0m\u001b[0m\n\u001b[0m\u001b[1;32m    662\u001b[0m         \u001b[0mself\u001b[0m\u001b[0;34m.\u001b[0m\u001b[0m_clear_item_cache\u001b[0m\u001b[0;34m(\u001b[0m\u001b[0;34m)\u001b[0m\u001b[0;34m\u001b[0m\u001b[0;34m\u001b[0m\u001b[0m\n\u001b[1;32m    663\u001b[0m \u001b[0;34m\u001b[0m\u001b[0m\n",
      "\u001b[0;32m/usr/local/lib/python3.8/dist-packages/pandas/core/internals/managers.py\u001b[0m in \u001b[0;36mset_axis\u001b[0;34m(self, axis, new_labels)\u001b[0m\n\u001b[1;32m    175\u001b[0m \u001b[0;34m\u001b[0m\u001b[0m\n\u001b[1;32m    176\u001b[0m         \u001b[0;32mif\u001b[0m \u001b[0mnew_len\u001b[0m \u001b[0;34m!=\u001b[0m \u001b[0mold_len\u001b[0m\u001b[0;34m:\u001b[0m\u001b[0;34m\u001b[0m\u001b[0;34m\u001b[0m\u001b[0m\n\u001b[0;32m--> 177\u001b[0;31m             raise ValueError(\n\u001b[0m\u001b[1;32m    178\u001b[0m                 \u001b[0;34mf\"Length mismatch: Expected axis has {old_len} elements, new \"\u001b[0m\u001b[0;34m\u001b[0m\u001b[0;34m\u001b[0m\u001b[0m\n\u001b[1;32m    179\u001b[0m                 \u001b[0;34mf\"values have {new_len} elements\"\u001b[0m\u001b[0;34m\u001b[0m\u001b[0;34m\u001b[0m\u001b[0m\n",
      "\u001b[0;31mValueError\u001b[0m: Length mismatch: Expected axis has 2 elements, new values have 3 elements"
     ]
    }
   ],
   "source": [
    "result_df = pd.concat([pd.crosstab(male_frame.AU4_5_7_23_r_c, male_frame.Angry, normalize = 'index')[1], pd.crosstab(female_frame.AU4_5_7_23_r_c, female_frame.Angry, normalize = 'index')[1]], axis=1)\n",
    "result_df.columns = ['male', 'female']\n",
    "result_df['diff'] = result_df.female - result_df.male\n",
    "for index, row in result_df.iterrows():\n",
    "    cross_tab = pd.crosstab(frame[frame.AU4_5_7_23_r_c == index].gender_preds, frame[frame.AU4_5_7_23_r_c == index].Angry, margins = True)\n",
    "\n",
    "    cross_tab.columns = [\"Not Angry\", \"Angry\", \"row_totals\"]\n",
    "    cross_tab.index = [\"Female\", \"Male\", \"col_totals\"]\n",
    "    observed = cross_tab.iloc[0:2,0:2]   # Get table without totals for later use\n",
    "\n",
    "    expected =  np.outer(cross_tab[\"row_totals\"][0:2],\n",
    "                     cross_tab.loc[\"col_totals\"][0:2]) / len(frame[frame.AU4_5_7_23_r_c == index])\n",
    "\n",
    "    expected = pd.DataFrame(expected)\n",
    "    expected.columns = [\"Not Angry\", \"Angry\"]\n",
    "    expected.index = [\"Female\", \"Male\"]\n",
    "\n",
    "    if (expected>=5).sum().sum() == 4:\n",
    "        chi_squared_stat = (((observed-expected)**2)/expected).sum().sum()\n",
    "        p_value = 1 - stats.chi2.cdf(x=chi_squared_stat, df=1)\n",
    "    else:\n",
    "        chi_squared_stat = np.nan\n",
    "        p_value = np.nan\n",
    "\n",
    "    print(chi_squared_stat)\n",
    "    \n",
    "    result_df.loc[index, \"p-value\"] = p_value\n",
    "result_df"
   ]
  },
  {
   "cell_type": "code",
   "execution_count": 223,
   "metadata": {},
   "outputs": [
    {
     "data": {
      "image/png": "[encoded data removed]",
      "text/plain": [
       "<Figure size 432x288 with 1 Axes>"
      ]
     },
     "metadata": {
      "needs_background": "light"
     },
     "output_type": "display_data"
    }
   ],
   "source": [
    "#AU_values_male = list(male_frame.AU06_r.unique())\n",
    "AU_values_male = list(male_frame.AU04_r.value_counts()[male_frame.AU04_r.value_counts() >= 25].index)\n",
    "happy_proportion_male = []\n",
    "for AU_value in AU_values_male:\n",
    "    subframe = male_frame.loc[male_frame.AU04_r == AU_value]\n",
    "    happy_proportion_male.append(subframe.Angry.mean())\n",
    "plt.scatter(AU_values_male, happy_proportion_male, label=\"Male\", marker = \"p\", alpha=0.8, s=30, c='r')#,edgecolors='k')\n",
    "\n",
    "#AU_values_female = list(female_frame.AU06_r.unique())\n",
    "AU_values_female = list(female_frame.AU04_r.value_counts()[female_frame.AU04_r.value_counts() >= 25].index)\n",
    "happy_proportion_female = []\n",
    "for AU_value in AU_values_female:\n",
    "    subframe = female_frame.loc[female_frame.AU04_r == AU_value]\n",
    "    happy_proportion_female.append(subframe.Angry.mean())\n",
    "plt.scatter(AU_values_female, happy_proportion_female, label=\"Female\", marker = \"*\", alpha=0.8, s=30, c='#089BDF')#,edgecolors='k')\n",
    "\n",
    "\n",
    "plt.xlabel('AU4 intensity', fontsize = 16)\n",
    "plt.ylabel('Proportion of \"Angry\" Labels', fontsize = 16)\n",
    "plt.title('P(Angry|AU4) for KDEF', fontsize = 18)\n",
    "plt.legend(fontsize = 16)\n",
    "#plt.xlim(-0.1, 3)\n",
    "#plt.savefig('ExpW_AU6.pdf') \n",
    "plt.show()"
   ]
  },
  {
   "cell_type": "code",
   "execution_count": 224,
   "metadata": {},
   "outputs": [
    {
     "data": {
      "image/png": "[encoded data removed]",
      "text/plain": [
       "<Figure size 432x288 with 1 Axes>"
      ]
     },
     "metadata": {
      "needs_background": "light"
     },
     "output_type": "display_data"
    }
   ],
   "source": [
    "#AU_values_male = list(male_frame.AU06_r.unique())\n",
    "AU_values_male = list(male_frame.AU05_r.value_counts()[male_frame.AU05_r.value_counts() >= 25].index)\n",
    "happy_proportion_male = []\n",
    "for AU_value in AU_values_male:\n",
    "    subframe = male_frame.loc[male_frame.AU05_r == AU_value]\n",
    "    happy_proportion_male.append(subframe.Angry.mean())\n",
    "plt.scatter(AU_values_male, happy_proportion_male, label=\"Male\", marker = \"p\", alpha=0.8, s=30, c='r')#,edgecolors='k')\n",
    "\n",
    "#AU_values_female = list(female_frame.AU06_r.unique())\n",
    "AU_values_female = list(female_frame.AU05_r.value_counts()[female_frame.AU05_r.value_counts() >= 25].index)\n",
    "happy_proportion_female = []\n",
    "for AU_value in AU_values_female:\n",
    "    subframe = female_frame.loc[female_frame.AU05_r == AU_value]\n",
    "    happy_proportion_female.append(subframe.Angry.mean())\n",
    "plt.scatter(AU_values_female, happy_proportion_female, label=\"Female\", marker = \"*\", alpha=0.8, s=30, c='#089BDF')#,edgecolors='k')\n",
    "\n",
    "\n",
    "plt.xlabel('AU5 intensity', fontsize = 16)\n",
    "plt.ylabel('Proportion of \"Angry\" Labels', fontsize = 16)\n",
    "plt.title('P(Angry|AU5) for KDEF', fontsize = 18)\n",
    "plt.legend(fontsize = 16)\n",
    "#plt.xlim(-0.1, 3)\n",
    "#plt.savefig('ExpW_AU12.pdf') \n",
    "plt.show()"
   ]
  },
  {
   "cell_type": "code",
   "execution_count": 225,
   "metadata": {},
   "outputs": [
    {
     "data": {
      "image/png": "[encoded data removed]",
      "text/plain": [
       "<Figure size 432x288 with 1 Axes>"
      ]
     },
     "metadata": {
      "needs_background": "light"
     },
     "output_type": "display_data"
    }
   ],
   "source": [
    "#AU_values_male = list(male_frame.AU06_r.unique())\n",
    "AU_values_male = list(male_frame.AU07_r.value_counts()[male_frame.AU07_r.value_counts() >= 25].index)\n",
    "happy_proportion_male = []\n",
    "for AU_value in AU_values_male:\n",
    "    subframe = male_frame.loc[male_frame.AU07_r == AU_value]\n",
    "    happy_proportion_male.append(subframe.Angry.mean())\n",
    "plt.scatter(AU_values_male, happy_proportion_male, label=\"Male\", marker = \"p\", alpha=0.8, s=30, c='r')#,edgecolors='k')\n",
    "\n",
    "#AU_values_female = list(female_frame.AU06_r.unique())\n",
    "AU_values_female = list(female_frame.AU07_r.value_counts()[female_frame.AU07_r.value_counts() >= 25].index)\n",
    "happy_proportion_female = []\n",
    "for AU_value in AU_values_female:\n",
    "    subframe = female_frame.loc[female_frame.AU07_r == AU_value]\n",
    "    happy_proportion_female.append(subframe.Angry.mean())\n",
    "plt.scatter(AU_values_female, happy_proportion_female, label=\"Female\", marker = \"*\", alpha=0.8, s=30, c='#089BDF')#,edgecolors='k')\n",
    "\n",
    "\n",
    "plt.xlabel('AU7 intensity', fontsize = 16)\n",
    "plt.ylabel('Proportion of \"Angry\" Labels', fontsize = 16)\n",
    "plt.title('P(Angry|AU7) for KDEF', fontsize = 18)\n",
    "plt.legend(fontsize = 16)\n",
    "#plt.xlim(-0.1, 3)\n",
    "#plt.savefig('ExpW_AU12.pdf') \n",
    "plt.show()"
   ]
  },
  {
   "cell_type": "code",
   "execution_count": 226,
   "metadata": {},
   "outputs": [
    {
     "data": {
      "image/png": "[encoded data removed]",
      "text/plain": [
       "<Figure size 432x288 with 1 Axes>"
      ]
     },
     "metadata": {
      "needs_background": "light"
     },
     "output_type": "display_data"
    }
   ],
   "source": [
    "#AU_values_male = list(male_frame.AU06_r.unique())\n",
    "AU_values_male = list(male_frame.AU23_r.value_counts()[male_frame.AU23_r.value_counts() >= 25].index)\n",
    "happy_proportion_male = []\n",
    "for AU_value in AU_values_male:\n",
    "    subframe = male_frame.loc[male_frame.AU23_r == AU_value]\n",
    "    happy_proportion_male.append(subframe.Angry.mean())\n",
    "plt.scatter(AU_values_male, happy_proportion_male, label=\"Male\", marker = \"p\", alpha=0.8, s=30, c='r')#,edgecolors='k')\n",
    "\n",
    "#AU_values_female = list(female_frame.AU06_r.unique())\n",
    "AU_values_female = list(female_frame.AU23_r.value_counts()[female_frame.AU23_r.value_counts() >= 25].index)\n",
    "happy_proportion_female = []\n",
    "for AU_value in AU_values_female:\n",
    "    subframe = female_frame.loc[female_frame.AU23_r == AU_value]\n",
    "    happy_proportion_female.append(subframe.Angry.mean())\n",
    "plt.scatter(AU_values_female, happy_proportion_female, label=\"Female\", marker = \"*\", alpha=0.8, s=30, c='#089BDF')#,edgecolors='k')\n",
    "\n",
    "\n",
    "plt.xlabel('AU23 intensity', fontsize = 16)\n",
    "plt.ylabel('Proportion of \"Angry\" Labels', fontsize = 16)\n",
    "plt.title('P(Angry|AU23) for KDEF', fontsize = 18)\n",
    "plt.legend(fontsize = 16)\n",
    "#plt.xlim(-0.1, 3)\n",
    "#plt.savefig('ExpW_AU12.pdf') \n",
    "plt.show()"
   ]
  },
  {
   "cell_type": "markdown",
   "metadata": {},
   "source": [
    "To formally show that there is a significant difference between the two logistic lines, we need logistic regression:"
   ]
  },
  {
   "cell_type": "code",
   "execution_count": 227,
   "metadata": {
    "scrolled": false
   },
   "outputs": [
    {
     "name": "stdout",
     "output_type": "stream",
     "text": [
      "                 Generalized Linear Model Regression Results                  \n",
      "==============================================================================\n",
      "Dep. Variable:                  Angry   No. Observations:                  974\n",
      "Model:                            GLM   Df Residuals:                      968\n",
      "Model Family:                Binomial   Df Model:                            5\n",
      "Link Function:                  logit   Scale:                          1.0000\n",
      "Method:                          IRLS   Log-Likelihood:                -225.38\n",
      "Date:                Thu, 24 Dec 2020   Deviance:                       450.76\n",
      "Time:                        11:47:30   Pearson chi2:                 1.07e+03\n",
      "No. Iterations:                     7                                         \n",
      "Covariance Type:            nonrobust                                         \n",
      "========================================================================================\n",
      "                           coef    std err          z      P>|z|      [0.025      0.975]\n",
      "----------------------------------------------------------------------------------------\n",
      "Intercept               -3.5471      0.337    -10.521      0.000      -4.208      -2.886\n",
      "gender_preds[T.Male]    -0.0250      0.250     -0.100      0.920      -0.514       0.464\n",
      "AU04_r                   1.6876      0.146     11.559      0.000       1.401       1.974\n",
      "AU05_r                  -0.7568      0.250     -3.027      0.002      -1.247      -0.267\n",
      "AU07_r                  -0.8585      0.122     -7.041      0.000      -1.097      -0.620\n",
      "AU23_r                   3.4644      0.612      5.658      0.000       2.264       4.665\n",
      "========================================================================================\n"
     ]
    }
   ],
   "source": [
    "formula = 'Angry ~ AU04_r + AU05_r + AU07_r + AU23_r + gender_preds'\n",
    "model = smf.glm(formula = formula, data=frame, family=sm.families.Binomial())\n",
    "result = model.fit()\n",
    "print(result.summary())"
   ]
  },
  {
   "cell_type": "code",
   "execution_count": 228,
   "metadata": {
    "scrolled": false
   },
   "outputs": [
    {
     "name": "stdout",
     "output_type": "stream",
     "text": [
      "                 Generalized Linear Model Regression Results                  \n",
      "==============================================================================\n",
      "Dep. Variable:                  Angry   No. Observations:                  974\n",
      "Model:                            GLM   Df Residuals:                      964\n",
      "Model Family:                Binomial   Df Model:                            9\n",
      "Link Function:                  logit   Scale:                          1.0000\n",
      "Method:                          IRLS   Log-Likelihood:                -221.26\n",
      "Date:                Thu, 24 Dec 2020   Deviance:                       442.53\n",
      "Time:                        11:47:31   Pearson chi2:                     854.\n",
      "No. Iterations:                     7                                         \n",
      "Covariance Type:            nonrobust                                         \n",
      "===============================================================================================\n",
      "                                  coef    std err          z      P>|z|      [0.025      0.975]\n",
      "-----------------------------------------------------------------------------------------------\n",
      "Intercept                      -4.4240      0.552     -8.012      0.000      -5.506      -3.342\n",
      "gender_preds[T.Male]            1.4135      0.681      2.075      0.038       0.079       2.748\n",
      "AU04_r                          2.2085      0.265      8.333      0.000       1.689       2.728\n",
      "AU04_r:gender_preds[T.Male]    -0.8611      0.316     -2.724      0.006      -1.481      -0.242\n",
      "AU05_r                         -0.7264      0.396     -1.836      0.066      -1.502       0.049\n",
      "AU05_r:gender_preds[T.Male]    -0.0828      0.514     -0.161      0.872      -1.090       0.924\n",
      "AU07_r                         -1.0754      0.198     -5.429      0.000      -1.464      -0.687\n",
      "AU07_r:gender_preds[T.Male]     0.3395      0.251      1.354      0.176      -0.152       0.831\n",
      "AU23_r                          4.0686      1.200      3.392      0.001       1.718       6.420\n",
      "AU23_r:gender_preds[T.Male]    -0.9509      1.380     -0.689      0.491      -3.655       1.753\n",
      "===============================================================================================\n"
     ]
    }
   ],
   "source": [
    "formula = 'Angry ~ (AU04_r + AU05_r + AU07_r + AU23_r) * gender_preds'\n",
    "model = smf.glm(formula = formula, data=frame, family=sm.families.Binomial())\n",
    "result = model.fit()\n",
    "print(result.summary())"
   ]
  },
  {
   "cell_type": "code",
   "execution_count": 229,
   "metadata": {
    "scrolled": true
   },
   "outputs": [
    {
     "name": "stdout",
     "output_type": "stream",
     "text": [
      "                 Generalized Linear Model Regression Results                  \n",
      "==============================================================================\n",
      "Dep. Variable:                  Angry   No. Observations:                  974\n",
      "Model:                            GLM   Df Residuals:                      970\n",
      "Model Family:                Binomial   Df Model:                            3\n",
      "Link Function:                  logit   Scale:                          1.0000\n",
      "Method:                          IRLS   Log-Likelihood:                -367.99\n",
      "Date:                Thu, 24 Dec 2020   Deviance:                       735.98\n",
      "Time:                        11:47:32   Pearson chi2:                     895.\n",
      "No. Iterations:                     5                                         \n",
      "Covariance Type:            nonrobust                                         \n",
      "=============================================================================================================================\n",
      "                                                                coef    std err          z      P>|z|      [0.025      0.975]\n",
      "-----------------------------------------------------------------------------------------------------------------------------\n",
      "Intercept                                                    -3.6145      0.354    -10.214      0.000      -4.308      -2.921\n",
      "gender_preds[T.Male]                                          0.6824      0.474      1.440      0.150      -0.246       1.611\n",
      "I(AU04_r + AU05_r + AU07_r + AU23_r)                          0.4603      0.073      6.327      0.000       0.318       0.603\n",
      "I(AU04_r + AU05_r + AU07_r + AU23_r):gender_preds[T.Male]    -0.1573      0.100     -1.572      0.116      -0.353       0.039\n",
      "=============================================================================================================================\n"
     ]
    }
   ],
   "source": [
    "formula = 'Angry ~ I(AU04_r + AU05_r + AU07_r + AU23_r) * gender_preds'\n",
    "model = smf.glm(formula = formula, data=frame, family=sm.families.Binomial())\n",
    "result = model.fit()\n",
    "print(result.summary())"
   ]
  },
  {
   "cell_type": "markdown",
   "metadata": {},
   "source": [
    "# Chicago Face"
   ]
  },
  {
   "cell_type": "code",
   "execution_count": 319,
   "metadata": {},
   "outputs": [
    {
     "name": "stdout",
     "output_type": "stream",
     "text": [
      "(1207, 54)\n"
     ]
    },
    {
     "data": {
      "text/html": [
       "<div>\n",
       "<style scoped>\n",
       "    .dataframe tbody tr th:only-of-type {\n",
       "        vertical-align: middle;\n",
       "    }\n",
       "\n",
       "    .dataframe tbody tr th {\n",
       "        vertical-align: top;\n",
       "    }\n",
       "\n",
       "    .dataframe thead th {\n",
       "        text-align: right;\n",
       "    }\n",
       "</style>\n",
       "<table border=\"1\" class=\"dataframe\">\n",
       "  <thead>\n",
       "    <tr style=\"text-align: right;\">\n",
       "      <th></th>\n",
       "      <th>ImageName</th>\n",
       "      <th>Gender</th>\n",
       "      <th>Race</th>\n",
       "      <th>Expression</th>\n",
       "      <th>face</th>\n",
       "      <th>confidence</th>\n",
       "      <th>AU01_r</th>\n",
       "      <th>AU02_r</th>\n",
       "      <th>AU04_r</th>\n",
       "      <th>AU05_r</th>\n",
       "      <th>...</th>\n",
       "      <th>AU05_r_c</th>\n",
       "      <th>AU06_r_c</th>\n",
       "      <th>AU09_r_c</th>\n",
       "      <th>AU10_r_c</th>\n",
       "      <th>AU12_r_c</th>\n",
       "      <th>AU15_r_c</th>\n",
       "      <th>AU17_r_c</th>\n",
       "      <th>AU20_r_c</th>\n",
       "      <th>AU25_r_c</th>\n",
       "      <th>AU26_r_c</th>\n",
       "    </tr>\n",
       "  </thead>\n",
       "  <tbody>\n",
       "    <tr>\n",
       "      <th>0</th>\n",
       "      <td>CFD-WM-239-128-N.jpg</td>\n",
       "      <td>M</td>\n",
       "      <td>W</td>\n",
       "      <td>Neutral</td>\n",
       "      <td>0</td>\n",
       "      <td>0.975</td>\n",
       "      <td>0.00</td>\n",
       "      <td>0.00</td>\n",
       "      <td>0.49</td>\n",
       "      <td>0.00</td>\n",
       "      <td>...</td>\n",
       "      <td>0</td>\n",
       "      <td>0</td>\n",
       "      <td>0</td>\n",
       "      <td>1</td>\n",
       "      <td>0</td>\n",
       "      <td>0</td>\n",
       "      <td>0</td>\n",
       "      <td>0</td>\n",
       "      <td>1</td>\n",
       "      <td>0</td>\n",
       "    </tr>\n",
       "    <tr>\n",
       "      <th>1</th>\n",
       "      <td>CFD-BM-219-141-N.jpg</td>\n",
       "      <td>M</td>\n",
       "      <td>B</td>\n",
       "      <td>Neutral</td>\n",
       "      <td>0</td>\n",
       "      <td>0.975</td>\n",
       "      <td>1.69</td>\n",
       "      <td>1.28</td>\n",
       "      <td>0.00</td>\n",
       "      <td>0.36</td>\n",
       "      <td>...</td>\n",
       "      <td>0</td>\n",
       "      <td>0</td>\n",
       "      <td>0</td>\n",
       "      <td>0</td>\n",
       "      <td>0</td>\n",
       "      <td>1</td>\n",
       "      <td>0</td>\n",
       "      <td>0</td>\n",
       "      <td>1</td>\n",
       "      <td>0</td>\n",
       "    </tr>\n",
       "    <tr>\n",
       "      <th>2</th>\n",
       "      <td>CFD-WF-034-016-A.jpg</td>\n",
       "      <td>F</td>\n",
       "      <td>W</td>\n",
       "      <td>Angry</td>\n",
       "      <td>0</td>\n",
       "      <td>0.975</td>\n",
       "      <td>1.30</td>\n",
       "      <td>0.02</td>\n",
       "      <td>1.70</td>\n",
       "      <td>2.03</td>\n",
       "      <td>...</td>\n",
       "      <td>0</td>\n",
       "      <td>0</td>\n",
       "      <td>0</td>\n",
       "      <td>1</td>\n",
       "      <td>0</td>\n",
       "      <td>0</td>\n",
       "      <td>0</td>\n",
       "      <td>0</td>\n",
       "      <td>0</td>\n",
       "      <td>0</td>\n",
       "    </tr>\n",
       "    <tr>\n",
       "      <th>3</th>\n",
       "      <td>CFD-BM-030-065-F.jpg</td>\n",
       "      <td>M</td>\n",
       "      <td>B</td>\n",
       "      <td>Fear</td>\n",
       "      <td>0</td>\n",
       "      <td>0.975</td>\n",
       "      <td>2.90</td>\n",
       "      <td>4.65</td>\n",
       "      <td>0.00</td>\n",
       "      <td>2.64</td>\n",
       "      <td>...</td>\n",
       "      <td>0</td>\n",
       "      <td>0</td>\n",
       "      <td>0</td>\n",
       "      <td>1</td>\n",
       "      <td>1</td>\n",
       "      <td>0</td>\n",
       "      <td>0</td>\n",
       "      <td>0</td>\n",
       "      <td>1</td>\n",
       "      <td>0</td>\n",
       "    </tr>\n",
       "    <tr>\n",
       "      <th>4</th>\n",
       "      <td>CFD-LM-237-264-N.jpg</td>\n",
       "      <td>M</td>\n",
       "      <td>L</td>\n",
       "      <td>Neutral</td>\n",
       "      <td>0</td>\n",
       "      <td>0.975</td>\n",
       "      <td>1.01</td>\n",
       "      <td>0.21</td>\n",
       "      <td>1.05</td>\n",
       "      <td>0.13</td>\n",
       "      <td>...</td>\n",
       "      <td>0</td>\n",
       "      <td>0</td>\n",
       "      <td>0</td>\n",
       "      <td>1</td>\n",
       "      <td>0</td>\n",
       "      <td>0</td>\n",
       "      <td>0</td>\n",
       "      <td>0</td>\n",
       "      <td>0</td>\n",
       "      <td>0</td>\n",
       "    </tr>\n",
       "  </tbody>\n",
       "</table>\n",
       "<p>5 rows × 54 columns</p>\n",
       "</div>"
      ],
      "text/plain": [
       "              ImageName Gender Race Expression  face  confidence  AU01_r  \\\n",
       "0  CFD-WM-239-128-N.jpg      M    W    Neutral     0       0.975    0.00   \n",
       "1  CFD-BM-219-141-N.jpg      M    B    Neutral     0       0.975    1.69   \n",
       "2  CFD-WF-034-016-A.jpg      F    W      Angry     0       0.975    1.30   \n",
       "3  CFD-BM-030-065-F.jpg      M    B       Fear     0       0.975    2.90   \n",
       "4  CFD-LM-237-264-N.jpg      M    L    Neutral     0       0.975    1.01   \n",
       "\n",
       "   AU02_r  AU04_r  AU05_r  ...  AU05_r_c  AU06_r_c  AU09_r_c  AU10_r_c  \\\n",
       "0    0.00    0.49    0.00  ...         0         0         0         1   \n",
       "1    1.28    0.00    0.36  ...         0         0         0         0   \n",
       "2    0.02    1.70    2.03  ...         0         0         0         1   \n",
       "3    4.65    0.00    2.64  ...         0         0         0         1   \n",
       "4    0.21    1.05    0.13  ...         0         0         0         1   \n",
       "\n",
       "   AU12_r_c  AU15_r_c  AU17_r_c  AU20_r_c  AU25_r_c  AU26_r_c  \n",
       "0         0         0         0         0         1         0  \n",
       "1         0         1         0         0         1         0  \n",
       "2         0         0         0         0         0         0  \n",
       "3         1         0         0         0         1         0  \n",
       "4         0         0         0         0         0         0  \n",
       "\n",
       "[5 rows x 54 columns]"
      ]
     },
     "execution_count": 319,
     "metadata": {},
     "output_type": "execute_result"
    }
   ],
   "source": [
    "frame = pd.read_csv('ChicagoFace_with_AU_cleanedup.csv')\n",
    "print(frame.shape)\n",
    "frame.head()"
   ]
  },
  {
   "cell_type": "code",
   "execution_count": 320,
   "metadata": {},
   "outputs": [
    {
     "data": {
      "text/plain": [
       "Neutral    597\n",
       "Happy      307\n",
       "Angry      154\n",
       "Fear       149\n",
       "Name: Expression, dtype: int64"
      ]
     },
     "execution_count": 320,
     "metadata": {},
     "output_type": "execute_result"
    }
   ],
   "source": [
    "frame.Expression.value_counts()"
   ]
  },
  {
   "cell_type": "code",
   "execution_count": 321,
   "metadata": {
    "scrolled": false
   },
   "outputs": [
    {
     "name": "stdout",
     "output_type": "stream",
     "text": [
      "['ImageName', 'Gender', 'Race', 'Expression', 'face', 'confidence', 'AU01_r', 'AU02_r', 'AU04_r', 'AU05_r', 'AU06_r', 'AU07_r', 'AU09_r', 'AU10_r', 'AU12_r', 'AU14_r', 'AU15_r', 'AU17_r', 'AU20_r', 'AU23_r', 'AU25_r', 'AU26_r', 'AU45_r', 'AU01_c', 'AU02_c', 'AU04_c', 'AU05_c', 'AU06_c', 'AU07_c', 'AU09_c', 'AU10_c', 'AU12_c', 'AU14_c', 'AU15_c', 'AU17_c', 'AU20_c', 'AU23_c', 'AU25_c', 'AU26_c', 'AU28_c', 'AU45_c', 'AU01_r_c', 'AU02_r_c', 'AU04_r_c', 'AU05_r_c', 'AU06_r_c', 'AU09_r_c', 'AU10_r_c', 'AU12_r_c', 'AU15_r_c', 'AU17_r_c', 'AU20_r_c', 'AU25_r_c', 'AU26_r_c']\n"
     ]
    }
   ],
   "source": [
    "print(list(frame.columns))"
   ]
  },
  {
   "cell_type": "code",
   "execution_count": 322,
   "metadata": {},
   "outputs": [
    {
     "data": {
      "text/html": [
       "<div>\n",
       "<style scoped>\n",
       "    .dataframe tbody tr th:only-of-type {\n",
       "        vertical-align: middle;\n",
       "    }\n",
       "\n",
       "    .dataframe tbody tr th {\n",
       "        vertical-align: top;\n",
       "    }\n",
       "\n",
       "    .dataframe thead th {\n",
       "        text-align: right;\n",
       "    }\n",
       "</style>\n",
       "<table border=\"1\" class=\"dataframe\">\n",
       "  <thead>\n",
       "    <tr style=\"text-align: right;\">\n",
       "      <th></th>\n",
       "      <th>AU04_c</th>\n",
       "      <th>AU05_c</th>\n",
       "      <th>AU07_c</th>\n",
       "      <th>AU23_c</th>\n",
       "    </tr>\n",
       "  </thead>\n",
       "  <tbody>\n",
       "    <tr>\n",
       "      <th>AU04_c</th>\n",
       "      <td>1.000000</td>\n",
       "      <td>-0.045516</td>\n",
       "      <td>0.197290</td>\n",
       "      <td>0.092592</td>\n",
       "    </tr>\n",
       "    <tr>\n",
       "      <th>AU05_c</th>\n",
       "      <td>-0.045516</td>\n",
       "      <td>1.000000</td>\n",
       "      <td>-0.192794</td>\n",
       "      <td>-0.035364</td>\n",
       "    </tr>\n",
       "    <tr>\n",
       "      <th>AU07_c</th>\n",
       "      <td>0.197290</td>\n",
       "      <td>-0.192794</td>\n",
       "      <td>1.000000</td>\n",
       "      <td>0.097267</td>\n",
       "    </tr>\n",
       "    <tr>\n",
       "      <th>AU23_c</th>\n",
       "      <td>0.092592</td>\n",
       "      <td>-0.035364</td>\n",
       "      <td>0.097267</td>\n",
       "      <td>1.000000</td>\n",
       "    </tr>\n",
       "  </tbody>\n",
       "</table>\n",
       "</div>"
      ],
      "text/plain": [
       "          AU04_c    AU05_c    AU07_c    AU23_c\n",
       "AU04_c  1.000000 -0.045516  0.197290  0.092592\n",
       "AU05_c -0.045516  1.000000 -0.192794 -0.035364\n",
       "AU07_c  0.197290 -0.192794  1.000000  0.097267\n",
       "AU23_c  0.092592 -0.035364  0.097267  1.000000"
      ]
     },
     "execution_count": 322,
     "metadata": {},
     "output_type": "execute_result"
    }
   ],
   "source": [
    "frame[['AU04_c', 'AU05_c', 'AU07_c', 'AU23_c']].corr()"
   ]
  },
  {
   "cell_type": "code",
   "execution_count": 323,
   "metadata": {},
   "outputs": [
    {
     "data": {
      "text/html": [
       "<div>\n",
       "<style scoped>\n",
       "    .dataframe tbody tr th:only-of-type {\n",
       "        vertical-align: middle;\n",
       "    }\n",
       "\n",
       "    .dataframe tbody tr th {\n",
       "        vertical-align: top;\n",
       "    }\n",
       "\n",
       "    .dataframe thead th {\n",
       "        text-align: right;\n",
       "    }\n",
       "</style>\n",
       "<table border=\"1\" class=\"dataframe\">\n",
       "  <thead>\n",
       "    <tr style=\"text-align: right;\">\n",
       "      <th></th>\n",
       "      <th>AU04_r</th>\n",
       "      <th>AU05_r</th>\n",
       "      <th>AU07_r</th>\n",
       "      <th>AU23_r</th>\n",
       "    </tr>\n",
       "  </thead>\n",
       "  <tbody>\n",
       "    <tr>\n",
       "      <th>AU04_r</th>\n",
       "      <td>1.000000</td>\n",
       "      <td>-0.158118</td>\n",
       "      <td>0.333740</td>\n",
       "      <td>0.213545</td>\n",
       "    </tr>\n",
       "    <tr>\n",
       "      <th>AU05_r</th>\n",
       "      <td>-0.158118</td>\n",
       "      <td>1.000000</td>\n",
       "      <td>-0.278749</td>\n",
       "      <td>-0.196621</td>\n",
       "    </tr>\n",
       "    <tr>\n",
       "      <th>AU07_r</th>\n",
       "      <td>0.333740</td>\n",
       "      <td>-0.278749</td>\n",
       "      <td>1.000000</td>\n",
       "      <td>0.184960</td>\n",
       "    </tr>\n",
       "    <tr>\n",
       "      <th>AU23_r</th>\n",
       "      <td>0.213545</td>\n",
       "      <td>-0.196621</td>\n",
       "      <td>0.184960</td>\n",
       "      <td>1.000000</td>\n",
       "    </tr>\n",
       "  </tbody>\n",
       "</table>\n",
       "</div>"
      ],
      "text/plain": [
       "          AU04_r    AU05_r    AU07_r    AU23_r\n",
       "AU04_r  1.000000 -0.158118  0.333740  0.213545\n",
       "AU05_r -0.158118  1.000000 -0.278749 -0.196621\n",
       "AU07_r  0.333740 -0.278749  1.000000  0.184960\n",
       "AU23_r  0.213545 -0.196621  0.184960  1.000000"
      ]
     },
     "execution_count": 323,
     "metadata": {},
     "output_type": "execute_result"
    }
   ],
   "source": [
    "frame[['AU04_r', 'AU05_r', 'AU07_r', 'AU23_r']].corr()"
   ]
  },
  {
   "cell_type": "code",
   "execution_count": 233,
   "metadata": {},
   "outputs": [],
   "source": [
    "frame = frame.rename(columns={'Gender': 'gender_preds'})"
   ]
  },
  {
   "cell_type": "code",
   "execution_count": 234,
   "metadata": {},
   "outputs": [],
   "source": [
    "frame['Angry'] = (frame['Expression'] =='Angry').astype(int)\n",
    "frame['Fear'] = (frame['Expression'] == 'Fear').astype(int)\n",
    "frame['Happy'] = (frame['Expression'] =='Happy').astype(int)\n",
    "frame['Neutral'] = (frame['Expression'] == 'Neutral').astype(int)"
   ]
  },
  {
   "cell_type": "code",
   "execution_count": 235,
   "metadata": {},
   "outputs": [
    {
     "data": {
      "text/plain": [
       "(1207, 58)"
      ]
     },
     "execution_count": 235,
     "metadata": {},
     "output_type": "execute_result"
    }
   ],
   "source": [
    "frame = frame.dropna()\n",
    "frame.shape"
   ]
  },
  {
   "cell_type": "code",
   "execution_count": 236,
   "metadata": {},
   "outputs": [
    {
     "data": {
      "text/plain": [
       "0000    233\n",
       "0010    189\n",
       "0100    131\n",
       "0001    104\n",
       "0011     95\n",
       "1011     86\n",
       "1010     85\n",
       "1000     66\n",
       "0101     54\n",
       "0110     34\n",
       "1001     30\n",
       "1100     29\n",
       "1110     24\n",
       "0111     19\n",
       "1111     17\n",
       "1101     11\n",
       "Name: AU4_5_7_23_c, dtype: int64"
      ]
     },
     "execution_count": 236,
     "metadata": {},
     "output_type": "execute_result"
    }
   ],
   "source": [
    "frame['AU4_5_7_23_c'] = frame.AU04_c.apply(int).apply(str) + frame.AU05_c.apply(int).apply(str) + frame.AU07_c.apply(int).apply(str) + frame.AU23_c.apply(int).apply(str)\n",
    "frame.AU4_5_7_23_c.value_counts()"
   ]
  },
  {
   "cell_type": "code",
   "execution_count": 237,
   "metadata": {},
   "outputs": [
    {
     "data": {
      "text/plain": [
       "0000    431\n",
       "0010    309\n",
       "0001    190\n",
       "0011    177\n",
       "1011     35\n",
       "0100     25\n",
       "1010     20\n",
       "0101      7\n",
       "0111      5\n",
       "1000      3\n",
       "0110      3\n",
       "1001      2\n",
       "Name: AU4_5_7_23_r_c, dtype: int64"
      ]
     },
     "execution_count": 237,
     "metadata": {},
     "output_type": "execute_result"
    }
   ],
   "source": [
    "frame['AU4_5_7_23_r_c'] = frame.AU04_r_c.apply(str) + frame.AU05_r_c.apply(str) + frame.AU07_c.apply(int).apply(str) + frame.AU23_c.apply(int).apply(str)\n",
    "frame.AU4_5_7_23_r_c.value_counts()"
   ]
  },
  {
   "cell_type": "markdown",
   "metadata": {},
   "source": [
    "# P(expression|AU1, male) =? P(expression|AU1, female)"
   ]
  },
  {
   "cell_type": "code",
   "execution_count": 238,
   "metadata": {
    "scrolled": true
   },
   "outputs": [
    {
     "name": "stdout",
     "output_type": "stream",
     "text": [
      "(563, 60)\n",
      "(644, 60)\n"
     ]
    }
   ],
   "source": [
    "frame.gender_preds = frame.gender_preds.apply(lambda x: 'Male' if x == 'M' else 'Female')\n",
    "male_frame = frame.loc[frame['gender_preds'] == 'Male']\n",
    "female_frame = frame.loc[frame['gender_preds'] == 'Female']\n",
    "print(male_frame.shape)\n",
    "print(female_frame.shape)"
   ]
  },
  {
   "cell_type": "markdown",
   "metadata": {},
   "source": [
    "## Anger"
   ]
  },
  {
   "cell_type": "markdown",
   "metadata": {},
   "source": [
    "#### First check the simple proportion of male angry vs female angry:"
   ]
  },
  {
   "cell_type": "code",
   "execution_count": 239,
   "metadata": {
    "scrolled": false
   },
   "outputs": [
    {
     "name": "stdout",
     "output_type": "stream",
     "text": [
      "0.12433392539964476\n",
      "0.13043478260869565\n"
     ]
    }
   ],
   "source": [
    "print(male_frame.Angry.mean())\n",
    "print(female_frame.Angry.mean())"
   ]
  },
  {
   "cell_type": "code",
   "execution_count": 240,
   "metadata": {
    "scrolled": false
   },
   "outputs": [
    {
     "name": "stdout",
     "output_type": "stream",
     "text": [
      "0.05328596802841918\n",
      "0.046583850931677016\n"
     ]
    }
   ],
   "source": [
    "print(male_frame.AU04_r_c.mean())\n",
    "print(female_frame.AU04_r_c.mean())"
   ]
  },
  {
   "cell_type": "code",
   "execution_count": 241,
   "metadata": {
    "scrolled": false
   },
   "outputs": [
    {
     "name": "stdout",
     "output_type": "stream",
     "text": [
      "0.04262877442273535\n",
      "0.024844720496894408\n"
     ]
    }
   ],
   "source": [
    "print(male_frame.AU05_r_c.mean())\n",
    "print(female_frame.AU05_r_c.mean())"
   ]
  },
  {
   "cell_type": "code",
   "execution_count": 242,
   "metadata": {
    "scrolled": false
   },
   "outputs": [
    {
     "name": "stdout",
     "output_type": "stream",
     "text": [
      "0.4493783303730018\n",
      "0.45962732919254656\n"
     ]
    }
   ],
   "source": [
    "print(male_frame.AU07_c.mean())\n",
    "print(female_frame.AU07_c.mean())"
   ]
  },
  {
   "cell_type": "code",
   "execution_count": 243,
   "metadata": {
    "scrolled": false
   },
   "outputs": [
    {
     "name": "stdout",
     "output_type": "stream",
     "text": [
      "0.3410301953818828\n",
      "0.34782608695652173\n"
     ]
    }
   ],
   "source": [
    "print(male_frame.AU23_c.mean())\n",
    "print(female_frame.AU23_c.mean())"
   ]
  },
  {
   "cell_type": "code",
   "execution_count": 244,
   "metadata": {
    "scrolled": false
   },
   "outputs": [
    {
     "name": "stdout",
     "output_type": "stream",
     "text": [
      "0.014209591474245116\n",
      "0.013975155279503106\n"
     ]
    }
   ],
   "source": [
    "print((male_frame.AU4_5_7_23_c=='1111').mean())\n",
    "print((female_frame.AU4_5_7_23_c=='1111').mean())"
   ]
  },
  {
   "cell_type": "code",
   "execution_count": 245,
   "metadata": {
    "scrolled": false
   },
   "outputs": [
    {
     "name": "stdout",
     "output_type": "stream",
     "text": [
      "0.7779751332149201\n",
      "0.8322981366459627\n"
     ]
    }
   ],
   "source": [
    "print(1-(male_frame.AU4_5_7_23_c=='0000').mean())\n",
    "print(1-(female_frame.AU4_5_7_23_c=='0000').mean())"
   ]
  },
  {
   "cell_type": "markdown",
   "metadata": {},
   "source": [
    "#### Now check for conditional probability, controlled by AU:"
   ]
  },
  {
   "cell_type": "code",
   "execution_count": 251,
   "metadata": {},
   "outputs": [
    {
     "name": "stdout",
     "output_type": "stream",
     "text": [
      "0.9713523196176421\n",
      "nan\n"
     ]
    },
    {
     "data": {
      "text/html": [
       "<div>\n",
       "<style scoped>\n",
       "    .dataframe tbody tr th:only-of-type {\n",
       "        vertical-align: middle;\n",
       "    }\n",
       "\n",
       "    .dataframe tbody tr th {\n",
       "        vertical-align: top;\n",
       "    }\n",
       "\n",
       "    .dataframe thead th {\n",
       "        text-align: right;\n",
       "    }\n",
       "</style>\n",
       "<table border=\"1\" class=\"dataframe\">\n",
       "  <thead>\n",
       "    <tr style=\"text-align: right;\">\n",
       "      <th></th>\n",
       "      <th>male</th>\n",
       "      <th>female</th>\n",
       "      <th>diff</th>\n",
       "      <th>p-value</th>\n",
       "    </tr>\n",
       "    <tr>\n",
       "      <th>AU04_r_c</th>\n",
       "      <th></th>\n",
       "      <th></th>\n",
       "      <th></th>\n",
       "      <th></th>\n",
       "    </tr>\n",
       "  </thead>\n",
       "  <tbody>\n",
       "    <tr>\n",
       "      <th>0</th>\n",
       "      <td>0.075047</td>\n",
       "      <td>0.091205</td>\n",
       "      <td>0.016158</td>\n",
       "      <td>0.324343</td>\n",
       "    </tr>\n",
       "    <tr>\n",
       "      <th>1</th>\n",
       "      <td>1.000000</td>\n",
       "      <td>0.933333</td>\n",
       "      <td>-0.066667</td>\n",
       "      <td>NaN</td>\n",
       "    </tr>\n",
       "  </tbody>\n",
       "</table>\n",
       "</div>"
      ],
      "text/plain": [
       "              male    female      diff   p-value\n",
       "AU04_r_c                                        \n",
       "0         0.075047  0.091205  0.016158  0.324343\n",
       "1         1.000000  0.933333 -0.066667       NaN"
      ]
     },
     "execution_count": 251,
     "metadata": {},
     "output_type": "execute_result"
    }
   ],
   "source": [
    "result_df = pd.concat([pd.crosstab(male_frame.AU04_r_c, male_frame.Angry, normalize = 'index')[1], pd.crosstab(female_frame.AU04_r_c, female_frame.Angry, normalize = 'index')[1]], axis=1)\n",
    "result_df.columns = ['male', 'female']\n",
    "result_df['diff'] = result_df.female - result_df.male\n",
    "for index, row in result_df.iterrows():\n",
    "    cross_tab = pd.crosstab(frame[frame.AU04_r_c == index].gender_preds, frame[frame.AU04_r_c == index].Angry, margins = True)\n",
    "\n",
    "    cross_tab.columns = [\"Not Angry\", \"Angry\", \"row_totals\"]\n",
    "    cross_tab.index = [\"Female\", \"Male\", \"col_totals\"]\n",
    "    observed = cross_tab.iloc[0:2,0:2]   # Get table without totals for later use\n",
    "\n",
    "    expected =  np.outer(cross_tab[\"row_totals\"][0:2],\n",
    "                     cross_tab.loc[\"col_totals\"][0:2]) / len(frame[frame.AU04_r_c == index])\n",
    "\n",
    "    expected = pd.DataFrame(expected)\n",
    "    expected.columns = [\"Not Angry\", \"Angry\"]\n",
    "    expected.index = [\"Female\", \"Male\"]\n",
    "\n",
    "    if (expected>=5).sum().sum() == 4:\n",
    "        chi_squared_stat = (((observed-expected)**2)/expected).sum().sum()\n",
    "        p_value = 1 - stats.chi2.cdf(x=chi_squared_stat, df=1)\n",
    "    else:\n",
    "        chi_squared_stat = np.nan\n",
    "        p_value = np.nan\n",
    "\n",
    "    print(chi_squared_stat)\n",
    "    \n",
    "    result_df.loc[index, \"p-value\"] = p_value\n",
    "result_df"
   ]
  },
  {
   "cell_type": "code",
   "execution_count": 252,
   "metadata": {},
   "outputs": [
    {
     "name": "stdout",
     "output_type": "stream",
     "text": [
      "0.03827401823801806\n"
     ]
    },
    {
     "ename": "ValueError",
     "evalue": "Length mismatch: Expected axis has 2 elements, new values have 3 elements",
     "output_type": "error",
     "traceback": [
      "\u001b[0;31m---------------------------------------------------------------------------\u001b[0m",
      "\u001b[0;31mValueError\u001b[0m                                Traceback (most recent call last)",
      "\u001b[0;32m<ipython-input-252-fb99dd30a9c9>\u001b[0m in \u001b[0;36m<module>\u001b[0;34m\u001b[0m\n\u001b[1;32m      5\u001b[0m     \u001b[0mcross_tab\u001b[0m \u001b[0;34m=\u001b[0m \u001b[0mpd\u001b[0m\u001b[0;34m.\u001b[0m\u001b[0mcrosstab\u001b[0m\u001b[0;34m(\u001b[0m\u001b[0mframe\u001b[0m\u001b[0;34m[\u001b[0m\u001b[0mframe\u001b[0m\u001b[0;34m.\u001b[0m\u001b[0mAU05_r_c\u001b[0m \u001b[0;34m==\u001b[0m \u001b[0mindex\u001b[0m\u001b[0;34m]\u001b[0m\u001b[0;34m.\u001b[0m\u001b[0mgender_preds\u001b[0m\u001b[0;34m,\u001b[0m \u001b[0mframe\u001b[0m\u001b[0;34m[\u001b[0m\u001b[0mframe\u001b[0m\u001b[0;34m.\u001b[0m\u001b[0mAU05_r_c\u001b[0m \u001b[0;34m==\u001b[0m \u001b[0mindex\u001b[0m\u001b[0;34m]\u001b[0m\u001b[0;34m.\u001b[0m\u001b[0mAngry\u001b[0m\u001b[0;34m,\u001b[0m \u001b[0mmargins\u001b[0m \u001b[0;34m=\u001b[0m \u001b[0;32mTrue\u001b[0m\u001b[0;34m)\u001b[0m\u001b[0;34m\u001b[0m\u001b[0;34m\u001b[0m\u001b[0m\n\u001b[1;32m      6\u001b[0m \u001b[0;34m\u001b[0m\u001b[0m\n\u001b[0;32m----> 7\u001b[0;31m     \u001b[0mcross_tab\u001b[0m\u001b[0;34m.\u001b[0m\u001b[0mcolumns\u001b[0m \u001b[0;34m=\u001b[0m \u001b[0;34m[\u001b[0m\u001b[0;34m\"Not Angry\"\u001b[0m\u001b[0;34m,\u001b[0m \u001b[0;34m\"Angry\"\u001b[0m\u001b[0;34m,\u001b[0m \u001b[0;34m\"row_totals\"\u001b[0m\u001b[0;34m]\u001b[0m\u001b[0;34m\u001b[0m\u001b[0;34m\u001b[0m\u001b[0m\n\u001b[0m\u001b[1;32m      8\u001b[0m     \u001b[0mcross_tab\u001b[0m\u001b[0;34m.\u001b[0m\u001b[0mindex\u001b[0m \u001b[0;34m=\u001b[0m \u001b[0;34m[\u001b[0m\u001b[0;34m\"Female\"\u001b[0m\u001b[0;34m,\u001b[0m \u001b[0;34m\"Male\"\u001b[0m\u001b[0;34m,\u001b[0m \u001b[0;34m\"col_totals\"\u001b[0m\u001b[0;34m]\u001b[0m\u001b[0;34m\u001b[0m\u001b[0;34m\u001b[0m\u001b[0m\n\u001b[1;32m      9\u001b[0m     \u001b[0mobserved\u001b[0m \u001b[0;34m=\u001b[0m \u001b[0mcross_tab\u001b[0m\u001b[0;34m.\u001b[0m\u001b[0miloc\u001b[0m\u001b[0;34m[\u001b[0m\u001b[0;36m0\u001b[0m\u001b[0;34m:\u001b[0m\u001b[0;36m2\u001b[0m\u001b[0;34m,\u001b[0m\u001b[0;36m0\u001b[0m\u001b[0;34m:\u001b[0m\u001b[0;36m2\u001b[0m\u001b[0;34m]\u001b[0m   \u001b[0;31m# Get table without totals for later use\u001b[0m\u001b[0;34m\u001b[0m\u001b[0;34m\u001b[0m\u001b[0m\n",
      "\u001b[0;32m/usr/local/lib/python3.8/dist-packages/pandas/core/generic.py\u001b[0m in \u001b[0;36m__setattr__\u001b[0;34m(self, name, value)\u001b[0m\n\u001b[1;32m   5285\u001b[0m         \u001b[0;32mtry\u001b[0m\u001b[0;34m:\u001b[0m\u001b[0;34m\u001b[0m\u001b[0;34m\u001b[0m\u001b[0m\n\u001b[1;32m   5286\u001b[0m             \u001b[0mobject\u001b[0m\u001b[0;34m.\u001b[0m\u001b[0m__getattribute__\u001b[0m\u001b[0;34m(\u001b[0m\u001b[0mself\u001b[0m\u001b[0;34m,\u001b[0m \u001b[0mname\u001b[0m\u001b[0;34m)\u001b[0m\u001b[0;34m\u001b[0m\u001b[0;34m\u001b[0m\u001b[0m\n\u001b[0;32m-> 5287\u001b[0;31m             \u001b[0;32mreturn\u001b[0m \u001b[0mobject\u001b[0m\u001b[0;34m.\u001b[0m\u001b[0m__setattr__\u001b[0m\u001b[0;34m(\u001b[0m\u001b[0mself\u001b[0m\u001b[0;34m,\u001b[0m \u001b[0mname\u001b[0m\u001b[0;34m,\u001b[0m \u001b[0mvalue\u001b[0m\u001b[0;34m)\u001b[0m\u001b[0;34m\u001b[0m\u001b[0;34m\u001b[0m\u001b[0m\n\u001b[0m\u001b[1;32m   5288\u001b[0m         \u001b[0;32mexcept\u001b[0m \u001b[0mAttributeError\u001b[0m\u001b[0;34m:\u001b[0m\u001b[0;34m\u001b[0m\u001b[0;34m\u001b[0m\u001b[0m\n\u001b[1;32m   5289\u001b[0m             \u001b[0;32mpass\u001b[0m\u001b[0;34m\u001b[0m\u001b[0;34m\u001b[0m\u001b[0m\n",
      "\u001b[0;32mpandas/_libs/properties.pyx\u001b[0m in \u001b[0;36mpandas._libs.properties.AxisProperty.__set__\u001b[0;34m()\u001b[0m\n",
      "\u001b[0;32m/usr/local/lib/python3.8/dist-packages/pandas/core/generic.py\u001b[0m in \u001b[0;36m_set_axis\u001b[0;34m(self, axis, labels)\u001b[0m\n\u001b[1;32m    659\u001b[0m \u001b[0;34m\u001b[0m\u001b[0m\n\u001b[1;32m    660\u001b[0m     \u001b[0;32mdef\u001b[0m \u001b[0m_set_axis\u001b[0m\u001b[0;34m(\u001b[0m\u001b[0mself\u001b[0m\u001b[0;34m,\u001b[0m \u001b[0maxis\u001b[0m\u001b[0;34m,\u001b[0m \u001b[0mlabels\u001b[0m\u001b[0;34m)\u001b[0m \u001b[0;34m->\u001b[0m \u001b[0;32mNone\u001b[0m\u001b[0;34m:\u001b[0m\u001b[0;34m\u001b[0m\u001b[0;34m\u001b[0m\u001b[0m\n\u001b[0;32m--> 661\u001b[0;31m         \u001b[0mself\u001b[0m\u001b[0;34m.\u001b[0m\u001b[0m_data\u001b[0m\u001b[0;34m.\u001b[0m\u001b[0mset_axis\u001b[0m\u001b[0;34m(\u001b[0m\u001b[0maxis\u001b[0m\u001b[0;34m,\u001b[0m \u001b[0mlabels\u001b[0m\u001b[0;34m)\u001b[0m\u001b[0;34m\u001b[0m\u001b[0;34m\u001b[0m\u001b[0m\n\u001b[0m\u001b[1;32m    662\u001b[0m         \u001b[0mself\u001b[0m\u001b[0;34m.\u001b[0m\u001b[0m_clear_item_cache\u001b[0m\u001b[0;34m(\u001b[0m\u001b[0;34m)\u001b[0m\u001b[0;34m\u001b[0m\u001b[0;34m\u001b[0m\u001b[0m\n\u001b[1;32m    663\u001b[0m \u001b[0;34m\u001b[0m\u001b[0m\n",
      "\u001b[0;32m/usr/local/lib/python3.8/dist-packages/pandas/core/internals/managers.py\u001b[0m in \u001b[0;36mset_axis\u001b[0;34m(self, axis, new_labels)\u001b[0m\n\u001b[1;32m    175\u001b[0m \u001b[0;34m\u001b[0m\u001b[0m\n\u001b[1;32m    176\u001b[0m         \u001b[0;32mif\u001b[0m \u001b[0mnew_len\u001b[0m \u001b[0;34m!=\u001b[0m \u001b[0mold_len\u001b[0m\u001b[0;34m:\u001b[0m\u001b[0;34m\u001b[0m\u001b[0;34m\u001b[0m\u001b[0m\n\u001b[0;32m--> 177\u001b[0;31m             raise ValueError(\n\u001b[0m\u001b[1;32m    178\u001b[0m                 \u001b[0;34mf\"Length mismatch: Expected axis has {old_len} elements, new \"\u001b[0m\u001b[0;34m\u001b[0m\u001b[0;34m\u001b[0m\u001b[0m\n\u001b[1;32m    179\u001b[0m                 \u001b[0;34mf\"values have {new_len} elements\"\u001b[0m\u001b[0;34m\u001b[0m\u001b[0;34m\u001b[0m\u001b[0m\n",
      "\u001b[0;31mValueError\u001b[0m: Length mismatch: Expected axis has 2 elements, new values have 3 elements"
     ]
    }
   ],
   "source": [
    "result_df = pd.concat([pd.crosstab(male_frame.AU05_r_c, male_frame.Angry, normalize = 'index')[1], pd.crosstab(female_frame.AU05_r_c, female_frame.Angry, normalize = 'index')[1]], axis=1)\n",
    "result_df.columns = ['male', 'female']\n",
    "result_df['diff'] = result_df.female - result_df.male\n",
    "for index, row in result_df.iterrows():\n",
    "    cross_tab = pd.crosstab(frame[frame.AU05_r_c == index].gender_preds, frame[frame.AU05_r_c == index].Angry, margins = True)\n",
    "\n",
    "    cross_tab.columns = [\"Not Angry\", \"Angry\", \"row_totals\"]\n",
    "    cross_tab.index = [\"Female\", \"Male\", \"col_totals\"]\n",
    "    observed = cross_tab.iloc[0:2,0:2]   # Get table without totals for later use\n",
    "\n",
    "    expected =  np.outer(cross_tab[\"row_totals\"][0:2],\n",
    "                     cross_tab.loc[\"col_totals\"][0:2]) / len(frame[frame.AU05_r_c == index])\n",
    "\n",
    "    expected = pd.DataFrame(expected)\n",
    "    expected.columns = [\"Not Angry\", \"Angry\"]\n",
    "    expected.index = [\"Female\", \"Male\"]\n",
    "\n",
    "    if (expected>=5).sum().sum() == 4:\n",
    "        chi_squared_stat = (((observed-expected)**2)/expected).sum().sum()\n",
    "        p_value = 1 - stats.chi2.cdf(x=chi_squared_stat, df=1)\n",
    "    else:\n",
    "        chi_squared_stat = np.nan\n",
    "        p_value = np.nan\n",
    "\n",
    "    print(chi_squared_stat)\n",
    "    \n",
    "    result_df.loc[index, \"p-value\"] = p_value\n",
    "result_df"
   ]
  },
  {
   "cell_type": "code",
   "execution_count": 247,
   "metadata": {},
   "outputs": [
    {
     "name": "stdout",
     "output_type": "stream",
     "text": [
      "0.9630136986301376\n",
      "0.5768908472337628\n"
     ]
    },
    {
     "data": {
      "text/html": [
       "<div>\n",
       "<style scoped>\n",
       "    .dataframe tbody tr th:only-of-type {\n",
       "        vertical-align: middle;\n",
       "    }\n",
       "\n",
       "    .dataframe tbody tr th {\n",
       "        vertical-align: top;\n",
       "    }\n",
       "\n",
       "    .dataframe thead th {\n",
       "        text-align: right;\n",
       "    }\n",
       "</style>\n",
       "<table border=\"1\" class=\"dataframe\">\n",
       "  <thead>\n",
       "    <tr style=\"text-align: right;\">\n",
       "      <th></th>\n",
       "      <th>male</th>\n",
       "      <th>female</th>\n",
       "      <th>diff</th>\n",
       "      <th>p-value</th>\n",
       "    </tr>\n",
       "    <tr>\n",
       "      <th>AU05_c</th>\n",
       "      <th></th>\n",
       "      <th></th>\n",
       "      <th></th>\n",
       "      <th></th>\n",
       "    </tr>\n",
       "  </thead>\n",
       "  <tbody>\n",
       "    <tr>\n",
       "      <th>0.0</th>\n",
       "      <td>0.13242</td>\n",
       "      <td>0.155556</td>\n",
       "      <td>0.023135</td>\n",
       "      <td>0.326429</td>\n",
       "    </tr>\n",
       "    <tr>\n",
       "      <th>1.0</th>\n",
       "      <td>0.09600</td>\n",
       "      <td>0.072165</td>\n",
       "      <td>-0.023835</td>\n",
       "      <td>0.447534</td>\n",
       "    </tr>\n",
       "  </tbody>\n",
       "</table>\n",
       "</div>"
      ],
      "text/plain": [
       "           male    female      diff   p-value\n",
       "AU05_c                                       \n",
       "0.0     0.13242  0.155556  0.023135  0.326429\n",
       "1.0     0.09600  0.072165 -0.023835  0.447534"
      ]
     },
     "execution_count": 247,
     "metadata": {},
     "output_type": "execute_result"
    }
   ],
   "source": [
    "result_df = pd.concat([pd.crosstab(male_frame.AU05_c, male_frame.Angry, normalize = 'index')[1], pd.crosstab(female_frame.AU05_c, female_frame.Angry, normalize = 'index')[1]], axis=1)\n",
    "result_df.columns = ['male', 'female']\n",
    "result_df['diff'] = result_df.female - result_df.male\n",
    "for index, row in result_df.iterrows():\n",
    "    cross_tab = pd.crosstab(frame[frame.AU05_c == index].gender_preds, frame[frame.AU05_c == index].Angry, margins = True)\n",
    "\n",
    "    cross_tab.columns = [\"Not Angry\", \"Angry\", \"row_totals\"]\n",
    "    cross_tab.index = [\"Female\", \"Male\", \"col_totals\"]\n",
    "    observed = cross_tab.iloc[0:2,0:2]   # Get table without totals for later use\n",
    "\n",
    "    expected =  np.outer(cross_tab[\"row_totals\"][0:2],\n",
    "                     cross_tab.loc[\"col_totals\"][0:2]) / len(frame[frame.AU05_c == index])\n",
    "\n",
    "    expected = pd.DataFrame(expected)\n",
    "    expected.columns = [\"Not Angry\", \"Angry\"]\n",
    "    expected.index = [\"Female\", \"Male\"]\n",
    "\n",
    "    if (expected>=5).sum().sum() == 4:\n",
    "        chi_squared_stat = (((observed-expected)**2)/expected).sum().sum()\n",
    "        p_value = 1 - stats.chi2.cdf(x=chi_squared_stat, df=1)\n",
    "    else:\n",
    "        chi_squared_stat = np.nan\n",
    "        p_value = np.nan\n",
    "\n",
    "    print(chi_squared_stat)\n",
    "    \n",
    "    result_df.loc[index, \"p-value\"] = p_value\n",
    "result_df"
   ]
  },
  {
   "cell_type": "code",
   "execution_count": 248,
   "metadata": {},
   "outputs": [
    {
     "name": "stdout",
     "output_type": "stream",
     "text": [
      "1.454141514459941\n",
      "0.10724044449958253\n"
     ]
    },
    {
     "data": {
      "text/html": [
       "<div>\n",
       "<style scoped>\n",
       "    .dataframe tbody tr th:only-of-type {\n",
       "        vertical-align: middle;\n",
       "    }\n",
       "\n",
       "    .dataframe tbody tr th {\n",
       "        vertical-align: top;\n",
       "    }\n",
       "\n",
       "    .dataframe thead th {\n",
       "        text-align: right;\n",
       "    }\n",
       "</style>\n",
       "<table border=\"1\" class=\"dataframe\">\n",
       "  <thead>\n",
       "    <tr style=\"text-align: right;\">\n",
       "      <th></th>\n",
       "      <th>male</th>\n",
       "      <th>female</th>\n",
       "      <th>diff</th>\n",
       "      <th>p-value</th>\n",
       "    </tr>\n",
       "    <tr>\n",
       "      <th>AU07_c</th>\n",
       "      <th></th>\n",
       "      <th></th>\n",
       "      <th></th>\n",
       "      <th></th>\n",
       "    </tr>\n",
       "  </thead>\n",
       "  <tbody>\n",
       "    <tr>\n",
       "      <th>0.0</th>\n",
       "      <td>0.025806</td>\n",
       "      <td>0.043103</td>\n",
       "      <td>0.017297</td>\n",
       "      <td>0.227865</td>\n",
       "    </tr>\n",
       "    <tr>\n",
       "      <th>1.0</th>\n",
       "      <td>0.245059</td>\n",
       "      <td>0.233108</td>\n",
       "      <td>-0.011951</td>\n",
       "      <td>0.743308</td>\n",
       "    </tr>\n",
       "  </tbody>\n",
       "</table>\n",
       "</div>"
      ],
      "text/plain": [
       "            male    female      diff   p-value\n",
       "AU07_c                                        \n",
       "0.0     0.025806  0.043103  0.017297  0.227865\n",
       "1.0     0.245059  0.233108 -0.011951  0.743308"
      ]
     },
     "execution_count": 248,
     "metadata": {},
     "output_type": "execute_result"
    }
   ],
   "source": [
    "result_df = pd.concat([pd.crosstab(male_frame.AU07_c, male_frame.Angry, normalize = 'index')[1], pd.crosstab(female_frame.AU07_c, female_frame.Angry, normalize = 'index')[1]], axis=1)\n",
    "result_df.columns = ['male', 'female']\n",
    "result_df['diff'] = result_df.female - result_df.male\n",
    "for index, row in result_df.iterrows():\n",
    "    cross_tab = pd.crosstab(frame[frame.AU07_c == index].gender_preds, frame[frame.AU07_c == index].Angry, margins = True)\n",
    "\n",
    "    cross_tab.columns = [\"Not Angry\", \"Angry\", \"row_totals\"]\n",
    "    cross_tab.index = [\"Female\", \"Male\", \"col_totals\"]\n",
    "    observed = cross_tab.iloc[0:2,0:2]   # Get table without totals for later use\n",
    "\n",
    "    expected =  np.outer(cross_tab[\"row_totals\"][0:2],\n",
    "                     cross_tab.loc[\"col_totals\"][0:2]) / len(frame[frame.AU07_c == index])\n",
    "\n",
    "    expected = pd.DataFrame(expected)\n",
    "    expected.columns = [\"Not Angry\", \"Angry\"]\n",
    "    expected.index = [\"Female\", \"Male\"]\n",
    "\n",
    "    if (expected>=5).sum().sum() == 4:\n",
    "        chi_squared_stat = (((observed-expected)**2)/expected).sum().sum()\n",
    "        p_value = 1 - stats.chi2.cdf(x=chi_squared_stat, df=1)\n",
    "    else:\n",
    "        chi_squared_stat = np.nan\n",
    "        p_value = np.nan\n",
    "\n",
    "    print(chi_squared_stat)\n",
    "    \n",
    "    result_df.loc[index, \"p-value\"] = p_value\n",
    "result_df"
   ]
  },
  {
   "cell_type": "code",
   "execution_count": 249,
   "metadata": {},
   "outputs": [
    {
     "name": "stdout",
     "output_type": "stream",
     "text": [
      "0.13768796246470813\n",
      "0.47613023704105295\n"
     ]
    },
    {
     "data": {
      "text/html": [
       "<div>\n",
       "<style scoped>\n",
       "    .dataframe tbody tr th:only-of-type {\n",
       "        vertical-align: middle;\n",
       "    }\n",
       "\n",
       "    .dataframe tbody tr th {\n",
       "        vertical-align: top;\n",
       "    }\n",
       "\n",
       "    .dataframe thead th {\n",
       "        text-align: right;\n",
       "    }\n",
       "</style>\n",
       "<table border=\"1\" class=\"dataframe\">\n",
       "  <thead>\n",
       "    <tr style=\"text-align: right;\">\n",
       "      <th></th>\n",
       "      <th>male</th>\n",
       "      <th>female</th>\n",
       "      <th>diff</th>\n",
       "      <th>p-value</th>\n",
       "    </tr>\n",
       "    <tr>\n",
       "      <th>AU23_c</th>\n",
       "      <th></th>\n",
       "      <th></th>\n",
       "      <th></th>\n",
       "      <th></th>\n",
       "    </tr>\n",
       "  </thead>\n",
       "  <tbody>\n",
       "    <tr>\n",
       "      <th>0.0</th>\n",
       "      <td>0.080863</td>\n",
       "      <td>0.073810</td>\n",
       "      <td>-0.007053</td>\n",
       "      <td>0.71059</td>\n",
       "    </tr>\n",
       "    <tr>\n",
       "      <th>1.0</th>\n",
       "      <td>0.208333</td>\n",
       "      <td>0.236607</td>\n",
       "      <td>0.028274</td>\n",
       "      <td>0.49018</td>\n",
       "    </tr>\n",
       "  </tbody>\n",
       "</table>\n",
       "</div>"
      ],
      "text/plain": [
       "            male    female      diff  p-value\n",
       "AU23_c                                       \n",
       "0.0     0.080863  0.073810 -0.007053  0.71059\n",
       "1.0     0.208333  0.236607  0.028274  0.49018"
      ]
     },
     "execution_count": 249,
     "metadata": {},
     "output_type": "execute_result"
    }
   ],
   "source": [
    "result_df = pd.concat([pd.crosstab(male_frame.AU23_c, male_frame.Angry, normalize = 'index')[1], pd.crosstab(female_frame.AU23_c, female_frame.Angry, normalize = 'index')[1]], axis=1)\n",
    "result_df.columns = ['male', 'female']\n",
    "result_df['diff'] = result_df.female - result_df.male\n",
    "for index, row in result_df.iterrows():\n",
    "    cross_tab = pd.crosstab(frame[frame.AU23_c == index].gender_preds, frame[frame.AU23_c == index].Angry, margins = True)\n",
    "\n",
    "    cross_tab.columns = [\"Not Angry\", \"Angry\", \"row_totals\"]\n",
    "    cross_tab.index = [\"Female\", \"Male\", \"col_totals\"]\n",
    "    observed = cross_tab.iloc[0:2,0:2]   # Get table without totals for later use\n",
    "\n",
    "    expected =  np.outer(cross_tab[\"row_totals\"][0:2],\n",
    "                     cross_tab.loc[\"col_totals\"][0:2]) / len(frame[frame.AU23_c == index])\n",
    "\n",
    "    expected = pd.DataFrame(expected)\n",
    "    expected.columns = [\"Not Angry\", \"Angry\"]\n",
    "    expected.index = [\"Female\", \"Male\"]\n",
    "\n",
    "    if (expected>=5).sum().sum() == 4:\n",
    "        chi_squared_stat = (((observed-expected)**2)/expected).sum().sum()\n",
    "        p_value = 1 - stats.chi2.cdf(x=chi_squared_stat, df=1)\n",
    "    else:\n",
    "        chi_squared_stat = np.nan\n",
    "        p_value = np.nan\n",
    "\n",
    "    print(chi_squared_stat)\n",
    "    \n",
    "    result_df.loc[index, \"p-value\"] = p_value\n",
    "result_df"
   ]
  },
  {
   "cell_type": "code",
   "execution_count": 253,
   "metadata": {
    "scrolled": true
   },
   "outputs": [
    {
     "name": "stdout",
     "output_type": "stream",
     "text": [
      "nan\n",
      "nan\n",
      "0.44416644600182836\n",
      "0.5623046816698201\n"
     ]
    },
    {
     "ename": "ValueError",
     "evalue": "Length mismatch: Expected axis has 2 elements, new values have 3 elements",
     "output_type": "error",
     "traceback": [
      "\u001b[0;31m---------------------------------------------------------------------------\u001b[0m",
      "\u001b[0;31mValueError\u001b[0m                                Traceback (most recent call last)",
      "\u001b[0;32m<ipython-input-253-1de786444efd>\u001b[0m in \u001b[0;36m<module>\u001b[0;34m\u001b[0m\n\u001b[1;32m      5\u001b[0m     \u001b[0mcross_tab\u001b[0m \u001b[0;34m=\u001b[0m \u001b[0mpd\u001b[0m\u001b[0;34m.\u001b[0m\u001b[0mcrosstab\u001b[0m\u001b[0;34m(\u001b[0m\u001b[0mframe\u001b[0m\u001b[0;34m[\u001b[0m\u001b[0mframe\u001b[0m\u001b[0;34m.\u001b[0m\u001b[0mAU4_5_7_23_r_c\u001b[0m \u001b[0;34m==\u001b[0m \u001b[0mindex\u001b[0m\u001b[0;34m]\u001b[0m\u001b[0;34m.\u001b[0m\u001b[0mgender_preds\u001b[0m\u001b[0;34m,\u001b[0m \u001b[0mframe\u001b[0m\u001b[0;34m[\u001b[0m\u001b[0mframe\u001b[0m\u001b[0;34m.\u001b[0m\u001b[0mAU4_5_7_23_r_c\u001b[0m \u001b[0;34m==\u001b[0m \u001b[0mindex\u001b[0m\u001b[0;34m]\u001b[0m\u001b[0;34m.\u001b[0m\u001b[0mAngry\u001b[0m\u001b[0;34m,\u001b[0m \u001b[0mmargins\u001b[0m \u001b[0;34m=\u001b[0m \u001b[0;32mTrue\u001b[0m\u001b[0;34m)\u001b[0m\u001b[0;34m\u001b[0m\u001b[0;34m\u001b[0m\u001b[0m\n\u001b[1;32m      6\u001b[0m \u001b[0;34m\u001b[0m\u001b[0m\n\u001b[0;32m----> 7\u001b[0;31m     \u001b[0mcross_tab\u001b[0m\u001b[0;34m.\u001b[0m\u001b[0mcolumns\u001b[0m \u001b[0;34m=\u001b[0m \u001b[0;34m[\u001b[0m\u001b[0;34m\"Not Angry\"\u001b[0m\u001b[0;34m,\u001b[0m \u001b[0;34m\"Angry\"\u001b[0m\u001b[0;34m,\u001b[0m \u001b[0;34m\"row_totals\"\u001b[0m\u001b[0;34m]\u001b[0m\u001b[0;34m\u001b[0m\u001b[0;34m\u001b[0m\u001b[0m\n\u001b[0m\u001b[1;32m      8\u001b[0m     \u001b[0mcross_tab\u001b[0m\u001b[0;34m.\u001b[0m\u001b[0mindex\u001b[0m \u001b[0;34m=\u001b[0m \u001b[0;34m[\u001b[0m\u001b[0;34m\"Female\"\u001b[0m\u001b[0;34m,\u001b[0m \u001b[0;34m\"Male\"\u001b[0m\u001b[0;34m,\u001b[0m \u001b[0;34m\"col_totals\"\u001b[0m\u001b[0;34m]\u001b[0m\u001b[0;34m\u001b[0m\u001b[0;34m\u001b[0m\u001b[0m\n\u001b[1;32m      9\u001b[0m     \u001b[0mobserved\u001b[0m \u001b[0;34m=\u001b[0m \u001b[0mcross_tab\u001b[0m\u001b[0;34m.\u001b[0m\u001b[0miloc\u001b[0m\u001b[0;34m[\u001b[0m\u001b[0;36m0\u001b[0m\u001b[0;34m:\u001b[0m\u001b[0;36m2\u001b[0m\u001b[0;34m,\u001b[0m\u001b[0;36m0\u001b[0m\u001b[0;34m:\u001b[0m\u001b[0;36m2\u001b[0m\u001b[0;34m]\u001b[0m   \u001b[0;31m# Get table without totals for later use\u001b[0m\u001b[0;34m\u001b[0m\u001b[0;34m\u001b[0m\u001b[0m\n",
      "\u001b[0;32m/usr/local/lib/python3.8/dist-packages/pandas/core/generic.py\u001b[0m in \u001b[0;36m__setattr__\u001b[0;34m(self, name, value)\u001b[0m\n\u001b[1;32m   5285\u001b[0m         \u001b[0;32mtry\u001b[0m\u001b[0;34m:\u001b[0m\u001b[0;34m\u001b[0m\u001b[0;34m\u001b[0m\u001b[0m\n\u001b[1;32m   5286\u001b[0m             \u001b[0mobject\u001b[0m\u001b[0;34m.\u001b[0m\u001b[0m__getattribute__\u001b[0m\u001b[0;34m(\u001b[0m\u001b[0mself\u001b[0m\u001b[0;34m,\u001b[0m \u001b[0mname\u001b[0m\u001b[0;34m)\u001b[0m\u001b[0;34m\u001b[0m\u001b[0;34m\u001b[0m\u001b[0m\n\u001b[0;32m-> 5287\u001b[0;31m             \u001b[0;32mreturn\u001b[0m \u001b[0mobject\u001b[0m\u001b[0;34m.\u001b[0m\u001b[0m__setattr__\u001b[0m\u001b[0;34m(\u001b[0m\u001b[0mself\u001b[0m\u001b[0;34m,\u001b[0m \u001b[0mname\u001b[0m\u001b[0;34m,\u001b[0m \u001b[0mvalue\u001b[0m\u001b[0;34m)\u001b[0m\u001b[0;34m\u001b[0m\u001b[0;34m\u001b[0m\u001b[0m\n\u001b[0m\u001b[1;32m   5288\u001b[0m         \u001b[0;32mexcept\u001b[0m \u001b[0mAttributeError\u001b[0m\u001b[0;34m:\u001b[0m\u001b[0;34m\u001b[0m\u001b[0;34m\u001b[0m\u001b[0m\n\u001b[1;32m   5289\u001b[0m             \u001b[0;32mpass\u001b[0m\u001b[0;34m\u001b[0m\u001b[0;34m\u001b[0m\u001b[0m\n",
      "\u001b[0;32mpandas/_libs/properties.pyx\u001b[0m in \u001b[0;36mpandas._libs.properties.AxisProperty.__set__\u001b[0;34m()\u001b[0m\n",
      "\u001b[0;32m/usr/local/lib/python3.8/dist-packages/pandas/core/generic.py\u001b[0m in \u001b[0;36m_set_axis\u001b[0;34m(self, axis, labels)\u001b[0m\n\u001b[1;32m    659\u001b[0m \u001b[0;34m\u001b[0m\u001b[0m\n\u001b[1;32m    660\u001b[0m     \u001b[0;32mdef\u001b[0m \u001b[0m_set_axis\u001b[0m\u001b[0;34m(\u001b[0m\u001b[0mself\u001b[0m\u001b[0;34m,\u001b[0m \u001b[0maxis\u001b[0m\u001b[0;34m,\u001b[0m \u001b[0mlabels\u001b[0m\u001b[0;34m)\u001b[0m \u001b[0;34m->\u001b[0m \u001b[0;32mNone\u001b[0m\u001b[0;34m:\u001b[0m\u001b[0;34m\u001b[0m\u001b[0;34m\u001b[0m\u001b[0m\n\u001b[0;32m--> 661\u001b[0;31m         \u001b[0mself\u001b[0m\u001b[0;34m.\u001b[0m\u001b[0m_data\u001b[0m\u001b[0;34m.\u001b[0m\u001b[0mset_axis\u001b[0m\u001b[0;34m(\u001b[0m\u001b[0maxis\u001b[0m\u001b[0;34m,\u001b[0m \u001b[0mlabels\u001b[0m\u001b[0;34m)\u001b[0m\u001b[0;34m\u001b[0m\u001b[0;34m\u001b[0m\u001b[0m\n\u001b[0m\u001b[1;32m    662\u001b[0m         \u001b[0mself\u001b[0m\u001b[0;34m.\u001b[0m\u001b[0m_clear_item_cache\u001b[0m\u001b[0;34m(\u001b[0m\u001b[0;34m)\u001b[0m\u001b[0;34m\u001b[0m\u001b[0;34m\u001b[0m\u001b[0m\n\u001b[1;32m    663\u001b[0m \u001b[0;34m\u001b[0m\u001b[0m\n",
      "\u001b[0;32m/usr/local/lib/python3.8/dist-packages/pandas/core/internals/managers.py\u001b[0m in \u001b[0;36mset_axis\u001b[0;34m(self, axis, new_labels)\u001b[0m\n\u001b[1;32m    175\u001b[0m \u001b[0;34m\u001b[0m\u001b[0m\n\u001b[1;32m    176\u001b[0m         \u001b[0;32mif\u001b[0m \u001b[0mnew_len\u001b[0m \u001b[0;34m!=\u001b[0m \u001b[0mold_len\u001b[0m\u001b[0;34m:\u001b[0m\u001b[0;34m\u001b[0m\u001b[0;34m\u001b[0m\u001b[0m\n\u001b[0;32m--> 177\u001b[0;31m             raise ValueError(\n\u001b[0m\u001b[1;32m    178\u001b[0m                 \u001b[0;34mf\"Length mismatch: Expected axis has {old_len} elements, new \"\u001b[0m\u001b[0;34m\u001b[0m\u001b[0;34m\u001b[0m\u001b[0m\n\u001b[1;32m    179\u001b[0m                 \u001b[0;34mf\"values have {new_len} elements\"\u001b[0m\u001b[0;34m\u001b[0m\u001b[0;34m\u001b[0m\u001b[0m\n",
      "\u001b[0;31mValueError\u001b[0m: Length mismatch: Expected axis has 2 elements, new values have 3 elements"
     ]
    }
   ],
   "source": [
    "result_df = pd.concat([pd.crosstab(male_frame.AU4_5_7_23_r_c, male_frame.Angry, normalize = 'index')[1], pd.crosstab(female_frame.AU4_5_7_23_r_c, female_frame.Angry, normalize = 'index')[1]], axis=1)\n",
    "result_df.columns = ['male', 'female']\n",
    "result_df['diff'] = result_df.female - result_df.male\n",
    "for index, row in result_df.iterrows():\n",
    "    cross_tab = pd.crosstab(frame[frame.AU4_5_7_23_r_c == index].gender_preds, frame[frame.AU4_5_7_23_r_c == index].Angry, margins = True)\n",
    "\n",
    "    cross_tab.columns = [\"Not Angry\", \"Angry\", \"row_totals\"]\n",
    "    cross_tab.index = [\"Female\", \"Male\", \"col_totals\"]\n",
    "    observed = cross_tab.iloc[0:2,0:2]   # Get table without totals for later use\n",
    "\n",
    "    expected =  np.outer(cross_tab[\"row_totals\"][0:2],\n",
    "                     cross_tab.loc[\"col_totals\"][0:2]) / len(frame[frame.AU4_5_7_23_r_c == index])\n",
    "\n",
    "    expected = pd.DataFrame(expected)\n",
    "    expected.columns = [\"Not Angry\", \"Angry\"]\n",
    "    expected.index = [\"Female\", \"Male\"]\n",
    "\n",
    "    if (expected>=5).sum().sum() == 4:\n",
    "        chi_squared_stat = (((observed-expected)**2)/expected).sum().sum()\n",
    "        p_value = 1 - stats.chi2.cdf(x=chi_squared_stat, df=1)\n",
    "    else:\n",
    "        chi_squared_stat = np.nan\n",
    "        p_value = np.nan\n",
    "\n",
    "    print(chi_squared_stat)\n",
    "    \n",
    "    result_df.loc[index, \"p-value\"] = p_value\n",
    "result_df"
   ]
  },
  {
   "cell_type": "code",
   "execution_count": 254,
   "metadata": {},
   "outputs": [
    {
     "data": {
      "image/png": "[encoded data removed]",
      "text/plain": [
       "<Figure size 432x288 with 1 Axes>"
      ]
     },
     "metadata": {
      "needs_background": "light"
     },
     "output_type": "display_data"
    }
   ],
   "source": [
    "#AU_values_male = list(male_frame.AU06_r.unique())\n",
    "AU_values_male = list(male_frame.AU04_r.value_counts()[male_frame.AU04_r.value_counts() >= 25].index)\n",
    "happy_proportion_male = []\n",
    "for AU_value in AU_values_male:\n",
    "    subframe = male_frame.loc[male_frame.AU04_r == AU_value]\n",
    "    happy_proportion_male.append(subframe.Angry.mean())\n",
    "plt.scatter(AU_values_male, happy_proportion_male, label=\"Male\", marker = \"p\", alpha=0.8, s=30, c='r')#,edgecolors='k')\n",
    "\n",
    "#AU_values_female = list(female_frame.AU06_r.unique())\n",
    "AU_values_female = list(female_frame.AU04_r.value_counts()[female_frame.AU04_r.value_counts() >= 25].index)\n",
    "happy_proportion_female = []\n",
    "for AU_value in AU_values_female:\n",
    "    subframe = female_frame.loc[female_frame.AU04_r == AU_value]\n",
    "    happy_proportion_female.append(subframe.Angry.mean())\n",
    "plt.scatter(AU_values_female, happy_proportion_female, label=\"Female\", marker = \"*\", alpha=0.8, s=30, c='#089BDF')#,edgecolors='k')\n",
    "\n",
    "\n",
    "plt.xlabel('AU4 intensity', fontsize = 16)\n",
    "plt.ylabel('Proportion of \"Angry\" Labels', fontsize = 16)\n",
    "plt.title('P(Angry|AU4) for CFD', fontsize = 18)\n",
    "plt.legend(fontsize = 16)\n",
    "#plt.xlim(-0.1, 3)\n",
    "#plt.savefig('ExpW_AU6.pdf') \n",
    "plt.show()"
   ]
  },
  {
   "cell_type": "code",
   "execution_count": 255,
   "metadata": {},
   "outputs": [
    {
     "data": {
      "image/png": "[encoded data removed]",
      "text/plain": [
       "<Figure size 432x288 with 1 Axes>"
      ]
     },
     "metadata": {
      "needs_background": "light"
     },
     "output_type": "display_data"
    }
   ],
   "source": [
    "#AU_values_male = list(male_frame.AU06_r.unique())\n",
    "AU_values_male = list(male_frame.AU05_r.value_counts()[male_frame.AU05_r.value_counts() >= 25].index)\n",
    "happy_proportion_male = []\n",
    "for AU_value in AU_values_male:\n",
    "    subframe = male_frame.loc[male_frame.AU05_r == AU_value]\n",
    "    happy_proportion_male.append(subframe.Angry.mean())\n",
    "plt.scatter(AU_values_male, happy_proportion_male, label=\"Male\", marker = \"p\", alpha=0.8, s=30, c='r')#,edgecolors='k')\n",
    "\n",
    "#AU_values_female = list(female_frame.AU06_r.unique())\n",
    "AU_values_female = list(female_frame.AU05_r.value_counts()[female_frame.AU05_r.value_counts() >= 25].index)\n",
    "happy_proportion_female = []\n",
    "for AU_value in AU_values_female:\n",
    "    subframe = female_frame.loc[female_frame.AU05_r == AU_value]\n",
    "    happy_proportion_female.append(subframe.Angry.mean())\n",
    "plt.scatter(AU_values_female, happy_proportion_female, label=\"Female\", marker = \"*\", alpha=0.8, s=30, c='#089BDF')#,edgecolors='k')\n",
    "\n",
    "\n",
    "plt.xlabel('AU5 intensity', fontsize = 16)\n",
    "plt.ylabel('Proportion of \"Angry\" Labels', fontsize = 16)\n",
    "plt.title('P(Angry|AU5) for CFD', fontsize = 18)\n",
    "plt.legend(fontsize = 16)\n",
    "#plt.xlim(-0.1, 3)\n",
    "#plt.savefig('ExpW_AU12.pdf') \n",
    "plt.show()"
   ]
  },
  {
   "cell_type": "code",
   "execution_count": 256,
   "metadata": {},
   "outputs": [
    {
     "data": {
      "image/png": "[encoded data removed]",
      "text/plain": [
       "<Figure size 432x288 with 1 Axes>"
      ]
     },
     "metadata": {
      "needs_background": "light"
     },
     "output_type": "display_data"
    }
   ],
   "source": [
    "#AU_values_male = list(male_frame.AU06_r.unique())\n",
    "AU_values_male = list(male_frame.AU07_r.value_counts()[male_frame.AU07_r.value_counts() >= 25].index)\n",
    "happy_proportion_male = []\n",
    "for AU_value in AU_values_male:\n",
    "    subframe = male_frame.loc[male_frame.AU07_r == AU_value]\n",
    "    happy_proportion_male.append(subframe.Angry.mean())\n",
    "plt.scatter(AU_values_male, happy_proportion_male, label=\"Male\", marker = \"p\", alpha=0.8, s=30, c='r')#,edgecolors='k')\n",
    "\n",
    "#AU_values_female = list(female_frame.AU06_r.unique())\n",
    "AU_values_female = list(female_frame.AU07_r.value_counts()[female_frame.AU07_r.value_counts() >= 25].index)\n",
    "happy_proportion_female = []\n",
    "for AU_value in AU_values_female:\n",
    "    subframe = female_frame.loc[female_frame.AU07_r == AU_value]\n",
    "    happy_proportion_female.append(subframe.Angry.mean())\n",
    "plt.scatter(AU_values_female, happy_proportion_female, label=\"Female\", marker = \"*\", alpha=0.8, s=30, c='#089BDF')#,edgecolors='k')\n",
    "\n",
    "\n",
    "plt.xlabel('AU7 intensity', fontsize = 16)\n",
    "plt.ylabel('Proportion of \"Angry\" Labels', fontsize = 16)\n",
    "plt.title('P(Angry|AU7) for CFD', fontsize = 18)\n",
    "plt.legend(fontsize = 16)\n",
    "#plt.xlim(-0.1, 3)\n",
    "#plt.savefig('ExpW_AU12.pdf') \n",
    "plt.show()"
   ]
  },
  {
   "cell_type": "code",
   "execution_count": 257,
   "metadata": {},
   "outputs": [
    {
     "data": {
      "image/png": "[encoded data removed]",
      "text/plain": [
       "<Figure size 432x288 with 1 Axes>"
      ]
     },
     "metadata": {
      "needs_background": "light"
     },
     "output_type": "display_data"
    }
   ],
   "source": [
    "#AU_values_male = list(male_frame.AU06_r.unique())\n",
    "AU_values_male = list(male_frame.AU23_r.value_counts()[male_frame.AU23_r.value_counts() >= 25].index)\n",
    "happy_proportion_male = []\n",
    "for AU_value in AU_values_male:\n",
    "    subframe = male_frame.loc[male_frame.AU23_r == AU_value]\n",
    "    happy_proportion_male.append(subframe.Angry.mean())\n",
    "plt.scatter(AU_values_male, happy_proportion_male, label=\"Male\", marker = \"p\", alpha=0.8, s=30, c='r')#,edgecolors='k')\n",
    "\n",
    "#AU_values_female = list(female_frame.AU06_r.unique())\n",
    "AU_values_female = list(female_frame.AU23_r.value_counts()[female_frame.AU23_r.value_counts() >= 25].index)\n",
    "happy_proportion_female = []\n",
    "for AU_value in AU_values_female:\n",
    "    subframe = female_frame.loc[female_frame.AU23_r == AU_value]\n",
    "    happy_proportion_female.append(subframe.Angry.mean())\n",
    "plt.scatter(AU_values_female, happy_proportion_female, label=\"Female\", marker = \"*\", alpha=0.8, s=30, c='#089BDF')#,edgecolors='k')\n",
    "\n",
    "\n",
    "plt.xlabel('AU23 intensity', fontsize = 16)\n",
    "plt.ylabel('Proportion of \"Angry\" Labels', fontsize = 16)\n",
    "plt.title('P(Angry|AU23) for CFD', fontsize = 18)\n",
    "plt.legend(fontsize = 16)\n",
    "#plt.xlim(-0.1, 3)\n",
    "#plt.savefig('ExpW_AU12.pdf') \n",
    "plt.show()"
   ]
  },
  {
   "cell_type": "markdown",
   "metadata": {},
   "source": [
    "To formally show that there is a significant difference between the two logistic lines, we need logistic regression:"
   ]
  },
  {
   "cell_type": "code",
   "execution_count": 258,
   "metadata": {
    "scrolled": false
   },
   "outputs": [
    {
     "name": "stdout",
     "output_type": "stream",
     "text": [
      "                 Generalized Linear Model Regression Results                  \n",
      "==============================================================================\n",
      "Dep. Variable:                  Angry   No. Observations:                 1207\n",
      "Model:                            GLM   Df Residuals:                     1201\n",
      "Model Family:                Binomial   Df Model:                            5\n",
      "Link Function:                  logit   Scale:                          1.0000\n",
      "Method:                          IRLS   Log-Likelihood:                -148.01\n",
      "Date:                Thu, 24 Dec 2020   Deviance:                       296.03\n",
      "Time:                        11:52:06   Pearson chi2:                 1.94e+03\n",
      "No. Iterations:                     8                                         \n",
      "Covariance Type:            nonrobust                                         \n",
      "========================================================================================\n",
      "                           coef    std err          z      P>|z|      [0.025      0.975]\n",
      "----------------------------------------------------------------------------------------\n",
      "Intercept               -6.9385      0.579    -11.984      0.000      -8.073      -5.804\n",
      "gender_preds[T.Male]    -0.7043      0.322     -2.184      0.029      -1.336      -0.072\n",
      "AU04_r                   3.1631      0.259     12.192      0.000       2.655       3.672\n",
      "AU05_r                  -0.3611      0.236     -1.530      0.126      -0.824       0.102\n",
      "AU07_r                   0.8005      0.173      4.617      0.000       0.461       1.140\n",
      "AU23_r                   2.6871      0.443      6.065      0.000       1.819       3.556\n",
      "========================================================================================\n"
     ]
    }
   ],
   "source": [
    "formula = 'Angry ~ AU04_r + AU05_r + AU07_r + AU23_r + gender_preds'\n",
    "model = smf.glm(formula = formula, data=frame, family=sm.families.Binomial())\n",
    "result = model.fit()\n",
    "print(result.summary())"
   ]
  },
  {
   "cell_type": "code",
   "execution_count": 259,
   "metadata": {
    "scrolled": false
   },
   "outputs": [
    {
     "name": "stdout",
     "output_type": "stream",
     "text": [
      "                 Generalized Linear Model Regression Results                  \n",
      "==============================================================================\n",
      "Dep. Variable:                  Angry   No. Observations:                 1207\n",
      "Model:                            GLM   Df Residuals:                     1197\n",
      "Model Family:                Binomial   Df Model:                            9\n",
      "Link Function:                  logit   Scale:                          1.0000\n",
      "Method:                          IRLS   Log-Likelihood:                -146.76\n",
      "Date:                Thu, 24 Dec 2020   Deviance:                       293.53\n",
      "Time:                        11:52:07   Pearson chi2:                 2.32e+03\n",
      "No. Iterations:                     8                                         \n",
      "Covariance Type:            nonrobust                                         \n",
      "===============================================================================================\n",
      "                                  coef    std err          z      P>|z|      [0.025      0.975]\n",
      "-----------------------------------------------------------------------------------------------\n",
      "Intercept                      -6.9459      0.772     -8.996      0.000      -8.459      -5.433\n",
      "gender_preds[T.Male]           -1.0440      1.244     -0.839      0.401      -3.483       1.395\n",
      "AU04_r                          2.9546      0.322      9.168      0.000       2.323       3.586\n",
      "AU04_r:gender_preds[T.Male]     0.5873      0.558      1.053      0.292      -0.506       1.680\n",
      "AU05_r                         -0.2566      0.311     -0.825      0.409      -0.866       0.353\n",
      "AU05_r:gender_preds[T.Male]    -0.2498      0.485     -0.515      0.607      -1.200       0.701\n",
      "AU07_r                          0.9729      0.249      3.904      0.000       0.485       1.461\n",
      "AU07_r:gender_preds[T.Male]    -0.3376      0.349     -0.968      0.333      -1.021       0.346\n",
      "AU23_r                          2.5653      0.602      4.258      0.000       1.384       3.746\n",
      "AU23_r:gender_preds[T.Male]     0.4320      0.910      0.475      0.635      -1.352       2.215\n",
      "===============================================================================================\n"
     ]
    }
   ],
   "source": [
    "formula = 'Angry ~ (AU04_r + AU05_r + AU07_r + AU23_r) * gender_preds'\n",
    "model = smf.glm(formula = formula, data=frame, family=sm.families.Binomial())\n",
    "result = model.fit()\n",
    "print(result.summary())"
   ]
  },
  {
   "cell_type": "code",
   "execution_count": 260,
   "metadata": {
    "scrolled": true
   },
   "outputs": [
    {
     "name": "stdout",
     "output_type": "stream",
     "text": [
      "                 Generalized Linear Model Regression Results                  \n",
      "==============================================================================\n",
      "Dep. Variable:                  Angry   No. Observations:                 1207\n",
      "Model:                            GLM   Df Residuals:                     1203\n",
      "Model Family:                Binomial   Df Model:                            3\n",
      "Link Function:                  logit   Scale:                          1.0000\n",
      "Method:                          IRLS   Log-Likelihood:                -276.14\n",
      "Date:                Thu, 24 Dec 2020   Deviance:                       552.29\n",
      "Time:                        11:52:07   Pearson chi2:                 1.22e+03\n",
      "No. Iterations:                     7                                         \n",
      "Covariance Type:            nonrobust                                         \n",
      "=============================================================================================================================\n",
      "                                                                coef    std err          z      P>|z|      [0.025      0.975]\n",
      "-----------------------------------------------------------------------------------------------------------------------------\n",
      "Intercept                                                    -6.9339      0.587    -11.813      0.000      -8.084      -5.783\n",
      "gender_preds[T.Male]                                          0.8367      0.797      1.050      0.294      -0.725       2.398\n",
      "I(AU04_r + AU05_r + AU07_r + AU23_r)                          1.4119      0.138     10.220      0.000       1.141       1.683\n",
      "I(AU04_r + AU05_r + AU07_r + AU23_r):gender_preds[T.Male]    -0.2889      0.183     -1.582      0.114      -0.647       0.069\n",
      "=============================================================================================================================\n"
     ]
    }
   ],
   "source": [
    "formula = 'Angry ~ I(AU04_r + AU05_r + AU07_r + AU23_r) * gender_preds'\n",
    "model = smf.glm(formula = formula, data=frame, family=sm.families.Binomial())\n",
    "result = model.fit()\n",
    "print(result.summary())"
   ]
  },
  {
   "cell_type": "code",
   "execution_count": null,
   "metadata": {},
   "outputs": [],
   "source": []
  },
  {
   "cell_type": "code",
   "execution_count": null,
   "metadata": {},
   "outputs": [],
   "source": []
  }
 ],
 "metadata": {
  "kernelspec": {
   "display_name": "Python 3",
   "language": "python",
   "name": "python3"
  },
  "language_info": {
   "codemirror_mode": {
    "name": "ipython",
    "version": 3
   },
   "file_extension": ".py",
   "mimetype": "text/x-python",
   "name": "python",
   "nbconvert_exporter": "python",
   "pygments_lexer": "ipython3",
   "version": "3.8.5"
  }
 },
 "nbformat": 4,
 "nbformat_minor": 2
}
