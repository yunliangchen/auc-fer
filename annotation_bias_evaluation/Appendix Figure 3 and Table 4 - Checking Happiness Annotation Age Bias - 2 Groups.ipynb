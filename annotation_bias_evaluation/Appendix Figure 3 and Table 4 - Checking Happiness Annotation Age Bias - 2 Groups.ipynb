{
 "cells": [
  {
   "cell_type": "code",
   "execution_count": 1,
   "metadata": {},
   "outputs": [],
   "source": [
    "import numpy as np\n",
    "import pandas as pd\n",
    "import time\n",
    "import os\n",
    "import re\n",
    "import copy\n",
    "import matplotlib.pyplot as plt\n",
    "import seaborn as sns\n",
    "import scipy.stats as stats\n",
    "import statsmodels.api as sm\n",
    "import statsmodels.formula.api as smf"
   ]
  },
  {
   "cell_type": "markdown",
   "metadata": {},
   "source": [
    "# ExpW"
   ]
  },
  {
   "cell_type": "code",
   "execution_count": 103,
   "metadata": {},
   "outputs": [
    {
     "data": {
      "text/html": [
       "<div>\n",
       "<style scoped>\n",
       "    .dataframe tbody tr th:only-of-type {\n",
       "        vertical-align: middle;\n",
       "    }\n",
       "\n",
       "    .dataframe tbody tr th {\n",
       "        vertical-align: top;\n",
       "    }\n",
       "\n",
       "    .dataframe thead th {\n",
       "        text-align: right;\n",
       "    }\n",
       "</style>\n",
       "<table border=\"1\" class=\"dataframe\">\n",
       "  <thead>\n",
       "    <tr style=\"text-align: right;\">\n",
       "      <th></th>\n",
       "      <th>ImageName</th>\n",
       "      <th>Expression</th>\n",
       "      <th>race_preds</th>\n",
       "      <th>gender_preds</th>\n",
       "      <th>age_preds</th>\n",
       "      <th>race_scores</th>\n",
       "      <th>gender_scores</th>\n",
       "      <th>age_scores</th>\n",
       "      <th>face</th>\n",
       "      <th>confidence</th>\n",
       "      <th>...</th>\n",
       "      <th>AU10_r</th>\n",
       "      <th>AU12_r</th>\n",
       "      <th>AU14_r</th>\n",
       "      <th>AU15_r</th>\n",
       "      <th>AU17_r</th>\n",
       "      <th>AU20_r</th>\n",
       "      <th>AU23_r</th>\n",
       "      <th>AU25_r</th>\n",
       "      <th>AU26_r</th>\n",
       "      <th>AU45_r</th>\n",
       "    </tr>\n",
       "  </thead>\n",
       "  <tbody>\n",
       "    <tr>\n",
       "      <th>0</th>\n",
       "      <td>angry_actor_104_0.jpg</td>\n",
       "      <td>0</td>\n",
       "      <td>Black</td>\n",
       "      <td>Male</td>\n",
       "      <td>20-29</td>\n",
       "      <td>[0.01164725 0.5489195  0.06282789 0.03017501 0...</td>\n",
       "      <td>[0.97893476 0.02106526]</td>\n",
       "      <td>[0.00264865 0.03285832 0.07209051 0.29417548 0...</td>\n",
       "      <td>0.0</td>\n",
       "      <td>0.875</td>\n",
       "      <td>...</td>\n",
       "      <td>0.00</td>\n",
       "      <td>0.41</td>\n",
       "      <td>3.61</td>\n",
       "      <td>0.54</td>\n",
       "      <td>1.10</td>\n",
       "      <td>0.68</td>\n",
       "      <td>0.00</td>\n",
       "      <td>2.23</td>\n",
       "      <td>0.00</td>\n",
       "      <td>0.17</td>\n",
       "    </tr>\n",
       "    <tr>\n",
       "      <th>1</th>\n",
       "      <td>angry_actor_109_0.jpg</td>\n",
       "      <td>0</td>\n",
       "      <td>Middle Eastern</td>\n",
       "      <td>Male</td>\n",
       "      <td>10-19</td>\n",
       "      <td>[0.07172439 0.03716405 0.07634144 0.09301798 0...</td>\n",
       "      <td>[0.9886888  0.01131118]</td>\n",
       "      <td>[5.5791729e-04 2.5763142e-01 4.3460685e-01 2.5...</td>\n",
       "      <td>0.0</td>\n",
       "      <td>0.925</td>\n",
       "      <td>...</td>\n",
       "      <td>1.16</td>\n",
       "      <td>0.76</td>\n",
       "      <td>0.77</td>\n",
       "      <td>1.12</td>\n",
       "      <td>0.04</td>\n",
       "      <td>1.38</td>\n",
       "      <td>0.00</td>\n",
       "      <td>1.20</td>\n",
       "      <td>0.00</td>\n",
       "      <td>0.00</td>\n",
       "    </tr>\n",
       "    <tr>\n",
       "      <th>2</th>\n",
       "      <td>angry_actor_120_1.jpg</td>\n",
       "      <td>2</td>\n",
       "      <td>White</td>\n",
       "      <td>Male</td>\n",
       "      <td>20-29</td>\n",
       "      <td>[0.38725546 0.02379545 0.04428627 0.3587341  0...</td>\n",
       "      <td>[0.7577495  0.24225047]</td>\n",
       "      <td>[0.00361199 0.02466666 0.0458126  0.62581354 0...</td>\n",
       "      <td>1.0</td>\n",
       "      <td>0.925</td>\n",
       "      <td>...</td>\n",
       "      <td>0.06</td>\n",
       "      <td>0.00</td>\n",
       "      <td>1.51</td>\n",
       "      <td>0.00</td>\n",
       "      <td>0.00</td>\n",
       "      <td>0.00</td>\n",
       "      <td>0.00</td>\n",
       "      <td>1.09</td>\n",
       "      <td>0.51</td>\n",
       "      <td>0.10</td>\n",
       "    </tr>\n",
       "    <tr>\n",
       "      <th>3</th>\n",
       "      <td>angry_actor_13_0.jpg</td>\n",
       "      <td>3</td>\n",
       "      <td>East Asian</td>\n",
       "      <td>Female</td>\n",
       "      <td>20-29</td>\n",
       "      <td>[0.05252786 0.06977403 0.0932842  0.40103135 0...</td>\n",
       "      <td>[0.46038443 0.5396156 ]</td>\n",
       "      <td>[0.00304344 0.0880671  0.22934933 0.39468738 0...</td>\n",
       "      <td>0.0</td>\n",
       "      <td>0.975</td>\n",
       "      <td>...</td>\n",
       "      <td>0.99</td>\n",
       "      <td>0.00</td>\n",
       "      <td>0.00</td>\n",
       "      <td>0.36</td>\n",
       "      <td>0.56</td>\n",
       "      <td>0.00</td>\n",
       "      <td>0.13</td>\n",
       "      <td>0.96</td>\n",
       "      <td>1.02</td>\n",
       "      <td>0.00</td>\n",
       "    </tr>\n",
       "    <tr>\n",
       "      <th>4</th>\n",
       "      <td>angry_actor_132_0.jpg</td>\n",
       "      <td>0</td>\n",
       "      <td>White</td>\n",
       "      <td>Female</td>\n",
       "      <td>20-29</td>\n",
       "      <td>[0.29344454 0.09408408 0.14308809 0.2740257  0...</td>\n",
       "      <td>[0.44868255 0.55131745]</td>\n",
       "      <td>[0.00321869 0.0189087  0.0630689  0.40079823 0...</td>\n",
       "      <td>0.0</td>\n",
       "      <td>0.875</td>\n",
       "      <td>...</td>\n",
       "      <td>0.05</td>\n",
       "      <td>0.00</td>\n",
       "      <td>0.13</td>\n",
       "      <td>0.00</td>\n",
       "      <td>0.76</td>\n",
       "      <td>0.00</td>\n",
       "      <td>0.25</td>\n",
       "      <td>0.00</td>\n",
       "      <td>0.06</td>\n",
       "      <td>0.00</td>\n",
       "    </tr>\n",
       "  </tbody>\n",
       "</table>\n",
       "<p>5 rows × 181 columns</p>\n",
       "</div>"
      ],
      "text/plain": [
       "               ImageName  Expression      race_preds gender_preds age_preds  \\\n",
       "0  angry_actor_104_0.jpg           0           Black         Male     20-29   \n",
       "1  angry_actor_109_0.jpg           0  Middle Eastern         Male     10-19   \n",
       "2  angry_actor_120_1.jpg           2           White         Male     20-29   \n",
       "3   angry_actor_13_0.jpg           3      East Asian       Female     20-29   \n",
       "4  angry_actor_132_0.jpg           0           White       Female     20-29   \n",
       "\n",
       "                                         race_scores            gender_scores  \\\n",
       "0  [0.01164725 0.5489195  0.06282789 0.03017501 0...  [0.97893476 0.02106526]   \n",
       "1  [0.07172439 0.03716405 0.07634144 0.09301798 0...  [0.9886888  0.01131118]   \n",
       "2  [0.38725546 0.02379545 0.04428627 0.3587341  0...  [0.7577495  0.24225047]   \n",
       "3  [0.05252786 0.06977403 0.0932842  0.40103135 0...  [0.46038443 0.5396156 ]   \n",
       "4  [0.29344454 0.09408408 0.14308809 0.2740257  0...  [0.44868255 0.55131745]   \n",
       "\n",
       "                                          age_scores  face  confidence  ...  \\\n",
       "0  [0.00264865 0.03285832 0.07209051 0.29417548 0...   0.0       0.875  ...   \n",
       "1  [5.5791729e-04 2.5763142e-01 4.3460685e-01 2.5...   0.0       0.925  ...   \n",
       "2  [0.00361199 0.02466666 0.0458126  0.62581354 0...   1.0       0.925  ...   \n",
       "3  [0.00304344 0.0880671  0.22934933 0.39468738 0...   0.0       0.975  ...   \n",
       "4  [0.00321869 0.0189087  0.0630689  0.40079823 0...   0.0       0.875  ...   \n",
       "\n",
       "   AU10_r  AU12_r  AU14_r  AU15_r  AU17_r  AU20_r  AU23_r  AU25_r  AU26_r  \\\n",
       "0    0.00    0.41    3.61    0.54    1.10    0.68    0.00    2.23    0.00   \n",
       "1    1.16    0.76    0.77    1.12    0.04    1.38    0.00    1.20    0.00   \n",
       "2    0.06    0.00    1.51    0.00    0.00    0.00    0.00    1.09    0.51   \n",
       "3    0.99    0.00    0.00    0.36    0.56    0.00    0.13    0.96    1.02   \n",
       "4    0.05    0.00    0.13    0.00    0.76    0.00    0.25    0.00    0.06   \n",
       "\n",
       "   AU45_r  \n",
       "0    0.17  \n",
       "1    0.00  \n",
       "2    0.10  \n",
       "3    0.00  \n",
       "4    0.00  \n",
       "\n",
       "[5 rows x 181 columns]"
      ]
     },
     "execution_count": 103,
     "metadata": {},
     "output_type": "execute_result"
    }
   ],
   "source": [
    "frame = pd.read_csv('ExpW_OpenFace_result_with_expression_gender_race_age.csv')\n",
    "frame.head()"
   ]
  },
  {
   "cell_type": "code",
   "execution_count": 104,
   "metadata": {},
   "outputs": [
    {
     "data": {
      "text/plain": [
       "neutral     33927\n",
       "happy       28893\n",
       "sad         10429\n",
       "surprise     6880\n",
       "disgust      3805\n",
       "angry        3602\n",
       "fear         1064\n",
       "Name: Expression, dtype: int64"
      ]
     },
     "execution_count": 104,
     "metadata": {},
     "output_type": "execute_result"
    }
   ],
   "source": [
    "frame.loc[frame['Expression'] == 0, 'Expression'] = 'angry'\n",
    "frame.loc[frame['Expression'] == 1, 'Expression'] = 'disgust'\n",
    "frame.loc[frame['Expression'] == 2, 'Expression'] = 'fear'\n",
    "frame.loc[frame['Expression'] == 3, 'Expression'] = 'happy'\n",
    "frame.loc[frame['Expression'] == 4, 'Expression'] = 'sad'\n",
    "frame.loc[frame['Expression'] == 5, 'Expression'] = 'surprise'\n",
    "frame.loc[frame['Expression'] == 6, 'Expression'] = 'neutral'\n",
    "frame.Expression.value_counts()"
   ]
  },
  {
   "cell_type": "code",
   "execution_count": 105,
   "metadata": {},
   "outputs": [],
   "source": [
    "frame['Angry'] = (frame['Expression'] =='angry').astype(int)\n",
    "frame['Disgust'] = (frame['Expression'] == 'disgust').astype(int)\n",
    "frame['Fear'] = (frame['Expression'] == 'fear').astype(int)\n",
    "frame['Happy'] = (frame['Expression'] =='happy').astype(int)\n",
    "frame['Sad'] = (frame['Expression'] == 'sad').astype(int)\n",
    "frame['Surprise'] = (frame['Expression'] == 'surprise').astype(int)\n",
    "frame['Neutral'] = (frame['Expression'] == 'neutral').astype(int)"
   ]
  },
  {
   "cell_type": "code",
   "execution_count": 106,
   "metadata": {},
   "outputs": [
    {
     "data": {
      "text/plain": [
       "(85355, 188)"
      ]
     },
     "execution_count": 106,
     "metadata": {},
     "output_type": "execute_result"
    }
   ],
   "source": [
    "frame = frame.dropna()\n",
    "frame.shape"
   ]
  },
  {
   "cell_type": "code",
   "execution_count": 107,
   "metadata": {},
   "outputs": [
    {
     "data": {
      "text/plain": [
       "20-29           51484\n",
       "30-39           11138\n",
       "3-9              5994\n",
       "40-49            5615\n",
       "10-19            5147\n",
       "more than 70     2601\n",
       "60-69            2538\n",
       "0-2               420\n",
       "50-59             418\n",
       "Name: age_preds, dtype: int64"
      ]
     },
     "execution_count": 107,
     "metadata": {},
     "output_type": "execute_result"
    }
   ],
   "source": [
    "frame.age_preds.value_counts()"
   ]
  },
  {
   "cell_type": "code",
   "execution_count": 108,
   "metadata": {
    "scrolled": false
   },
   "outputs": [
    {
     "name": "stdout",
     "output_type": "stream",
     "text": [
      "['ImageName', 'Expression', 'race_preds', 'gender_preds', 'age_preds', 'race_scores', 'gender_scores', 'age_scores', 'face', 'confidence', 'AU01_c', 'AU02_c', 'AU04_c', 'AU05_c', 'AU06_c', 'AU07_c', 'AU09_c', 'AU10_c', 'AU12_c', 'AU14_c', 'AU15_c', 'AU17_c', 'AU20_c', 'AU23_c', 'AU25_c', 'AU26_c', 'AU28_c', 'AU45_c', 'x_0', 'x_1', 'x_2', 'x_3', 'x_4', 'x_5', 'x_6', 'x_7', 'x_8', 'x_9', 'x_10', 'x_11', 'x_12', 'x_13', 'x_14', 'x_15', 'x_16', 'x_17', 'x_18', 'x_19', 'x_20', 'x_21', 'x_22', 'x_23', 'x_24', 'x_25', 'x_26', 'x_27', 'x_28', 'x_29', 'x_30', 'x_31', 'x_32', 'x_33', 'x_34', 'x_35', 'x_36', 'x_37', 'x_38', 'x_39', 'x_40', 'x_41', 'x_42', 'x_43', 'x_44', 'x_45', 'x_46', 'x_47', 'x_48', 'x_49', 'x_50', 'x_51', 'x_52', 'x_53', 'x_54', 'x_55', 'x_56', 'x_57', 'x_58', 'x_59', 'x_60', 'x_61', 'x_62', 'x_63', 'x_64', 'x_65', 'x_66', 'x_67', 'y_0', 'y_1', 'y_2', 'y_3', 'y_4', 'y_5', 'y_6', 'y_7', 'y_8', 'y_9', 'y_10', 'y_11', 'y_12', 'y_13', 'y_14', 'y_15', 'y_16', 'y_17', 'y_18', 'y_19', 'y_20', 'y_21', 'y_22', 'y_23', 'y_24', 'y_25', 'y_26', 'y_27', 'y_28', 'y_29', 'y_30', 'y_31', 'y_32', 'y_33', 'y_34', 'y_35', 'y_36', 'y_37', 'y_38', 'y_39', 'y_40', 'y_41', 'y_42', 'y_43', 'y_44', 'y_45', 'y_46', 'y_47', 'y_48', 'y_49', 'y_50', 'y_51', 'y_52', 'y_53', 'y_54', 'y_55', 'y_56', 'y_57', 'y_58', 'y_59', 'y_60', 'y_61', 'y_62', 'y_63', 'y_64', 'y_65', 'y_66', 'y_67', 'AU01_r', 'AU02_r', 'AU04_r', 'AU05_r', 'AU06_r', 'AU07_r', 'AU09_r', 'AU10_r', 'AU12_r', 'AU14_r', 'AU15_r', 'AU17_r', 'AU20_r', 'AU23_r', 'AU25_r', 'AU26_r', 'AU45_r', 'Angry', 'Disgust', 'Fear', 'Happy', 'Sad', 'Surprise', 'Neutral']\n"
     ]
    }
   ],
   "source": [
    "print(list(frame.columns))"
   ]
  },
  {
   "cell_type": "markdown",
   "metadata": {},
   "source": [
    "# ExpW expression label：\n",
    "- \"0\" \"angry\"\n",
    "- \"1\" \"disgust\"\n",
    "- \"2\" \"fear\"\n",
    "- \"3\" \"happy\"\n",
    "- \"4\" \"sad\"\n",
    "- \"5\" \"surprise\"\n",
    "- \"6\" \"neutral\""
   ]
  },
  {
   "cell_type": "code",
   "execution_count": 109,
   "metadata": {},
   "outputs": [
    {
     "data": {
      "text/plain": [
       "neutral     32384\n",
       "happy       28252\n",
       "sad          9853\n",
       "surprise     6666\n",
       "disgust      3719\n",
       "angry        3494\n",
       "fear          987\n",
       "Name: Expression, dtype: int64"
      ]
     },
     "execution_count": 109,
     "metadata": {},
     "output_type": "execute_result"
    }
   ],
   "source": [
    "frame.loc[frame['Expression'] == 0, 'Expression'] = 'angry'\n",
    "frame.loc[frame['Expression'] == 1, 'Expression'] = 'disgust'\n",
    "frame.loc[frame['Expression'] == 2, 'Expression'] = 'fear'\n",
    "frame.loc[frame['Expression'] == 3, 'Expression'] = 'happy'\n",
    "frame.loc[frame['Expression'] == 4, 'Expression'] = 'sad'\n",
    "frame.loc[frame['Expression'] == 5, 'Expression'] = 'surprise'\n",
    "frame.loc[frame['Expression'] == 6, 'Expression'] = 'neutral'\n",
    "frame.Expression.value_counts()"
   ]
  },
  {
   "cell_type": "code",
   "execution_count": 110,
   "metadata": {},
   "outputs": [],
   "source": [
    "\n",
    "frame['Angry'] = (frame['Expression'] =='angry').astype(int)\n",
    "frame['Disgust'] = (frame['Expression'] == 'disgust').astype(int)\n",
    "frame['Fear'] = (frame['Expression'] == 'fear').astype(int)\n",
    "frame['Happy'] = (frame['Expression'] =='happy').astype(int)\n",
    "frame['Sad'] = (frame['Expression'] == 'sad').astype(int)\n",
    "frame['Surprise'] = (frame['Expression'] == 'surprise').astype(int)\n",
    "frame['Neutral'] = (frame['Expression'] == 'neutral').astype(int)"
   ]
  },
  {
   "cell_type": "code",
   "execution_count": 111,
   "metadata": {},
   "outputs": [
    {
     "data": {
      "text/plain": [
       "(85355, 188)"
      ]
     },
     "execution_count": 111,
     "metadata": {},
     "output_type": "execute_result"
    }
   ],
   "source": [
    "frame = frame.dropna()\n",
    "frame.shape"
   ]
  },
  {
   "cell_type": "markdown",
   "metadata": {},
   "source": [
    "# Using the optimal threshold to re-create the AU presence"
   ]
  },
  {
   "cell_type": "code",
   "execution_count": 112,
   "metadata": {},
   "outputs": [
    {
     "data": {
      "text/plain": [
       "(85355, 201)"
      ]
     },
     "execution_count": 112,
     "metadata": {},
     "output_type": "execute_result"
    }
   ],
   "source": [
    "AU_intensity_OpenFace_common2 = ['AU01_r', 'AU02_r', 'AU04_r', 'AU05_r', 'AU06_r', 'AU09_r', 'AU10_r', \n",
    "                'AU12_r', 'AU15_r', 'AU17_r', 'AU20_r', 'AU25_r', 'AU26_r']\n",
    "optimal_threshold = np.array([4.4, 4.8, 2.4, 3.7, 1.8, 2.8, 0.2, 1.3, 1.3, 5. , 5. , 0.7, 5. ])\n",
    "for i in range(len(AU_intensity_OpenFace_common2)):\n",
    "    frame[AU_intensity_OpenFace_common2[i] + \"_c\"] = frame[AU_intensity_OpenFace_common2[i]].apply(lambda x: 0 if x <= optimal_threshold[i] else 1)\n",
    "\n",
    "frame.shape"
   ]
  },
  {
   "cell_type": "code",
   "execution_count": 113,
   "metadata": {
    "scrolled": false
   },
   "outputs": [
    {
     "name": "stdout",
     "output_type": "stream",
     "text": [
      "['ImageName', 'Expression', 'race_preds', 'gender_preds', 'age_preds', 'race_scores', 'gender_scores', 'age_scores', 'face', 'confidence', 'AU01_c', 'AU02_c', 'AU04_c', 'AU05_c', 'AU06_c', 'AU07_c', 'AU09_c', 'AU10_c', 'AU12_c', 'AU14_c', 'AU15_c', 'AU17_c', 'AU20_c', 'AU23_c', 'AU25_c', 'AU26_c', 'AU28_c', 'AU45_c', 'x_0', 'x_1', 'x_2', 'x_3', 'x_4', 'x_5', 'x_6', 'x_7', 'x_8', 'x_9', 'x_10', 'x_11', 'x_12', 'x_13', 'x_14', 'x_15', 'x_16', 'x_17', 'x_18', 'x_19', 'x_20', 'x_21', 'x_22', 'x_23', 'x_24', 'x_25', 'x_26', 'x_27', 'x_28', 'x_29', 'x_30', 'x_31', 'x_32', 'x_33', 'x_34', 'x_35', 'x_36', 'x_37', 'x_38', 'x_39', 'x_40', 'x_41', 'x_42', 'x_43', 'x_44', 'x_45', 'x_46', 'x_47', 'x_48', 'x_49', 'x_50', 'x_51', 'x_52', 'x_53', 'x_54', 'x_55', 'x_56', 'x_57', 'x_58', 'x_59', 'x_60', 'x_61', 'x_62', 'x_63', 'x_64', 'x_65', 'x_66', 'x_67', 'y_0', 'y_1', 'y_2', 'y_3', 'y_4', 'y_5', 'y_6', 'y_7', 'y_8', 'y_9', 'y_10', 'y_11', 'y_12', 'y_13', 'y_14', 'y_15', 'y_16', 'y_17', 'y_18', 'y_19', 'y_20', 'y_21', 'y_22', 'y_23', 'y_24', 'y_25', 'y_26', 'y_27', 'y_28', 'y_29', 'y_30', 'y_31', 'y_32', 'y_33', 'y_34', 'y_35', 'y_36', 'y_37', 'y_38', 'y_39', 'y_40', 'y_41', 'y_42', 'y_43', 'y_44', 'y_45', 'y_46', 'y_47', 'y_48', 'y_49', 'y_50', 'y_51', 'y_52', 'y_53', 'y_54', 'y_55', 'y_56', 'y_57', 'y_58', 'y_59', 'y_60', 'y_61', 'y_62', 'y_63', 'y_64', 'y_65', 'y_66', 'y_67', 'AU01_r', 'AU02_r', 'AU04_r', 'AU05_r', 'AU06_r', 'AU07_r', 'AU09_r', 'AU10_r', 'AU12_r', 'AU14_r', 'AU15_r', 'AU17_r', 'AU20_r', 'AU23_r', 'AU25_r', 'AU26_r', 'AU45_r', 'Angry', 'Disgust', 'Fear', 'Happy', 'Sad', 'Surprise', 'Neutral', 'AU01_r_c', 'AU02_r_c', 'AU04_r_c', 'AU05_r_c', 'AU06_r_c', 'AU09_r_c', 'AU10_r_c', 'AU12_r_c', 'AU15_r_c', 'AU17_r_c', 'AU20_r_c', 'AU25_r_c', 'AU26_r_c']\n"
     ]
    }
   ],
   "source": [
    "print(list(frame.columns))"
   ]
  },
  {
   "cell_type": "code",
   "execution_count": 114,
   "metadata": {
    "scrolled": true
   },
   "outputs": [
    {
     "data": {
      "text/plain": [
       "00    33062\n",
       "11    26450\n",
       "10    15317\n",
       "01    10526\n",
       "Name: AU6and12_c, dtype: int64"
      ]
     },
     "execution_count": 114,
     "metadata": {},
     "output_type": "execute_result"
    }
   ],
   "source": [
    "\n",
    "frame['AU6and12_c'] = frame.AU06_c.apply(int).apply(str) + frame.AU12_c.apply(int).apply(str)\n",
    "frame.AU6and12_c.value_counts()"
   ]
  },
  {
   "cell_type": "code",
   "execution_count": 115,
   "metadata": {},
   "outputs": [
    {
     "data": {
      "text/plain": [
       "00    61183\n",
       "01    13396\n",
       "11     8145\n",
       "10     2631\n",
       "Name: AU6and12_r_c, dtype: int64"
      ]
     },
     "execution_count": 115,
     "metadata": {},
     "output_type": "execute_result"
    }
   ],
   "source": [
    "frame['AU6and12_r_c'] = frame.AU06_r_c.apply(str) + frame.AU12_r_c.apply(str)\n",
    "frame.AU6and12_r_c.value_counts()"
   ]
  },
  {
   "cell_type": "markdown",
   "metadata": {},
   "source": [
    "# P(expression|AU1, male) =? P(expression|AU1, female)"
   ]
  },
  {
   "cell_type": "code",
   "execution_count": 116,
   "metadata": {},
   "outputs": [],
   "source": [
    "def map_age(num):\n",
    "    if num == 1:\n",
    "        return 'less than 40'\n",
    "    else:\n",
    "        return 'more than 40'"
   ]
  },
  {
   "cell_type": "code",
   "execution_count": 117,
   "metadata": {},
   "outputs": [
    {
     "data": {
      "text/plain": [
       "1.0    74183\n",
       "2.0    11172\n",
       "Name: age, dtype: int64"
      ]
     },
     "execution_count": 117,
     "metadata": {},
     "output_type": "execute_result"
    }
   ],
   "source": [
    "# age label\n",
    "frame.loc[frame['age_preds'] == '0-2', 'age'] = 1\n",
    "frame.loc[frame['age_preds'] == '3-9', 'age'] = 1\n",
    "frame.loc[frame['age_preds'] == '10-19', 'age'] = 1\n",
    "frame.loc[frame['age_preds'] == '20-29', 'age'] = 1\n",
    "frame.loc[frame['age_preds'] == '30-39', 'age'] = 1\n",
    "frame.loc[frame['age_preds'] == '40-49', 'age'] = 2\n",
    "frame.loc[frame['age_preds'] == '50-59', 'age'] = 2\n",
    "frame.loc[frame['age_preds'] == '60-69', 'age'] = 2\n",
    "frame.loc[frame['age_preds'] == 'more than 70', 'age'] = 2\n",
    "frame.age.value_counts()"
   ]
  },
  {
   "cell_type": "code",
   "execution_count": 118,
   "metadata": {},
   "outputs": [
    {
     "data": {
      "text/plain": [
       "less than 40    74183\n",
       "more than 40    11172\n",
       "Name: Age, dtype: int64"
      ]
     },
     "execution_count": 118,
     "metadata": {},
     "output_type": "execute_result"
    }
   ],
   "source": [
    "frame['Age'] = frame['age'].apply(map_age)\n",
    "frame.Age.value_counts()"
   ]
  },
  {
   "cell_type": "code",
   "execution_count": 119,
   "metadata": {},
   "outputs": [
    {
     "name": "stdout",
     "output_type": "stream",
     "text": [
      "(74183, 205)\n",
      "(11172, 205)\n"
     ]
    }
   ],
   "source": [
    "frame_1 = frame.loc[frame['age'] == 1]\n",
    "frame_2 = frame.loc[frame['age'] == 2]\n",
    "print(frame_1.shape)\n",
    "print(frame_2.shape)"
   ]
  },
  {
   "cell_type": "code",
   "execution_count": 120,
   "metadata": {},
   "outputs": [],
   "source": [
    "frame_list = [frame_1, frame_2]\n",
    "name_list = ['less than 40', 'more than 40']"
   ]
  },
  {
   "cell_type": "markdown",
   "metadata": {},
   "source": [
    "## Happiness"
   ]
  },
  {
   "cell_type": "code",
   "execution_count": 121,
   "metadata": {},
   "outputs": [
    {
     "name": "stdout",
     "output_type": "stream",
     "text": [
      "0.3325964169688473 less than 40 74183\n",
      "0.3203544575725027 more than 40 11172\n"
     ]
    }
   ],
   "source": [
    "for i in range(len(frame_list)):\n",
    "    print(frame_list[i].Happy.mean(), name_list[i], frame_list[i].shape[0])"
   ]
  },
  {
   "cell_type": "code",
   "execution_count": 122,
   "metadata": {},
   "outputs": [
    {
     "name": "stdout",
     "output_type": "stream",
     "text": [
      "0.12256177291293154 less than 40 74183\n",
      "0.15073397780164696 more than 40 11172\n"
     ]
    }
   ],
   "source": [
    "for i in range(len(frame_list)):\n",
    "    print(frame_list[i].AU06_r_c.mean(), name_list[i], frame_list[i].shape[0])"
   ]
  },
  {
   "cell_type": "code",
   "execution_count": 123,
   "metadata": {},
   "outputs": [
    {
     "name": "stdout",
     "output_type": "stream",
     "text": [
      "0.2517018723966407 less than 40 74183\n",
      "0.2568027210884354 more than 40 11172\n"
     ]
    }
   ],
   "source": [
    "for i in range(len(frame_list)):\n",
    "    print(frame_list[i].AU12_r_c.mean(), name_list[i], frame_list[i].shape[0])"
   ]
  },
  {
   "cell_type": "code",
   "execution_count": 124,
   "metadata": {},
   "outputs": [
    {
     "name": "stdout",
     "output_type": "stream",
     "text": [
      "Happy                0         1\n",
      "AU6and12_r_c                    \n",
      "00            0.813418  0.186582\n",
      "01            0.283892  0.716108\n",
      "10            0.749311  0.250689\n",
      "11            0.167486  0.832514 less than 40 74183\n",
      "Happy                0         1\n",
      "AU6and12_r_c                    \n",
      "00            0.809299  0.190701\n",
      "01            0.394383  0.605617\n",
      "10            0.726269  0.273731\n",
      "11            0.215272  0.784728 more than 40 11172\n"
     ]
    }
   ],
   "source": [
    "for i in range(len(frame_list)):\n",
    "    print(pd.crosstab(frame_list[i].AU6and12_r_c, frame_list[i].Happy, normalize = 'index'), name_list[i], frame_list[i].shape[0])"
   ]
  },
  {
   "cell_type": "code",
   "execution_count": 125,
   "metadata": {},
   "outputs": [
    {
     "data": {
      "image/png": "[encoded data removed]",
      "text/plain": [
       "<Figure size 432x288 with 1 Axes>"
      ]
     },
     "metadata": {
      "needs_background": "light"
     },
     "output_type": "display_data"
    }
   ],
   "source": [
    "list_00 = []\n",
    "list_01 = []\n",
    "list_10 = []\n",
    "list_11 = []\n",
    "\n",
    "list_00_n = []\n",
    "list_01_n = []\n",
    "list_10_n = []\n",
    "list_11_n = []\n",
    "\n",
    "fig = plt.figure(figsize=(6,4))\n",
    "ax = fig.gca()\n",
    "for i in range(len(frame_list)):\n",
    "    list_00.append(pd.crosstab(frame_list[i].AU6and12_r_c, frame_list[i].Happy, normalize = 'index').loc['00',1])\n",
    "    list_01.append(pd.crosstab(frame_list[i].AU6and12_r_c, frame_list[i].Happy, normalize = 'index').loc['01',1])\n",
    "    list_10.append(pd.crosstab(frame_list[i].AU6and12_r_c, frame_list[i].Happy, normalize = 'index').loc['10',1])\n",
    "    list_11.append(pd.crosstab(frame_list[i].AU6and12_r_c, frame_list[i].Happy, normalize = 'index').loc['11',1])\n",
    "    \n",
    "    list_00_n.append(pd.crosstab(frame_list[i].AU6and12_r_c, frame_list[i].Happy, margins = True).loc['00','All'])\n",
    "    list_01_n.append(pd.crosstab(frame_list[i].AU6and12_r_c, frame_list[i].Happy, margins = True).loc['01','All'])\n",
    "    list_10_n.append(pd.crosstab(frame_list[i].AU6and12_r_c, frame_list[i].Happy, margins = True).loc['10','All'])\n",
    "    list_11_n.append(pd.crosstab(frame_list[i].AU6and12_r_c, frame_list[i].Happy, margins = True).loc['11','All'])\n",
    "    \n",
    "result_df = pd.DataFrame({\"00\": list_00, \"10\": list_10, \"01\": list_01, \"11\": list_11,\n",
    "                         \"00_n\": list_00_n, \"10_n\": list_10_n, \"01_n\": list_01_n, \"11_n\": list_11_n}, index = name_list)\n",
    "result_df['00_std'] = np.sqrt(result_df['00'] * (1-result_df['00']) / result_df['00_n'])\n",
    "result_df['10_std'] = np.sqrt(result_df['10'] * (1-result_df['10']) / result_df['10_n'])\n",
    "result_df['01_std'] = np.sqrt(result_df['01'] * (1-result_df['01']) / result_df['01_n'])\n",
    "result_df['11_std'] = np.sqrt(result_df['11'] * (1-result_df['11']) / result_df['11_n'])\n",
    "result_df\n",
    "for index, row in result_df.iterrows():\n",
    "    plt.errorbar(list(result_df.columns)[:4], list(row)[:4], yerr = list(row)[8:], label = index, capsize = 3)\n",
    "plt.legend(fontsize = 13)\n",
    "plt.xlabel('(AU6, AU12)', fontsize = 14)\n",
    "plt.ylabel('P(Happy|AU)', fontsize = 14)\n",
    "plt.title('ExpW', fontsize = 16)\n",
    "plt.tight_layout()\n",
    "plt.savefig('age_race_bias_plots/age_2_groups_graphs/ExpW_happy_2_all.pdf')\n",
    "plt.show()"
   ]
  },
  {
   "cell_type": "code",
   "execution_count": 126,
   "metadata": {
    "scrolled": false
   },
   "outputs": [
    {
     "data": {
      "text/html": [
       "<div>\n",
       "<style scoped>\n",
       "    .dataframe tbody tr th:only-of-type {\n",
       "        vertical-align: middle;\n",
       "    }\n",
       "\n",
       "    .dataframe tbody tr th {\n",
       "        vertical-align: top;\n",
       "    }\n",
       "\n",
       "    .dataframe thead th {\n",
       "        text-align: right;\n",
       "    }\n",
       "</style>\n",
       "<table border=\"1\" class=\"dataframe\">\n",
       "  <thead>\n",
       "    <tr style=\"text-align: right;\">\n",
       "      <th></th>\n",
       "      <th>00</th>\n",
       "      <th>10</th>\n",
       "      <th>01</th>\n",
       "      <th>11</th>\n",
       "      <th>00_n</th>\n",
       "      <th>10_n</th>\n",
       "      <th>01_n</th>\n",
       "      <th>11_n</th>\n",
       "      <th>00_std</th>\n",
       "      <th>10_std</th>\n",
       "      <th>01_std</th>\n",
       "      <th>11_std</th>\n",
       "    </tr>\n",
       "  </thead>\n",
       "  <tbody>\n",
       "    <tr>\n",
       "      <th>less than 40</th>\n",
       "      <td>0.186582</td>\n",
       "      <td>0.250689</td>\n",
       "      <td>0.716108</td>\n",
       "      <td>0.832514</td>\n",
       "      <td>53333</td>\n",
       "      <td>2178</td>\n",
       "      <td>11758</td>\n",
       "      <td>6914</td>\n",
       "      <td>0.001687</td>\n",
       "      <td>0.009287</td>\n",
       "      <td>0.004158</td>\n",
       "      <td>0.004491</td>\n",
       "    </tr>\n",
       "    <tr>\n",
       "      <th>more than 40</th>\n",
       "      <td>0.190701</td>\n",
       "      <td>0.273731</td>\n",
       "      <td>0.605617</td>\n",
       "      <td>0.784728</td>\n",
       "      <td>7850</td>\n",
       "      <td>453</td>\n",
       "      <td>1638</td>\n",
       "      <td>1231</td>\n",
       "      <td>0.004434</td>\n",
       "      <td>0.020949</td>\n",
       "      <td>0.012075</td>\n",
       "      <td>0.011715</td>\n",
       "    </tr>\n",
       "  </tbody>\n",
       "</table>\n",
       "</div>"
      ],
      "text/plain": [
       "                    00        10        01        11   00_n  10_n   01_n  \\\n",
       "less than 40  0.186582  0.250689  0.716108  0.832514  53333  2178  11758   \n",
       "more than 40  0.190701  0.273731  0.605617  0.784728   7850   453   1638   \n",
       "\n",
       "              11_n    00_std    10_std    01_std    11_std  \n",
       "less than 40  6914  0.001687  0.009287  0.004158  0.004491  \n",
       "more than 40  1231  0.004434  0.020949  0.012075  0.011715  "
      ]
     },
     "execution_count": 126,
     "metadata": {},
     "output_type": "execute_result"
    }
   ],
   "source": [
    "result_df"
   ]
  },
  {
   "cell_type": "code",
   "execution_count": 127,
   "metadata": {},
   "outputs": [
    {
     "data": {
      "text/plain": [
       "00           -0.004118\n",
       "10           -0.023042\n",
       "01            0.110492\n",
       "11            0.047786\n",
       "00_n      45483.000000\n",
       "10_n       1725.000000\n",
       "01_n      10120.000000\n",
       "11_n       5683.000000\n",
       "00_std       -0.002747\n",
       "10_std       -0.011662\n",
       "01_std       -0.007917\n",
       "11_std       -0.007224\n",
       "dtype: float64"
      ]
     },
     "execution_count": 127,
     "metadata": {},
     "output_type": "execute_result"
    }
   ],
   "source": [
    "result_df.loc['less than 40',:]-result_df.loc['more than 40',:]"
   ]
  },
  {
   "cell_type": "code",
   "execution_count": 28,
   "metadata": {},
   "outputs": [
    {
     "name": "stdout",
     "output_type": "stream",
     "text": [
      "00\n",
      "0.7629989695385093\n",
      "0.3823916292917311\n",
      "\n",
      "10\n",
      "1.0489724584072508\n",
      "0.30574385763406675\n",
      "\n",
      "01\n",
      "84.00005697679505\n",
      "0.0\n",
      "\n",
      "11\n",
      "16.549094088529635\n",
      "4.740662789837202e-05\n",
      "\n"
     ]
    }
   ],
   "source": [
    "for AU_comb in ['00','10', '01', '11']:\n",
    "    print(AU_comb)\n",
    "    combined_df = pd.DataFrame()\n",
    "    for i in range(len(frame_list)):\n",
    "        combined_df = combined_df.append(pd.crosstab(frame_list[i][frame_list[i].AU6and12_r_c == AU_comb].age, frame_list[i][frame_list[i].AU6and12_r_c == AU_comb].Happy))\n",
    "    combined_df\n",
    "    combined_df[\"row_totals\"] = combined_df[0] + combined_df[1]\n",
    "    combined_df.loc[\"col_totals\"] = combined_df.sum()\n",
    "    combined_df\n",
    "    observed = combined_df.iloc[0:-1,0:-1]   # Get table without totals for later use\n",
    "\n",
    "    expected =  np.outer(combined_df[\"row_totals\"][0:-1],\n",
    "                     combined_df.loc[\"col_totals\"][0:-1]) / combined_df.loc['col_totals', 'row_totals']\n",
    "\n",
    "    expected = pd.DataFrame(expected)\n",
    "    expected.columns = [0,1]\n",
    "    expected.index = combined_df.index[:-1]\n",
    "\n",
    "    if (expected>=5).sum().sum() == (combined_df.shape[0]-1) * (combined_df.shape[1]-1):\n",
    "        chi_squared_stat = (((observed-expected)**2)/expected).sum().sum()\n",
    "        p_value = 1 - stats.chi2.cdf(x=chi_squared_stat, df= (combined_df.shape[0]-2) * (combined_df.shape[1]-2))\n",
    "    else:\n",
    "        chi_squared_stat = np.nan\n",
    "        p_value = np.nan\n",
    "\n",
    "    print(chi_squared_stat)\n",
    "    print(p_value)\n",
    "    print()"
   ]
  },
  {
   "cell_type": "code",
   "execution_count": 36,
   "metadata": {},
   "outputs": [
    {
     "data": {
      "image/png": "[encoded data removed]",
      "text/plain": [
       "<Figure size 432x288 with 1 Axes>"
      ]
     },
     "metadata": {
      "needs_background": "light"
     },
     "output_type": "display_data"
    }
   ],
   "source": [
    "sns.lmplot(x='AU06_r', y='Happy', data=frame, hue = 'Age', logistic=True, scatter = False, hue_order = ['less than 40', 'more than 40'], legend=False, height=4, aspect=6/4)\n",
    "plt.legend(fontsize=13)\n",
    "plt.xlabel(\"AU6 intensity\", fontsize=14)\n",
    "plt.ylabel(\"Proportion of 'Happy' Labels\", fontsize=14)\n",
    "plt.title('P(Happy|AU6) for ExpW', fontsize=14)\n",
    "plt.tight_layout()\n",
    "plt.savefig('age_race_bias_plots/age_2_groups_graphs/ExpW_happy_2_AU6.pdf')\n",
    "plt.show()"
   ]
  },
  {
   "cell_type": "code",
   "execution_count": 37,
   "metadata": {},
   "outputs": [
    {
     "data": {
      "image/png": "[encoded data removed]",
      "text/plain": [
       "<Figure size 432x288 with 1 Axes>"
      ]
     },
     "metadata": {
      "needs_background": "light"
     },
     "output_type": "display_data"
    }
   ],
   "source": [
    "sns.lmplot(x='AU12_r', y='Happy', data=frame, hue = 'Age', logistic=True, scatter = False, hue_order = ['less than 40', 'more than 40'], legend=False, height=4, aspect=6/4)\n",
    "plt.legend(fontsize=13)\n",
    "plt.xlabel(\"AU12 intensity\", fontsize=14)\n",
    "plt.ylabel(\"Proportion of 'Happy' Labels\", fontsize=14)\n",
    "plt.title('P(Happy|AU12) for ExpW', fontsize=14)\n",
    "plt.tight_layout()\n",
    "plt.savefig('age_race_bias_plots/age_2_groups_graphs/ExpW_happy_2_AU12.pdf')\n",
    "plt.show()"
   ]
  },
  {
   "cell_type": "code",
   "execution_count": 34,
   "metadata": {},
   "outputs": [
    {
     "name": "stdout",
     "output_type": "stream",
     "text": [
      "                 Generalized Linear Model Regression Results                  \n",
      "==============================================================================\n",
      "Dep. Variable:                  Happy   No. Observations:                85355\n",
      "Model:                            GLM   Df Residuals:                    85351\n",
      "Model Family:                Binomial   Df Model:                            3\n",
      "Link Function:                  logit   Scale:                          1.0000\n",
      "Method:                          IRLS   Log-Likelihood:                -38645.\n",
      "Date:                Sat, 07 Aug 2021   Deviance:                       77290.\n",
      "Time:                        19:49:53   Pearson chi2:                 8.35e+04\n",
      "No. Iterations:                     5                                         \n",
      "Covariance Type:            nonrobust                                         \n",
      "=======================================================================================\n",
      "                          coef    std err          z      P>|z|      [0.025      0.975]\n",
      "---------------------------------------------------------------------------------------\n",
      "Intercept              -2.3356      0.016   -148.526      0.000      -2.366      -2.305\n",
      "Age[T.more than 40]    -0.1203      0.027     -4.501      0.000      -0.173      -0.068\n",
      "AU06_r                  0.0018      0.015      0.122      0.903      -0.027       0.031\n",
      "AU12_r                  1.8169      0.016    114.180      0.000       1.786       1.848\n",
      "=======================================================================================\n"
     ]
    }
   ],
   "source": [
    "formula = 'Happy ~ AU06_r + AU12_r + Age'\n",
    "model = smf.glm(formula = formula, data=frame, family=sm.families.Binomial())\n",
    "result = model.fit()\n",
    "print(result.summary())"
   ]
  },
  {
   "cell_type": "markdown",
   "metadata": {},
   "source": [
    "# RAF-DB"
   ]
  },
  {
   "cell_type": "code",
   "execution_count": 151,
   "metadata": {},
   "outputs": [
    {
     "name": "stdout",
     "output_type": "stream",
     "text": [
      "(12214, 54)\n"
     ]
    },
    {
     "data": {
      "text/html": [
       "<div>\n",
       "<style scoped>\n",
       "    .dataframe tbody tr th:only-of-type {\n",
       "        vertical-align: middle;\n",
       "    }\n",
       "\n",
       "    .dataframe tbody tr th {\n",
       "        vertical-align: top;\n",
       "    }\n",
       "\n",
       "    .dataframe thead th {\n",
       "        text-align: right;\n",
       "    }\n",
       "</style>\n",
       "<table border=\"1\" class=\"dataframe\">\n",
       "  <thead>\n",
       "    <tr style=\"text-align: right;\">\n",
       "      <th></th>\n",
       "      <th>ImageName</th>\n",
       "      <th>face</th>\n",
       "      <th>confidence</th>\n",
       "      <th>Emotion</th>\n",
       "      <th>Happy</th>\n",
       "      <th>Gender</th>\n",
       "      <th>AU01_c</th>\n",
       "      <th>AU02_c</th>\n",
       "      <th>AU04_c</th>\n",
       "      <th>AU05_c</th>\n",
       "      <th>...</th>\n",
       "      <th>AU05_r_c</th>\n",
       "      <th>AU06_r_c</th>\n",
       "      <th>AU09_r_c</th>\n",
       "      <th>AU10_r_c</th>\n",
       "      <th>AU12_r_c</th>\n",
       "      <th>AU15_r_c</th>\n",
       "      <th>AU17_r_c</th>\n",
       "      <th>AU20_r_c</th>\n",
       "      <th>AU25_r_c</th>\n",
       "      <th>AU26_r_c</th>\n",
       "    </tr>\n",
       "  </thead>\n",
       "  <tbody>\n",
       "    <tr>\n",
       "      <th>0</th>\n",
       "      <td>test_0001_aligned.jpg</td>\n",
       "      <td>0</td>\n",
       "      <td>0.925</td>\n",
       "      <td>5</td>\n",
       "      <td>0</td>\n",
       "      <td>1.0</td>\n",
       "      <td>1.0</td>\n",
       "      <td>1.0</td>\n",
       "      <td>0.0</td>\n",
       "      <td>0.0</td>\n",
       "      <td>...</td>\n",
       "      <td>0</td>\n",
       "      <td>0</td>\n",
       "      <td>0</td>\n",
       "      <td>0</td>\n",
       "      <td>0</td>\n",
       "      <td>0</td>\n",
       "      <td>0</td>\n",
       "      <td>0</td>\n",
       "      <td>0</td>\n",
       "      <td>0</td>\n",
       "    </tr>\n",
       "    <tr>\n",
       "      <th>1</th>\n",
       "      <td>test_0002_aligned.jpg</td>\n",
       "      <td>0</td>\n",
       "      <td>0.975</td>\n",
       "      <td>1</td>\n",
       "      <td>0</td>\n",
       "      <td>1.0</td>\n",
       "      <td>1.0</td>\n",
       "      <td>1.0</td>\n",
       "      <td>1.0</td>\n",
       "      <td>1.0</td>\n",
       "      <td>...</td>\n",
       "      <td>0</td>\n",
       "      <td>0</td>\n",
       "      <td>0</td>\n",
       "      <td>0</td>\n",
       "      <td>0</td>\n",
       "      <td>0</td>\n",
       "      <td>0</td>\n",
       "      <td>0</td>\n",
       "      <td>0</td>\n",
       "      <td>0</td>\n",
       "    </tr>\n",
       "    <tr>\n",
       "      <th>2</th>\n",
       "      <td>test_0004_aligned.jpg</td>\n",
       "      <td>0</td>\n",
       "      <td>0.825</td>\n",
       "      <td>1</td>\n",
       "      <td>0</td>\n",
       "      <td>1.0</td>\n",
       "      <td>0.0</td>\n",
       "      <td>1.0</td>\n",
       "      <td>1.0</td>\n",
       "      <td>0.0</td>\n",
       "      <td>...</td>\n",
       "      <td>0</td>\n",
       "      <td>0</td>\n",
       "      <td>0</td>\n",
       "      <td>0</td>\n",
       "      <td>0</td>\n",
       "      <td>0</td>\n",
       "      <td>0</td>\n",
       "      <td>0</td>\n",
       "      <td>0</td>\n",
       "      <td>0</td>\n",
       "    </tr>\n",
       "    <tr>\n",
       "      <th>3</th>\n",
       "      <td>test_0006_aligned.jpg</td>\n",
       "      <td>0</td>\n",
       "      <td>0.875</td>\n",
       "      <td>5</td>\n",
       "      <td>0</td>\n",
       "      <td>1.0</td>\n",
       "      <td>1.0</td>\n",
       "      <td>0.0</td>\n",
       "      <td>1.0</td>\n",
       "      <td>0.0</td>\n",
       "      <td>...</td>\n",
       "      <td>0</td>\n",
       "      <td>0</td>\n",
       "      <td>0</td>\n",
       "      <td>0</td>\n",
       "      <td>0</td>\n",
       "      <td>0</td>\n",
       "      <td>0</td>\n",
       "      <td>0</td>\n",
       "      <td>0</td>\n",
       "      <td>0</td>\n",
       "    </tr>\n",
       "    <tr>\n",
       "      <th>4</th>\n",
       "      <td>test_0007_aligned.jpg</td>\n",
       "      <td>0</td>\n",
       "      <td>0.975</td>\n",
       "      <td>3</td>\n",
       "      <td>0</td>\n",
       "      <td>0.0</td>\n",
       "      <td>0.0</td>\n",
       "      <td>0.0</td>\n",
       "      <td>1.0</td>\n",
       "      <td>0.0</td>\n",
       "      <td>...</td>\n",
       "      <td>0</td>\n",
       "      <td>0</td>\n",
       "      <td>0</td>\n",
       "      <td>1</td>\n",
       "      <td>0</td>\n",
       "      <td>1</td>\n",
       "      <td>0</td>\n",
       "      <td>0</td>\n",
       "      <td>0</td>\n",
       "      <td>0</td>\n",
       "    </tr>\n",
       "  </tbody>\n",
       "</table>\n",
       "<p>5 rows × 54 columns</p>\n",
       "</div>"
      ],
      "text/plain": [
       "               ImageName  face  confidence  Emotion  Happy  Gender  AU01_c  \\\n",
       "0  test_0001_aligned.jpg     0       0.925        5      0     1.0     1.0   \n",
       "1  test_0002_aligned.jpg     0       0.975        1      0     1.0     1.0   \n",
       "2  test_0004_aligned.jpg     0       0.825        1      0     1.0     0.0   \n",
       "3  test_0006_aligned.jpg     0       0.875        5      0     1.0     1.0   \n",
       "4  test_0007_aligned.jpg     0       0.975        3      0     0.0     0.0   \n",
       "\n",
       "   AU02_c  AU04_c  AU05_c  ...  AU05_r_c  AU06_r_c  AU09_r_c  AU10_r_c  \\\n",
       "0     1.0     0.0     0.0  ...         0         0         0         0   \n",
       "1     1.0     1.0     1.0  ...         0         0         0         0   \n",
       "2     1.0     1.0     0.0  ...         0         0         0         0   \n",
       "3     0.0     1.0     0.0  ...         0         0         0         0   \n",
       "4     0.0     1.0     0.0  ...         0         0         0         1   \n",
       "\n",
       "   AU12_r_c  AU15_r_c  AU17_r_c  AU20_r_c  AU25_r_c  AU26_r_c  \n",
       "0         0         0         0         0         0         0  \n",
       "1         0         0         0         0         0         0  \n",
       "2         0         0         0         0         0         0  \n",
       "3         0         0         0         0         0         0  \n",
       "4         0         1         0         0         0         0  \n",
       "\n",
       "[5 rows x 54 columns]"
      ]
     },
     "execution_count": 151,
     "metadata": {},
     "output_type": "execute_result"
    }
   ],
   "source": [
    "frame = pd.read_csv('RAFDB_OpenFace_result_with_Emotion_and_Gender.csv')\n",
    "print(frame.shape)\n",
    "frame.head()"
   ]
  },
  {
   "cell_type": "markdown",
   "metadata": {},
   "source": [
    "## Age Label"
   ]
  },
  {
   "cell_type": "markdown",
   "metadata": {},
   "source": [
    "Notes:\n",
    "\n",
    "In \"train_XXXXX_manu_attri.txt\" / \"test_XXXX_manu_attri.txt\", the first five lines contain location info (x, y) of 5 landmarks.\n",
    "The next three lines presents information of gender, race and age attributes respectively:\n",
    "\t\n",
    "Gender\n",
    "    \n",
    "0: male\t\t1: female\t2: unsure\n",
    "\n",
    "Race\t\n",
    "\n",
    "0: Caucasian\t\t1: African-American\t\t2: Asian\n",
    "\n",
    "Age (5 ranges)\t\n",
    "\n",
    "0: 0-3\t 1: 4-19\t\t2: 20-39\t\t3: 40-69\t\t4: 70+"
   ]
  },
  {
   "cell_type": "code",
   "execution_count": 152,
   "metadata": {},
   "outputs": [
    {
     "data": {
      "text/plain": [
       "['train_03396_manu_attri.txt',\n",
       " 'train_04548_manu_attri.txt',\n",
       " 'train_03383_manu_attri.txt',\n",
       " 'test_0461_manu_attri.txt',\n",
       " 'test_0474_manu_attri.txt',\n",
       " 'train_11406_manu_attri.txt',\n",
       " 'test_1490_manu_attri.txt',\n",
       " 'train_11413_manu_attri.txt',\n",
       " 'test_1485_manu_attri.txt',\n",
       " 'train_06054_manu_attri.txt',\n",
       " 'train_06041_manu_attri.txt',\n",
       " 'test_2168_manu_attri.txt',\n",
       " 'train_02367_manu_attri.txt',\n",
       " 'train_08008_manu_attri.txt',\n",
       " 'train_02372_manu_attri.txt',\n",
       " 'train_00426_manu_attri.txt',\n",
       " 'train_00433_manu_attri.txt',\n",
       " 'test_0629_manu_attri.txt',\n",
       " 'train_04715_manu_attri.txt',\n",
       " 'train_04700_manu_attri.txt',\n",
       " 'train_08255_manu_attri.txt',\n",
       " 'train_08240_manu_attri.txt',\n",
       " 'train_07900_manu_attri.txt',\n",
       " 'test_2320_manu_attri.txt',\n",
       " 'test_2335_manu_attri.txt',\n",
       " 'train_07915_manu_attri.txt',\n",
       " 'train_06209_manu_attri.txt',\n",
       " 'train_09949_manu_attri.txt',\n",
       " 'test_0075_manu_attri.txt',\n",
       " 'test_0060_manu_attri.txt',\n",
       " 'train_01966_manu_attri.txt',\n",
       " 'train_01973_manu_attri.txt',\n",
       " 'train_03782_manu_attri.txt',\n",
       " 'train_04149_manu_attri.txt',\n",
       " 'train_03797_manu_attri.txt',\n",
       " 'train_00997_manu_attri.txt',\n",
       " 'test_2569_manu_attri.txt',\n",
       " 'train_00982_manu_attri.txt',\n",
       " 'train_08409_manu_attri.txt',\n",
       " 'train_02773_manu_attri.txt',\n",
       " 'train_02766_manu_attri.txt',\n",
       " 'test_1084_manu_attri.txt',\n",
       " 'train_11012_manu_attri.txt',\n",
       " 'test_1091_manu_attri.txt',\n",
       " 'train_11007_manu_attri.txt',\n",
       " 'train_06440_manu_attri.txt',\n",
       " 'train_06455_manu_attri.txt',\n",
       " 'train_04301_manu_attri.txt',\n",
       " 'test_1921_manu_attri.txt',\n",
       " 'test_1934_manu_attri.txt',\n",
       " 'train_04314_manu_attri.txt',\n",
       " 'train_00032_manu_attri.txt',\n",
       " 'train_00027_manu_attri.txt',\n",
       " 'test_0228_manu_attri.txt',\n",
       " 'train_05808_manu_attri.txt',\n",
       " 'train_06608_manu_attri.txt',\n",
       " 'train_08641_manu_attri.txt',\n",
       " 'train_10946_manu_attri.txt',\n",
       " 'train_10953_manu_attri.txt',\n",
       " 'train_08654_manu_attri.txt',\n",
       " 'test_2734_manu_attri.txt',\n",
       " 'test_2721_manu_attri.txt',\n",
       " 'train_03046_manu_attri.txt',\n",
       " 'train_03053_manu_attri.txt',\n",
       " 'train_04698_manu_attri.txt',\n",
       " 'train_09329_manu_attri.txt',\n",
       " 'train_06869_manu_attri.txt',\n",
       " 'train_07375_manu_attri.txt',\n",
       " 'test_2955_manu_attri.txt',\n",
       " 'test_2940_manu_attri.txt',\n",
       " 'train_07360_manu_attri.txt',\n",
       " 'train_08820_manu_attri.txt',\n",
       " 'train_10727_manu_attri.txt',\n",
       " 'train_10732_manu_attri.txt',\n",
       " 'train_08835_manu_attri.txt',\n",
       " 'train_06384_manu_attri.txt',\n",
       " 'train_06391_manu_attri.txt',\n",
       " 'test_1740_manu_attri.txt',\n",
       " 'test_1755_manu_attri.txt',\n",
       " 'train_05669_manu_attri.txt',\n",
       " 'train_07898_manu_attri.txt',\n",
       " 'train_02912_manu_attri.txt',\n",
       " 'train_02907_manu_attri.txt',\n",
       " 'train_07128_manu_attri.txt',\n",
       " 'test_3001_manu_attri.txt',\n",
       " 'test_3014_manu_attri.txt',\n",
       " 'train_09174_manu_attri.txt',\n",
       " 'train_09161_manu_attri.txt',\n",
       " 'train_12066_manu_attri.txt',\n",
       " 'train_12073_manu_attri.txt',\n",
       " 'train_05434_manu_attri.txt',\n",
       " 'train_08185_manu_attri.txt',\n",
       " 'train_08190_manu_attri.txt',\n",
       " 'train_05421_manu_attri.txt',\n",
       " 'test_1508_manu_attri.txt',\n",
       " 'train_01707_manu_attri.txt',\n",
       " 'train_01712_manu_attri.txt',\n",
       " 'train_07761_manu_attri.txt',\n",
       " 'train_07774_manu_attri.txt',\n",
       " 'train_05985_manu_attri.txt',\n",
       " 'train_10333_manu_attri.txt',\n",
       " 'train_10326_manu_attri.txt',\n",
       " 'train_05990_manu_attri.txt',\n",
       " 'train_04299_manu_attri.txt',\n",
       " 'train_03452_manu_attri.txt',\n",
       " 'train_09728_manu_attri.txt',\n",
       " 'train_03447_manu_attri.txt',\n",
       " 'train_05268_manu_attri.txt',\n",
       " 'test_0848_manu_attri.txt',\n",
       " 'train_06790_manu_attri.txt',\n",
       " 'train_06785_manu_attri.txt',\n",
       " 'train_04974_manu_attri.txt',\n",
       " 'test_1354_manu_attri.txt',\n",
       " 'test_1341_manu_attri.txt',\n",
       " 'train_04961_manu_attri.txt',\n",
       " 'train_09560_manu_attri.txt',\n",
       " 'train_09575_manu_attri.txt',\n",
       " 'train_07529_manu_attri.txt',\n",
       " 'test_1109_manu_attri.txt',\n",
       " 'train_01313_manu_attri.txt',\n",
       " 'train_01306_manu_attri.txt',\n",
       " 'train_08591_manu_attri.txt',\n",
       " 'train_05020_manu_attri.txt',\n",
       " 'train_05035_manu_attri.txt',\n",
       " 'train_08584_manu_attri.txt',\n",
       " 'train_03280_manu_attri.txt',\n",
       " 'train_03295_manu_attri.txt',\n",
       " 'train_00778_manu_attri.txt',\n",
       " 'test_0577_manu_attri.txt',\n",
       " 'test_0562_manu_attri.txt',\n",
       " 'train_02989_manu_attri.txt',\n",
       " 'train_06142_manu_attri.txt',\n",
       " 'train_01789_manu_attri.txt',\n",
       " 'train_06157_manu_attri.txt',\n",
       " 'test_1586_manu_attri.txt',\n",
       " 'train_11510_manu_attri.txt',\n",
       " 'test_1593_manu_attri.txt',\n",
       " 'train_11505_manu_attri.txt',\n",
       " 'train_03978_manu_attri.txt',\n",
       " 'train_02271_manu_attri.txt',\n",
       " 'train_02264_manu_attri.txt',\n",
       " 'train_00530_manu_attri.txt',\n",
       " 'train_00525_manu_attri.txt',\n",
       " 'train_04603_manu_attri.txt',\n",
       " 'train_04616_manu_attri.txt',\n",
       " 'train_07816_manu_attri.txt',\n",
       " 'test_2236_manu_attri.txt',\n",
       " 'test_2223_manu_attri.txt',\n",
       " 'train_07803_manu_attri.txt',\n",
       " 'train_08343_manu_attri.txt',\n",
       " 'train_02039_manu_attri.txt',\n",
       " 'train_08356_manu_attri.txt',\n",
       " 'train_11758_manu_attri.txt',\n",
       " 'train_00379_manu_attri.txt',\n",
       " 'test_0163_manu_attri.txt',\n",
       " 'test_0176_manu_attri.txt',\n",
       " 'train_03694_manu_attri.txt',\n",
       " 'train_03681_manu_attri.txt',\n",
       " 'train_01870_manu_attri.txt',\n",
       " 'train_01865_manu_attri.txt',\n",
       " 'train_02665_manu_attri.txt',\n",
       " 'train_02670_manu_attri.txt',\n",
       " 'train_00881_manu_attri.txt',\n",
       " 'train_00894_manu_attri.txt',\n",
       " 'train_06556_manu_attri.txt',\n",
       " 'train_01388_manu_attri.txt',\n",
       " 'train_06543_manu_attri.txt',\n",
       " 'train_11104_manu_attri.txt',\n",
       " 'test_1192_manu_attri.txt',\n",
       " 'train_11111_manu_attri.txt',\n",
       " 'test_1187_manu_attri.txt',\n",
       " 'train_04217_manu_attri.txt',\n",
       " 'test_1837_manu_attri.txt',\n",
       " 'test_1822_manu_attri.txt',\n",
       " 'train_04202_manu_attri.txt',\n",
       " 'train_00124_manu_attri.txt',\n",
       " 'train_00131_manu_attri.txt',\n",
       " 'train_11359_manu_attri.txt',\n",
       " 'test_2622_manu_attri.txt',\n",
       " 'test_2637_manu_attri.txt',\n",
       " 'train_10850_manu_attri.txt',\n",
       " 'train_08757_manu_attri.txt',\n",
       " 'train_08742_manu_attri.txt',\n",
       " 'train_10845_manu_attri.txt',\n",
       " 'train_02438_manu_attri.txt',\n",
       " 'train_03150_manu_attri.txt',\n",
       " 'train_03145_manu_attri.txt',\n",
       " 'train_10631_manu_attri.txt',\n",
       " 'train_08936_manu_attri.txt',\n",
       " 'train_08923_manu_attri.txt',\n",
       " 'train_10624_manu_attri.txt',\n",
       " 'train_07263_manu_attri.txt',\n",
       " 'test_2843_manu_attri.txt',\n",
       " 'test_2856_manu_attri.txt',\n",
       " 'train_07276_manu_attri.txt',\n",
       " 'test_1656_manu_attri.txt',\n",
       " 'test_1643_manu_attri.txt',\n",
       " 'train_01459_manu_attri.txt',\n",
       " 'train_06292_manu_attri.txt',\n",
       " 'train_06287_manu_attri.txt',\n",
       " 'train_02804_manu_attri.txt',\n",
       " 'train_10479_manu_attri.txt',\n",
       " 'train_02811_manu_attri.txt',\n",
       " 'train_03318_manu_attri.txt',\n",
       " 'train_09062_manu_attri.txt',\n",
       " 'train_09077_manu_attri.txt',\n",
       " 'train_05522_manu_attri.txt',\n",
       " 'train_08093_manu_attri.txt',\n",
       " 'train_08086_manu_attri.txt',\n",
       " 'train_05537_manu_attri.txt',\n",
       " 'train_12170_manu_attri.txt',\n",
       " 'train_12165_manu_attri.txt',\n",
       " 'train_01611_manu_attri.txt',\n",
       " 'train_01604_manu_attri.txt',\n",
       " 'train_11488_manu_attri.txt',\n",
       " 'train_05893_manu_attri.txt',\n",
       " 'train_10225_manu_attri.txt',\n",
       " 'train_10230_manu_attri.txt',\n",
       " 'train_05886_manu_attri.txt',\n",
       " 'train_07677_manu_attri.txt',\n",
       " 'train_07662_manu_attri.txt',\n",
       " 'train_03544_manu_attri.txt',\n",
       " 'train_11939_manu_attri.txt',\n",
       " 'train_03551_manu_attri.txt',\n",
       " 'train_04862_manu_attri.txt',\n",
       " 'test_1242_manu_attri.txt',\n",
       " 'test_1257_manu_attri.txt',\n",
       " 'train_04877_manu_attri.txt',\n",
       " 'train_06686_manu_attri.txt',\n",
       " 'train_06693_manu_attri.txt',\n",
       " 'train_01058_manu_attri.txt',\n",
       " 'train_09476_manu_attri.txt',\n",
       " 'train_03719_manu_attri.txt',\n",
       " 'train_09463_manu_attri.txt',\n",
       " 'train_10078_manu_attri.txt',\n",
       " 'train_01205_manu_attri.txt',\n",
       " 'train_01210_manu_attri.txt',\n",
       " 'train_11089_manu_attri.txt',\n",
       " 'train_08487_manu_attri.txt',\n",
       " 'train_05136_manu_attri.txt',\n",
       " 'train_05123_manu_attri.txt',\n",
       " 'train_08492_manu_attri.txt',\n",
       " 'train_00919_manu_attri.txt',\n",
       " 'test_0658_manu_attri.txt',\n",
       " 'train_00442_manu_attri.txt',\n",
       " 'train_07289_manu_attri.txt',\n",
       " 'train_00457_manu_attri.txt',\n",
       " 'train_06995_manu_attri.txt',\n",
       " 'train_06980_manu_attri.txt',\n",
       " 'train_04771_manu_attri.txt',\n",
       " 'train_04764_manu_attri.txt',\n",
       " 'train_07964_manu_attri.txt',\n",
       " 'test_2344_manu_attri.txt',\n",
       " 'test_2351_manu_attri.txt',\n",
       " 'train_07971_manu_attri.txt',\n",
       " 'train_08231_manu_attri.txt',\n",
       " 'train_05780_manu_attri.txt',\n",
       " 'train_05795_manu_attri.txt',\n",
       " 'train_08224_manu_attri.txt',\n",
       " 'train_09938_manu_attri.txt',\n",
       " 'train_06278_manu_attri.txt',\n",
       " 'train_04539_manu_attri.txt',\n",
       " 'train_09088_manu_attri.txt',\n",
       " 'train_10493_manu_attri.txt',\n",
       " 'test_0405_manu_attri.txt',\n",
       " 'train_10486_manu_attri.txt',\n",
       " 'test_0410_manu_attri.txt',\n",
       " 'train_06030_manu_attri.txt',\n",
       " 'train_06025_manu_attri.txt',\n",
       " 'train_11462_manu_attri.txt',\n",
       " 'train_11477_manu_attri.txt',\n",
       " 'train_02303_manu_attri.txt',\n",
       " 'train_08079_manu_attri.txt',\n",
       " 'train_02316_manu_attri.txt',\n",
       " 'test_2119_manu_attri.txt',\n",
       " 'train_04365_manu_attri.txt',\n",
       " 'test_1945_manu_attri.txt',\n",
       " 'test_1950_manu_attri.txt',\n",
       " 'train_04370_manu_attri.txt',\n",
       " 'train_05879_manu_attri.txt',\n",
       " 'test_0259_manu_attri.txt',\n",
       " 'train_00056_manu_attri.txt',\n",
       " 'train_07688_manu_attri.txt',\n",
       " 'train_00043_manu_attri.txt',\n",
       " 'train_04888_manu_attri.txt',\n",
       " 'train_06679_manu_attri.txt',\n",
       " 'test_2750_manu_attri.txt',\n",
       " 'test_2745_manu_attri.txt',\n",
       " 'train_05394_manu_attri.txt',\n",
       " 'train_10922_manu_attri.txt',\n",
       " 'train_08625_manu_attri.txt',\n",
       " 'train_08630_manu_attri.txt',\n",
       " 'train_10937_manu_attri.txt',\n",
       " 'train_05381_manu_attri.txt',\n",
       " 'test_0011_manu_attri.txt',\n",
       " 'train_10087_manu_attri.txt',\n",
       " 'test_0004_manu_attri.txt',\n",
       " 'train_10092_manu_attri.txt',\n",
       " 'train_04138_manu_attri.txt',\n",
       " 'train_09489_manu_attri.txt',\n",
       " 'train_01902_manu_attri.txt',\n",
       " 'train_01917_manu_attri.txt',\n",
       " 'train_02717_manu_attri.txt',\n",
       " 'train_02702_manu_attri.txt',\n",
       " 'train_08478_manu_attri.txt',\n",
       " 'test_2518_manu_attri.txt',\n",
       " 'train_06424_manu_attri.txt',\n",
       " 'train_06431_manu_attri.txt',\n",
       " 'train_11076_manu_attri.txt',\n",
       " 'train_11063_manu_attri.txt',\n",
       " 'train_07159_manu_attri.txt',\n",
       " 'train_00792_manu_attri.txt',\n",
       " 'train_00787_manu_attri.txt',\n",
       " 'train_02976_manu_attri.txt',\n",
       " 'test_0588_manu_attri.txt',\n",
       " 'train_02963_manu_attri.txt',\n",
       " 'train_09110_manu_attri.txt',\n",
       " 'train_09105_manu_attri.txt',\n",
       " 'test_3065_manu_attri.txt',\n",
       " 'train_05450_manu_attri.txt',\n",
       " 'train_05445_manu_attri.txt',\n",
       " 'train_12002_manu_attri.txt',\n",
       " 'test_2094_manu_attri.txt',\n",
       " 'train_12017_manu_attri.txt',\n",
       " 'test_2081_manu_attri.txt',\n",
       " 'train_01763_manu_attri.txt',\n",
       " 'train_01776_manu_attri.txt',\n",
       " 'train_03987_manu_attri.txt',\n",
       " 'test_1579_manu_attri.txt',\n",
       " 'train_03992_manu_attri.txt',\n",
       " 'train_06818_manu_attri.txt',\n",
       " 'train_09358_manu_attri.txt',\n",
       " 'train_03022_manu_attri.txt',\n",
       " 'train_03037_manu_attri.txt',\n",
       " 'train_10743_manu_attri.txt',\n",
       " 'train_08844_manu_attri.txt',\n",
       " 'train_08851_manu_attri.txt',\n",
       " 'train_10756_manu_attri.txt',\n",
       " 'train_07311_manu_attri.txt',\n",
       " 'test_2931_manu_attri.txt',\n",
       " 'test_2924_manu_attri.txt',\n",
       " 'train_07304_manu_attri.txt',\n",
       " 'test_1724_manu_attri.txt',\n",
       " 'test_1731_manu_attri.txt',\n",
       " 'train_05618_manu_attri.txt',\n",
       " 'train_09504_manu_attri.txt',\n",
       " 'train_09511_manu_attri.txt',\n",
       " 'train_00386_manu_attri.txt',\n",
       " 'train_00393_manu_attri.txt',\n",
       " 'train_07558_manu_attri.txt',\n",
       " 'test_0189_manu_attri.txt',\n",
       " 'train_01377_manu_attri.txt',\n",
       " 'train_01362_manu_attri.txt',\n",
       " 'test_1178_manu_attri.txt',\n",
       " 'train_05044_manu_attri.txt',\n",
       " 'train_05051_manu_attri.txt',\n",
       " 'test_2480_manu_attri.txt',\n",
       " 'test_2495_manu_attri.txt',\n",
       " 'train_10357_manu_attri.txt',\n",
       " 'train_10342_manu_attri.txt',\n",
       " 'train_07705_manu_attri.txt',\n",
       " 'train_07710_manu_attri.txt',\n",
       " 'train_03436_manu_attri.txt',\n",
       " 'train_09759_manu_attri.txt',\n",
       " 'train_03423_manu_attri.txt',\n",
       " 'test_0839_manu_attri.txt',\n",
       " 'train_05219_manu_attri.txt',\n",
       " 'train_04910_manu_attri.txt',\n",
       " 'test_1330_manu_attri.txt',\n",
       " 'test_1325_manu_attri.txt',\n",
       " 'train_04905_manu_attri.txt',\n",
       " 'train_00554_manu_attri.txt',\n",
       " 'train_00541_manu_attri.txt',\n",
       " 'train_04667_manu_attri.txt',\n",
       " 'train_04672_manu_attri.txt',\n",
       " 'train_06883_manu_attri.txt',\n",
       " 'train_06896_manu_attri.txt',\n",
       " 'train_08327_manu_attri.txt',\n",
       " 'train_05696_manu_attri.txt',\n",
       " 'train_02048_manu_attri.txt',\n",
       " 'train_05683_manu_attri.txt',\n",
       " 'train_08332_manu_attri.txt',\n",
       " 'train_07872_manu_attri.txt',\n",
       " 'test_2252_manu_attri.txt',\n",
       " 'test_2247_manu_attri.txt',\n",
       " 'train_07867_manu_attri.txt',\n",
       " 'train_11729_manu_attri.txt',\n",
       " 'test_0513_manu_attri.txt',\n",
       " 'train_10585_manu_attri.txt',\n",
       " 'test_0506_manu_attri.txt',\n",
       " 'train_10590_manu_attri.txt',\n",
       " 'train_00709_manu_attri.txt',\n",
       " 'train_03909_manu_attri.txt',\n",
       " 'train_11574_manu_attri.txt',\n",
       " 'train_11561_manu_attri.txt',\n",
       " 'train_06126_manu_attri.txt',\n",
       " 'train_06133_manu_attri.txt',\n",
       " 'train_12099_manu_attri.txt',\n",
       " 'train_02215_manu_attri.txt',\n",
       " 'train_02200_manu_attri.txt',\n",
       " 'train_04273_manu_attri.txt',\n",
       " 'test_1853_manu_attri.txt',\n",
       " 'test_1846_manu_attri.txt',\n",
       " 'train_04266_manu_attri.txt',\n",
       " 'train_00140_manu_attri.txt',\n",
       " 'train_00155_manu_attri.txt',\n",
       " 'train_11328_manu_attri.txt',\n",
       " 'train_05282_manu_attri.txt',\n",
       " 'train_02449_manu_attri.txt',\n",
       " 'train_08733_manu_attri.txt',\n",
       " 'train_10834_manu_attri.txt',\n",
       " 'train_10821_manu_attri.txt',\n",
       " 'train_08726_manu_attri.txt',\n",
       " 'train_05297_manu_attri.txt',\n",
       " 'test_2646_manu_attri.txt',\n",
       " 'test_2653_manu_attri.txt',\n",
       " 'train_10191_manu_attri.txt',\n",
       " 'test_0107_manu_attri.txt',\n",
       " 'train_10184_manu_attri.txt',\n",
       " 'test_0112_manu_attri.txt',\n",
       " 'train_00308_manu_attri.txt',\n",
       " 'train_01814_manu_attri.txt',\n",
       " 'train_01801_manu_attri.txt',\n",
       " 'train_02601_manu_attri.txt',\n",
       " 'train_02614_manu_attri.txt',\n",
       " 'train_11160_manu_attri.txt',\n",
       " 'train_11175_manu_attri.txt',\n",
       " 'train_06532_manu_attri.txt',\n",
       " 'train_06527_manu_attri.txt',\n",
       " 'train_02860_manu_attri.txt',\n",
       " 'train_10408_manu_attri.txt',\n",
       " 'train_02875_manu_attri.txt',\n",
       " 'train_00684_manu_attri.txt',\n",
       " 'train_00691_manu_attri.txt',\n",
       " 'train_09006_manu_attri.txt',\n",
       " 'train_09013_manu_attri.txt',\n",
       " 'train_03369_manu_attri.txt',\n",
       " 'test_2182_manu_attri.txt',\n",
       " 'train_12114_manu_attri.txt',\n",
       " 'test_2197_manu_attri.txt',\n",
       " 'train_12101_manu_attri.txt',\n",
       " 'train_05546_manu_attri.txt',\n",
       " 'train_05553_manu_attri.txt',\n",
       " 'train_02398_manu_attri.txt',\n",
       " 'train_03891_manu_attri.txt',\n",
       " 'train_03884_manu_attri.txt',\n",
       " 'train_01675_manu_attri.txt',\n",
       " 'train_01660_manu_attri.txt',\n",
       " 'train_03134_manu_attri.txt',\n",
       " 'train_03121_manu_attri.txt',\n",
       " 'train_07207_manu_attri.txt',\n",
       " 'test_2827_manu_attri.txt',\n",
       " 'test_2832_manu_attri.txt',\n",
       " 'train_07212_manu_attri.txt',\n",
       " 'train_08952_manu_attri.txt',\n",
       " 'train_10655_manu_attri.txt',\n",
       " 'train_10640_manu_attri.txt',\n",
       " 'train_08947_manu_attri.txt',\n",
       " 'train_01428_manu_attri.txt',\n",
       " 'test_1632_manu_attri.txt',\n",
       " 'test_1627_manu_attri.txt',\n",
       " 'train_01999_manu_attri.txt',\n",
       " 'train_09412_manu_attri.txt',\n",
       " 'train_03768_manu_attri.txt',\n",
       " 'train_09407_manu_attri.txt',\n",
       " 'train_10009_manu_attri.txt',\n",
       " 'train_00290_manu_attri.txt',\n",
       " 'train_00285_manu_attri.txt',\n",
       " 'train_01261_manu_attri.txt',\n",
       " 'train_01274_manu_attri.txt',\n",
       " 'test_2596_manu_attri.txt',\n",
       " 'test_2583_manu_attri.txt',\n",
       " 'train_00968_manu_attri.txt',\n",
       " 'train_02799_manu_attri.txt',\n",
       " 'train_05152_manu_attri.txt',\n",
       " 'train_05147_manu_attri.txt',\n",
       " 'train_07613_manu_attri.txt',\n",
       " 'train_07606_manu_attri.txt',\n",
       " 'train_10241_manu_attri.txt',\n",
       " 'train_10254_manu_attri.txt',\n",
       " 'train_03520_manu_attri.txt',\n",
       " 'train_11948_manu_attri.txt',\n",
       " 'train_03535_manu_attri.txt',\n",
       " 'train_01029_manu_attri.txt',\n",
       " 'train_04806_manu_attri.txt',\n",
       " 'test_1226_manu_attri.txt',\n",
       " 'test_1233_manu_attri.txt',\n",
       " 'train_04813_manu_attri.txt',\n",
       " 'train_03775_manu_attri.txt',\n",
       " 'train_03760_manu_attri.txt',\n",
       " 'train_01991_manu_attri.txt',\n",
       " 'train_01984_manu_attri.txt',\n",
       " 'train_07446_manu_attri.txt',\n",
       " 'train_07453_manu_attri.txt',\n",
       " 'train_00298_manu_attri.txt',\n",
       " 'test_0082_manu_attri.txt',\n",
       " 'train_10014_manu_attri.txt',\n",
       " 'test_0097_manu_attri.txt',\n",
       " 'train_10001_manu_attri.txt',\n",
       " 'train_01269_manu_attri.txt',\n",
       " 'test_1073_manu_attri.txt',\n",
       " 'test_1066_manu_attri.txt',\n",
       " 'train_02784_manu_attri.txt',\n",
       " 'train_02791_manu_attri.txt',\n",
       " 'train_00960_manu_attri.txt',\n",
       " 'train_00975_manu_attri.txt',\n",
       " 'train_10249_manu_attri.txt',\n",
       " 'train_11940_manu_attri.txt',\n",
       " 'train_09647_manu_attri.txt',\n",
       " 'train_03528_manu_attri.txt',\n",
       " 'train_09652_manu_attri.txt',\n",
       " 'train_11955_manu_attri.txt',\n",
       " 'test_0927_manu_attri.txt',\n",
       " 'train_05307_manu_attri.txt',\n",
       " 'train_05312_manu_attri.txt',\n",
       " 'test_0932_manu_attri.txt',\n",
       " 'train_01034_manu_attri.txt',\n",
       " 'train_01021_manu_attri.txt',\n",
       " 'train_00699_manu_attri.txt',\n",
       " 'train_07052_manu_attri.txt',\n",
       " 'train_07047_manu_attri.txt',\n",
       " 'train_10400_manu_attri.txt',\n",
       " 'test_0496_manu_attri.txt',\n",
       " 'train_02868_manu_attri.txt',\n",
       " 'train_10415_manu_attri.txt',\n",
       " 'test_0483_manu_attri.txt',\n",
       " 'train_03361_manu_attri.txt',\n",
       " 'train_03374_manu_attri.txt',\n",
       " 'train_02390_manu_attri.txt',\n",
       " 'train_02385_manu_attri.txt',\n",
       " 'train_12109_manu_attri.txt',\n",
       " 'train_01668_manu_attri.txt',\n",
       " 'test_1467_manu_attri.txt',\n",
       " 'train_03899_manu_attri.txt',\n",
       " 'test_1472_manu_attri.txt',\n",
       " 'train_06906_manu_attri.txt',\n",
       " 'train_06913_manu_attri.txt',\n",
       " 'train_03129_manu_attri.txt',\n",
       " 'train_09253_manu_attri.txt',\n",
       " 'train_09246_manu_attri.txt',\n",
       " 'train_10648_manu_attri.txt',\n",
       " 'train_01420_manu_attri.txt',\n",
       " 'train_01435_manu_attri.txt',\n",
       " 'train_05713_manu_attri.txt',\n",
       " 'train_05706_manu_attri.txt',\n",
       " 'test_0352_manu_attri.txt',\n",
       " 'train_05972_manu_attri.txt',\n",
       " 'train_05967_manu_attri.txt',\n",
       " 'test_0347_manu_attri.txt',\n",
       " 'train_07796_manu_attri.txt',\n",
       " 'train_00148_manu_attri.txt',\n",
       " 'train_07783_manu_attri.txt',\n",
       " 'train_11335_manu_attri.txt',\n",
       " 'train_04983_manu_attri.txt',\n",
       " 'train_04996_manu_attri.txt',\n",
       " 'train_11320_manu_attri.txt',\n",
       " 'train_06767_manu_attri.txt',\n",
       " 'train_06772_manu_attri.txt',\n",
       " 'train_10829_manu_attri.txt',\n",
       " 'train_02454_manu_attri.txt',\n",
       " 'train_02441_manu_attri.txt',\n",
       " 'train_00315_manu_attri.txt',\n",
       " 'train_00300_manu_attri.txt',\n",
       " 'train_10199_manu_attri.txt',\n",
       " 'train_04026_manu_attri.txt',\n",
       " 'train_09597_manu_attri.txt',\n",
       " 'train_09582_manu_attri.txt',\n",
       " 'train_04033_manu_attri.txt',\n",
       " 'train_01809_manu_attri.txt',\n",
       " 'train_08566_manu_attri.txt',\n",
       " 'train_08573_manu_attri.txt',\n",
       " 'train_02609_manu_attri.txt',\n",
       " 'test_2413_manu_attri.txt',\n",
       " 'test_2406_manu_attri.txt',\n",
       " 'train_11168_manu_attri.txt',\n",
       " 'test_0746_manu_attri.txt',\n",
       " 'test_0753_manu_attri.txt',\n",
       " 'train_07382_manu_attri.txt',\n",
       " 'train_00549_manu_attri.txt',\n",
       " 'train_07397_manu_attri.txt',\n",
       " 'train_02040_manu_attri.txt',\n",
       " 'train_02055_manu_attri.txt',\n",
       " 'train_11721_manu_attri.txt',\n",
       " 'train_09826_manu_attri.txt',\n",
       " 'train_09833_manu_attri.txt',\n",
       " 'train_11734_manu_attri.txt',\n",
       " 'train_06373_manu_attri.txt',\n",
       " 'train_06366_manu_attri.txt',\n",
       " 'train_09183_manu_attri.txt',\n",
       " 'train_04432_manu_attri.txt',\n",
       " 'train_04427_manu_attri.txt',\n",
       " 'train_09196_manu_attri.txt',\n",
       " 'train_00701_manu_attri.txt',\n",
       " 'train_00714_manu_attri.txt',\n",
       " 'train_10598_manu_attri.txt',\n",
       " 'train_11569_manu_attri.txt',\n",
       " 'train_03914_manu_attri.txt',\n",
       " 'train_03901_manu_attri.txt',\n",
       " 'train_08172_manu_attri.txt',\n",
       " 'train_02208_manu_attri.txt',\n",
       " 'train_08167_manu_attri.txt',\n",
       " 'train_12091_manu_attri.txt',\n",
       " 'test_2007_manu_attri.txt',\n",
       " 'train_12084_manu_attri.txt',\n",
       " 'test_2012_manu_attri.txt',\n",
       " 'train_01887_manu_attri.txt',\n",
       " 'train_01892_manu_attri.txt',\n",
       " 'train_03663_manu_attri.txt',\n",
       " 'train_09519_manu_attri.txt',\n",
       " 'train_03676_manu_attri.txt',\n",
       " 'train_10102_manu_attri.txt',\n",
       " 'test_0194_manu_attri.txt',\n",
       " 'train_10117_manu_attri.txt',\n",
       " 'test_0181_manu_attri.txt',\n",
       " 'train_07550_manu_attri.txt',\n",
       " 'train_07545_manu_attri.txt',\n",
       " 'test_1165_manu_attri.txt',\n",
       " 'test_1170_manu_attri.txt',\n",
       " 'train_00876_manu_attri.txt',\n",
       " 'train_00863_manu_attri.txt',\n",
       " 'test_2488_manu_attri.txt',\n",
       " 'train_05059_manu_attri.txt',\n",
       " 'train_02692_manu_attri.txt',\n",
       " 'train_02687_manu_attri.txt',\n",
       " 'train_07718_manu_attri.txt',\n",
       " 'train_09751_manu_attri.txt',\n",
       " 'train_11856_manu_attri.txt',\n",
       " 'train_11843_manu_attri.txt',\n",
       " 'train_09744_manu_attri.txt',\n",
       " 'test_0831_manu_attri.txt',\n",
       " 'train_05211_manu_attri.txt',\n",
       " 'train_05204_manu_attri.txt',\n",
       " 'test_0824_manu_attri.txt',\n",
       " 'train_01122_manu_attri.txt',\n",
       " 'train_01137_manu_attri.txt',\n",
       " 'train_04918_manu_attri.txt',\n",
       " 'test_1338_manu_attri.txt',\n",
       " 'test_0580_manu_attri.txt',\n",
       " 'train_10516_manu_attri.txt',\n",
       " 'test_0595_manu_attri.txt',\n",
       " 'train_10503_manu_attri.txt',\n",
       " 'train_07144_manu_attri.txt',\n",
       " 'train_07151_manu_attri.txt',\n",
       " 'train_03277_manu_attri.txt',\n",
       " 'train_03262_manu_attri.txt',\n",
       " 'train_09118_manu_attri.txt',\n",
       " 'test_2089_manu_attri.txt',\n",
       " 'train_02286_manu_attri.txt',\n",
       " 'train_02293_manu_attri.txt',\n",
       " 'train_05458_manu_attri.txt',\n",
       " 'test_1571_manu_attri.txt',\n",
       " 'test_1564_manu_attri.txt',\n",
       " 'train_09345_manu_attri.txt',\n",
       " 'train_09350_manu_attri.txt',\n",
       " 'train_06810_manu_attri.txt',\n",
       " 'train_06805_manu_attri.txt',\n",
       " 'train_07319_manu_attri.txt',\n",
       " 'test_2939_manu_attri.txt',\n",
       " 'train_08859_manu_attri.txt',\n",
       " 'train_01536_manu_attri.txt',\n",
       " 'train_01523_manu_attri.txt',\n",
       " 'test_1739_manu_attri.txt',\n",
       " 'train_05605_manu_attri.txt',\n",
       " 'train_05610_manu_attri.txt',\n",
       " 'train_12257_manu_attri.txt',\n",
       " 'train_12242_manu_attri.txt',\n",
       " 'test_1958_manu_attri.txt',\n",
       " 'train_04378_manu_attri.txt',\n",
       " 'train_07680_manu_attri.txt',\n",
       " 'train_07695_manu_attri.txt',\n",
       " 'test_0244_manu_attri.txt',\n",
       " 'train_05864_manu_attri.txt',\n",
       " 'train_05871_manu_attri.txt',\n",
       " 'test_0251_manu_attri.txt',\n",
       " 'train_06671_manu_attri.txt',\n",
       " 'train_06664_manu_attri.txt',\n",
       " 'train_11223_manu_attri.txt',\n",
       " 'train_04895_manu_attri.txt',\n",
       " 'train_04880_manu_attri.txt',\n",
       " 'train_11236_manu_attri.txt',\n",
       " 'train_08638_manu_attri.txt',\n",
       " 'train_02542_manu_attri.txt',\n",
       " 'train_05389_manu_attri.txt',\n",
       " 'train_02557_manu_attri.txt',\n",
       " 'test_2758_manu_attri.txt',\n",
       " 'test_0019_manu_attri.txt',\n",
       " 'train_00203_manu_attri.txt',\n",
       " 'train_00216_manu_attri.txt',\n",
       " 'train_04130_manu_attri.txt',\n",
       " 'train_09481_manu_attri.txt',\n",
       " 'train_09494_manu_attri.txt',\n",
       " 'train_04125_manu_attri.txt',\n",
       " 'test_2505_manu_attri.txt',\n",
       " 'test_2510_manu_attri.txt',\n",
       " 'train_08470_manu_attri.txt',\n",
       " 'train_08465_manu_attri.txt',\n",
       " 'train_06439_manu_attri.txt',\n",
       " 'train_07294_manu_attri.txt',\n",
       " 'train_07281_manu_attri.txt',\n",
       " 'test_0650_manu_attri.txt',\n",
       " 'test_0645_manu_attri.txt',\n",
       " 'train_04779_manu_attri.txt',\n",
       " 'train_06988_manu_attri.txt',\n",
       " 'train_02156_manu_attri.txt',\n",
       " 'train_08239_manu_attri.txt',\n",
       " 'train_05788_manu_attri.txt',\n",
       " 'train_02143_manu_attri.txt',\n",
       " 'test_2359_manu_attri.txt',\n",
       " 'train_07979_manu_attri.txt',\n",
       " 'train_06265_manu_attri.txt',\n",
       " 'train_06270_manu_attri.txt',\n",
       " 'train_09930_manu_attri.txt',\n",
       " 'train_11637_manu_attri.txt',\n",
       " 'train_11622_manu_attri.txt',\n",
       " 'train_09925_manu_attri.txt',\n",
       " 'train_09095_manu_attri.txt',\n",
       " 'train_04524_manu_attri.txt',\n",
       " 'train_04531_manu_attri.txt',\n",
       " 'train_09080_manu_attri.txt',\n",
       " 'test_0418_manu_attri.txt',\n",
       " 'train_00617_manu_attri.txt',\n",
       " 'train_00602_manu_attri.txt',\n",
       " 'train_03802_manu_attri.txt',\n",
       " 'train_03817_manu_attri.txt',\n",
       " 'train_06038_manu_attri.txt',\n",
       " 'test_2111_manu_attri.txt',\n",
       " 'train_12187_manu_attri.txt',\n",
       " 'test_2104_manu_attri.txt',\n",
       " 'train_12192_manu_attri.txt',\n",
       " 'train_08064_manu_attri.txt',\n",
       " 'train_08071_manu_attri.txt',\n",
       " 'train_10238_manu_attri.txt',\n",
       " 'train_09623_manu_attri.txt',\n",
       " 'train_11924_manu_attri.txt',\n",
       " 'train_03559_manu_attri.txt',\n",
       " 'train_04392_manu_attri.txt',\n",
       " 'train_04387_manu_attri.txt',\n",
       " 'train_11931_manu_attri.txt',\n",
       " 'train_09636_manu_attri.txt',\n",
       " 'test_0943_manu_attri.txt',\n",
       " 'train_05363_manu_attri.txt',\n",
       " 'train_05376_manu_attri.txt',\n",
       " 'test_0956_manu_attri.txt',\n",
       " 'train_01050_manu_attri.txt',\n",
       " 'train_01045_manu_attri.txt',\n",
       " 'train_03711_manu_attri.txt',\n",
       " 'train_03704_manu_attri.txt',\n",
       " 'train_10070_manu_attri.txt',\n",
       " 'train_10065_manu_attri.txt',\n",
       " 'train_07422_manu_attri.txt',\n",
       " 'train_07437_manu_attri.txt',\n",
       " 'test_1017_manu_attri.txt',\n",
       " 'train_11081_manu_attri.txt',\n",
       " 'test_1002_manu_attri.txt',\n",
       " 'train_11094_manu_attri.txt',\n",
       " 'train_01218_manu_attri.txt',\n",
       " 'train_00904_manu_attri.txt',\n",
       " 'train_00911_manu_attri.txt',\n",
       " 'train_04786_manu_attri.txt',\n",
       " 'train_09237_manu_attri.txt',\n",
       " 'train_09222_manu_attri.txt',\n",
       " 'train_04793_manu_attri.txt',\n",
       " 'train_03158_manu_attri.txt',\n",
       " 'train_06962_manu_attri.txt',\n",
       " 'train_06977_manu_attri.txt',\n",
       " 'train_10639_manu_attri.txt',\n",
       " 'train_01444_manu_attri.txt',\n",
       " 'train_01451_manu_attri.txt',\n",
       " 'train_05777_manu_attri.txt',\n",
       " 'train_05762_manu_attri.txt',\n",
       " 'train_07993_manu_attri.txt',\n",
       " 'train_07986_manu_attri.txt',\n",
       " 'train_10464_manu_attri.txt',\n",
       " 'train_02819_manu_attri.txt',\n",
       " 'train_10471_manu_attri.txt',\n",
       " 'train_07036_manu_attri.txt',\n",
       " 'train_07023_manu_attri.txt',\n",
       " 'train_03305_manu_attri.txt',\n",
       " 'train_03310_manu_attri.txt',\n",
       " 'train_12178_manu_attri.txt',\n",
       " 'train_11495_manu_attri.txt',\n",
       " 'test_1403_manu_attri.txt',\n",
       " 'train_11480_manu_attri.txt',\n",
       " 'test_1416_manu_attri.txt',\n",
       " 'train_01619_manu_attri.txt',\n",
       " 'train_00371_manu_attri.txt',\n",
       " 'train_00364_manu_attri.txt',\n",
       " 'train_01878_manu_attri.txt',\n",
       " 'train_04042_manu_attri.txt',\n",
       " 'train_03689_manu_attri.txt',\n",
       " 'train_04057_manu_attri.txt',\n",
       " 'test_2477_manu_attri.txt',\n",
       " 'train_00889_manu_attri.txt',\n",
       " 'test_2462_manu_attri.txt',\n",
       " 'train_02678_manu_attri.txt',\n",
       " 'train_08502_manu_attri.txt',\n",
       " 'train_08517_manu_attri.txt',\n",
       " 'train_11119_manu_attri.txt',\n",
       " 'train_01380_manu_attri.txt',\n",
       " 'train_01395_manu_attri.txt',\n",
       " 'train_00139_manu_attri.txt',\n",
       " 'test_0336_manu_attri.txt',\n",
       " 'train_05916_manu_attri.txt',\n",
       " 'train_05903_manu_attri.txt',\n",
       " 'test_0323_manu_attri.txt',\n",
       " 'train_06703_manu_attri.txt',\n",
       " 'train_06716_manu_attri.txt',\n",
       " 'train_11351_manu_attri.txt',\n",
       " 'train_11344_manu_attri.txt',\n",
       " 'train_02430_manu_attri.txt',\n",
       " 'train_02425_manu_attri.txt',\n",
       " 'train_10858_manu_attri.txt',\n",
       " 'train_04456_manu_attri.txt',\n",
       " 'train_03288_manu_attri.txt',\n",
       " 'train_04443_manu_attri.txt',\n",
       " 'train_02981_manu_attri.txt',\n",
       " 'train_02994_manu_attri.txt',\n",
       " 'train_00765_manu_attri.txt',\n",
       " 'train_00770_manu_attri.txt',\n",
       " 'train_03970_manu_attri.txt',\n",
       " 'train_03965_manu_attri.txt',\n",
       " 'train_11518_manu_attri.txt',\n",
       " 'train_01794_manu_attri.txt',\n",
       " 'train_01781_manu_attri.txt',\n",
       " 'test_2063_manu_attri.txt',\n",
       " 'test_2076_manu_attri.txt',\n",
       " 'train_08116_manu_attri.txt',\n",
       " 'train_02279_manu_attri.txt',\n",
       " 'train_08103_manu_attri.txt',\n",
       " 'train_00538_manu_attri.txt',\n",
       " 'test_0722_manu_attri.txt',\n",
       " 'test_0737_manu_attri.txt',\n",
       " 'train_02024_manu_attri.txt',\n",
       " 'train_02031_manu_attri.txt',\n",
       " 'train_06317_manu_attri.txt',\n",
       " 'train_06302_manu_attri.txt',\n",
       " 'train_09842_manu_attri.txt',\n",
       " 'train_11745_manu_attri.txt',\n",
       " 'train_11750_manu_attri.txt',\n",
       " 'train_09857_manu_attri.txt',\n",
       " 'train_05998_manu_attri.txt',\n",
       " 'train_07769_manu_attri.txt',\n",
       " 'train_11832_manu_attri.txt',\n",
       " 'train_09735_manu_attri.txt',\n",
       " 'train_04284_manu_attri.txt',\n",
       " 'train_04291_manu_attri.txt',\n",
       " 'train_09720_manu_attri.txt',\n",
       " 'train_11827_manu_attri.txt',\n",
       " 'test_0855_manu_attri.txt',\n",
       " 'train_05275_manu_attri.txt',\n",
       " 'train_05260_manu_attri.txt',\n",
       " 'test_0840_manu_attri.txt',\n",
       " 'test_1349_manu_attri.txt',\n",
       " 'train_04969_manu_attri.txt',\n",
       " 'train_01146_manu_attri.txt',\n",
       " 'train_01153_manu_attri.txt',\n",
       " 'train_06798_manu_attri.txt',\n",
       " 'train_03607_manu_attri.txt',\n",
       " 'train_09568_manu_attri.txt',\n",
       " 'train_03612_manu_attri.txt',\n",
       " 'train_07534_manu_attri.txt',\n",
       " 'train_07521_manu_attri.txt',\n",
       " 'train_10166_manu_attri.txt',\n",
       " 'train_10173_manu_attri.txt',\n",
       " 'train_11197_manu_attri.txt',\n",
       " 'test_1101_manu_attri.txt',\n",
       " 'train_11182_manu_attri.txt',\n",
       " 'test_1114_manu_attri.txt',\n",
       " 'train_08599_manu_attri.txt',\n",
       " 'train_05028_manu_attri.txt',\n",
       " 'train_00812_manu_attri.txt',\n",
       " 'train_00807_manu_attri.txt',\n",
       " 'train_06874_manu_attri.txt',\n",
       " 'train_06861_manu_attri.txt',\n",
       " 'train_04690_manu_attri.txt',\n",
       " 'train_09321_manu_attri.txt',\n",
       " 'train_09334_manu_attri.txt',\n",
       " 'train_04685_manu_attri.txt',\n",
       " 'train_08828_manu_attri.txt',\n",
       " 'test_2948_manu_attri.txt',\n",
       " 'train_07368_manu_attri.txt',\n",
       " 'test_1748_manu_attri.txt',\n",
       " 'train_06399_manu_attri.txt',\n",
       " 'train_01552_manu_attri.txt',\n",
       " 'train_01547_manu_attri.txt',\n",
       " 'train_12233_manu_attri.txt',\n",
       " 'train_07885_manu_attri.txt',\n",
       " 'train_07890_manu_attri.txt',\n",
       " 'train_12226_manu_attri.txt',\n",
       " 'train_05661_manu_attri.txt',\n",
       " 'train_05674_manu_attri.txt',\n",
       " 'train_07120_manu_attri.txt',\n",
       " 'train_07135_manu_attri.txt',\n",
       " 'train_10572_manu_attri.txt',\n",
       " 'train_10567_manu_attri.txt',\n",
       " 'train_09169_manu_attri.txt',\n",
       " 'train_03213_manu_attri.txt',\n",
       " 'train_03206_manu_attri.txt',\n",
       " 'test_3009_manu_attri.txt',\n",
       " 'train_08198_manu_attri.txt',\n",
       " 'train_05429_manu_attri.txt',\n",
       " 'test_1515_manu_attri.txt',\n",
       " 'train_11583_manu_attri.txt',\n",
       " 'test_1500_manu_attri.txt',\n",
       " 'train_11596_manu_attri.txt',\n",
       " 'train_00267_manu_attri.txt',\n",
       " 'train_00272_manu_attri.txt',\n",
       " 'test_0068_manu_attri.txt',\n",
       " 'train_04154_manu_attri.txt',\n",
       " 'train_04141_manu_attri.txt',\n",
       " 'train_08414_manu_attri.txt',\n",
       " 'train_08401_manu_attri.txt',\n",
       " 'test_2561_manu_attri.txt',\n",
       " 'test_2574_manu_attri.txt',\n",
       " 'train_01296_manu_attri.txt',\n",
       " 'train_06448_manu_attri.txt',\n",
       " 'train_01283_manu_attri.txt',\n",
       " 'test_1099_manu_attri.txt',\n",
       " 'train_04309_manu_attri.txt',\n",
       " 'test_1929_manu_attri.txt',\n",
       " 'test_0220_manu_attri.txt',\n",
       " 'train_05800_manu_attri.txt',\n",
       " 'train_05815_manu_attri.txt',\n",
       " 'test_0235_manu_attri.txt',\n",
       " 'train_11247_manu_attri.txt',\n",
       " 'train_11252_manu_attri.txt',\n",
       " 'train_06615_manu_attri.txt',\n",
       " 'train_06600_manu_attri.txt',\n",
       " 'test_2729_manu_attri.txt',\n",
       " 'train_02526_manu_attri.txt',\n",
       " 'train_02533_manu_attri.txt',\n",
       " 'train_08649_manu_attri.txt',\n",
       " 'train_04540_manu_attri.txt',\n",
       " 'train_04555_manu_attri.txt',\n",
       " 'train_00673_manu_attri.txt',\n",
       " 'train_00666_manu_attri.txt',\n",
       " 'train_02897_manu_attri.txt',\n",
       " 'train_02882_manu_attri.txt',\n",
       " 'test_0469_manu_attri.txt',\n",
       " 'train_01682_manu_attri.txt',\n",
       " 'train_06049_manu_attri.txt',\n",
       " 'train_01697_manu_attri.txt',\n",
       " 'train_03866_manu_attri.txt',\n",
       " 'train_03873_manu_attri.txt',\n",
       " 'test_1498_manu_attri.txt',\n",
       " 'train_08000_manu_attri.txt',\n",
       " 'train_08015_manu_attri.txt',\n",
       " 'test_2175_manu_attri.txt',\n",
       " 'test_2160_manu_attri.txt',\n",
       " 'test_0634_manu_attri.txt',\n",
       " 'test_0621_manu_attri.txt',\n",
       " 'train_04708_manu_attri.txt',\n",
       " 'train_07908_manu_attri.txt',\n",
       " 'test_2328_manu_attri.txt',\n",
       " 'train_02132_manu_attri.txt',\n",
       " 'train_08248_manu_attri.txt',\n",
       " 'train_02127_manu_attri.txt',\n",
       " 'train_11653_manu_attri.txt',\n",
       " 'train_09954_manu_attri.txt',\n",
       " 'train_09941_manu_attri.txt',\n",
       " 'train_11646_manu_attri.txt',\n",
       " 'train_06201_manu_attri.txt',\n",
       " 'train_06214_manu_attri.txt',\n",
       " 'test_1018_manu_attri.txt',\n",
       " 'train_01217_manu_attri.txt',\n",
       " 'train_01202_manu_attri.txt',\n",
       " 'train_08495_manu_attri.txt',\n",
       " 'train_05124_manu_attri.txt',\n",
       " 'train_05131_manu_attri.txt',\n",
       " 'train_08480_manu_attri.txt',\n",
       " 'train_09464_manu_attri.txt',\n",
       " 'train_09471_manu_attri.txt',\n",
       " 'train_07438_manu_attri.txt',\n",
       " 'test_0959_manu_attri.txt',\n",
       " 'train_05379_manu_attri.txt',\n",
       " 'train_06694_manu_attri.txt',\n",
       " 'train_06681_manu_attri.txt',\n",
       " 'train_04870_manu_attri.txt',\n",
       " 'test_1250_manu_attri.txt',\n",
       " 'test_1245_manu_attri.txt',\n",
       " 'train_04865_manu_attri.txt',\n",
       " 'train_07665_manu_attri.txt',\n",
       " 'train_07670_manu_attri.txt',\n",
       " 'train_05881_manu_attri.txt',\n",
       " 'train_10237_manu_attri.txt',\n",
       " 'train_10222_manu_attri.txt',\n",
       " 'train_05894_manu_attri.txt',\n",
       " 'train_03556_manu_attri.txt',\n",
       " 'train_09639_manu_attri.txt',\n",
       " 'train_04388_manu_attri.txt',\n",
       " 'train_03543_manu_attri.txt',\n",
       " 'train_12162_manu_attri.txt',\n",
       " 'train_12177_manu_attri.txt',\n",
       " 'train_05530_manu_attri.txt',\n",
       " 'train_08081_manu_attri.txt',\n",
       " 'train_08094_manu_attri.txt',\n",
       " 'train_05525_manu_attri.txt',\n",
       " 'test_1419_manu_attri.txt',\n",
       " 'train_01603_manu_attri.txt',\n",
       " 'train_01616_manu_attri.txt',\n",
       " ...]"
      ]
     },
     "execution_count": 152,
     "metadata": {},
     "output_type": "execute_result"
    }
   ],
   "source": [
    "from os import listdir\n",
    "from os.path import isfile, join\n",
    "mypath = 'RAF-DB/Basic_Emotion/Annotation/manual'\n",
    "listdir(mypath)"
   ]
  },
  {
   "cell_type": "code",
   "execution_count": 153,
   "metadata": {},
   "outputs": [
    {
     "data": {
      "text/plain": [
       "15339"
      ]
     },
     "execution_count": 153,
     "metadata": {},
     "output_type": "execute_result"
    }
   ],
   "source": [
    "len(listdir(mypath))"
   ]
  },
  {
   "cell_type": "code",
   "execution_count": 31,
   "metadata": {},
   "outputs": [
    {
     "data": {
      "text/plain": [
       "15339"
      ]
     },
     "execution_count": 31,
     "metadata": {},
     "output_type": "execute_result"
    }
   ],
   "source": [
    "onlyfiles = [f for f in listdir(mypath) if isfile(join(mypath, f))]\n",
    "len(onlyfiles)"
   ]
  },
  {
   "cell_type": "code",
   "execution_count": 32,
   "metadata": {},
   "outputs": [
    {
     "name": "stdout",
     "output_type": "stream",
     "text": [
      "0\n",
      "1000\n",
      "2000\n",
      "3000\n",
      "4000\n",
      "5000\n",
      "6000\n",
      "7000\n",
      "8000\n",
      "9000\n",
      "10000\n",
      "11000\n",
      "12000\n"
     ]
    }
   ],
   "source": [
    "for index, row in frame.iterrows():\n",
    "    if index % 1000 == 0: print(index)\n",
    "    name = row['ImageName'][:-12] + \"_manu_attri.txt\"\n",
    "    myfile = open(mypath +\"/\" + name,\"r\") \n",
    "    frame.loc[index, \"Age\"] = int(myfile.readlines()[7][0])"
   ]
  },
  {
   "cell_type": "code",
   "execution_count": 33,
   "metadata": {},
   "outputs": [
    {
     "data": {
      "text/html": [
       "<div>\n",
       "<style scoped>\n",
       "    .dataframe tbody tr th:only-of-type {\n",
       "        vertical-align: middle;\n",
       "    }\n",
       "\n",
       "    .dataframe tbody tr th {\n",
       "        vertical-align: top;\n",
       "    }\n",
       "\n",
       "    .dataframe thead th {\n",
       "        text-align: right;\n",
       "    }\n",
       "</style>\n",
       "<table border=\"1\" class=\"dataframe\">\n",
       "  <thead>\n",
       "    <tr style=\"text-align: right;\">\n",
       "      <th></th>\n",
       "      <th>ImageName</th>\n",
       "      <th>face</th>\n",
       "      <th>confidence</th>\n",
       "      <th>Emotion</th>\n",
       "      <th>Happy</th>\n",
       "      <th>Gender</th>\n",
       "      <th>AU01_c</th>\n",
       "      <th>AU02_c</th>\n",
       "      <th>AU04_c</th>\n",
       "      <th>AU05_c</th>\n",
       "      <th>...</th>\n",
       "      <th>AU06_r_c</th>\n",
       "      <th>AU09_r_c</th>\n",
       "      <th>AU10_r_c</th>\n",
       "      <th>AU12_r_c</th>\n",
       "      <th>AU15_r_c</th>\n",
       "      <th>AU17_r_c</th>\n",
       "      <th>AU20_r_c</th>\n",
       "      <th>AU25_r_c</th>\n",
       "      <th>AU26_r_c</th>\n",
       "      <th>Age</th>\n",
       "    </tr>\n",
       "  </thead>\n",
       "  <tbody>\n",
       "    <tr>\n",
       "      <th>0</th>\n",
       "      <td>test_0001_aligned.jpg</td>\n",
       "      <td>0</td>\n",
       "      <td>0.925</td>\n",
       "      <td>5</td>\n",
       "      <td>0</td>\n",
       "      <td>1.0</td>\n",
       "      <td>1.0</td>\n",
       "      <td>1.0</td>\n",
       "      <td>0.0</td>\n",
       "      <td>0.0</td>\n",
       "      <td>...</td>\n",
       "      <td>0</td>\n",
       "      <td>0</td>\n",
       "      <td>0</td>\n",
       "      <td>0</td>\n",
       "      <td>0</td>\n",
       "      <td>0</td>\n",
       "      <td>0</td>\n",
       "      <td>0</td>\n",
       "      <td>0</td>\n",
       "      <td>2.0</td>\n",
       "    </tr>\n",
       "    <tr>\n",
       "      <th>1</th>\n",
       "      <td>test_0002_aligned.jpg</td>\n",
       "      <td>0</td>\n",
       "      <td>0.975</td>\n",
       "      <td>1</td>\n",
       "      <td>0</td>\n",
       "      <td>1.0</td>\n",
       "      <td>1.0</td>\n",
       "      <td>1.0</td>\n",
       "      <td>1.0</td>\n",
       "      <td>1.0</td>\n",
       "      <td>...</td>\n",
       "      <td>0</td>\n",
       "      <td>0</td>\n",
       "      <td>0</td>\n",
       "      <td>0</td>\n",
       "      <td>0</td>\n",
       "      <td>0</td>\n",
       "      <td>0</td>\n",
       "      <td>0</td>\n",
       "      <td>0</td>\n",
       "      <td>1.0</td>\n",
       "    </tr>\n",
       "    <tr>\n",
       "      <th>2</th>\n",
       "      <td>test_0004_aligned.jpg</td>\n",
       "      <td>0</td>\n",
       "      <td>0.825</td>\n",
       "      <td>1</td>\n",
       "      <td>0</td>\n",
       "      <td>1.0</td>\n",
       "      <td>0.0</td>\n",
       "      <td>1.0</td>\n",
       "      <td>1.0</td>\n",
       "      <td>0.0</td>\n",
       "      <td>...</td>\n",
       "      <td>0</td>\n",
       "      <td>0</td>\n",
       "      <td>0</td>\n",
       "      <td>0</td>\n",
       "      <td>0</td>\n",
       "      <td>0</td>\n",
       "      <td>0</td>\n",
       "      <td>0</td>\n",
       "      <td>0</td>\n",
       "      <td>2.0</td>\n",
       "    </tr>\n",
       "    <tr>\n",
       "      <th>3</th>\n",
       "      <td>test_0006_aligned.jpg</td>\n",
       "      <td>0</td>\n",
       "      <td>0.875</td>\n",
       "      <td>5</td>\n",
       "      <td>0</td>\n",
       "      <td>1.0</td>\n",
       "      <td>1.0</td>\n",
       "      <td>0.0</td>\n",
       "      <td>1.0</td>\n",
       "      <td>0.0</td>\n",
       "      <td>...</td>\n",
       "      <td>0</td>\n",
       "      <td>0</td>\n",
       "      <td>0</td>\n",
       "      <td>0</td>\n",
       "      <td>0</td>\n",
       "      <td>0</td>\n",
       "      <td>0</td>\n",
       "      <td>0</td>\n",
       "      <td>0</td>\n",
       "      <td>2.0</td>\n",
       "    </tr>\n",
       "    <tr>\n",
       "      <th>4</th>\n",
       "      <td>test_0007_aligned.jpg</td>\n",
       "      <td>0</td>\n",
       "      <td>0.975</td>\n",
       "      <td>3</td>\n",
       "      <td>0</td>\n",
       "      <td>0.0</td>\n",
       "      <td>0.0</td>\n",
       "      <td>0.0</td>\n",
       "      <td>1.0</td>\n",
       "      <td>0.0</td>\n",
       "      <td>...</td>\n",
       "      <td>0</td>\n",
       "      <td>0</td>\n",
       "      <td>1</td>\n",
       "      <td>0</td>\n",
       "      <td>1</td>\n",
       "      <td>0</td>\n",
       "      <td>0</td>\n",
       "      <td>0</td>\n",
       "      <td>0</td>\n",
       "      <td>2.0</td>\n",
       "    </tr>\n",
       "    <tr>\n",
       "      <th>...</th>\n",
       "      <td>...</td>\n",
       "      <td>...</td>\n",
       "      <td>...</td>\n",
       "      <td>...</td>\n",
       "      <td>...</td>\n",
       "      <td>...</td>\n",
       "      <td>...</td>\n",
       "      <td>...</td>\n",
       "      <td>...</td>\n",
       "      <td>...</td>\n",
       "      <td>...</td>\n",
       "      <td>...</td>\n",
       "      <td>...</td>\n",
       "      <td>...</td>\n",
       "      <td>...</td>\n",
       "      <td>...</td>\n",
       "      <td>...</td>\n",
       "      <td>...</td>\n",
       "      <td>...</td>\n",
       "      <td>...</td>\n",
       "      <td>...</td>\n",
       "    </tr>\n",
       "    <tr>\n",
       "      <th>12209</th>\n",
       "      <td>train_12266_aligned.jpg</td>\n",
       "      <td>0</td>\n",
       "      <td>0.925</td>\n",
       "      <td>7</td>\n",
       "      <td>0</td>\n",
       "      <td>1.0</td>\n",
       "      <td>0.0</td>\n",
       "      <td>0.0</td>\n",
       "      <td>1.0</td>\n",
       "      <td>0.0</td>\n",
       "      <td>...</td>\n",
       "      <td>0</td>\n",
       "      <td>0</td>\n",
       "      <td>0</td>\n",
       "      <td>0</td>\n",
       "      <td>0</td>\n",
       "      <td>0</td>\n",
       "      <td>0</td>\n",
       "      <td>0</td>\n",
       "      <td>0</td>\n",
       "      <td>1.0</td>\n",
       "    </tr>\n",
       "    <tr>\n",
       "      <th>12210</th>\n",
       "      <td>train_12267_aligned.jpg</td>\n",
       "      <td>0</td>\n",
       "      <td>0.975</td>\n",
       "      <td>7</td>\n",
       "      <td>0</td>\n",
       "      <td>0.0</td>\n",
       "      <td>0.0</td>\n",
       "      <td>0.0</td>\n",
       "      <td>1.0</td>\n",
       "      <td>0.0</td>\n",
       "      <td>...</td>\n",
       "      <td>0</td>\n",
       "      <td>0</td>\n",
       "      <td>1</td>\n",
       "      <td>0</td>\n",
       "      <td>0</td>\n",
       "      <td>0</td>\n",
       "      <td>0</td>\n",
       "      <td>0</td>\n",
       "      <td>0</td>\n",
       "      <td>1.0</td>\n",
       "    </tr>\n",
       "    <tr>\n",
       "      <th>12211</th>\n",
       "      <td>train_12268_aligned.jpg</td>\n",
       "      <td>0</td>\n",
       "      <td>0.875</td>\n",
       "      <td>7</td>\n",
       "      <td>0</td>\n",
       "      <td>0.0</td>\n",
       "      <td>0.0</td>\n",
       "      <td>1.0</td>\n",
       "      <td>1.0</td>\n",
       "      <td>0.0</td>\n",
       "      <td>...</td>\n",
       "      <td>0</td>\n",
       "      <td>0</td>\n",
       "      <td>0</td>\n",
       "      <td>0</td>\n",
       "      <td>1</td>\n",
       "      <td>0</td>\n",
       "      <td>0</td>\n",
       "      <td>0</td>\n",
       "      <td>0</td>\n",
       "      <td>0.0</td>\n",
       "    </tr>\n",
       "    <tr>\n",
       "      <th>12212</th>\n",
       "      <td>train_12269_aligned.jpg</td>\n",
       "      <td>0</td>\n",
       "      <td>0.975</td>\n",
       "      <td>7</td>\n",
       "      <td>0</td>\n",
       "      <td>1.0</td>\n",
       "      <td>1.0</td>\n",
       "      <td>1.0</td>\n",
       "      <td>0.0</td>\n",
       "      <td>1.0</td>\n",
       "      <td>...</td>\n",
       "      <td>0</td>\n",
       "      <td>0</td>\n",
       "      <td>0</td>\n",
       "      <td>0</td>\n",
       "      <td>0</td>\n",
       "      <td>0</td>\n",
       "      <td>0</td>\n",
       "      <td>0</td>\n",
       "      <td>0</td>\n",
       "      <td>1.0</td>\n",
       "    </tr>\n",
       "    <tr>\n",
       "      <th>12213</th>\n",
       "      <td>train_12271_aligned.jpg</td>\n",
       "      <td>0</td>\n",
       "      <td>0.975</td>\n",
       "      <td>7</td>\n",
       "      <td>0</td>\n",
       "      <td>1.0</td>\n",
       "      <td>1.0</td>\n",
       "      <td>0.0</td>\n",
       "      <td>1.0</td>\n",
       "      <td>0.0</td>\n",
       "      <td>...</td>\n",
       "      <td>0</td>\n",
       "      <td>0</td>\n",
       "      <td>0</td>\n",
       "      <td>0</td>\n",
       "      <td>0</td>\n",
       "      <td>0</td>\n",
       "      <td>0</td>\n",
       "      <td>0</td>\n",
       "      <td>0</td>\n",
       "      <td>2.0</td>\n",
       "    </tr>\n",
       "  </tbody>\n",
       "</table>\n",
       "<p>12214 rows × 55 columns</p>\n",
       "</div>"
      ],
      "text/plain": [
       "                     ImageName  face  confidence  Emotion  Happy  Gender  \\\n",
       "0        test_0001_aligned.jpg     0       0.925        5      0     1.0   \n",
       "1        test_0002_aligned.jpg     0       0.975        1      0     1.0   \n",
       "2        test_0004_aligned.jpg     0       0.825        1      0     1.0   \n",
       "3        test_0006_aligned.jpg     0       0.875        5      0     1.0   \n",
       "4        test_0007_aligned.jpg     0       0.975        3      0     0.0   \n",
       "...                        ...   ...         ...      ...    ...     ...   \n",
       "12209  train_12266_aligned.jpg     0       0.925        7      0     1.0   \n",
       "12210  train_12267_aligned.jpg     0       0.975        7      0     0.0   \n",
       "12211  train_12268_aligned.jpg     0       0.875        7      0     0.0   \n",
       "12212  train_12269_aligned.jpg     0       0.975        7      0     1.0   \n",
       "12213  train_12271_aligned.jpg     0       0.975        7      0     1.0   \n",
       "\n",
       "       AU01_c  AU02_c  AU04_c  AU05_c  ...  AU06_r_c  AU09_r_c  AU10_r_c  \\\n",
       "0         1.0     1.0     0.0     0.0  ...         0         0         0   \n",
       "1         1.0     1.0     1.0     1.0  ...         0         0         0   \n",
       "2         0.0     1.0     1.0     0.0  ...         0         0         0   \n",
       "3         1.0     0.0     1.0     0.0  ...         0         0         0   \n",
       "4         0.0     0.0     1.0     0.0  ...         0         0         1   \n",
       "...       ...     ...     ...     ...  ...       ...       ...       ...   \n",
       "12209     0.0     0.0     1.0     0.0  ...         0         0         0   \n",
       "12210     0.0     0.0     1.0     0.0  ...         0         0         1   \n",
       "12211     0.0     1.0     1.0     0.0  ...         0         0         0   \n",
       "12212     1.0     1.0     0.0     1.0  ...         0         0         0   \n",
       "12213     1.0     0.0     1.0     0.0  ...         0         0         0   \n",
       "\n",
       "       AU12_r_c  AU15_r_c  AU17_r_c  AU20_r_c  AU25_r_c  AU26_r_c  Age  \n",
       "0             0         0         0         0         0         0  2.0  \n",
       "1             0         0         0         0         0         0  1.0  \n",
       "2             0         0         0         0         0         0  2.0  \n",
       "3             0         0         0         0         0         0  2.0  \n",
       "4             0         1         0         0         0         0  2.0  \n",
       "...         ...       ...       ...       ...       ...       ...  ...  \n",
       "12209         0         0         0         0         0         0  1.0  \n",
       "12210         0         0         0         0         0         0  1.0  \n",
       "12211         0         1         0         0         0         0  0.0  \n",
       "12212         0         0         0         0         0         0  1.0  \n",
       "12213         0         0         0         0         0         0  2.0  \n",
       "\n",
       "[12214 rows x 55 columns]"
      ]
     },
     "execution_count": 33,
     "metadata": {},
     "output_type": "execute_result"
    }
   ],
   "source": [
    "frame"
   ]
  },
  {
   "cell_type": "code",
   "execution_count": 129,
   "metadata": {},
   "outputs": [
    {
     "data": {
      "text/html": [
       "<div>\n",
       "<style scoped>\n",
       "    .dataframe tbody tr th:only-of-type {\n",
       "        vertical-align: middle;\n",
       "    }\n",
       "\n",
       "    .dataframe tbody tr th {\n",
       "        vertical-align: top;\n",
       "    }\n",
       "\n",
       "    .dataframe thead th {\n",
       "        text-align: right;\n",
       "    }\n",
       "</style>\n",
       "<table border=\"1\" class=\"dataframe\">\n",
       "  <thead>\n",
       "    <tr style=\"text-align: right;\">\n",
       "      <th></th>\n",
       "      <th>ImageName</th>\n",
       "      <th>face</th>\n",
       "      <th>confidence</th>\n",
       "      <th>Emotion</th>\n",
       "      <th>Happy</th>\n",
       "      <th>Gender</th>\n",
       "      <th>AU01_c</th>\n",
       "      <th>AU02_c</th>\n",
       "      <th>AU04_c</th>\n",
       "      <th>AU05_c</th>\n",
       "      <th>...</th>\n",
       "      <th>AU06_r_c</th>\n",
       "      <th>AU09_r_c</th>\n",
       "      <th>AU10_r_c</th>\n",
       "      <th>AU12_r_c</th>\n",
       "      <th>AU15_r_c</th>\n",
       "      <th>AU17_r_c</th>\n",
       "      <th>AU20_r_c</th>\n",
       "      <th>AU25_r_c</th>\n",
       "      <th>AU26_r_c</th>\n",
       "      <th>Age</th>\n",
       "    </tr>\n",
       "  </thead>\n",
       "  <tbody>\n",
       "    <tr>\n",
       "      <th>0</th>\n",
       "      <td>test_0001_aligned.jpg</td>\n",
       "      <td>0</td>\n",
       "      <td>0.925</td>\n",
       "      <td>5</td>\n",
       "      <td>0</td>\n",
       "      <td>1.0</td>\n",
       "      <td>1.0</td>\n",
       "      <td>1.0</td>\n",
       "      <td>0.0</td>\n",
       "      <td>0.0</td>\n",
       "      <td>...</td>\n",
       "      <td>0</td>\n",
       "      <td>0</td>\n",
       "      <td>0</td>\n",
       "      <td>0</td>\n",
       "      <td>0</td>\n",
       "      <td>0</td>\n",
       "      <td>0</td>\n",
       "      <td>0</td>\n",
       "      <td>0</td>\n",
       "      <td>2.0</td>\n",
       "    </tr>\n",
       "    <tr>\n",
       "      <th>1</th>\n",
       "      <td>test_0002_aligned.jpg</td>\n",
       "      <td>0</td>\n",
       "      <td>0.975</td>\n",
       "      <td>1</td>\n",
       "      <td>0</td>\n",
       "      <td>1.0</td>\n",
       "      <td>1.0</td>\n",
       "      <td>1.0</td>\n",
       "      <td>1.0</td>\n",
       "      <td>1.0</td>\n",
       "      <td>...</td>\n",
       "      <td>0</td>\n",
       "      <td>0</td>\n",
       "      <td>0</td>\n",
       "      <td>0</td>\n",
       "      <td>0</td>\n",
       "      <td>0</td>\n",
       "      <td>0</td>\n",
       "      <td>0</td>\n",
       "      <td>0</td>\n",
       "      <td>1.0</td>\n",
       "    </tr>\n",
       "    <tr>\n",
       "      <th>2</th>\n",
       "      <td>test_0004_aligned.jpg</td>\n",
       "      <td>0</td>\n",
       "      <td>0.825</td>\n",
       "      <td>1</td>\n",
       "      <td>0</td>\n",
       "      <td>1.0</td>\n",
       "      <td>0.0</td>\n",
       "      <td>1.0</td>\n",
       "      <td>1.0</td>\n",
       "      <td>0.0</td>\n",
       "      <td>...</td>\n",
       "      <td>0</td>\n",
       "      <td>0</td>\n",
       "      <td>0</td>\n",
       "      <td>0</td>\n",
       "      <td>0</td>\n",
       "      <td>0</td>\n",
       "      <td>0</td>\n",
       "      <td>0</td>\n",
       "      <td>0</td>\n",
       "      <td>2.0</td>\n",
       "    </tr>\n",
       "    <tr>\n",
       "      <th>3</th>\n",
       "      <td>test_0006_aligned.jpg</td>\n",
       "      <td>0</td>\n",
       "      <td>0.875</td>\n",
       "      <td>5</td>\n",
       "      <td>0</td>\n",
       "      <td>1.0</td>\n",
       "      <td>1.0</td>\n",
       "      <td>0.0</td>\n",
       "      <td>1.0</td>\n",
       "      <td>0.0</td>\n",
       "      <td>...</td>\n",
       "      <td>0</td>\n",
       "      <td>0</td>\n",
       "      <td>0</td>\n",
       "      <td>0</td>\n",
       "      <td>0</td>\n",
       "      <td>0</td>\n",
       "      <td>0</td>\n",
       "      <td>0</td>\n",
       "      <td>0</td>\n",
       "      <td>2.0</td>\n",
       "    </tr>\n",
       "    <tr>\n",
       "      <th>4</th>\n",
       "      <td>test_0007_aligned.jpg</td>\n",
       "      <td>0</td>\n",
       "      <td>0.975</td>\n",
       "      <td>3</td>\n",
       "      <td>0</td>\n",
       "      <td>0.0</td>\n",
       "      <td>0.0</td>\n",
       "      <td>0.0</td>\n",
       "      <td>1.0</td>\n",
       "      <td>0.0</td>\n",
       "      <td>...</td>\n",
       "      <td>0</td>\n",
       "      <td>0</td>\n",
       "      <td>1</td>\n",
       "      <td>0</td>\n",
       "      <td>1</td>\n",
       "      <td>0</td>\n",
       "      <td>0</td>\n",
       "      <td>0</td>\n",
       "      <td>0</td>\n",
       "      <td>2.0</td>\n",
       "    </tr>\n",
       "    <tr>\n",
       "      <th>...</th>\n",
       "      <td>...</td>\n",
       "      <td>...</td>\n",
       "      <td>...</td>\n",
       "      <td>...</td>\n",
       "      <td>...</td>\n",
       "      <td>...</td>\n",
       "      <td>...</td>\n",
       "      <td>...</td>\n",
       "      <td>...</td>\n",
       "      <td>...</td>\n",
       "      <td>...</td>\n",
       "      <td>...</td>\n",
       "      <td>...</td>\n",
       "      <td>...</td>\n",
       "      <td>...</td>\n",
       "      <td>...</td>\n",
       "      <td>...</td>\n",
       "      <td>...</td>\n",
       "      <td>...</td>\n",
       "      <td>...</td>\n",
       "      <td>...</td>\n",
       "    </tr>\n",
       "    <tr>\n",
       "      <th>12209</th>\n",
       "      <td>train_12266_aligned.jpg</td>\n",
       "      <td>0</td>\n",
       "      <td>0.925</td>\n",
       "      <td>7</td>\n",
       "      <td>0</td>\n",
       "      <td>1.0</td>\n",
       "      <td>0.0</td>\n",
       "      <td>0.0</td>\n",
       "      <td>1.0</td>\n",
       "      <td>0.0</td>\n",
       "      <td>...</td>\n",
       "      <td>0</td>\n",
       "      <td>0</td>\n",
       "      <td>0</td>\n",
       "      <td>0</td>\n",
       "      <td>0</td>\n",
       "      <td>0</td>\n",
       "      <td>0</td>\n",
       "      <td>0</td>\n",
       "      <td>0</td>\n",
       "      <td>1.0</td>\n",
       "    </tr>\n",
       "    <tr>\n",
       "      <th>12210</th>\n",
       "      <td>train_12267_aligned.jpg</td>\n",
       "      <td>0</td>\n",
       "      <td>0.975</td>\n",
       "      <td>7</td>\n",
       "      <td>0</td>\n",
       "      <td>0.0</td>\n",
       "      <td>0.0</td>\n",
       "      <td>0.0</td>\n",
       "      <td>1.0</td>\n",
       "      <td>0.0</td>\n",
       "      <td>...</td>\n",
       "      <td>0</td>\n",
       "      <td>0</td>\n",
       "      <td>1</td>\n",
       "      <td>0</td>\n",
       "      <td>0</td>\n",
       "      <td>0</td>\n",
       "      <td>0</td>\n",
       "      <td>0</td>\n",
       "      <td>0</td>\n",
       "      <td>1.0</td>\n",
       "    </tr>\n",
       "    <tr>\n",
       "      <th>12211</th>\n",
       "      <td>train_12268_aligned.jpg</td>\n",
       "      <td>0</td>\n",
       "      <td>0.875</td>\n",
       "      <td>7</td>\n",
       "      <td>0</td>\n",
       "      <td>0.0</td>\n",
       "      <td>0.0</td>\n",
       "      <td>1.0</td>\n",
       "      <td>1.0</td>\n",
       "      <td>0.0</td>\n",
       "      <td>...</td>\n",
       "      <td>0</td>\n",
       "      <td>0</td>\n",
       "      <td>0</td>\n",
       "      <td>0</td>\n",
       "      <td>1</td>\n",
       "      <td>0</td>\n",
       "      <td>0</td>\n",
       "      <td>0</td>\n",
       "      <td>0</td>\n",
       "      <td>0.0</td>\n",
       "    </tr>\n",
       "    <tr>\n",
       "      <th>12212</th>\n",
       "      <td>train_12269_aligned.jpg</td>\n",
       "      <td>0</td>\n",
       "      <td>0.975</td>\n",
       "      <td>7</td>\n",
       "      <td>0</td>\n",
       "      <td>1.0</td>\n",
       "      <td>1.0</td>\n",
       "      <td>1.0</td>\n",
       "      <td>0.0</td>\n",
       "      <td>1.0</td>\n",
       "      <td>...</td>\n",
       "      <td>0</td>\n",
       "      <td>0</td>\n",
       "      <td>0</td>\n",
       "      <td>0</td>\n",
       "      <td>0</td>\n",
       "      <td>0</td>\n",
       "      <td>0</td>\n",
       "      <td>0</td>\n",
       "      <td>0</td>\n",
       "      <td>1.0</td>\n",
       "    </tr>\n",
       "    <tr>\n",
       "      <th>12213</th>\n",
       "      <td>train_12271_aligned.jpg</td>\n",
       "      <td>0</td>\n",
       "      <td>0.975</td>\n",
       "      <td>7</td>\n",
       "      <td>0</td>\n",
       "      <td>1.0</td>\n",
       "      <td>1.0</td>\n",
       "      <td>0.0</td>\n",
       "      <td>1.0</td>\n",
       "      <td>0.0</td>\n",
       "      <td>...</td>\n",
       "      <td>0</td>\n",
       "      <td>0</td>\n",
       "      <td>0</td>\n",
       "      <td>0</td>\n",
       "      <td>0</td>\n",
       "      <td>0</td>\n",
       "      <td>0</td>\n",
       "      <td>0</td>\n",
       "      <td>0</td>\n",
       "      <td>2.0</td>\n",
       "    </tr>\n",
       "  </tbody>\n",
       "</table>\n",
       "<p>12214 rows × 55 columns</p>\n",
       "</div>"
      ],
      "text/plain": [
       "                     ImageName  face  confidence  Emotion  Happy  Gender  \\\n",
       "0        test_0001_aligned.jpg     0       0.925        5      0     1.0   \n",
       "1        test_0002_aligned.jpg     0       0.975        1      0     1.0   \n",
       "2        test_0004_aligned.jpg     0       0.825        1      0     1.0   \n",
       "3        test_0006_aligned.jpg     0       0.875        5      0     1.0   \n",
       "4        test_0007_aligned.jpg     0       0.975        3      0     0.0   \n",
       "...                        ...   ...         ...      ...    ...     ...   \n",
       "12209  train_12266_aligned.jpg     0       0.925        7      0     1.0   \n",
       "12210  train_12267_aligned.jpg     0       0.975        7      0     0.0   \n",
       "12211  train_12268_aligned.jpg     0       0.875        7      0     0.0   \n",
       "12212  train_12269_aligned.jpg     0       0.975        7      0     1.0   \n",
       "12213  train_12271_aligned.jpg     0       0.975        7      0     1.0   \n",
       "\n",
       "       AU01_c  AU02_c  AU04_c  AU05_c  ...  AU06_r_c  AU09_r_c  AU10_r_c  \\\n",
       "0         1.0     1.0     0.0     0.0  ...         0         0         0   \n",
       "1         1.0     1.0     1.0     1.0  ...         0         0         0   \n",
       "2         0.0     1.0     1.0     0.0  ...         0         0         0   \n",
       "3         1.0     0.0     1.0     0.0  ...         0         0         0   \n",
       "4         0.0     0.0     1.0     0.0  ...         0         0         1   \n",
       "...       ...     ...     ...     ...  ...       ...       ...       ...   \n",
       "12209     0.0     0.0     1.0     0.0  ...         0         0         0   \n",
       "12210     0.0     0.0     1.0     0.0  ...         0         0         1   \n",
       "12211     0.0     1.0     1.0     0.0  ...         0         0         0   \n",
       "12212     1.0     1.0     0.0     1.0  ...         0         0         0   \n",
       "12213     1.0     0.0     1.0     0.0  ...         0         0         0   \n",
       "\n",
       "       AU12_r_c  AU15_r_c  AU17_r_c  AU20_r_c  AU25_r_c  AU26_r_c  Age  \n",
       "0             0         0         0         0         0         0  2.0  \n",
       "1             0         0         0         0         0         0  1.0  \n",
       "2             0         0         0         0         0         0  2.0  \n",
       "3             0         0         0         0         0         0  2.0  \n",
       "4             0         1         0         0         0         0  2.0  \n",
       "...         ...       ...       ...       ...       ...       ...  ...  \n",
       "12209         0         0         0         0         0         0  1.0  \n",
       "12210         0         0         0         0         0         0  1.0  \n",
       "12211         0         1         0         0         0         0  0.0  \n",
       "12212         0         0         0         0         0         0  1.0  \n",
       "12213         0         0         0         0         0         0  2.0  \n",
       "\n",
       "[12214 rows x 55 columns]"
      ]
     },
     "execution_count": 129,
     "metadata": {},
     "output_type": "execute_result"
    }
   ],
   "source": [
    "frame = pd.read_csv('RAFDB_OpenFace_result_with_Emotion_and_Gender_Age.csv')\n",
    "frame"
   ]
  },
  {
   "cell_type": "code",
   "execution_count": 130,
   "metadata": {},
   "outputs": [],
   "source": [
    "frame = frame.rename(columns={'Age': 'age_preds'})"
   ]
  },
  {
   "cell_type": "code",
   "execution_count": 131,
   "metadata": {},
   "outputs": [
    {
     "data": {
      "text/plain": [
       "2.0    6805\n",
       "1.0    2103\n",
       "3.0    1911\n",
       "0.0    1102\n",
       "4.0     293\n",
       "Name: age_preds, dtype: int64"
      ]
     },
     "execution_count": 131,
     "metadata": {},
     "output_type": "execute_result"
    }
   ],
   "source": [
    "frame.age_preds.value_counts()"
   ]
  },
  {
   "cell_type": "code",
   "execution_count": 132,
   "metadata": {},
   "outputs": [
    {
     "data": {
      "text/plain": [
       "1    10010\n",
       "2     2204\n",
       "Name: Age, dtype: int64"
      ]
     },
     "execution_count": 132,
     "metadata": {},
     "output_type": "execute_result"
    }
   ],
   "source": [
    "def map_age_RAFDB(age):\n",
    "    if age <= 2:\n",
    "        return 1\n",
    "    else:\n",
    "        return 2\n",
    "\n",
    "frame['Age'] = frame.age_preds.apply(map_age_RAFDB)\n",
    "frame.Age.value_counts()"
   ]
  },
  {
   "cell_type": "code",
   "execution_count": 133,
   "metadata": {},
   "outputs": [
    {
     "data": {
      "text/plain": [
       "(12214, 56)"
      ]
     },
     "execution_count": 133,
     "metadata": {},
     "output_type": "execute_result"
    }
   ],
   "source": [
    "frame = frame.dropna()\n",
    "frame.shape"
   ]
  },
  {
   "cell_type": "code",
   "execution_count": 134,
   "metadata": {},
   "outputs": [
    {
     "data": {
      "text/plain": [
       "11    6766\n",
       "00    2619\n",
       "10    1419\n",
       "01    1410\n",
       "Name: AU6and12_c, dtype: int64"
      ]
     },
     "execution_count": 134,
     "metadata": {},
     "output_type": "execute_result"
    }
   ],
   "source": [
    "frame['AU6and12_c'] = frame.AU06_c.apply(int).apply(str) + frame.AU12_c.apply(int).apply(str)\n",
    "frame.AU6and12_c.value_counts()"
   ]
  },
  {
   "cell_type": "code",
   "execution_count": 135,
   "metadata": {},
   "outputs": [
    {
     "data": {
      "text/plain": [
       "00    8209\n",
       "11    1881\n",
       "01    1545\n",
       "10     579\n",
       "Name: AU6and12_r_c, dtype: int64"
      ]
     },
     "execution_count": 135,
     "metadata": {},
     "output_type": "execute_result"
    }
   ],
   "source": [
    "frame['AU6and12_r_c'] = frame.AU06_r_c.apply(str) + frame.AU12_r_c.apply(str)\n",
    "frame.AU6and12_r_c.value_counts()"
   ]
  },
  {
   "cell_type": "markdown",
   "metadata": {},
   "source": [
    "# P(expression|AU1, male) =? P(expression|AU1, female)"
   ]
  },
  {
   "cell_type": "code",
   "execution_count": 136,
   "metadata": {},
   "outputs": [
    {
     "data": {
      "text/plain": [
       "more than 40    10111\n",
       "less than 40     2103\n",
       "Name: Age, dtype: int64"
      ]
     },
     "execution_count": 136,
     "metadata": {},
     "output_type": "execute_result"
    }
   ],
   "source": [
    "frame['age'] = frame['age_preds']\n",
    "frame['Age'] = frame['age'].apply(map_age)\n",
    "frame.Age.value_counts()"
   ]
  },
  {
   "cell_type": "code",
   "execution_count": 137,
   "metadata": {},
   "outputs": [
    {
     "name": "stdout",
     "output_type": "stream",
     "text": [
      "(2103, 59)\n",
      "(6805, 59)\n"
     ]
    }
   ],
   "source": [
    "frame_1 = frame.loc[frame['age'] == 1]\n",
    "frame_2 = frame.loc[frame['age'] == 2]\n",
    "print(frame_1.shape)\n",
    "print(frame_2.shape)"
   ]
  },
  {
   "cell_type": "code",
   "execution_count": 138,
   "metadata": {},
   "outputs": [],
   "source": [
    "frame_list = [frame_1, frame_2]\n",
    "name_list = ['less than 40', 'more than 40']"
   ]
  },
  {
   "cell_type": "markdown",
   "metadata": {},
   "source": [
    "## Happiness"
   ]
  },
  {
   "cell_type": "code",
   "execution_count": 139,
   "metadata": {},
   "outputs": [
    {
     "name": "stdout",
     "output_type": "stream",
     "text": [
      "0.43794579172610554 less than 40 2103\n",
      "0.34019103600293904 more than 40 6805\n"
     ]
    }
   ],
   "source": [
    "for i in range(len(frame_list)):\n",
    "    print(frame_list[i].Happy.mean(), name_list[i], frame_list[i].shape[0])"
   ]
  },
  {
   "cell_type": "code",
   "execution_count": 140,
   "metadata": {},
   "outputs": [
    {
     "name": "stdout",
     "output_type": "stream",
     "text": [
      "0.16500237755587258 less than 40 2103\n",
      "0.1745775165319618 more than 40 6805\n"
     ]
    }
   ],
   "source": [
    "for i in range(len(frame_list)):\n",
    "    print(frame_list[i].AU06_r_c.mean(), name_list[i], frame_list[i].shape[0])"
   ]
  },
  {
   "cell_type": "code",
   "execution_count": 50,
   "metadata": {},
   "outputs": [
    {
     "name": "stdout",
     "output_type": "stream",
     "text": [
      "0.3019495958155017 less than 40 2103\n",
      "0.252608376193975 more than 40 6805\n"
     ]
    }
   ],
   "source": [
    "for i in range(len(frame_list)):\n",
    "    print(frame_list[i].AU12_r_c.mean(), name_list[i], frame_list[i].shape[0])"
   ]
  },
  {
   "cell_type": "code",
   "execution_count": 51,
   "metadata": {},
   "outputs": [
    {
     "name": "stdout",
     "output_type": "stream",
     "text": [
      "Happy                0         1\n",
      "AU6and12_r_c                    \n",
      "00            0.766187  0.233813\n",
      "01            0.122951  0.877049\n",
      "10            0.589744  0.410256\n",
      "11            0.096654  0.903346 less than 40 2103\n",
      "Happy                0         1\n",
      "AU6and12_r_c                    \n",
      "00            0.831914  0.168086\n",
      "01            0.162935  0.837065\n",
      "10            0.820513  0.179487\n",
      "11            0.143169  0.856831 more than 40 6805\n"
     ]
    }
   ],
   "source": [
    "for i in range(len(frame_list)):\n",
    "    print(pd.crosstab(frame_list[i].AU6and12_r_c, frame_list[i].Happy, normalize = 'index'), name_list[i], frame_list[i].shape[0])"
   ]
  },
  {
   "cell_type": "code",
   "execution_count": 141,
   "metadata": {},
   "outputs": [
    {
     "data": {
      "image/png": "[encoded data removed]",
      "text/plain": [
       "<Figure size 432x288 with 1 Axes>"
      ]
     },
     "metadata": {
      "needs_background": "light"
     },
     "output_type": "display_data"
    }
   ],
   "source": [
    "list_00 = []\n",
    "list_01 = []\n",
    "list_10 = []\n",
    "list_11 = []\n",
    "\n",
    "list_00_n = []\n",
    "list_01_n = []\n",
    "list_10_n = []\n",
    "list_11_n = []\n",
    "\n",
    "fig = plt.figure(figsize=(6,4))\n",
    "ax = fig.gca()\n",
    "for i in range(len(frame_list)):\n",
    "    list_00.append(pd.crosstab(frame_list[i].AU6and12_r_c, frame_list[i].Happy, normalize = 'index').loc['00',1])\n",
    "    list_01.append(pd.crosstab(frame_list[i].AU6and12_r_c, frame_list[i].Happy, normalize = 'index').loc['01',1])\n",
    "    list_10.append(pd.crosstab(frame_list[i].AU6and12_r_c, frame_list[i].Happy, normalize = 'index').loc['10',1])\n",
    "    list_11.append(pd.crosstab(frame_list[i].AU6and12_r_c, frame_list[i].Happy, normalize = 'index').loc['11',1])\n",
    "    \n",
    "    list_00_n.append(pd.crosstab(frame_list[i].AU6and12_r_c, frame_list[i].Happy, margins = True).loc['00','All'])\n",
    "    list_01_n.append(pd.crosstab(frame_list[i].AU6and12_r_c, frame_list[i].Happy, margins = True).loc['01','All'])\n",
    "    list_10_n.append(pd.crosstab(frame_list[i].AU6and12_r_c, frame_list[i].Happy, margins = True).loc['10','All'])\n",
    "    list_11_n.append(pd.crosstab(frame_list[i].AU6and12_r_c, frame_list[i].Happy, margins = True).loc['11','All'])\n",
    "    \n",
    "result_df = pd.DataFrame({\"00\": list_00, \"10\": list_10, \"01\": list_01, \"11\": list_11,\n",
    "                         \"00_n\": list_00_n, \"10_n\": list_10_n, \"01_n\": list_01_n, \"11_n\": list_11_n}, index = name_list)\n",
    "result_df['00_std'] = np.sqrt(result_df['00'] * (1-result_df['00']) / result_df['00_n'])\n",
    "result_df['10_std'] = np.sqrt(result_df['10'] * (1-result_df['10']) / result_df['10_n'])\n",
    "result_df['01_std'] = np.sqrt(result_df['01'] * (1-result_df['01']) / result_df['01_n'])\n",
    "result_df['11_std'] = np.sqrt(result_df['11'] * (1-result_df['11']) / result_df['11_n'])\n",
    "result_df\n",
    "for index, row in result_df.iterrows():\n",
    "    plt.errorbar(list(result_df.columns)[:4], list(row)[:4], yerr = list(row)[8:], label = index, capsize = 3)\n",
    "plt.legend(fontsize = 13)\n",
    "plt.xlabel('(AU6, AU12)', fontsize = 14)\n",
    "plt.ylabel('P(Happy|AU)', fontsize = 14)\n",
    "plt.title('RAF-DB', fontsize = 16)\n",
    "plt.tight_layout()\n",
    "plt.savefig('age_race_bias_plots/age_2_groups_graphs/RAFDB_happy_2_all.pdf')\n",
    "plt.show()"
   ]
  },
  {
   "cell_type": "code",
   "execution_count": 53,
   "metadata": {
    "scrolled": true
   },
   "outputs": [
    {
     "data": {
      "text/html": [
       "<div>\n",
       "<style scoped>\n",
       "    .dataframe tbody tr th:only-of-type {\n",
       "        vertical-align: middle;\n",
       "    }\n",
       "\n",
       "    .dataframe tbody tr th {\n",
       "        vertical-align: top;\n",
       "    }\n",
       "\n",
       "    .dataframe thead th {\n",
       "        text-align: right;\n",
       "    }\n",
       "</style>\n",
       "<table border=\"1\" class=\"dataframe\">\n",
       "  <thead>\n",
       "    <tr style=\"text-align: right;\">\n",
       "      <th></th>\n",
       "      <th>00</th>\n",
       "      <th>10</th>\n",
       "      <th>01</th>\n",
       "      <th>11</th>\n",
       "      <th>00_n</th>\n",
       "      <th>10_n</th>\n",
       "      <th>01_n</th>\n",
       "      <th>11_n</th>\n",
       "      <th>00_std</th>\n",
       "      <th>10_std</th>\n",
       "      <th>01_std</th>\n",
       "      <th>11_std</th>\n",
       "    </tr>\n",
       "  </thead>\n",
       "  <tbody>\n",
       "    <tr>\n",
       "      <th>less than 40</th>\n",
       "      <td>0.233813</td>\n",
       "      <td>0.410256</td>\n",
       "      <td>0.877049</td>\n",
       "      <td>0.903346</td>\n",
       "      <td>1390</td>\n",
       "      <td>78</td>\n",
       "      <td>366</td>\n",
       "      <td>269</td>\n",
       "      <td>0.011353</td>\n",
       "      <td>0.055694</td>\n",
       "      <td>0.017165</td>\n",
       "      <td>0.018016</td>\n",
       "    </tr>\n",
       "    <tr>\n",
       "      <th>more than 40</th>\n",
       "      <td>0.168086</td>\n",
       "      <td>0.179487</td>\n",
       "      <td>0.837065</td>\n",
       "      <td>0.856831</td>\n",
       "      <td>4813</td>\n",
       "      <td>273</td>\n",
       "      <td>804</td>\n",
       "      <td>915</td>\n",
       "      <td>0.005390</td>\n",
       "      <td>0.023226</td>\n",
       "      <td>0.013024</td>\n",
       "      <td>0.011579</td>\n",
       "    </tr>\n",
       "  </tbody>\n",
       "</table>\n",
       "</div>"
      ],
      "text/plain": [
       "                    00        10        01        11  00_n  10_n  01_n  11_n  \\\n",
       "less than 40  0.233813  0.410256  0.877049  0.903346  1390    78   366   269   \n",
       "more than 40  0.168086  0.179487  0.837065  0.856831  4813   273   804   915   \n",
       "\n",
       "                00_std    10_std    01_std    11_std  \n",
       "less than 40  0.011353  0.055694  0.017165  0.018016  \n",
       "more than 40  0.005390  0.023226  0.013024  0.011579  "
      ]
     },
     "execution_count": 53,
     "metadata": {},
     "output_type": "execute_result"
    }
   ],
   "source": [
    "result_df"
   ]
  },
  {
   "cell_type": "code",
   "execution_count": 56,
   "metadata": {},
   "outputs": [
    {
     "name": "stdout",
     "output_type": "stream",
     "text": [
      "00\n",
      "31.187340033018767\n",
      "2.342890448314705e-08\n",
      "\n",
      "10\n",
      "18.2\n",
      "1.988788346718451e-05\n",
      "\n",
      "01\n",
      "3.1463524023447573\n",
      "0.07609689288906019\n",
      "\n",
      "11\n",
      "3.9105995237957556\n",
      "0.0479824774298232\n",
      "\n"
     ]
    }
   ],
   "source": [
    "for AU_comb in ['00','10', '01', '11']:\n",
    "    print(AU_comb)\n",
    "    combined_df = pd.DataFrame()\n",
    "    for i in range(len(frame_list)):\n",
    "        combined_df = combined_df.append(pd.crosstab(frame_list[i][frame_list[i].AU6and12_r_c == AU_comb].age, frame_list[i][frame_list[i].AU6and12_r_c == AU_comb].Happy))\n",
    "    combined_df\n",
    "    combined_df[\"row_totals\"] = combined_df[0] + combined_df[1]\n",
    "    combined_df.loc[\"col_totals\"] = combined_df.sum()\n",
    "    combined_df\n",
    "    observed = combined_df.iloc[0:-1,0:-1]   # Get table without totals for later use\n",
    "\n",
    "    expected =  np.outer(combined_df[\"row_totals\"][0:-1],\n",
    "                     combined_df.loc[\"col_totals\"][0:-1]) / combined_df.loc['col_totals', 'row_totals']\n",
    "\n",
    "    expected = pd.DataFrame(expected)\n",
    "    expected.columns = [0,1]\n",
    "    expected.index = combined_df.index[:-1]\n",
    "\n",
    "    if (expected>=5).sum().sum() == (combined_df.shape[0]-1) * (combined_df.shape[1]-1):\n",
    "        chi_squared_stat = (((observed-expected)**2)/expected).sum().sum()\n",
    "        p_value = 1 - stats.chi2.cdf(x=chi_squared_stat, df= (combined_df.shape[0]-2) * (combined_df.shape[1]-2))\n",
    "    else:\n",
    "        chi_squared_stat = np.nan\n",
    "        p_value = np.nan\n",
    "\n",
    "    print(chi_squared_stat)\n",
    "    print(p_value)\n",
    "    print()"
   ]
  },
  {
   "cell_type": "code",
   "execution_count": 57,
   "metadata": {},
   "outputs": [
    {
     "data": {
      "image/png": "[encoded data removed]",
      "text/plain": [
       "<Figure size 432x288 with 1 Axes>"
      ]
     },
     "metadata": {
      "needs_background": "light"
     },
     "output_type": "display_data"
    }
   ],
   "source": [
    "sns.lmplot(x='AU06_r', y='Happy', data=frame, hue = 'Age', logistic=True, scatter = False, hue_order = ['less than 40', 'more than 40'], legend=False, height=4, aspect=6/4)\n",
    "plt.legend(fontsize=13)\n",
    "plt.xlabel(\"AU6 intensity\", fontsize=14)\n",
    "plt.ylabel(\"Proportion of 'Happy' Labels\", fontsize=14)\n",
    "plt.title('P(Happy|AU6) for RAF-DB', fontsize=14)\n",
    "plt.tight_layout()\n",
    "plt.savefig('age_race_bias_plots/age_2_groups_graphs/RAFDB_happy_2_AU6.pdf')\n",
    "plt.show()"
   ]
  },
  {
   "cell_type": "code",
   "execution_count": 58,
   "metadata": {},
   "outputs": [
    {
     "data": {
      "image/png": "[encoded data removed]",
      "text/plain": [
       "<Figure size 432x288 with 1 Axes>"
      ]
     },
     "metadata": {
      "needs_background": "light"
     },
     "output_type": "display_data"
    }
   ],
   "source": [
    "sns.lmplot(x='AU12_r', y='Happy', data=frame, hue = 'Age', logistic=True, scatter = False, hue_order = ['less than 40', 'more than 40'], legend=False, height=4, aspect=6/4)\n",
    "plt.legend(fontsize=13)\n",
    "plt.xlabel(\"AU12 intensity\", fontsize=14)\n",
    "plt.ylabel(\"Proportion of 'Happy' Labels\", fontsize=14)\n",
    "plt.title('P(Happy|AU12) for RAF-DB', fontsize=14)\n",
    "plt.tight_layout()\n",
    "plt.savefig('age_race_bias_plots/age_2_groups_graphs/RAFDB_happy_2_AU12.pdf')\n",
    "plt.show()"
   ]
  },
  {
   "cell_type": "code",
   "execution_count": 76,
   "metadata": {},
   "outputs": [
    {
     "name": "stdout",
     "output_type": "stream",
     "text": [
      "                 Generalized Linear Model Regression Results                  \n",
      "==============================================================================\n",
      "Dep. Variable:                  Happy   No. Observations:                12214\n",
      "Model:                            GLM   Df Residuals:                    12210\n",
      "Model Family:                Binomial   Df Model:                            3\n",
      "Link Function:                  logit   Scale:                          1.0000\n",
      "Method:                          IRLS   Log-Likelihood:                -4499.7\n",
      "Date:                Sat, 07 Aug 2021   Deviance:                       8999.4\n",
      "Time:                        19:56:13   Pearson chi2:                 1.19e+04\n",
      "No. Iterations:                     6                                         \n",
      "Covariance Type:            nonrobust                                         \n",
      "=======================================================================================\n",
      "                          coef    std err          z      P>|z|      [0.025      0.975]\n",
      "---------------------------------------------------------------------------------------\n",
      "Intercept              -2.1540      0.071    -30.324      0.000      -2.293      -2.015\n",
      "Age[T.more than 40]    -0.3762      0.070     -5.387      0.000      -0.513      -0.239\n",
      "AU06_r                 -0.6400      0.047    -13.662      0.000      -0.732      -0.548\n",
      "AU12_r                  3.0204      0.061     49.534      0.000       2.901       3.140\n",
      "=======================================================================================\n"
     ]
    }
   ],
   "source": [
    "formula = 'Happy ~ AU06_r + AU12_r + Age'\n",
    "model = smf.glm(formula = formula, data=frame, family=sm.families.Binomial())\n",
    "result = model.fit()\n",
    "print(result.summary())"
   ]
  },
  {
   "cell_type": "markdown",
   "metadata": {},
   "source": [
    "# AffectNet Manual"
   ]
  },
  {
   "cell_type": "code",
   "execution_count": 142,
   "metadata": {
    "scrolled": false
   },
   "outputs": [
    {
     "name": "stdout",
     "output_type": "stream",
     "text": [
      "(35694, 59)\n"
     ]
    },
    {
     "data": {
      "text/html": [
       "<div>\n",
       "<style scoped>\n",
       "    .dataframe tbody tr th:only-of-type {\n",
       "        vertical-align: middle;\n",
       "    }\n",
       "\n",
       "    .dataframe tbody tr th {\n",
       "        vertical-align: top;\n",
       "    }\n",
       "\n",
       "    .dataframe thead th {\n",
       "        text-align: right;\n",
       "    }\n",
       "</style>\n",
       "<table border=\"1\" class=\"dataframe\">\n",
       "  <thead>\n",
       "    <tr style=\"text-align: right;\">\n",
       "      <th></th>\n",
       "      <th>ImageName</th>\n",
       "      <th>Expression</th>\n",
       "      <th>Happy</th>\n",
       "      <th>race_preds</th>\n",
       "      <th>gender_preds</th>\n",
       "      <th>age_preds</th>\n",
       "      <th>race_scores</th>\n",
       "      <th>gender_scores</th>\n",
       "      <th>age_scores</th>\n",
       "      <th>face</th>\n",
       "      <th>...</th>\n",
       "      <th>AU05_r_c</th>\n",
       "      <th>AU06_r_c</th>\n",
       "      <th>AU09_r_c</th>\n",
       "      <th>AU10_r_c</th>\n",
       "      <th>AU12_r_c</th>\n",
       "      <th>AU15_r_c</th>\n",
       "      <th>AU17_r_c</th>\n",
       "      <th>AU20_r_c</th>\n",
       "      <th>AU25_r_c</th>\n",
       "      <th>AU26_r_c</th>\n",
       "    </tr>\n",
       "  </thead>\n",
       "  <tbody>\n",
       "    <tr>\n",
       "      <th>0</th>\n",
       "      <td>0002074f0d5dafbb7983d509964312d04c612d9d425577...</td>\n",
       "      <td>10</td>\n",
       "      <td>0</td>\n",
       "      <td>White</td>\n",
       "      <td>Female</td>\n",
       "      <td>60-69</td>\n",
       "      <td>[0.425075   0.02112318 0.25978056 0.00382649 0...</td>\n",
       "      <td>[0.09870926 0.9012907 ]</td>\n",
       "      <td>[5.3278323e-05 5.1294203e-04 3.1685282e-03 2.4...</td>\n",
       "      <td>0</td>\n",
       "      <td>...</td>\n",
       "      <td>0</td>\n",
       "      <td>0</td>\n",
       "      <td>0</td>\n",
       "      <td>1</td>\n",
       "      <td>0</td>\n",
       "      <td>0</td>\n",
       "      <td>0</td>\n",
       "      <td>0</td>\n",
       "      <td>1</td>\n",
       "      <td>0</td>\n",
       "    </tr>\n",
       "    <tr>\n",
       "      <th>1</th>\n",
       "      <td>000bdb0a8f54725d1424bb38d626b1d8bf17f001ad2406...</td>\n",
       "      <td>8</td>\n",
       "      <td>0</td>\n",
       "      <td>Black</td>\n",
       "      <td>Male</td>\n",
       "      <td>20-29</td>\n",
       "      <td>[3.52906886e-06 9.99552011e-01 1.59864125e-04 ...</td>\n",
       "      <td>[9.9954259e-01 4.5739944e-04]</td>\n",
       "      <td>[5.6344652e-07 4.1122996e-05 1.3004625e-02 6.6...</td>\n",
       "      <td>0</td>\n",
       "      <td>...</td>\n",
       "      <td>0</td>\n",
       "      <td>1</td>\n",
       "      <td>0</td>\n",
       "      <td>1</td>\n",
       "      <td>1</td>\n",
       "      <td>0</td>\n",
       "      <td>0</td>\n",
       "      <td>0</td>\n",
       "      <td>1</td>\n",
       "      <td>0</td>\n",
       "    </tr>\n",
       "    <tr>\n",
       "      <th>2</th>\n",
       "      <td>000c10a8f6735212d71eb54298bc47ea56dc08e64ed2ca...</td>\n",
       "      <td>0</td>\n",
       "      <td>0</td>\n",
       "      <td>White</td>\n",
       "      <td>Male</td>\n",
       "      <td>40-49</td>\n",
       "      <td>[9.3397456e-01 4.9433287e-04 3.7014667e-02 4.5...</td>\n",
       "      <td>[0.99797386 0.00202617]</td>\n",
       "      <td>[8.6898144e-05 1.5486187e-04 2.0614783e-03 2.4...</td>\n",
       "      <td>0</td>\n",
       "      <td>...</td>\n",
       "      <td>0</td>\n",
       "      <td>0</td>\n",
       "      <td>0</td>\n",
       "      <td>1</td>\n",
       "      <td>0</td>\n",
       "      <td>0</td>\n",
       "      <td>0</td>\n",
       "      <td>0</td>\n",
       "      <td>0</td>\n",
       "      <td>0</td>\n",
       "    </tr>\n",
       "    <tr>\n",
       "      <th>3</th>\n",
       "      <td>000fb19bfc2f4d09e33b30ae5d1be4488297e7ff6f0011...</td>\n",
       "      <td>1</td>\n",
       "      <td>1</td>\n",
       "      <td>White</td>\n",
       "      <td>Male</td>\n",
       "      <td>40-49</td>\n",
       "      <td>[9.3484497e-01 2.3674322e-05 1.4515205e-02 1.9...</td>\n",
       "      <td>[9.9999887e-01 1.1556698e-06]</td>\n",
       "      <td>[3.4171117e-06 7.4146001e-06 5.2725355e-04 4.3...</td>\n",
       "      <td>0</td>\n",
       "      <td>...</td>\n",
       "      <td>0</td>\n",
       "      <td>0</td>\n",
       "      <td>0</td>\n",
       "      <td>1</td>\n",
       "      <td>1</td>\n",
       "      <td>0</td>\n",
       "      <td>0</td>\n",
       "      <td>0</td>\n",
       "      <td>0</td>\n",
       "      <td>0</td>\n",
       "    </tr>\n",
       "    <tr>\n",
       "      <th>4</th>\n",
       "      <td>0010aaaebcdd6bae8f967dc0e471760f7a45e220125be3...</td>\n",
       "      <td>1</td>\n",
       "      <td>1</td>\n",
       "      <td>Middle Eastern</td>\n",
       "      <td>Male</td>\n",
       "      <td>20-29</td>\n",
       "      <td>[4.4076398e-02 7.8236350e-05 4.0029038e-02 3.7...</td>\n",
       "      <td>[9.9999958e-01 3.9027404e-07]</td>\n",
       "      <td>[5.4735474e-06 8.7598469e-03 4.4977888e-01 4.5...</td>\n",
       "      <td>0</td>\n",
       "      <td>...</td>\n",
       "      <td>0</td>\n",
       "      <td>1</td>\n",
       "      <td>0</td>\n",
       "      <td>1</td>\n",
       "      <td>1</td>\n",
       "      <td>0</td>\n",
       "      <td>0</td>\n",
       "      <td>0</td>\n",
       "      <td>1</td>\n",
       "      <td>0</td>\n",
       "    </tr>\n",
       "  </tbody>\n",
       "</table>\n",
       "<p>5 rows × 59 columns</p>\n",
       "</div>"
      ],
      "text/plain": [
       "                                           ImageName  Expression  Happy  \\\n",
       "0  0002074f0d5dafbb7983d509964312d04c612d9d425577...          10      0   \n",
       "1  000bdb0a8f54725d1424bb38d626b1d8bf17f001ad2406...           8      0   \n",
       "2  000c10a8f6735212d71eb54298bc47ea56dc08e64ed2ca...           0      0   \n",
       "3  000fb19bfc2f4d09e33b30ae5d1be4488297e7ff6f0011...           1      1   \n",
       "4  0010aaaebcdd6bae8f967dc0e471760f7a45e220125be3...           1      1   \n",
       "\n",
       "       race_preds gender_preds age_preds  \\\n",
       "0           White       Female     60-69   \n",
       "1           Black         Male     20-29   \n",
       "2           White         Male     40-49   \n",
       "3           White         Male     40-49   \n",
       "4  Middle Eastern         Male     20-29   \n",
       "\n",
       "                                         race_scores  \\\n",
       "0  [0.425075   0.02112318 0.25978056 0.00382649 0...   \n",
       "1  [3.52906886e-06 9.99552011e-01 1.59864125e-04 ...   \n",
       "2  [9.3397456e-01 4.9433287e-04 3.7014667e-02 4.5...   \n",
       "3  [9.3484497e-01 2.3674322e-05 1.4515205e-02 1.9...   \n",
       "4  [4.4076398e-02 7.8236350e-05 4.0029038e-02 3.7...   \n",
       "\n",
       "                   gender_scores  \\\n",
       "0        [0.09870926 0.9012907 ]   \n",
       "1  [9.9954259e-01 4.5739944e-04]   \n",
       "2        [0.99797386 0.00202617]   \n",
       "3  [9.9999887e-01 1.1556698e-06]   \n",
       "4  [9.9999958e-01 3.9027404e-07]   \n",
       "\n",
       "                                          age_scores  face  ...  AU05_r_c  \\\n",
       "0  [5.3278323e-05 5.1294203e-04 3.1685282e-03 2.4...     0  ...         0   \n",
       "1  [5.6344652e-07 4.1122996e-05 1.3004625e-02 6.6...     0  ...         0   \n",
       "2  [8.6898144e-05 1.5486187e-04 2.0614783e-03 2.4...     0  ...         0   \n",
       "3  [3.4171117e-06 7.4146001e-06 5.2725355e-04 4.3...     0  ...         0   \n",
       "4  [5.4735474e-06 8.7598469e-03 4.4977888e-01 4.5...     0  ...         0   \n",
       "\n",
       "   AU06_r_c  AU09_r_c  AU10_r_c  AU12_r_c  AU15_r_c  AU17_r_c  AU20_r_c  \\\n",
       "0         0         0         1         0         0         0         0   \n",
       "1         1         0         1         1         0         0         0   \n",
       "2         0         0         1         0         0         0         0   \n",
       "3         0         0         1         1         0         0         0   \n",
       "4         1         0         1         1         0         0         0   \n",
       "\n",
       "   AU25_r_c  AU26_r_c  \n",
       "0         1         0  \n",
       "1         1         0  \n",
       "2         0         0  \n",
       "3         0         0  \n",
       "4         1         0  \n",
       "\n",
       "[5 rows x 59 columns]"
      ]
     },
     "execution_count": 142,
     "metadata": {},
     "output_type": "execute_result"
    }
   ],
   "source": [
    "frame = pd.read_csv('AffectNet_Manual_OpenFace_result_with_expression_gender_race_age.csv')\n",
    "print(frame.shape)\n",
    "frame.head()"
   ]
  },
  {
   "cell_type": "code",
   "execution_count": 143,
   "metadata": {},
   "outputs": [
    {
     "data": {
      "text/plain": [
       "20-29           14527\n",
       "30-39            5959\n",
       "40-49            4495\n",
       "50-59            3982\n",
       "10-19            2066\n",
       "60-69            2056\n",
       "3-9              1204\n",
       "0-2               771\n",
       "more than 70      634\n",
       "Name: age_preds, dtype: int64"
      ]
     },
     "execution_count": 143,
     "metadata": {},
     "output_type": "execute_result"
    }
   ],
   "source": [
    "frame.age_preds.value_counts()"
   ]
  },
  {
   "cell_type": "code",
   "execution_count": 144,
   "metadata": {},
   "outputs": [
    {
     "data": {
      "text/plain": [
       "(35694, 59)"
      ]
     },
     "execution_count": 144,
     "metadata": {},
     "output_type": "execute_result"
    }
   ],
   "source": [
    "frame = frame.dropna()\n",
    "frame.shape"
   ]
  },
  {
   "cell_type": "code",
   "execution_count": 145,
   "metadata": {},
   "outputs": [
    {
     "data": {
      "text/plain": [
       "00    15395\n",
       "11    12018\n",
       "10     4277\n",
       "01     4004\n",
       "Name: AU6and12_c, dtype: int64"
      ]
     },
     "execution_count": 145,
     "metadata": {},
     "output_type": "execute_result"
    }
   ],
   "source": [
    "frame['AU6and12_c'] = frame.AU06_c.apply(int).apply(str) + frame.AU12_c.apply(int).apply(str)\n",
    "frame.AU6and12_c.value_counts()"
   ]
  },
  {
   "cell_type": "code",
   "execution_count": 146,
   "metadata": {},
   "outputs": [
    {
     "data": {
      "text/plain": [
       "00    23289\n",
       "01     6111\n",
       "11     5431\n",
       "10      863\n",
       "Name: AU6and12_r_c, dtype: int64"
      ]
     },
     "execution_count": 146,
     "metadata": {},
     "output_type": "execute_result"
    }
   ],
   "source": [
    "frame['AU6and12_r_c'] = frame.AU06_r_c.apply(str) + frame.AU12_r_c.apply(str)\n",
    "frame.AU6and12_r_c.value_counts()"
   ]
  },
  {
   "cell_type": "code",
   "execution_count": 147,
   "metadata": {
    "scrolled": false
   },
   "outputs": [
    {
     "name": "stdout",
     "output_type": "stream",
     "text": [
      "['ImageName', 'Expression', 'Happy', 'race_preds', 'gender_preds', 'age_preds', 'race_scores', 'gender_scores', 'age_scores', 'face', 'confidence', 'AU01_c', 'AU02_c', 'AU04_c', 'AU05_c', 'AU06_c', 'AU07_c', 'AU09_c', 'AU10_c', 'AU12_c', 'AU14_c', 'AU15_c', 'AU17_c', 'AU20_c', 'AU23_c', 'AU25_c', 'AU26_c', 'AU28_c', 'AU45_c', 'AU01_r', 'AU02_r', 'AU04_r', 'AU05_r', 'AU06_r', 'AU07_r', 'AU09_r', 'AU10_r', 'AU12_r', 'AU14_r', 'AU15_r', 'AU17_r', 'AU20_r', 'AU23_r', 'AU25_r', 'AU26_r', 'AU45_r', 'AU01_r_c', 'AU02_r_c', 'AU04_r_c', 'AU05_r_c', 'AU06_r_c', 'AU09_r_c', 'AU10_r_c', 'AU12_r_c', 'AU15_r_c', 'AU17_r_c', 'AU20_r_c', 'AU25_r_c', 'AU26_r_c', 'AU6and12_c', 'AU6and12_r_c']\n"
     ]
    }
   ],
   "source": [
    "print(list(frame.columns))"
   ]
  },
  {
   "cell_type": "code",
   "execution_count": 148,
   "metadata": {},
   "outputs": [
    {
     "data": {
      "text/plain": [
       "1.0    24527\n",
       "2.0    11167\n",
       "Name: age, dtype: int64"
      ]
     },
     "execution_count": 148,
     "metadata": {},
     "output_type": "execute_result"
    }
   ],
   "source": [
    "# age label\n",
    "frame.loc[frame['age_preds'] == '0-2', 'age'] = 1\n",
    "frame.loc[frame['age_preds'] == '3-9', 'age'] = 1\n",
    "frame.loc[frame['age_preds'] == '10-19', 'age'] = 1\n",
    "frame.loc[frame['age_preds'] == '20-29', 'age'] = 1\n",
    "frame.loc[frame['age_preds'] == '30-39', 'age'] = 1\n",
    "frame.loc[frame['age_preds'] == '40-49', 'age'] = 2\n",
    "frame.loc[frame['age_preds'] == '50-59', 'age'] = 2\n",
    "frame.loc[frame['age_preds'] == '60-69', 'age'] = 2\n",
    "frame.loc[frame['age_preds'] == 'more than 70', 'age'] = 2\n",
    "frame.age.value_counts()"
   ]
  },
  {
   "cell_type": "code",
   "execution_count": 149,
   "metadata": {},
   "outputs": [
    {
     "data": {
      "text/plain": [
       "less than 40    24527\n",
       "more than 40    11167\n",
       "Name: Age, dtype: int64"
      ]
     },
     "execution_count": 149,
     "metadata": {},
     "output_type": "execute_result"
    }
   ],
   "source": [
    "frame['Age'] = frame['age'].apply(map_age)\n",
    "frame.Age.value_counts()"
   ]
  },
  {
   "cell_type": "code",
   "execution_count": 150,
   "metadata": {},
   "outputs": [
    {
     "name": "stdout",
     "output_type": "stream",
     "text": [
      "(24527, 63)\n",
      "(11167, 63)\n"
     ]
    }
   ],
   "source": [
    "frame_1 = frame.loc[frame['age'] == 1]\n",
    "frame_2 = frame.loc[frame['age'] == 2]\n",
    "print(frame_1.shape)\n",
    "print(frame_2.shape)"
   ]
  },
  {
   "cell_type": "code",
   "execution_count": 151,
   "metadata": {},
   "outputs": [],
   "source": [
    "frame_list = [frame_1, frame_2]\n",
    "name_list = ['less than 40', 'more than 40']"
   ]
  },
  {
   "cell_type": "markdown",
   "metadata": {},
   "source": [
    "# P(expression|AU1, male) =? P(expression|AU1, female)"
   ]
  },
  {
   "cell_type": "markdown",
   "metadata": {},
   "source": [
    "## Happiness"
   ]
  },
  {
   "cell_type": "code",
   "execution_count": 69,
   "metadata": {},
   "outputs": [
    {
     "name": "stdout",
     "output_type": "stream",
     "text": [
      "0.32657887226322013 less than 40 24527\n",
      "0.28163338407808725 more than 40 11167\n"
     ]
    }
   ],
   "source": [
    "for i in range(len(frame_list)):\n",
    "    print(frame_list[i].Happy.mean(), name_list[i], frame_list[i].shape[0])"
   ]
  },
  {
   "cell_type": "code",
   "execution_count": 70,
   "metadata": {},
   "outputs": [
    {
     "name": "stdout",
     "output_type": "stream",
     "text": [
      "0.14824479145431566 less than 40 24527\n",
      "0.2380227455896839 more than 40 11167\n"
     ]
    }
   ],
   "source": [
    "for i in range(len(frame_list)):\n",
    "    print(frame_list[i].AU06_r_c.mean(), name_list[i], frame_list[i].shape[0])"
   ]
  },
  {
   "cell_type": "code",
   "execution_count": 71,
   "metadata": {},
   "outputs": [
    {
     "name": "stdout",
     "output_type": "stream",
     "text": [
      "0.3285766706079015 less than 40 24527\n",
      "0.3119011372794842 more than 40 11167\n"
     ]
    }
   ],
   "source": [
    "for i in range(len(frame_list)):\n",
    "    print(frame_list[i].AU12_r_c.mean(), name_list[i], frame_list[i].shape[0])"
   ]
  },
  {
   "cell_type": "code",
   "execution_count": 72,
   "metadata": {},
   "outputs": [
    {
     "name": "stdout",
     "output_type": "stream",
     "text": [
      "Happy                0         1\n",
      "AU6and12_r_c                    \n",
      "00            0.888373  0.111627\n",
      "01            0.294788  0.705212\n",
      "10            0.727848  0.272152\n",
      "11            0.162952  0.837048 less than 40 24527\n",
      "Happy                0         1\n",
      "AU6and12_r_c                    \n",
      "00            0.921816  0.078184\n",
      "01            0.416181  0.583819\n",
      "10            0.760512  0.239488\n",
      "11            0.216011  0.783989 more than 40 11167\n"
     ]
    }
   ],
   "source": [
    "for i in range(len(frame_list)):\n",
    "    print(pd.crosstab(frame_list[i].AU6and12_r_c, frame_list[i].Happy, normalize = 'index'), name_list[i], frame_list[i].shape[0])"
   ]
  },
  {
   "cell_type": "code",
   "execution_count": 152,
   "metadata": {
    "scrolled": true
   },
   "outputs": [
    {
     "data": {
      "image/png": "[encoded data removed]",
      "text/plain": [
       "<Figure size 432x288 with 1 Axes>"
      ]
     },
     "metadata": {
      "needs_background": "light"
     },
     "output_type": "display_data"
    }
   ],
   "source": [
    "list_00 = []\n",
    "list_01 = []\n",
    "list_10 = []\n",
    "list_11 = []\n",
    "\n",
    "list_00_n = []\n",
    "list_01_n = []\n",
    "list_10_n = []\n",
    "list_11_n = []\n",
    "\n",
    "fig = plt.figure(figsize=(6,4))\n",
    "ax = fig.gca()\n",
    "for i in range(len(frame_list)):\n",
    "    list_00.append(pd.crosstab(frame_list[i].AU6and12_r_c, frame_list[i].Happy, normalize = 'index').loc['00',1])\n",
    "    list_01.append(pd.crosstab(frame_list[i].AU6and12_r_c, frame_list[i].Happy, normalize = 'index').loc['01',1])\n",
    "    list_10.append(pd.crosstab(frame_list[i].AU6and12_r_c, frame_list[i].Happy, normalize = 'index').loc['10',1])\n",
    "    list_11.append(pd.crosstab(frame_list[i].AU6and12_r_c, frame_list[i].Happy, normalize = 'index').loc['11',1])\n",
    "    \n",
    "    list_00_n.append(pd.crosstab(frame_list[i].AU6and12_r_c, frame_list[i].Happy, margins = True).loc['00','All'])\n",
    "    list_01_n.append(pd.crosstab(frame_list[i].AU6and12_r_c, frame_list[i].Happy, margins = True).loc['01','All'])\n",
    "    list_10_n.append(pd.crosstab(frame_list[i].AU6and12_r_c, frame_list[i].Happy, margins = True).loc['10','All'])\n",
    "    list_11_n.append(pd.crosstab(frame_list[i].AU6and12_r_c, frame_list[i].Happy, margins = True).loc['11','All'])\n",
    "    \n",
    "result_df = pd.DataFrame({\"00\": list_00, \"10\": list_10, \"01\": list_01, \"11\": list_11,\n",
    "                         \"00_n\": list_00_n, \"10_n\": list_10_n, \"01_n\": list_01_n, \"11_n\": list_11_n}, index = name_list)\n",
    "result_df['00_std'] = np.sqrt(result_df['00'] * (1-result_df['00']) / result_df['00_n'])\n",
    "result_df['10_std'] = np.sqrt(result_df['10'] * (1-result_df['10']) / result_df['10_n'])\n",
    "result_df['01_std'] = np.sqrt(result_df['01'] * (1-result_df['01']) / result_df['01_n'])\n",
    "result_df['11_std'] = np.sqrt(result_df['11'] * (1-result_df['11']) / result_df['11_n'])\n",
    "result_df\n",
    "for index, row in result_df.iterrows():\n",
    "    plt.errorbar(list(result_df.columns)[:4], list(row)[:4], yerr = list(row)[8:], label = index, capsize = 3)\n",
    "plt.legend(fontsize = 13)\n",
    "plt.xlabel('(AU6, AU12)', fontsize = 14)\n",
    "plt.ylabel('P(Happy|AU)', fontsize = 14)\n",
    "plt.title('AffectNet-Manual', fontsize = 16)\n",
    "plt.tight_layout()\n",
    "plt.savefig('age_race_bias_plots/age_2_groups_graphs/AffectNet_Manual_happy_2_all.pdf')\n",
    "plt.show()"
   ]
  },
  {
   "cell_type": "code",
   "execution_count": 74,
   "metadata": {
    "scrolled": false
   },
   "outputs": [
    {
     "data": {
      "text/html": [
       "<div>\n",
       "<style scoped>\n",
       "    .dataframe tbody tr th:only-of-type {\n",
       "        vertical-align: middle;\n",
       "    }\n",
       "\n",
       "    .dataframe tbody tr th {\n",
       "        vertical-align: top;\n",
       "    }\n",
       "\n",
       "    .dataframe thead th {\n",
       "        text-align: right;\n",
       "    }\n",
       "</style>\n",
       "<table border=\"1\" class=\"dataframe\">\n",
       "  <thead>\n",
       "    <tr style=\"text-align: right;\">\n",
       "      <th></th>\n",
       "      <th>00</th>\n",
       "      <th>10</th>\n",
       "      <th>01</th>\n",
       "      <th>11</th>\n",
       "      <th>00_n</th>\n",
       "      <th>10_n</th>\n",
       "      <th>01_n</th>\n",
       "      <th>11_n</th>\n",
       "      <th>00_std</th>\n",
       "      <th>10_std</th>\n",
       "      <th>01_std</th>\n",
       "      <th>11_std</th>\n",
       "    </tr>\n",
       "  </thead>\n",
       "  <tbody>\n",
       "    <tr>\n",
       "      <th>less than 40</th>\n",
       "      <td>0.111627</td>\n",
       "      <td>0.272152</td>\n",
       "      <td>0.705212</td>\n",
       "      <td>0.837048</td>\n",
       "      <td>16152</td>\n",
       "      <td>316</td>\n",
       "      <td>4739</td>\n",
       "      <td>3320</td>\n",
       "      <td>0.002478</td>\n",
       "      <td>0.025037</td>\n",
       "      <td>0.006623</td>\n",
       "      <td>0.006410</td>\n",
       "    </tr>\n",
       "    <tr>\n",
       "      <th>more than 40</th>\n",
       "      <td>0.078184</td>\n",
       "      <td>0.239488</td>\n",
       "      <td>0.583819</td>\n",
       "      <td>0.783989</td>\n",
       "      <td>7137</td>\n",
       "      <td>547</td>\n",
       "      <td>1372</td>\n",
       "      <td>2111</td>\n",
       "      <td>0.003178</td>\n",
       "      <td>0.018247</td>\n",
       "      <td>0.013308</td>\n",
       "      <td>0.008957</td>\n",
       "    </tr>\n",
       "  </tbody>\n",
       "</table>\n",
       "</div>"
      ],
      "text/plain": [
       "                    00        10        01        11   00_n  10_n  01_n  11_n  \\\n",
       "less than 40  0.111627  0.272152  0.705212  0.837048  16152   316  4739  3320   \n",
       "more than 40  0.078184  0.239488  0.583819  0.783989   7137   547  1372  2111   \n",
       "\n",
       "                00_std    10_std    01_std    11_std  \n",
       "less than 40  0.002478  0.025037  0.006623  0.006410  \n",
       "more than 40  0.003178  0.018247  0.013308  0.008957  "
      ]
     },
     "execution_count": 74,
     "metadata": {},
     "output_type": "execute_result"
    }
   ],
   "source": [
    "result_df"
   ]
  },
  {
   "cell_type": "code",
   "execution_count": 77,
   "metadata": {},
   "outputs": [
    {
     "name": "stdout",
     "output_type": "stream",
     "text": [
      "00\n",
      "60.768403188110454\n",
      "6.439293542825908e-15\n",
      "\n",
      "10\n",
      "1.1353398522157436\n",
      "0.2866391981596187\n",
      "\n",
      "01\n",
      "71.81234933845984\n",
      "0.0\n",
      "\n",
      "11\n",
      "24.240556758784784\n",
      "8.502291992673605e-07\n",
      "\n"
     ]
    }
   ],
   "source": [
    "for AU_comb in ['00','10', '01', '11']:\n",
    "    print(AU_comb)\n",
    "    combined_df = pd.DataFrame()\n",
    "    for i in range(len(frame_list)):\n",
    "        combined_df = combined_df.append(pd.crosstab(frame_list[i][frame_list[i].AU6and12_r_c == AU_comb].age, frame_list[i][frame_list[i].AU6and12_r_c == AU_comb].Happy))\n",
    "    combined_df\n",
    "    combined_df[\"row_totals\"] = combined_df[0] + combined_df[1]\n",
    "    combined_df.loc[\"col_totals\"] = combined_df.sum()\n",
    "    combined_df\n",
    "    observed = combined_df.iloc[0:-1,0:-1]   # Get table without totals for later use\n",
    "\n",
    "    expected =  np.outer(combined_df[\"row_totals\"][0:-1],\n",
    "                     combined_df.loc[\"col_totals\"][0:-1]) / combined_df.loc['col_totals', 'row_totals']\n",
    "\n",
    "    expected = pd.DataFrame(expected)\n",
    "    expected.columns = [0,1]\n",
    "    expected.index = combined_df.index[:-1]\n",
    "\n",
    "    if (expected>=5).sum().sum() == (combined_df.shape[0]-1) * (combined_df.shape[1]-1):\n",
    "        chi_squared_stat = (((observed-expected)**2)/expected).sum().sum()\n",
    "        p_value = 1 - stats.chi2.cdf(x=chi_squared_stat, df= (combined_df.shape[0]-2) * (combined_df.shape[1]-2))\n",
    "    else:\n",
    "        chi_squared_stat = np.nan\n",
    "        p_value = np.nan\n",
    "\n",
    "    print(chi_squared_stat)\n",
    "    print(p_value)\n",
    "    print()"
   ]
  },
  {
   "cell_type": "code",
   "execution_count": 78,
   "metadata": {},
   "outputs": [
    {
     "data": {
      "image/png": "[encoded data removed]",
      "text/plain": [
       "<Figure size 432x288 with 1 Axes>"
      ]
     },
     "metadata": {
      "needs_background": "light"
     },
     "output_type": "display_data"
    }
   ],
   "source": [
    "sns.lmplot(x='AU06_r', y='Happy', data=frame, hue = 'Age', logistic=True, scatter = False, hue_order = ['less than 40', 'more than 40'], legend=False, height=4, aspect=6/4)\n",
    "plt.legend(fontsize=13)\n",
    "plt.xlabel(\"AU6 intensity\", fontsize=14)\n",
    "plt.ylabel(\"Proportion of 'Happy' Labels\", fontsize=14)\n",
    "plt.title('P(Happy|AU6) for AffectNet-Manual', fontsize=14)\n",
    "plt.tight_layout()\n",
    "plt.savefig('age_race_bias_plots/age_2_groups_graphs/AffectNet_Manual_happy_2_AU6.pdf')\n",
    "plt.show()"
   ]
  },
  {
   "cell_type": "code",
   "execution_count": 79,
   "metadata": {},
   "outputs": [
    {
     "data": {
      "image/png": "[encoded data removed]",
      "text/plain": [
       "<Figure size 432x288 with 1 Axes>"
      ]
     },
     "metadata": {
      "needs_background": "light"
     },
     "output_type": "display_data"
    }
   ],
   "source": [
    "sns.lmplot(x='AU12_r', y='Happy', data=frame, hue = 'Age', logistic=True, scatter = False, hue_order = ['less than 40', 'more than 40'], legend=False, height=4, aspect=6/4)\n",
    "plt.legend(fontsize=13)\n",
    "plt.xlabel(\"AU12 intensity\", fontsize=14)\n",
    "plt.ylabel(\"Proportion of 'Happy' Labels\", fontsize=14)\n",
    "plt.title('P(Happy|AU12) for AffectNet-Manual', fontsize=14)\n",
    "plt.tight_layout()\n",
    "plt.savefig('age_race_bias_plots/age_2_groups_graphs/AffectNet_Manual_happy_2_AU12.pdf')\n",
    "plt.show()"
   ]
  },
  {
   "cell_type": "code",
   "execution_count": 80,
   "metadata": {},
   "outputs": [
    {
     "name": "stdout",
     "output_type": "stream",
     "text": [
      "                 Generalized Linear Model Regression Results                  \n",
      "==============================================================================\n",
      "Dep. Variable:                  Happy   No. Observations:                35694\n",
      "Model:                            GLM   Df Residuals:                    35690\n",
      "Model Family:                Binomial   Df Model:                            3\n",
      "Link Function:                  logit   Scale:                          1.0000\n",
      "Method:                          IRLS   Log-Likelihood:                -12875.\n",
      "Date:                Sun, 08 Aug 2021   Deviance:                       25750.\n",
      "Time:                        23:23:20   Pearson chi2:                 3.67e+04\n",
      "No. Iterations:                     6                                         \n",
      "Covariance Type:            nonrobust                                         \n",
      "=======================================================================================\n",
      "                          coef    std err          z      P>|z|      [0.025      0.975]\n",
      "---------------------------------------------------------------------------------------\n",
      "Intercept              -2.8799      0.029    -97.898      0.000      -2.938      -2.822\n",
      "Age[T.more than 40]    -0.3426      0.037     -9.254      0.000      -0.415      -0.270\n",
      "AU06_r                  0.1599      0.026      6.262      0.000       0.110       0.210\n",
      "AU12_r                  1.7569      0.024     71.782      0.000       1.709       1.805\n",
      "=======================================================================================\n"
     ]
    }
   ],
   "source": [
    "formula = 'Happy ~ AU06_r + AU12_r + Age'\n",
    "model = smf.glm(formula = formula, data=frame, family=sm.families.Binomial())\n",
    "result = model.fit()\n",
    "print(result.summary())"
   ]
  },
  {
   "cell_type": "markdown",
   "metadata": {},
   "source": [
    "# AffectNet Automatic"
   ]
  },
  {
   "cell_type": "code",
   "execution_count": 153,
   "metadata": {
    "scrolled": true
   },
   "outputs": [
    {
     "name": "stdout",
     "output_type": "stream",
     "text": [
      "(42284, 59)\n"
     ]
    },
    {
     "data": {
      "text/html": [
       "<div>\n",
       "<style scoped>\n",
       "    .dataframe tbody tr th:only-of-type {\n",
       "        vertical-align: middle;\n",
       "    }\n",
       "\n",
       "    .dataframe tbody tr th {\n",
       "        vertical-align: top;\n",
       "    }\n",
       "\n",
       "    .dataframe thead th {\n",
       "        text-align: right;\n",
       "    }\n",
       "</style>\n",
       "<table border=\"1\" class=\"dataframe\">\n",
       "  <thead>\n",
       "    <tr style=\"text-align: right;\">\n",
       "      <th></th>\n",
       "      <th>ImageName</th>\n",
       "      <th>Expression</th>\n",
       "      <th>Happy</th>\n",
       "      <th>race_preds</th>\n",
       "      <th>gender_preds</th>\n",
       "      <th>age_preds</th>\n",
       "      <th>race_scores</th>\n",
       "      <th>gender_scores</th>\n",
       "      <th>age_scores</th>\n",
       "      <th>face</th>\n",
       "      <th>...</th>\n",
       "      <th>AU05_r_c</th>\n",
       "      <th>AU06_r_c</th>\n",
       "      <th>AU09_r_c</th>\n",
       "      <th>AU10_r_c</th>\n",
       "      <th>AU12_r_c</th>\n",
       "      <th>AU15_r_c</th>\n",
       "      <th>AU17_r_c</th>\n",
       "      <th>AU20_r_c</th>\n",
       "      <th>AU25_r_c</th>\n",
       "      <th>AU26_r_c</th>\n",
       "    </tr>\n",
       "  </thead>\n",
       "  <tbody>\n",
       "    <tr>\n",
       "      <th>0</th>\n",
       "      <td>0000278c7363d43c42a4db994a51e36aad351f55e77680...</td>\n",
       "      <td>10</td>\n",
       "      <td>0</td>\n",
       "      <td>White</td>\n",
       "      <td>Female</td>\n",
       "      <td>40-49</td>\n",
       "      <td>[9.7449505e-01 5.2814976e-06 5.5093807e-03 4.6...</td>\n",
       "      <td>[7.1670633e-04 9.9928331e-01]</td>\n",
       "      <td>[2.2580596e-07 1.7767234e-06 2.0319392e-04 2.8...</td>\n",
       "      <td>0</td>\n",
       "      <td>...</td>\n",
       "      <td>0</td>\n",
       "      <td>0</td>\n",
       "      <td>0</td>\n",
       "      <td>1</td>\n",
       "      <td>0</td>\n",
       "      <td>0</td>\n",
       "      <td>0</td>\n",
       "      <td>0</td>\n",
       "      <td>1</td>\n",
       "      <td>0</td>\n",
       "    </tr>\n",
       "    <tr>\n",
       "      <th>1</th>\n",
       "      <td>0000fa4e4ffdc2a6042a0eadf8a2d067774705ba17721a...</td>\n",
       "      <td>10</td>\n",
       "      <td>0</td>\n",
       "      <td>East Asian</td>\n",
       "      <td>Female</td>\n",
       "      <td>20-29</td>\n",
       "      <td>[1.9185199e-01 7.3396941e-06 1.9742842e-03 7.8...</td>\n",
       "      <td>[6.5521155e-05 9.9993443e-01]</td>\n",
       "      <td>[1.48235313e-06 3.44420609e-04 2.11575143e-02 ...</td>\n",
       "      <td>0</td>\n",
       "      <td>...</td>\n",
       "      <td>0</td>\n",
       "      <td>0</td>\n",
       "      <td>0</td>\n",
       "      <td>0</td>\n",
       "      <td>0</td>\n",
       "      <td>0</td>\n",
       "      <td>0</td>\n",
       "      <td>0</td>\n",
       "      <td>1</td>\n",
       "      <td>0</td>\n",
       "    </tr>\n",
       "    <tr>\n",
       "      <th>2</th>\n",
       "      <td>00017248a05758584faf54d4ccdb23d5365a5bfc3e3aee...</td>\n",
       "      <td>0</td>\n",
       "      <td>0</td>\n",
       "      <td>Black</td>\n",
       "      <td>Female</td>\n",
       "      <td>30-39</td>\n",
       "      <td>[2.06290515e-05 9.99178529e-01 1.19858145e-04 ...</td>\n",
       "      <td>[0.00982992 0.9901701 ]</td>\n",
       "      <td>[1.80382315e-07 2.75580824e-05 3.95781221e-03 ...</td>\n",
       "      <td>0</td>\n",
       "      <td>...</td>\n",
       "      <td>0</td>\n",
       "      <td>0</td>\n",
       "      <td>0</td>\n",
       "      <td>0</td>\n",
       "      <td>0</td>\n",
       "      <td>0</td>\n",
       "      <td>0</td>\n",
       "      <td>0</td>\n",
       "      <td>0</td>\n",
       "      <td>0</td>\n",
       "    </tr>\n",
       "    <tr>\n",
       "      <th>3</th>\n",
       "      <td>000364dc26143c95e73e8dca30c0f3730db84c295c0b48...</td>\n",
       "      <td>1</td>\n",
       "      <td>1</td>\n",
       "      <td>East Asian</td>\n",
       "      <td>Female</td>\n",
       "      <td>20-29</td>\n",
       "      <td>[9.0016201e-03 2.3799853e-06 2.5050717e-03 9.5...</td>\n",
       "      <td>[6.7393144e-06 9.9999321e-01]</td>\n",
       "      <td>[1.0476051e-07 6.7055156e-04 1.7963018e-01 8.1...</td>\n",
       "      <td>0</td>\n",
       "      <td>...</td>\n",
       "      <td>0</td>\n",
       "      <td>0</td>\n",
       "      <td>0</td>\n",
       "      <td>0</td>\n",
       "      <td>1</td>\n",
       "      <td>0</td>\n",
       "      <td>0</td>\n",
       "      <td>0</td>\n",
       "      <td>0</td>\n",
       "      <td>0</td>\n",
       "    </tr>\n",
       "    <tr>\n",
       "      <th>4</th>\n",
       "      <td>0003a7c1e380e87c864436434115f656c92b695e384f88...</td>\n",
       "      <td>10</td>\n",
       "      <td>0</td>\n",
       "      <td>White</td>\n",
       "      <td>Female</td>\n",
       "      <td>20-29</td>\n",
       "      <td>[0.60690844 0.01389638 0.2529639  0.00064708 0...</td>\n",
       "      <td>[0.00108382 0.9989162 ]</td>\n",
       "      <td>[9.6977169e-07 3.5300865e-04 4.1254394e-02 6.1...</td>\n",
       "      <td>0</td>\n",
       "      <td>...</td>\n",
       "      <td>0</td>\n",
       "      <td>0</td>\n",
       "      <td>0</td>\n",
       "      <td>1</td>\n",
       "      <td>0</td>\n",
       "      <td>1</td>\n",
       "      <td>0</td>\n",
       "      <td>0</td>\n",
       "      <td>0</td>\n",
       "      <td>0</td>\n",
       "    </tr>\n",
       "  </tbody>\n",
       "</table>\n",
       "<p>5 rows × 59 columns</p>\n",
       "</div>"
      ],
      "text/plain": [
       "                                           ImageName  Expression  Happy  \\\n",
       "0  0000278c7363d43c42a4db994a51e36aad351f55e77680...          10      0   \n",
       "1  0000fa4e4ffdc2a6042a0eadf8a2d067774705ba17721a...          10      0   \n",
       "2  00017248a05758584faf54d4ccdb23d5365a5bfc3e3aee...           0      0   \n",
       "3  000364dc26143c95e73e8dca30c0f3730db84c295c0b48...           1      1   \n",
       "4  0003a7c1e380e87c864436434115f656c92b695e384f88...          10      0   \n",
       "\n",
       "   race_preds gender_preds age_preds  \\\n",
       "0       White       Female     40-49   \n",
       "1  East Asian       Female     20-29   \n",
       "2       Black       Female     30-39   \n",
       "3  East Asian       Female     20-29   \n",
       "4       White       Female     20-29   \n",
       "\n",
       "                                         race_scores  \\\n",
       "0  [9.7449505e-01 5.2814976e-06 5.5093807e-03 4.6...   \n",
       "1  [1.9185199e-01 7.3396941e-06 1.9742842e-03 7.8...   \n",
       "2  [2.06290515e-05 9.99178529e-01 1.19858145e-04 ...   \n",
       "3  [9.0016201e-03 2.3799853e-06 2.5050717e-03 9.5...   \n",
       "4  [0.60690844 0.01389638 0.2529639  0.00064708 0...   \n",
       "\n",
       "                   gender_scores  \\\n",
       "0  [7.1670633e-04 9.9928331e-01]   \n",
       "1  [6.5521155e-05 9.9993443e-01]   \n",
       "2        [0.00982992 0.9901701 ]   \n",
       "3  [6.7393144e-06 9.9999321e-01]   \n",
       "4        [0.00108382 0.9989162 ]   \n",
       "\n",
       "                                          age_scores  face  ...  AU05_r_c  \\\n",
       "0  [2.2580596e-07 1.7767234e-06 2.0319392e-04 2.8...     0  ...         0   \n",
       "1  [1.48235313e-06 3.44420609e-04 2.11575143e-02 ...     0  ...         0   \n",
       "2  [1.80382315e-07 2.75580824e-05 3.95781221e-03 ...     0  ...         0   \n",
       "3  [1.0476051e-07 6.7055156e-04 1.7963018e-01 8.1...     0  ...         0   \n",
       "4  [9.6977169e-07 3.5300865e-04 4.1254394e-02 6.1...     0  ...         0   \n",
       "\n",
       "   AU06_r_c  AU09_r_c  AU10_r_c  AU12_r_c  AU15_r_c  AU17_r_c  AU20_r_c  \\\n",
       "0         0         0         1         0         0         0         0   \n",
       "1         0         0         0         0         0         0         0   \n",
       "2         0         0         0         0         0         0         0   \n",
       "3         0         0         0         1         0         0         0   \n",
       "4         0         0         1         0         1         0         0   \n",
       "\n",
       "   AU25_r_c  AU26_r_c  \n",
       "0         1         0  \n",
       "1         1         0  \n",
       "2         0         0  \n",
       "3         0         0  \n",
       "4         0         0  \n",
       "\n",
       "[5 rows x 59 columns]"
      ]
     },
     "execution_count": 153,
     "metadata": {},
     "output_type": "execute_result"
    }
   ],
   "source": [
    "frame = pd.read_csv('AffectNet_Automatic_OpenFace_result_with_expression_gender_race_age.csv')\n",
    "print(frame.shape)\n",
    "frame.head()"
   ]
  },
  {
   "cell_type": "code",
   "execution_count": 154,
   "metadata": {},
   "outputs": [
    {
     "data": {
      "text/plain": [
       "20-29           17646\n",
       "30-39            6465\n",
       "40-49            4580\n",
       "50-59            3852\n",
       "10-19            2724\n",
       "3-9              2396\n",
       "60-69            2099\n",
       "0-2              1756\n",
       "more than 70      766\n",
       "Name: age_preds, dtype: int64"
      ]
     },
     "execution_count": 154,
     "metadata": {},
     "output_type": "execute_result"
    }
   ],
   "source": [
    "frame.age_preds.value_counts()"
   ]
  },
  {
   "cell_type": "code",
   "execution_count": 155,
   "metadata": {},
   "outputs": [
    {
     "data": {
      "text/plain": [
       "(42284, 59)"
      ]
     },
     "execution_count": 155,
     "metadata": {},
     "output_type": "execute_result"
    }
   ],
   "source": [
    "frame = frame.dropna()\n",
    "frame.shape"
   ]
  },
  {
   "cell_type": "code",
   "execution_count": 156,
   "metadata": {},
   "outputs": [
    {
     "data": {
      "text/plain": [
       "00    18398\n",
       "11    14291\n",
       "01     5093\n",
       "10     4502\n",
       "Name: AU6and12_c, dtype: int64"
      ]
     },
     "execution_count": 156,
     "metadata": {},
     "output_type": "execute_result"
    }
   ],
   "source": [
    "frame['AU6and12_c'] = frame.AU06_c.apply(int).apply(str) + frame.AU12_c.apply(int).apply(str)\n",
    "frame.AU6and12_c.value_counts()"
   ]
  },
  {
   "cell_type": "code",
   "execution_count": 157,
   "metadata": {},
   "outputs": [
    {
     "data": {
      "text/plain": [
       "00    27828\n",
       "01     7198\n",
       "11     6392\n",
       "10      866\n",
       "Name: AU6and12_r_c, dtype: int64"
      ]
     },
     "execution_count": 157,
     "metadata": {},
     "output_type": "execute_result"
    }
   ],
   "source": [
    "frame['AU6and12_r_c'] = frame.AU06_r_c.apply(str) + frame.AU12_r_c.apply(str)\n",
    "frame.AU6and12_r_c.value_counts()"
   ]
  },
  {
   "cell_type": "code",
   "execution_count": 158,
   "metadata": {
    "scrolled": false
   },
   "outputs": [
    {
     "name": "stdout",
     "output_type": "stream",
     "text": [
      "['ImageName', 'Expression', 'Happy', 'race_preds', 'gender_preds', 'age_preds', 'race_scores', 'gender_scores', 'age_scores', 'face', 'confidence', 'AU01_c', 'AU02_c', 'AU04_c', 'AU05_c', 'AU06_c', 'AU07_c', 'AU09_c', 'AU10_c', 'AU12_c', 'AU14_c', 'AU15_c', 'AU17_c', 'AU20_c', 'AU23_c', 'AU25_c', 'AU26_c', 'AU28_c', 'AU45_c', 'AU01_r', 'AU02_r', 'AU04_r', 'AU05_r', 'AU06_r', 'AU07_r', 'AU09_r', 'AU10_r', 'AU12_r', 'AU14_r', 'AU15_r', 'AU17_r', 'AU20_r', 'AU23_r', 'AU25_r', 'AU26_r', 'AU45_r', 'AU01_r_c', 'AU02_r_c', 'AU04_r_c', 'AU05_r_c', 'AU06_r_c', 'AU09_r_c', 'AU10_r_c', 'AU12_r_c', 'AU15_r_c', 'AU17_r_c', 'AU20_r_c', 'AU25_r_c', 'AU26_r_c', 'AU6and12_c', 'AU6and12_r_c']\n"
     ]
    }
   ],
   "source": [
    "print(list(frame.columns))"
   ]
  },
  {
   "cell_type": "code",
   "execution_count": 159,
   "metadata": {},
   "outputs": [
    {
     "data": {
      "text/plain": [
       "1.0    30987\n",
       "2.0    11297\n",
       "Name: age, dtype: int64"
      ]
     },
     "execution_count": 159,
     "metadata": {},
     "output_type": "execute_result"
    }
   ],
   "source": [
    "# age label\n",
    "frame.loc[frame['age_preds'] == '0-2', 'age'] = 1\n",
    "frame.loc[frame['age_preds'] == '3-9', 'age'] = 1\n",
    "frame.loc[frame['age_preds'] == '10-19', 'age'] = 1\n",
    "frame.loc[frame['age_preds'] == '20-29', 'age'] = 1\n",
    "frame.loc[frame['age_preds'] == '30-39', 'age'] = 1\n",
    "frame.loc[frame['age_preds'] == '40-49', 'age'] = 2\n",
    "frame.loc[frame['age_preds'] == '50-59', 'age'] = 2\n",
    "frame.loc[frame['age_preds'] == '60-69', 'age'] = 2\n",
    "frame.loc[frame['age_preds'] == 'more than 70', 'age'] = 2\n",
    "frame.age.value_counts()"
   ]
  },
  {
   "cell_type": "code",
   "execution_count": 160,
   "metadata": {},
   "outputs": [
    {
     "data": {
      "text/plain": [
       "less than 40    30987\n",
       "more than 40    11297\n",
       "Name: Age, dtype: int64"
      ]
     },
     "execution_count": 160,
     "metadata": {},
     "output_type": "execute_result"
    }
   ],
   "source": [
    "frame['Age'] = frame['age'].apply(map_age)\n",
    "frame.Age.value_counts()"
   ]
  },
  {
   "cell_type": "code",
   "execution_count": 161,
   "metadata": {},
   "outputs": [
    {
     "name": "stdout",
     "output_type": "stream",
     "text": [
      "(30987, 63)\n",
      "(11297, 63)\n"
     ]
    }
   ],
   "source": [
    "frame_1 = frame.loc[frame['age'] == 1]\n",
    "frame_2 = frame.loc[frame['age'] == 2]\n",
    "print(frame_1.shape)\n",
    "print(frame_2.shape)"
   ]
  },
  {
   "cell_type": "code",
   "execution_count": 162,
   "metadata": {},
   "outputs": [],
   "source": [
    "frame_list = [frame_1, frame_2]\n",
    "name_list = ['less than 40', 'more than 40']"
   ]
  },
  {
   "cell_type": "markdown",
   "metadata": {},
   "source": [
    "# P(expression|AU1, male) =? P(expression|AU1, female)"
   ]
  },
  {
   "cell_type": "markdown",
   "metadata": {},
   "source": [
    "## Happiness"
   ]
  },
  {
   "cell_type": "code",
   "execution_count": 91,
   "metadata": {},
   "outputs": [
    {
     "name": "stdout",
     "output_type": "stream",
     "text": [
      "0.4263400780972666 less than 40 30987\n",
      "0.39001504824289634 more than 40 11297\n"
     ]
    }
   ],
   "source": [
    "for i in range(len(frame_list)):\n",
    "    print(frame_list[i].Happy.mean(), name_list[i], frame_list[i].shape[0])"
   ]
  },
  {
   "cell_type": "code",
   "execution_count": 92,
   "metadata": {},
   "outputs": [
    {
     "name": "stdout",
     "output_type": "stream",
     "text": [
      "0.1461580662858618 less than 40 30987\n",
      "0.24156855802425423 more than 40 11297\n"
     ]
    }
   ],
   "source": [
    "for i in range(len(frame_list)):\n",
    "    print(frame_list[i].AU06_r_c.mean(), name_list[i], frame_list[i].shape[0])"
   ]
  },
  {
   "cell_type": "code",
   "execution_count": 93,
   "metadata": {},
   "outputs": [
    {
     "name": "stdout",
     "output_type": "stream",
     "text": [
      "0.3270403717688063 less than 40 30987\n",
      "0.30592192617509073 more than 40 11297\n"
     ]
    }
   ],
   "source": [
    "for i in range(len(frame_list)):\n",
    "    print(frame_list[i].AU12_r_c.mean(), name_list[i], frame_list[i].shape[0])"
   ]
  },
  {
   "cell_type": "code",
   "execution_count": 94,
   "metadata": {},
   "outputs": [
    {
     "name": "stdout",
     "output_type": "stream",
     "text": [
      "Happy                0         1\n",
      "AU6and12_r_c                    \n",
      "00            0.802031  0.197969\n",
      "01            0.140084  0.859916\n",
      "10            0.521622  0.478378\n",
      "11            0.076461  0.923539 less than 40 30987\n",
      "Happy                0         1\n",
      "AU6and12_r_c                    \n",
      "00            0.841797  0.158203\n",
      "01            0.200327  0.799673\n",
      "10            0.564516  0.435484\n",
      "11            0.081953  0.918047 more than 40 11297\n"
     ]
    }
   ],
   "source": [
    "for i in range(len(frame_list)):\n",
    "    print(pd.crosstab(frame_list[i].AU6and12_r_c, frame_list[i].Happy, normalize = 'index'), name_list[i], frame_list[i].shape[0])"
   ]
  },
  {
   "cell_type": "code",
   "execution_count": 163,
   "metadata": {},
   "outputs": [
    {
     "data": {
      "image/png": "[encoded data removed]",
      "text/plain": [
       "<Figure size 432x288 with 1 Axes>"
      ]
     },
     "metadata": {
      "needs_background": "light"
     },
     "output_type": "display_data"
    }
   ],
   "source": [
    "list_00 = []\n",
    "list_01 = []\n",
    "list_10 = []\n",
    "list_11 = []\n",
    "\n",
    "list_00_n = []\n",
    "list_01_n = []\n",
    "list_10_n = []\n",
    "list_11_n = []\n",
    "\n",
    "fig = plt.figure(figsize=(6,4))\n",
    "ax = fig.gca()\n",
    "for i in range(len(frame_list)):\n",
    "    list_00.append(pd.crosstab(frame_list[i].AU6and12_r_c, frame_list[i].Happy, normalize = 'index').loc['00',1])\n",
    "    list_01.append(pd.crosstab(frame_list[i].AU6and12_r_c, frame_list[i].Happy, normalize = 'index').loc['01',1])\n",
    "    list_10.append(pd.crosstab(frame_list[i].AU6and12_r_c, frame_list[i].Happy, normalize = 'index').loc['10',1])\n",
    "    list_11.append(pd.crosstab(frame_list[i].AU6and12_r_c, frame_list[i].Happy, normalize = 'index').loc['11',1])\n",
    "    \n",
    "    list_00_n.append(pd.crosstab(frame_list[i].AU6and12_r_c, frame_list[i].Happy, margins = True).loc['00','All'])\n",
    "    list_01_n.append(pd.crosstab(frame_list[i].AU6and12_r_c, frame_list[i].Happy, margins = True).loc['01','All'])\n",
    "    list_10_n.append(pd.crosstab(frame_list[i].AU6and12_r_c, frame_list[i].Happy, margins = True).loc['10','All'])\n",
    "    list_11_n.append(pd.crosstab(frame_list[i].AU6and12_r_c, frame_list[i].Happy, margins = True).loc['11','All'])\n",
    "    \n",
    "result_df = pd.DataFrame({\"00\": list_00, \"10\": list_10, \"01\": list_01, \"11\": list_11,\n",
    "                         \"00_n\": list_00_n, \"10_n\": list_10_n, \"01_n\": list_01_n, \"11_n\": list_11_n}, index = name_list)\n",
    "result_df['00_std'] = np.sqrt(result_df['00'] * (1-result_df['00']) / result_df['00_n'])\n",
    "result_df['10_std'] = np.sqrt(result_df['10'] * (1-result_df['10']) / result_df['10_n'])\n",
    "result_df['01_std'] = np.sqrt(result_df['01'] * (1-result_df['01']) / result_df['01_n'])\n",
    "result_df['11_std'] = np.sqrt(result_df['11'] * (1-result_df['11']) / result_df['11_n'])\n",
    "result_df\n",
    "for index, row in result_df.iterrows():\n",
    "    plt.errorbar(list(result_df.columns)[:4], list(row)[:4], yerr = list(row)[8:], label = index, capsize = 3)\n",
    "plt.legend(fontsize = 13)\n",
    "plt.xlabel('(AU6, AU12)', fontsize = 14)\n",
    "plt.ylabel('P(Happy|AU)', fontsize = 14)\n",
    "plt.title('AffectNet-Automatic', fontsize = 16)\n",
    "plt.tight_layout()\n",
    "plt.savefig('age_race_bias_plots/age_2_groups_graphs/AffectNet_Automatic_happy_2_all.pdf')\n",
    "plt.show()"
   ]
  },
  {
   "cell_type": "code",
   "execution_count": 96,
   "metadata": {
    "scrolled": false
   },
   "outputs": [
    {
     "data": {
      "text/html": [
       "<div>\n",
       "<style scoped>\n",
       "    .dataframe tbody tr th:only-of-type {\n",
       "        vertical-align: middle;\n",
       "    }\n",
       "\n",
       "    .dataframe tbody tr th {\n",
       "        vertical-align: top;\n",
       "    }\n",
       "\n",
       "    .dataframe thead th {\n",
       "        text-align: right;\n",
       "    }\n",
       "</style>\n",
       "<table border=\"1\" class=\"dataframe\">\n",
       "  <thead>\n",
       "    <tr style=\"text-align: right;\">\n",
       "      <th></th>\n",
       "      <th>00</th>\n",
       "      <th>10</th>\n",
       "      <th>01</th>\n",
       "      <th>11</th>\n",
       "      <th>00_n</th>\n",
       "      <th>10_n</th>\n",
       "      <th>01_n</th>\n",
       "      <th>11_n</th>\n",
       "      <th>00_std</th>\n",
       "      <th>10_std</th>\n",
       "      <th>01_std</th>\n",
       "      <th>11_std</th>\n",
       "    </tr>\n",
       "  </thead>\n",
       "  <tbody>\n",
       "    <tr>\n",
       "      <th>less than 40</th>\n",
       "      <td>0.197969</td>\n",
       "      <td>0.478378</td>\n",
       "      <td>0.859916</td>\n",
       "      <td>0.923539</td>\n",
       "      <td>20483</td>\n",
       "      <td>370</td>\n",
       "      <td>5975</td>\n",
       "      <td>4159</td>\n",
       "      <td>0.002784</td>\n",
       "      <td>0.025969</td>\n",
       "      <td>0.004490</td>\n",
       "      <td>0.004121</td>\n",
       "    </tr>\n",
       "    <tr>\n",
       "      <th>more than 40</th>\n",
       "      <td>0.158203</td>\n",
       "      <td>0.435484</td>\n",
       "      <td>0.799673</td>\n",
       "      <td>0.918047</td>\n",
       "      <td>7345</td>\n",
       "      <td>496</td>\n",
       "      <td>1223</td>\n",
       "      <td>2233</td>\n",
       "      <td>0.004258</td>\n",
       "      <td>0.022263</td>\n",
       "      <td>0.011445</td>\n",
       "      <td>0.005805</td>\n",
       "    </tr>\n",
       "  </tbody>\n",
       "</table>\n",
       "</div>"
      ],
      "text/plain": [
       "                    00        10        01        11   00_n  10_n  01_n  11_n  \\\n",
       "less than 40  0.197969  0.478378  0.859916  0.923539  20483   370  5975  4159   \n",
       "more than 40  0.158203  0.435484  0.799673  0.918047   7345   496  1223  2233   \n",
       "\n",
       "                00_std    10_std    01_std    11_std  \n",
       "less than 40  0.002784  0.025969  0.004490  0.004121  \n",
       "more than 40  0.004258  0.022263  0.011445  0.005805  "
      ]
     },
     "execution_count": 96,
     "metadata": {},
     "output_type": "execute_result"
    }
   ],
   "source": [
    "result_df"
   ]
  },
  {
   "cell_type": "code",
   "execution_count": 97,
   "metadata": {},
   "outputs": [
    {
     "data": {
      "text/plain": [
       "00            0.039766\n",
       "10            0.042895\n",
       "01            0.060243\n",
       "11            0.005492\n",
       "00_n      13138.000000\n",
       "10_n       -126.000000\n",
       "01_n       4752.000000\n",
       "11_n       1926.000000\n",
       "00_std       -0.001474\n",
       "10_std        0.003706\n",
       "01_std       -0.006955\n",
       "11_std       -0.001684\n",
       "dtype: float64"
      ]
     },
     "execution_count": 97,
     "metadata": {},
     "output_type": "execute_result"
    }
   ],
   "source": [
    "result_df.loc['less than 40',:]-result_df.loc['more than 40',:]"
   ]
  },
  {
   "cell_type": "code",
   "execution_count": 99,
   "metadata": {},
   "outputs": [
    {
     "name": "stdout",
     "output_type": "stream",
     "text": [
      "00\n",
      "56.12478429666862\n",
      "6.80566714095221e-14\n",
      "\n",
      "10\n",
      "1.5730805856367793\n",
      "0.20976020142754326\n",
      "\n",
      "01\n",
      "28.846967772327385\n",
      "7.83284305194698e-08\n",
      "\n",
      "11\n",
      "0.6066299085411639\n",
      "0.43605953813043363\n",
      "\n"
     ]
    }
   ],
   "source": [
    "for AU_comb in ['00','10', '01', '11']:\n",
    "    print(AU_comb)\n",
    "    combined_df = pd.DataFrame()\n",
    "    for i in range(len(frame_list)):\n",
    "        combined_df = combined_df.append(pd.crosstab(frame_list[i][frame_list[i].AU6and12_r_c == AU_comb].age, frame_list[i][frame_list[i].AU6and12_r_c == AU_comb].Happy))\n",
    "    combined_df\n",
    "    combined_df[\"row_totals\"] = combined_df[0] + combined_df[1]\n",
    "    combined_df.loc[\"col_totals\"] = combined_df.sum()\n",
    "    combined_df\n",
    "    observed = combined_df.iloc[0:-1,0:-1]   # Get table without totals for later use\n",
    "\n",
    "    expected =  np.outer(combined_df[\"row_totals\"][0:-1],\n",
    "                     combined_df.loc[\"col_totals\"][0:-1]) / combined_df.loc['col_totals', 'row_totals']\n",
    "\n",
    "    expected = pd.DataFrame(expected)\n",
    "    expected.columns = [0,1]\n",
    "    expected.index = combined_df.index[:-1]\n",
    "\n",
    "    if (expected>=5).sum().sum() == (combined_df.shape[0]-1) * (combined_df.shape[1]-1):\n",
    "        chi_squared_stat = (((observed-expected)**2)/expected).sum().sum()\n",
    "        p_value = 1 - stats.chi2.cdf(x=chi_squared_stat, df= (combined_df.shape[0]-2) * (combined_df.shape[1]-2))\n",
    "    else:\n",
    "        chi_squared_stat = np.nan\n",
    "        p_value = np.nan\n",
    "\n",
    "    print(chi_squared_stat)\n",
    "    print(p_value)\n",
    "    print()"
   ]
  },
  {
   "cell_type": "code",
   "execution_count": 100,
   "metadata": {},
   "outputs": [
    {
     "data": {
      "image/png": "[encoded data removed]",
      "text/plain": [
       "<Figure size 432x288 with 1 Axes>"
      ]
     },
     "metadata": {
      "needs_background": "light"
     },
     "output_type": "display_data"
    }
   ],
   "source": [
    "sns.lmplot(x='AU06_r', y='Happy', data=frame, hue = 'Age', logistic=True, scatter = False, hue_order = ['less than 40', 'more than 40'], legend=False, height=4, aspect=6/4)\n",
    "plt.legend(fontsize=13)\n",
    "plt.xlabel(\"AU6 intensity\", fontsize=14)\n",
    "plt.ylabel(\"Proportion of 'Happy' Labels\", fontsize=14)\n",
    "plt.title('P(Happy|AU6) for AffectNet-Automatic', fontsize=14)\n",
    "plt.tight_layout()\n",
    "plt.savefig('age_race_bias_plots/age_2_groups_graphs/AffectNet_Automatic_happy_2_AU6.pdf')\n",
    "plt.show()"
   ]
  },
  {
   "cell_type": "code",
   "execution_count": 101,
   "metadata": {},
   "outputs": [
    {
     "data": {
      "image/png": "[encoded data removed]",
      "text/plain": [
       "<Figure size 432x288 with 1 Axes>"
      ]
     },
     "metadata": {
      "needs_background": "light"
     },
     "output_type": "display_data"
    }
   ],
   "source": [
    "sns.lmplot(x='AU12_r', y='Happy', data=frame, hue = 'Age', logistic=True, scatter = False, hue_order = ['less than 40', 'more than 40'], legend=False, height=4, aspect=6/4)\n",
    "plt.legend(fontsize=13)\n",
    "plt.xlabel(\"AU12 intensity\", fontsize=14)\n",
    "plt.ylabel(\"Proportion of 'Happy' Labels\", fontsize=14)\n",
    "plt.title('P(Happy|AU12) for AffectNet-Automatic', fontsize=14)\n",
    "plt.tight_layout()\n",
    "plt.savefig('age_race_bias_plots/age_2_groups_graphs/AffectNet_Automatic_happy_2_AU12.pdf')\n",
    "plt.show()"
   ]
  },
  {
   "cell_type": "code",
   "execution_count": 102,
   "metadata": {},
   "outputs": [
    {
     "name": "stdout",
     "output_type": "stream",
     "text": [
      "                 Generalized Linear Model Regression Results                  \n",
      "==============================================================================\n",
      "Dep. Variable:                  Happy   No. Observations:                42284\n",
      "Model:                            GLM   Df Residuals:                    42280\n",
      "Model Family:                Binomial   Df Model:                            3\n",
      "Link Function:                  logit   Scale:                          1.0000\n",
      "Method:                          IRLS   Log-Likelihood:                -15510.\n",
      "Date:                Sun, 08 Aug 2021   Deviance:                       31020.\n",
      "Time:                        23:24:36   Pearson chi2:                 7.39e+04\n",
      "No. Iterations:                     6                                         \n",
      "Covariance Type:            nonrobust                                         \n",
      "=======================================================================================\n",
      "                          coef    std err          z      P>|z|      [0.025      0.975]\n",
      "---------------------------------------------------------------------------------------\n",
      "Intercept              -2.3912      0.024   -100.188      0.000      -2.438      -2.344\n",
      "Age[T.more than 40]    -0.2627      0.035     -7.562      0.000      -0.331      -0.195\n",
      "AU06_r                  0.1275      0.025      5.103      0.000       0.079       0.177\n",
      "AU12_r                  2.2206      0.026     84.340      0.000       2.169       2.272\n",
      "=======================================================================================\n"
     ]
    }
   ],
   "source": [
    "formula = 'Happy ~ AU06_r + AU12_r + Age'\n",
    "model = smf.glm(formula = formula, data=frame, family=sm.families.Binomial())\n",
    "result = model.fit()\n",
    "print(result.summary())"
   ]
  },
  {
   "cell_type": "markdown",
   "metadata": {},
   "source": [
    "# KDEF"
   ]
  },
  {
   "cell_type": "code",
   "execution_count": 116,
   "metadata": {},
   "outputs": [
    {
     "name": "stdout",
     "output_type": "stream",
     "text": [
      "(2926, 54)\n"
     ]
    },
    {
     "data": {
      "text/html": [
       "<div>\n",
       "<style scoped>\n",
       "    .dataframe tbody tr th:only-of-type {\n",
       "        vertical-align: middle;\n",
       "    }\n",
       "\n",
       "    .dataframe tbody tr th {\n",
       "        vertical-align: top;\n",
       "    }\n",
       "\n",
       "    .dataframe thead th {\n",
       "        text-align: right;\n",
       "    }\n",
       "</style>\n",
       "<table border=\"1\" class=\"dataframe\">\n",
       "  <thead>\n",
       "    <tr style=\"text-align: right;\">\n",
       "      <th></th>\n",
       "      <th>ImageName</th>\n",
       "      <th>face</th>\n",
       "      <th>confidence</th>\n",
       "      <th>AU01_c</th>\n",
       "      <th>AU02_c</th>\n",
       "      <th>AU04_c</th>\n",
       "      <th>AU05_c</th>\n",
       "      <th>AU06_c</th>\n",
       "      <th>AU07_c</th>\n",
       "      <th>AU09_c</th>\n",
       "      <th>...</th>\n",
       "      <th>AU10_r_c</th>\n",
       "      <th>AU12_r_c</th>\n",
       "      <th>AU15_r_c</th>\n",
       "      <th>AU17_r_c</th>\n",
       "      <th>AU20_r_c</th>\n",
       "      <th>AU25_r_c</th>\n",
       "      <th>AU26_r_c</th>\n",
       "      <th>Emotion</th>\n",
       "      <th>Happy</th>\n",
       "      <th>Gender</th>\n",
       "    </tr>\n",
       "  </thead>\n",
       "  <tbody>\n",
       "    <tr>\n",
       "      <th>0</th>\n",
       "      <td>AF01AFHL.jpg</td>\n",
       "      <td>0</td>\n",
       "      <td>0.475</td>\n",
       "      <td>1.0</td>\n",
       "      <td>1.0</td>\n",
       "      <td>0.0</td>\n",
       "      <td>0.0</td>\n",
       "      <td>1.0</td>\n",
       "      <td>1.0</td>\n",
       "      <td>0.0</td>\n",
       "      <td>...</td>\n",
       "      <td>0</td>\n",
       "      <td>0</td>\n",
       "      <td>1</td>\n",
       "      <td>0</td>\n",
       "      <td>0</td>\n",
       "      <td>0</td>\n",
       "      <td>0</td>\n",
       "      <td>AF</td>\n",
       "      <td>0</td>\n",
       "      <td>F</td>\n",
       "    </tr>\n",
       "    <tr>\n",
       "      <th>1</th>\n",
       "      <td>AF01AFHR.jpg</td>\n",
       "      <td>0</td>\n",
       "      <td>0.975</td>\n",
       "      <td>1.0</td>\n",
       "      <td>1.0</td>\n",
       "      <td>0.0</td>\n",
       "      <td>0.0</td>\n",
       "      <td>0.0</td>\n",
       "      <td>1.0</td>\n",
       "      <td>0.0</td>\n",
       "      <td>...</td>\n",
       "      <td>1</td>\n",
       "      <td>1</td>\n",
       "      <td>0</td>\n",
       "      <td>0</td>\n",
       "      <td>0</td>\n",
       "      <td>1</td>\n",
       "      <td>0</td>\n",
       "      <td>AF</td>\n",
       "      <td>0</td>\n",
       "      <td>F</td>\n",
       "    </tr>\n",
       "    <tr>\n",
       "      <th>2</th>\n",
       "      <td>AF01AFS.jpg</td>\n",
       "      <td>0</td>\n",
       "      <td>0.975</td>\n",
       "      <td>1.0</td>\n",
       "      <td>0.0</td>\n",
       "      <td>0.0</td>\n",
       "      <td>1.0</td>\n",
       "      <td>1.0</td>\n",
       "      <td>1.0</td>\n",
       "      <td>0.0</td>\n",
       "      <td>...</td>\n",
       "      <td>1</td>\n",
       "      <td>1</td>\n",
       "      <td>0</td>\n",
       "      <td>0</td>\n",
       "      <td>0</td>\n",
       "      <td>1</td>\n",
       "      <td>0</td>\n",
       "      <td>AF</td>\n",
       "      <td>0</td>\n",
       "      <td>F</td>\n",
       "    </tr>\n",
       "    <tr>\n",
       "      <th>3</th>\n",
       "      <td>AF01ANHL.jpg</td>\n",
       "      <td>0</td>\n",
       "      <td>0.425</td>\n",
       "      <td>1.0</td>\n",
       "      <td>1.0</td>\n",
       "      <td>0.0</td>\n",
       "      <td>1.0</td>\n",
       "      <td>1.0</td>\n",
       "      <td>1.0</td>\n",
       "      <td>0.0</td>\n",
       "      <td>...</td>\n",
       "      <td>0</td>\n",
       "      <td>0</td>\n",
       "      <td>0</td>\n",
       "      <td>0</td>\n",
       "      <td>0</td>\n",
       "      <td>0</td>\n",
       "      <td>0</td>\n",
       "      <td>AN</td>\n",
       "      <td>0</td>\n",
       "      <td>F</td>\n",
       "    </tr>\n",
       "    <tr>\n",
       "      <th>4</th>\n",
       "      <td>AF01ANHR.jpg</td>\n",
       "      <td>0</td>\n",
       "      <td>0.575</td>\n",
       "      <td>0.0</td>\n",
       "      <td>0.0</td>\n",
       "      <td>0.0</td>\n",
       "      <td>1.0</td>\n",
       "      <td>1.0</td>\n",
       "      <td>1.0</td>\n",
       "      <td>0.0</td>\n",
       "      <td>...</td>\n",
       "      <td>1</td>\n",
       "      <td>0</td>\n",
       "      <td>0</td>\n",
       "      <td>0</td>\n",
       "      <td>0</td>\n",
       "      <td>1</td>\n",
       "      <td>0</td>\n",
       "      <td>AN</td>\n",
       "      <td>0</td>\n",
       "      <td>F</td>\n",
       "    </tr>\n",
       "  </tbody>\n",
       "</table>\n",
       "<p>5 rows × 54 columns</p>\n",
       "</div>"
      ],
      "text/plain": [
       "      ImageName  face  confidence  AU01_c  AU02_c  AU04_c  AU05_c  AU06_c  \\\n",
       "0  AF01AFHL.jpg     0       0.475     1.0     1.0     0.0     0.0     1.0   \n",
       "1  AF01AFHR.jpg     0       0.975     1.0     1.0     0.0     0.0     0.0   \n",
       "2   AF01AFS.jpg     0       0.975     1.0     0.0     0.0     1.0     1.0   \n",
       "3  AF01ANHL.jpg     0       0.425     1.0     1.0     0.0     1.0     1.0   \n",
       "4  AF01ANHR.jpg     0       0.575     0.0     0.0     0.0     1.0     1.0   \n",
       "\n",
       "   AU07_c  AU09_c  ...  AU10_r_c  AU12_r_c  AU15_r_c  AU17_r_c  AU20_r_c  \\\n",
       "0     1.0     0.0  ...         0         0         1         0         0   \n",
       "1     1.0     0.0  ...         1         1         0         0         0   \n",
       "2     1.0     0.0  ...         1         1         0         0         0   \n",
       "3     1.0     0.0  ...         0         0         0         0         0   \n",
       "4     1.0     0.0  ...         1         0         0         0         0   \n",
       "\n",
       "   AU25_r_c  AU26_r_c  Emotion  Happy  Gender  \n",
       "0         0         0       AF      0       F  \n",
       "1         1         0       AF      0       F  \n",
       "2         1         0       AF      0       F  \n",
       "3         0         0       AN      0       F  \n",
       "4         1         0       AN      0       F  \n",
       "\n",
       "[5 rows x 54 columns]"
      ]
     },
     "execution_count": 116,
     "metadata": {},
     "output_type": "execute_result"
    }
   ],
   "source": [
    "frame = pd.read_csv('KDEF_OpenFace_result_with_Emotion_and_Gender.csv')\n",
    "print(frame.shape)\n",
    "frame.head()"
   ]
  },
  {
   "cell_type": "code",
   "execution_count": 117,
   "metadata": {},
   "outputs": [
    {
     "data": {
      "text/plain": [
       "(974, 54)"
      ]
     },
     "execution_count": 117,
     "metadata": {},
     "output_type": "execute_result"
    }
   ],
   "source": [
    "frame = frame[frame.ImageName.apply(lambda x: x[6] == 'S')]\n",
    "frame.shape"
   ]
  },
  {
   "cell_type": "code",
   "execution_count": 118,
   "metadata": {
    "scrolled": false
   },
   "outputs": [
    {
     "name": "stdout",
     "output_type": "stream",
     "text": [
      "['ImageName', 'face', 'confidence', 'AU01_c', 'AU02_c', 'AU04_c', 'AU05_c', 'AU06_c', 'AU07_c', 'AU09_c', 'AU10_c', 'AU12_c', 'AU14_c', 'AU15_c', 'AU17_c', 'AU20_c', 'AU23_c', 'AU25_c', 'AU26_c', 'AU28_c', 'AU45_c', 'AU01_r', 'AU02_r', 'AU04_r', 'AU05_r', 'AU06_r', 'AU07_r', 'AU09_r', 'AU10_r', 'AU12_r', 'AU14_r', 'AU15_r', 'AU17_r', 'AU20_r', 'AU23_r', 'AU25_r', 'AU26_r', 'AU45_r', 'AU01_r_c', 'AU02_r_c', 'AU04_r_c', 'AU05_r_c', 'AU06_r_c', 'AU09_r_c', 'AU10_r_c', 'AU12_r_c', 'AU15_r_c', 'AU17_r_c', 'AU20_r_c', 'AU25_r_c', 'AU26_r_c', 'Emotion', 'Happy', 'Gender']\n"
     ]
    }
   ],
   "source": [
    "print(list(frame.columns))"
   ]
  },
  {
   "cell_type": "code",
   "execution_count": 119,
   "metadata": {},
   "outputs": [],
   "source": [
    "frame = frame.rename(columns={'Gender': 'gender_preds'})"
   ]
  },
  {
   "cell_type": "code",
   "execution_count": 120,
   "metadata": {
    "scrolled": true
   },
   "outputs": [
    {
     "data": {
      "text/plain": [
       "(974, 54)"
      ]
     },
     "execution_count": 120,
     "metadata": {},
     "output_type": "execute_result"
    }
   ],
   "source": [
    "frame = frame.dropna()\n",
    "frame.shape"
   ]
  },
  {
   "cell_type": "markdown",
   "metadata": {},
   "source": [
    "KDEF does not have age information."
   ]
  },
  {
   "cell_type": "markdown",
   "metadata": {},
   "source": [
    "# Chicago Face"
   ]
  },
  {
   "cell_type": "code",
   "execution_count": 121,
   "metadata": {},
   "outputs": [
    {
     "name": "stdout",
     "output_type": "stream",
     "text": [
      "(1207, 56)\n"
     ]
    },
    {
     "data": {
      "text/html": [
       "<div>\n",
       "<style scoped>\n",
       "    .dataframe tbody tr th:only-of-type {\n",
       "        vertical-align: middle;\n",
       "    }\n",
       "\n",
       "    .dataframe tbody tr th {\n",
       "        vertical-align: top;\n",
       "    }\n",
       "\n",
       "    .dataframe thead th {\n",
       "        text-align: right;\n",
       "    }\n",
       "</style>\n",
       "<table border=\"1\" class=\"dataframe\">\n",
       "  <thead>\n",
       "    <tr style=\"text-align: right;\">\n",
       "      <th></th>\n",
       "      <th>ImageName</th>\n",
       "      <th>Gender</th>\n",
       "      <th>Race</th>\n",
       "      <th>age_preds</th>\n",
       "      <th>age_scores</th>\n",
       "      <th>Expression</th>\n",
       "      <th>face</th>\n",
       "      <th>confidence</th>\n",
       "      <th>AU01_r</th>\n",
       "      <th>AU02_r</th>\n",
       "      <th>...</th>\n",
       "      <th>AU05_r_c</th>\n",
       "      <th>AU06_r_c</th>\n",
       "      <th>AU09_r_c</th>\n",
       "      <th>AU10_r_c</th>\n",
       "      <th>AU12_r_c</th>\n",
       "      <th>AU15_r_c</th>\n",
       "      <th>AU17_r_c</th>\n",
       "      <th>AU20_r_c</th>\n",
       "      <th>AU25_r_c</th>\n",
       "      <th>AU26_r_c</th>\n",
       "    </tr>\n",
       "  </thead>\n",
       "  <tbody>\n",
       "    <tr>\n",
       "      <th>0</th>\n",
       "      <td>CFD-WM-239-128-N.jpg</td>\n",
       "      <td>M</td>\n",
       "      <td>W</td>\n",
       "      <td>20-29</td>\n",
       "      <td>[0.00654973 0.1297859  0.2645277  0.3455049  0...</td>\n",
       "      <td>Neutral</td>\n",
       "      <td>0</td>\n",
       "      <td>0.975</td>\n",
       "      <td>0.00</td>\n",
       "      <td>0.00</td>\n",
       "      <td>...</td>\n",
       "      <td>0</td>\n",
       "      <td>0</td>\n",
       "      <td>0</td>\n",
       "      <td>1</td>\n",
       "      <td>0</td>\n",
       "      <td>0</td>\n",
       "      <td>0</td>\n",
       "      <td>0</td>\n",
       "      <td>1</td>\n",
       "      <td>0</td>\n",
       "    </tr>\n",
       "    <tr>\n",
       "      <th>1</th>\n",
       "      <td>CFD-BM-219-141-N.jpg</td>\n",
       "      <td>M</td>\n",
       "      <td>B</td>\n",
       "      <td>10-19</td>\n",
       "      <td>[3.3371706e-04 6.9808856e-02 4.1271898e-01 4.0...</td>\n",
       "      <td>Neutral</td>\n",
       "      <td>0</td>\n",
       "      <td>0.975</td>\n",
       "      <td>1.69</td>\n",
       "      <td>1.28</td>\n",
       "      <td>...</td>\n",
       "      <td>0</td>\n",
       "      <td>0</td>\n",
       "      <td>0</td>\n",
       "      <td>0</td>\n",
       "      <td>0</td>\n",
       "      <td>1</td>\n",
       "      <td>0</td>\n",
       "      <td>0</td>\n",
       "      <td>1</td>\n",
       "      <td>0</td>\n",
       "    </tr>\n",
       "    <tr>\n",
       "      <th>2</th>\n",
       "      <td>CFD-WF-034-016-A.jpg</td>\n",
       "      <td>F</td>\n",
       "      <td>W</td>\n",
       "      <td>10-19</td>\n",
       "      <td>[6.0925126e-04 1.1392238e-01 5.5542862e-01 2.6...</td>\n",
       "      <td>Angry</td>\n",
       "      <td>0</td>\n",
       "      <td>0.975</td>\n",
       "      <td>1.30</td>\n",
       "      <td>0.02</td>\n",
       "      <td>...</td>\n",
       "      <td>0</td>\n",
       "      <td>0</td>\n",
       "      <td>0</td>\n",
       "      <td>1</td>\n",
       "      <td>0</td>\n",
       "      <td>0</td>\n",
       "      <td>0</td>\n",
       "      <td>0</td>\n",
       "      <td>0</td>\n",
       "      <td>0</td>\n",
       "    </tr>\n",
       "    <tr>\n",
       "      <th>3</th>\n",
       "      <td>CFD-BM-030-065-F.jpg</td>\n",
       "      <td>M</td>\n",
       "      <td>B</td>\n",
       "      <td>3-9</td>\n",
       "      <td>[0.01531033 0.32719353 0.21216927 0.20949404 0...</td>\n",
       "      <td>Fear</td>\n",
       "      <td>0</td>\n",
       "      <td>0.975</td>\n",
       "      <td>2.90</td>\n",
       "      <td>4.65</td>\n",
       "      <td>...</td>\n",
       "      <td>0</td>\n",
       "      <td>0</td>\n",
       "      <td>0</td>\n",
       "      <td>1</td>\n",
       "      <td>1</td>\n",
       "      <td>0</td>\n",
       "      <td>0</td>\n",
       "      <td>0</td>\n",
       "      <td>1</td>\n",
       "      <td>0</td>\n",
       "    </tr>\n",
       "    <tr>\n",
       "      <th>4</th>\n",
       "      <td>CFD-LM-237-264-N.jpg</td>\n",
       "      <td>M</td>\n",
       "      <td>L</td>\n",
       "      <td>40-49</td>\n",
       "      <td>[0.00132091 0.04711869 0.14649853 0.13941625 0...</td>\n",
       "      <td>Neutral</td>\n",
       "      <td>0</td>\n",
       "      <td>0.975</td>\n",
       "      <td>1.01</td>\n",
       "      <td>0.21</td>\n",
       "      <td>...</td>\n",
       "      <td>0</td>\n",
       "      <td>0</td>\n",
       "      <td>0</td>\n",
       "      <td>1</td>\n",
       "      <td>0</td>\n",
       "      <td>0</td>\n",
       "      <td>0</td>\n",
       "      <td>0</td>\n",
       "      <td>0</td>\n",
       "      <td>0</td>\n",
       "    </tr>\n",
       "  </tbody>\n",
       "</table>\n",
       "<p>5 rows × 56 columns</p>\n",
       "</div>"
      ],
      "text/plain": [
       "              ImageName Gender Race age_preds  \\\n",
       "0  CFD-WM-239-128-N.jpg      M    W     20-29   \n",
       "1  CFD-BM-219-141-N.jpg      M    B     10-19   \n",
       "2  CFD-WF-034-016-A.jpg      F    W     10-19   \n",
       "3  CFD-BM-030-065-F.jpg      M    B       3-9   \n",
       "4  CFD-LM-237-264-N.jpg      M    L     40-49   \n",
       "\n",
       "                                          age_scores Expression  face  \\\n",
       "0  [0.00654973 0.1297859  0.2645277  0.3455049  0...    Neutral     0   \n",
       "1  [3.3371706e-04 6.9808856e-02 4.1271898e-01 4.0...    Neutral     0   \n",
       "2  [6.0925126e-04 1.1392238e-01 5.5542862e-01 2.6...      Angry     0   \n",
       "3  [0.01531033 0.32719353 0.21216927 0.20949404 0...       Fear     0   \n",
       "4  [0.00132091 0.04711869 0.14649853 0.13941625 0...    Neutral     0   \n",
       "\n",
       "   confidence  AU01_r  AU02_r  ...  AU05_r_c  AU06_r_c  AU09_r_c  AU10_r_c  \\\n",
       "0       0.975    0.00    0.00  ...         0         0         0         1   \n",
       "1       0.975    1.69    1.28  ...         0         0         0         0   \n",
       "2       0.975    1.30    0.02  ...         0         0         0         1   \n",
       "3       0.975    2.90    4.65  ...         0         0         0         1   \n",
       "4       0.975    1.01    0.21  ...         0         0         0         1   \n",
       "\n",
       "   AU12_r_c  AU15_r_c  AU17_r_c  AU20_r_c  AU25_r_c  AU26_r_c  \n",
       "0         0         0         0         0         1         0  \n",
       "1         0         1         0         0         1         0  \n",
       "2         0         0         0         0         0         0  \n",
       "3         1         0         0         0         1         0  \n",
       "4         0         0         0         0         0         0  \n",
       "\n",
       "[5 rows x 56 columns]"
      ]
     },
     "execution_count": 121,
     "metadata": {},
     "output_type": "execute_result"
    }
   ],
   "source": [
    "frame = pd.read_csv('ChicagoFace_with_AU_cleanedup_with_age.csv')\n",
    "print(frame.shape)\n",
    "frame.head()"
   ]
  },
  {
   "cell_type": "code",
   "execution_count": 122,
   "metadata": {},
   "outputs": [],
   "source": [
    "frame['Angry'] = (frame['Expression'] =='Angry').astype(int)\n",
    "frame['Fear'] = (frame['Expression'] == 'Fear').astype(int)\n",
    "frame['Happy'] = (frame['Expression'] =='Happy').astype(int)\n",
    "frame['Neutral'] = (frame['Expression'] == 'Neutral').astype(int)"
   ]
  },
  {
   "cell_type": "code",
   "execution_count": 123,
   "metadata": {},
   "outputs": [
    {
     "data": {
      "text/plain": [
       "00    650\n",
       "11    345\n",
       "01    158\n",
       "10     54\n",
       "Name: AU6and12_c, dtype: int64"
      ]
     },
     "execution_count": 123,
     "metadata": {},
     "output_type": "execute_result"
    }
   ],
   "source": [
    "frame['AU6and12_c'] = frame.AU06_c.apply(int).apply(str) + frame.AU12_c.apply(int).apply(str)\n",
    "frame.AU6and12_c.value_counts()"
   ]
  },
  {
   "cell_type": "code",
   "execution_count": 124,
   "metadata": {},
   "outputs": [
    {
     "data": {
      "text/plain": [
       "00    784\n",
       "11    274\n",
       "01    136\n",
       "10     13\n",
       "Name: AU6and12_r_c, dtype: int64"
      ]
     },
     "execution_count": 124,
     "metadata": {},
     "output_type": "execute_result"
    }
   ],
   "source": [
    "frame['AU6and12_r_c'] = frame.AU06_r_c.apply(str) + frame.AU12_r_c.apply(str)\n",
    "frame.AU6and12_r_c.value_counts()"
   ]
  },
  {
   "cell_type": "code",
   "execution_count": 125,
   "metadata": {},
   "outputs": [
    {
     "data": {
      "text/plain": [
       "20-29           676\n",
       "10-19           422\n",
       "3-9              69\n",
       "40-49            19\n",
       "30-39            14\n",
       "60-69             6\n",
       "more than 70      1\n",
       "Name: age_preds, dtype: int64"
      ]
     },
     "execution_count": 125,
     "metadata": {},
     "output_type": "execute_result"
    }
   ],
   "source": [
    "frame.age_preds.value_counts()"
   ]
  },
  {
   "cell_type": "code",
   "execution_count": 126,
   "metadata": {},
   "outputs": [
    {
     "data": {
      "text/plain": [
       "1.0    1181\n",
       "2.0      26\n",
       "Name: age, dtype: int64"
      ]
     },
     "execution_count": 126,
     "metadata": {},
     "output_type": "execute_result"
    }
   ],
   "source": [
    "# age label\n",
    "frame.loc[frame['age_preds'] == '0-2', 'age'] = 1\n",
    "frame.loc[frame['age_preds'] == '3-9', 'age'] = 1\n",
    "frame.loc[frame['age_preds'] == '10-19', 'age'] = 1\n",
    "frame.loc[frame['age_preds'] == '20-29', 'age'] = 1\n",
    "frame.loc[frame['age_preds'] == '30-39', 'age'] = 1\n",
    "frame.loc[frame['age_preds'] == '40-49', 'age'] = 2\n",
    "frame.loc[frame['age_preds'] == '50-59', 'age'] = 2\n",
    "frame.loc[frame['age_preds'] == '60-69', 'age'] = 2\n",
    "frame.loc[frame['age_preds'] == 'more than 70', 'age'] = 2\n",
    "frame.age.value_counts()"
   ]
  },
  {
   "cell_type": "code",
   "execution_count": 127,
   "metadata": {},
   "outputs": [
    {
     "data": {
      "text/plain": [
       "less than 40    1181\n",
       "more than 40      26\n",
       "Name: Age, dtype: int64"
      ]
     },
     "execution_count": 127,
     "metadata": {},
     "output_type": "execute_result"
    }
   ],
   "source": [
    "frame['Age'] = frame['age'].apply(map_age)\n",
    "frame.Age.value_counts()"
   ]
  },
  {
   "cell_type": "markdown",
   "metadata": {},
   "source": [
    "CFD does not have enough data for age analysis."
   ]
  },
  {
   "cell_type": "code",
   "execution_count": null,
   "metadata": {},
   "outputs": [],
   "source": []
  }
 ],
 "metadata": {
  "kernelspec": {
   "display_name": "Python 3",
   "language": "python",
   "name": "python3"
  },
  "language_info": {
   "codemirror_mode": {
    "name": "ipython",
    "version": 3
   },
   "file_extension": ".py",
   "mimetype": "text/x-python",
   "name": "python",
   "nbconvert_exporter": "python",
   "pygments_lexer": "ipython3",
   "version": "3.8.5"
  }
 },
 "nbformat": 4,
 "nbformat_minor": 2
}
